{
 "cells": [
  {
   "cell_type": "markdown",
   "metadata": {},
   "source": [
    "# Анализ выручки интернет-магазина\n",
    "\n",
    "Цель: приоритизировать гипотезы, запустить A/B-тест и проанализиовать результаты. "
   ]
  },
  {
   "cell_type": "markdown",
   "metadata": {},
   "source": [
    "## Подготовка данных."
   ]
  },
  {
   "cell_type": "code",
   "execution_count": 1,
   "metadata": {},
   "outputs": [],
   "source": [
    "import pandas as pd\n",
    "import datetime as dt\n",
    "import numpy as np\n",
    "import matplotlib.pyplot as plt\n",
    "from pandas.plotting import register_matplotlib_converters\n",
    "import scipy.stats as stats\n",
    "import warnings\n",
    "pd.set_option(\"max_colwidth\", 150)"
   ]
  },
  {
   "cell_type": "code",
   "execution_count": 2,
   "metadata": {},
   "outputs": [],
   "source": [
    "hypothesis = pd.read_csv('/datasets/hypothesis.csv', sep=',')\n",
    "visitors = pd.read_csv('/datasets/visitors.csv', sep=',') \n",
    "orders = pd.read_csv('/datasets/orders.csv', sep=',')\n"
   ]
  },
  {
   "cell_type": "code",
   "execution_count": 3,
   "metadata": {
    "scrolled": true
   },
   "outputs": [
    {
     "name": "stdout",
     "output_type": "stream",
     "text": [
      "<class 'pandas.core.frame.DataFrame'>\n",
      "RangeIndex: 9 entries, 0 to 8\n",
      "Data columns (total 5 columns):\n",
      "Hypothesis    9 non-null object\n",
      "Reach         9 non-null int64\n",
      "Impact        9 non-null int64\n",
      "Confidence    9 non-null int64\n",
      "Efforts       9 non-null int64\n",
      "dtypes: int64(4), object(1)\n",
      "memory usage: 488.0+ bytes\n",
      "<class 'pandas.core.frame.DataFrame'>\n",
      "RangeIndex: 62 entries, 0 to 61\n",
      "Data columns (total 3 columns):\n",
      "date        62 non-null object\n",
      "group       62 non-null object\n",
      "visitors    62 non-null int64\n",
      "dtypes: int64(1), object(2)\n",
      "memory usage: 1.6+ KB\n",
      "<class 'pandas.core.frame.DataFrame'>\n",
      "RangeIndex: 1197 entries, 0 to 1196\n",
      "Data columns (total 5 columns):\n",
      "transactionId    1197 non-null int64\n",
      "visitorId        1197 non-null int64\n",
      "date             1197 non-null object\n",
      "revenue          1197 non-null int64\n",
      "group            1197 non-null object\n",
      "dtypes: int64(3), object(2)\n",
      "memory usage: 46.9+ KB\n"
     ]
    }
   ],
   "source": [
    "hypothesis.info()\n",
    "visitors.info()\n",
    "orders.info()"
   ]
  },
  {
   "cell_type": "markdown",
   "metadata": {},
   "source": [
    "Пропусков нет. Переименуем названия колонок в таблице orders. И колонки с датами из таблиц с заказами и посетителями приведем к формату даты. Все названия колонок приведем к нижнему регистру."
   ]
  },
  {
   "cell_type": "code",
   "execution_count": 4,
   "metadata": {},
   "outputs": [],
   "source": [
    "hypothesis.columns = hypothesis.columns.str.lower()\n",
    "visitors.columns = visitors.columns.str.lower()\n",
    "orders.columns = orders.columns.str.lower()"
   ]
  },
  {
   "cell_type": "code",
   "execution_count": 5,
   "metadata": {},
   "outputs": [],
   "source": [
    "orders = orders.rename(columns={'transactionid': 'transaction_id', 'visitorid': 'visitor_id'})"
   ]
  },
  {
   "cell_type": "code",
   "execution_count": 6,
   "metadata": {},
   "outputs": [],
   "source": [
    "orders['date'] = pd.to_datetime(orders['date'])\n",
    "visitors['date'] = pd.to_datetime(visitors['date'])\n"
   ]
  },
  {
   "cell_type": "code",
   "execution_count": 7,
   "metadata": {},
   "outputs": [
    {
     "data": {
      "text/html": [
       "<div>\n",
       "<style scoped>\n",
       "    .dataframe tbody tr th:only-of-type {\n",
       "        vertical-align: middle;\n",
       "    }\n",
       "\n",
       "    .dataframe tbody tr th {\n",
       "        vertical-align: top;\n",
       "    }\n",
       "\n",
       "    .dataframe thead th {\n",
       "        text-align: right;\n",
       "    }\n",
       "</style>\n",
       "<table border=\"1\" class=\"dataframe\">\n",
       "  <thead>\n",
       "    <tr style=\"text-align: right;\">\n",
       "      <th></th>\n",
       "      <th>hypothesis</th>\n",
       "      <th>reach</th>\n",
       "      <th>impact</th>\n",
       "      <th>confidence</th>\n",
       "      <th>efforts</th>\n",
       "    </tr>\n",
       "  </thead>\n",
       "  <tbody>\n",
       "    <tr>\n",
       "      <td>5</td>\n",
       "      <td>Добавить страницу отзывов клиентов о магазине, что позволит увеличить количество заказов</td>\n",
       "      <td>3</td>\n",
       "      <td>2</td>\n",
       "      <td>2</td>\n",
       "      <td>3</td>\n",
       "    </tr>\n",
       "  </tbody>\n",
       "</table>\n",
       "</div>"
      ],
      "text/plain": [
       "                                                                                 hypothesis  \\\n",
       "5  Добавить страницу отзывов клиентов о магазине, что позволит увеличить количество заказов   \n",
       "\n",
       "   reach  impact  confidence  efforts  \n",
       "5      3       2           2        3  "
      ]
     },
     "execution_count": 7,
     "metadata": {},
     "output_type": "execute_result"
    }
   ],
   "source": [
    "hypothesis.sample()"
   ]
  },
  {
   "cell_type": "markdown",
   "metadata": {},
   "source": [
    "## Приоритизация гипотез.\n",
    "\n",
    "У нас есть 9 гипотез. С помощью ICE и RICE выполним приоритезацию. \n"
   ]
  },
  {
   "cell_type": "code",
   "execution_count": 8,
   "metadata": {},
   "outputs": [
    {
     "name": "stdout",
     "output_type": "stream",
     "text": [
      "                                                                                                     hypothesis  \\\n",
      "8                                                       Запустить акцию, дающую скидку на товар в день рождения   \n",
      "0            Добавить два новых канала привлечения трафика, что позволит привлекать на 30% больше пользователей   \n",
      "7              Добавить форму подписки на все основные страницы, чтобы собрать базу клиентов для email-рассылок   \n",
      "6          Показать на главной странице баннеры с актуальными акциями и распродажами, чтобы увеличить конверсию   \n",
      "2  Добавить блоки рекомендаций товаров на сайт интернет магазина, чтобы повысить конверсию и средний чек заказа   \n",
      "1                                     Запустить собственную службу доставки, что сократит срок доставки заказов   \n",
      "5                      Добавить страницу отзывов клиентов о магазине, что позволит увеличить количество заказов   \n",
      "3           Изменить структура категорий, что увеличит конверсию, т.к. пользователи быстрее найдут нужный товар   \n",
      "4                              Изменить цвет фона главной страницы, чтобы увеличить вовлеченность пользователей   \n",
      "\n",
      "      ICE  \n",
      "8  16.200  \n",
      "0  13.333  \n",
      "7  11.200  \n",
      "6   8.000  \n",
      "2   7.000  \n",
      "1   2.000  \n",
      "5   1.333  \n",
      "3   1.125  \n",
      "4   1.000  \n"
     ]
    }
   ],
   "source": [
    "#Считаем ICE. Сортируем по убыванию и выводим на экран\n",
    "hypothesis['ICE'] = (hypothesis['impact'] * hypothesis['confidence'] /hypothesis['efforts']).round(3)\n",
    "\n",
    "print(hypothesis[['hypothesis','ICE']].sort_values(by='ICE', ascending=False))"
   ]
  },
  {
   "cell_type": "markdown",
   "metadata": {},
   "source": [
    "Наиболее перспективные гипотезы: 8, 0, 7. "
   ]
  },
  {
   "cell_type": "code",
   "execution_count": 9,
   "metadata": {},
   "outputs": [
    {
     "name": "stdout",
     "output_type": "stream",
     "text": [
      "                                                                                                     hypothesis  \\\n",
      "7              Добавить форму подписки на все основные страницы, чтобы собрать базу клиентов для email-рассылок   \n",
      "2  Добавить блоки рекомендаций товаров на сайт интернет магазина, чтобы повысить конверсию и средний чек заказа   \n",
      "0            Добавить два новых канала привлечения трафика, что позволит привлекать на 30% больше пользователей   \n",
      "6          Показать на главной странице баннеры с актуальными акциями и распродажами, чтобы увеличить конверсию   \n",
      "8                                                       Запустить акцию, дающую скидку на товар в день рождения   \n",
      "3           Изменить структура категорий, что увеличит конверсию, т.к. пользователи быстрее найдут нужный товар   \n",
      "1                                     Запустить собственную службу доставки, что сократит срок доставки заказов   \n",
      "5                      Добавить страницу отзывов клиентов о магазине, что позволит увеличить количество заказов   \n",
      "4                              Изменить цвет фона главной страницы, чтобы увеличить вовлеченность пользователей   \n",
      "\n",
      "    RICE  \n",
      "7  112.0  \n",
      "2   56.0  \n",
      "0   40.0  \n",
      "6   40.0  \n",
      "8   16.2  \n",
      "3    9.0  \n",
      "1    4.0  \n",
      "5    4.0  \n",
      "4    3.0  \n"
     ]
    }
   ],
   "source": [
    "#Считаем RICE. Сортируем по убыванию и выводим на экран\n",
    "hypothesis['RICE'] = (hypothesis['reach'] * hypothesis['impact'] * hypothesis['confidence']) /hypothesis['efforts']\n",
    "\n",
    "print(hypothesis[['hypothesis','RICE']].sort_values(by='RICE', ascending=False)) "
   ]
  },
  {
   "cell_type": "markdown",
   "metadata": {},
   "source": [
    "А тут тройка победителей: 7, 2, 0. Причем 0 и 6 гипотезы получили одинаковый результат."
   ]
  },
  {
   "cell_type": "code",
   "execution_count": 10,
   "metadata": {},
   "outputs": [
    {
     "data": {
      "text/html": [
       "<div>\n",
       "<style scoped>\n",
       "    .dataframe tbody tr th:only-of-type {\n",
       "        vertical-align: middle;\n",
       "    }\n",
       "\n",
       "    .dataframe tbody tr th {\n",
       "        vertical-align: top;\n",
       "    }\n",
       "\n",
       "    .dataframe thead th {\n",
       "        text-align: right;\n",
       "    }\n",
       "</style>\n",
       "<table border=\"1\" class=\"dataframe\">\n",
       "  <thead>\n",
       "    <tr style=\"text-align: right;\">\n",
       "      <th></th>\n",
       "      <th>hypothesis</th>\n",
       "      <th>reach</th>\n",
       "      <th>impact</th>\n",
       "      <th>confidence</th>\n",
       "      <th>efforts</th>\n",
       "      <th>ICE</th>\n",
       "      <th>RICE</th>\n",
       "    </tr>\n",
       "  </thead>\n",
       "  <tbody>\n",
       "    <tr>\n",
       "      <td>0</td>\n",
       "      <td>Добавить два новых канала привлечения трафика, что позволит привлекать на 30% больше пользователей</td>\n",
       "      <td>3</td>\n",
       "      <td>10</td>\n",
       "      <td>8</td>\n",
       "      <td>6</td>\n",
       "      <td>13.333</td>\n",
       "      <td>40.0</td>\n",
       "    </tr>\n",
       "    <tr>\n",
       "      <td>1</td>\n",
       "      <td>Запустить собственную службу доставки, что сократит срок доставки заказов</td>\n",
       "      <td>2</td>\n",
       "      <td>5</td>\n",
       "      <td>4</td>\n",
       "      <td>10</td>\n",
       "      <td>2.000</td>\n",
       "      <td>4.0</td>\n",
       "    </tr>\n",
       "    <tr>\n",
       "      <td>2</td>\n",
       "      <td>Добавить блоки рекомендаций товаров на сайт интернет магазина, чтобы повысить конверсию и средний чек заказа</td>\n",
       "      <td>8</td>\n",
       "      <td>3</td>\n",
       "      <td>7</td>\n",
       "      <td>3</td>\n",
       "      <td>7.000</td>\n",
       "      <td>56.0</td>\n",
       "    </tr>\n",
       "    <tr>\n",
       "      <td>3</td>\n",
       "      <td>Изменить структура категорий, что увеличит конверсию, т.к. пользователи быстрее найдут нужный товар</td>\n",
       "      <td>8</td>\n",
       "      <td>3</td>\n",
       "      <td>3</td>\n",
       "      <td>8</td>\n",
       "      <td>1.125</td>\n",
       "      <td>9.0</td>\n",
       "    </tr>\n",
       "    <tr>\n",
       "      <td>4</td>\n",
       "      <td>Изменить цвет фона главной страницы, чтобы увеличить вовлеченность пользователей</td>\n",
       "      <td>3</td>\n",
       "      <td>1</td>\n",
       "      <td>1</td>\n",
       "      <td>1</td>\n",
       "      <td>1.000</td>\n",
       "      <td>3.0</td>\n",
       "    </tr>\n",
       "    <tr>\n",
       "      <td>5</td>\n",
       "      <td>Добавить страницу отзывов клиентов о магазине, что позволит увеличить количество заказов</td>\n",
       "      <td>3</td>\n",
       "      <td>2</td>\n",
       "      <td>2</td>\n",
       "      <td>3</td>\n",
       "      <td>1.333</td>\n",
       "      <td>4.0</td>\n",
       "    </tr>\n",
       "    <tr>\n",
       "      <td>6</td>\n",
       "      <td>Показать на главной странице баннеры с актуальными акциями и распродажами, чтобы увеличить конверсию</td>\n",
       "      <td>5</td>\n",
       "      <td>3</td>\n",
       "      <td>8</td>\n",
       "      <td>3</td>\n",
       "      <td>8.000</td>\n",
       "      <td>40.0</td>\n",
       "    </tr>\n",
       "    <tr>\n",
       "      <td>7</td>\n",
       "      <td>Добавить форму подписки на все основные страницы, чтобы собрать базу клиентов для email-рассылок</td>\n",
       "      <td>10</td>\n",
       "      <td>7</td>\n",
       "      <td>8</td>\n",
       "      <td>5</td>\n",
       "      <td>11.200</td>\n",
       "      <td>112.0</td>\n",
       "    </tr>\n",
       "    <tr>\n",
       "      <td>8</td>\n",
       "      <td>Запустить акцию, дающую скидку на товар в день рождения</td>\n",
       "      <td>1</td>\n",
       "      <td>9</td>\n",
       "      <td>9</td>\n",
       "      <td>5</td>\n",
       "      <td>16.200</td>\n",
       "      <td>16.2</td>\n",
       "    </tr>\n",
       "  </tbody>\n",
       "</table>\n",
       "</div>"
      ],
      "text/plain": [
       "                                                                                                     hypothesis  \\\n",
       "0            Добавить два новых канала привлечения трафика, что позволит привлекать на 30% больше пользователей   \n",
       "1                                     Запустить собственную службу доставки, что сократит срок доставки заказов   \n",
       "2  Добавить блоки рекомендаций товаров на сайт интернет магазина, чтобы повысить конверсию и средний чек заказа   \n",
       "3           Изменить структура категорий, что увеличит конверсию, т.к. пользователи быстрее найдут нужный товар   \n",
       "4                              Изменить цвет фона главной страницы, чтобы увеличить вовлеченность пользователей   \n",
       "5                      Добавить страницу отзывов клиентов о магазине, что позволит увеличить количество заказов   \n",
       "6          Показать на главной странице баннеры с актуальными акциями и распродажами, чтобы увеличить конверсию   \n",
       "7              Добавить форму подписки на все основные страницы, чтобы собрать базу клиентов для email-рассылок   \n",
       "8                                                       Запустить акцию, дающую скидку на товар в день рождения   \n",
       "\n",
       "   reach  impact  confidence  efforts     ICE   RICE  \n",
       "0      3      10           8        6  13.333   40.0  \n",
       "1      2       5           4       10   2.000    4.0  \n",
       "2      8       3           7        3   7.000   56.0  \n",
       "3      8       3           3        8   1.125    9.0  \n",
       "4      3       1           1        1   1.000    3.0  \n",
       "5      3       2           2        3   1.333    4.0  \n",
       "6      5       3           8        3   8.000   40.0  \n",
       "7     10       7           8        5  11.200  112.0  \n",
       "8      1       9           9        5  16.200   16.2  "
      ]
     },
     "execution_count": 10,
     "metadata": {},
     "output_type": "execute_result"
    }
   ],
   "source": [
    "hypothesis\n"
   ]
  },
  {
   "cell_type": "markdown",
   "metadata": {},
   "source": [
    "У гипотезы номер 7 самый высокий параметр Reach. В связи с этим у гипотезы под номером 7 более высокий результат в RICE. По причине низкого охвата гипотеза под номером 0 опустилась на третье место, а гипотеза 8 пропала из числа перспективных в RICE."
   ]
  },
  {
   "cell_type": "markdown",
   "metadata": {},
   "source": [
    "## Анализ A/B-теста."
   ]
  },
  {
   "cell_type": "code",
   "execution_count": 11,
   "metadata": {},
   "outputs": [
    {
     "data": {
      "text/html": [
       "<div>\n",
       "<style scoped>\n",
       "    .dataframe tbody tr th:only-of-type {\n",
       "        vertical-align: middle;\n",
       "    }\n",
       "\n",
       "    .dataframe tbody tr th {\n",
       "        vertical-align: top;\n",
       "    }\n",
       "\n",
       "    .dataframe thead th {\n",
       "        text-align: right;\n",
       "    }\n",
       "</style>\n",
       "<table border=\"1\" class=\"dataframe\">\n",
       "  <thead>\n",
       "    <tr style=\"text-align: right;\">\n",
       "      <th></th>\n",
       "      <th>transaction_id</th>\n",
       "      <th>visitor_id</th>\n",
       "      <th>date</th>\n",
       "      <th>revenue</th>\n",
       "      <th>group</th>\n",
       "    </tr>\n",
       "  </thead>\n",
       "  <tbody>\n",
       "    <tr>\n",
       "      <td>1055</td>\n",
       "      <td>1880179202</td>\n",
       "      <td>2463259495</td>\n",
       "      <td>2019-08-11</td>\n",
       "      <td>350</td>\n",
       "      <td>B</td>\n",
       "    </tr>\n",
       "  </tbody>\n",
       "</table>\n",
       "</div>"
      ],
      "text/plain": [
       "      transaction_id  visitor_id       date  revenue group\n",
       "1055      1880179202  2463259495 2019-08-11      350     B"
      ]
     },
     "execution_count": 11,
     "metadata": {},
     "output_type": "execute_result"
    }
   ],
   "source": [
    "orders.sample()"
   ]
  },
  {
   "cell_type": "code",
   "execution_count": 12,
   "metadata": {},
   "outputs": [
    {
     "data": {
      "text/html": [
       "<div>\n",
       "<style scoped>\n",
       "    .dataframe tbody tr th:only-of-type {\n",
       "        vertical-align: middle;\n",
       "    }\n",
       "\n",
       "    .dataframe tbody tr th {\n",
       "        vertical-align: top;\n",
       "    }\n",
       "\n",
       "    .dataframe thead th {\n",
       "        text-align: right;\n",
       "    }\n",
       "</style>\n",
       "<table border=\"1\" class=\"dataframe\">\n",
       "  <thead>\n",
       "    <tr style=\"text-align: right;\">\n",
       "      <th></th>\n",
       "      <th>date</th>\n",
       "      <th>group</th>\n",
       "      <th>visitors</th>\n",
       "    </tr>\n",
       "  </thead>\n",
       "  <tbody>\n",
       "    <tr>\n",
       "      <td>27</td>\n",
       "      <td>2019-08-28</td>\n",
       "      <td>A</td>\n",
       "      <td>594</td>\n",
       "    </tr>\n",
       "  </tbody>\n",
       "</table>\n",
       "</div>"
      ],
      "text/plain": [
       "         date group  visitors\n",
       "27 2019-08-28     A       594"
      ]
     },
     "execution_count": 12,
     "metadata": {},
     "output_type": "execute_result"
    }
   ],
   "source": [
    "visitors.sample()"
   ]
  },
  {
   "cell_type": "code",
   "execution_count": 13,
   "metadata": {},
   "outputs": [
    {
     "name": "stdout",
     "output_type": "stream",
     "text": [
      "        date group  orders  buyers  revenue  visitors\n",
      "0 2019-08-01     A      24      20   148579       719\n",
      "1 2019-08-01     B      21      20   101217       713\n",
      "2 2019-08-02     A      44      38   242401      1338\n",
      "3 2019-08-02     B      45      43   266748      1294\n",
      "4 2019-08-03     A      68      62   354874      1845\n"
     ]
    }
   ],
   "source": [
    "#создаем массив уникальных пар значений дат и групп теста\n",
    "datesGroups = orders[['date','group']].drop_duplicates() \n",
    "# создаем переменную ordersAggregated для данных о заказах с датой, группой, числом уникальных ID заказов и пользователей, суммой выручки и  отсортируем результаты по столбцам 'date' и 'group'\n",
    "ordersAggregated = datesGroups.apply(lambda x: orders[np.logical_and(orders['date'] <= x['date'], orders['group'] == x['group'])]\\\n",
    ".agg({'date' : 'max', 'group' : 'max', 'transaction_id' : 'nunique', 'visitor_id' : 'nunique', 'revenue' : 'sum'}), axis=1).sort_values(by=['date','group'])\n",
    "\n",
    "# делаем тоже самое с данными о посетителях \n",
    "visitorsAggregated = datesGroups.apply(lambda x: visitors[np.logical_and(visitors['date'] <= x['date'], visitors['group'] == x['group'])].agg({'date' : 'max', 'group' : 'max', 'visitors' : 'sum'}), axis=1).sort_values(by=['date','group'])\n",
    "\n",
    "# объединяем таблицы и задаем названия столбцов \n",
    "cumulativeData = ordersAggregated.merge(visitorsAggregated, left_on=['date', 'group'], right_on=['date', 'group'])\n",
    "cumulativeData.columns = ['date', 'group', 'orders', 'buyers', 'revenue', 'visitors']\n",
    "print(cumulativeData.head(5)) "
   ]
  },
  {
   "cell_type": "markdown",
   "metadata": {},
   "source": [
    "### График кумулятивной выручки по группам"
   ]
  },
  {
   "cell_type": "code",
   "execution_count": 14,
   "metadata": {},
   "outputs": [
    {
     "name": "stderr",
     "output_type": "stream",
     "text": [
      "/opt/conda/lib/python3.7/site-packages/pandas/plotting/_matplotlib/converter.py:103: FutureWarning: Using an implicitly registered datetime converter for a matplotlib plotting method. The converter was registered by pandas on import. Future versions of pandas will require you to explicitly register matplotlib converters.\n",
      "\n",
      "To register the converters:\n",
      "\t>>> from pandas.plotting import register_matplotlib_converters\n",
      "\t>>> register_matplotlib_converters()\n",
      "  warnings.warn(msg, FutureWarning)\n"
     ]
    },
    {
     "data": {
      "text/plain": [
       "<matplotlib.legend.Legend at 0x7f7902559a10>"
      ]
     },
     "execution_count": 14,
     "metadata": {},
     "output_type": "execute_result"
    },
    {
     "data": {
      "image/png": "[encoded data removed]",
      "text/plain": [
       "<Figure size 1296x720 with 1 Axes>"
      ]
     },
     "metadata": {
      "needs_background": "light"
     },
     "output_type": "display_data"
    }
   ],
   "source": [
    "# создаем массивы с кумулятивным количеством заказов и кумулятивной выручкой по дням по группам \n",
    "cumulativeRevenueA = cumulativeData[cumulativeData['group']=='A'][['date','revenue', 'orders']]\n",
    "cumulativeRevenueB = cumulativeData[cumulativeData['group']=='B'][['date','revenue', 'orders']]\n",
    "\n",
    "plt.figure(figsize=(18,10))\n",
    "plt.title('График кумулятивной выручки по группам')\n",
    "plt.plot(cumulativeRevenueA['date'], cumulativeRevenueA['revenue'], label='A')\n",
    "plt.plot(cumulativeRevenueB['date'], cumulativeRevenueB['revenue'], label='B')\n",
    "plt.grid()\n",
    "plt.legend() \n"
   ]
  },
  {
   "cell_type": "markdown",
   "metadata": {},
   "source": [
    "Выручки в обеих группах растут, однако есть резкий скачок в группе В. Дальнейший анализ поможет определить природу этого скачка, возможно, увеличение заказов или очень дорогие заказы."
   ]
  },
  {
   "cell_type": "markdown",
   "metadata": {},
   "source": [
    "### График кумулятивного среднего чека по группам"
   ]
  },
  {
   "cell_type": "code",
   "execution_count": 15,
   "metadata": {},
   "outputs": [
    {
     "data": {
      "text/plain": [
       "<matplotlib.legend.Legend at 0x7f78fa4f5450>"
      ]
     },
     "execution_count": 15,
     "metadata": {},
     "output_type": "execute_result"
    },
    {
     "data": {
      "image/png": "[encoded data removed]",
      "text/plain": [
       "<Figure size 1296x720 with 1 Axes>"
      ]
     },
     "metadata": {
      "needs_background": "light"
     },
     "output_type": "display_data"
    }
   ],
   "source": [
    "plt.figure(figsize=(18,10))\n",
    "plt.title('График кумулятивного среднего чека по группам')\n",
    "plt.plot(cumulativeRevenueA['date'], cumulativeRevenueA['revenue']/cumulativeRevenueA['orders'], label='A')\n",
    "plt.plot(cumulativeRevenueB['date'], cumulativeRevenueB['revenue']/cumulativeRevenueB['orders'], label='B')\n",
    "plt.grid()\n",
    "plt.legend() \n"
   ]
  },
  {
   "cell_type": "markdown",
   "metadata": {},
   "source": [
    "В начале график среднего чека колеблется, и мы наблюдаем также резкий скачок в группе В. Возможно, там действительно присутсвовали большие заказы. Стоит рассмотреть аномалии."
   ]
  },
  {
   "cell_type": "markdown",
   "metadata": {},
   "source": [
    "### График относительного изменения кумулятивного среднего чека группы B к группе A"
   ]
  },
  {
   "cell_type": "code",
   "execution_count": 16,
   "metadata": {},
   "outputs": [
    {
     "data": {
      "text/plain": [
       "<matplotlib.lines.Line2D at 0x7f78f9de6110>"
      ]
     },
     "execution_count": 16,
     "metadata": {},
     "output_type": "execute_result"
    },
    {
     "data": {
      "image/png": "[encoded data removed]",
      "text/plain": [
       "<Figure size 1296x720 with 1 Axes>"
      ]
     },
     "metadata": {
      "needs_background": "light"
     },
     "output_type": "display_data"
    }
   ],
   "source": [
    "# объединяем массивы \n",
    "mergedCumulativeRevenue = cumulativeRevenueA.merge(cumulativeRevenueB, left_on='date', right_on='date', how='left', suffixes=['A', 'B'])\n",
    "\n",
    "# cтроим отношение средних чеков\n",
    "plt.figure(figsize=(18,10))\n",
    "plt.plot(mergedCumulativeRevenue['date'], (mergedCumulativeRevenue['revenueB']/mergedCumulativeRevenue['ordersB'])/(mergedCumulativeRevenue['revenueA']/mergedCumulativeRevenue['ordersA'])-1)\n",
    "\n",
    "# добавляем ось X\n",
    "plt.axhline(y=0, color='black', linestyle='--')"
   ]
  },
  {
   "cell_type": "markdown",
   "metadata": {},
   "source": [
    "График скачет, нужно проверить выбросы."
   ]
  },
  {
   "cell_type": "markdown",
   "metadata": {},
   "source": [
    "###  График кумулятивной конверсии по группам"
   ]
  },
  {
   "cell_type": "code",
   "execution_count": 17,
   "metadata": {},
   "outputs": [
    {
     "data": {
      "text/plain": [
       "[datetime.datetime(2019, 8, 1, 0, 0),\n",
       " datetime.datetime(2019, 9, 2, 0, 0),\n",
       " 0,\n",
       " 0.05]"
      ]
     },
     "execution_count": 17,
     "metadata": {},
     "output_type": "execute_result"
    },
    {
     "data": {
      "image/png": "[encoded data removed]",
      "text/plain": [
       "<Figure size 1296x720 with 1 Axes>"
      ]
     },
     "metadata": {
      "needs_background": "light"
     },
     "output_type": "display_data"
    }
   ],
   "source": [
    "# считаем кумулятивную конверсию\n",
    "cumulativeData['conversion'] = cumulativeData['orders']/cumulativeData['visitors']\n",
    "\n",
    "# отделяем данные \n",
    "cumulativeDataA = cumulativeData[cumulativeData['group']=='A']\n",
    "cumulativeDataB = cumulativeData[cumulativeData['group']=='B']\n",
    "\n",
    "\n",
    "plt.figure(figsize=(18,10))\n",
    "plt.plot(cumulativeDataA['date'], cumulativeDataA['conversion'], label='A')\n",
    "plt.plot(cumulativeDataB['date'], cumulativeDataB['conversion'], label='B')\n",
    "plt.legend()\n",
    "\n",
    "plt.axis([dt.datetime(2019, 8, 1), dt.datetime(2019, 9, 2), 0, 0.05])\n",
    "\n",
    "\n"
   ]
  },
  {
   "cell_type": "markdown",
   "metadata": {},
   "source": [
    "Конверсии выровнялись, однако группа В поднялась выше и сохранила свою позицию."
   ]
  },
  {
   "cell_type": "markdown",
   "metadata": {},
   "source": [
    "### График относительного изменения кумулятивной конверсии группы B к группе A"
   ]
  },
  {
   "cell_type": "code",
   "execution_count": 18,
   "metadata": {},
   "outputs": [
    {
     "data": {
      "text/plain": [
       "['2019-08-01', '2019-09-2', -0.6, 0.6]"
      ]
     },
     "execution_count": 18,
     "metadata": {},
     "output_type": "execute_result"
    },
    {
     "data": {
      "image/png": "[encoded data removed]",
      "text/plain": [
       "<Figure size 1296x720 with 1 Axes>"
      ]
     },
     "metadata": {
      "needs_background": "light"
     },
     "output_type": "display_data"
    }
   ],
   "source": [
    "\n",
    "mergedCumulativeConversions = cumulativeDataA[['date','conversion']].merge(cumulativeDataB[['date','conversion']], left_on='date', right_on='date', how='left', suffixes=['A', 'B'])\n",
    "plt.figure(figsize=(18,10))\n",
    "plt.plot(mergedCumulativeConversions['date'], mergedCumulativeConversions['conversionB']/mergedCumulativeConversions['conversionA']-1, label=\"Относительный прирост конверсии группы B относительно группы A\")\n",
    "plt.legend()\n",
    "plt.grid()\n",
    "plt.axhline(y=0, color='black', linestyle='--')\n",
    "plt.axhline(y=-0.1, color='grey', linestyle='--')\n",
    "plt.axis([\"2019-08-01\", '2019-09-2', -0.6, 0.6])\n"
   ]
  },
  {
   "cell_type": "markdown",
   "metadata": {},
   "source": [
    "В самом начале конверсия группы В выросла и держится на уровне. "
   ]
  },
  {
   "cell_type": "markdown",
   "metadata": {},
   "source": [
    "### График количества заказов по пользователям"
   ]
  },
  {
   "cell_type": "code",
   "execution_count": 19,
   "metadata": {},
   "outputs": [
    {
     "data": {
      "text/plain": [
       "<matplotlib.collections.PathCollection at 0x7f78f9c33250>"
      ]
     },
     "execution_count": 19,
     "metadata": {},
     "output_type": "execute_result"
    },
    {
     "data": {
      "image/png": "[encoded data removed]",
      "text/plain": [
       "<Figure size 1008x432 with 1 Axes>"
      ]
     },
     "metadata": {
      "needs_background": "light"
     },
     "output_type": "display_data"
    }
   ],
   "source": [
    "# создаем массив с айди пользователей и заказами \n",
    "ordersByUsers = (\n",
    "    orders.groupby('visitor_id', as_index=False)\n",
    "    .agg({'transaction_id': pd.Series.nunique})\n",
    ")\n",
    "ordersByUsers.columns = ['visitor_id', 'orders']\n",
    "\n",
    "ordersByUsers.sort_values(by='orders', ascending=False)\n",
    "\n",
    "# серия из чисел от 0 до количества наблюдений в ordersByUsers\n",
    "x_values = pd.Series(range(0, len(ordersByUsers)))\n",
    "\n",
    "plt.figure(figsize=(14,6))\n",
    "plt.scatter(x_values, ordersByUsers['orders']) "
   ]
  },
  {
   "cell_type": "markdown",
   "metadata": {},
   "source": [
    "Большинство заказывали один раз, также есть немалое количество с 2-3 заказами. Посчитаем перцентили количества заказов для большей ясности."
   ]
  },
  {
   "cell_type": "markdown",
   "metadata": {},
   "source": [
    "### 95-й и 99-й перцентили количества заказов на пользователя"
   ]
  },
  {
   "cell_type": "code",
   "execution_count": 20,
   "metadata": {},
   "outputs": [
    {
     "name": "stdout",
     "output_type": "stream",
     "text": [
      "[1. 2. 4.]\n"
     ]
    }
   ],
   "source": [
    "print(np.percentile(ordersByUsers['orders'], [90, 95, 99])) "
   ]
  },
  {
   "cell_type": "markdown",
   "metadata": {},
   "source": [
    "Не более 5% заказывали больше двух раз, и 10% больше одного раза. Выбор границы отсеивания между 1 и 2. "
   ]
  },
  {
   "cell_type": "markdown",
   "metadata": {},
   "source": [
    "### График стоимостей заказов"
   ]
  },
  {
   "cell_type": "code",
   "execution_count": 21,
   "metadata": {},
   "outputs": [
    {
     "data": {
      "text/plain": [
       "<matplotlib.collections.PathCollection at 0x7f78f9b98dd0>"
      ]
     },
     "execution_count": 21,
     "metadata": {},
     "output_type": "execute_result"
    },
    {
     "data": {
      "image/png": "[encoded data removed]",
      "text/plain": [
       "<Figure size 432x288 with 1 Axes>"
      ]
     },
     "metadata": {
      "needs_background": "light"
     },
     "output_type": "display_data"
    }
   ],
   "source": [
    "orders.sort_values(by='revenue', ascending=False).head(10)\n",
    "\n",
    "x_values = pd.Series(range(0, len(orders['revenue'])))\n",
    "\n",
    "plt.scatter(x_values, orders['revenue']) "
   ]
  },
  {
   "cell_type": "markdown",
   "metadata": {},
   "source": [
    "Большинство заказов лежит в плоскости до 25000. Есть определенное количество заказов дороже. Посмотрим на перцентили. Также есть один заказ, превышающий 1200000 рублей, который искажает данные."
   ]
  },
  {
   "cell_type": "markdown",
   "metadata": {},
   "source": [
    "### 95-й и 99-й перцентили стоимости заказов"
   ]
  },
  {
   "cell_type": "code",
   "execution_count": 22,
   "metadata": {},
   "outputs": [
    {
     "name": "stdout",
     "output_type": "stream",
     "text": [
      "[18168.  28000.  58233.2]\n"
     ]
    }
   ],
   "source": [
    "print(np.percentile(orders['revenue'], [90, 95, 99])) "
   ]
  },
  {
   "cell_type": "markdown",
   "metadata": {},
   "source": [
    "Не более 5% заказов дороже 28000 рублей и не более 1% дороже 58233.2 рублей."
   ]
  },
  {
   "cell_type": "markdown",
   "metadata": {},
   "source": [
    "### Статистическая значимость различий в конверсии между группами по «сырым» данным"
   ]
  },
  {
   "cell_type": "code",
   "execution_count": 23,
   "metadata": {},
   "outputs": [
    {
     "name": "stdout",
     "output_type": "stream",
     "text": [
      "        date  ordersPerDateA  revenuePerDateA  ordersPerDateB  \\\n",
      "0 2019-08-01              24           148579              21   \n",
      "1 2019-08-02              20            93822              24   \n",
      "2 2019-08-03              24           112473              16   \n",
      "3 2019-08-04              16            70825              17   \n",
      "4 2019-08-05              25           124218              23   \n",
      "\n",
      "   revenuePerDateB  ordersCummulativeA  revenueCummulativeA  \\\n",
      "0           101217                  24               148579   \n",
      "1           165531                  44               242401   \n",
      "2           114248                  68               354874   \n",
      "3           108571                  84               425699   \n",
      "4            92428                 109               549917   \n",
      "\n",
      "   ordersCummulativeB  revenueCummulativeB  visitorsPerDateA  \\\n",
      "0                  21               101217               719   \n",
      "1                  45               266748               619   \n",
      "2                  61               380996               507   \n",
      "3                  78               489567               717   \n",
      "4                 101               581995               756   \n",
      "\n",
      "   visitorsPerDateB  visitorsCummulativeA  visitorsCummulativeB  \n",
      "0               713                   719                   713  \n",
      "1               581                  1338                  1294  \n",
      "2               509                  1845                  1803  \n",
      "3               770                  2562                  2573  \n",
      "4               707                  3318                  3280  \n"
     ]
    }
   ],
   "source": [
    "# сначала подготавливаем данные \n",
    "\n",
    "# создаем массив с пользователями по датам группы А \n",
    "visitorsADaily = visitors[visitors['group'] == 'A'][['date', 'visitors']]\n",
    "visitorsADaily.columns = ['date', 'visitorsPerDateA']\n",
    "\n",
    "visitorsACummulative = visitorsADaily.apply(\n",
    "    lambda x: visitorsADaily[visitorsADaily['date'] <= x['date']].agg(\n",
    "        {'date': 'max', 'visitorsPerDateA': 'sum'}\n",
    "    ),\n",
    "    axis=1,\n",
    ")\n",
    "visitorsACummulative.columns = ['date', 'visitorsCummulativeA']\n",
    "\n",
    "# создаем массив с пользователями по датам группы В\n",
    "visitorsBDaily = visitors[visitors['group'] == 'B'][['date', 'visitors']]\n",
    "visitorsBDaily.columns = ['date', 'visitorsPerDateB']\n",
    "\n",
    "visitorsBCummulative = visitorsBDaily.apply(\n",
    "    lambda x: visitorsBDaily[visitorsBDaily['date'] <= x['date']].agg(\n",
    "        {'date': 'max', 'visitorsPerDateB': 'sum'}\n",
    "    ),\n",
    "    axis=1,\n",
    ")\n",
    "visitorsBCummulative.columns = ['date', 'visitorsCummulativeB']\n",
    "\n",
    "# создаем массивы с заказами для групп А и В \n",
    "ordersADaily = (\n",
    "    orders[orders['group'] == 'A'][['date', 'transaction_id', 'visitor_id', 'revenue']]\n",
    "    .groupby('date', as_index=False)\n",
    "    .agg({'transaction_id': pd.Series.nunique, 'revenue': 'sum'})\n",
    ")\n",
    "ordersADaily.columns = ['date', 'ordersPerDateA', 'revenuePerDateA']\n",
    "\n",
    "ordersACummulative = ordersADaily.apply(\n",
    "    lambda x: ordersADaily[ordersADaily['date'] <= x['date']].agg(\n",
    "        {'date': 'max', 'ordersPerDateA': 'sum', 'revenuePerDateA': 'sum'}\n",
    "    ),\n",
    "    axis=1,\n",
    ").sort_values(by=['date'])\n",
    "ordersACummulative.columns = [\n",
    "    'date',\n",
    "    'ordersCummulativeA',\n",
    "    'revenueCummulativeA',\n",
    "]\n",
    "\n",
    "ordersBDaily = (\n",
    "    orders[orders['group'] == 'B'][['date', 'transaction_id', 'visitor_id', 'revenue']]\n",
    "    .groupby('date', as_index=False)\n",
    "    .agg({'transaction_id': pd.Series.nunique, 'revenue': 'sum'})\n",
    ")\n",
    "ordersBDaily.columns = ['date', 'ordersPerDateB', 'revenuePerDateB']\n",
    "\n",
    "ordersBCummulative = ordersBDaily.apply(\n",
    "    lambda x: ordersBDaily[ordersBDaily['date'] <= x['date']].agg(\n",
    "        {'date': 'max', 'ordersPerDateB': 'sum', 'revenuePerDateB': 'sum'}\n",
    "    ),\n",
    "    axis=1,\n",
    ").sort_values(by=['date'])\n",
    "ordersBCummulative.columns = [\n",
    "    'date',\n",
    "    'ordersCummulativeB',\n",
    "    'revenueCummulativeB',\n",
    "]\n",
    "\n",
    "# объединяем в одну таблицу\n",
    "data = (\n",
    "    ordersADaily.merge(\n",
    "        ordersBDaily, left_on='date', right_on='date', how='left'\n",
    "    )\n",
    "    .merge(ordersACummulative, left_on='date', right_on='date', how='left')\n",
    "    .merge(ordersBCummulative, left_on='date', right_on='date', how='left')\n",
    "    .merge(visitorsADaily, left_on='date', right_on='date', how='left')\n",
    "    .merge(visitorsBDaily, left_on='date', right_on='date', how='left')\n",
    "    .merge(visitorsACummulative, left_on='date', right_on='date', how='left')\n",
    "    .merge(visitorsBCummulative, left_on='date', right_on='date', how='left')\n",
    ")\n",
    "print(data.head(5)) "
   ]
  },
  {
   "cell_type": "code",
   "execution_count": 24,
   "metadata": {},
   "outputs": [
    {
     "name": "stdout",
     "output_type": "stream",
     "text": [
      "0.008\n",
      "0.138\n"
     ]
    }
   ],
   "source": [
    "# переменные ordersByUsersA и ordersByUsersB \n",
    "ordersByUsersA = (\n",
    "    orders[orders['group'] == 'A']\n",
    "    .groupby('visitor_id', as_index=False)\n",
    "    .agg({'transaction_id': pd.Series.nunique})\n",
    ")\n",
    "ordersByUsersA.columns = ['visitor_id', 'orders']\n",
    "\n",
    "ordersByUsersB = (\n",
    "    orders[orders['group'] == 'B']\n",
    "    .groupby('visitor_id', as_index=False)\n",
    "    .agg({'transaction_id': pd.Series.nunique})\n",
    ")\n",
    "ordersByUsersB.columns = ['visitor_id', 'orders']\n",
    "\n",
    "pd.Series(0, index=np.arange(data['visitorsPerDateA'].sum() - len(ordersByUsersA['orders'])), name='orders')\n",
    " \n",
    "[ordersByUsersA['orders'],pd.Series(0, index=np.arange(data['visitorsPerDateA'].sum() - len(ordersByUsersA['orders'])), name='orders')]  \n",
    "\n",
    "# объявим переменные sampleA и sampleB, в которых пользователям будет соответствовать количество заказов\n",
    "sampleA = pd.concat([ordersByUsersA['orders'],pd.Series(0, index=np.arange(data['visitorsPerDateA'].sum() - len(ordersByUsersA['orders'])), name='orders')],axis=0)\n",
    "\n",
    "sampleB = pd.concat([ordersByUsersB['orders'],pd.Series(0, index=np.arange(data['visitorsPerDateB'].sum() - len(ordersByUsersB['orders'])), name='orders')],axis=0)\n",
    "\n",
    "ordersByUsersA = (\n",
    "    orders[orders['group'] == 'A']\n",
    "    .groupby('visitor_id', as_index=False)\n",
    "    .agg({'transaction_id': pd.Series.nunique})\n",
    ")\n",
    "ordersByUsersA.columns = ['visitor_id', 'orders']\n",
    "\n",
    "ordersByUsersB = (\n",
    "    orders[orders['group'] == 'B']\n",
    "    .groupby('visitor_id', as_index=False)\n",
    "    .agg({'transaction_id': pd.Series.nunique})\n",
    ")\n",
    "ordersByUsersB.columns = ['visitor_id', 'orders']\n",
    "\n",
    "sampleA = pd.concat(\n",
    "    [\n",
    "        ordersByUsersA['orders'],\n",
    "        pd.Series(\n",
    "            0,\n",
    "            index=np.arange(\n",
    "                data['visitorsPerDateA'].sum() - len(ordersByUsersA['orders'])\n",
    "            ),\n",
    "            name='orders',\n",
    "        ),\n",
    "    ],\n",
    "    axis=0,\n",
    ")\n",
    "\n",
    "sampleB = pd.concat(\n",
    "    [\n",
    "        ordersByUsersB['orders'],\n",
    "        pd.Series(\n",
    "            0,\n",
    "            index=np.arange(\n",
    "                data['visitorsPerDateB'].sum() - len(ordersByUsersB['orders'])\n",
    "            ),\n",
    "            name='orders',\n",
    "        ),\n",
    "    ],\n",
    "    axis=0,\n",
    ")\n",
    "\n",
    "\n",
    "print(\"{0:.3f}\".format(stats.mannwhitneyu(sampleA, sampleB)[1]))\n",
    "\n",
    "(\"{0:.3f}\".format(sampleB.mean() / sampleA.mean() - 1))\n",
    "\n",
    "print(\"{0:.3f}\".format((data['ordersPerDateB'].sum()/data['visitorsPerDateB'].sum())/(data['ordersPerDateA'].sum()/data['visitorsPerDateA'].sum())-1))\n",
    "\n"
   ]
  },
  {
   "cell_type": "markdown",
   "metadata": {},
   "source": [
    "Р-value = 0.008, что меньше 0.05. Значит, нулевую гипотезу отвергаем, в конверсии есть статистически значимвые различия. Прирост конверсии группы B равен 13.8%."
   ]
  },
  {
   "cell_type": "markdown",
   "metadata": {},
   "source": [
    "### Статистическая значимость различий в среднем чеке заказа между группами по «сырым» данным"
   ]
  },
  {
   "cell_type": "code",
   "execution_count": 25,
   "metadata": {},
   "outputs": [
    {
     "name": "stdout",
     "output_type": "stream",
     "text": [
      "0.365\n",
      "0.259\n"
     ]
    }
   ],
   "source": [
    "print('{0:.3f}'.format(stats.mannwhitneyu(orders[orders['group']=='A']['revenue'], orders[orders['group']=='B']['revenue'])[1]))\n",
    "print('{0:.3f}'.format(orders[orders['group']=='B']['revenue'].mean()/orders[orders['group']=='A']['revenue'].mean()-1))\n"
   ]
  },
  {
   "cell_type": "markdown",
   "metadata": {},
   "source": [
    "P-value меньше 0.05. Отвергаем нулевую гипотезу, в среднем чеке есть различия. Средний чек группы B выше среднего чека группы A на 25,9%."
   ]
  },
  {
   "cell_type": "markdown",
   "metadata": {},
   "source": [
    "### Аномальные пользователи "
   ]
  },
  {
   "cell_type": "markdown",
   "metadata": {},
   "source": [
    "Сначала очистим данные.\n",
    "Вспомним перцентили: \n",
    "не более 5% заказывали больше двух раз, и 10% больше одного раза.\n",
    "95-й и 99-й перцентили средних чеков равны 28000 и 58233.2. \n",
    "Будем считать аномальными пользователями тех, кто заказывал более двех рар или тех, кто совершил заказ дороже 40000. \n"
   ]
  },
  {
   "cell_type": "code",
   "execution_count": 26,
   "metadata": {},
   "outputs": [
    {
     "name": "stdout",
     "output_type": "stream",
     "text": [
      "1099    148427295\n",
      "18      199603092\n",
      "23      237748145\n",
      "37      249864742\n",
      "684     358944393\n",
      "Name: visitor_id, dtype: int64\n",
      "(45,)\n"
     ]
    }
   ],
   "source": [
    "# делаем срезы по выбранным параметрам\n",
    "usersWithManyOrders = pd.concat(\n",
    "    [\n",
    "        ordersByUsersA[ordersByUsersA['orders'] > 2]['visitor_id'],\n",
    "        ordersByUsersB[ordersByUsersB['orders'] > 2]['visitor_id'],\n",
    "    ],\n",
    "    axis=0,\n",
    ")\n",
    "usersWithExpensiveOrders = orders[orders['revenue'] > 40000]['visitor_id']\n",
    "abnormalUsers = (\n",
    "    pd.concat([usersWithManyOrders, usersWithExpensiveOrders], axis=0)\n",
    "    .drop_duplicates()\n",
    "    .sort_values()\n",
    ")\n",
    "print(abnormalUsers.head(5))\n",
    "print(abnormalUsers.shape)"
   ]
  },
  {
   "cell_type": "markdown",
   "metadata": {},
   "source": [
    "Всего 45 аномальных пользователей.  Проведем повторные тесты по очищенным данным."
   ]
  },
  {
   "cell_type": "markdown",
   "metadata": {},
   "source": [
    "### Статистическая значимость различий в конверсии между группами по «очищенным» данным"
   ]
  },
  {
   "cell_type": "code",
   "execution_count": 27,
   "metadata": {},
   "outputs": [
    {
     "name": "stdout",
     "output_type": "stream",
     "text": [
      "0.003\n",
      "0.188\n"
     ]
    }
   ],
   "source": [
    "sampleAFiltered = pd.concat(\n",
    "    [\n",
    "        ordersByUsersA[\n",
    "            np.logical_not(ordersByUsersA['visitor_id'].isin(abnormalUsers))\n",
    "        ]['orders'],\n",
    "        pd.Series(\n",
    "            0,\n",
    "            index=np.arange(\n",
    "                data['visitorsPerDateA'].sum() - len(ordersByUsersA['orders'])\n",
    "            ),\n",
    "            name='orders',\n",
    "        ),\n",
    "    ],\n",
    "    axis=0,\n",
    ")\n",
    "\n",
    "sampleBFiltered = pd.concat(\n",
    "    [\n",
    "        ordersByUsersB[\n",
    "            np.logical_not(ordersByUsersB['visitor_id'].isin(abnormalUsers))\n",
    "        ]['orders'],\n",
    "        pd.Series(\n",
    "            0,\n",
    "            index=np.arange(\n",
    "                data['visitorsPerDateB'].sum() - len(ordersByUsersB['orders'])\n",
    "            ),\n",
    "            name='orders',\n",
    "        ),\n",
    "    ],\n",
    "    axis=0,\n",
    ")\n",
    "print('{0:.3f}'.format(stats.mannwhitneyu(sampleAFiltered, sampleBFiltered)[1]))\n",
    "print('{0:.3f}'.format(sampleBFiltered.mean()/sampleAFiltered.mean()-1))"
   ]
  },
  {
   "cell_type": "markdown",
   "metadata": {},
   "source": [
    "Р-value = 0.003, что меньше 0.05. Значит, нулевую гипотезу отвергаем, в конверсии есть статистически значимвые различия. Прирост конверсии группы B равен 18.8%."
   ]
  },
  {
   "cell_type": "markdown",
   "metadata": {},
   "source": [
    "### Статистическая значимость различий в среднем чеке заказа между группами по «очищенным» данным"
   ]
  },
  {
   "cell_type": "code",
   "execution_count": 28,
   "metadata": {},
   "outputs": [
    {
     "name": "stdout",
     "output_type": "stream",
     "text": [
      "0.472\n",
      "0.058\n"
     ]
    }
   ],
   "source": [
    "print(\n",
    "    '{0:.3f}'.format(\n",
    "        stats.mannwhitneyu(\n",
    "            orders[\n",
    "                np.logical_and(\n",
    "                    orders['group'] == 'A',\n",
    "                    np.logical_not(orders['visitor_id'].isin(abnormalUsers)),\n",
    "                )\n",
    "            ]['revenue'],\n",
    "            orders[\n",
    "                np.logical_and(\n",
    "                    orders['group'] == 'B',\n",
    "                    np.logical_not(orders['visitor_id'].isin(abnormalUsers)),\n",
    "                )\n",
    "            ]['revenue'],\n",
    "        )[1]\n",
    "    )\n",
    ")\n",
    "\n",
    "print(\n",
    "    \"{0:.3f}\".format(\n",
    "        orders[\n",
    "            np.logical_and(\n",
    "                orders['group'] == 'B',\n",
    "                np.logical_not(orders['visitor_id'].isin(abnormalUsers)),\n",
    "            )\n",
    "        ]['revenue'].mean()\n",
    "        / orders[\n",
    "            np.logical_and(\n",
    "                orders['group'] == 'A',\n",
    "                np.logical_not(orders['visitor_id'].isin(abnormalUsers)),\n",
    "            )\n",
    "        ]['revenue'].mean()\n",
    "        - 1\n",
    "    )\n",
    ")"
   ]
  },
  {
   "cell_type": "markdown",
   "metadata": {},
   "source": [
    "P-value немного меньше 0.05. Отвергаем нулевую гипотезу, в среднем чеке есть различия. Средний чек группы B выше среднего чека группы A на 5,8%. P-value увеличился, однако разница в среднем чеке уменьшилась.\n"
   ]
  },
  {
   "cell_type": "markdown",
   "metadata": {},
   "source": [
    "## Выводы.\n"
   ]
  },
  {
   "cell_type": "markdown",
   "metadata": {},
   "source": [
    "- У нас имеется статистически значимое различие по конверсии между группами по «сырым» и по данным после фильтрации аномалий;\n",
    "- Имеется статистически значимое различие по среднему чеку между группами по «сырым» и по данным после фильтрации аномалий;\n",
    "- График различия конверсии показывает, что результаты группы B лучше группы A;\n",
    "- График различия среднего чека показал что, у группы В он выше;\n",
    "\n",
    "Вывод: \n",
    "Остановить тест, признать его успешным и перейти к проверке следующей гипотезы.\n"
   ]
  },
  {
   "cell_type": "code",
   "execution_count": null,
   "metadata": {},
   "outputs": [],
   "source": []
  }
 ],
 "metadata": {
  "ExecuteTimeLog": [
   {
    "duration": 678,
    "start_time": "2022-03-12T18:21:53.171Z"
   },
   {
    "duration": 67,
    "start_time": "2022-03-12T18:22:41.776Z"
   },
   {
    "duration": 22,
    "start_time": "2022-03-12T18:22:45.241Z"
   },
   {
    "duration": 18,
    "start_time": "2022-03-12T18:23:16.895Z"
   },
   {
    "duration": 71,
    "start_time": "2022-03-12T18:25:00.493Z"
   },
   {
    "duration": 6722,
    "start_time": "2022-03-12T18:26:05.563Z"
   },
   {
    "duration": 12,
    "start_time": "2022-03-12T18:26:40.662Z"
   },
   {
    "duration": 11,
    "start_time": "2022-03-12T18:27:07.303Z"
   },
   {
    "duration": 9,
    "start_time": "2022-03-12T18:27:24.685Z"
   },
   {
    "duration": 8,
    "start_time": "2022-03-12T18:27:32.925Z"
   },
   {
    "duration": 10,
    "start_time": "2022-03-12T18:27:40.565Z"
   },
   {
    "duration": 11,
    "start_time": "2022-03-12T18:27:54.581Z"
   },
   {
    "duration": 17,
    "start_time": "2022-03-12T18:28:06.520Z"
   },
   {
    "duration": 710,
    "start_time": "2022-03-12T18:30:19.129Z"
   },
   {
    "duration": 335,
    "start_time": "2022-03-12T18:30:54.816Z"
   },
   {
    "duration": 5,
    "start_time": "2022-03-12T18:31:10.643Z"
   },
   {
    "duration": 17,
    "start_time": "2022-03-12T18:31:55.285Z"
   },
   {
    "duration": 293,
    "start_time": "2022-03-12T18:33:01.352Z"
   },
   {
    "duration": 5,
    "start_time": "2022-03-12T18:33:16.077Z"
   },
   {
    "duration": 15,
    "start_time": "2022-03-12T18:33:57.936Z"
   },
   {
    "duration": 9,
    "start_time": "2022-03-12T18:34:40.684Z"
   },
   {
    "duration": 12,
    "start_time": "2022-03-12T18:34:43.427Z"
   },
   {
    "duration": 1453,
    "start_time": "2022-03-12T18:34:48.543Z"
   },
   {
    "duration": 73,
    "start_time": "2022-03-12T18:34:49.999Z"
   },
   {
    "duration": 18,
    "start_time": "2022-03-12T18:34:50.075Z"
   },
   {
    "duration": 6,
    "start_time": "2022-03-12T18:34:50.097Z"
   },
   {
    "duration": 7,
    "start_time": "2022-03-12T18:34:50.106Z"
   },
   {
    "duration": 20,
    "start_time": "2022-03-12T18:34:50.117Z"
   },
   {
    "duration": 17,
    "start_time": "2022-03-12T18:34:50.139Z"
   },
   {
    "duration": 17,
    "start_time": "2022-03-12T18:34:50.160Z"
   },
   {
    "duration": 15,
    "start_time": "2022-03-12T18:35:40.713Z"
   },
   {
    "duration": 4,
    "start_time": "2022-03-12T18:48:22.283Z"
   },
   {
    "duration": 12,
    "start_time": "2022-03-12T18:49:20.579Z"
   },
   {
    "duration": 11,
    "start_time": "2022-03-12T18:49:30.329Z"
   },
   {
    "duration": 7083,
    "start_time": "2022-03-12T18:49:52.846Z"
   },
   {
    "duration": 567,
    "start_time": "2022-03-12T18:50:53.901Z"
   },
   {
    "duration": 327,
    "start_time": "2022-03-12T18:54:45.396Z"
   },
   {
    "duration": 6770,
    "start_time": "2022-03-12T18:55:30.344Z"
   },
   {
    "duration": 595,
    "start_time": "2022-03-12T18:56:30.899Z"
   },
   {
    "duration": 925,
    "start_time": "2022-03-12T18:57:47.200Z"
   },
   {
    "duration": 619,
    "start_time": "2022-03-12T18:58:30.890Z"
   },
   {
    "duration": 578,
    "start_time": "2022-03-12T18:59:36.368Z"
   },
   {
    "duration": 381,
    "start_time": "2022-03-12T19:00:26.451Z"
   },
   {
    "duration": 717,
    "start_time": "2022-03-12T19:00:42.886Z"
   },
   {
    "duration": 591,
    "start_time": "2022-03-12T19:02:07.984Z"
   },
   {
    "duration": 841,
    "start_time": "2022-03-12T19:02:40.392Z"
   },
   {
    "duration": 583,
    "start_time": "2022-03-12T19:04:31.699Z"
   },
   {
    "duration": 72,
    "start_time": "2022-03-12T19:04:43.683Z"
   },
   {
    "duration": 855,
    "start_time": "2022-03-12T19:05:22.385Z"
   },
   {
    "duration": 803,
    "start_time": "2022-03-12T19:05:36.681Z"
   },
   {
    "duration": 70,
    "start_time": "2022-03-12T19:05:37.487Z"
   },
   {
    "duration": 17,
    "start_time": "2022-03-12T19:05:37.562Z"
   },
   {
    "duration": 6,
    "start_time": "2022-03-12T19:05:37.582Z"
   },
   {
    "duration": 7,
    "start_time": "2022-03-12T19:05:37.590Z"
   },
   {
    "duration": 8,
    "start_time": "2022-03-12T19:05:37.600Z"
   },
   {
    "duration": 28,
    "start_time": "2022-03-12T19:05:37.611Z"
   },
   {
    "duration": 14,
    "start_time": "2022-03-12T19:05:37.643Z"
   },
   {
    "duration": 12,
    "start_time": "2022-03-12T19:05:37.660Z"
   },
   {
    "duration": 12,
    "start_time": "2022-03-12T19:05:37.674Z"
   },
   {
    "duration": 51,
    "start_time": "2022-03-12T19:05:37.689Z"
   },
   {
    "duration": 608,
    "start_time": "2022-03-12T19:05:37.742Z"
   },
   {
    "duration": 693,
    "start_time": "2022-03-12T19:05:38.352Z"
   },
   {
    "duration": 654,
    "start_time": "2022-03-12T19:05:39.048Z"
   },
   {
    "duration": 717,
    "start_time": "2022-03-12T19:05:39.705Z"
   },
   {
    "duration": 1025,
    "start_time": "2022-03-12T19:05:40.425Z"
   },
   {
    "duration": 846,
    "start_time": "2022-03-12T19:06:04.940Z"
   },
   {
    "duration": 69,
    "start_time": "2022-03-12T19:06:05.789Z"
   },
   {
    "duration": 17,
    "start_time": "2022-03-12T19:06:05.861Z"
   },
   {
    "duration": 6,
    "start_time": "2022-03-12T19:06:05.880Z"
   },
   {
    "duration": 7,
    "start_time": "2022-03-12T19:06:05.889Z"
   },
   {
    "duration": 11,
    "start_time": "2022-03-12T19:06:05.898Z"
   },
   {
    "duration": 29,
    "start_time": "2022-03-12T19:06:05.911Z"
   },
   {
    "duration": 15,
    "start_time": "2022-03-12T19:06:05.944Z"
   },
   {
    "duration": 12,
    "start_time": "2022-03-12T19:06:05.962Z"
   },
   {
    "duration": 12,
    "start_time": "2022-03-12T19:06:05.976Z"
   },
   {
    "duration": 46,
    "start_time": "2022-03-12T19:06:05.990Z"
   },
   {
    "duration": 567,
    "start_time": "2022-03-12T19:06:06.039Z"
   },
   {
    "duration": 641,
    "start_time": "2022-03-12T19:06:06.608Z"
   },
   {
    "duration": 620,
    "start_time": "2022-03-12T19:06:07.252Z"
   },
   {
    "duration": 712,
    "start_time": "2022-03-12T19:06:07.876Z"
   },
   {
    "duration": 609,
    "start_time": "2022-03-12T19:06:08.591Z"
   },
   {
    "duration": 566,
    "start_time": "2022-03-12T19:06:23.633Z"
   },
   {
    "duration": 297,
    "start_time": "2022-03-12T19:06:46.597Z"
   },
   {
    "duration": 548,
    "start_time": "2022-03-12T19:08:44.946Z"
   },
   {
    "duration": 573,
    "start_time": "2022-03-12T19:09:01.586Z"
   },
   {
    "duration": 560,
    "start_time": "2022-03-12T19:09:09.777Z"
   },
   {
    "duration": 562,
    "start_time": "2022-03-12T19:09:25.902Z"
   },
   {
    "duration": 470,
    "start_time": "2022-03-12T19:10:29.996Z"
   },
   {
    "duration": 688,
    "start_time": "2022-03-12T19:10:40.032Z"
   },
   {
    "duration": 353,
    "start_time": "2022-03-12T19:13:13.479Z"
   },
   {
    "duration": 608,
    "start_time": "2022-03-12T19:13:24.695Z"
   },
   {
    "duration": 600,
    "start_time": "2022-03-12T19:13:43.287Z"
   },
   {
    "duration": 93,
    "start_time": "2022-03-12T19:14:14.289Z"
   },
   {
    "duration": 714,
    "start_time": "2022-03-12T19:14:22.798Z"
   },
   {
    "duration": 6,
    "start_time": "2022-03-12T19:15:01.872Z"
   },
   {
    "duration": 313,
    "start_time": "2022-03-13T17:17:43.675Z"
   },
   {
    "duration": 406,
    "start_time": "2022-03-13T17:18:10.343Z"
   },
   {
    "duration": 485,
    "start_time": "2022-03-13T17:18:25.734Z"
   },
   {
    "duration": 642,
    "start_time": "2022-03-13T17:18:33.651Z"
   },
   {
    "duration": 6,
    "start_time": "2022-03-13T17:19:04.053Z"
   },
   {
    "duration": 486,
    "start_time": "2022-03-13T18:39:26.862Z"
   },
   {
    "duration": 7628,
    "start_time": "2022-03-13T18:39:42.958Z"
   },
   {
    "duration": 493,
    "start_time": "2022-03-13T18:40:38.032Z"
   },
   {
    "duration": 474,
    "start_time": "2022-03-13T18:40:57.020Z"
   },
   {
    "duration": 360,
    "start_time": "2022-03-13T18:42:32.394Z"
   },
   {
    "duration": 711,
    "start_time": "2022-03-13T18:46:56.307Z"
   },
   {
    "duration": 1371,
    "start_time": "2022-03-13T18:47:24.935Z"
   },
   {
    "duration": 160,
    "start_time": "2022-03-13T18:47:26.308Z"
   },
   {
    "duration": 18,
    "start_time": "2022-03-13T18:47:26.471Z"
   },
   {
    "duration": 6,
    "start_time": "2022-03-13T18:47:26.492Z"
   },
   {
    "duration": 7,
    "start_time": "2022-03-13T18:47:26.501Z"
   },
   {
    "duration": 12,
    "start_time": "2022-03-13T18:47:26.511Z"
   },
   {
    "duration": 16,
    "start_time": "2022-03-13T18:47:26.525Z"
   },
   {
    "duration": 15,
    "start_time": "2022-03-13T18:47:26.545Z"
   },
   {
    "duration": 12,
    "start_time": "2022-03-13T18:47:26.563Z"
   },
   {
    "duration": 25,
    "start_time": "2022-03-13T18:47:26.577Z"
   },
   {
    "duration": 35,
    "start_time": "2022-03-13T18:47:26.605Z"
   },
   {
    "duration": 620,
    "start_time": "2022-03-13T18:47:26.644Z"
   },
   {
    "duration": 871,
    "start_time": "2022-03-13T18:47:27.267Z"
   },
   {
    "duration": 656,
    "start_time": "2022-03-13T18:47:28.141Z"
   },
   {
    "duration": 725,
    "start_time": "2022-03-13T18:47:28.800Z"
   },
   {
    "duration": 622,
    "start_time": "2022-03-13T18:47:29.527Z"
   },
   {
    "duration": 676,
    "start_time": "2022-03-13T18:47:30.152Z"
   },
   {
    "duration": 730,
    "start_time": "2022-03-13T18:47:30.833Z"
   },
   {
    "duration": 6,
    "start_time": "2022-03-13T18:47:31.566Z"
   },
   {
    "duration": 498,
    "start_time": "2022-03-13T18:47:31.575Z"
   },
   {
    "duration": 6,
    "start_time": "2022-03-13T18:47:32.076Z"
   },
   {
    "duration": 476,
    "start_time": "2022-03-13T18:47:32.084Z"
   },
   {
    "duration": 493,
    "start_time": "2022-03-13T18:47:32.566Z"
   },
   {
    "duration": 14,
    "start_time": "2022-03-13T18:47:33.062Z"
   },
   {
    "duration": 6757,
    "start_time": "2022-03-13T18:52:50.448Z"
   },
   {
    "duration": 646,
    "start_time": "2022-03-13T18:53:20.050Z"
   },
   {
    "duration": 19,
    "start_time": "2022-03-13T18:53:22.330Z"
   },
   {
    "duration": 19,
    "start_time": "2022-03-13T18:53:23.385Z"
   },
   {
    "duration": 12,
    "start_time": "2022-03-13T18:54:12.406Z"
   },
   {
    "duration": 19,
    "start_time": "2022-03-13T18:54:25.194Z"
   },
   {
    "duration": 6562,
    "start_time": "2022-03-13T18:54:38.292Z"
   },
   {
    "duration": 36,
    "start_time": "2022-03-13T18:55:00.560Z"
   },
   {
    "duration": 128,
    "start_time": "2022-03-14T19:10:13.767Z"
   },
   {
    "duration": 409,
    "start_time": "2022-03-14T19:12:19.239Z"
   },
   {
    "duration": 1336,
    "start_time": "2022-03-14T19:12:30.464Z"
   },
   {
    "duration": 38,
    "start_time": "2022-03-14T19:12:31.803Z"
   },
   {
    "duration": 12,
    "start_time": "2022-03-14T19:12:31.843Z"
   },
   {
    "duration": 10,
    "start_time": "2022-03-14T19:12:31.856Z"
   },
   {
    "duration": 9,
    "start_time": "2022-03-14T19:12:31.867Z"
   },
   {
    "duration": 13,
    "start_time": "2022-03-14T19:12:31.879Z"
   },
   {
    "duration": 15,
    "start_time": "2022-03-14T19:12:31.894Z"
   },
   {
    "duration": 11,
    "start_time": "2022-03-14T19:12:31.911Z"
   },
   {
    "duration": 9,
    "start_time": "2022-03-14T19:12:31.924Z"
   },
   {
    "duration": 28,
    "start_time": "2022-03-14T19:12:31.935Z"
   },
   {
    "duration": 8,
    "start_time": "2022-03-14T19:12:31.965Z"
   },
   {
    "duration": 355,
    "start_time": "2022-03-14T19:12:31.975Z"
   },
   {
    "duration": 395,
    "start_time": "2022-03-14T19:12:32.331Z"
   },
   {
    "duration": 364,
    "start_time": "2022-03-14T19:12:32.728Z"
   },
   {
    "duration": 451,
    "start_time": "2022-03-14T19:12:33.094Z"
   },
   {
    "duration": 379,
    "start_time": "2022-03-14T19:12:33.547Z"
   },
   {
    "duration": 510,
    "start_time": "2022-03-14T19:12:33.927Z"
   },
   {
    "duration": 463,
    "start_time": "2022-03-14T19:12:34.439Z"
   },
   {
    "duration": 5,
    "start_time": "2022-03-14T19:12:34.903Z"
   },
   {
    "duration": 490,
    "start_time": "2022-03-14T19:12:34.909Z"
   },
   {
    "duration": 6,
    "start_time": "2022-03-14T19:12:35.401Z"
   },
   {
    "duration": 443,
    "start_time": "2022-03-14T19:12:35.409Z"
   },
   {
    "duration": 268,
    "start_time": "2022-03-14T19:12:35.855Z"
   },
   {
    "duration": 8,
    "start_time": "2022-03-14T19:12:36.125Z"
   },
   {
    "duration": 28,
    "start_time": "2022-03-14T19:12:36.135Z"
   },
   {
    "duration": 20,
    "start_time": "2022-03-14T19:12:36.165Z"
   },
   {
    "duration": 12,
    "start_time": "2022-03-14T19:12:36.186Z"
   },
   {
    "duration": 9,
    "start_time": "2022-03-14T19:16:19.438Z"
   },
   {
    "duration": 8,
    "start_time": "2022-03-14T19:18:06.963Z"
   },
   {
    "duration": 13,
    "start_time": "2022-03-14T19:20:25.605Z"
   },
   {
    "duration": 332,
    "start_time": "2022-03-14T19:35:12.069Z"
   },
   {
    "duration": 2,
    "start_time": "2022-03-14T19:37:26.457Z"
   },
   {
    "duration": 218,
    "start_time": "2022-03-14T19:41:09.807Z"
   },
   {
    "duration": 3,
    "start_time": "2022-03-14T19:45:15.745Z"
   },
   {
    "duration": 1042,
    "start_time": "2022-03-14T19:45:51.009Z"
   },
   {
    "duration": 77,
    "start_time": "2022-03-14T19:45:52.053Z"
   },
   {
    "duration": 11,
    "start_time": "2022-03-14T19:45:52.132Z"
   },
   {
    "duration": 14,
    "start_time": "2022-03-14T19:45:52.145Z"
   },
   {
    "duration": 16,
    "start_time": "2022-03-14T19:45:52.160Z"
   },
   {
    "duration": 14,
    "start_time": "2022-03-14T19:45:52.177Z"
   },
   {
    "duration": 18,
    "start_time": "2022-03-14T19:45:52.193Z"
   },
   {
    "duration": 18,
    "start_time": "2022-03-14T19:45:52.213Z"
   },
   {
    "duration": 13,
    "start_time": "2022-03-14T19:45:52.233Z"
   },
   {
    "duration": 10,
    "start_time": "2022-03-14T19:45:52.248Z"
   },
   {
    "duration": 12,
    "start_time": "2022-03-14T19:45:52.259Z"
   },
   {
    "duration": 8,
    "start_time": "2022-03-14T19:45:52.273Z"
   },
   {
    "duration": 324,
    "start_time": "2022-03-14T19:45:52.283Z"
   },
   {
    "duration": 386,
    "start_time": "2022-03-14T19:45:52.609Z"
   },
   {
    "duration": 370,
    "start_time": "2022-03-14T19:45:52.997Z"
   },
   {
    "duration": 458,
    "start_time": "2022-03-14T19:45:53.369Z"
   },
   {
    "duration": 335,
    "start_time": "2022-03-14T19:45:53.828Z"
   },
   {
    "duration": 480,
    "start_time": "2022-03-14T19:45:54.165Z"
   },
   {
    "duration": 476,
    "start_time": "2022-03-14T19:45:54.646Z"
   },
   {
    "duration": 4,
    "start_time": "2022-03-14T19:45:55.124Z"
   },
   {
    "duration": 381,
    "start_time": "2022-03-14T19:45:55.130Z"
   },
   {
    "duration": 3,
    "start_time": "2022-03-14T19:45:55.513Z"
   },
   {
    "duration": 274,
    "start_time": "2022-03-14T19:45:55.519Z"
   },
   {
    "duration": 250,
    "start_time": "2022-03-14T19:45:55.795Z"
   },
   {
    "duration": 24,
    "start_time": "2022-03-14T19:45:56.046Z"
   },
   {
    "duration": 11,
    "start_time": "2022-03-14T19:45:56.072Z"
   },
   {
    "duration": 14,
    "start_time": "2022-03-14T19:45:56.085Z"
   },
   {
    "duration": 14,
    "start_time": "2022-03-14T19:45:56.101Z"
   },
   {
    "duration": 93,
    "start_time": "2022-03-15T20:47:36.556Z"
   },
   {
    "duration": 284,
    "start_time": "2022-03-15T20:59:43.890Z"
   },
   {
    "duration": 912,
    "start_time": "2022-03-15T20:59:53.674Z"
   },
   {
    "duration": 1426,
    "start_time": "2022-03-15T21:00:01.505Z"
   },
   {
    "duration": 41,
    "start_time": "2022-03-15T21:00:02.934Z"
   },
   {
    "duration": 71,
    "start_time": "2022-03-15T21:00:02.978Z"
   },
   {
    "duration": 103,
    "start_time": "2022-03-15T21:00:03.052Z"
   },
   {
    "duration": 68,
    "start_time": "2022-03-15T21:00:03.157Z"
   },
   {
    "duration": 61,
    "start_time": "2022-03-15T21:00:03.227Z"
   },
   {
    "duration": 55,
    "start_time": "2022-03-15T21:00:03.290Z"
   },
   {
    "duration": 41,
    "start_time": "2022-03-15T21:00:03.349Z"
   },
   {
    "duration": 42,
    "start_time": "2022-03-15T21:00:03.393Z"
   },
   {
    "duration": 44,
    "start_time": "2022-03-15T21:00:03.438Z"
   },
   {
    "duration": 44,
    "start_time": "2022-03-15T21:00:03.485Z"
   },
   {
    "duration": 37,
    "start_time": "2022-03-15T21:00:03.532Z"
   },
   {
    "duration": 598,
    "start_time": "2022-03-15T21:00:03.571Z"
   },
   {
    "duration": 658,
    "start_time": "2022-03-15T21:00:04.172Z"
   },
   {
    "duration": 611,
    "start_time": "2022-03-15T21:00:04.832Z"
   },
   {
    "duration": 718,
    "start_time": "2022-03-15T21:00:05.446Z"
   },
   {
    "duration": 575,
    "start_time": "2022-03-15T21:00:06.167Z"
   },
   {
    "duration": 733,
    "start_time": "2022-03-15T21:00:06.745Z"
   },
   {
    "duration": 720,
    "start_time": "2022-03-15T21:00:07.483Z"
   },
   {
    "duration": 7,
    "start_time": "2022-03-15T21:00:08.206Z"
   },
   {
    "duration": 547,
    "start_time": "2022-03-15T21:00:08.215Z"
   },
   {
    "duration": 310,
    "start_time": "2022-03-15T21:00:08.765Z"
   },
   {
    "duration": 72,
    "start_time": "2022-03-15T21:00:09.083Z"
   },
   {
    "duration": -261,
    "start_time": "2022-03-15T21:00:09.419Z"
   },
   {
    "duration": -292,
    "start_time": "2022-03-15T21:00:09.452Z"
   },
   {
    "duration": -326,
    "start_time": "2022-03-15T21:00:09.488Z"
   },
   {
    "duration": -342,
    "start_time": "2022-03-15T21:00:09.505Z"
   },
   {
    "duration": -387,
    "start_time": "2022-03-15T21:00:09.552Z"
   },
   {
    "duration": -442,
    "start_time": "2022-03-15T21:00:09.609Z"
   },
   {
    "duration": -480,
    "start_time": "2022-03-15T21:00:09.649Z"
   },
   {
    "duration": 6,
    "start_time": "2022-03-15T21:00:44.883Z"
   },
   {
    "duration": 489,
    "start_time": "2022-03-15T21:02:08.084Z"
   },
   {
    "duration": 463,
    "start_time": "2022-03-15T21:02:47.903Z"
   },
   {
    "duration": 471,
    "start_time": "2022-03-15T21:09:22.367Z"
   },
   {
    "duration": 589,
    "start_time": "2022-03-15T21:10:46.123Z"
   },
   {
    "duration": 634,
    "start_time": "2022-03-15T21:10:49.111Z"
   },
   {
    "duration": 14,
    "start_time": "2022-03-15T21:16:42.856Z"
   },
   {
    "duration": 406,
    "start_time": "2022-03-15T21:17:27.132Z"
   },
   {
    "duration": 16,
    "start_time": "2022-03-15T21:18:07.510Z"
   },
   {
    "duration": 14,
    "start_time": "2022-03-15T21:25:53.930Z"
   },
   {
    "duration": 14,
    "start_time": "2022-03-15T21:26:16.948Z"
   },
   {
    "duration": 4,
    "start_time": "2022-03-15T21:28:56.298Z"
   },
   {
    "duration": 19,
    "start_time": "2022-03-15T21:29:21.386Z"
   },
   {
    "duration": 20,
    "start_time": "2022-03-15T21:29:55.276Z"
   },
   {
    "duration": 1741,
    "start_time": "2022-03-15T21:37:28.078Z"
   },
   {
    "duration": 43,
    "start_time": "2022-03-15T21:37:29.823Z"
   },
   {
    "duration": 18,
    "start_time": "2022-03-15T21:37:29.869Z"
   },
   {
    "duration": 7,
    "start_time": "2022-03-15T21:37:29.890Z"
   },
   {
    "duration": 9,
    "start_time": "2022-03-15T21:37:29.900Z"
   },
   {
    "duration": 17,
    "start_time": "2022-03-15T21:37:29.912Z"
   },
   {
    "duration": 18,
    "start_time": "2022-03-15T21:37:29.932Z"
   },
   {
    "duration": 38,
    "start_time": "2022-03-15T21:37:29.956Z"
   },
   {
    "duration": 14,
    "start_time": "2022-03-15T21:37:29.998Z"
   },
   {
    "duration": 21,
    "start_time": "2022-03-15T21:37:30.015Z"
   },
   {
    "duration": 50,
    "start_time": "2022-03-15T21:37:30.041Z"
   },
   {
    "duration": 25,
    "start_time": "2022-03-15T21:37:30.094Z"
   },
   {
    "duration": 863,
    "start_time": "2022-03-15T21:37:30.122Z"
   },
   {
    "duration": 681,
    "start_time": "2022-03-15T21:37:30.990Z"
   },
   {
    "duration": 623,
    "start_time": "2022-03-15T21:37:31.682Z"
   },
   {
    "duration": 1003,
    "start_time": "2022-03-15T21:37:32.308Z"
   },
   {
    "duration": 819,
    "start_time": "2022-03-15T21:37:33.314Z"
   },
   {
    "duration": 838,
    "start_time": "2022-03-15T21:37:34.136Z"
   },
   {
    "duration": 820,
    "start_time": "2022-03-15T21:37:34.982Z"
   },
   {
    "duration": 6,
    "start_time": "2022-03-15T21:37:35.807Z"
   },
   {
    "duration": 488,
    "start_time": "2022-03-15T21:37:35.815Z"
   },
   {
    "duration": 6,
    "start_time": "2022-03-15T21:37:36.305Z"
   },
   {
    "duration": 614,
    "start_time": "2022-03-15T21:37:36.315Z"
   },
   {
    "duration": 521,
    "start_time": "2022-03-15T21:37:36.933Z"
   },
   {
    "duration": 31,
    "start_time": "2022-03-15T21:37:37.456Z"
   },
   {
    "duration": 25,
    "start_time": "2022-03-15T21:37:37.490Z"
   },
   {
    "duration": 36,
    "start_time": "2022-03-15T21:37:37.518Z"
   },
   {
    "duration": 51,
    "start_time": "2022-03-15T21:37:37.558Z"
   },
   {
    "duration": 951,
    "start_time": "2022-03-16T16:42:45.263Z"
   },
   {
    "duration": 201,
    "start_time": "2022-03-16T16:45:35.009Z"
   },
   {
    "duration": 993,
    "start_time": "2022-03-16T16:45:41.521Z"
   },
   {
    "duration": 33,
    "start_time": "2022-03-16T16:45:42.516Z"
   },
   {
    "duration": 10,
    "start_time": "2022-03-16T16:45:42.551Z"
   },
   {
    "duration": 8,
    "start_time": "2022-03-16T16:45:42.563Z"
   },
   {
    "duration": 7,
    "start_time": "2022-03-16T16:45:42.573Z"
   },
   {
    "duration": 11,
    "start_time": "2022-03-16T16:45:42.581Z"
   },
   {
    "duration": 14,
    "start_time": "2022-03-16T16:45:42.593Z"
   },
   {
    "duration": 7,
    "start_time": "2022-03-16T16:45:42.609Z"
   },
   {
    "duration": 9,
    "start_time": "2022-03-16T16:45:42.618Z"
   },
   {
    "duration": 8,
    "start_time": "2022-03-16T16:45:42.628Z"
   },
   {
    "duration": 10,
    "start_time": "2022-03-16T16:45:42.637Z"
   },
   {
    "duration": 11,
    "start_time": "2022-03-16T16:45:42.649Z"
   },
   {
    "duration": 10,
    "start_time": "2022-03-16T16:45:42.662Z"
   },
   {
    "duration": 341,
    "start_time": "2022-03-16T16:45:42.674Z"
   },
   {
    "duration": 379,
    "start_time": "2022-03-16T16:45:43.017Z"
   },
   {
    "duration": 364,
    "start_time": "2022-03-16T16:45:43.398Z"
   },
   {
    "duration": 414,
    "start_time": "2022-03-16T16:45:43.763Z"
   },
   {
    "duration": 334,
    "start_time": "2022-03-16T16:45:44.178Z"
   },
   {
    "duration": 463,
    "start_time": "2022-03-16T16:45:44.514Z"
   },
   {
    "duration": 434,
    "start_time": "2022-03-16T16:45:44.979Z"
   },
   {
    "duration": 4,
    "start_time": "2022-03-16T16:45:45.415Z"
   },
   {
    "duration": 307,
    "start_time": "2022-03-16T16:45:45.432Z"
   },
   {
    "duration": 5,
    "start_time": "2022-03-16T16:45:45.742Z"
   },
   {
    "duration": 274,
    "start_time": "2022-03-16T16:45:45.748Z"
   },
   {
    "duration": 238,
    "start_time": "2022-03-16T16:45:46.023Z"
   },
   {
    "duration": 9,
    "start_time": "2022-03-16T16:45:46.262Z"
   },
   {
    "duration": 8,
    "start_time": "2022-03-16T16:45:46.273Z"
   },
   {
    "duration": 15,
    "start_time": "2022-03-16T16:45:46.282Z"
   },
   {
    "duration": 38,
    "start_time": "2022-03-16T16:45:46.299Z"
   },
   {
    "duration": 8,
    "start_time": "2022-03-16T16:48:02.981Z"
   },
   {
    "duration": 6,
    "start_time": "2022-03-16T16:48:34.292Z"
   },
   {
    "duration": 6,
    "start_time": "2022-03-16T16:48:59.601Z"
   },
   {
    "duration": 41,
    "start_time": "2022-03-16T17:11:30.710Z"
   },
   {
    "duration": 40,
    "start_time": "2022-03-16T17:11:35.253Z"
   },
   {
    "duration": 40,
    "start_time": "2022-03-16T17:11:42.050Z"
   },
   {
    "duration": 18,
    "start_time": "2022-03-16T17:11:49.553Z"
   },
   {
    "duration": 237,
    "start_time": "2022-03-16T17:13:25.266Z"
   },
   {
    "duration": 193,
    "start_time": "2022-03-16T17:13:57.838Z"
   },
   {
    "duration": 37,
    "start_time": "2022-03-16T17:14:48.887Z"
   },
   {
    "duration": 55,
    "start_time": "2022-03-16T17:15:03.891Z"
   },
   {
    "duration": 19,
    "start_time": "2022-03-16T17:15:12.088Z"
   },
   {
    "duration": 154,
    "start_time": "2022-03-16T17:15:38.176Z"
   },
   {
    "duration": 19,
    "start_time": "2022-03-16T17:15:49.009Z"
   },
   {
    "duration": 160,
    "start_time": "2022-03-16T17:16:22.805Z"
   },
   {
    "duration": 19,
    "start_time": "2022-03-16T17:16:37.460Z"
   },
   {
    "duration": 18,
    "start_time": "2022-03-16T17:17:04.805Z"
   },
   {
    "duration": 17,
    "start_time": "2022-03-16T17:17:16.510Z"
   },
   {
    "duration": 12,
    "start_time": "2022-03-16T17:18:23.388Z"
   },
   {
    "duration": 21,
    "start_time": "2022-03-16T17:20:01.331Z"
   },
   {
    "duration": 41,
    "start_time": "2022-03-16T17:25:29.083Z"
   },
   {
    "duration": 44,
    "start_time": "2022-03-16T17:25:48.202Z"
   },
   {
    "duration": 131,
    "start_time": "2022-03-16T17:26:07.893Z"
   },
   {
    "duration": 462,
    "start_time": "2022-03-16T17:26:28.659Z"
   },
   {
    "duration": 529,
    "start_time": "2022-03-16T17:27:27.008Z"
   },
   {
    "duration": 1070,
    "start_time": "2022-03-16T17:43:15.120Z"
   },
   {
    "duration": 52,
    "start_time": "2022-03-16T17:43:16.191Z"
   },
   {
    "duration": 13,
    "start_time": "2022-03-16T17:43:16.245Z"
   },
   {
    "duration": 4,
    "start_time": "2022-03-16T17:43:16.261Z"
   },
   {
    "duration": 5,
    "start_time": "2022-03-16T17:43:16.267Z"
   },
   {
    "duration": 8,
    "start_time": "2022-03-16T17:43:16.273Z"
   },
   {
    "duration": 11,
    "start_time": "2022-03-16T17:43:16.283Z"
   },
   {
    "duration": 9,
    "start_time": "2022-03-16T17:43:16.298Z"
   },
   {
    "duration": 29,
    "start_time": "2022-03-16T17:43:16.311Z"
   },
   {
    "duration": 10,
    "start_time": "2022-03-16T17:43:16.342Z"
   },
   {
    "duration": 10,
    "start_time": "2022-03-16T17:43:16.354Z"
   },
   {
    "duration": 10,
    "start_time": "2022-03-16T17:43:16.365Z"
   },
   {
    "duration": 356,
    "start_time": "2022-03-16T17:43:16.376Z"
   },
   {
    "duration": 388,
    "start_time": "2022-03-16T17:43:16.734Z"
   },
   {
    "duration": 359,
    "start_time": "2022-03-16T17:43:17.124Z"
   },
   {
    "duration": 558,
    "start_time": "2022-03-16T17:43:17.485Z"
   },
   {
    "duration": 484,
    "start_time": "2022-03-16T17:43:18.045Z"
   },
   {
    "duration": 604,
    "start_time": "2022-03-16T17:43:18.531Z"
   },
   {
    "duration": 454,
    "start_time": "2022-03-16T17:43:19.137Z"
   },
   {
    "duration": 4,
    "start_time": "2022-03-16T17:43:19.593Z"
   },
   {
    "duration": 289,
    "start_time": "2022-03-16T17:43:19.598Z"
   },
   {
    "duration": 4,
    "start_time": "2022-03-16T17:43:19.889Z"
   },
   {
    "duration": 270,
    "start_time": "2022-03-16T17:43:19.897Z"
   },
   {
    "duration": 243,
    "start_time": "2022-03-16T17:43:20.170Z"
   },
   {
    "duration": 23,
    "start_time": "2022-03-16T17:43:20.415Z"
   },
   {
    "duration": 10,
    "start_time": "2022-03-16T17:43:20.440Z"
   },
   {
    "duration": 22,
    "start_time": "2022-03-16T17:43:20.452Z"
   },
   {
    "duration": 17,
    "start_time": "2022-03-16T17:43:20.476Z"
   }
  ],
  "kernelspec": {
   "display_name": "Python 3 (ipykernel)",
   "language": "python",
   "name": "python3"
  },
  "language_info": {
   "codemirror_mode": {
    "name": "ipython",
    "version": 3
   },
   "file_extension": ".py",
   "mimetype": "text/x-python",
   "name": "python",
   "nbconvert_exporter": "python",
   "pygments_lexer": "ipython3",
   "version": "3.9.12"
  },
  "toc": {
   "base_numbering": 1,
   "nav_menu": {},
   "number_sections": true,
   "sideBar": true,
   "skip_h1_title": true,
   "title_cell": "Table of Contents",
   "title_sidebar": "Contents",
   "toc_cell": false,
   "toc_position": {
    "height": "calc(100% - 180px)",
    "left": "10px",
    "top": "150px",
    "width": "366.4px"
   },
   "toc_section_display": true,
   "toc_window_display": true
  }
 },
 "nbformat": 4,
 "nbformat_minor": 2
}
