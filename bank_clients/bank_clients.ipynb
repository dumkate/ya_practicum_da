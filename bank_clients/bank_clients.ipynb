{
 "cells": [
  {
   "cell_type": "markdown",
   "metadata": {},
   "source": [
    "# Исследование надёжности заёмщиков\n",
    "\n",
    "Заказчик — кредитный отдел банка. Нужно разобраться, влияет ли семейное положение и количество детей клиента на факт погашения кредита в срок. Входные данные от банка — статистика о платёжеспособности клиентов.\n",
    "\n",
    "Результаты исследования будут учтены при построении модели **кредитного скоринга** — специальной системы, которая оценивает способность потенциального заёмщика вернуть кредит банку."
   ]
  },
  {
   "cell_type": "markdown",
   "metadata": {},
   "source": [
    "## Шаг 1. Откройте файл с данными и изучите общую информацию"
   ]
  },
  {
   "cell_type": "code",
   "execution_count": 1,
   "metadata": {},
   "outputs": [
    {
     "name": "stdout",
     "output_type": "stream",
     "text": [
      "<class 'pandas.core.frame.DataFrame'>\n",
      "RangeIndex: 21525 entries, 0 to 21524\n",
      "Data columns (total 12 columns):\n",
      "children            21525 non-null int64\n",
      "days_employed       19351 non-null float64\n",
      "dob_years           21525 non-null int64\n",
      "education           21525 non-null object\n",
      "education_id        21525 non-null int64\n",
      "family_status       21525 non-null object\n",
      "family_status_id    21525 non-null int64\n",
      "gender              21525 non-null object\n",
      "income_type         21525 non-null object\n",
      "debt                21525 non-null int64\n",
      "total_income        19351 non-null float64\n",
      "purpose             21525 non-null object\n",
      "dtypes: float64(2), int64(5), object(5)\n",
      "memory usage: 2.0+ MB\n"
     ]
    }
   ],
   "source": [
    "import pandas as pd\n",
    "clients = pd.read_csv('/datasets/data.csv')\n",
    "clients.info()"
   ]
  },
  {
   "cell_type": "markdown",
   "metadata": {},
   "source": [
    "В таблице 12 колонок, стоит обратить внимание на колонки days employed и total_income, в них количество значение non-null отличается, значит, в данных колонках есть пропущенные значения, которые далее необходимо обработать. Также тип данных float в колонке days employed стоит пересмотреть и преобразовать к целые числа"
   ]
  },
  {
   "cell_type": "code",
   "execution_count": 2,
   "metadata": {},
   "outputs": [
    {
     "data": {
      "text/plain": [
       "children               0\n",
       "days_employed       2174\n",
       "dob_years              0\n",
       "education              0\n",
       "education_id           0\n",
       "family_status          0\n",
       "family_status_id       0\n",
       "gender                 0\n",
       "income_type            0\n",
       "debt                   0\n",
       "total_income        2174\n",
       "purpose                0\n",
       "dtype: int64"
      ]
     },
     "execution_count": 2,
     "metadata": {},
     "output_type": "execute_result"
    }
   ],
   "source": [
    "clients.isna().sum()"
   ]
  },
  {
   "cell_type": "code",
   "execution_count": 3,
   "metadata": {
    "scrolled": false
   },
   "outputs": [
    {
     "data": {
      "text/plain": [
       "54"
      ]
     },
     "execution_count": 3,
     "metadata": {},
     "output_type": "execute_result"
    }
   ],
   "source": [
    "clients.duplicated().sum()"
   ]
  },
  {
   "cell_type": "markdown",
   "metadata": {},
   "source": [
    "## Шаг 2. Предобработка данных"
   ]
  },
  {
   "cell_type": "code",
   "execution_count": 4,
   "metadata": {},
   "outputs": [
    {
     "data": {
      "text/html": [
       "<div>\n",
       "<style scoped>\n",
       "    .dataframe tbody tr th:only-of-type {\n",
       "        vertical-align: middle;\n",
       "    }\n",
       "\n",
       "    .dataframe tbody tr th {\n",
       "        vertical-align: top;\n",
       "    }\n",
       "\n",
       "    .dataframe thead th {\n",
       "        text-align: right;\n",
       "    }\n",
       "</style>\n",
       "<table border=\"1\" class=\"dataframe\">\n",
       "  <thead>\n",
       "    <tr style=\"text-align: right;\">\n",
       "      <th></th>\n",
       "      <th>children</th>\n",
       "      <th>days_employed</th>\n",
       "      <th>dob_years</th>\n",
       "      <th>education</th>\n",
       "      <th>education_id</th>\n",
       "      <th>family_status</th>\n",
       "      <th>family_status_id</th>\n",
       "      <th>gender</th>\n",
       "      <th>income_type</th>\n",
       "      <th>debt</th>\n",
       "      <th>total_income</th>\n",
       "      <th>purpose</th>\n",
       "    </tr>\n",
       "  </thead>\n",
       "  <tbody>\n",
       "    <tr>\n",
       "      <td>0</td>\n",
       "      <td>1</td>\n",
       "      <td>8437.673028</td>\n",
       "      <td>42</td>\n",
       "      <td>высшее</td>\n",
       "      <td>0</td>\n",
       "      <td>женат / замужем</td>\n",
       "      <td>0</td>\n",
       "      <td>F</td>\n",
       "      <td>сотрудник</td>\n",
       "      <td>0</td>\n",
       "      <td>253875.639453</td>\n",
       "      <td>покупка жилья</td>\n",
       "    </tr>\n",
       "    <tr>\n",
       "      <td>1</td>\n",
       "      <td>1</td>\n",
       "      <td>4024.803754</td>\n",
       "      <td>36</td>\n",
       "      <td>среднее</td>\n",
       "      <td>1</td>\n",
       "      <td>женат / замужем</td>\n",
       "      <td>0</td>\n",
       "      <td>F</td>\n",
       "      <td>сотрудник</td>\n",
       "      <td>0</td>\n",
       "      <td>112080.014102</td>\n",
       "      <td>приобретение автомобиля</td>\n",
       "    </tr>\n",
       "    <tr>\n",
       "      <td>2</td>\n",
       "      <td>0</td>\n",
       "      <td>5623.422610</td>\n",
       "      <td>33</td>\n",
       "      <td>Среднее</td>\n",
       "      <td>1</td>\n",
       "      <td>женат / замужем</td>\n",
       "      <td>0</td>\n",
       "      <td>M</td>\n",
       "      <td>сотрудник</td>\n",
       "      <td>0</td>\n",
       "      <td>145885.952297</td>\n",
       "      <td>покупка жилья</td>\n",
       "    </tr>\n",
       "    <tr>\n",
       "      <td>3</td>\n",
       "      <td>3</td>\n",
       "      <td>4124.747207</td>\n",
       "      <td>32</td>\n",
       "      <td>среднее</td>\n",
       "      <td>1</td>\n",
       "      <td>женат / замужем</td>\n",
       "      <td>0</td>\n",
       "      <td>M</td>\n",
       "      <td>сотрудник</td>\n",
       "      <td>0</td>\n",
       "      <td>267628.550329</td>\n",
       "      <td>дополнительное образование</td>\n",
       "    </tr>\n",
       "    <tr>\n",
       "      <td>4</td>\n",
       "      <td>0</td>\n",
       "      <td>14177.753002</td>\n",
       "      <td>53</td>\n",
       "      <td>среднее</td>\n",
       "      <td>1</td>\n",
       "      <td>гражданский брак</td>\n",
       "      <td>1</td>\n",
       "      <td>F</td>\n",
       "      <td>пенсионер</td>\n",
       "      <td>0</td>\n",
       "      <td>158616.077870</td>\n",
       "      <td>сыграть свадьбу</td>\n",
       "    </tr>\n",
       "    <tr>\n",
       "      <td>5</td>\n",
       "      <td>0</td>\n",
       "      <td>926.185831</td>\n",
       "      <td>27</td>\n",
       "      <td>высшее</td>\n",
       "      <td>0</td>\n",
       "      <td>гражданский брак</td>\n",
       "      <td>1</td>\n",
       "      <td>M</td>\n",
       "      <td>компаньон</td>\n",
       "      <td>0</td>\n",
       "      <td>255763.565419</td>\n",
       "      <td>покупка жилья</td>\n",
       "    </tr>\n",
       "    <tr>\n",
       "      <td>6</td>\n",
       "      <td>0</td>\n",
       "      <td>2879.202052</td>\n",
       "      <td>43</td>\n",
       "      <td>высшее</td>\n",
       "      <td>0</td>\n",
       "      <td>женат / замужем</td>\n",
       "      <td>0</td>\n",
       "      <td>F</td>\n",
       "      <td>компаньон</td>\n",
       "      <td>0</td>\n",
       "      <td>240525.971920</td>\n",
       "      <td>операции с жильем</td>\n",
       "    </tr>\n",
       "    <tr>\n",
       "      <td>7</td>\n",
       "      <td>0</td>\n",
       "      <td>152.779569</td>\n",
       "      <td>50</td>\n",
       "      <td>СРЕДНЕЕ</td>\n",
       "      <td>1</td>\n",
       "      <td>женат / замужем</td>\n",
       "      <td>0</td>\n",
       "      <td>M</td>\n",
       "      <td>сотрудник</td>\n",
       "      <td>0</td>\n",
       "      <td>135823.934197</td>\n",
       "      <td>образование</td>\n",
       "    </tr>\n",
       "    <tr>\n",
       "      <td>8</td>\n",
       "      <td>2</td>\n",
       "      <td>6929.865299</td>\n",
       "      <td>35</td>\n",
       "      <td>ВЫСШЕЕ</td>\n",
       "      <td>0</td>\n",
       "      <td>гражданский брак</td>\n",
       "      <td>1</td>\n",
       "      <td>F</td>\n",
       "      <td>сотрудник</td>\n",
       "      <td>0</td>\n",
       "      <td>95856.832424</td>\n",
       "      <td>на проведение свадьбы</td>\n",
       "    </tr>\n",
       "    <tr>\n",
       "      <td>9</td>\n",
       "      <td>0</td>\n",
       "      <td>2188.756445</td>\n",
       "      <td>41</td>\n",
       "      <td>среднее</td>\n",
       "      <td>1</td>\n",
       "      <td>женат / замужем</td>\n",
       "      <td>0</td>\n",
       "      <td>M</td>\n",
       "      <td>сотрудник</td>\n",
       "      <td>0</td>\n",
       "      <td>144425.938277</td>\n",
       "      <td>покупка жилья для семьи</td>\n",
       "    </tr>\n",
       "    <tr>\n",
       "      <td>10</td>\n",
       "      <td>2</td>\n",
       "      <td>4171.483647</td>\n",
       "      <td>36</td>\n",
       "      <td>высшее</td>\n",
       "      <td>0</td>\n",
       "      <td>женат / замужем</td>\n",
       "      <td>0</td>\n",
       "      <td>M</td>\n",
       "      <td>компаньон</td>\n",
       "      <td>0</td>\n",
       "      <td>113943.491460</td>\n",
       "      <td>покупка недвижимости</td>\n",
       "    </tr>\n",
       "    <tr>\n",
       "      <td>11</td>\n",
       "      <td>0</td>\n",
       "      <td>792.701887</td>\n",
       "      <td>40</td>\n",
       "      <td>среднее</td>\n",
       "      <td>1</td>\n",
       "      <td>женат / замужем</td>\n",
       "      <td>0</td>\n",
       "      <td>F</td>\n",
       "      <td>сотрудник</td>\n",
       "      <td>0</td>\n",
       "      <td>77069.234271</td>\n",
       "      <td>покупка коммерческой недвижимости</td>\n",
       "    </tr>\n",
       "    <tr>\n",
       "      <td>12</td>\n",
       "      <td>0</td>\n",
       "      <td>4641.641176</td>\n",
       "      <td>65</td>\n",
       "      <td>среднее</td>\n",
       "      <td>1</td>\n",
       "      <td>гражданский брак</td>\n",
       "      <td>1</td>\n",
       "      <td>M</td>\n",
       "      <td>пенсионер</td>\n",
       "      <td>0</td>\n",
       "      <td>NaN</td>\n",
       "      <td>сыграть свадьбу</td>\n",
       "    </tr>\n",
       "    <tr>\n",
       "      <td>13</td>\n",
       "      <td>0</td>\n",
       "      <td>1846.641941</td>\n",
       "      <td>54</td>\n",
       "      <td>неоконченное высшее</td>\n",
       "      <td>2</td>\n",
       "      <td>женат / замужем</td>\n",
       "      <td>0</td>\n",
       "      <td>F</td>\n",
       "      <td>сотрудник</td>\n",
       "      <td>0</td>\n",
       "      <td>130458.228857</td>\n",
       "      <td>приобретение автомобиля</td>\n",
       "    </tr>\n",
       "    <tr>\n",
       "      <td>14</td>\n",
       "      <td>0</td>\n",
       "      <td>1844.956182</td>\n",
       "      <td>56</td>\n",
       "      <td>высшее</td>\n",
       "      <td>0</td>\n",
       "      <td>гражданский брак</td>\n",
       "      <td>1</td>\n",
       "      <td>F</td>\n",
       "      <td>компаньон</td>\n",
       "      <td>1</td>\n",
       "      <td>165127.911772</td>\n",
       "      <td>покупка жилой недвижимости</td>\n",
       "    </tr>\n",
       "    <tr>\n",
       "      <td>15</td>\n",
       "      <td>1</td>\n",
       "      <td>972.364419</td>\n",
       "      <td>26</td>\n",
       "      <td>среднее</td>\n",
       "      <td>1</td>\n",
       "      <td>женат / замужем</td>\n",
       "      <td>0</td>\n",
       "      <td>F</td>\n",
       "      <td>сотрудник</td>\n",
       "      <td>0</td>\n",
       "      <td>116820.904450</td>\n",
       "      <td>строительство собственной недвижимости</td>\n",
       "    </tr>\n",
       "    <tr>\n",
       "      <td>16</td>\n",
       "      <td>0</td>\n",
       "      <td>1719.934226</td>\n",
       "      <td>35</td>\n",
       "      <td>среднее</td>\n",
       "      <td>1</td>\n",
       "      <td>женат / замужем</td>\n",
       "      <td>0</td>\n",
       "      <td>F</td>\n",
       "      <td>сотрудник</td>\n",
       "      <td>0</td>\n",
       "      <td>289202.704229</td>\n",
       "      <td>недвижимость</td>\n",
       "    </tr>\n",
       "    <tr>\n",
       "      <td>17</td>\n",
       "      <td>0</td>\n",
       "      <td>2369.999720</td>\n",
       "      <td>33</td>\n",
       "      <td>высшее</td>\n",
       "      <td>0</td>\n",
       "      <td>гражданский брак</td>\n",
       "      <td>1</td>\n",
       "      <td>M</td>\n",
       "      <td>сотрудник</td>\n",
       "      <td>0</td>\n",
       "      <td>90410.586745</td>\n",
       "      <td>строительство недвижимости</td>\n",
       "    </tr>\n",
       "    <tr>\n",
       "      <td>18</td>\n",
       "      <td>0</td>\n",
       "      <td>16678.380705</td>\n",
       "      <td>53</td>\n",
       "      <td>среднее</td>\n",
       "      <td>1</td>\n",
       "      <td>вдовец / вдова</td>\n",
       "      <td>2</td>\n",
       "      <td>F</td>\n",
       "      <td>пенсионер</td>\n",
       "      <td>0</td>\n",
       "      <td>56823.777243</td>\n",
       "      <td>на покупку подержанного автомобиля</td>\n",
       "    </tr>\n",
       "    <tr>\n",
       "      <td>19</td>\n",
       "      <td>0</td>\n",
       "      <td>10038.818549</td>\n",
       "      <td>48</td>\n",
       "      <td>СРЕДНЕЕ</td>\n",
       "      <td>1</td>\n",
       "      <td>в разводе</td>\n",
       "      <td>3</td>\n",
       "      <td>F</td>\n",
       "      <td>сотрудник</td>\n",
       "      <td>0</td>\n",
       "      <td>242831.107982</td>\n",
       "      <td>на покупку своего автомобиля</td>\n",
       "    </tr>\n",
       "  </tbody>\n",
       "</table>\n",
       "</div>"
      ],
      "text/plain": [
       "    children  days_employed  dob_years            education  education_id  \\\n",
       "0          1    8437.673028         42               высшее             0   \n",
       "1          1    4024.803754         36              среднее             1   \n",
       "2          0    5623.422610         33              Среднее             1   \n",
       "3          3    4124.747207         32              среднее             1   \n",
       "4          0   14177.753002         53              среднее             1   \n",
       "5          0     926.185831         27               высшее             0   \n",
       "6          0    2879.202052         43               высшее             0   \n",
       "7          0     152.779569         50              СРЕДНЕЕ             1   \n",
       "8          2    6929.865299         35               ВЫСШЕЕ             0   \n",
       "9          0    2188.756445         41              среднее             1   \n",
       "10         2    4171.483647         36               высшее             0   \n",
       "11         0     792.701887         40              среднее             1   \n",
       "12         0    4641.641176         65              среднее             1   \n",
       "13         0    1846.641941         54  неоконченное высшее             2   \n",
       "14         0    1844.956182         56               высшее             0   \n",
       "15         1     972.364419         26              среднее             1   \n",
       "16         0    1719.934226         35              среднее             1   \n",
       "17         0    2369.999720         33               высшее             0   \n",
       "18         0   16678.380705         53              среднее             1   \n",
       "19         0   10038.818549         48              СРЕДНЕЕ             1   \n",
       "\n",
       "       family_status  family_status_id gender income_type  debt  \\\n",
       "0    женат / замужем                 0      F   сотрудник     0   \n",
       "1    женат / замужем                 0      F   сотрудник     0   \n",
       "2    женат / замужем                 0      M   сотрудник     0   \n",
       "3    женат / замужем                 0      M   сотрудник     0   \n",
       "4   гражданский брак                 1      F   пенсионер     0   \n",
       "5   гражданский брак                 1      M   компаньон     0   \n",
       "6    женат / замужем                 0      F   компаньон     0   \n",
       "7    женат / замужем                 0      M   сотрудник     0   \n",
       "8   гражданский брак                 1      F   сотрудник     0   \n",
       "9    женат / замужем                 0      M   сотрудник     0   \n",
       "10   женат / замужем                 0      M   компаньон     0   \n",
       "11   женат / замужем                 0      F   сотрудник     0   \n",
       "12  гражданский брак                 1      M   пенсионер     0   \n",
       "13   женат / замужем                 0      F   сотрудник     0   \n",
       "14  гражданский брак                 1      F   компаньон     1   \n",
       "15   женат / замужем                 0      F   сотрудник     0   \n",
       "16   женат / замужем                 0      F   сотрудник     0   \n",
       "17  гражданский брак                 1      M   сотрудник     0   \n",
       "18    вдовец / вдова                 2      F   пенсионер     0   \n",
       "19         в разводе                 3      F   сотрудник     0   \n",
       "\n",
       "     total_income                                 purpose  \n",
       "0   253875.639453                           покупка жилья  \n",
       "1   112080.014102                 приобретение автомобиля  \n",
       "2   145885.952297                           покупка жилья  \n",
       "3   267628.550329              дополнительное образование  \n",
       "4   158616.077870                         сыграть свадьбу  \n",
       "5   255763.565419                           покупка жилья  \n",
       "6   240525.971920                       операции с жильем  \n",
       "7   135823.934197                             образование  \n",
       "8    95856.832424                   на проведение свадьбы  \n",
       "9   144425.938277                 покупка жилья для семьи  \n",
       "10  113943.491460                    покупка недвижимости  \n",
       "11   77069.234271       покупка коммерческой недвижимости  \n",
       "12            NaN                         сыграть свадьбу  \n",
       "13  130458.228857                 приобретение автомобиля  \n",
       "14  165127.911772              покупка жилой недвижимости  \n",
       "15  116820.904450  строительство собственной недвижимости  \n",
       "16  289202.704229                            недвижимость  \n",
       "17   90410.586745              строительство недвижимости  \n",
       "18   56823.777243      на покупку подержанного автомобиля  \n",
       "19  242831.107982            на покупку своего автомобиля  "
      ]
     },
     "metadata": {},
     "output_type": "display_data"
    }
   ],
   "source": [
    "#Первыми в глаза бросаются отработанные дни, необходимо избавиться от отрицательных значений, применив метод абс и вернув тем самым абсолютные значения чиссел\n",
    "#Также слишком большие значения записаны в часах, следовательно разделим на 24, чтобы получить приблизтельное количество дней \n",
    "clients['days_employed'] = clients['days_employed'].apply(abs)\n",
    "clients.loc[clients['days_employed'] > 30000, 'days_employed'] = clients.loc[clients['days_employed'] > 30000, 'days_employed'] / 24\n",
    "#Пропуски в данном столбце можно заменить на среднее количество отработанных дней. Пропуски случайные, если посмотреть на образование и источник дохода, столько человек не могло не работать ни одного дня. Количество дней также не должно повлиять на выводы по поставленным задачам\n",
    "days_avg = clients['days_employed'].mean()\n",
    "clients['days_employed'] = clients['days_employed'].fillna(days_avg)\n",
    "display(clients.head(20))"
   ]
  },
  {
   "cell_type": "code",
   "execution_count": 5,
   "metadata": {},
   "outputs": [
    {
     "data": {
      "text/plain": [
       "array([ 1,  0,  3,  2, -1,  4, 20,  5])"
      ]
     },
     "execution_count": 5,
     "metadata": {},
     "output_type": "execute_result"
    }
   ],
   "source": [
    "#Перейдем к столбцу с количеством детей, найдем уникальные значения\n",
    "clients['children'].unique()\n"
   ]
  },
  {
   "cell_type": "code",
   "execution_count": 6,
   "metadata": {},
   "outputs": [
    {
     "data": {
      "text/plain": [
       "0     1\n",
       "1     1\n",
       "2     0\n",
       "3     1\n",
       "4     0\n",
       "5     0\n",
       "6     0\n",
       "7     0\n",
       "8     1\n",
       "9     0\n",
       "10    1\n",
       "11    0\n",
       "12    0\n",
       "13    0\n",
       "14    0\n",
       "Name: children_id, dtype: object"
      ]
     },
     "metadata": {},
     "output_type": "display_data"
    }
   ],
   "source": [
    "#20 детей, скорее всего, ошибка и ноль был поставлен случайно вместо знака препинания, и отрицательное значение приведем к нулю\n",
    "#Для удобства будущего анализа, возможно, нам понадобится столбец с категорией \"есть или нет дети\"\n",
    "clients.loc[clients['children'] == 20, 'children'] = 2\n",
    "clients.loc[clients['children'] == -1, 'children'] = 0\n",
    "def children_id(children):\n",
    "    if children == 0:\n",
    "        return '0'    \n",
    "    return '1'\n",
    "clients['children_id'] = clients['children'].apply(children_id)\n",
    "display(clients['children_id'].head(15))"
   ]
  },
  {
   "cell_type": "code",
   "execution_count": 7,
   "metadata": {},
   "outputs": [
    {
     "data": {
      "text/plain": [
       "array([42, 36, 33, 32, 53, 27, 43, 50, 35, 41, 40, 65, 54, 56, 26, 48, 24,\n",
       "       21, 57, 67, 28, 63, 62, 47, 34, 68, 25, 31, 30, 20, 49, 37, 45, 61,\n",
       "       64, 44, 52, 46, 23, 38, 39, 51,  0, 59, 29, 60, 55, 58, 71, 22, 73,\n",
       "       66, 69, 19, 72, 70, 74, 75])"
      ]
     },
     "execution_count": 7,
     "metadata": {},
     "output_type": "execute_result"
    }
   ],
   "source": [
    "\n",
    "clients['dob_years'].unique() "
   ]
  },
  {
   "cell_type": "code",
   "execution_count": 8,
   "metadata": {},
   "outputs": [
    {
     "data": {
      "text/plain": [
       "children            0.004692\n",
       "days_employed       0.004692\n",
       "dob_years           0.004692\n",
       "education           0.004692\n",
       "education_id        0.004692\n",
       "family_status       0.004692\n",
       "family_status_id    0.004692\n",
       "gender              0.004692\n",
       "income_type         0.004692\n",
       "debt                0.004692\n",
       "total_income        0.004228\n",
       "purpose             0.004692\n",
       "children_id         0.004692\n",
       "dtype: float64"
      ]
     },
     "metadata": {},
     "output_type": "display_data"
    },
    {
     "data": {
      "text/html": [
       "<div>\n",
       "<style scoped>\n",
       "    .dataframe tbody tr th:only-of-type {\n",
       "        vertical-align: middle;\n",
       "    }\n",
       "\n",
       "    .dataframe tbody tr th {\n",
       "        vertical-align: top;\n",
       "    }\n",
       "\n",
       "    .dataframe thead th {\n",
       "        text-align: right;\n",
       "    }\n",
       "</style>\n",
       "<table border=\"1\" class=\"dataframe\">\n",
       "  <thead>\n",
       "    <tr style=\"text-align: right;\">\n",
       "      <th></th>\n",
       "      <th>children</th>\n",
       "      <th>days_employed</th>\n",
       "      <th>dob_years</th>\n",
       "      <th>education</th>\n",
       "      <th>education_id</th>\n",
       "      <th>family_status</th>\n",
       "      <th>family_status_id</th>\n",
       "      <th>gender</th>\n",
       "      <th>income_type</th>\n",
       "      <th>debt</th>\n",
       "      <th>total_income</th>\n",
       "      <th>purpose</th>\n",
       "      <th>children_id</th>\n",
       "    </tr>\n",
       "  </thead>\n",
       "  <tbody>\n",
       "    <tr>\n",
       "      <td>99</td>\n",
       "      <td>0</td>\n",
       "      <td>14439.234121</td>\n",
       "      <td>0</td>\n",
       "      <td>Среднее</td>\n",
       "      <td>1</td>\n",
       "      <td>женат / замужем</td>\n",
       "      <td>0</td>\n",
       "      <td>F</td>\n",
       "      <td>пенсионер</td>\n",
       "      <td>0</td>\n",
       "      <td>71291.522491</td>\n",
       "      <td>автомобиль</td>\n",
       "      <td>0</td>\n",
       "    </tr>\n",
       "    <tr>\n",
       "      <td>149</td>\n",
       "      <td>0</td>\n",
       "      <td>2664.273168</td>\n",
       "      <td>0</td>\n",
       "      <td>среднее</td>\n",
       "      <td>1</td>\n",
       "      <td>в разводе</td>\n",
       "      <td>3</td>\n",
       "      <td>F</td>\n",
       "      <td>сотрудник</td>\n",
       "      <td>0</td>\n",
       "      <td>70176.435951</td>\n",
       "      <td>операции с жильем</td>\n",
       "      <td>0</td>\n",
       "    </tr>\n",
       "    <tr>\n",
       "      <td>270</td>\n",
       "      <td>3</td>\n",
       "      <td>1872.663186</td>\n",
       "      <td>0</td>\n",
       "      <td>среднее</td>\n",
       "      <td>1</td>\n",
       "      <td>женат / замужем</td>\n",
       "      <td>0</td>\n",
       "      <td>F</td>\n",
       "      <td>сотрудник</td>\n",
       "      <td>0</td>\n",
       "      <td>102166.458894</td>\n",
       "      <td>ремонт жилью</td>\n",
       "      <td>1</td>\n",
       "    </tr>\n",
       "    <tr>\n",
       "      <td>578</td>\n",
       "      <td>0</td>\n",
       "      <td>16577.356876</td>\n",
       "      <td>0</td>\n",
       "      <td>среднее</td>\n",
       "      <td>1</td>\n",
       "      <td>женат / замужем</td>\n",
       "      <td>0</td>\n",
       "      <td>F</td>\n",
       "      <td>пенсионер</td>\n",
       "      <td>0</td>\n",
       "      <td>97620.687042</td>\n",
       "      <td>строительство собственной недвижимости</td>\n",
       "      <td>0</td>\n",
       "    </tr>\n",
       "    <tr>\n",
       "      <td>1040</td>\n",
       "      <td>0</td>\n",
       "      <td>1158.029561</td>\n",
       "      <td>0</td>\n",
       "      <td>высшее</td>\n",
       "      <td>0</td>\n",
       "      <td>в разводе</td>\n",
       "      <td>3</td>\n",
       "      <td>F</td>\n",
       "      <td>компаньон</td>\n",
       "      <td>0</td>\n",
       "      <td>303994.134987</td>\n",
       "      <td>свой автомобиль</td>\n",
       "      <td>0</td>\n",
       "    </tr>\n",
       "    <tr>\n",
       "      <td>...</td>\n",
       "      <td>...</td>\n",
       "      <td>...</td>\n",
       "      <td>...</td>\n",
       "      <td>...</td>\n",
       "      <td>...</td>\n",
       "      <td>...</td>\n",
       "      <td>...</td>\n",
       "      <td>...</td>\n",
       "      <td>...</td>\n",
       "      <td>...</td>\n",
       "      <td>...</td>\n",
       "      <td>...</td>\n",
       "      <td>...</td>\n",
       "    </tr>\n",
       "    <tr>\n",
       "      <td>19371</td>\n",
       "      <td>1</td>\n",
       "      <td>2356.250615</td>\n",
       "      <td>0</td>\n",
       "      <td>высшее</td>\n",
       "      <td>0</td>\n",
       "      <td>женат / замужем</td>\n",
       "      <td>0</td>\n",
       "      <td>F</td>\n",
       "      <td>компаньон</td>\n",
       "      <td>0</td>\n",
       "      <td>77936.218285</td>\n",
       "      <td>автомобиль</td>\n",
       "      <td>1</td>\n",
       "    </tr>\n",
       "    <tr>\n",
       "      <td>20462</td>\n",
       "      <td>0</td>\n",
       "      <td>14113.952856</td>\n",
       "      <td>0</td>\n",
       "      <td>среднее</td>\n",
       "      <td>1</td>\n",
       "      <td>женат / замужем</td>\n",
       "      <td>0</td>\n",
       "      <td>F</td>\n",
       "      <td>пенсионер</td>\n",
       "      <td>0</td>\n",
       "      <td>259193.920299</td>\n",
       "      <td>покупка своего жилья</td>\n",
       "      <td>0</td>\n",
       "    </tr>\n",
       "    <tr>\n",
       "      <td>20577</td>\n",
       "      <td>0</td>\n",
       "      <td>13822.552977</td>\n",
       "      <td>0</td>\n",
       "      <td>среднее</td>\n",
       "      <td>1</td>\n",
       "      <td>Не женат / не замужем</td>\n",
       "      <td>4</td>\n",
       "      <td>F</td>\n",
       "      <td>пенсионер</td>\n",
       "      <td>0</td>\n",
       "      <td>129788.762899</td>\n",
       "      <td>недвижимость</td>\n",
       "      <td>0</td>\n",
       "    </tr>\n",
       "    <tr>\n",
       "      <td>21179</td>\n",
       "      <td>2</td>\n",
       "      <td>108.967042</td>\n",
       "      <td>0</td>\n",
       "      <td>высшее</td>\n",
       "      <td>0</td>\n",
       "      <td>женат / замужем</td>\n",
       "      <td>0</td>\n",
       "      <td>M</td>\n",
       "      <td>компаньон</td>\n",
       "      <td>0</td>\n",
       "      <td>240702.007382</td>\n",
       "      <td>строительство жилой недвижимости</td>\n",
       "      <td>1</td>\n",
       "    </tr>\n",
       "    <tr>\n",
       "      <td>21313</td>\n",
       "      <td>0</td>\n",
       "      <td>1268.487728</td>\n",
       "      <td>0</td>\n",
       "      <td>среднее</td>\n",
       "      <td>1</td>\n",
       "      <td>Не женат / не замужем</td>\n",
       "      <td>4</td>\n",
       "      <td>M</td>\n",
       "      <td>сотрудник</td>\n",
       "      <td>0</td>\n",
       "      <td>152419.184851</td>\n",
       "      <td>операции с жильем</td>\n",
       "      <td>0</td>\n",
       "    </tr>\n",
       "  </tbody>\n",
       "</table>\n",
       "<p>91 rows × 13 columns</p>\n",
       "</div>"
      ],
      "text/plain": [
       "       children  days_employed  dob_years education  education_id  \\\n",
       "99            0   14439.234121          0   Среднее             1   \n",
       "149           0    2664.273168          0   среднее             1   \n",
       "270           3    1872.663186          0   среднее             1   \n",
       "578           0   16577.356876          0   среднее             1   \n",
       "1040          0    1158.029561          0    высшее             0   \n",
       "...         ...            ...        ...       ...           ...   \n",
       "19371         1    2356.250615          0    высшее             0   \n",
       "20462         0   14113.952856          0   среднее             1   \n",
       "20577         0   13822.552977          0   среднее             1   \n",
       "21179         2     108.967042          0    высшее             0   \n",
       "21313         0    1268.487728          0   среднее             1   \n",
       "\n",
       "               family_status  family_status_id gender income_type  debt  \\\n",
       "99           женат / замужем                 0      F   пенсионер     0   \n",
       "149                в разводе                 3      F   сотрудник     0   \n",
       "270          женат / замужем                 0      F   сотрудник     0   \n",
       "578          женат / замужем                 0      F   пенсионер     0   \n",
       "1040               в разводе                 3      F   компаньон     0   \n",
       "...                      ...               ...    ...         ...   ...   \n",
       "19371        женат / замужем                 0      F   компаньон     0   \n",
       "20462        женат / замужем                 0      F   пенсионер     0   \n",
       "20577  Не женат / не замужем                 4      F   пенсионер     0   \n",
       "21179        женат / замужем                 0      M   компаньон     0   \n",
       "21313  Не женат / не замужем                 4      M   сотрудник     0   \n",
       "\n",
       "        total_income                                 purpose children_id  \n",
       "99      71291.522491                              автомобиль           0  \n",
       "149     70176.435951                       операции с жильем           0  \n",
       "270    102166.458894                            ремонт жилью           1  \n",
       "578     97620.687042  строительство собственной недвижимости           0  \n",
       "1040   303994.134987                         свой автомобиль           0  \n",
       "...              ...                                     ...         ...  \n",
       "19371   77936.218285                              автомобиль           1  \n",
       "20462  259193.920299                    покупка своего жилья           0  \n",
       "20577  129788.762899                            недвижимость           0  \n",
       "21179  240702.007382        строительство жилой недвижимости           1  \n",
       "21313  152419.184851                       операции с жильем           0  \n",
       "\n",
       "[91 rows x 13 columns]"
      ]
     },
     "execution_count": 8,
     "metadata": {},
     "output_type": "execute_result"
    }
   ],
   "source": [
    "#проверяем процент пропусков \n",
    "display(clients[clients['dob_years'] == 0].count() / (clients['dob_years'].count()))\n",
    "#процент пропусков от общего составляет 0,47, поэтому можно удалить их без значительного влияния на дальнейший анализ\n",
    "clients[clients['dob_years'] == 0].dropna()\n"
   ]
  },
  {
   "cell_type": "code",
   "execution_count": 9,
   "metadata": {},
   "outputs": [
    {
     "data": {
      "text/plain": [
       "array(['высшее', 'среднее', 'Среднее', 'СРЕДНЕЕ', 'ВЫСШЕЕ',\n",
       "       'неоконченное высшее', 'начальное', 'Высшее',\n",
       "       'НЕОКОНЧЕННОЕ ВЫСШЕЕ', 'Неоконченное высшее', 'НАЧАЛЬНОЕ',\n",
       "       'Начальное', 'Ученая степень', 'УЧЕНАЯ СТЕПЕНЬ', 'ученая степень'],\n",
       "      dtype=object)"
      ]
     },
     "execution_count": 9,
     "metadata": {},
     "output_type": "execute_result"
    }
   ],
   "source": [
    "clients['education'].unique()"
   ]
  },
  {
   "cell_type": "markdown",
   "metadata": {},
   "source": [
    "Колонка с образованием имеет разный регистр, необходимо привести все к нижнему регистру для правильности дальнейших подсчетов и по правилам стилистики. "
   ]
  },
  {
   "cell_type": "code",
   "execution_count": 10,
   "metadata": {},
   "outputs": [
    {
     "data": {
      "text/plain": [
       "array(['высшее', 'среднее', 'неоконченное высшее', 'начальное',\n",
       "       'ученая степень'], dtype=object)"
      ]
     },
     "execution_count": 10,
     "metadata": {},
     "output_type": "execute_result"
    }
   ],
   "source": [
    "clients['education'] = clients['education'].str.lower()\n",
    "clients['education'].unique()"
   ]
  },
  {
   "cell_type": "code",
   "execution_count": 11,
   "metadata": {},
   "outputs": [
    {
     "data": {
      "text/plain": [
       "array(['женат / замужем', 'гражданский брак', 'вдовец / вдова',\n",
       "       'в разводе', 'Не женат / не замужем'], dtype=object)"
      ]
     },
     "execution_count": 11,
     "metadata": {},
     "output_type": "execute_result"
    }
   ],
   "source": [
    "clients['family_status'].unique()"
   ]
  },
  {
   "cell_type": "code",
   "execution_count": 12,
   "metadata": {},
   "outputs": [],
   "source": [
    "#по аналогии с образованием обрабатываем колонку семейного положения \n",
    "clients['family_status'] = clients['family_status'].str.lower()"
   ]
  },
  {
   "cell_type": "code",
   "execution_count": 13,
   "metadata": {},
   "outputs": [
    {
     "data": {
      "text/plain": [
       "0     8437\n",
       "1     4024\n",
       "2     5623\n",
       "3     4124\n",
       "4    14177\n",
       "5      926\n",
       "6     2879\n",
       "7      152\n",
       "8     6929\n",
       "9     2188\n",
       "Name: days_employed, dtype: int64"
      ]
     },
     "metadata": {},
     "output_type": "display_data"
    }
   ],
   "source": [
    "#Переведем в целые числа дни стажа, для проверки себя вывела на экран результат\n",
    "clients['days_employed'] = clients['days_employed'].astype('int64')\n",
    "display(clients['days_employed'].head(10))"
   ]
  },
  {
   "cell_type": "markdown",
   "metadata": {},
   "source": [
    "Возраст, стаж, дети, образование и семейное положение приведены в доступный для анализа вид, сейчас осталось удалить явные дубликаты методом drop_duplicates и еще раз посмотрим информацию о таблице, проверим еще раз пропуски и количество дубликатов"
   ]
  },
  {
   "cell_type": "code",
   "execution_count": 14,
   "metadata": {},
   "outputs": [],
   "source": [
    "#Так же, как и колонку со стажем работы, обработаем пропущенные значение в доходе и заполним пропуски средним доходом\n",
    "#Существует множество источников дохода, поэтому средний доход будет оптимальным решением \n",
    "income_avg = clients['total_income'].mean()\n",
    "clients['total_income'] = clients['total_income'].fillna(income_avg)\n",
    "clients['total_income'] = clients['total_income'].astype('int64')"
   ]
  },
  {
   "cell_type": "code",
   "execution_count": 15,
   "metadata": {},
   "outputs": [
    {
     "data": {
      "text/plain": [
       "children            0\n",
       "days_employed       0\n",
       "dob_years           0\n",
       "education           0\n",
       "education_id        0\n",
       "family_status       0\n",
       "family_status_id    0\n",
       "gender              0\n",
       "income_type         0\n",
       "debt                0\n",
       "total_income        0\n",
       "purpose             0\n",
       "children_id         0\n",
       "dtype: int64"
      ]
     },
     "execution_count": 15,
     "metadata": {},
     "output_type": "execute_result"
    }
   ],
   "source": [
    "clients.isna().sum()"
   ]
  },
  {
   "cell_type": "code",
   "execution_count": 16,
   "metadata": {},
   "outputs": [
    {
     "data": {
      "text/plain": [
       "71"
      ]
     },
     "execution_count": 16,
     "metadata": {},
     "output_type": "execute_result"
    }
   ],
   "source": [
    "clients.duplicated().sum()"
   ]
  },
  {
   "cell_type": "code",
   "execution_count": 17,
   "metadata": {},
   "outputs": [],
   "source": [
    "clients = clients.drop_duplicates().reset_index(drop=True)"
   ]
  },
  {
   "cell_type": "code",
   "execution_count": 18,
   "metadata": {},
   "outputs": [
    {
     "name": "stdout",
     "output_type": "stream",
     "text": [
      "<class 'pandas.core.frame.DataFrame'>\n",
      "RangeIndex: 21454 entries, 0 to 21453\n",
      "Data columns (total 13 columns):\n",
      "children            21454 non-null int64\n",
      "days_employed       21454 non-null int64\n",
      "dob_years           21454 non-null int64\n",
      "education           21454 non-null object\n",
      "education_id        21454 non-null int64\n",
      "family_status       21454 non-null object\n",
      "family_status_id    21454 non-null int64\n",
      "gender              21454 non-null object\n",
      "income_type         21454 non-null object\n",
      "debt                21454 non-null int64\n",
      "total_income        21454 non-null int64\n",
      "purpose             21454 non-null object\n",
      "children_id         21454 non-null object\n",
      "dtypes: int64(7), object(6)\n",
      "memory usage: 2.1+ MB\n"
     ]
    }
   ],
   "source": [
    "clients.info()"
   ]
  },
  {
   "cell_type": "markdown",
   "metadata": {},
   "source": [
    "Первым шагом была работа над отработанными днями, мы избавились от отрицательных значений, слишком большие значения разделили на 24, и преобразовали значения в целые числа. Также на этом шаге мы привели к нижнему регистру данные, создали отдельную колонку по наличию детей. Заменили пропущенные значения в стаже и доходе. По итогу у нас не осталось дубликатов и пропущенных значений."
   ]
  },
  {
   "cell_type": "markdown",
   "metadata": {},
   "source": [
    "### Лемматизация"
   ]
  },
  {
   "cell_type": "code",
   "execution_count": 19,
   "metadata": {},
   "outputs": [
    {
     "data": {
      "text/plain": [
       "Counter({'покупка': 10,\n",
       "         ' ': 59,\n",
       "         'жилье': 7,\n",
       "         ',': 37,\n",
       "         'приобретение': 1,\n",
       "         'автомобиль': 9,\n",
       "         'дополнительный': 2,\n",
       "         'образование': 9,\n",
       "         'сыграть': 1,\n",
       "         'свадьба': 3,\n",
       "         'операция': 4,\n",
       "         'с': 5,\n",
       "         'на': 4,\n",
       "         'проведение': 1,\n",
       "         'для': 2,\n",
       "         'семья': 1,\n",
       "         'недвижимость': 10,\n",
       "         'коммерческий': 2,\n",
       "         'жилой': 2,\n",
       "         'строительство': 3,\n",
       "         'собственный': 1,\n",
       "         'подержать': 2,\n",
       "         'свой': 4,\n",
       "         'со': 1,\n",
       "         'заниматься': 2,\n",
       "         'сделка': 2,\n",
       "         'получение': 3,\n",
       "         'высокий': 3,\n",
       "         'профильный': 1,\n",
       "         'сдача': 1,\n",
       "         'ремонт': 1,\n",
       "         '\\n': 1})"
      ]
     },
     "execution_count": 19,
     "metadata": {},
     "output_type": "execute_result"
    }
   ],
   "source": [
    "#Для лемматизации возьмем столбец с указанием цели кредита, далее подсчитаем количество слов\n",
    "from pymystem3 import Mystem\n",
    "m = Mystem()\n",
    "from collections import Counter\n",
    "text = clients['purpose'].unique()\n",
    "purpose_one = ','.join(text)\n",
    "lemmas = m.lemmatize(purpose_one)\n",
    "Counter(lemmas)\n"
   ]
  },
  {
   "cell_type": "code",
   "execution_count": 20,
   "metadata": {},
   "outputs": [
    {
     "data": {
      "text/plain": [
       "0     операции с недвижимостью\n",
       "1           покупка автомобиля\n",
       "2     операции с недвижимостью\n",
       "3        получение образования\n",
       "4                      свадьба\n",
       "5     операции с недвижимостью\n",
       "6     операции с недвижимостью\n",
       "7        получение образования\n",
       "8                      свадьба\n",
       "9     операции с недвижимостью\n",
       "10    операции с недвижимостью\n",
       "11    операции с недвижимостью\n",
       "12                     свадьба\n",
       "13          покупка автомобиля\n",
       "14    операции с недвижимостью\n",
       "Name: purpose_lemmas, dtype: object"
      ]
     },
     "metadata": {},
     "output_type": "display_data"
    }
   ],
   "source": [
    "#Напишем функцию для категоризации и создадим отдельный столбец с категорией цели кредита, по количеству слов выше взяли четыре большие группы целей кредита и группу прочих целей\n",
    "def category(row):\n",
    "    purpose = row['purpose']\n",
    "    purpose_lemmas = m.lemmatize(purpose)\n",
    "    if 'жилье' in purpose_lemmas or 'недвижимость' in purpose_lemmas:\n",
    "        return 'операции с недвижимостью'\n",
    "    elif 'автомобиль' in purpose_lemmas:\n",
    "        return 'покупка автомобиля' \n",
    "    elif 'образование' in purpose_lemmas:\n",
    "        return 'получение образования'\n",
    "    elif 'свадьба' in purpose_lemmas:\n",
    "        return 'свадьба'\n",
    "    return 'прочие цели'\n",
    "\n",
    "clients['purpose_lemmas'] = clients.apply(category, axis = 1)\n",
    "display(clients['purpose_lemmas'].head(15))"
   ]
  },
  {
   "cell_type": "code",
   "execution_count": 21,
   "metadata": {},
   "outputs": [
    {
     "data": {
      "text/plain": [
       "0              сотрудник\n",
       "4              пенсионер\n",
       "5              компаньон\n",
       "26           госслужащий\n",
       "3132         безработный\n",
       "5931     предприниматель\n",
       "9399             студент\n",
       "20778          в декрете\n",
       "Name: income_type, dtype: object"
      ]
     },
     "execution_count": 21,
     "metadata": {},
     "output_type": "execute_result"
    }
   ],
   "source": [
    "clients['income_type'].drop_duplicates()\n",
    "#проверка столбца "
   ]
  },
  {
   "cell_type": "code",
   "execution_count": 22,
   "metadata": {},
   "outputs": [
    {
     "data": {
      "text/html": [
       "<div>\n",
       "<style scoped>\n",
       "    .dataframe tbody tr th:only-of-type {\n",
       "        vertical-align: middle;\n",
       "    }\n",
       "\n",
       "    .dataframe tbody tr th {\n",
       "        vertical-align: top;\n",
       "    }\n",
       "\n",
       "    .dataframe thead th {\n",
       "        text-align: right;\n",
       "    }\n",
       "</style>\n",
       "<table border=\"1\" class=\"dataframe\">\n",
       "  <thead>\n",
       "    <tr style=\"text-align: right;\">\n",
       "      <th></th>\n",
       "      <th>children</th>\n",
       "      <th>days_employed</th>\n",
       "      <th>dob_years</th>\n",
       "      <th>education</th>\n",
       "      <th>education_id</th>\n",
       "      <th>family_status</th>\n",
       "      <th>family_status_id</th>\n",
       "      <th>gender</th>\n",
       "      <th>income_type</th>\n",
       "      <th>debt</th>\n",
       "      <th>total_income</th>\n",
       "      <th>purpose</th>\n",
       "      <th>children_id</th>\n",
       "      <th>purpose_lemmas</th>\n",
       "      <th>income_category</th>\n",
       "    </tr>\n",
       "  </thead>\n",
       "  <tbody>\n",
       "    <tr>\n",
       "      <td>0</td>\n",
       "      <td>1</td>\n",
       "      <td>8437</td>\n",
       "      <td>42</td>\n",
       "      <td>высшее</td>\n",
       "      <td>0</td>\n",
       "      <td>женат / замужем</td>\n",
       "      <td>0</td>\n",
       "      <td>F</td>\n",
       "      <td>сотрудник</td>\n",
       "      <td>0</td>\n",
       "      <td>253875</td>\n",
       "      <td>покупка жилья</td>\n",
       "      <td>1</td>\n",
       "      <td>операции с недвижимостью</td>\n",
       "      <td>высокий уровень</td>\n",
       "    </tr>\n",
       "    <tr>\n",
       "      <td>1</td>\n",
       "      <td>1</td>\n",
       "      <td>4024</td>\n",
       "      <td>36</td>\n",
       "      <td>среднее</td>\n",
       "      <td>1</td>\n",
       "      <td>женат / замужем</td>\n",
       "      <td>0</td>\n",
       "      <td>F</td>\n",
       "      <td>сотрудник</td>\n",
       "      <td>0</td>\n",
       "      <td>112080</td>\n",
       "      <td>приобретение автомобиля</td>\n",
       "      <td>1</td>\n",
       "      <td>покупка автомобиля</td>\n",
       "      <td>средний уровень</td>\n",
       "    </tr>\n",
       "    <tr>\n",
       "      <td>2</td>\n",
       "      <td>0</td>\n",
       "      <td>5623</td>\n",
       "      <td>33</td>\n",
       "      <td>среднее</td>\n",
       "      <td>1</td>\n",
       "      <td>женат / замужем</td>\n",
       "      <td>0</td>\n",
       "      <td>M</td>\n",
       "      <td>сотрудник</td>\n",
       "      <td>0</td>\n",
       "      <td>145885</td>\n",
       "      <td>покупка жилья</td>\n",
       "      <td>0</td>\n",
       "      <td>операции с недвижимостью</td>\n",
       "      <td>высокий уровень</td>\n",
       "    </tr>\n",
       "    <tr>\n",
       "      <td>3</td>\n",
       "      <td>3</td>\n",
       "      <td>4124</td>\n",
       "      <td>32</td>\n",
       "      <td>среднее</td>\n",
       "      <td>1</td>\n",
       "      <td>женат / замужем</td>\n",
       "      <td>0</td>\n",
       "      <td>M</td>\n",
       "      <td>сотрудник</td>\n",
       "      <td>0</td>\n",
       "      <td>267628</td>\n",
       "      <td>дополнительное образование</td>\n",
       "      <td>1</td>\n",
       "      <td>получение образования</td>\n",
       "      <td>высокий уровень</td>\n",
       "    </tr>\n",
       "    <tr>\n",
       "      <td>4</td>\n",
       "      <td>0</td>\n",
       "      <td>14177</td>\n",
       "      <td>53</td>\n",
       "      <td>среднее</td>\n",
       "      <td>1</td>\n",
       "      <td>гражданский брак</td>\n",
       "      <td>1</td>\n",
       "      <td>F</td>\n",
       "      <td>пенсионер</td>\n",
       "      <td>0</td>\n",
       "      <td>158616</td>\n",
       "      <td>сыграть свадьбу</td>\n",
       "      <td>0</td>\n",
       "      <td>свадьба</td>\n",
       "      <td>высокий уровень</td>\n",
       "    </tr>\n",
       "    <tr>\n",
       "      <td>5</td>\n",
       "      <td>0</td>\n",
       "      <td>926</td>\n",
       "      <td>27</td>\n",
       "      <td>высшее</td>\n",
       "      <td>0</td>\n",
       "      <td>гражданский брак</td>\n",
       "      <td>1</td>\n",
       "      <td>M</td>\n",
       "      <td>компаньон</td>\n",
       "      <td>0</td>\n",
       "      <td>255763</td>\n",
       "      <td>покупка жилья</td>\n",
       "      <td>0</td>\n",
       "      <td>операции с недвижимостью</td>\n",
       "      <td>высокий уровень</td>\n",
       "    </tr>\n",
       "    <tr>\n",
       "      <td>6</td>\n",
       "      <td>0</td>\n",
       "      <td>2879</td>\n",
       "      <td>43</td>\n",
       "      <td>высшее</td>\n",
       "      <td>0</td>\n",
       "      <td>женат / замужем</td>\n",
       "      <td>0</td>\n",
       "      <td>F</td>\n",
       "      <td>компаньон</td>\n",
       "      <td>0</td>\n",
       "      <td>240525</td>\n",
       "      <td>операции с жильем</td>\n",
       "      <td>0</td>\n",
       "      <td>операции с недвижимостью</td>\n",
       "      <td>высокий уровень</td>\n",
       "    </tr>\n",
       "    <tr>\n",
       "      <td>7</td>\n",
       "      <td>0</td>\n",
       "      <td>152</td>\n",
       "      <td>50</td>\n",
       "      <td>среднее</td>\n",
       "      <td>1</td>\n",
       "      <td>женат / замужем</td>\n",
       "      <td>0</td>\n",
       "      <td>M</td>\n",
       "      <td>сотрудник</td>\n",
       "      <td>0</td>\n",
       "      <td>135823</td>\n",
       "      <td>образование</td>\n",
       "      <td>0</td>\n",
       "      <td>получение образования</td>\n",
       "      <td>высокий уровень</td>\n",
       "    </tr>\n",
       "    <tr>\n",
       "      <td>8</td>\n",
       "      <td>2</td>\n",
       "      <td>6929</td>\n",
       "      <td>35</td>\n",
       "      <td>высшее</td>\n",
       "      <td>0</td>\n",
       "      <td>гражданский брак</td>\n",
       "      <td>1</td>\n",
       "      <td>F</td>\n",
       "      <td>сотрудник</td>\n",
       "      <td>0</td>\n",
       "      <td>95856</td>\n",
       "      <td>на проведение свадьбы</td>\n",
       "      <td>1</td>\n",
       "      <td>свадьба</td>\n",
       "      <td>средний уровень</td>\n",
       "    </tr>\n",
       "    <tr>\n",
       "      <td>9</td>\n",
       "      <td>0</td>\n",
       "      <td>2188</td>\n",
       "      <td>41</td>\n",
       "      <td>среднее</td>\n",
       "      <td>1</td>\n",
       "      <td>женат / замужем</td>\n",
       "      <td>0</td>\n",
       "      <td>M</td>\n",
       "      <td>сотрудник</td>\n",
       "      <td>0</td>\n",
       "      <td>144425</td>\n",
       "      <td>покупка жилья для семьи</td>\n",
       "      <td>0</td>\n",
       "      <td>операции с недвижимостью</td>\n",
       "      <td>высокий уровень</td>\n",
       "    </tr>\n",
       "    <tr>\n",
       "      <td>10</td>\n",
       "      <td>2</td>\n",
       "      <td>4171</td>\n",
       "      <td>36</td>\n",
       "      <td>высшее</td>\n",
       "      <td>0</td>\n",
       "      <td>женат / замужем</td>\n",
       "      <td>0</td>\n",
       "      <td>M</td>\n",
       "      <td>компаньон</td>\n",
       "      <td>0</td>\n",
       "      <td>113943</td>\n",
       "      <td>покупка недвижимости</td>\n",
       "      <td>1</td>\n",
       "      <td>операции с недвижимостью</td>\n",
       "      <td>средний уровень</td>\n",
       "    </tr>\n",
       "    <tr>\n",
       "      <td>11</td>\n",
       "      <td>0</td>\n",
       "      <td>792</td>\n",
       "      <td>40</td>\n",
       "      <td>среднее</td>\n",
       "      <td>1</td>\n",
       "      <td>женат / замужем</td>\n",
       "      <td>0</td>\n",
       "      <td>F</td>\n",
       "      <td>сотрудник</td>\n",
       "      <td>0</td>\n",
       "      <td>77069</td>\n",
       "      <td>покупка коммерческой недвижимости</td>\n",
       "      <td>0</td>\n",
       "      <td>операции с недвижимостью</td>\n",
       "      <td>средний уровень</td>\n",
       "    </tr>\n",
       "    <tr>\n",
       "      <td>12</td>\n",
       "      <td>0</td>\n",
       "      <td>4641</td>\n",
       "      <td>65</td>\n",
       "      <td>среднее</td>\n",
       "      <td>1</td>\n",
       "      <td>гражданский брак</td>\n",
       "      <td>1</td>\n",
       "      <td>M</td>\n",
       "      <td>пенсионер</td>\n",
       "      <td>0</td>\n",
       "      <td>167422</td>\n",
       "      <td>сыграть свадьбу</td>\n",
       "      <td>0</td>\n",
       "      <td>свадьба</td>\n",
       "      <td>высокий уровень</td>\n",
       "    </tr>\n",
       "    <tr>\n",
       "      <td>13</td>\n",
       "      <td>0</td>\n",
       "      <td>1846</td>\n",
       "      <td>54</td>\n",
       "      <td>неоконченное высшее</td>\n",
       "      <td>2</td>\n",
       "      <td>женат / замужем</td>\n",
       "      <td>0</td>\n",
       "      <td>F</td>\n",
       "      <td>сотрудник</td>\n",
       "      <td>0</td>\n",
       "      <td>130458</td>\n",
       "      <td>приобретение автомобиля</td>\n",
       "      <td>0</td>\n",
       "      <td>покупка автомобиля</td>\n",
       "      <td>высокий уровень</td>\n",
       "    </tr>\n",
       "    <tr>\n",
       "      <td>14</td>\n",
       "      <td>0</td>\n",
       "      <td>1844</td>\n",
       "      <td>56</td>\n",
       "      <td>высшее</td>\n",
       "      <td>0</td>\n",
       "      <td>гражданский брак</td>\n",
       "      <td>1</td>\n",
       "      <td>F</td>\n",
       "      <td>компаньон</td>\n",
       "      <td>1</td>\n",
       "      <td>165127</td>\n",
       "      <td>покупка жилой недвижимости</td>\n",
       "      <td>0</td>\n",
       "      <td>операции с недвижимостью</td>\n",
       "      <td>высокий уровень</td>\n",
       "    </tr>\n",
       "  </tbody>\n",
       "</table>\n",
       "</div>"
      ],
      "text/plain": [
       "    children  days_employed  dob_years            education  education_id  \\\n",
       "0          1           8437         42               высшее             0   \n",
       "1          1           4024         36              среднее             1   \n",
       "2          0           5623         33              среднее             1   \n",
       "3          3           4124         32              среднее             1   \n",
       "4          0          14177         53              среднее             1   \n",
       "5          0            926         27               высшее             0   \n",
       "6          0           2879         43               высшее             0   \n",
       "7          0            152         50              среднее             1   \n",
       "8          2           6929         35               высшее             0   \n",
       "9          0           2188         41              среднее             1   \n",
       "10         2           4171         36               высшее             0   \n",
       "11         0            792         40              среднее             1   \n",
       "12         0           4641         65              среднее             1   \n",
       "13         0           1846         54  неоконченное высшее             2   \n",
       "14         0           1844         56               высшее             0   \n",
       "\n",
       "       family_status  family_status_id gender income_type  debt  total_income  \\\n",
       "0    женат / замужем                 0      F   сотрудник     0        253875   \n",
       "1    женат / замужем                 0      F   сотрудник     0        112080   \n",
       "2    женат / замужем                 0      M   сотрудник     0        145885   \n",
       "3    женат / замужем                 0      M   сотрудник     0        267628   \n",
       "4   гражданский брак                 1      F   пенсионер     0        158616   \n",
       "5   гражданский брак                 1      M   компаньон     0        255763   \n",
       "6    женат / замужем                 0      F   компаньон     0        240525   \n",
       "7    женат / замужем                 0      M   сотрудник     0        135823   \n",
       "8   гражданский брак                 1      F   сотрудник     0         95856   \n",
       "9    женат / замужем                 0      M   сотрудник     0        144425   \n",
       "10   женат / замужем                 0      M   компаньон     0        113943   \n",
       "11   женат / замужем                 0      F   сотрудник     0         77069   \n",
       "12  гражданский брак                 1      M   пенсионер     0        167422   \n",
       "13   женат / замужем                 0      F   сотрудник     0        130458   \n",
       "14  гражданский брак                 1      F   компаньон     1        165127   \n",
       "\n",
       "                              purpose children_id            purpose_lemmas  \\\n",
       "0                       покупка жилья           1  операции с недвижимостью   \n",
       "1             приобретение автомобиля           1        покупка автомобиля   \n",
       "2                       покупка жилья           0  операции с недвижимостью   \n",
       "3          дополнительное образование           1     получение образования   \n",
       "4                     сыграть свадьбу           0                   свадьба   \n",
       "5                       покупка жилья           0  операции с недвижимостью   \n",
       "6                   операции с жильем           0  операции с недвижимостью   \n",
       "7                         образование           0     получение образования   \n",
       "8               на проведение свадьбы           1                   свадьба   \n",
       "9             покупка жилья для семьи           0  операции с недвижимостью   \n",
       "10               покупка недвижимости           1  операции с недвижимостью   \n",
       "11  покупка коммерческой недвижимости           0  операции с недвижимостью   \n",
       "12                    сыграть свадьбу           0                   свадьба   \n",
       "13            приобретение автомобиля           0        покупка автомобиля   \n",
       "14         покупка жилой недвижимости           0  операции с недвижимостью   \n",
       "\n",
       "    income_category  \n",
       "0   высокий уровень  \n",
       "1   средний уровень  \n",
       "2   высокий уровень  \n",
       "3   высокий уровень  \n",
       "4   высокий уровень  \n",
       "5   высокий уровень  \n",
       "6   высокий уровень  \n",
       "7   высокий уровень  \n",
       "8   средний уровень  \n",
       "9   высокий уровень  \n",
       "10  средний уровень  \n",
       "11  средний уровень  \n",
       "12  высокий уровень  \n",
       "13  высокий уровень  \n",
       "14  высокий уровень  "
      ]
     },
     "metadata": {},
     "output_type": "display_data"
    }
   ],
   "source": [
    "#Переходим к колонке дохода, по аналогии с отработанными днями следует преобразовать в целые числа, \n",
    "# а также рассортировать доход на три типичные группы низкого, среднего и высокого уровня дохода. \n",
    "clients['total_income'].median()\n",
    "\n",
    "def income_category(income):\n",
    "    if income <= 60000:\n",
    "        return 'низкий уровень'\n",
    "    elif income <= 120000:\n",
    "        return 'средний уровень'\n",
    "    return 'высокий уровень'\n",
    "clients['income_category'] = clients['total_income'].apply(income_category)\n",
    "display(clients.head(15))\n",
    "\n",
    "\n",
    "\n"
   ]
  },
  {
   "cell_type": "markdown",
   "metadata": {},
   "source": [
    "Таблица готова к анализу, весь текст приведен к нижнему регистру, созданы столбы с категориями по некоторым позициям, некоторые значения преобразованы в целые числа."
   ]
  },
  {
   "cell_type": "markdown",
   "metadata": {},
   "source": [
    "## Шаг 3. Ответьте на вопросы"
   ]
  },
  {
   "cell_type": "markdown",
   "metadata": {},
   "source": [
    "- Есть ли зависимость между наличием детей и возвратом кредита в срок?"
   ]
  },
  {
   "cell_type": "code",
   "execution_count": 23,
   "metadata": {},
   "outputs": [
    {
     "data": {
      "text/html": [
       "<div>\n",
       "<style scoped>\n",
       "    .dataframe tbody tr th:only-of-type {\n",
       "        vertical-align: middle;\n",
       "    }\n",
       "\n",
       "    .dataframe tbody tr th {\n",
       "        vertical-align: top;\n",
       "    }\n",
       "\n",
       "    .dataframe thead th {\n",
       "        text-align: right;\n",
       "    }\n",
       "</style>\n",
       "<table border=\"1\" class=\"dataframe\">\n",
       "  <thead>\n",
       "    <tr style=\"text-align: right;\">\n",
       "      <th></th>\n",
       "      <th>debt</th>\n",
       "      <th>total</th>\n",
       "      <th>%</th>\n",
       "    </tr>\n",
       "    <tr>\n",
       "      <th>children_id</th>\n",
       "      <th></th>\n",
       "      <th></th>\n",
       "      <th></th>\n",
       "    </tr>\n",
       "  </thead>\n",
       "  <tbody>\n",
       "    <tr>\n",
       "      <td>0</td>\n",
       "      <td>1064</td>\n",
       "      <td>14138</td>\n",
       "      <td>7.5</td>\n",
       "    </tr>\n",
       "    <tr>\n",
       "      <td>1</td>\n",
       "      <td>677</td>\n",
       "      <td>7316</td>\n",
       "      <td>9.3</td>\n",
       "    </tr>\n",
       "  </tbody>\n",
       "</table>\n",
       "</div>"
      ],
      "text/plain": [
       "             debt  total    %\n",
       "children_id                  \n",
       "0            1064  14138  7.5\n",
       "1             677   7316  9.3"
      ]
     },
     "execution_count": 23,
     "metadata": {},
     "output_type": "execute_result"
    }
   ],
   "source": [
    "children_rep = clients.pivot_table(index = 'children_id', values = 'debt', aggfunc = ['sum','count', 'mean'])\n",
    "children_rep.columns= ['debt','total', '%']\n",
    "children_rep['%'] = (children_rep['%'] * 100).round(1)\n",
    "children_rep = children_rep.sort_values(by=['total'], ascending=False)\n",
    "children_rep\n"
   ]
  },
  {
   "cell_type": "code",
   "execution_count": 24,
   "metadata": {},
   "outputs": [
    {
     "data": {
      "text/html": [
       "<div>\n",
       "<style scoped>\n",
       "    .dataframe tbody tr th:only-of-type {\n",
       "        vertical-align: middle;\n",
       "    }\n",
       "\n",
       "    .dataframe tbody tr th {\n",
       "        vertical-align: top;\n",
       "    }\n",
       "\n",
       "    .dataframe thead th {\n",
       "        text-align: right;\n",
       "    }\n",
       "</style>\n",
       "<table border=\"1\" class=\"dataframe\">\n",
       "  <thead>\n",
       "    <tr style=\"text-align: right;\">\n",
       "      <th></th>\n",
       "      <th>debt</th>\n",
       "      <th>total</th>\n",
       "      <th>%</th>\n",
       "    </tr>\n",
       "    <tr>\n",
       "      <th>children</th>\n",
       "      <th></th>\n",
       "      <th></th>\n",
       "      <th></th>\n",
       "    </tr>\n",
       "  </thead>\n",
       "  <tbody>\n",
       "    <tr>\n",
       "      <td>0</td>\n",
       "      <td>1064</td>\n",
       "      <td>14138</td>\n",
       "      <td>7.5</td>\n",
       "    </tr>\n",
       "    <tr>\n",
       "      <td>1</td>\n",
       "      <td>444</td>\n",
       "      <td>4808</td>\n",
       "      <td>9.2</td>\n",
       "    </tr>\n",
       "    <tr>\n",
       "      <td>2</td>\n",
       "      <td>202</td>\n",
       "      <td>2128</td>\n",
       "      <td>9.5</td>\n",
       "    </tr>\n",
       "    <tr>\n",
       "      <td>3</td>\n",
       "      <td>27</td>\n",
       "      <td>330</td>\n",
       "      <td>8.2</td>\n",
       "    </tr>\n",
       "    <tr>\n",
       "      <td>4</td>\n",
       "      <td>4</td>\n",
       "      <td>41</td>\n",
       "      <td>9.8</td>\n",
       "    </tr>\n",
       "    <tr>\n",
       "      <td>5</td>\n",
       "      <td>0</td>\n",
       "      <td>9</td>\n",
       "      <td>0.0</td>\n",
       "    </tr>\n",
       "  </tbody>\n",
       "</table>\n",
       "</div>"
      ],
      "text/plain": [
       "          debt  total    %\n",
       "children                  \n",
       "0         1064  14138  7.5\n",
       "1          444   4808  9.2\n",
       "2          202   2128  9.5\n",
       "3           27    330  8.2\n",
       "4            4     41  9.8\n",
       "5            0      9  0.0"
      ]
     },
     "execution_count": 24,
     "metadata": {},
     "output_type": "execute_result"
    }
   ],
   "source": [
    "children_rep2 = clients.pivot_table(index = 'children', values = 'debt', aggfunc = ['sum','count', 'mean'])\n",
    "children_rep2.columns= ['debt','total', '%']\n",
    "children_rep2['%'] = (children_rep2['%'] * 100).round(1)\n",
    "children_rep2 = children_rep2.sort_values(by=['total'], ascending=False)\n",
    "children_rep2\n"
   ]
  },
  {
   "cell_type": "markdown",
   "metadata": {},
   "source": [
    "Разница между возвратом кредита в срок и наличием детей составляет всего около 2%, на основе чего можно сделать вывод о том, что наличие детей слабо влияет на сроки кредита в срок"
   ]
  },
  {
   "cell_type": "markdown",
   "metadata": {},
   "source": [
    "- Есть ли зависимость между семейным положением и возвратом кредита в срок?"
   ]
  },
  {
   "cell_type": "code",
   "execution_count": 25,
   "metadata": {},
   "outputs": [
    {
     "data": {
      "text/html": [
       "<div>\n",
       "<style scoped>\n",
       "    .dataframe tbody tr th:only-of-type {\n",
       "        vertical-align: middle;\n",
       "    }\n",
       "\n",
       "    .dataframe tbody tr th {\n",
       "        vertical-align: top;\n",
       "    }\n",
       "\n",
       "    .dataframe thead th {\n",
       "        text-align: right;\n",
       "    }\n",
       "</style>\n",
       "<table border=\"1\" class=\"dataframe\">\n",
       "  <thead>\n",
       "    <tr style=\"text-align: right;\">\n",
       "      <th></th>\n",
       "      <th>debt</th>\n",
       "      <th>total</th>\n",
       "      <th>%</th>\n",
       "    </tr>\n",
       "    <tr>\n",
       "      <th>family_status</th>\n",
       "      <th></th>\n",
       "      <th></th>\n",
       "      <th></th>\n",
       "    </tr>\n",
       "  </thead>\n",
       "  <tbody>\n",
       "    <tr>\n",
       "      <td>женат / замужем</td>\n",
       "      <td>931</td>\n",
       "      <td>12339</td>\n",
       "      <td>7.5</td>\n",
       "    </tr>\n",
       "    <tr>\n",
       "      <td>гражданский брак</td>\n",
       "      <td>388</td>\n",
       "      <td>4151</td>\n",
       "      <td>9.3</td>\n",
       "    </tr>\n",
       "    <tr>\n",
       "      <td>не женат / не замужем</td>\n",
       "      <td>274</td>\n",
       "      <td>2810</td>\n",
       "      <td>9.8</td>\n",
       "    </tr>\n",
       "    <tr>\n",
       "      <td>в разводе</td>\n",
       "      <td>85</td>\n",
       "      <td>1195</td>\n",
       "      <td>7.1</td>\n",
       "    </tr>\n",
       "    <tr>\n",
       "      <td>вдовец / вдова</td>\n",
       "      <td>63</td>\n",
       "      <td>959</td>\n",
       "      <td>6.6</td>\n",
       "    </tr>\n",
       "  </tbody>\n",
       "</table>\n",
       "</div>"
      ],
      "text/plain": [
       "                       debt  total    %\n",
       "family_status                          \n",
       "женат / замужем         931  12339  7.5\n",
       "гражданский брак        388   4151  9.3\n",
       "не женат / не замужем   274   2810  9.8\n",
       "в разводе                85   1195  7.1\n",
       "вдовец / вдова           63    959  6.6"
      ]
     },
     "execution_count": 25,
     "metadata": {},
     "output_type": "execute_result"
    }
   ],
   "source": [
    "family_rep = clients.pivot_table(index = 'family_status', values = 'debt', aggfunc = ['sum','count', 'mean'])\n",
    "family_rep.columns= ['debt','total', '%']\n",
    "family_rep['%'] = (family_rep['%'] * 100).round(1)\n",
    "family_rep = family_rep.sort_values(by=['total'], ascending=False)\n",
    "family_rep\n"
   ]
  },
  {
   "cell_type": "markdown",
   "metadata": {},
   "source": [
    "Самый высокий процент должников в графе \"не женат / не замужем\".\n",
    "Самый низкий процент должников у людей с семейным положением \"вдовец / вдова\".\n",
    "Разница между самым высоким и самым низким составляет 3%. При этом процент людей в гражданском браке близок к проценту в графе \"не женат / не замужем\", можно сделать вывод что семейное положение слабо влияет на возможность выплаты кредита в срок"
   ]
  },
  {
   "cell_type": "markdown",
   "metadata": {},
   "source": [
    "- Есть ли зависимость между уровнем дохода и возвратом кредита в срок?"
   ]
  },
  {
   "cell_type": "code",
   "execution_count": 26,
   "metadata": {},
   "outputs": [
    {
     "data": {
      "text/html": [
       "<div>\n",
       "<style scoped>\n",
       "    .dataframe tbody tr th:only-of-type {\n",
       "        vertical-align: middle;\n",
       "    }\n",
       "\n",
       "    .dataframe tbody tr th {\n",
       "        vertical-align: top;\n",
       "    }\n",
       "\n",
       "    .dataframe thead th {\n",
       "        text-align: right;\n",
       "    }\n",
       "</style>\n",
       "<table border=\"1\" class=\"dataframe\">\n",
       "  <thead>\n",
       "    <tr style=\"text-align: right;\">\n",
       "      <th></th>\n",
       "      <th>debt</th>\n",
       "      <th>total</th>\n",
       "      <th>%</th>\n",
       "    </tr>\n",
       "    <tr>\n",
       "      <th>income_category</th>\n",
       "      <th></th>\n",
       "      <th></th>\n",
       "      <th></th>\n",
       "    </tr>\n",
       "  </thead>\n",
       "  <tbody>\n",
       "    <tr>\n",
       "      <td>высокий уровень</td>\n",
       "      <td>1190</td>\n",
       "      <td>14609</td>\n",
       "      <td>8.1</td>\n",
       "    </tr>\n",
       "    <tr>\n",
       "      <td>средний уровень</td>\n",
       "      <td>502</td>\n",
       "      <td>6039</td>\n",
       "      <td>8.3</td>\n",
       "    </tr>\n",
       "    <tr>\n",
       "      <td>низкий уровень</td>\n",
       "      <td>49</td>\n",
       "      <td>806</td>\n",
       "      <td>6.1</td>\n",
       "    </tr>\n",
       "  </tbody>\n",
       "</table>\n",
       "</div>"
      ],
      "text/plain": [
       "                 debt  total    %\n",
       "income_category                  \n",
       "высокий уровень  1190  14609  8.1\n",
       "средний уровень   502   6039  8.3\n",
       "низкий уровень     49    806  6.1"
      ]
     },
     "execution_count": 26,
     "metadata": {},
     "output_type": "execute_result"
    }
   ],
   "source": [
    "income_rep = clients.pivot_table(index = 'income_category', values = 'debt', aggfunc = ['sum','count', 'mean'])\n",
    "income_rep.columns= ['debt','total', '%']\n",
    "income_rep['%'] = (income_rep['%'] * 100).round(1)\n",
    "income_rep = income_rep.sort_values(by=['total'], ascending=False)\n",
    "income_rep\n"
   ]
  },
  {
   "cell_type": "markdown",
   "metadata": {},
   "source": [
    "Согласно процентной разницы между уровнями доходов, уровень дохода не влияет на срок выплаты кредита"
   ]
  },
  {
   "cell_type": "markdown",
   "metadata": {},
   "source": [
    "- Как разные цели кредита влияют на его возврат в срок?"
   ]
  },
  {
   "cell_type": "code",
   "execution_count": 27,
   "metadata": {},
   "outputs": [
    {
     "data": {
      "text/html": [
       "<div>\n",
       "<style scoped>\n",
       "    .dataframe tbody tr th:only-of-type {\n",
       "        vertical-align: middle;\n",
       "    }\n",
       "\n",
       "    .dataframe tbody tr th {\n",
       "        vertical-align: top;\n",
       "    }\n",
       "\n",
       "    .dataframe thead th {\n",
       "        text-align: right;\n",
       "    }\n",
       "</style>\n",
       "<table border=\"1\" class=\"dataframe\">\n",
       "  <thead>\n",
       "    <tr style=\"text-align: right;\">\n",
       "      <th></th>\n",
       "      <th>debt</th>\n",
       "      <th>total</th>\n",
       "      <th>%</th>\n",
       "    </tr>\n",
       "    <tr>\n",
       "      <th>purpose_lemmas</th>\n",
       "      <th></th>\n",
       "      <th></th>\n",
       "      <th></th>\n",
       "    </tr>\n",
       "  </thead>\n",
       "  <tbody>\n",
       "    <tr>\n",
       "      <td>операции с недвижимостью</td>\n",
       "      <td>782</td>\n",
       "      <td>10811</td>\n",
       "      <td>7.2</td>\n",
       "    </tr>\n",
       "    <tr>\n",
       "      <td>покупка автомобиля</td>\n",
       "      <td>403</td>\n",
       "      <td>4306</td>\n",
       "      <td>9.4</td>\n",
       "    </tr>\n",
       "    <tr>\n",
       "      <td>получение образования</td>\n",
       "      <td>370</td>\n",
       "      <td>4013</td>\n",
       "      <td>9.2</td>\n",
       "    </tr>\n",
       "    <tr>\n",
       "      <td>свадьба</td>\n",
       "      <td>186</td>\n",
       "      <td>2324</td>\n",
       "      <td>8.0</td>\n",
       "    </tr>\n",
       "  </tbody>\n",
       "</table>\n",
       "</div>"
      ],
      "text/plain": [
       "                          debt  total    %\n",
       "purpose_lemmas                            \n",
       "операции с недвижимостью   782  10811  7.2\n",
       "покупка автомобиля         403   4306  9.4\n",
       "получение образования      370   4013  9.2\n",
       "свадьба                    186   2324  8.0"
      ]
     },
     "execution_count": 27,
     "metadata": {},
     "output_type": "execute_result"
    }
   ],
   "source": [
    "purpose_rep = clients.pivot_table(index = 'purpose_lemmas', values = 'debt', aggfunc = ['sum','count', 'mean'])\n",
    "purpose_rep.columns= ['debt','total', '%']\n",
    "purpose_rep['%'] = (purpose_rep['%'] * 100).round(1)\n",
    "purpose_rep = purpose_rep.sort_values(by=['total'], ascending=False)\n",
    "purpose_rep\n"
   ]
  },
  {
   "cell_type": "markdown",
   "metadata": {},
   "source": [
    "Самый низкий процент должников по кредиту относится к кредитам, взятым для совершения операций с недвижимостью. \n",
    "Однаков, разница процентов по целям кредита также небольшая, поэтому можно сделать вывод, что цель кредита имеет небольшое влияние на возврат кредита в срок."
   ]
  },
  {
   "cell_type": "markdown",
   "metadata": {},
   "source": [
    "Получив файл с данным, в первую очередь мы изучили общую информацию.\n",
    "Был произведен первичный подсчет дубликатов и поиск пропущенных значений. Далее мы приступили к предобработке данных.\n",
    "1. В колонке days_employed мы преобразовали отрицательные значения, так как данные предоставлены в днях, то слишком большие значения мы разлелили на 24. Также в этой колонке были пропущенные значние, которые мы заменили на среднее количсетво отработанных дней. Кроме того, тип данных был заменен на int64.\n",
    "2. Была создана отдельная колонка для обозначения наличия детей.\n",
    "3. Текстовые значения в таблице были приведены к нижнему регистру.\n",
    "4. Пропущенные значения в колонке total_income были заменены на среднее значение, также тип данных был изменен на int. Была создана колонка, в значения из total_income рассортированы на три группы: низкий уровень дохода, средний уровень и высокий уровень.\n",
    "5. При помощи лемматизации мы обработали колонку с указанием цели кредита, также была создана новая колонка с категориями цели кредита.\n",
    "На основе проведенного анализа были сделаны следующие выводы:\n",
    "Разница между возвратом кредита в срок и наличием детей составляет всего около 2%, на основе чего можно сделать вывод о том, что наличие детей слабо влияет на сроки кредита в срок. Разница между количеством детей по критерию возврата в срок также составляет 2-3%. Из этого следует, что для более точного анализа лучше брать количество детей, а не только факт наличия.\n",
    "Самый высокий процент должников в графе \"не женат / не замужем\". Самый низкий процент должников у людей с семейным положением \"вдовец / вдова\". Разница между самым высоким и самым низким составляет 3%. При этом процент людей в гражданском браке близок к проценту в графе \"не женат / не замужем\", можно сделать вывод что семейное положение слабо влияет на возможность выплаты кредита в срок.\n",
    "У людей с низким уровнем дохода ниже процент, разница в процентах с людьми с высоким уровнем составляет 2%, по итогу люди с низким доходом имеют меньше долгов. \n",
    "Самый низкий процент должников по кредиту относится к кредитам, взятым для совершения операций с недвижимостью. \n",
    "Однаков, разница процентов по целям кредита также небольшая, поэтому можно сделать вывод, что цель кредита имеет небольшое влияние на возврат кредита в срок.\n",
    "\n",
    "Делая вывод, можно сказать, что наличие детей, семейное положение, уровень дохода и цель влияют на возврат кредита в срок. Судя по данным, цели кредита люди писали сами, для более точной сортировки, например разделения на \"коммерческую недвижимость\" и \"жилую\" можно в анкету добавить графы с выбором нужной цели, а также строчку для \"прочих целей\".\n"
   ]
  }
 ],
 "metadata": {
  "ExecuteTimeLog": [
   {
    "duration": 914,
    "start_time": "2021-12-06T19:34:48.207Z"
   },
   {
    "duration": 7070,
    "start_time": "2021-12-06T19:37:25.541Z"
   },
   {
    "duration": 19,
    "start_time": "2021-12-06T19:41:14.441Z"
   },
   {
    "duration": 656,
    "start_time": "2021-12-08T08:05:24.248Z"
   },
   {
    "duration": 828,
    "start_time": "2021-12-08T08:05:43.173Z"
   },
   {
    "duration": 8,
    "start_time": "2021-12-08T08:05:44.004Z"
   },
   {
    "duration": 6,
    "start_time": "2021-12-08T08:05:56.291Z"
   },
   {
    "duration": 34,
    "start_time": "2021-12-08T08:06:27.907Z"
   },
   {
    "duration": 31,
    "start_time": "2021-12-08T08:07:12.987Z"
   },
   {
    "duration": 1272,
    "start_time": "2021-12-08T08:16:44.987Z"
   },
   {
    "duration": 1520,
    "start_time": "2021-12-08T08:17:00.357Z"
   },
   {
    "duration": 1121,
    "start_time": "2021-12-08T08:17:11.155Z"
   },
   {
    "duration": 1141,
    "start_time": "2021-12-08T08:21:16.387Z"
   },
   {
    "duration": 73,
    "start_time": "2021-12-08T08:24:13.538Z"
   },
   {
    "duration": 40,
    "start_time": "2021-12-08T08:24:13.613Z"
   },
   {
    "duration": 253,
    "start_time": "2021-12-08T16:21:44.503Z"
   },
   {
    "duration": 619,
    "start_time": "2021-12-08T16:21:55.685Z"
   },
   {
    "duration": 28,
    "start_time": "2021-12-08T16:21:56.306Z"
   },
   {
    "duration": 1136,
    "start_time": "2021-12-08T16:23:51.840Z"
   },
   {
    "duration": 955,
    "start_time": "2021-12-08T16:24:04.921Z"
   },
   {
    "duration": 557,
    "start_time": "2021-12-08T16:24:11.816Z"
   },
   {
    "duration": 29,
    "start_time": "2021-12-08T16:24:12.375Z"
   },
   {
    "duration": 958,
    "start_time": "2021-12-08T16:27:42.492Z"
   },
   {
    "duration": 586,
    "start_time": "2021-12-08T16:27:50.615Z"
   },
   {
    "duration": 306,
    "start_time": "2021-12-08T16:27:51.203Z"
   },
   {
    "duration": 926,
    "start_time": "2021-12-08T16:28:18.836Z"
   },
   {
    "duration": 611,
    "start_time": "2021-12-08T16:28:36.274Z"
   },
   {
    "duration": 28,
    "start_time": "2021-12-08T16:28:36.887Z"
   },
   {
    "duration": 729,
    "start_time": "2021-12-08T16:30:04.634Z"
   },
   {
    "duration": 27,
    "start_time": "2021-12-08T16:30:05.365Z"
   },
   {
    "duration": 4,
    "start_time": "2021-12-08T16:30:47.327Z"
   },
   {
    "duration": 359,
    "start_time": "2021-12-08T16:36:13.701Z"
   },
   {
    "duration": 10,
    "start_time": "2021-12-08T16:36:27.166Z"
   },
   {
    "duration": 4,
    "start_time": "2021-12-08T16:37:10.712Z"
   },
   {
    "duration": 8,
    "start_time": "2021-12-08T16:41:56.005Z"
   },
   {
    "duration": 21,
    "start_time": "2021-12-08T16:43:14.105Z"
   },
   {
    "duration": 6,
    "start_time": "2021-12-08T16:44:00.387Z"
   },
   {
    "duration": 22,
    "start_time": "2021-12-08T16:44:10.424Z"
   },
   {
    "duration": 5,
    "start_time": "2021-12-08T16:44:59.005Z"
   },
   {
    "duration": 9,
    "start_time": "2021-12-08T16:50:33.405Z"
   },
   {
    "duration": 19,
    "start_time": "2021-12-08T16:50:41.080Z"
   },
   {
    "duration": 492,
    "start_time": "2021-12-08T16:56:49.547Z"
   },
   {
    "duration": 6,
    "start_time": "2021-12-08T16:57:26.387Z"
   },
   {
    "duration": 18,
    "start_time": "2021-12-08T16:58:05.805Z"
   },
   {
    "duration": 5,
    "start_time": "2021-12-08T16:58:40.752Z"
   },
   {
    "duration": 11,
    "start_time": "2021-12-08T16:59:10.472Z"
   },
   {
    "duration": 10,
    "start_time": "2021-12-08T16:59:27.354Z"
   },
   {
    "duration": 4,
    "start_time": "2021-12-08T17:01:05.519Z"
   },
   {
    "duration": 4,
    "start_time": "2021-12-08T17:01:31.140Z"
   },
   {
    "duration": 17,
    "start_time": "2021-12-08T17:01:56.823Z"
   },
   {
    "duration": 5,
    "start_time": "2021-12-08T17:03:13.938Z"
   },
   {
    "duration": 22,
    "start_time": "2021-12-08T17:03:35.389Z"
   },
   {
    "duration": 5,
    "start_time": "2021-12-08T17:03:38.402Z"
   },
   {
    "duration": 398,
    "start_time": "2021-12-08T18:07:13.023Z"
   },
   {
    "duration": 224,
    "start_time": "2021-12-08T18:07:40.437Z"
   },
   {
    "duration": 5,
    "start_time": "2021-12-08T18:07:57.849Z"
   },
   {
    "duration": 12,
    "start_time": "2021-12-08T18:08:21.421Z"
   },
   {
    "duration": 254,
    "start_time": "2021-12-08T18:11:27.187Z"
   },
   {
    "duration": 16,
    "start_time": "2021-12-08T18:11:40.933Z"
   },
   {
    "duration": 15,
    "start_time": "2021-12-08T18:11:51.172Z"
   },
   {
    "duration": 19,
    "start_time": "2021-12-08T18:12:42.269Z"
   },
   {
    "duration": 10,
    "start_time": "2021-12-08T18:13:06.026Z"
   },
   {
    "duration": 15,
    "start_time": "2021-12-08T18:13:38.786Z"
   },
   {
    "duration": 15,
    "start_time": "2021-12-08T18:14:00.788Z"
   },
   {
    "duration": 16,
    "start_time": "2021-12-08T18:14:44.405Z"
   },
   {
    "duration": 14,
    "start_time": "2021-12-08T18:16:27.487Z"
   },
   {
    "duration": 6363,
    "start_time": "2021-12-08T18:16:45.303Z"
   },
   {
    "duration": -2,
    "start_time": "2021-12-08T18:17:03.524Z"
   },
   {
    "duration": 15,
    "start_time": "2021-12-08T18:17:43.792Z"
   },
   {
    "duration": 18,
    "start_time": "2021-12-08T18:18:16.579Z"
   },
   {
    "duration": 18,
    "start_time": "2021-12-08T18:18:46.799Z"
   },
   {
    "duration": 16,
    "start_time": "2021-12-08T18:18:57.654Z"
   },
   {
    "duration": 21,
    "start_time": "2021-12-08T18:19:10.089Z"
   },
   {
    "duration": 29,
    "start_time": "2021-12-08T18:19:26.586Z"
   },
   {
    "duration": 17,
    "start_time": "2021-12-08T18:19:38.289Z"
   },
   {
    "duration": 16,
    "start_time": "2021-12-08T18:19:43.370Z"
   },
   {
    "duration": 266,
    "start_time": "2021-12-08T18:19:56.133Z"
   },
   {
    "duration": 16,
    "start_time": "2021-12-08T18:20:49.205Z"
   },
   {
    "duration": 17,
    "start_time": "2021-12-08T18:20:55.069Z"
   },
   {
    "duration": 23,
    "start_time": "2021-12-08T18:21:05.261Z"
   },
   {
    "duration": 23,
    "start_time": "2021-12-08T18:21:30.651Z"
   },
   {
    "duration": 1190,
    "start_time": "2021-12-08T18:21:46.183Z"
   },
   {
    "duration": 26,
    "start_time": "2021-12-08T18:21:47.375Z"
   },
   {
    "duration": 3,
    "start_time": "2021-12-08T18:21:47.403Z"
   },
   {
    "duration": 10,
    "start_time": "2021-12-08T18:21:47.408Z"
   },
   {
    "duration": 3,
    "start_time": "2021-12-08T18:21:47.419Z"
   },
   {
    "duration": 20,
    "start_time": "2021-12-08T18:21:47.424Z"
   },
   {
    "duration": 4,
    "start_time": "2021-12-08T18:21:47.446Z"
   },
   {
    "duration": 46,
    "start_time": "2021-12-08T18:21:47.452Z"
   },
   {
    "duration": 6,
    "start_time": "2021-12-08T18:21:47.499Z"
   },
   {
    "duration": 17,
    "start_time": "2021-12-08T18:21:47.506Z"
   },
   {
    "duration": 5,
    "start_time": "2021-12-08T18:21:47.524Z"
   },
   {
    "duration": 17,
    "start_time": "2021-12-08T18:21:47.531Z"
   },
   {
    "duration": 18,
    "start_time": "2021-12-08T18:22:00.664Z"
   },
   {
    "duration": 10,
    "start_time": "2021-12-08T18:22:14.862Z"
   },
   {
    "duration": 8,
    "start_time": "2021-12-08T18:24:01.200Z"
   },
   {
    "duration": 9,
    "start_time": "2021-12-08T18:24:02.589Z"
   },
   {
    "duration": 11,
    "start_time": "2021-12-08T18:24:27.822Z"
   },
   {
    "duration": 9,
    "start_time": "2021-12-08T18:24:29.322Z"
   },
   {
    "duration": 12,
    "start_time": "2021-12-08T18:24:32.920Z"
   },
   {
    "duration": 11,
    "start_time": "2021-12-08T18:25:01.957Z"
   },
   {
    "duration": 15,
    "start_time": "2021-12-08T18:25:14.062Z"
   },
   {
    "duration": 648,
    "start_time": "2021-12-08T18:25:23.364Z"
   },
   {
    "duration": 27,
    "start_time": "2021-12-08T18:25:24.013Z"
   },
   {
    "duration": 4,
    "start_time": "2021-12-08T18:25:24.041Z"
   },
   {
    "duration": 11,
    "start_time": "2021-12-08T18:25:24.046Z"
   },
   {
    "duration": 3,
    "start_time": "2021-12-08T18:25:24.058Z"
   },
   {
    "duration": 39,
    "start_time": "2021-12-08T18:25:24.062Z"
   },
   {
    "duration": 4,
    "start_time": "2021-12-08T18:25:24.103Z"
   },
   {
    "duration": 12,
    "start_time": "2021-12-08T18:25:24.109Z"
   },
   {
    "duration": 5,
    "start_time": "2021-12-08T18:25:24.123Z"
   },
   {
    "duration": 15,
    "start_time": "2021-12-08T18:25:24.129Z"
   },
   {
    "duration": 5,
    "start_time": "2021-12-08T18:25:24.145Z"
   },
   {
    "duration": 60,
    "start_time": "2021-12-08T18:25:24.151Z"
   },
   {
    "duration": 14,
    "start_time": "2021-12-08T18:25:55.377Z"
   },
   {
    "duration": 282,
    "start_time": "2021-12-08T18:27:11.559Z"
   },
   {
    "duration": 16,
    "start_time": "2021-12-08T18:27:19.122Z"
   },
   {
    "duration": 20,
    "start_time": "2021-12-08T18:27:49.437Z"
   },
   {
    "duration": 171,
    "start_time": "2021-12-08T19:01:29.646Z"
   },
   {
    "duration": 84,
    "start_time": "2021-12-08T19:01:48.211Z"
   },
   {
    "duration": 380,
    "start_time": "2021-12-08T19:01:53.952Z"
   },
   {
    "duration": 81,
    "start_time": "2021-12-08T19:03:44.405Z"
   },
   {
    "duration": 471,
    "start_time": "2021-12-08T19:03:54.272Z"
   },
   {
    "duration": 263,
    "start_time": "2021-12-08T19:04:19.402Z"
   },
   {
    "duration": 439,
    "start_time": "2021-12-08T19:04:45.746Z"
   },
   {
    "duration": 648,
    "start_time": "2021-12-09T05:49:43.165Z"
   },
   {
    "duration": 808,
    "start_time": "2021-12-09T05:49:56.983Z"
   },
   {
    "duration": 35,
    "start_time": "2021-12-09T05:49:57.793Z"
   },
   {
    "duration": 65,
    "start_time": "2021-12-09T05:49:57.831Z"
   },
   {
    "duration": 7,
    "start_time": "2021-12-09T05:49:57.898Z"
   },
   {
    "duration": 14,
    "start_time": "2021-12-09T05:49:57.907Z"
   },
   {
    "duration": 4,
    "start_time": "2021-12-09T05:49:57.923Z"
   },
   {
    "duration": 68,
    "start_time": "2021-12-09T05:49:57.929Z"
   },
   {
    "duration": 7,
    "start_time": "2021-12-09T05:49:58.001Z"
   },
   {
    "duration": 52,
    "start_time": "2021-12-09T05:49:58.011Z"
   },
   {
    "duration": 7,
    "start_time": "2021-12-09T05:49:58.066Z"
   },
   {
    "duration": 24,
    "start_time": "2021-12-09T05:49:58.075Z"
   },
   {
    "duration": 8,
    "start_time": "2021-12-09T05:49:58.101Z"
   },
   {
    "duration": 504,
    "start_time": "2021-12-09T05:49:58.111Z"
   },
   {
    "duration": 36,
    "start_time": "2021-12-09T05:50:55.516Z"
   },
   {
    "duration": 13,
    "start_time": "2021-12-09T05:51:59.530Z"
   },
   {
    "duration": 46,
    "start_time": "2021-12-09T05:52:50.049Z"
   },
   {
    "duration": 402,
    "start_time": "2021-12-09T05:57:43.597Z"
   },
   {
    "duration": 44,
    "start_time": "2021-12-09T05:58:54.810Z"
   },
   {
    "duration": 10373,
    "start_time": "2021-12-09T05:58:56.897Z"
   },
   {
    "duration": 379,
    "start_time": "2021-12-09T06:19:01.425Z"
   },
   {
    "duration": 731,
    "start_time": "2021-12-09T06:19:08.628Z"
   },
   {
    "duration": 442,
    "start_time": "2021-12-09T06:19:45.280Z"
   },
   {
    "duration": 473,
    "start_time": "2021-12-09T06:22:49.165Z"
   },
   {
    "duration": 463,
    "start_time": "2021-12-09T06:23:50.764Z"
   },
   {
    "duration": 517,
    "start_time": "2021-12-09T06:24:08.501Z"
   },
   {
    "duration": 391,
    "start_time": "2021-12-09T06:24:20.900Z"
   },
   {
    "duration": 409,
    "start_time": "2021-12-09T06:24:35.922Z"
   },
   {
    "duration": 1747,
    "start_time": "2021-12-09T06:26:30.583Z"
   },
   {
    "duration": 421,
    "start_time": "2021-12-09T06:26:46.014Z"
   },
   {
    "duration": 472,
    "start_time": "2021-12-09T06:27:13.263Z"
   },
   {
    "duration": 812,
    "start_time": "2021-12-09T06:28:18.272Z"
   },
   {
    "duration": 66,
    "start_time": "2021-12-09T06:28:19.086Z"
   },
   {
    "duration": 6,
    "start_time": "2021-12-09T06:28:19.155Z"
   },
   {
    "duration": 14,
    "start_time": "2021-12-09T06:28:19.163Z"
   },
   {
    "duration": 6,
    "start_time": "2021-12-09T06:28:19.179Z"
   },
   {
    "duration": 35,
    "start_time": "2021-12-09T06:28:19.187Z"
   },
   {
    "duration": 37,
    "start_time": "2021-12-09T06:28:19.225Z"
   },
   {
    "duration": 22,
    "start_time": "2021-12-09T06:28:19.265Z"
   },
   {
    "duration": 7,
    "start_time": "2021-12-09T06:28:19.290Z"
   },
   {
    "duration": 61,
    "start_time": "2021-12-09T06:28:19.299Z"
   },
   {
    "duration": 7,
    "start_time": "2021-12-09T06:28:19.363Z"
   },
   {
    "duration": 39,
    "start_time": "2021-12-09T06:28:19.372Z"
   },
   {
    "duration": 603,
    "start_time": "2021-12-09T06:28:19.413Z"
   },
   {
    "duration": 572,
    "start_time": "2021-12-09T06:28:39.843Z"
   },
   {
    "duration": 485,
    "start_time": "2021-12-09T06:28:46.725Z"
   },
   {
    "duration": 923,
    "start_time": "2021-12-09T06:28:53.352Z"
   },
   {
    "duration": 44,
    "start_time": "2021-12-09T06:28:54.277Z"
   },
   {
    "duration": 6,
    "start_time": "2021-12-09T06:28:54.324Z"
   },
   {
    "duration": 38,
    "start_time": "2021-12-09T06:28:54.333Z"
   },
   {
    "duration": 6,
    "start_time": "2021-12-09T06:28:54.374Z"
   },
   {
    "duration": 34,
    "start_time": "2021-12-09T06:28:54.383Z"
   },
   {
    "duration": 41,
    "start_time": "2021-12-09T06:28:54.420Z"
   },
   {
    "duration": 21,
    "start_time": "2021-12-09T06:28:54.464Z"
   },
   {
    "duration": 7,
    "start_time": "2021-12-09T06:28:54.488Z"
   },
   {
    "duration": 24,
    "start_time": "2021-12-09T06:28:54.498Z"
   },
   {
    "duration": 8,
    "start_time": "2021-12-09T06:28:54.561Z"
   },
   {
    "duration": 39,
    "start_time": "2021-12-09T06:28:54.571Z"
   },
   {
    "duration": 620,
    "start_time": "2021-12-09T06:28:54.612Z"
   },
   {
    "duration": 911,
    "start_time": "2021-12-09T06:30:48.273Z"
   },
   {
    "duration": 932,
    "start_time": "2021-12-09T06:31:12.980Z"
   },
   {
    "duration": 1208,
    "start_time": "2021-12-09T06:31:44.954Z"
   },
   {
    "duration": 953,
    "start_time": "2021-12-09T06:32:19.483Z"
   },
   {
    "duration": 1179,
    "start_time": "2021-12-09T06:32:55.541Z"
   },
   {
    "duration": 950,
    "start_time": "2021-12-09T06:33:32.325Z"
   },
   {
    "duration": 960,
    "start_time": "2021-12-09T06:33:43.126Z"
   },
   {
    "duration": 991,
    "start_time": "2021-12-09T06:34:02.257Z"
   },
   {
    "duration": 956,
    "start_time": "2021-12-09T06:34:47.753Z"
   },
   {
    "duration": 393,
    "start_time": "2021-12-09T06:55:23.834Z"
   },
   {
    "duration": 943,
    "start_time": "2021-12-09T06:55:44.932Z"
   },
   {
    "duration": 48,
    "start_time": "2021-12-09T06:55:45.877Z"
   },
   {
    "duration": 6,
    "start_time": "2021-12-09T06:55:45.929Z"
   },
   {
    "duration": 16,
    "start_time": "2021-12-09T06:55:45.961Z"
   },
   {
    "duration": 7,
    "start_time": "2021-12-09T06:55:45.979Z"
   },
   {
    "duration": 70,
    "start_time": "2021-12-09T06:55:45.989Z"
   },
   {
    "duration": 15,
    "start_time": "2021-12-09T06:55:46.062Z"
   },
   {
    "duration": 24,
    "start_time": "2021-12-09T06:55:46.080Z"
   },
   {
    "duration": 7,
    "start_time": "2021-12-09T06:55:46.107Z"
   },
   {
    "duration": 54,
    "start_time": "2021-12-09T06:55:46.116Z"
   },
   {
    "duration": 10,
    "start_time": "2021-12-09T06:55:46.173Z"
   },
   {
    "duration": 74,
    "start_time": "2021-12-09T06:55:46.186Z"
   },
   {
    "duration": 997,
    "start_time": "2021-12-09T06:55:46.263Z"
   },
   {
    "duration": 727,
    "start_time": "2021-12-09T06:55:47.264Z"
   },
   {
    "duration": 386,
    "start_time": "2021-12-09T06:56:33.176Z"
   },
   {
    "duration": 483,
    "start_time": "2021-12-09T06:57:10.284Z"
   },
   {
    "duration": 677,
    "start_time": "2021-12-09T06:57:39.365Z"
   },
   {
    "duration": 857,
    "start_time": "2021-12-09T06:58:57.462Z"
   },
   {
    "duration": 5549,
    "start_time": "2021-12-09T06:59:40.369Z"
   },
   {
    "duration": 5240,
    "start_time": "2021-12-09T06:59:49.661Z"
   },
   {
    "duration": 5452,
    "start_time": "2021-12-09T07:01:42.567Z"
   },
   {
    "duration": 1080,
    "start_time": "2021-12-09T07:08:59.365Z"
   },
   {
    "duration": 50,
    "start_time": "2021-12-09T07:09:00.448Z"
   },
   {
    "duration": 7,
    "start_time": "2021-12-09T07:09:00.503Z"
   },
   {
    "duration": 50,
    "start_time": "2021-12-09T07:09:00.514Z"
   },
   {
    "duration": 8,
    "start_time": "2021-12-09T07:09:00.567Z"
   },
   {
    "duration": 39,
    "start_time": "2021-12-09T07:09:00.579Z"
   },
   {
    "duration": 9,
    "start_time": "2021-12-09T07:09:00.658Z"
   },
   {
    "duration": 24,
    "start_time": "2021-12-09T07:09:00.672Z"
   },
   {
    "duration": 9,
    "start_time": "2021-12-09T07:09:00.699Z"
   },
   {
    "duration": 69,
    "start_time": "2021-12-09T07:09:00.711Z"
   },
   {
    "duration": 10,
    "start_time": "2021-12-09T07:09:00.783Z"
   },
   {
    "duration": 71,
    "start_time": "2021-12-09T07:09:00.796Z"
   },
   {
    "duration": 1024,
    "start_time": "2021-12-09T07:09:00.870Z"
   },
   {
    "duration": 5851,
    "start_time": "2021-12-09T07:09:01.897Z"
   },
   {
    "duration": 9,
    "start_time": "2021-12-09T07:17:30.931Z"
   },
   {
    "duration": 5,
    "start_time": "2021-12-09T07:19:48.681Z"
   },
   {
    "duration": 78,
    "start_time": "2021-12-09T07:21:03.730Z"
   },
   {
    "duration": 24,
    "start_time": "2021-12-09T07:21:52.526Z"
   },
   {
    "duration": 819,
    "start_time": "2021-12-09T07:22:14.192Z"
   },
   {
    "duration": 53,
    "start_time": "2021-12-09T07:22:15.014Z"
   },
   {
    "duration": 5,
    "start_time": "2021-12-09T07:22:15.070Z"
   },
   {
    "duration": 18,
    "start_time": "2021-12-09T07:22:15.078Z"
   },
   {
    "duration": 5,
    "start_time": "2021-12-09T07:22:15.098Z"
   },
   {
    "duration": 64,
    "start_time": "2021-12-09T07:22:15.105Z"
   },
   {
    "duration": 6,
    "start_time": "2021-12-09T07:22:15.171Z"
   },
   {
    "duration": 21,
    "start_time": "2021-12-09T07:22:15.180Z"
   },
   {
    "duration": 6,
    "start_time": "2021-12-09T07:22:15.204Z"
   },
   {
    "duration": 60,
    "start_time": "2021-12-09T07:22:15.213Z"
   },
   {
    "duration": 8,
    "start_time": "2021-12-09T07:22:15.275Z"
   },
   {
    "duration": 41,
    "start_time": "2021-12-09T07:22:15.285Z"
   },
   {
    "duration": 1018,
    "start_time": "2021-12-09T07:22:15.360Z"
   },
   {
    "duration": 5361,
    "start_time": "2021-12-09T07:22:16.381Z"
   },
   {
    "duration": 21,
    "start_time": "2021-12-09T07:22:21.744Z"
   },
   {
    "duration": 585,
    "start_time": "2021-12-09T07:22:21.768Z"
   },
   {
    "duration": 24,
    "start_time": "2021-12-09T07:22:47.550Z"
   },
   {
    "duration": 585,
    "start_time": "2021-12-09T07:23:10.682Z"
   },
   {
    "duration": 398,
    "start_time": "2021-12-09T07:23:40.696Z"
   },
   {
    "duration": 514,
    "start_time": "2021-12-09T07:23:53.466Z"
   },
   {
    "duration": 26,
    "start_time": "2021-12-09T07:24:10.847Z"
   },
   {
    "duration": 7,
    "start_time": "2021-12-09T07:24:36.309Z"
   },
   {
    "duration": 9,
    "start_time": "2021-12-09T07:25:15.122Z"
   },
   {
    "duration": 9,
    "start_time": "2021-12-09T07:25:32.815Z"
   },
   {
    "duration": 9,
    "start_time": "2021-12-09T07:25:45.458Z"
   },
   {
    "duration": 9,
    "start_time": "2021-12-09T07:25:59.295Z"
   },
   {
    "duration": 10,
    "start_time": "2021-12-09T07:26:08.647Z"
   },
   {
    "duration": 9,
    "start_time": "2021-12-09T07:26:59.625Z"
   },
   {
    "duration": 17,
    "start_time": "2021-12-09T07:32:44.589Z"
   },
   {
    "duration": 37,
    "start_time": "2021-12-09T07:32:59.487Z"
   },
   {
    "duration": 21,
    "start_time": "2021-12-09T07:33:15.306Z"
   },
   {
    "duration": 42,
    "start_time": "2021-12-09T07:33:58.131Z"
   },
   {
    "duration": 36,
    "start_time": "2021-12-09T07:37:05.062Z"
   },
   {
    "duration": 826,
    "start_time": "2021-12-09T07:37:18.195Z"
   },
   {
    "duration": 48,
    "start_time": "2021-12-09T07:37:19.024Z"
   },
   {
    "duration": 6,
    "start_time": "2021-12-09T07:37:19.076Z"
   },
   {
    "duration": 22,
    "start_time": "2021-12-09T07:37:19.085Z"
   },
   {
    "duration": 6,
    "start_time": "2021-12-09T07:37:19.109Z"
   },
   {
    "duration": 73,
    "start_time": "2021-12-09T07:37:19.118Z"
   },
   {
    "duration": 8,
    "start_time": "2021-12-09T07:37:19.193Z"
   },
   {
    "duration": 22,
    "start_time": "2021-12-09T07:37:19.204Z"
   },
   {
    "duration": 32,
    "start_time": "2021-12-09T07:37:19.228Z"
   },
   {
    "duration": 25,
    "start_time": "2021-12-09T07:37:19.263Z"
   },
   {
    "duration": 8,
    "start_time": "2021-12-09T07:37:19.291Z"
   },
   {
    "duration": 85,
    "start_time": "2021-12-09T07:37:19.302Z"
   },
   {
    "duration": 1002,
    "start_time": "2021-12-09T07:37:19.390Z"
   },
   {
    "duration": 5110,
    "start_time": "2021-12-09T07:37:20.394Z"
   },
   {
    "duration": 9,
    "start_time": "2021-12-09T07:37:25.507Z"
   },
   {
    "duration": 61,
    "start_time": "2021-12-09T07:37:25.518Z"
   },
   {
    "duration": 512,
    "start_time": "2021-12-09T07:50:37.198Z"
   },
   {
    "duration": 478,
    "start_time": "2021-12-09T07:51:08.772Z"
   },
   {
    "duration": 35,
    "start_time": "2021-12-09T07:51:49.102Z"
   },
   {
    "duration": 476,
    "start_time": "2021-12-09T07:52:45.833Z"
   },
   {
    "duration": 39,
    "start_time": "2021-12-09T07:52:56.441Z"
   },
   {
    "duration": 32,
    "start_time": "2021-12-09T07:53:53.272Z"
   },
   {
    "duration": 29,
    "start_time": "2021-12-09T07:54:32.813Z"
   },
   {
    "duration": 414,
    "start_time": "2021-12-09T07:55:11.552Z"
   },
   {
    "duration": 34,
    "start_time": "2021-12-09T07:55:42.150Z"
   },
   {
    "duration": 8,
    "start_time": "2021-12-09T07:58:43.601Z"
   },
   {
    "duration": 28,
    "start_time": "2021-12-09T07:59:41.654Z"
   },
   {
    "duration": 31,
    "start_time": "2021-12-09T08:00:26.354Z"
   },
   {
    "duration": 34,
    "start_time": "2021-12-09T08:03:00.051Z"
   },
   {
    "duration": 27,
    "start_time": "2021-12-09T08:03:17.281Z"
   },
   {
    "duration": 34,
    "start_time": "2021-12-09T08:06:00.633Z"
   },
   {
    "duration": 45,
    "start_time": "2021-12-09T08:06:31.153Z"
   },
   {
    "duration": 1242,
    "start_time": "2021-12-09T08:10:42.599Z"
   },
   {
    "duration": 10905,
    "start_time": "2021-12-09T08:10:54.646Z"
   },
   {
    "duration": 12274,
    "start_time": "2021-12-09T08:11:19.300Z"
   },
   {
    "duration": 227,
    "start_time": "2021-12-09T08:11:45.593Z"
   },
   {
    "duration": 425,
    "start_time": "2021-12-09T08:12:25.903Z"
   },
   {
    "duration": 12765,
    "start_time": "2021-12-09T08:12:55.266Z"
   },
   {
    "duration": 442,
    "start_time": "2021-12-09T08:13:26.096Z"
   },
   {
    "duration": 44,
    "start_time": "2021-12-09T08:13:45.033Z"
   },
   {
    "duration": 10338,
    "start_time": "2021-12-09T08:14:19.465Z"
   },
   {
    "duration": 232,
    "start_time": "2021-12-09T08:16:25.469Z"
   },
   {
    "duration": 1584,
    "start_time": "2021-12-09T08:17:14.297Z"
   },
   {
    "duration": 43,
    "start_time": "2021-12-09T08:17:28.655Z"
   },
   {
    "duration": 31,
    "start_time": "2021-12-09T08:19:36.184Z"
   },
   {
    "duration": 46,
    "start_time": "2021-12-09T08:20:54.362Z"
   },
   {
    "duration": 45,
    "start_time": "2021-12-09T08:21:07.210Z"
   },
   {
    "duration": 54,
    "start_time": "2021-12-09T08:21:48.866Z"
   },
   {
    "duration": 148,
    "start_time": "2021-12-09T08:22:23.750Z"
   },
   {
    "duration": 47,
    "start_time": "2021-12-09T08:22:29.901Z"
   },
   {
    "duration": 49,
    "start_time": "2021-12-09T08:23:54.313Z"
   },
   {
    "duration": 47,
    "start_time": "2021-12-09T08:25:18.797Z"
   },
   {
    "duration": 63,
    "start_time": "2021-12-09T08:30:58.837Z"
   },
   {
    "duration": 52,
    "start_time": "2021-12-09T08:31:17.952Z"
   },
   {
    "duration": 46,
    "start_time": "2021-12-09T08:31:23.806Z"
   },
   {
    "duration": 47,
    "start_time": "2021-12-09T08:31:36.989Z"
   },
   {
    "duration": 53,
    "start_time": "2021-12-09T08:31:44.523Z"
   },
   {
    "duration": 56,
    "start_time": "2021-12-09T08:31:53.551Z"
   },
   {
    "duration": 22,
    "start_time": "2021-12-09T08:32:29.604Z"
   },
   {
    "duration": 42,
    "start_time": "2021-12-09T10:18:04.015Z"
   },
   {
    "duration": 8,
    "start_time": "2021-12-09T10:18:17.371Z"
   },
   {
    "duration": 7,
    "start_time": "2021-12-09T10:18:28.920Z"
   },
   {
    "duration": 379,
    "start_time": "2021-12-09T10:18:59.048Z"
   },
   {
    "duration": 8,
    "start_time": "2021-12-09T10:19:14.646Z"
   },
   {
    "duration": 10,
    "start_time": "2021-12-09T10:20:04.764Z"
   },
   {
    "duration": 42,
    "start_time": "2021-12-09T10:21:11.588Z"
   },
   {
    "duration": 48,
    "start_time": "2021-12-09T12:11:08.703Z"
   },
   {
    "duration": 99,
    "start_time": "2021-12-10T06:23:05.022Z"
   },
   {
    "duration": 325,
    "start_time": "2021-12-10T17:22:37.794Z"
   },
   {
    "duration": 854,
    "start_time": "2021-12-10T17:22:47.032Z"
   },
   {
    "duration": 46,
    "start_time": "2021-12-10T17:22:47.889Z"
   },
   {
    "duration": 6,
    "start_time": "2021-12-10T17:22:47.938Z"
   },
   {
    "duration": 22,
    "start_time": "2021-12-10T17:22:47.947Z"
   },
   {
    "duration": 6,
    "start_time": "2021-12-10T17:22:47.971Z"
   },
   {
    "duration": 50,
    "start_time": "2021-12-10T17:22:47.979Z"
   },
   {
    "duration": 6,
    "start_time": "2021-12-10T17:22:48.031Z"
   },
   {
    "duration": 20,
    "start_time": "2021-12-10T17:22:48.041Z"
   },
   {
    "duration": 7,
    "start_time": "2021-12-10T17:22:48.064Z"
   },
   {
    "duration": 62,
    "start_time": "2021-12-10T17:22:48.073Z"
   },
   {
    "duration": 7,
    "start_time": "2021-12-10T17:22:48.137Z"
   },
   {
    "duration": 47,
    "start_time": "2021-12-10T17:22:48.146Z"
   },
   {
    "duration": 877,
    "start_time": "2021-12-10T17:22:48.195Z"
   },
   {
    "duration": 5422,
    "start_time": "2021-12-10T17:22:49.074Z"
   },
   {
    "duration": 9,
    "start_time": "2021-12-10T17:22:54.498Z"
   },
   {
    "duration": 33,
    "start_time": "2021-12-10T17:22:54.523Z"
   },
   {
    "duration": 66,
    "start_time": "2021-12-10T17:22:54.559Z"
   },
   {
    "duration": 43,
    "start_time": "2021-12-10T17:22:54.627Z"
   },
   {
    "duration": 64,
    "start_time": "2021-12-10T17:22:54.673Z"
   },
   {
    "duration": 44,
    "start_time": "2021-12-10T17:22:54.740Z"
   },
   {
    "duration": 7414,
    "start_time": "2021-12-10T17:24:37.846Z"
   },
   {
    "duration": 11,
    "start_time": "2021-12-10T17:25:03.347Z"
   },
   {
    "duration": 11,
    "start_time": "2021-12-10T17:25:19.331Z"
   },
   {
    "duration": 12,
    "start_time": "2021-12-10T17:27:07.376Z"
   },
   {
    "duration": 94,
    "start_time": "2021-12-10T17:27:50.628Z"
   },
   {
    "duration": 103,
    "start_time": "2021-12-10T17:27:59.999Z"
   },
   {
    "duration": 84,
    "start_time": "2021-12-10T17:28:14.443Z"
   },
   {
    "duration": 127,
    "start_time": "2021-12-10T17:28:23.429Z"
   },
   {
    "duration": 114,
    "start_time": "2021-12-10T17:28:34.509Z"
   },
   {
    "duration": 103,
    "start_time": "2021-12-10T17:28:49.778Z"
   },
   {
    "duration": 326,
    "start_time": "2021-12-10T17:29:10.988Z"
   },
   {
    "duration": 5,
    "start_time": "2021-12-10T17:29:27.560Z"
   },
   {
    "duration": 12,
    "start_time": "2021-12-10T17:29:41.337Z"
   },
   {
    "duration": 12,
    "start_time": "2021-12-10T17:29:56.248Z"
   },
   {
    "duration": 12,
    "start_time": "2021-12-10T17:30:31.409Z"
   },
   {
    "duration": 11,
    "start_time": "2021-12-10T17:30:44.804Z"
   },
   {
    "duration": 12,
    "start_time": "2021-12-10T17:31:17.261Z"
   },
   {
    "duration": 12,
    "start_time": "2021-12-10T17:34:25.512Z"
   },
   {
    "duration": 53,
    "start_time": "2021-12-10T17:35:00.152Z"
   },
   {
    "duration": 29,
    "start_time": "2021-12-10T17:38:44.223Z"
   },
   {
    "duration": 27,
    "start_time": "2021-12-10T17:40:08.632Z"
   },
   {
    "duration": 791,
    "start_time": "2021-12-10T17:40:40.007Z"
   },
   {
    "duration": 28,
    "start_time": "2021-12-10T17:40:40.801Z"
   },
   {
    "duration": 35,
    "start_time": "2021-12-10T17:40:40.833Z"
   },
   {
    "duration": 6,
    "start_time": "2021-12-10T17:40:40.871Z"
   },
   {
    "duration": 49,
    "start_time": "2021-12-10T17:40:40.879Z"
   },
   {
    "duration": 5,
    "start_time": "2021-12-10T17:40:40.930Z"
   },
   {
    "duration": 51,
    "start_time": "2021-12-10T17:40:40.937Z"
   },
   {
    "duration": 34,
    "start_time": "2021-12-10T17:40:40.992Z"
   },
   {
    "duration": 20,
    "start_time": "2021-12-10T17:40:41.028Z"
   },
   {
    "duration": 21,
    "start_time": "2021-12-10T17:40:41.050Z"
   },
   {
    "duration": 30,
    "start_time": "2021-12-10T17:40:41.073Z"
   },
   {
    "duration": 18,
    "start_time": "2021-12-10T17:40:41.106Z"
   },
   {
    "duration": 62,
    "start_time": "2021-12-10T17:40:41.126Z"
   },
   {
    "duration": 844,
    "start_time": "2021-12-10T17:40:41.191Z"
   },
   {
    "duration": 4986,
    "start_time": "2021-12-10T17:40:42.038Z"
   },
   {
    "duration": 8,
    "start_time": "2021-12-10T17:40:47.026Z"
   },
   {
    "duration": 37,
    "start_time": "2021-12-10T17:40:47.036Z"
   },
   {
    "duration": 77,
    "start_time": "2021-12-10T17:40:47.075Z"
   },
   {
    "duration": 42,
    "start_time": "2021-12-10T17:40:47.154Z"
   },
   {
    "duration": 61,
    "start_time": "2021-12-10T17:40:47.199Z"
   },
   {
    "duration": 60,
    "start_time": "2021-12-10T17:40:47.263Z"
   },
   {
    "duration": 364,
    "start_time": "2021-12-10T17:41:30.348Z"
   },
   {
    "duration": 278,
    "start_time": "2021-12-10T17:41:55.833Z"
   },
   {
    "duration": 620,
    "start_time": "2021-12-10T17:42:15.445Z"
   },
   {
    "duration": 281,
    "start_time": "2021-12-10T17:42:28.249Z"
   },
   {
    "duration": 353,
    "start_time": "2021-12-11T18:01:45.811Z"
   },
   {
    "duration": 320,
    "start_time": "2021-12-11T18:02:01.750Z"
   },
   {
    "duration": 801,
    "start_time": "2021-12-11T18:02:08.078Z"
   },
   {
    "duration": 13,
    "start_time": "2021-12-11T18:02:08.882Z"
   },
   {
    "duration": 56,
    "start_time": "2021-12-11T18:02:08.898Z"
   },
   {
    "duration": 6,
    "start_time": "2021-12-11T18:02:08.957Z"
   },
   {
    "duration": 20,
    "start_time": "2021-12-11T18:02:08.965Z"
   },
   {
    "duration": 35,
    "start_time": "2021-12-11T18:02:08.987Z"
   },
   {
    "duration": 56,
    "start_time": "2021-12-11T18:02:09.025Z"
   },
   {
    "duration": 36,
    "start_time": "2021-12-11T18:02:09.083Z"
   },
   {
    "duration": 30,
    "start_time": "2021-12-11T18:02:09.124Z"
   },
   {
    "duration": 9,
    "start_time": "2021-12-11T18:02:09.158Z"
   },
   {
    "duration": 55,
    "start_time": "2021-12-11T18:02:09.170Z"
   },
   {
    "duration": 10,
    "start_time": "2021-12-11T18:02:09.227Z"
   },
   {
    "duration": 44,
    "start_time": "2021-12-11T18:02:09.239Z"
   },
   {
    "duration": 946,
    "start_time": "2021-12-11T18:02:09.324Z"
   },
   {
    "duration": 4817,
    "start_time": "2021-12-11T18:02:10.273Z"
   },
   {
    "duration": 8,
    "start_time": "2021-12-11T18:02:15.093Z"
   },
   {
    "duration": 53,
    "start_time": "2021-12-11T18:02:15.103Z"
   },
   {
    "duration": 76,
    "start_time": "2021-12-11T18:02:15.158Z"
   },
   {
    "duration": 43,
    "start_time": "2021-12-11T18:02:15.237Z"
   },
   {
    "duration": 65,
    "start_time": "2021-12-11T18:02:15.283Z"
   },
   {
    "duration": 46,
    "start_time": "2021-12-11T18:02:15.351Z"
   },
   {
    "duration": 7,
    "start_time": "2021-12-11T18:02:51.882Z"
   },
   {
    "duration": 7,
    "start_time": "2021-12-11T18:03:09.478Z"
   },
   {
    "duration": 6,
    "start_time": "2021-12-11T18:03:37.983Z"
   },
   {
    "duration": 6,
    "start_time": "2021-12-11T18:03:45.186Z"
   },
   {
    "duration": 6,
    "start_time": "2021-12-11T18:03:50.545Z"
   },
   {
    "duration": 7,
    "start_time": "2021-12-11T18:04:07.529Z"
   },
   {
    "duration": 862,
    "start_time": "2021-12-11T18:04:18.384Z"
   },
   {
    "duration": 16,
    "start_time": "2021-12-11T18:04:19.249Z"
   },
   {
    "duration": 7,
    "start_time": "2021-12-11T18:04:19.268Z"
   },
   {
    "duration": 60,
    "start_time": "2021-12-11T18:04:19.278Z"
   },
   {
    "duration": 6,
    "start_time": "2021-12-11T18:04:19.341Z"
   },
   {
    "duration": 24,
    "start_time": "2021-12-11T18:04:19.350Z"
   },
   {
    "duration": 6,
    "start_time": "2021-12-11T18:04:19.376Z"
   },
   {
    "duration": 48,
    "start_time": "2021-12-11T18:04:19.417Z"
   },
   {
    "duration": 7,
    "start_time": "2021-12-11T18:04:19.469Z"
   },
   {
    "duration": 50,
    "start_time": "2021-12-11T18:04:19.478Z"
   },
   {
    "duration": 7,
    "start_time": "2021-12-11T18:04:19.531Z"
   },
   {
    "duration": 18,
    "start_time": "2021-12-11T18:04:19.541Z"
   },
   {
    "duration": 10,
    "start_time": "2021-12-11T18:04:19.561Z"
   },
   {
    "duration": 84,
    "start_time": "2021-12-11T18:04:19.573Z"
   },
   {
    "duration": 973,
    "start_time": "2021-12-11T18:04:19.660Z"
   },
   {
    "duration": 4731,
    "start_time": "2021-12-11T18:04:20.635Z"
   },
   {
    "duration": 9,
    "start_time": "2021-12-11T18:04:25.368Z"
   },
   {
    "duration": 59,
    "start_time": "2021-12-11T18:04:25.379Z"
   },
   {
    "duration": 53,
    "start_time": "2021-12-11T18:04:25.441Z"
   },
   {
    "duration": 47,
    "start_time": "2021-12-11T18:04:25.516Z"
   },
   {
    "duration": 65,
    "start_time": "2021-12-11T18:04:25.566Z"
   },
   {
    "duration": 47,
    "start_time": "2021-12-11T18:04:25.633Z"
   },
   {
    "duration": 7,
    "start_time": "2021-12-11T18:06:10.290Z"
   },
   {
    "duration": 7,
    "start_time": "2021-12-11T18:07:37.590Z"
   },
   {
    "duration": 88,
    "start_time": "2021-12-11T18:08:11.565Z"
   },
   {
    "duration": 5,
    "start_time": "2021-12-11T18:08:11.656Z"
   },
   {
    "duration": 8,
    "start_time": "2021-12-11T18:08:11.667Z"
   },
   {
    "duration": 41,
    "start_time": "2021-12-11T18:08:11.679Z"
   },
   {
    "duration": 7,
    "start_time": "2021-12-11T18:08:11.722Z"
   },
   {
    "duration": 36,
    "start_time": "2021-12-11T18:08:11.731Z"
   },
   {
    "duration": 6,
    "start_time": "2021-12-11T18:08:11.769Z"
   },
   {
    "duration": 59,
    "start_time": "2021-12-11T18:08:11.777Z"
   },
   {
    "duration": 7,
    "start_time": "2021-12-11T18:08:11.838Z"
   },
   {
    "duration": 75,
    "start_time": "2021-12-11T18:08:11.847Z"
   },
   {
    "duration": 7,
    "start_time": "2021-12-11T18:08:11.924Z"
   },
   {
    "duration": 21,
    "start_time": "2021-12-11T18:08:11.934Z"
   },
   {
    "duration": 7,
    "start_time": "2021-12-11T18:08:11.957Z"
   },
   {
    "duration": 58,
    "start_time": "2021-12-11T18:08:11.966Z"
   },
   {
    "duration": 8,
    "start_time": "2021-12-11T18:08:12.027Z"
   },
   {
    "duration": 48,
    "start_time": "2021-12-11T18:08:12.037Z"
   },
   {
    "duration": 985,
    "start_time": "2021-12-11T18:08:12.087Z"
   },
   {
    "duration": 4622,
    "start_time": "2021-12-11T18:08:13.075Z"
   },
   {
    "duration": 20,
    "start_time": "2021-12-11T18:08:17.699Z"
   },
   {
    "duration": 38,
    "start_time": "2021-12-11T18:08:17.721Z"
   },
   {
    "duration": 77,
    "start_time": "2021-12-11T18:08:17.761Z"
   },
   {
    "duration": 44,
    "start_time": "2021-12-11T18:08:17.841Z"
   },
   {
    "duration": 61,
    "start_time": "2021-12-11T18:08:17.887Z"
   },
   {
    "duration": 44,
    "start_time": "2021-12-11T18:08:17.950Z"
   },
   {
    "duration": 9,
    "start_time": "2021-12-11T18:08:43.713Z"
   },
   {
    "duration": 7,
    "start_time": "2021-12-11T18:08:47.163Z"
   },
   {
    "duration": 7,
    "start_time": "2021-12-11T18:09:06.093Z"
   },
   {
    "duration": 8,
    "start_time": "2021-12-11T18:09:18.843Z"
   },
   {
    "duration": 6,
    "start_time": "2021-12-11T18:09:22.292Z"
   },
   {
    "duration": 8,
    "start_time": "2021-12-11T18:10:04.459Z"
   },
   {
    "duration": 6,
    "start_time": "2021-12-11T18:10:15.858Z"
   },
   {
    "duration": 7,
    "start_time": "2021-12-11T18:10:17.410Z"
   },
   {
    "duration": 6,
    "start_time": "2021-12-11T18:10:34.141Z"
   },
   {
    "duration": 11,
    "start_time": "2021-12-11T18:11:02.854Z"
   },
   {
    "duration": 9,
    "start_time": "2021-12-11T18:12:33.579Z"
   },
   {
    "duration": 18,
    "start_time": "2021-12-11T18:19:00.222Z"
   },
   {
    "duration": 853,
    "start_time": "2021-12-11T18:19:18.299Z"
   },
   {
    "duration": 21,
    "start_time": "2021-12-11T18:19:19.154Z"
   },
   {
    "duration": 55,
    "start_time": "2021-12-11T18:19:19.177Z"
   },
   {
    "duration": 6,
    "start_time": "2021-12-11T18:19:19.235Z"
   },
   {
    "duration": 22,
    "start_time": "2021-12-11T18:19:19.243Z"
   },
   {
    "duration": 5,
    "start_time": "2021-12-11T18:19:19.268Z"
   },
   {
    "duration": 81,
    "start_time": "2021-12-11T18:19:19.276Z"
   },
   {
    "duration": 7,
    "start_time": "2021-12-11T18:19:19.361Z"
   },
   {
    "duration": 55,
    "start_time": "2021-12-11T18:19:19.370Z"
   },
   {
    "duration": 7,
    "start_time": "2021-12-11T18:19:19.427Z"
   },
   {
    "duration": 18,
    "start_time": "2021-12-11T18:19:19.436Z"
   },
   {
    "duration": 10,
    "start_time": "2021-12-11T18:19:19.456Z"
   },
   {
    "duration": 87,
    "start_time": "2021-12-11T18:19:19.468Z"
   },
   {
    "duration": 954,
    "start_time": "2021-12-11T18:19:19.557Z"
   },
   {
    "duration": 4671,
    "start_time": "2021-12-11T18:19:20.517Z"
   },
   {
    "duration": 9,
    "start_time": "2021-12-11T18:19:25.190Z"
   },
   {
    "duration": 38,
    "start_time": "2021-12-11T18:19:25.217Z"
   },
   {
    "duration": 73,
    "start_time": "2021-12-11T18:19:25.257Z"
   },
   {
    "duration": 46,
    "start_time": "2021-12-11T18:19:25.332Z"
   },
   {
    "duration": 70,
    "start_time": "2021-12-11T18:19:25.381Z"
   },
   {
    "duration": 47,
    "start_time": "2021-12-11T18:19:25.453Z"
   },
   {
    "duration": 4449,
    "start_time": "2021-12-11T18:21:22.685Z"
   },
   {
    "duration": 5,
    "start_time": "2021-12-11T18:21:53.242Z"
   },
   {
    "duration": 49,
    "start_time": "2021-12-11T18:27:31.543Z"
   },
   {
    "duration": 16,
    "start_time": "2021-12-11T18:28:17.978Z"
   },
   {
    "duration": 28,
    "start_time": "2021-12-11T18:29:07.510Z"
   },
   {
    "duration": 35,
    "start_time": "2021-12-11T18:29:42.875Z"
   },
   {
    "duration": 973,
    "start_time": "2021-12-11T18:29:49.200Z"
   },
   {
    "duration": 23,
    "start_time": "2021-12-11T18:29:50.175Z"
   },
   {
    "duration": 28,
    "start_time": "2021-12-11T18:29:50.217Z"
   },
   {
    "duration": 38,
    "start_time": "2021-12-11T18:29:50.248Z"
   },
   {
    "duration": 30,
    "start_time": "2021-12-11T18:29:50.289Z"
   },
   {
    "duration": 32,
    "start_time": "2021-12-11T18:29:50.322Z"
   },
   {
    "duration": 6,
    "start_time": "2021-12-11T18:29:50.357Z"
   },
   {
    "duration": 91,
    "start_time": "2021-12-11T18:29:50.366Z"
   },
   {
    "duration": 6,
    "start_time": "2021-12-11T18:29:50.460Z"
   },
   {
    "duration": 37,
    "start_time": "2021-12-11T18:29:50.468Z"
   },
   {
    "duration": 8,
    "start_time": "2021-12-11T18:29:50.517Z"
   },
   {
    "duration": 26,
    "start_time": "2021-12-11T18:29:50.528Z"
   },
   {
    "duration": 7,
    "start_time": "2021-12-11T18:29:50.557Z"
   },
   {
    "duration": 56,
    "start_time": "2021-12-11T18:29:50.566Z"
   },
   {
    "duration": 29,
    "start_time": "2021-12-11T18:29:50.626Z"
   },
   {
    "duration": 1028,
    "start_time": "2021-12-11T18:29:50.658Z"
   },
   {
    "duration": 5139,
    "start_time": "2021-12-11T18:29:51.689Z"
   },
   {
    "duration": 8,
    "start_time": "2021-12-11T18:29:56.830Z"
   },
   {
    "duration": 37,
    "start_time": "2021-12-11T18:29:56.840Z"
   },
   {
    "duration": 81,
    "start_time": "2021-12-11T18:29:56.879Z"
   },
   {
    "duration": 61,
    "start_time": "2021-12-11T18:29:56.962Z"
   },
   {
    "duration": 47,
    "start_time": "2021-12-11T18:29:57.025Z"
   },
   {
    "duration": 76,
    "start_time": "2021-12-11T18:29:57.077Z"
   },
   {
    "duration": 44,
    "start_time": "2021-12-11T18:31:09.417Z"
   },
   {
    "duration": 972,
    "start_time": "2021-12-11T18:31:19.442Z"
   },
   {
    "duration": 20,
    "start_time": "2021-12-11T18:31:20.417Z"
   },
   {
    "duration": 37,
    "start_time": "2021-12-11T18:31:20.441Z"
   },
   {
    "duration": 57,
    "start_time": "2021-12-11T18:31:20.480Z"
   },
   {
    "duration": 6,
    "start_time": "2021-12-11T18:31:20.540Z"
   },
   {
    "duration": 25,
    "start_time": "2021-12-11T18:31:20.549Z"
   },
   {
    "duration": 48,
    "start_time": "2021-12-11T18:31:20.576Z"
   },
   {
    "duration": 52,
    "start_time": "2021-12-11T18:31:20.628Z"
   },
   {
    "duration": 7,
    "start_time": "2021-12-11T18:31:20.683Z"
   },
   {
    "duration": 48,
    "start_time": "2021-12-11T18:31:20.692Z"
   },
   {
    "duration": 7,
    "start_time": "2021-12-11T18:31:20.742Z"
   },
   {
    "duration": 21,
    "start_time": "2021-12-11T18:31:20.752Z"
   },
   {
    "duration": 47,
    "start_time": "2021-12-11T18:31:20.775Z"
   },
   {
    "duration": 16,
    "start_time": "2021-12-11T18:31:20.824Z"
   },
   {
    "duration": 27,
    "start_time": "2021-12-11T18:31:20.843Z"
   },
   {
    "duration": 1007,
    "start_time": "2021-12-11T18:31:20.872Z"
   },
   {
    "duration": 5086,
    "start_time": "2021-12-11T18:31:21.881Z"
   },
   {
    "duration": 9,
    "start_time": "2021-12-11T18:31:26.969Z"
   },
   {
    "duration": 66,
    "start_time": "2021-12-11T18:31:26.980Z"
   },
   {
    "duration": 74,
    "start_time": "2021-12-11T18:31:27.048Z"
   },
   {
    "duration": 50,
    "start_time": "2021-12-11T18:31:27.124Z"
   },
   {
    "duration": 72,
    "start_time": "2021-12-11T18:31:27.176Z"
   },
   {
    "duration": 47,
    "start_time": "2021-12-11T18:31:27.252Z"
   },
   {
    "duration": 66,
    "start_time": "2021-12-11T18:31:58.009Z"
   },
   {
    "duration": 893,
    "start_time": "2021-12-11T18:32:14.204Z"
   },
   {
    "duration": 20,
    "start_time": "2021-12-11T18:32:15.100Z"
   },
   {
    "duration": 53,
    "start_time": "2021-12-11T18:32:15.123Z"
   },
   {
    "duration": 53,
    "start_time": "2021-12-11T18:32:15.178Z"
   },
   {
    "duration": 7,
    "start_time": "2021-12-11T18:32:15.233Z"
   },
   {
    "duration": 21,
    "start_time": "2021-12-11T18:32:15.243Z"
   },
   {
    "duration": 6,
    "start_time": "2021-12-11T18:32:15.267Z"
   },
   {
    "duration": 67,
    "start_time": "2021-12-11T18:32:15.316Z"
   },
   {
    "duration": 30,
    "start_time": "2021-12-11T18:32:15.387Z"
   },
   {
    "duration": 34,
    "start_time": "2021-12-11T18:32:15.420Z"
   },
   {
    "duration": 9,
    "start_time": "2021-12-11T18:32:15.458Z"
   },
   {
    "duration": 60,
    "start_time": "2021-12-11T18:32:15.471Z"
   },
   {
    "duration": 10,
    "start_time": "2021-12-11T18:32:15.535Z"
   },
   {
    "duration": 23,
    "start_time": "2021-12-11T18:32:15.548Z"
   },
   {
    "duration": 56,
    "start_time": "2021-12-11T18:32:15.574Z"
   },
   {
    "duration": 953,
    "start_time": "2021-12-11T18:32:15.633Z"
   },
   {
    "duration": 4906,
    "start_time": "2021-12-11T18:32:16.589Z"
   },
   {
    "duration": 20,
    "start_time": "2021-12-11T18:32:21.499Z"
   },
   {
    "duration": 42,
    "start_time": "2021-12-11T18:32:21.523Z"
   },
   {
    "duration": 90,
    "start_time": "2021-12-11T18:32:21.568Z"
   },
   {
    "duration": 58,
    "start_time": "2021-12-11T18:32:21.660Z"
   },
   {
    "duration": 49,
    "start_time": "2021-12-11T18:32:21.721Z"
   },
   {
    "duration": 79,
    "start_time": "2021-12-11T18:32:21.774Z"
   },
   {
    "duration": 52,
    "start_time": "2021-12-11T18:32:38.280Z"
   },
   {
    "duration": 798,
    "start_time": "2021-12-11T18:32:46.458Z"
   },
   {
    "duration": 21,
    "start_time": "2021-12-11T18:32:47.258Z"
   },
   {
    "duration": 61,
    "start_time": "2021-12-11T18:32:47.282Z"
   },
   {
    "duration": 39,
    "start_time": "2021-12-11T18:32:47.345Z"
   },
   {
    "duration": 5,
    "start_time": "2021-12-11T18:32:47.387Z"
   },
   {
    "duration": 21,
    "start_time": "2021-12-11T18:32:47.418Z"
   },
   {
    "duration": 5,
    "start_time": "2021-12-11T18:32:47.442Z"
   },
   {
    "duration": 79,
    "start_time": "2021-12-11T18:32:47.450Z"
   },
   {
    "duration": 7,
    "start_time": "2021-12-11T18:32:47.533Z"
   },
   {
    "duration": 24,
    "start_time": "2021-12-11T18:32:47.542Z"
   },
   {
    "duration": 7,
    "start_time": "2021-12-11T18:32:47.569Z"
   },
   {
    "duration": 17,
    "start_time": "2021-12-11T18:32:47.618Z"
   },
   {
    "duration": 9,
    "start_time": "2021-12-11T18:32:47.638Z"
   },
   {
    "duration": 15,
    "start_time": "2021-12-11T18:32:47.649Z"
   },
   {
    "duration": 60,
    "start_time": "2021-12-11T18:32:47.666Z"
   },
   {
    "duration": 952,
    "start_time": "2021-12-11T18:32:47.729Z"
   },
   {
    "duration": 4713,
    "start_time": "2021-12-11T18:32:48.684Z"
   },
   {
    "duration": 19,
    "start_time": "2021-12-11T18:32:53.399Z"
   },
   {
    "duration": 36,
    "start_time": "2021-12-11T18:32:53.421Z"
   },
   {
    "duration": 78,
    "start_time": "2021-12-11T18:32:53.460Z"
   },
   {
    "duration": 49,
    "start_time": "2021-12-11T18:32:53.541Z"
   },
   {
    "duration": 67,
    "start_time": "2021-12-11T18:32:53.593Z"
   },
   {
    "duration": 67,
    "start_time": "2021-12-11T18:32:53.663Z"
   },
   {
    "duration": 33,
    "start_time": "2021-12-11T18:33:14.678Z"
   },
   {
    "duration": 31,
    "start_time": "2021-12-11T18:33:25.753Z"
   },
   {
    "duration": 37,
    "start_time": "2021-12-11T18:34:46.767Z"
   },
   {
    "duration": 1065,
    "start_time": "2021-12-11T18:34:53.742Z"
   },
   {
    "duration": 33,
    "start_time": "2021-12-11T18:34:54.809Z"
   },
   {
    "duration": 24,
    "start_time": "2021-12-11T18:34:54.848Z"
   },
   {
    "duration": 75,
    "start_time": "2021-12-11T18:34:54.876Z"
   },
   {
    "duration": 7,
    "start_time": "2021-12-11T18:34:54.955Z"
   },
   {
    "duration": 23,
    "start_time": "2021-12-11T18:34:54.965Z"
   },
   {
    "duration": 10,
    "start_time": "2021-12-11T18:34:55.018Z"
   },
   {
    "duration": 83,
    "start_time": "2021-12-11T18:34:55.034Z"
   },
   {
    "duration": 9,
    "start_time": "2021-12-11T18:34:55.121Z"
   },
   {
    "duration": 30,
    "start_time": "2021-12-11T18:34:55.134Z"
   },
   {
    "duration": 8,
    "start_time": "2021-12-11T18:34:55.166Z"
   },
   {
    "duration": 72,
    "start_time": "2021-12-11T18:34:55.177Z"
   },
   {
    "duration": 8,
    "start_time": "2021-12-11T18:34:55.251Z"
   },
   {
    "duration": 17,
    "start_time": "2021-12-11T18:34:55.261Z"
   },
   {
    "duration": 67,
    "start_time": "2021-12-11T18:34:55.281Z"
   },
   {
    "duration": 1079,
    "start_time": "2021-12-11T18:34:55.350Z"
   },
   {
    "duration": 6044,
    "start_time": "2021-12-11T18:34:56.433Z"
   },
   {
    "duration": 9,
    "start_time": "2021-12-11T18:35:02.479Z"
   },
   {
    "duration": 65,
    "start_time": "2021-12-11T18:35:02.490Z"
   },
   {
    "duration": 70,
    "start_time": "2021-12-11T18:35:02.557Z"
   },
   {
    "duration": 102,
    "start_time": "2021-12-11T18:35:02.631Z"
   },
   {
    "duration": 45,
    "start_time": "2021-12-11T18:35:02.736Z"
   },
   {
    "duration": 74,
    "start_time": "2021-12-11T18:35:02.785Z"
   },
   {
    "duration": 36,
    "start_time": "2021-12-11T18:37:44.644Z"
   },
   {
    "duration": 34,
    "start_time": "2021-12-11T18:38:41.737Z"
   },
   {
    "duration": 6,
    "start_time": "2021-12-11T18:40:39.374Z"
   },
   {
    "duration": 901,
    "start_time": "2021-12-11T18:40:46.105Z"
   },
   {
    "duration": 21,
    "start_time": "2021-12-11T18:40:47.009Z"
   },
   {
    "duration": 22,
    "start_time": "2021-12-11T18:40:47.033Z"
   },
   {
    "duration": 61,
    "start_time": "2021-12-11T18:40:47.058Z"
   },
   {
    "duration": 6,
    "start_time": "2021-12-11T18:40:47.121Z"
   },
   {
    "duration": 24,
    "start_time": "2021-12-11T18:40:47.129Z"
   },
   {
    "duration": 7,
    "start_time": "2021-12-11T18:40:47.155Z"
   },
   {
    "duration": 89,
    "start_time": "2021-12-11T18:40:47.167Z"
   },
   {
    "duration": 6,
    "start_time": "2021-12-11T18:40:47.259Z"
   },
   {
    "duration": 51,
    "start_time": "2021-12-11T18:40:47.267Z"
   },
   {
    "duration": 7,
    "start_time": "2021-12-11T18:40:47.320Z"
   },
   {
    "duration": 28,
    "start_time": "2021-12-11T18:40:47.329Z"
   },
   {
    "duration": 9,
    "start_time": "2021-12-11T18:40:47.359Z"
   },
   {
    "duration": 19,
    "start_time": "2021-12-11T18:40:47.371Z"
   },
   {
    "duration": 7,
    "start_time": "2021-12-11T18:40:47.417Z"
   },
   {
    "duration": 41,
    "start_time": "2021-12-11T18:40:47.426Z"
   },
   {
    "duration": 48,
    "start_time": "2021-12-11T18:40:47.469Z"
   },
   {
    "duration": 947,
    "start_time": "2021-12-11T18:40:47.520Z"
   },
   {
    "duration": 4698,
    "start_time": "2021-12-11T18:40:48.470Z"
   },
   {
    "duration": 9,
    "start_time": "2021-12-11T18:40:53.170Z"
   },
   {
    "duration": 60,
    "start_time": "2021-12-11T18:40:53.181Z"
   },
   {
    "duration": 48,
    "start_time": "2021-12-11T18:40:53.244Z"
   },
   {
    "duration": 67,
    "start_time": "2021-12-11T18:40:53.296Z"
   },
   {
    "duration": 67,
    "start_time": "2021-12-11T18:40:53.366Z"
   },
   {
    "duration": 49,
    "start_time": "2021-12-11T18:40:53.436Z"
   },
   {
    "duration": 89,
    "start_time": "2021-12-11T18:44:17.329Z"
   },
   {
    "duration": 44,
    "start_time": "2021-12-11T18:44:27.522Z"
   },
   {
    "duration": 46,
    "start_time": "2021-12-11T18:45:06.992Z"
   },
   {
    "duration": 46,
    "start_time": "2021-12-11T18:45:15.476Z"
   },
   {
    "duration": 16,
    "start_time": "2021-12-11T18:47:41.305Z"
   },
   {
    "duration": 29,
    "start_time": "2021-12-11T18:52:14.970Z"
   },
   {
    "duration": 19,
    "start_time": "2021-12-11T18:52:26.757Z"
   },
   {
    "duration": 41,
    "start_time": "2021-12-11T18:57:47.692Z"
   },
   {
    "duration": 41,
    "start_time": "2021-12-11T18:58:02.108Z"
   },
   {
    "duration": 777,
    "start_time": "2021-12-11T19:29:37.260Z"
   },
   {
    "duration": 20,
    "start_time": "2021-12-11T19:29:38.040Z"
   },
   {
    "duration": 22,
    "start_time": "2021-12-11T19:29:38.063Z"
   },
   {
    "duration": 55,
    "start_time": "2021-12-11T19:29:38.087Z"
   },
   {
    "duration": 6,
    "start_time": "2021-12-11T19:29:38.145Z"
   },
   {
    "duration": 21,
    "start_time": "2021-12-11T19:29:38.154Z"
   },
   {
    "duration": 41,
    "start_time": "2021-12-11T19:29:38.177Z"
   },
   {
    "duration": 47,
    "start_time": "2021-12-11T19:29:38.222Z"
   },
   {
    "duration": 6,
    "start_time": "2021-12-11T19:29:38.272Z"
   },
   {
    "duration": 50,
    "start_time": "2021-12-11T19:29:38.280Z"
   },
   {
    "duration": 7,
    "start_time": "2021-12-11T19:29:38.332Z"
   },
   {
    "duration": 18,
    "start_time": "2021-12-11T19:29:38.341Z"
   },
   {
    "duration": 9,
    "start_time": "2021-12-11T19:29:38.362Z"
   },
   {
    "duration": 47,
    "start_time": "2021-12-11T19:29:38.374Z"
   },
   {
    "duration": 29,
    "start_time": "2021-12-11T19:29:38.424Z"
   },
   {
    "duration": 27,
    "start_time": "2021-12-11T19:29:38.456Z"
   },
   {
    "duration": 53,
    "start_time": "2021-12-11T19:29:38.485Z"
   },
   {
    "duration": 15,
    "start_time": "2021-12-11T19:29:38.541Z"
   },
   {
    "duration": 1067,
    "start_time": "2021-12-11T19:29:38.558Z"
   },
   {
    "duration": 4597,
    "start_time": "2021-12-11T19:29:39.627Z"
   },
   {
    "duration": 8,
    "start_time": "2021-12-11T19:29:44.227Z"
   },
   {
    "duration": 36,
    "start_time": "2021-12-11T19:29:44.238Z"
   },
   {
    "duration": 79,
    "start_time": "2021-12-11T19:29:44.280Z"
   },
   {
    "duration": 57,
    "start_time": "2021-12-11T19:29:44.363Z"
   },
   {
    "duration": 48,
    "start_time": "2021-12-11T19:29:44.423Z"
   },
   {
    "duration": 71,
    "start_time": "2021-12-11T19:29:44.475Z"
   },
   {
    "duration": 69,
    "start_time": "2021-12-11T19:29:44.549Z"
   }
  ],
  "kernelspec": {
   "display_name": "Python 3 (ipykernel)",
   "language": "python",
   "name": "python3"
  },
  "language_info": {
   "codemirror_mode": {
    "name": "ipython",
    "version": 3
   },
   "file_extension": ".py",
   "mimetype": "text/x-python",
   "name": "python",
   "nbconvert_exporter": "python",
   "pygments_lexer": "ipython3",
   "version": "3.9.12"
  },
  "toc": {
   "base_numbering": 1,
   "nav_menu": {},
   "number_sections": true,
   "sideBar": true,
   "skip_h1_title": true,
   "title_cell": "Table of Contents",
   "title_sidebar": "Contents",
   "toc_cell": false,
   "toc_position": {},
   "toc_section_display": true,
   "toc_window_display": false
  }
 },
 "nbformat": 4,
 "nbformat_minor": 2
}
