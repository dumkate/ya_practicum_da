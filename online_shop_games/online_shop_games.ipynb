{
 "cells": [
  {
   "cell_type": "markdown",
   "metadata": {},
   "source": [
    "# 1. Исследование продаж компьютерных игр. Общая информация\n",
    "\n",
    "- Исследование интернет-магазина «Стримчик», который продаёт по всему миру компьютерные игры. Цель: определить потенциально популярный продукт.\n",
    "- Данные до 2016 года. Сейчас декабрь 2016 г., планирование кампании на 2017-й.\n",
    "- В наборе данных попадается аббревиатура ESRB (Entertainment Software Rating Board) — это ассоциация, определяющая возрастной рейтинг компьютерных игр. ESRB оценивает игровой контент и присваивает ему подходящую возрастную категорию, например, «Для взрослых», «Для детей младшего возраста» или «Для подростков»."
   ]
  },
  {
   "cell_type": "code",
   "execution_count": 1,
   "metadata": {},
   "outputs": [],
   "source": [
    "import pandas as pd\n",
    "import matplotlib.pyplot as plt\n",
    "import math\n",
    "import numpy as np\n",
    "from scipy import stats as st\n",
    "import seaborn as sns\n",
    "\n"
   ]
  },
  {
   "cell_type": "code",
   "execution_count": 2,
   "metadata": {},
   "outputs": [
    {
     "data": {
      "text/html": [
       "<div>\n",
       "<style scoped>\n",
       "    .dataframe tbody tr th:only-of-type {\n",
       "        vertical-align: middle;\n",
       "    }\n",
       "\n",
       "    .dataframe tbody tr th {\n",
       "        vertical-align: top;\n",
       "    }\n",
       "\n",
       "    .dataframe thead th {\n",
       "        text-align: right;\n",
       "    }\n",
       "</style>\n",
       "<table border=\"1\" class=\"dataframe\">\n",
       "  <thead>\n",
       "    <tr style=\"text-align: right;\">\n",
       "      <th></th>\n",
       "      <th>Name</th>\n",
       "      <th>Platform</th>\n",
       "      <th>Year_of_Release</th>\n",
       "      <th>Genre</th>\n",
       "      <th>NA_sales</th>\n",
       "      <th>EU_sales</th>\n",
       "      <th>JP_sales</th>\n",
       "      <th>Other_sales</th>\n",
       "      <th>Critic_Score</th>\n",
       "      <th>User_Score</th>\n",
       "      <th>Rating</th>\n",
       "    </tr>\n",
       "  </thead>\n",
       "  <tbody>\n",
       "    <tr>\n",
       "      <td>0</td>\n",
       "      <td>Wii Sports</td>\n",
       "      <td>Wii</td>\n",
       "      <td>2006.0</td>\n",
       "      <td>Sports</td>\n",
       "      <td>41.36</td>\n",
       "      <td>28.96</td>\n",
       "      <td>3.77</td>\n",
       "      <td>8.45</td>\n",
       "      <td>76.0</td>\n",
       "      <td>8</td>\n",
       "      <td>E</td>\n",
       "    </tr>\n",
       "    <tr>\n",
       "      <td>1</td>\n",
       "      <td>Super Mario Bros.</td>\n",
       "      <td>NES</td>\n",
       "      <td>1985.0</td>\n",
       "      <td>Platform</td>\n",
       "      <td>29.08</td>\n",
       "      <td>3.58</td>\n",
       "      <td>6.81</td>\n",
       "      <td>0.77</td>\n",
       "      <td>NaN</td>\n",
       "      <td>NaN</td>\n",
       "      <td>NaN</td>\n",
       "    </tr>\n",
       "    <tr>\n",
       "      <td>2</td>\n",
       "      <td>Mario Kart Wii</td>\n",
       "      <td>Wii</td>\n",
       "      <td>2008.0</td>\n",
       "      <td>Racing</td>\n",
       "      <td>15.68</td>\n",
       "      <td>12.76</td>\n",
       "      <td>3.79</td>\n",
       "      <td>3.29</td>\n",
       "      <td>82.0</td>\n",
       "      <td>8.3</td>\n",
       "      <td>E</td>\n",
       "    </tr>\n",
       "    <tr>\n",
       "      <td>3</td>\n",
       "      <td>Wii Sports Resort</td>\n",
       "      <td>Wii</td>\n",
       "      <td>2009.0</td>\n",
       "      <td>Sports</td>\n",
       "      <td>15.61</td>\n",
       "      <td>10.93</td>\n",
       "      <td>3.28</td>\n",
       "      <td>2.95</td>\n",
       "      <td>80.0</td>\n",
       "      <td>8</td>\n",
       "      <td>E</td>\n",
       "    </tr>\n",
       "    <tr>\n",
       "      <td>4</td>\n",
       "      <td>Pokemon Red/Pokemon Blue</td>\n",
       "      <td>GB</td>\n",
       "      <td>1996.0</td>\n",
       "      <td>Role-Playing</td>\n",
       "      <td>11.27</td>\n",
       "      <td>8.89</td>\n",
       "      <td>10.22</td>\n",
       "      <td>1.00</td>\n",
       "      <td>NaN</td>\n",
       "      <td>NaN</td>\n",
       "      <td>NaN</td>\n",
       "    </tr>\n",
       "    <tr>\n",
       "      <td>...</td>\n",
       "      <td>...</td>\n",
       "      <td>...</td>\n",
       "      <td>...</td>\n",
       "      <td>...</td>\n",
       "      <td>...</td>\n",
       "      <td>...</td>\n",
       "      <td>...</td>\n",
       "      <td>...</td>\n",
       "      <td>...</td>\n",
       "      <td>...</td>\n",
       "      <td>...</td>\n",
       "    </tr>\n",
       "    <tr>\n",
       "      <td>16710</td>\n",
       "      <td>Samurai Warriors: Sanada Maru</td>\n",
       "      <td>PS3</td>\n",
       "      <td>2016.0</td>\n",
       "      <td>Action</td>\n",
       "      <td>0.00</td>\n",
       "      <td>0.00</td>\n",
       "      <td>0.01</td>\n",
       "      <td>0.00</td>\n",
       "      <td>NaN</td>\n",
       "      <td>NaN</td>\n",
       "      <td>NaN</td>\n",
       "    </tr>\n",
       "    <tr>\n",
       "      <td>16711</td>\n",
       "      <td>LMA Manager 2007</td>\n",
       "      <td>X360</td>\n",
       "      <td>2006.0</td>\n",
       "      <td>Sports</td>\n",
       "      <td>0.00</td>\n",
       "      <td>0.01</td>\n",
       "      <td>0.00</td>\n",
       "      <td>0.00</td>\n",
       "      <td>NaN</td>\n",
       "      <td>NaN</td>\n",
       "      <td>NaN</td>\n",
       "    </tr>\n",
       "    <tr>\n",
       "      <td>16712</td>\n",
       "      <td>Haitaka no Psychedelica</td>\n",
       "      <td>PSV</td>\n",
       "      <td>2016.0</td>\n",
       "      <td>Adventure</td>\n",
       "      <td>0.00</td>\n",
       "      <td>0.00</td>\n",
       "      <td>0.01</td>\n",
       "      <td>0.00</td>\n",
       "      <td>NaN</td>\n",
       "      <td>NaN</td>\n",
       "      <td>NaN</td>\n",
       "    </tr>\n",
       "    <tr>\n",
       "      <td>16713</td>\n",
       "      <td>Spirits &amp; Spells</td>\n",
       "      <td>GBA</td>\n",
       "      <td>2003.0</td>\n",
       "      <td>Platform</td>\n",
       "      <td>0.01</td>\n",
       "      <td>0.00</td>\n",
       "      <td>0.00</td>\n",
       "      <td>0.00</td>\n",
       "      <td>NaN</td>\n",
       "      <td>NaN</td>\n",
       "      <td>NaN</td>\n",
       "    </tr>\n",
       "    <tr>\n",
       "      <td>16714</td>\n",
       "      <td>Winning Post 8 2016</td>\n",
       "      <td>PSV</td>\n",
       "      <td>2016.0</td>\n",
       "      <td>Simulation</td>\n",
       "      <td>0.00</td>\n",
       "      <td>0.00</td>\n",
       "      <td>0.01</td>\n",
       "      <td>0.00</td>\n",
       "      <td>NaN</td>\n",
       "      <td>NaN</td>\n",
       "      <td>NaN</td>\n",
       "    </tr>\n",
       "  </tbody>\n",
       "</table>\n",
       "<p>16715 rows × 11 columns</p>\n",
       "</div>"
      ],
      "text/plain": [
       "                                Name Platform  Year_of_Release         Genre  \\\n",
       "0                         Wii Sports      Wii           2006.0        Sports   \n",
       "1                  Super Mario Bros.      NES           1985.0      Platform   \n",
       "2                     Mario Kart Wii      Wii           2008.0        Racing   \n",
       "3                  Wii Sports Resort      Wii           2009.0        Sports   \n",
       "4           Pokemon Red/Pokemon Blue       GB           1996.0  Role-Playing   \n",
       "...                              ...      ...              ...           ...   \n",
       "16710  Samurai Warriors: Sanada Maru      PS3           2016.0        Action   \n",
       "16711               LMA Manager 2007     X360           2006.0        Sports   \n",
       "16712        Haitaka no Psychedelica      PSV           2016.0     Adventure   \n",
       "16713               Spirits & Spells      GBA           2003.0      Platform   \n",
       "16714            Winning Post 8 2016      PSV           2016.0    Simulation   \n",
       "\n",
       "       NA_sales  EU_sales  JP_sales  Other_sales  Critic_Score User_Score  \\\n",
       "0         41.36     28.96      3.77         8.45          76.0          8   \n",
       "1         29.08      3.58      6.81         0.77           NaN        NaN   \n",
       "2         15.68     12.76      3.79         3.29          82.0        8.3   \n",
       "3         15.61     10.93      3.28         2.95          80.0          8   \n",
       "4         11.27      8.89     10.22         1.00           NaN        NaN   \n",
       "...         ...       ...       ...          ...           ...        ...   \n",
       "16710      0.00      0.00      0.01         0.00           NaN        NaN   \n",
       "16711      0.00      0.01      0.00         0.00           NaN        NaN   \n",
       "16712      0.00      0.00      0.01         0.00           NaN        NaN   \n",
       "16713      0.01      0.00      0.00         0.00           NaN        NaN   \n",
       "16714      0.00      0.00      0.01         0.00           NaN        NaN   \n",
       "\n",
       "      Rating  \n",
       "0          E  \n",
       "1        NaN  \n",
       "2          E  \n",
       "3          E  \n",
       "4        NaN  \n",
       "...      ...  \n",
       "16710    NaN  \n",
       "16711    NaN  \n",
       "16712    NaN  \n",
       "16713    NaN  \n",
       "16714    NaN  \n",
       "\n",
       "[16715 rows x 11 columns]"
      ]
     },
     "execution_count": 2,
     "metadata": {},
     "output_type": "execute_result"
    }
   ],
   "source": [
    "games = pd.read_csv('/datasets/games.csv')\n",
    "games"
   ]
  },
  {
   "cell_type": "code",
   "execution_count": 3,
   "metadata": {},
   "outputs": [
    {
     "name": "stdout",
     "output_type": "stream",
     "text": [
      "<class 'pandas.core.frame.DataFrame'>\n",
      "RangeIndex: 16715 entries, 0 to 16714\n",
      "Data columns (total 11 columns):\n",
      "Name               16713 non-null object\n",
      "Platform           16715 non-null object\n",
      "Year_of_Release    16446 non-null float64\n",
      "Genre              16713 non-null object\n",
      "NA_sales           16715 non-null float64\n",
      "EU_sales           16715 non-null float64\n",
      "JP_sales           16715 non-null float64\n",
      "Other_sales        16715 non-null float64\n",
      "Critic_Score       8137 non-null float64\n",
      "User_Score         10014 non-null object\n",
      "Rating             9949 non-null object\n",
      "dtypes: float64(6), object(5)\n",
      "memory usage: 1.4+ MB\n"
     ]
    }
   ],
   "source": [
    "games.info()"
   ]
  },
  {
   "cell_type": "code",
   "execution_count": 4,
   "metadata": {},
   "outputs": [
    {
     "data": {
      "text/plain": [
       "Name                  2\n",
       "Platform              0\n",
       "Year_of_Release     269\n",
       "Genre                 2\n",
       "NA_sales              0\n",
       "EU_sales              0\n",
       "JP_sales              0\n",
       "Other_sales           0\n",
       "Critic_Score       8578\n",
       "User_Score         6701\n",
       "Rating             6766\n",
       "dtype: int64"
      ]
     },
     "execution_count": 4,
     "metadata": {},
     "output_type": "execute_result"
    }
   ],
   "source": [
    "games.isna().sum()"
   ]
  },
  {
   "cell_type": "markdown",
   "metadata": {},
   "source": [
    "Два пропуска в столбце Name, объективно ни на что не повлияют.\n",
    "Пропуски в столбце с годом релиза. Также надо изменить тип данных. \n",
    "Пропуски в critic_score, user_score и rating. \n",
    "Надо изменить тип данных в user_score.\n",
    "Одной из причин пропусков в critic_score, user_score и rating являются временные рамки, индустрия только начала развиваться, логично предположить, что для многих игр нет оценок. Такэе в условии сказано, что данные за 2016 год неполные. К тому же, ESRB была основана лишь в 1994 году."
   ]
  },
  {
   "cell_type": "markdown",
   "metadata": {},
   "source": [
    "# 2. Подготовка данных \n",
    "\n",
    "Задачи по условию проекта: заменить названия столбцов (приведите к нижнему регистру)и посчитать суммарные продажи во всех регионах."
   ]
  },
  {
   "cell_type": "code",
   "execution_count": 5,
   "metadata": {},
   "outputs": [],
   "source": [
    "games.columns = games.columns.str.lower()"
   ]
  },
  {
   "cell_type": "markdown",
   "metadata": {},
   "source": [
    "Во-первых, удалим пропуски стобца с названием. Преобразуем тип данных в столбце с годом выхода, а также удалим пропуски. Их мало, что видно без дополнительных расчетов. "
   ]
  },
  {
   "cell_type": "code",
   "execution_count": 6,
   "metadata": {},
   "outputs": [],
   "source": [
    "games = games.dropna(subset=['name']).reset_index(drop=True)"
   ]
  },
  {
   "cell_type": "code",
   "execution_count": 7,
   "metadata": {},
   "outputs": [],
   "source": [
    "games['year_of_release'] = games['year_of_release'].astype('Int64')"
   ]
  },
  {
   "cell_type": "code",
   "execution_count": 8,
   "metadata": {},
   "outputs": [],
   "source": [
    "games.dropna(subset=['year_of_release'], inplace=True)"
   ]
  },
  {
   "cell_type": "code",
   "execution_count": 9,
   "metadata": {},
   "outputs": [
    {
     "data": {
      "text/plain": [
       "0"
      ]
     },
     "execution_count": 9,
     "metadata": {},
     "output_type": "execute_result"
    }
   ],
   "source": [
    "games['year_of_release'].isna().sum()"
   ]
  },
  {
   "cell_type": "markdown",
   "metadata": {},
   "source": [
    "В колонке rating заменим пропуски на \"неизвестно\", логически будет верно, к тому же, это не числовое значение."
   ]
  },
  {
   "cell_type": "code",
   "execution_count": 10,
   "metadata": {},
   "outputs": [],
   "source": [
    "games['rating'] = games['rating'].fillna('unknown')"
   ]
  },
  {
   "cell_type": "code",
   "execution_count": 11,
   "metadata": {},
   "outputs": [
    {
     "data": {
      "text/html": [
       "<div>\n",
       "<style scoped>\n",
       "    .dataframe tbody tr th:only-of-type {\n",
       "        vertical-align: middle;\n",
       "    }\n",
       "\n",
       "    .dataframe tbody tr th {\n",
       "        vertical-align: top;\n",
       "    }\n",
       "\n",
       "    .dataframe thead th {\n",
       "        text-align: right;\n",
       "    }\n",
       "</style>\n",
       "<table border=\"1\" class=\"dataframe\">\n",
       "  <thead>\n",
       "    <tr style=\"text-align: right;\">\n",
       "      <th></th>\n",
       "      <th>name</th>\n",
       "      <th>platform</th>\n",
       "      <th>year_of_release</th>\n",
       "      <th>genre</th>\n",
       "      <th>na_sales</th>\n",
       "      <th>eu_sales</th>\n",
       "      <th>jp_sales</th>\n",
       "      <th>other_sales</th>\n",
       "      <th>critic_score</th>\n",
       "      <th>user_score</th>\n",
       "      <th>rating</th>\n",
       "    </tr>\n",
       "  </thead>\n",
       "  <tbody>\n",
       "    <tr>\n",
       "      <td>0</td>\n",
       "      <td>Wii Sports</td>\n",
       "      <td>Wii</td>\n",
       "      <td>2006</td>\n",
       "      <td>Sports</td>\n",
       "      <td>41.36</td>\n",
       "      <td>28.96</td>\n",
       "      <td>3.77</td>\n",
       "      <td>8.45</td>\n",
       "      <td>76.0</td>\n",
       "      <td>8</td>\n",
       "      <td>E</td>\n",
       "    </tr>\n",
       "    <tr>\n",
       "      <td>1</td>\n",
       "      <td>Super Mario Bros.</td>\n",
       "      <td>NES</td>\n",
       "      <td>1985</td>\n",
       "      <td>Platform</td>\n",
       "      <td>29.08</td>\n",
       "      <td>3.58</td>\n",
       "      <td>6.81</td>\n",
       "      <td>0.77</td>\n",
       "      <td>NaN</td>\n",
       "      <td>NaN</td>\n",
       "      <td>unknown</td>\n",
       "    </tr>\n",
       "    <tr>\n",
       "      <td>2</td>\n",
       "      <td>Mario Kart Wii</td>\n",
       "      <td>Wii</td>\n",
       "      <td>2008</td>\n",
       "      <td>Racing</td>\n",
       "      <td>15.68</td>\n",
       "      <td>12.76</td>\n",
       "      <td>3.79</td>\n",
       "      <td>3.29</td>\n",
       "      <td>82.0</td>\n",
       "      <td>8.3</td>\n",
       "      <td>E</td>\n",
       "    </tr>\n",
       "    <tr>\n",
       "      <td>3</td>\n",
       "      <td>Wii Sports Resort</td>\n",
       "      <td>Wii</td>\n",
       "      <td>2009</td>\n",
       "      <td>Sports</td>\n",
       "      <td>15.61</td>\n",
       "      <td>10.93</td>\n",
       "      <td>3.28</td>\n",
       "      <td>2.95</td>\n",
       "      <td>80.0</td>\n",
       "      <td>8</td>\n",
       "      <td>E</td>\n",
       "    </tr>\n",
       "    <tr>\n",
       "      <td>4</td>\n",
       "      <td>Pokemon Red/Pokemon Blue</td>\n",
       "      <td>GB</td>\n",
       "      <td>1996</td>\n",
       "      <td>Role-Playing</td>\n",
       "      <td>11.27</td>\n",
       "      <td>8.89</td>\n",
       "      <td>10.22</td>\n",
       "      <td>1.00</td>\n",
       "      <td>NaN</td>\n",
       "      <td>NaN</td>\n",
       "      <td>unknown</td>\n",
       "    </tr>\n",
       "    <tr>\n",
       "      <td>...</td>\n",
       "      <td>...</td>\n",
       "      <td>...</td>\n",
       "      <td>...</td>\n",
       "      <td>...</td>\n",
       "      <td>...</td>\n",
       "      <td>...</td>\n",
       "      <td>...</td>\n",
       "      <td>...</td>\n",
       "      <td>...</td>\n",
       "      <td>...</td>\n",
       "      <td>...</td>\n",
       "    </tr>\n",
       "    <tr>\n",
       "      <td>16708</td>\n",
       "      <td>Samurai Warriors: Sanada Maru</td>\n",
       "      <td>PS3</td>\n",
       "      <td>2016</td>\n",
       "      <td>Action</td>\n",
       "      <td>0.00</td>\n",
       "      <td>0.00</td>\n",
       "      <td>0.01</td>\n",
       "      <td>0.00</td>\n",
       "      <td>NaN</td>\n",
       "      <td>NaN</td>\n",
       "      <td>unknown</td>\n",
       "    </tr>\n",
       "    <tr>\n",
       "      <td>16709</td>\n",
       "      <td>LMA Manager 2007</td>\n",
       "      <td>X360</td>\n",
       "      <td>2006</td>\n",
       "      <td>Sports</td>\n",
       "      <td>0.00</td>\n",
       "      <td>0.01</td>\n",
       "      <td>0.00</td>\n",
       "      <td>0.00</td>\n",
       "      <td>NaN</td>\n",
       "      <td>NaN</td>\n",
       "      <td>unknown</td>\n",
       "    </tr>\n",
       "    <tr>\n",
       "      <td>16710</td>\n",
       "      <td>Haitaka no Psychedelica</td>\n",
       "      <td>PSV</td>\n",
       "      <td>2016</td>\n",
       "      <td>Adventure</td>\n",
       "      <td>0.00</td>\n",
       "      <td>0.00</td>\n",
       "      <td>0.01</td>\n",
       "      <td>0.00</td>\n",
       "      <td>NaN</td>\n",
       "      <td>NaN</td>\n",
       "      <td>unknown</td>\n",
       "    </tr>\n",
       "    <tr>\n",
       "      <td>16711</td>\n",
       "      <td>Spirits &amp; Spells</td>\n",
       "      <td>GBA</td>\n",
       "      <td>2003</td>\n",
       "      <td>Platform</td>\n",
       "      <td>0.01</td>\n",
       "      <td>0.00</td>\n",
       "      <td>0.00</td>\n",
       "      <td>0.00</td>\n",
       "      <td>NaN</td>\n",
       "      <td>NaN</td>\n",
       "      <td>unknown</td>\n",
       "    </tr>\n",
       "    <tr>\n",
       "      <td>16712</td>\n",
       "      <td>Winning Post 8 2016</td>\n",
       "      <td>PSV</td>\n",
       "      <td>2016</td>\n",
       "      <td>Simulation</td>\n",
       "      <td>0.00</td>\n",
       "      <td>0.00</td>\n",
       "      <td>0.01</td>\n",
       "      <td>0.00</td>\n",
       "      <td>NaN</td>\n",
       "      <td>NaN</td>\n",
       "      <td>unknown</td>\n",
       "    </tr>\n",
       "  </tbody>\n",
       "</table>\n",
       "<p>16444 rows × 11 columns</p>\n",
       "</div>"
      ],
      "text/plain": [
       "                                name platform  year_of_release         genre  \\\n",
       "0                         Wii Sports      Wii             2006        Sports   \n",
       "1                  Super Mario Bros.      NES             1985      Platform   \n",
       "2                     Mario Kart Wii      Wii             2008        Racing   \n",
       "3                  Wii Sports Resort      Wii             2009        Sports   \n",
       "4           Pokemon Red/Pokemon Blue       GB             1996  Role-Playing   \n",
       "...                              ...      ...              ...           ...   \n",
       "16708  Samurai Warriors: Sanada Maru      PS3             2016        Action   \n",
       "16709               LMA Manager 2007     X360             2006        Sports   \n",
       "16710        Haitaka no Psychedelica      PSV             2016     Adventure   \n",
       "16711               Spirits & Spells      GBA             2003      Platform   \n",
       "16712            Winning Post 8 2016      PSV             2016    Simulation   \n",
       "\n",
       "       na_sales  eu_sales  jp_sales  other_sales  critic_score user_score  \\\n",
       "0         41.36     28.96      3.77         8.45          76.0          8   \n",
       "1         29.08      3.58      6.81         0.77           NaN        NaN   \n",
       "2         15.68     12.76      3.79         3.29          82.0        8.3   \n",
       "3         15.61     10.93      3.28         2.95          80.0          8   \n",
       "4         11.27      8.89     10.22         1.00           NaN        NaN   \n",
       "...         ...       ...       ...          ...           ...        ...   \n",
       "16708      0.00      0.00      0.01         0.00           NaN        NaN   \n",
       "16709      0.00      0.01      0.00         0.00           NaN        NaN   \n",
       "16710      0.00      0.00      0.01         0.00           NaN        NaN   \n",
       "16711      0.01      0.00      0.00         0.00           NaN        NaN   \n",
       "16712      0.00      0.00      0.01         0.00           NaN        NaN   \n",
       "\n",
       "        rating  \n",
       "0            E  \n",
       "1      unknown  \n",
       "2            E  \n",
       "3            E  \n",
       "4      unknown  \n",
       "...        ...  \n",
       "16708  unknown  \n",
       "16709  unknown  \n",
       "16710  unknown  \n",
       "16711  unknown  \n",
       "16712  unknown  \n",
       "\n",
       "[16444 rows x 11 columns]"
      ]
     },
     "execution_count": 11,
     "metadata": {},
     "output_type": "execute_result"
    }
   ],
   "source": [
    "games"
   ]
  },
  {
   "cell_type": "markdown",
   "metadata": {},
   "source": [
    "Колонка user_score содержит много пропусков, а также tbd, расшифровывается tbd - \"to be determined\", то есть оценка еще не определена, заменим на nan. По факту никакой оценки на данный момент еще нет. "
   ]
  },
  {
   "cell_type": "code",
   "execution_count": 12,
   "metadata": {},
   "outputs": [
    {
     "data": {
      "text/plain": [
       "dtype('float64')"
      ]
     },
     "execution_count": 12,
     "metadata": {},
     "output_type": "execute_result"
    }
   ],
   "source": [
    "games.loc[games['user_score']==\"tbd\", 'user_score']=np.nan\n",
    "games['user_score'] = games['user_score'].astype(float)\n",
    "games['user_score'].dtype"
   ]
  },
  {
   "cell_type": "markdown",
   "metadata": {},
   "source": [
    "Добавим колонку с общими продажами."
   ]
  },
  {
   "cell_type": "code",
   "execution_count": 13,
   "metadata": {},
   "outputs": [],
   "source": [
    "games['total_sales'] = games['na_sales'] + games['eu_sales'] + games['jp_sales'] + games['other_sales']\n"
   ]
  },
  {
   "cell_type": "markdown",
   "metadata": {},
   "source": [
    "Теперь данные готовы. Удалили пропуски в колонках с названием и годом выхода. Преобразовали данные 'user_score'. Добавили колонку с суммарными продажами. Преобразовали названия всех колонок. Пропуски в critic_score оставим так, заполнять их нелогично.  "
   ]
  },
  {
   "cell_type": "markdown",
   "metadata": {},
   "source": [
    "# 3. Исследовательский анализ данных\n",
    "\n",
    "    Сколько игр выпускалось в разные годы. Важны ли данные за все периоды?\n",
    "    Как менялись продажи по платформам. Выбрать платформы с наибольшими суммарными продажами и построить распределение по годам. За какой характерный срок появляются новые и исчезают старые платформы?\n",
    "    Найти актуальный период. \n",
    "    Какие платформы лидируют по продажам, растут или падают? \n",
    "    Построить график «ящик с усами» по глобальным продажам игр в разбивке по платформам.\n",
    "    Ккак влияют на продажи внутри одной популярной платформы отзывы пользователей и критиков. \n",
    "    Соотнести выводы с продажами игр на других платформах.\n",
    "    Посмотреть на общее распределение игр по жанрам. "
   ]
  },
  {
   "cell_type": "code",
   "execution_count": 14,
   "metadata": {},
   "outputs": [],
   "source": [
    "games_per_year = games.pivot_table(index='year_of_release', values = 'name', aggfunc = 'count')\n"
   ]
  },
  {
   "cell_type": "code",
   "execution_count": 15,
   "metadata": {},
   "outputs": [
    {
     "data": {
      "text/plain": [
       "<matplotlib.legend.Legend at 0x7feb42350790>"
      ]
     },
     "execution_count": 15,
     "metadata": {},
     "output_type": "execute_result"
    },
    {
     "data": {
      "image/png": "[encoded data removed]",
      "text/plain": [
       "<Figure size 432x288 with 1 Axes>"
      ]
     },
     "metadata": {
      "needs_background": "light"
     },
     "output_type": "display_data"
    }
   ],
   "source": [
    "sns.lineplot(data = games_per_year)\n",
    "plt.legend('')"
   ]
  },
  {
   "cell_type": "markdown",
   "metadata": {},
   "source": [
    "Количество игр начало быстро расти в середине 90-х, после 2000 можно наблюдать резкий скачок вплоть до 2009 года, распростраение интернета, активное распространение домашних компьютеров, появление смартфонов, общее развитие и доступность индустрии игр является причиной появления большого количества игр. Также мы наблюдаем снижение ажиотажа после 2009 года. "
   ]
  },
  {
   "cell_type": "code",
   "execution_count": 16,
   "metadata": {
    "scrolled": true
   },
   "outputs": [
    {
     "data": {
      "text/plain": [
       "<matplotlib.axes._subplots.AxesSubplot at 0x7feb3a342950>"
      ]
     },
     "execution_count": 16,
     "metadata": {},
     "output_type": "execute_result"
    },
    {
     "data": {
      "image/png": "[encoded data removed]",
      "text/plain": [
       "<Figure size 864x432 with 1 Axes>"
      ]
     },
     "metadata": {
      "needs_background": "light"
     },
     "output_type": "display_data"
    }
   ],
   "source": [
    "\n",
    "pl_sales = games.pivot_table(index = 'platform', values = 'total_sales', aggfunc = 'sum')\n",
    "pl_sales.plot.bar(figsize=(12,6), alpha=0.5)\n",
    "\n",
    "\n",
    "\n"
   ]
  },
  {
   "cell_type": "code",
   "execution_count": 17,
   "metadata": {},
   "outputs": [
    {
     "data": {
      "text/plain": [
       "year_of_release    6.916667\n",
       "dtype: float64"
      ]
     },
     "execution_count": 17,
     "metadata": {},
     "output_type": "execute_result"
    }
   ],
   "source": [
    "min_sales = 5 \n",
    "avg_years = games.groupby(['platform', 'year_of_release']).agg({'total_sales': 'sum'}).query('total_sales > @min_sales')\n",
    "avg_years.reset_index().groupby('platform').agg({'year_of_release': 'nunique'}).mean()"
   ]
  },
  {
   "cell_type": "code",
   "execution_count": 18,
   "metadata": {},
   "outputs": [
    {
     "data": {
      "image/png": "[encoded data removed]",
      "text/plain": [
       "<Figure size 1440x720 with 1 Axes>"
      ]
     },
     "metadata": {
      "needs_background": "light"
     },
     "output_type": "display_data"
    }
   ],
   "source": [
    "plt.figure(figsize=(20,10))\n",
    "for platform,group_data in games.groupby('platform'):\n",
    "    plt.plot(games.query('platform == @platform').groupby('year_of_release')['total_sales'].sum(),label=platform)\n",
    "plt.xlabel('Год')    \n",
    "plt.ylabel('Объём продаж')\n",
    "plt.legend()\n",
    "plt.show()"
   ]
  },
  {
   "cell_type": "markdown",
   "metadata": {},
   "source": [
    "Пять платформ с самыми большими продажами за все время: PS2, X360, PS3, Wii, DS;\n",
    "Если взять платформы с продажами больше 5, то получим, что средний срок жизни платформы составляет около 7 лет."
   ]
  },
  {
   "cell_type": "markdown",
   "metadata": {},
   "source": [
    "Выделим актуальный период для дальнейшего исследования. Обращаясь к графику количества игр по годам, а также, если учесть, что средний срок жизни составляет 7 лет, то было решено взять рынок после 2013 года. \n",
    "Во-первых, стих ажиотаж после выпуска огромного количества игр на рынок, и судя по графику после 2013 количество выпускаемых игр достаточно стабильно. Также у нас ланные за 2016 год еще неполные. \n",
    "Основной причиной для выбора 2013 года стал средний срок жизни платформы. Также появились в 2013 году: Xbox One и PlayStation 4. И в 2011 год вышла в свет Wii U. В 2013 была прекращена поддержка Wii. "
   ]
  },
  {
   "cell_type": "code",
   "execution_count": 19,
   "metadata": {},
   "outputs": [
    {
     "data": {
      "text/html": [
       "<div>\n",
       "<style scoped>\n",
       "    .dataframe tbody tr th:only-of-type {\n",
       "        vertical-align: middle;\n",
       "    }\n",
       "\n",
       "    .dataframe tbody tr th {\n",
       "        vertical-align: top;\n",
       "    }\n",
       "\n",
       "    .dataframe thead th {\n",
       "        text-align: right;\n",
       "    }\n",
       "</style>\n",
       "<table border=\"1\" class=\"dataframe\">\n",
       "  <thead>\n",
       "    <tr style=\"text-align: right;\">\n",
       "      <th></th>\n",
       "      <th>name</th>\n",
       "      <th>platform</th>\n",
       "      <th>year_of_release</th>\n",
       "      <th>genre</th>\n",
       "      <th>na_sales</th>\n",
       "      <th>eu_sales</th>\n",
       "      <th>jp_sales</th>\n",
       "      <th>other_sales</th>\n",
       "      <th>critic_score</th>\n",
       "      <th>user_score</th>\n",
       "      <th>rating</th>\n",
       "      <th>total_sales</th>\n",
       "    </tr>\n",
       "  </thead>\n",
       "  <tbody>\n",
       "    <tr>\n",
       "      <td>31</td>\n",
       "      <td>Call of Duty: Black Ops 3</td>\n",
       "      <td>PS4</td>\n",
       "      <td>2015</td>\n",
       "      <td>Shooter</td>\n",
       "      <td>6.03</td>\n",
       "      <td>5.86</td>\n",
       "      <td>0.36</td>\n",
       "      <td>2.38</td>\n",
       "      <td>NaN</td>\n",
       "      <td>NaN</td>\n",
       "      <td>unknown</td>\n",
       "      <td>14.63</td>\n",
       "    </tr>\n",
       "    <tr>\n",
       "      <td>42</td>\n",
       "      <td>Grand Theft Auto V</td>\n",
       "      <td>PS4</td>\n",
       "      <td>2014</td>\n",
       "      <td>Action</td>\n",
       "      <td>3.96</td>\n",
       "      <td>6.31</td>\n",
       "      <td>0.38</td>\n",
       "      <td>1.97</td>\n",
       "      <td>97.0</td>\n",
       "      <td>8.3</td>\n",
       "      <td>M</td>\n",
       "      <td>12.62</td>\n",
       "    </tr>\n",
       "    <tr>\n",
       "      <td>47</td>\n",
       "      <td>Pokemon Omega Ruby/Pokemon Alpha Sapphire</td>\n",
       "      <td>3DS</td>\n",
       "      <td>2014</td>\n",
       "      <td>Role-Playing</td>\n",
       "      <td>4.35</td>\n",
       "      <td>3.49</td>\n",
       "      <td>3.10</td>\n",
       "      <td>0.74</td>\n",
       "      <td>NaN</td>\n",
       "      <td>NaN</td>\n",
       "      <td>unknown</td>\n",
       "      <td>11.68</td>\n",
       "    </tr>\n",
       "    <tr>\n",
       "      <td>77</td>\n",
       "      <td>FIFA 16</td>\n",
       "      <td>PS4</td>\n",
       "      <td>2015</td>\n",
       "      <td>Sports</td>\n",
       "      <td>1.12</td>\n",
       "      <td>6.12</td>\n",
       "      <td>0.06</td>\n",
       "      <td>1.28</td>\n",
       "      <td>82.0</td>\n",
       "      <td>4.3</td>\n",
       "      <td>E</td>\n",
       "      <td>8.58</td>\n",
       "    </tr>\n",
       "    <tr>\n",
       "      <td>87</td>\n",
       "      <td>Star Wars Battlefront (2015)</td>\n",
       "      <td>PS4</td>\n",
       "      <td>2015</td>\n",
       "      <td>Shooter</td>\n",
       "      <td>2.99</td>\n",
       "      <td>3.49</td>\n",
       "      <td>0.22</td>\n",
       "      <td>1.28</td>\n",
       "      <td>NaN</td>\n",
       "      <td>NaN</td>\n",
       "      <td>unknown</td>\n",
       "      <td>7.98</td>\n",
       "    </tr>\n",
       "    <tr>\n",
       "      <td>...</td>\n",
       "      <td>...</td>\n",
       "      <td>...</td>\n",
       "      <td>...</td>\n",
       "      <td>...</td>\n",
       "      <td>...</td>\n",
       "      <td>...</td>\n",
       "      <td>...</td>\n",
       "      <td>...</td>\n",
       "      <td>...</td>\n",
       "      <td>...</td>\n",
       "      <td>...</td>\n",
       "      <td>...</td>\n",
       "    </tr>\n",
       "    <tr>\n",
       "      <td>16701</td>\n",
       "      <td>Strawberry Nauts</td>\n",
       "      <td>PSV</td>\n",
       "      <td>2016</td>\n",
       "      <td>Adventure</td>\n",
       "      <td>0.00</td>\n",
       "      <td>0.00</td>\n",
       "      <td>0.01</td>\n",
       "      <td>0.00</td>\n",
       "      <td>NaN</td>\n",
       "      <td>NaN</td>\n",
       "      <td>unknown</td>\n",
       "      <td>0.01</td>\n",
       "    </tr>\n",
       "    <tr>\n",
       "      <td>16705</td>\n",
       "      <td>Aiyoku no Eustia</td>\n",
       "      <td>PSV</td>\n",
       "      <td>2014</td>\n",
       "      <td>Misc</td>\n",
       "      <td>0.00</td>\n",
       "      <td>0.00</td>\n",
       "      <td>0.01</td>\n",
       "      <td>0.00</td>\n",
       "      <td>NaN</td>\n",
       "      <td>NaN</td>\n",
       "      <td>unknown</td>\n",
       "      <td>0.01</td>\n",
       "    </tr>\n",
       "    <tr>\n",
       "      <td>16708</td>\n",
       "      <td>Samurai Warriors: Sanada Maru</td>\n",
       "      <td>PS3</td>\n",
       "      <td>2016</td>\n",
       "      <td>Action</td>\n",
       "      <td>0.00</td>\n",
       "      <td>0.00</td>\n",
       "      <td>0.01</td>\n",
       "      <td>0.00</td>\n",
       "      <td>NaN</td>\n",
       "      <td>NaN</td>\n",
       "      <td>unknown</td>\n",
       "      <td>0.01</td>\n",
       "    </tr>\n",
       "    <tr>\n",
       "      <td>16710</td>\n",
       "      <td>Haitaka no Psychedelica</td>\n",
       "      <td>PSV</td>\n",
       "      <td>2016</td>\n",
       "      <td>Adventure</td>\n",
       "      <td>0.00</td>\n",
       "      <td>0.00</td>\n",
       "      <td>0.01</td>\n",
       "      <td>0.00</td>\n",
       "      <td>NaN</td>\n",
       "      <td>NaN</td>\n",
       "      <td>unknown</td>\n",
       "      <td>0.01</td>\n",
       "    </tr>\n",
       "    <tr>\n",
       "      <td>16712</td>\n",
       "      <td>Winning Post 8 2016</td>\n",
       "      <td>PSV</td>\n",
       "      <td>2016</td>\n",
       "      <td>Simulation</td>\n",
       "      <td>0.00</td>\n",
       "      <td>0.00</td>\n",
       "      <td>0.01</td>\n",
       "      <td>0.00</td>\n",
       "      <td>NaN</td>\n",
       "      <td>NaN</td>\n",
       "      <td>unknown</td>\n",
       "      <td>0.01</td>\n",
       "    </tr>\n",
       "  </tbody>\n",
       "</table>\n",
       "<p>1689 rows × 12 columns</p>\n",
       "</div>"
      ],
      "text/plain": [
       "                                            name platform  year_of_release  \\\n",
       "31                     Call of Duty: Black Ops 3      PS4             2015   \n",
       "42                            Grand Theft Auto V      PS4             2014   \n",
       "47     Pokemon Omega Ruby/Pokemon Alpha Sapphire      3DS             2014   \n",
       "77                                       FIFA 16      PS4             2015   \n",
       "87                  Star Wars Battlefront (2015)      PS4             2015   \n",
       "...                                          ...      ...              ...   \n",
       "16701                           Strawberry Nauts      PSV             2016   \n",
       "16705                           Aiyoku no Eustia      PSV             2014   \n",
       "16708              Samurai Warriors: Sanada Maru      PS3             2016   \n",
       "16710                    Haitaka no Psychedelica      PSV             2016   \n",
       "16712                        Winning Post 8 2016      PSV             2016   \n",
       "\n",
       "              genre  na_sales  eu_sales  jp_sales  other_sales  critic_score  \\\n",
       "31          Shooter      6.03      5.86      0.36         2.38           NaN   \n",
       "42           Action      3.96      6.31      0.38         1.97          97.0   \n",
       "47     Role-Playing      4.35      3.49      3.10         0.74           NaN   \n",
       "77           Sports      1.12      6.12      0.06         1.28          82.0   \n",
       "87          Shooter      2.99      3.49      0.22         1.28           NaN   \n",
       "...             ...       ...       ...       ...          ...           ...   \n",
       "16701     Adventure      0.00      0.00      0.01         0.00           NaN   \n",
       "16705          Misc      0.00      0.00      0.01         0.00           NaN   \n",
       "16708        Action      0.00      0.00      0.01         0.00           NaN   \n",
       "16710     Adventure      0.00      0.00      0.01         0.00           NaN   \n",
       "16712    Simulation      0.00      0.00      0.01         0.00           NaN   \n",
       "\n",
       "       user_score   rating  total_sales  \n",
       "31            NaN  unknown        14.63  \n",
       "42            8.3        M        12.62  \n",
       "47            NaN  unknown        11.68  \n",
       "77            4.3        E         8.58  \n",
       "87            NaN  unknown         7.98  \n",
       "...           ...      ...          ...  \n",
       "16701         NaN  unknown         0.01  \n",
       "16705         NaN  unknown         0.01  \n",
       "16708         NaN  unknown         0.01  \n",
       "16710         NaN  unknown         0.01  \n",
       "16712         NaN  unknown         0.01  \n",
       "\n",
       "[1689 rows x 12 columns]"
      ]
     },
     "execution_count": 19,
     "metadata": {},
     "output_type": "execute_result"
    }
   ],
   "source": [
    "actual_games = games.query('year_of_release > 2013')\n",
    "actual_games"
   ]
  },
  {
   "cell_type": "code",
   "execution_count": 20,
   "metadata": {},
   "outputs": [
    {
     "data": {
      "text/html": [
       "<div>\n",
       "<style scoped>\n",
       "    .dataframe tbody tr th:only-of-type {\n",
       "        vertical-align: middle;\n",
       "    }\n",
       "\n",
       "    .dataframe tbody tr th {\n",
       "        vertical-align: top;\n",
       "    }\n",
       "\n",
       "    .dataframe thead th {\n",
       "        text-align: right;\n",
       "    }\n",
       "</style>\n",
       "<table border=\"1\" class=\"dataframe\">\n",
       "  <thead>\n",
       "    <tr style=\"text-align: right;\">\n",
       "      <th></th>\n",
       "      <th>total_sales</th>\n",
       "    </tr>\n",
       "    <tr>\n",
       "      <th>platform</th>\n",
       "      <th></th>\n",
       "    </tr>\n",
       "  </thead>\n",
       "  <tbody>\n",
       "    <tr>\n",
       "      <td>PSP</td>\n",
       "      <td>0.36</td>\n",
       "    </tr>\n",
       "    <tr>\n",
       "      <td>Wii</td>\n",
       "      <td>5.07</td>\n",
       "    </tr>\n",
       "    <tr>\n",
       "      <td>PSV</td>\n",
       "      <td>22.40</td>\n",
       "    </tr>\n",
       "    <tr>\n",
       "      <td>PC</td>\n",
       "      <td>27.05</td>\n",
       "    </tr>\n",
       "    <tr>\n",
       "      <td>WiiU</td>\n",
       "      <td>42.98</td>\n",
       "    </tr>\n",
       "    <tr>\n",
       "      <td>X360</td>\n",
       "      <td>48.22</td>\n",
       "    </tr>\n",
       "    <tr>\n",
       "      <td>PS3</td>\n",
       "      <td>68.18</td>\n",
       "    </tr>\n",
       "    <tr>\n",
       "      <td>3DS</td>\n",
       "      <td>86.68</td>\n",
       "    </tr>\n",
       "    <tr>\n",
       "      <td>XOne</td>\n",
       "      <td>140.36</td>\n",
       "    </tr>\n",
       "    <tr>\n",
       "      <td>PS4</td>\n",
       "      <td>288.15</td>\n",
       "    </tr>\n",
       "  </tbody>\n",
       "</table>\n",
       "</div>"
      ],
      "text/plain": [
       "          total_sales\n",
       "platform             \n",
       "PSP              0.36\n",
       "Wii              5.07\n",
       "PSV             22.40\n",
       "PC              27.05\n",
       "WiiU            42.98\n",
       "X360            48.22\n",
       "PS3             68.18\n",
       "3DS             86.68\n",
       "XOne           140.36\n",
       "PS4            288.15"
      ]
     },
     "execution_count": 20,
     "metadata": {},
     "output_type": "execute_result"
    }
   ],
   "source": [
    "pl_sales_act = actual_games.pivot_table(index = 'platform', values = 'total_sales', aggfunc = 'sum').sort_values(by='total_sales')\n",
    "pl_sales_act "
   ]
  },
  {
   "cell_type": "markdown",
   "metadata": {},
   "source": [
    "Самые успешные по продажам платформы после 2013 года: PS4, XOne, 3DS, PS3, X360. Между PS4, XOne и остальными наблюдается большой разрыв."
   ]
  },
  {
   "cell_type": "code",
   "execution_count": 21,
   "metadata": {},
   "outputs": [
    {
     "data": {
      "image/png": "[encoded data removed]",
      "text/plain": [
       "<Figure size 1080x576 with 1 Axes>"
      ]
     },
     "metadata": {
      "needs_background": "light"
     },
     "output_type": "display_data"
    }
   ],
   "source": [
    "plt.figure(figsize=(15,8))\n",
    "for platform,group_data in actual_games.groupby('platform'):\n",
    "    plt.plot(actual_games.query('platform == @platform').groupby('year_of_release')['total_sales'].sum(),label=platform)\n",
    "plt.xlabel('Год')    \n",
    "plt.ylabel('Объём продаж')\n",
    "plt.legend()\n",
    "plt.show()"
   ]
  },
  {
   "cell_type": "code",
   "execution_count": 22,
   "metadata": {},
   "outputs": [
    {
     "name": "stderr",
     "output_type": "stream",
     "text": [
      "/opt/conda/lib/python3.7/site-packages/numpy/core/_asarray.py:83: VisibleDeprecationWarning: Creating an ndarray from ragged nested sequences (which is a list-or-tuple of lists-or-tuples-or ndarrays with different lengths or shapes) is deprecated. If you meant to do this, you must specify 'dtype=object' when creating the ndarray\n",
      "  return array(a, dtype, copy=False, order=order)\n"
     ]
    },
    {
     "data": {
      "text/plain": [
       "(0, 2)"
      ]
     },
     "execution_count": 22,
     "metadata": {},
     "output_type": "execute_result"
    },
    {
     "data": {
      "image/png": "[encoded data removed]",
      "text/plain": [
       "<Figure size 1080x576 with 1 Axes>"
      ]
     },
     "metadata": {
      "needs_background": "light"
     },
     "output_type": "display_data"
    }
   ],
   "source": [
    "actual_games.boxplot(column='total_sales', by='platform', figsize=(15,8))\n",
    "plt.ylim(0,2)"
   ]
  },
  {
   "cell_type": "markdown",
   "metadata": {},
   "source": [
    "- В первую очередь, стоит обратить на две новые платформы, которые появились в 2013 году: Xbox One и PlayStation 4. Хоть их продажи к 2016 году снизились, однако это все ещё две самые продаваемые платформы. Также они достаточно новые, поэтому тх смены на новое поколение пока не предвидется. \n",
    "- Касательно Xbox 360, в апреле 2016 года объявлено о перкращении их производства. Дальнейшие инвестиции в данную платформу бесполезны. Также можем наблюдать низкие продажи после 2013 года.\n",
    "- PlayStation 3 существовала в одном временном промежутке с Xbox 360, однако о прекращении ее производства ещё не было объявлено. Но мы видим развитие PlayStation 4, и стремительное падение продаж PlayStation 3. \n",
    "- Отличное от других поведение показывала консоль Wii U. Однако она выпущена в 2011 году, продажи ее упали, можно предположить, что стоит ожидать выхода новой версии и прекращения производства текущей. \n"
   ]
  },
  {
   "cell_type": "code",
   "execution_count": 23,
   "metadata": {},
   "outputs": [
    {
     "data": {
      "text/html": [
       "<div>\n",
       "<style scoped>\n",
       "    .dataframe tbody tr th:only-of-type {\n",
       "        vertical-align: middle;\n",
       "    }\n",
       "\n",
       "    .dataframe tbody tr th {\n",
       "        vertical-align: top;\n",
       "    }\n",
       "\n",
       "    .dataframe thead th {\n",
       "        text-align: right;\n",
       "    }\n",
       "</style>\n",
       "<table border=\"1\" class=\"dataframe\">\n",
       "  <thead>\n",
       "    <tr style=\"text-align: right;\">\n",
       "      <th></th>\n",
       "      <th>total_sales</th>\n",
       "      <th>critic_score</th>\n",
       "      <th>user_score</th>\n",
       "    </tr>\n",
       "  </thead>\n",
       "  <tbody>\n",
       "    <tr>\n",
       "      <td>total_sales</td>\n",
       "      <td>1.000000</td>\n",
       "      <td>0.402661</td>\n",
       "      <td>-0.040132</td>\n",
       "    </tr>\n",
       "    <tr>\n",
       "      <td>critic_score</td>\n",
       "      <td>0.402661</td>\n",
       "      <td>1.000000</td>\n",
       "      <td>0.546434</td>\n",
       "    </tr>\n",
       "    <tr>\n",
       "      <td>user_score</td>\n",
       "      <td>-0.040132</td>\n",
       "      <td>0.546434</td>\n",
       "      <td>1.000000</td>\n",
       "    </tr>\n",
       "  </tbody>\n",
       "</table>\n",
       "</div>"
      ],
      "text/plain": [
       "              total_sales  critic_score  user_score\n",
       "total_sales      1.000000      0.402661   -0.040132\n",
       "critic_score     0.402661      1.000000    0.546434\n",
       "user_score      -0.040132      0.546434    1.000000"
      ]
     },
     "metadata": {},
     "output_type": "display_data"
    },
    {
     "data": {
      "text/html": [
       "<div>\n",
       "<style scoped>\n",
       "    .dataframe tbody tr th:only-of-type {\n",
       "        vertical-align: middle;\n",
       "    }\n",
       "\n",
       "    .dataframe tbody tr th {\n",
       "        vertical-align: top;\n",
       "    }\n",
       "\n",
       "    .dataframe thead th {\n",
       "        text-align: right;\n",
       "    }\n",
       "</style>\n",
       "<table border=\"1\" class=\"dataframe\">\n",
       "  <thead>\n",
       "    <tr style=\"text-align: right;\">\n",
       "      <th></th>\n",
       "      <th>total_sales</th>\n",
       "      <th>critic_score</th>\n",
       "      <th>user_score</th>\n",
       "    </tr>\n",
       "  </thead>\n",
       "  <tbody>\n",
       "    <tr>\n",
       "      <td>total_sales</td>\n",
       "      <td>1.000000</td>\n",
       "      <td>0.446575</td>\n",
       "      <td>-0.166761</td>\n",
       "    </tr>\n",
       "    <tr>\n",
       "      <td>critic_score</td>\n",
       "      <td>0.446575</td>\n",
       "      <td>1.000000</td>\n",
       "      <td>0.693445</td>\n",
       "    </tr>\n",
       "    <tr>\n",
       "      <td>user_score</td>\n",
       "      <td>-0.166761</td>\n",
       "      <td>0.693445</td>\n",
       "      <td>1.000000</td>\n",
       "    </tr>\n",
       "  </tbody>\n",
       "</table>\n",
       "</div>"
      ],
      "text/plain": [
       "              total_sales  critic_score  user_score\n",
       "total_sales      1.000000      0.446575   -0.166761\n",
       "critic_score     0.446575      1.000000    0.693445\n",
       "user_score      -0.166761      0.693445    1.000000"
      ]
     },
     "metadata": {},
     "output_type": "display_data"
    },
    {
     "data": {
      "text/html": [
       "<div>\n",
       "<style scoped>\n",
       "    .dataframe tbody tr th:only-of-type {\n",
       "        vertical-align: middle;\n",
       "    }\n",
       "\n",
       "    .dataframe tbody tr th {\n",
       "        vertical-align: top;\n",
       "    }\n",
       "\n",
       "    .dataframe thead th {\n",
       "        text-align: right;\n",
       "    }\n",
       "</style>\n",
       "<table border=\"1\" class=\"dataframe\">\n",
       "  <thead>\n",
       "    <tr style=\"text-align: right;\">\n",
       "      <th></th>\n",
       "      <th>total_sales</th>\n",
       "      <th>critic_score</th>\n",
       "      <th>user_score</th>\n",
       "    </tr>\n",
       "  </thead>\n",
       "  <tbody>\n",
       "    <tr>\n",
       "      <td>total_sales</td>\n",
       "      <td>1.000000</td>\n",
       "      <td>0.525723</td>\n",
       "      <td>-0.138445</td>\n",
       "    </tr>\n",
       "    <tr>\n",
       "      <td>critic_score</td>\n",
       "      <td>0.525723</td>\n",
       "      <td>1.000000</td>\n",
       "      <td>0.625309</td>\n",
       "    </tr>\n",
       "    <tr>\n",
       "      <td>user_score</td>\n",
       "      <td>-0.138445</td>\n",
       "      <td>0.625309</td>\n",
       "      <td>1.000000</td>\n",
       "    </tr>\n",
       "  </tbody>\n",
       "</table>\n",
       "</div>"
      ],
      "text/plain": [
       "              total_sales  critic_score  user_score\n",
       "total_sales      1.000000      0.525723   -0.138445\n",
       "critic_score     0.525723      1.000000    0.625309\n",
       "user_score      -0.138445      0.625309    1.000000"
      ]
     },
     "metadata": {},
     "output_type": "display_data"
    },
    {
     "data": {
      "text/html": [
       "<div>\n",
       "<style scoped>\n",
       "    .dataframe tbody tr th:only-of-type {\n",
       "        vertical-align: middle;\n",
       "    }\n",
       "\n",
       "    .dataframe tbody tr th {\n",
       "        vertical-align: top;\n",
       "    }\n",
       "\n",
       "    .dataframe thead th {\n",
       "        text-align: right;\n",
       "    }\n",
       "</style>\n",
       "<table border=\"1\" class=\"dataframe\">\n",
       "  <thead>\n",
       "    <tr style=\"text-align: right;\">\n",
       "      <th></th>\n",
       "      <th>total_sales</th>\n",
       "      <th>critic_score</th>\n",
       "      <th>user_score</th>\n",
       "    </tr>\n",
       "  </thead>\n",
       "  <tbody>\n",
       "    <tr>\n",
       "      <td>total_sales</td>\n",
       "      <td>1.000000</td>\n",
       "      <td>0.314117</td>\n",
       "      <td>0.215193</td>\n",
       "    </tr>\n",
       "    <tr>\n",
       "      <td>critic_score</td>\n",
       "      <td>0.314117</td>\n",
       "      <td>1.000000</td>\n",
       "      <td>0.862485</td>\n",
       "    </tr>\n",
       "    <tr>\n",
       "      <td>user_score</td>\n",
       "      <td>0.215193</td>\n",
       "      <td>0.862485</td>\n",
       "      <td>1.000000</td>\n",
       "    </tr>\n",
       "  </tbody>\n",
       "</table>\n",
       "</div>"
      ],
      "text/plain": [
       "              total_sales  critic_score  user_score\n",
       "total_sales      1.000000      0.314117    0.215193\n",
       "critic_score     0.314117      1.000000    0.862485\n",
       "user_score       0.215193      0.862485    1.000000"
      ]
     },
     "metadata": {},
     "output_type": "display_data"
    },
    {
     "data": {
      "text/html": [
       "<div>\n",
       "<style scoped>\n",
       "    .dataframe tbody tr th:only-of-type {\n",
       "        vertical-align: middle;\n",
       "    }\n",
       "\n",
       "    .dataframe tbody tr th {\n",
       "        vertical-align: top;\n",
       "    }\n",
       "\n",
       "    .dataframe thead th {\n",
       "        text-align: right;\n",
       "    }\n",
       "</style>\n",
       "<table border=\"1\" class=\"dataframe\">\n",
       "  <thead>\n",
       "    <tr style=\"text-align: right;\">\n",
       "      <th></th>\n",
       "      <th>total_sales</th>\n",
       "      <th>critic_score</th>\n",
       "      <th>user_score</th>\n",
       "    </tr>\n",
       "  </thead>\n",
       "  <tbody>\n",
       "    <tr>\n",
       "      <td>total_sales</td>\n",
       "      <td>1.000000</td>\n",
       "      <td>0.428677</td>\n",
       "      <td>-0.070384</td>\n",
       "    </tr>\n",
       "    <tr>\n",
       "      <td>critic_score</td>\n",
       "      <td>0.428677</td>\n",
       "      <td>1.000000</td>\n",
       "      <td>0.440977</td>\n",
       "    </tr>\n",
       "    <tr>\n",
       "      <td>user_score</td>\n",
       "      <td>-0.070384</td>\n",
       "      <td>0.440977</td>\n",
       "      <td>1.000000</td>\n",
       "    </tr>\n",
       "  </tbody>\n",
       "</table>\n",
       "</div>"
      ],
      "text/plain": [
       "              total_sales  critic_score  user_score\n",
       "total_sales      1.000000      0.428677   -0.070384\n",
       "critic_score     0.428677      1.000000    0.440977\n",
       "user_score      -0.070384      0.440977    1.000000"
      ]
     },
     "metadata": {},
     "output_type": "display_data"
    },
    {
     "data": {
      "image/png": "[encoded data removed]",
      "text/plain": [
       "<Figure size 648x648 with 9 Axes>"
      ]
     },
     "metadata": {
      "needs_background": "light"
     },
     "output_type": "display_data"
    },
    {
     "data": {
      "image/png": "[encoded data removed]",
      "text/plain": [
       "<Figure size 648x648 with 9 Axes>"
      ]
     },
     "metadata": {
      "needs_background": "light"
     },
     "output_type": "display_data"
    },
    {
     "data": {
      "image/png": "[encoded data removed]",
      "text/plain": [
       "<Figure size 648x648 with 9 Axes>"
      ]
     },
     "metadata": {
      "needs_background": "light"
     },
     "output_type": "display_data"
    },
    {
     "data": {
      "image/png": "[encoded data removed]",
      "text/plain": [
       "<Figure size 648x648 with 9 Axes>"
      ]
     },
     "metadata": {
      "needs_background": "light"
     },
     "output_type": "display_data"
    },
    {
     "data": {
      "image/png": "[encoded data removed]",
      "text/plain": [
       "<Figure size 648x648 with 9 Axes>"
      ]
     },
     "metadata": {
      "needs_background": "light"
     },
     "output_type": "display_data"
    }
   ],
   "source": [
    "sales_platform = ['PS4', 'PS3', 'X360', '3DS', 'XOne']\n",
    "for platf in sales_platform:\n",
    "    display(actual_games.query('platform==@platf')[['total_sales','critic_score','user_score']].corr())\n",
    "    pd.plotting.scatter_matrix(actual_games.query('platform==@platf')[['total_sales','critic_score','user_score']], figsize=(9, 9))"
   ]
  },
  {
   "cell_type": "markdown",
   "metadata": {},
   "source": [
    "Корреляции между продажами и отзывами критиков, продажами и отзывами пользователей не наблюдается. Делаем вывод, что линейной зависимости нет. Ближе всего к показателю 0,5 корреляция продаж и отзывами критиков у платформы 'XOne'."
   ]
  },
  {
   "cell_type": "code",
   "execution_count": 24,
   "metadata": {},
   "outputs": [
    {
     "data": {
      "image/png": "[encoded data removed]",
      "text/plain": [
       "<Figure size 1080x504 with 1 Axes>"
      ]
     },
     "metadata": {},
     "output_type": "display_data"
    }
   ],
   "source": [
    "x=actual_games.groupby(\"genre\")['total_sales'].sum()\n",
    "genres = x.index\n",
    "plt.figure(figsize=(15,7))\n",
    "plt.pie(x=x, labels=genres, autopct='%1.1f%%')\n",
    "plt.title('Популярные жанры за акутальный период')\n",
    "plt.show()\n",
    "\n",
    "\n"
   ]
  },
  {
   "cell_type": "markdown",
   "metadata": {},
   "source": [
    "Самые популярные жанры после 2013 года: action, shooter, sports, role-playing, misc."
   ]
  },
  {
   "cell_type": "markdown",
   "metadata": {},
   "source": [
    "Общие выводы:\n",
    "\n",
    "- Количество игр начало быстро расти в середине 90-х, после 2000 можно наблюдать резкий скачок вплоть до 2009 года, также мы наблюдаем снижение ажиотажа после 2009 года\n",
    "- Средний срок жизни платформы составляет около 7 лет\n",
    "- Самые успешные по продажам платформы после 2013 года: PS4, XOne \n",
    "- Наиболее перспективные платформы: Xbox One и PlayStation 4\n",
    "- Корреляции между продажами и отзывами критиков, продажами и отзывами пользователей не наблюдается\n",
    "- Самые популярные жанры после 2013 года: action, shooter, sports, role-playing, misc\n"
   ]
  },
  {
   "cell_type": "markdown",
   "metadata": {},
   "source": [
    "# 4. Портрет пользователя каждого региона\n",
    "\n",
    "    Самые популярные платформы (топ-5). \n",
    "    Самые популярные жанры (топ-5). \n",
    "    Влияет ли рейтинг ESRB на продажи в отдельном регионе?"
   ]
  },
  {
   "cell_type": "code",
   "execution_count": 25,
   "metadata": {},
   "outputs": [
    {
     "data": {
      "image/png": "[encoded data removed]",
      "text/plain": [
       "<Figure size 1080x504 with 1 Axes>"
      ]
     },
     "metadata": {},
     "output_type": "display_data"
    }
   ],
   "source": [
    "x=actual_games.groupby(\"platform\")['na_sales'].sum()\n",
    "genres = x.index\n",
    "plt.figure(figsize=(15,7))\n",
    "plt.pie(x=x, labels=genres, autopct='%1.1f%%')\n",
    "plt.title('Топ-5 платформ Северной Америки')\n",
    "plt.show()\n",
    "\n",
    "\n",
    "\n"
   ]
  },
  {
   "cell_type": "code",
   "execution_count": 26,
   "metadata": {},
   "outputs": [
    {
     "data": {
      "image/png": "[encoded data removed]",
      "text/plain": [
       "<Figure size 1080x504 with 1 Axes>"
      ]
     },
     "metadata": {},
     "output_type": "display_data"
    }
   ],
   "source": [
    "x=actual_games.groupby(\"platform\")['eu_sales'].sum()\n",
    "genres = x.index\n",
    "plt.figure(figsize=(15,7))\n",
    "plt.pie(x=x, labels=genres, autopct='%1.1f%%')\n",
    "plt.title('Топ-5 платформ Европы')\n",
    "plt.show()"
   ]
  },
  {
   "cell_type": "code",
   "execution_count": 27,
   "metadata": {},
   "outputs": [
    {
     "data": {
      "image/png": "[encoded data removed]",
      "text/plain": [
       "<Figure size 1080x504 with 1 Axes>"
      ]
     },
     "metadata": {},
     "output_type": "display_data"
    }
   ],
   "source": [
    "x=actual_games.groupby(\"platform\")['jp_sales'].sum()\n",
    "genres = x.index\n",
    "plt.figure(figsize=(15,7))\n",
    "plt.pie(x=x, labels=genres, autopct='%1.1f%%')\n",
    "plt.title('Топ-5 платформ Японии')\n",
    "plt.show()"
   ]
  },
  {
   "cell_type": "markdown",
   "metadata": {},
   "source": [
    "- Самые популярная платформа в Северной Америке: PS4, на втором месте XOne\n",
    "- Самые популярная платформа в Европе: PS4, на втором месте XOne\n",
    "- Самые популярная платформа в Японии: 3DS, на втором месте PS4\n",
    "\n",
    "Разница в популярности той или иной платформы по регионам имеет огромное количество причин. Японский рынок в любой сфере всегда отличается от мирового, будь то игры, музыка и другие аспекты. У Японии много своих отличительных черт, система оплаты, авторские права и другое. Рынки Европы и Америки также имеют отличия, но думаю, тут разница в популярности также по большей части зависит от маркетинга самих компаний и набора эксклюзивных игр.\n",
    "\n",
    "\n"
   ]
  },
  {
   "cell_type": "code",
   "execution_count": 28,
   "metadata": {},
   "outputs": [
    {
     "data": {
      "image/png": "[encoded data removed]",
      "text/plain": [
       "<Figure size 1080x504 with 1 Axes>"
      ]
     },
     "metadata": {},
     "output_type": "display_data"
    }
   ],
   "source": [
    "x=actual_games.groupby(\"genre\")['na_sales'].sum()\n",
    "genres = x.index\n",
    "plt.figure(figsize=(15,7))\n",
    "plt.pie(x=x, labels=genres, autopct='%1.1f%%')\n",
    "plt.title('Топ-5 жанров Северной Америки')\n",
    "plt.show()\n",
    "\n"
   ]
  },
  {
   "cell_type": "code",
   "execution_count": 29,
   "metadata": {},
   "outputs": [
    {
     "data": {
      "image/png": "[encoded data removed]",
      "text/plain": [
       "<Figure size 1080x504 with 1 Axes>"
      ]
     },
     "metadata": {},
     "output_type": "display_data"
    }
   ],
   "source": [
    "x=actual_games.groupby(\"genre\")['eu_sales'].sum()\n",
    "genres = x.index\n",
    "plt.figure(figsize=(15,7))\n",
    "plt.pie(x=x, labels=genres, autopct='%1.1f%%')\n",
    "plt.title('Топ-5 жанров Европы')\n",
    "plt.show()\n"
   ]
  },
  {
   "cell_type": "code",
   "execution_count": 30,
   "metadata": {},
   "outputs": [
    {
     "data": {
      "image/png": "[encoded data removed]",
      "text/plain": [
       "<Figure size 1080x504 with 1 Axes>"
      ]
     },
     "metadata": {},
     "output_type": "display_data"
    }
   ],
   "source": [
    "x=actual_games.groupby(\"genre\")['jp_sales'].sum()\n",
    "genres = x.index\n",
    "plt.figure(figsize=(15,7))\n",
    "plt.pie(x=x, labels=genres, autopct='%1.1f%%')\n",
    "plt.title('Топ-5 жанров Японии')\n",
    "plt.show()"
   ]
  },
  {
   "cell_type": "markdown",
   "metadata": {},
   "source": [
    "- Самые популярный жанр в Северной Америке: Shooter, на втором месте Action\n",
    "- Самые популярный жанр в Европе: Action, на втором месте Shooter\n",
    "- Самые популярный жанр в Японии: Role-Playing, на втором месте Action\n",
    "    \n",
    "Разница в популярности жанров, предполагаю, в этом случае можно говорить о разнице в личных предпочтениях японцеы и людей с запада. Объективные различия менталитетов запада и востока."
   ]
  },
  {
   "cell_type": "code",
   "execution_count": 31,
   "metadata": {},
   "outputs": [
    {
     "data": {
      "text/html": [
       "<div>\n",
       "<style scoped>\n",
       "    .dataframe tbody tr th:only-of-type {\n",
       "        vertical-align: middle;\n",
       "    }\n",
       "\n",
       "    .dataframe tbody tr th {\n",
       "        vertical-align: top;\n",
       "    }\n",
       "\n",
       "    .dataframe thead th {\n",
       "        text-align: right;\n",
       "    }\n",
       "</style>\n",
       "<table border=\"1\" class=\"dataframe\">\n",
       "  <thead>\n",
       "    <tr style=\"text-align: right;\">\n",
       "      <th></th>\n",
       "      <th>rating</th>\n",
       "      <th>na_sales</th>\n",
       "      <th>eu_sales</th>\n",
       "      <th>jp_sales</th>\n",
       "    </tr>\n",
       "  </thead>\n",
       "  <tbody>\n",
       "    <tr>\n",
       "      <td>0</td>\n",
       "      <td>M</td>\n",
       "      <td>96.42</td>\n",
       "      <td>93.44</td>\n",
       "      <td>8.01</td>\n",
       "    </tr>\n",
       "    <tr>\n",
       "      <td>1</td>\n",
       "      <td>unknown</td>\n",
       "      <td>64.72</td>\n",
       "      <td>58.95</td>\n",
       "      <td>56.90</td>\n",
       "    </tr>\n",
       "    <tr>\n",
       "      <td>2</td>\n",
       "      <td>E</td>\n",
       "      <td>50.74</td>\n",
       "      <td>58.06</td>\n",
       "      <td>8.94</td>\n",
       "    </tr>\n",
       "    <tr>\n",
       "      <td>3</td>\n",
       "      <td>T</td>\n",
       "      <td>38.95</td>\n",
       "      <td>34.07</td>\n",
       "      <td>14.78</td>\n",
       "    </tr>\n",
       "    <tr>\n",
       "      <td>4</td>\n",
       "      <td>E10+</td>\n",
       "      <td>33.23</td>\n",
       "      <td>26.16</td>\n",
       "      <td>4.46</td>\n",
       "    </tr>\n",
       "  </tbody>\n",
       "</table>\n",
       "</div>"
      ],
      "text/plain": [
       "    rating  na_sales  eu_sales  jp_sales\n",
       "0        M     96.42     93.44      8.01\n",
       "1  unknown     64.72     58.95     56.90\n",
       "2        E     50.74     58.06      8.94\n",
       "3        T     38.95     34.07     14.78\n",
       "4     E10+     33.23     26.16      4.46"
      ]
     },
     "execution_count": 31,
     "metadata": {},
     "output_type": "execute_result"
    }
   ],
   "source": [
    "rating_sales = actual_games.groupby('rating')['na_sales', 'eu_sales', 'jp_sales'].sum().sort_values(by='na_sales',ascending=False).reset_index()\n",
    "rating_sales\n"
   ]
  },
  {
   "cell_type": "markdown",
   "metadata": {},
   "source": [
    "Для справки по рейтингам:\n",
    "- «M» («Mature») — «Для взрослых»\n",
    "- «E» («Everyone») — «Для всех»\n",
    "- «E10+» («Everyone 10 and older») — «Для всех от 10 лет и старше»\n",
    "- «T» («Teen») — «Подросткам»\n",
    "\n",
    "Самые продаваемые игры в Европе и Северной Америке имеют рейтинг «M» («Mature»). В Японии больше всего продаются игры с неизвестным рейтингом. Стоит учесть, что в Японии существует Computer Entertainment Rating Organization, которая занимается присуждением рейтинга играм для продажи в Японии. \n"
   ]
  },
  {
   "cell_type": "markdown",
   "metadata": {},
   "source": [
    " Общие выводы: \n",
    " \n",
    " - Северная Америка: Самые популярная платформа - PS4, самый популярный жанр - Shooter, самый продаваемый рейтинг - «M» («Mature»)\n",
    " - Европа: Самые популярная платформа - PS4, самый популярный жанр - Action, самый продаваемый рейтинг - «M» («Mature»)\n",
    " - Япония: Самые популярная платформа - 3DS, самый популярный жанр - Role-Playing, самый продаваемый рейтинг - unknown\n"
   ]
  },
  {
   "cell_type": "markdown",
   "metadata": {},
   "source": [
    "# 5. Проверка гипотез\n",
    "\n",
    "Первая гипотеза и альтернативная к ней:\n",
    "\n",
    "    H₀ - Средние пользовательские рейтинги платформ Xbox One и PC одинаковые\n",
    "    H₁ - Средние пользовательские рейтинги платформ Xbox One и PC различаются"
   ]
  },
  {
   "cell_type": "code",
   "execution_count": 32,
   "metadata": {},
   "outputs": [
    {
     "name": "stdout",
     "output_type": "stream",
     "text": [
      "p-значение: 0.10450507919348415\n",
      "Не получилось отвергнуть нулевую гипотезу\n"
     ]
    }
   ],
   "source": [
    "xone = actual_games[(actual_games['platform']=='XOne')]\n",
    "pc = actual_games[(actual_games['platform']=='PC')]\n",
    "\n",
    "alpha = .05\n",
    "\n",
    "results = st.ttest_ind(xone['user_score'].dropna(), pc['user_score'].dropna())\n",
    "\n",
    "print('p-значение:', results.pvalue)\n",
    "\n",
    "\n",
    "if (results.pvalue < alpha):\n",
    "    print(\"Отвергаем нулевую гипотезу\")\n",
    "else:\n",
    "    print(\"Не получилось отвергнуть нулевую гипотезу\")\n",
    "    "
   ]
  },
  {
   "cell_type": "markdown",
   "metadata": {},
   "source": [
    "Исходя из данных по средним пользовательским рейтингам Xbox One и PC, не получилось отвергнуть нулевую гипотезу. Средние пользовательские рейтинги платформ Xbox One и PC практически одинаковые.\n"
   ]
  },
  {
   "cell_type": "markdown",
   "metadata": {},
   "source": [
    "Вторая гипотеза (добавляем альтернативную):\n",
    "\n",
    "    H₀ - Средние пользовательские рейтинги жанров Action (англ. «действие», экшен-игры) и Sports (англ. «спортивные соревнования») одинаковые\n",
    "    H₁ - Средние пользовательские рейтинги жанров Action (англ. «действие», экшен-игры) и Sports (англ. «спортивные соревнования») разные"
   ]
  },
  {
   "cell_type": "code",
   "execution_count": 33,
   "metadata": {},
   "outputs": [
    {
     "name": "stdout",
     "output_type": "stream",
     "text": [
      "p-значение: 2.8711147985105864e-19\n",
      "Отвергаем нулевую гипотезу\n"
     ]
    }
   ],
   "source": [
    "action = actual_games[(actual_games['genre']=='Action')]\n",
    "sports = actual_games[(actual_games['genre']=='Sports')]\n",
    "\n",
    "alpha = .05\n",
    "\n",
    "results = st.ttest_ind(action['user_score'].dropna(), sports['user_score'].dropna())\n",
    "\n",
    "print('p-значение:', results.pvalue)\n",
    "\n",
    "\n",
    "if (results.pvalue < alpha):\n",
    "    print(\"Отвергаем нулевую гипотезу\")\n",
    "else:\n",
    "    print(\"Не получилось отвергнуть нулевую гипотезу\")\n",
    "\n"
   ]
  },
  {
   "cell_type": "markdown",
   "metadata": {},
   "source": [
    "Исходя по получившемуся p-значению, мы отвергаем нулевую гипотезу. Средние пользовательские рейтинги жанров Action (англ. «действие», экшен-игры) и Sports (англ. «спортивные соревнования») с большой вероятностью будут разными."
   ]
  },
  {
   "cell_type": "markdown",
   "metadata": {},
   "source": [
    "Мы провели исследование данных о продажах компьютерных игр, оценок пользователей и экспертов, жанров и платформ. В ходе анализа мы получили следующие выводы: \n",
    "\n",
    "- Количество игр начало быстро расти в середине 90-х, после 2000 можно наблюдать резкий скачок вплоть до 2009 года, также мы наблюдаем снижение ажиотажа после 2009 года\n",
    "- Средний срок жизни платформы составляет около 7 лет\n",
    "- Пять платформ с самыми большими продажами за все время: PS2, X360, PS3, Wii, DS\n",
    "- Самые успешные по продажам платформы после 2013 года: PS4, XOne \n",
    "- Корреляции между продажами и отзывами критиков, продажами и отзывами пользователей не наблюдается\n",
    "- Самые популярные жанры после 2013 года: action, shooter, sports, role-playing, misc\n",
    "- Северная Америка: Самые популярная платформа - PS4, самый популярный жанр - Shooter, самый продаваемый рейтинг - «M» («Mature»)\n",
    "- Европа: Самые популярная платформа - PS4, самый популярный жанр - Action, самый продаваемый рейтинг - «M» («Mature»)\n",
    "- Япония: Самые популярная платформа - 3DS, самый популярный жанр - Role-Playing, самый продаваемый рейтинг - unknown\n",
    "- Средние пользовательские рейтинги платформ Xbox One и PC одинаковые\n",
    "- Средние пользовательские рейтинги жанров Action (англ. «действие», экшен-игры) и Sports (англ. «спортивные соревнования») различаются\n",
    "\n",
    "Делая вывод, можно сказать, что наиболее перспективные платформы: Xbox One и PlayStation 4. Они относительно новые, выхода новых версий от тех же компаний пока не предвидется. Остальные платформы уже отжили свой срок и упали по продажам, скорее всего, их компании выпустят новые консоли. Также Xbox One и PlayStation 4 популярны в Северной Америке и Европе и охватят оба рынка. В Японии ситуация немного отличается, при этом PlayStation все же входит в топ популярных платформ в Японии. Что касается популярной в Японии Nintendo 3DS, вкладываться в 2017 году в нее не стоит, так как можно ждать новых устройств от Nintendо. "
   ]
  }
 ],
 "metadata": {
  "ExecuteTimeLog": [
   {
    "duration": 1149,
    "start_time": "2022-02-02T08:47:42.042Z"
   },
   {
    "duration": 61,
    "start_time": "2022-02-02T08:47:49.105Z"
   },
   {
    "duration": 15,
    "start_time": "2022-02-02T08:52:36.011Z"
   },
   {
    "duration": 11,
    "start_time": "2022-02-02T08:54:53.368Z"
   },
   {
    "duration": 3,
    "start_time": "2022-02-02T09:03:31.725Z"
   },
   {
    "duration": 20,
    "start_time": "2022-02-02T09:03:38.343Z"
   },
   {
    "duration": 4,
    "start_time": "2022-02-02T09:03:48.795Z"
   },
   {
    "duration": 334,
    "start_time": "2022-02-02T09:05:47.970Z"
   },
   {
    "duration": 231,
    "start_time": "2022-02-02T09:05:55.762Z"
   },
   {
    "duration": 752,
    "start_time": "2022-02-02T09:06:02.790Z"
   },
   {
    "duration": 7,
    "start_time": "2022-02-02T09:09:57.835Z"
   },
   {
    "duration": 243,
    "start_time": "2022-02-02T09:10:08.731Z"
   },
   {
    "duration": 218,
    "start_time": "2022-02-02T09:10:16.549Z"
   },
   {
    "duration": 221,
    "start_time": "2022-02-02T09:10:38.308Z"
   },
   {
    "duration": 6,
    "start_time": "2022-02-02T09:10:45.848Z"
   },
   {
    "duration": 7,
    "start_time": "2022-02-02T09:11:41.652Z"
   },
   {
    "duration": 1102,
    "start_time": "2022-02-02T09:12:23.860Z"
   },
   {
    "duration": 12,
    "start_time": "2022-02-02T09:12:24.964Z"
   },
   {
    "duration": 10,
    "start_time": "2022-02-02T09:12:24.978Z"
   },
   {
    "duration": 7,
    "start_time": "2022-02-02T09:12:24.990Z"
   },
   {
    "duration": 8,
    "start_time": "2022-02-02T09:12:25.007Z"
   },
   {
    "duration": 11,
    "start_time": "2022-02-02T09:12:25.017Z"
   },
   {
    "duration": 366,
    "start_time": "2022-02-02T09:12:25.029Z"
   },
   {
    "duration": 214,
    "start_time": "2022-02-02T09:13:55.464Z"
   },
   {
    "duration": 4,
    "start_time": "2022-02-02T09:14:33.864Z"
   },
   {
    "duration": 7,
    "start_time": "2022-02-02T09:14:47.489Z"
   },
   {
    "duration": 295,
    "start_time": "2022-02-02T09:14:54.600Z"
   },
   {
    "duration": 1172,
    "start_time": "2022-02-02T09:15:06.030Z"
   },
   {
    "duration": 12,
    "start_time": "2022-02-02T09:15:07.204Z"
   },
   {
    "duration": 10,
    "start_time": "2022-02-02T09:15:07.219Z"
   },
   {
    "duration": 3,
    "start_time": "2022-02-02T09:15:07.232Z"
   },
   {
    "duration": 9,
    "start_time": "2022-02-02T09:15:07.237Z"
   },
   {
    "duration": 20,
    "start_time": "2022-02-02T09:15:07.248Z"
   },
   {
    "duration": 319,
    "start_time": "2022-02-02T09:15:07.270Z"
   },
   {
    "duration": 6,
    "start_time": "2022-02-02T09:15:29.187Z"
   },
   {
    "duration": 10,
    "start_time": "2022-02-02T09:18:32.808Z"
   },
   {
    "duration": 11,
    "start_time": "2022-02-02T09:19:00.710Z"
   },
   {
    "duration": 7,
    "start_time": "2022-02-02T09:19:19.455Z"
   },
   {
    "duration": 5,
    "start_time": "2022-02-02T09:19:43.985Z"
   },
   {
    "duration": 10,
    "start_time": "2022-02-02T09:23:27.172Z"
   },
   {
    "duration": 24,
    "start_time": "2022-02-02T09:23:33.708Z"
   },
   {
    "duration": 8,
    "start_time": "2022-02-02T09:24:20.891Z"
   },
   {
    "duration": 4,
    "start_time": "2022-02-02T09:30:46.767Z"
   },
   {
    "duration": 6,
    "start_time": "2022-02-02T09:31:01.990Z"
   },
   {
    "duration": 21,
    "start_time": "2022-02-02T09:31:12.469Z"
   },
   {
    "duration": 5,
    "start_time": "2022-02-02T09:31:32.451Z"
   },
   {
    "duration": 307,
    "start_time": "2022-02-02T09:31:42.427Z"
   },
   {
    "duration": 6,
    "start_time": "2022-02-02T09:31:47.364Z"
   },
   {
    "duration": 6,
    "start_time": "2022-02-02T09:32:00.517Z"
   },
   {
    "duration": 22,
    "start_time": "2022-02-02T09:32:12.286Z"
   },
   {
    "duration": 5,
    "start_time": "2022-02-02T09:32:29.189Z"
   },
   {
    "duration": 4,
    "start_time": "2022-02-02T09:32:37.317Z"
   },
   {
    "duration": 5,
    "start_time": "2022-02-02T09:33:43.214Z"
   },
   {
    "duration": 5,
    "start_time": "2022-02-02T09:33:56.365Z"
   },
   {
    "duration": 5,
    "start_time": "2022-02-02T09:34:12.002Z"
   },
   {
    "duration": 6,
    "start_time": "2022-02-02T09:34:20.475Z"
   },
   {
    "duration": 6,
    "start_time": "2022-02-02T09:34:27.371Z"
   },
   {
    "duration": 22,
    "start_time": "2022-02-02T09:34:34.330Z"
   },
   {
    "duration": 1450,
    "start_time": "2022-02-02T17:00:53.700Z"
   },
   {
    "duration": 17,
    "start_time": "2022-02-02T17:00:55.154Z"
   },
   {
    "duration": 13,
    "start_time": "2022-02-02T17:00:55.175Z"
   },
   {
    "duration": 6,
    "start_time": "2022-02-02T17:00:55.224Z"
   },
   {
    "duration": 42,
    "start_time": "2022-02-02T17:00:55.233Z"
   },
   {
    "duration": 6,
    "start_time": "2022-02-02T17:00:55.278Z"
   },
   {
    "duration": 32,
    "start_time": "2022-02-02T17:01:38.825Z"
   },
   {
    "duration": 11,
    "start_time": "2022-02-02T17:04:14.040Z"
   },
   {
    "duration": 1458,
    "start_time": "2022-02-02T17:04:26.998Z"
   },
   {
    "duration": 13,
    "start_time": "2022-02-02T17:04:28.459Z"
   },
   {
    "duration": 13,
    "start_time": "2022-02-02T17:04:28.476Z"
   },
   {
    "duration": 34,
    "start_time": "2022-02-02T17:04:28.492Z"
   },
   {
    "duration": 13,
    "start_time": "2022-02-02T17:04:28.530Z"
   },
   {
    "duration": 11,
    "start_time": "2022-02-02T17:04:40.303Z"
   },
   {
    "duration": 28,
    "start_time": "2022-02-02T17:04:51.001Z"
   },
   {
    "duration": 1415,
    "start_time": "2022-02-02T17:05:06.637Z"
   },
   {
    "duration": 13,
    "start_time": "2022-02-02T17:05:08.055Z"
   },
   {
    "duration": 11,
    "start_time": "2022-02-02T17:05:08.071Z"
   },
   {
    "duration": 5,
    "start_time": "2022-02-02T17:05:08.084Z"
   },
   {
    "duration": 38,
    "start_time": "2022-02-02T17:05:08.092Z"
   },
   {
    "duration": 11,
    "start_time": "2022-02-02T17:05:08.133Z"
   },
   {
    "duration": 27,
    "start_time": "2022-02-02T17:05:08.146Z"
   },
   {
    "duration": 6,
    "start_time": "2022-02-02T17:05:20.692Z"
   },
   {
    "duration": 9,
    "start_time": "2022-02-02T17:05:32.041Z"
   },
   {
    "duration": 8,
    "start_time": "2022-02-02T17:05:47.348Z"
   },
   {
    "duration": 28,
    "start_time": "2022-02-02T17:05:49.625Z"
   },
   {
    "duration": 7,
    "start_time": "2022-02-02T17:06:07.916Z"
   },
   {
    "duration": 9,
    "start_time": "2022-02-02T17:06:12.446Z"
   },
   {
    "duration": 18,
    "start_time": "2022-02-02T17:07:53.023Z"
   },
   {
    "duration": 7,
    "start_time": "2022-02-02T17:07:55.260Z"
   },
   {
    "duration": 11,
    "start_time": "2022-02-02T17:10:49.055Z"
   },
   {
    "duration": 7,
    "start_time": "2022-02-02T17:10:50.224Z"
   },
   {
    "duration": 192,
    "start_time": "2022-02-03T16:16:37.248Z"
   },
   {
    "duration": 1949,
    "start_time": "2022-02-03T16:16:52.168Z"
   },
   {
    "duration": 11,
    "start_time": "2022-02-03T16:16:54.119Z"
   },
   {
    "duration": 9,
    "start_time": "2022-02-03T16:16:54.132Z"
   },
   {
    "duration": 3,
    "start_time": "2022-02-03T16:16:54.143Z"
   },
   {
    "duration": 14,
    "start_time": "2022-02-03T16:16:54.147Z"
   },
   {
    "duration": 9,
    "start_time": "2022-02-03T16:16:54.163Z"
   },
   {
    "duration": 4,
    "start_time": "2022-02-03T16:16:54.174Z"
   },
   {
    "duration": 215,
    "start_time": "2022-02-03T16:16:54.180Z"
   },
   {
    "duration": 7,
    "start_time": "2022-02-03T16:17:08.505Z"
   },
   {
    "duration": 18,
    "start_time": "2022-02-03T16:17:18.653Z"
   },
   {
    "duration": 1934,
    "start_time": "2022-02-03T16:18:00.012Z"
   },
   {
    "duration": -148,
    "start_time": "2022-02-03T16:18:02.096Z"
   },
   {
    "duration": 1082,
    "start_time": "2022-02-03T16:18:13.228Z"
   },
   {
    "duration": 26,
    "start_time": "2022-02-03T16:19:25.320Z"
   },
   {
    "duration": 6,
    "start_time": "2022-02-03T16:19:46.309Z"
   },
   {
    "duration": 19,
    "start_time": "2022-02-03T16:19:50.961Z"
   },
   {
    "duration": 1811,
    "start_time": "2022-02-03T16:20:04.991Z"
   },
   {
    "duration": 13,
    "start_time": "2022-02-03T16:20:06.804Z"
   },
   {
    "duration": 11,
    "start_time": "2022-02-03T16:20:06.819Z"
   },
   {
    "duration": 5,
    "start_time": "2022-02-03T16:20:06.832Z"
   },
   {
    "duration": 7,
    "start_time": "2022-02-03T16:20:06.838Z"
   },
   {
    "duration": 17,
    "start_time": "2022-02-03T16:20:06.846Z"
   },
   {
    "duration": 27,
    "start_time": "2022-02-03T16:20:06.865Z"
   },
   {
    "duration": 39,
    "start_time": "2022-02-03T16:20:06.894Z"
   },
   {
    "duration": 30,
    "start_time": "2022-02-03T16:20:06.935Z"
   },
   {
    "duration": 5,
    "start_time": "2022-02-03T16:20:22.280Z"
   },
   {
    "duration": 19,
    "start_time": "2022-02-03T16:20:25.685Z"
   },
   {
    "duration": 9,
    "start_time": "2022-02-03T16:22:24.179Z"
   },
   {
    "duration": 952,
    "start_time": "2022-02-03T16:32:51.545Z"
   },
   {
    "duration": 1673,
    "start_time": "2022-02-03T16:33:01.057Z"
   },
   {
    "duration": 559,
    "start_time": "2022-02-03T16:33:17.216Z"
   },
   {
    "duration": 4657,
    "start_time": "2022-02-03T16:34:06.938Z"
   },
   {
    "duration": 5,
    "start_time": "2022-02-03T16:35:34.208Z"
   },
   {
    "duration": 20,
    "start_time": "2022-02-03T16:35:42.780Z"
   },
   {
    "duration": 132,
    "start_time": "2022-02-03T16:37:24.103Z"
   },
   {
    "duration": 140,
    "start_time": "2022-02-03T16:37:38.904Z"
   },
   {
    "duration": 142,
    "start_time": "2022-02-03T16:38:13.624Z"
   },
   {
    "duration": 141,
    "start_time": "2022-02-03T16:38:35.091Z"
   },
   {
    "duration": 134,
    "start_time": "2022-02-03T16:39:31.948Z"
   },
   {
    "duration": 1026,
    "start_time": "2022-02-03T16:39:38.874Z"
   },
   {
    "duration": 10,
    "start_time": "2022-02-03T16:39:39.902Z"
   },
   {
    "duration": 36,
    "start_time": "2022-02-03T16:39:39.914Z"
   },
   {
    "duration": 14,
    "start_time": "2022-02-03T16:39:39.952Z"
   },
   {
    "duration": 28,
    "start_time": "2022-02-03T16:39:39.967Z"
   },
   {
    "duration": 13,
    "start_time": "2022-02-03T16:39:39.996Z"
   },
   {
    "duration": 18,
    "start_time": "2022-02-03T16:39:40.011Z"
   },
   {
    "duration": 16,
    "start_time": "2022-02-03T16:39:40.031Z"
   },
   {
    "duration": 25,
    "start_time": "2022-02-03T16:39:40.049Z"
   },
   {
    "duration": 30,
    "start_time": "2022-02-03T16:39:40.076Z"
   },
   {
    "duration": 224,
    "start_time": "2022-02-03T16:39:40.108Z"
   },
   {
    "duration": -318,
    "start_time": "2022-02-03T16:39:40.651Z"
   },
   {
    "duration": 7071,
    "start_time": "2022-02-03T16:41:01.507Z"
   },
   {
    "duration": 3720,
    "start_time": "2022-02-03T16:42:10.418Z"
   },
   {
    "duration": 157,
    "start_time": "2022-02-03T16:43:36.664Z"
   },
   {
    "duration": 151,
    "start_time": "2022-02-03T16:46:47.600Z"
   },
   {
    "duration": 133,
    "start_time": "2022-02-03T16:46:55.274Z"
   },
   {
    "duration": 221,
    "start_time": "2022-02-03T16:48:14.615Z"
   },
   {
    "duration": 9,
    "start_time": "2022-02-03T16:48:39.768Z"
   },
   {
    "duration": 20,
    "start_time": "2022-02-03T16:48:42.908Z"
   },
   {
    "duration": 6,
    "start_time": "2022-02-03T16:49:32.301Z"
   },
   {
    "duration": 22,
    "start_time": "2022-02-03T16:49:34.984Z"
   },
   {
    "duration": 6,
    "start_time": "2022-02-03T16:50:24.179Z"
   },
   {
    "duration": 27,
    "start_time": "2022-02-03T16:50:25.372Z"
   },
   {
    "duration": 248,
    "start_time": "2022-02-03T16:56:30.968Z"
   },
   {
    "duration": 159,
    "start_time": "2022-02-03T16:56:51.904Z"
   },
   {
    "duration": 145,
    "start_time": "2022-02-03T16:57:03.360Z"
   },
   {
    "duration": 30,
    "start_time": "2022-02-03T16:57:11.731Z"
   },
   {
    "duration": 79,
    "start_time": "2022-02-03T16:57:42.810Z"
   },
   {
    "duration": 9,
    "start_time": "2022-02-03T16:57:44.532Z"
   },
   {
    "duration": 13,
    "start_time": "2022-02-03T16:57:52.583Z"
   },
   {
    "duration": 7,
    "start_time": "2022-02-03T16:57:54.226Z"
   },
   {
    "duration": 52,
    "start_time": "2022-02-03T17:01:42.321Z"
   },
   {
    "duration": 151,
    "start_time": "2022-02-03T17:04:36.908Z"
   },
   {
    "duration": 149,
    "start_time": "2022-02-03T17:04:42.954Z"
   },
   {
    "duration": 1149,
    "start_time": "2022-02-03T17:05:25.952Z"
   },
   {
    "duration": 9,
    "start_time": "2022-02-03T17:05:27.103Z"
   },
   {
    "duration": 7,
    "start_time": "2022-02-03T17:05:27.114Z"
   },
   {
    "duration": 3,
    "start_time": "2022-02-03T17:05:27.123Z"
   },
   {
    "duration": 6,
    "start_time": "2022-02-03T17:05:27.127Z"
   },
   {
    "duration": 25,
    "start_time": "2022-02-03T17:05:27.134Z"
   },
   {
    "duration": 4,
    "start_time": "2022-02-03T17:05:27.160Z"
   },
   {
    "duration": 6,
    "start_time": "2022-02-03T17:05:27.166Z"
   },
   {
    "duration": 20,
    "start_time": "2022-02-03T17:05:27.174Z"
   },
   {
    "duration": 9,
    "start_time": "2022-02-03T17:05:27.196Z"
   },
   {
    "duration": 6,
    "start_time": "2022-02-03T17:05:27.206Z"
   },
   {
    "duration": 50,
    "start_time": "2022-02-03T17:05:27.213Z"
   },
   {
    "duration": 225,
    "start_time": "2022-02-03T17:05:27.264Z"
   },
   {
    "duration": -760,
    "start_time": "2022-02-03T17:05:28.251Z"
   },
   {
    "duration": 187,
    "start_time": "2022-02-03T17:05:59.275Z"
   },
   {
    "duration": 12,
    "start_time": "2022-02-03T17:06:56.511Z"
   },
   {
    "duration": 142,
    "start_time": "2022-02-03T17:07:00.152Z"
   },
   {
    "duration": 137,
    "start_time": "2022-02-03T17:07:46.926Z"
   },
   {
    "duration": 206,
    "start_time": "2022-02-03T17:08:18.890Z"
   },
   {
    "duration": 143,
    "start_time": "2022-02-03T17:08:33.894Z"
   },
   {
    "duration": 161,
    "start_time": "2022-02-03T17:08:58.714Z"
   },
   {
    "duration": 138,
    "start_time": "2022-02-03T17:09:12.280Z"
   },
   {
    "duration": 313,
    "start_time": "2022-02-03T17:09:18.469Z"
   },
   {
    "duration": 134,
    "start_time": "2022-02-03T17:09:34.955Z"
   },
   {
    "duration": 145,
    "start_time": "2022-02-03T17:09:54.790Z"
   },
   {
    "duration": 212,
    "start_time": "2022-02-03T17:10:03.888Z"
   },
   {
    "duration": 231,
    "start_time": "2022-02-03T17:10:56.045Z"
   },
   {
    "duration": 284,
    "start_time": "2022-02-03T17:11:02.977Z"
   },
   {
    "duration": 55,
    "start_time": "2022-02-03T17:11:11.988Z"
   },
   {
    "duration": 14,
    "start_time": "2022-02-03T17:12:13.824Z"
   },
   {
    "duration": 14,
    "start_time": "2022-02-03T17:12:23.470Z"
   },
   {
    "duration": 9,
    "start_time": "2022-02-03T17:12:38.364Z"
   },
   {
    "duration": 148,
    "start_time": "2022-02-03T17:12:57.535Z"
   },
   {
    "duration": 13,
    "start_time": "2022-02-03T17:13:09.290Z"
   },
   {
    "duration": 200,
    "start_time": "2022-02-03T17:13:52.380Z"
   },
   {
    "duration": 17,
    "start_time": "2022-02-03T17:14:03.610Z"
   },
   {
    "duration": 158,
    "start_time": "2022-02-05T17:53:50.039Z"
   },
   {
    "duration": 307,
    "start_time": "2022-02-05T17:55:04.172Z"
   },
   {
    "duration": 1163,
    "start_time": "2022-02-05T17:55:13.953Z"
   },
   {
    "duration": 9,
    "start_time": "2022-02-05T17:55:15.118Z"
   },
   {
    "duration": 8,
    "start_time": "2022-02-05T17:55:15.129Z"
   },
   {
    "duration": 3,
    "start_time": "2022-02-05T17:55:15.138Z"
   },
   {
    "duration": 5,
    "start_time": "2022-02-05T17:55:15.142Z"
   },
   {
    "duration": 8,
    "start_time": "2022-02-05T17:55:15.149Z"
   },
   {
    "duration": 3,
    "start_time": "2022-02-05T17:55:15.159Z"
   },
   {
    "duration": 5,
    "start_time": "2022-02-05T17:55:15.164Z"
   },
   {
    "duration": 18,
    "start_time": "2022-02-05T17:55:15.171Z"
   },
   {
    "duration": 8,
    "start_time": "2022-02-05T17:55:15.191Z"
   },
   {
    "duration": 32,
    "start_time": "2022-02-05T17:55:15.200Z"
   },
   {
    "duration": 12,
    "start_time": "2022-02-05T17:55:15.234Z"
   },
   {
    "duration": 192,
    "start_time": "2022-02-05T17:55:15.248Z"
   },
   {
    "duration": 15,
    "start_time": "2022-02-05T17:55:15.442Z"
   },
   {
    "duration": 17,
    "start_time": "2022-02-05T17:55:15.458Z"
   },
   {
    "duration": 261,
    "start_time": "2022-02-06T08:32:26.596Z"
   },
   {
    "duration": 236,
    "start_time": "2022-02-06T08:32:35.807Z"
   },
   {
    "duration": 1108,
    "start_time": "2022-02-06T08:32:43.946Z"
   },
   {
    "duration": 12,
    "start_time": "2022-02-06T08:32:45.057Z"
   },
   {
    "duration": 10,
    "start_time": "2022-02-06T08:32:45.071Z"
   },
   {
    "duration": 4,
    "start_time": "2022-02-06T08:32:45.083Z"
   },
   {
    "duration": 25,
    "start_time": "2022-02-06T08:32:45.088Z"
   },
   {
    "duration": 9,
    "start_time": "2022-02-06T08:32:45.115Z"
   },
   {
    "duration": 4,
    "start_time": "2022-02-06T08:32:45.126Z"
   },
   {
    "duration": 6,
    "start_time": "2022-02-06T08:32:45.133Z"
   },
   {
    "duration": 19,
    "start_time": "2022-02-06T08:32:45.141Z"
   },
   {
    "duration": 9,
    "start_time": "2022-02-06T08:32:45.161Z"
   },
   {
    "duration": 42,
    "start_time": "2022-02-06T08:32:45.171Z"
   },
   {
    "duration": 12,
    "start_time": "2022-02-06T08:32:45.215Z"
   },
   {
    "duration": 226,
    "start_time": "2022-02-06T08:32:45.228Z"
   },
   {
    "duration": 15,
    "start_time": "2022-02-06T08:32:45.455Z"
   },
   {
    "duration": 15,
    "start_time": "2022-02-06T08:32:45.471Z"
   },
   {
    "duration": 42,
    "start_time": "2022-02-06T08:32:45.487Z"
   },
   {
    "duration": 23,
    "start_time": "2022-02-06T08:32:52.567Z"
   },
   {
    "duration": 24,
    "start_time": "2022-02-06T08:32:57.906Z"
   },
   {
    "duration": 21,
    "start_time": "2022-02-06T08:33:33.770Z"
   },
   {
    "duration": 98,
    "start_time": "2022-02-06T08:34:46.290Z"
   },
   {
    "duration": 14,
    "start_time": "2022-02-06T08:34:53.375Z"
   },
   {
    "duration": 341,
    "start_time": "2022-02-06T08:36:33.195Z"
   },
   {
    "duration": 256,
    "start_time": "2022-02-06T08:36:46.258Z"
   },
   {
    "duration": 244,
    "start_time": "2022-02-06T08:36:59.363Z"
   },
   {
    "duration": 227,
    "start_time": "2022-02-06T08:37:02.607Z"
   },
   {
    "duration": 152,
    "start_time": "2022-02-06T08:37:09.594Z"
   },
   {
    "duration": 80,
    "start_time": "2022-02-06T08:42:21.497Z"
   },
   {
    "duration": 326,
    "start_time": "2022-02-06T08:42:27.968Z"
   },
   {
    "duration": 326,
    "start_time": "2022-02-06T08:43:13.747Z"
   },
   {
    "duration": 338,
    "start_time": "2022-02-06T08:43:40.843Z"
   },
   {
    "duration": 401,
    "start_time": "2022-02-06T08:44:24.172Z"
   },
   {
    "duration": 571,
    "start_time": "2022-02-06T08:44:56.277Z"
   },
   {
    "duration": 806,
    "start_time": "2022-02-06T08:45:54.361Z"
   },
   {
    "duration": 507,
    "start_time": "2022-02-06T08:46:07.272Z"
   },
   {
    "duration": 485,
    "start_time": "2022-02-06T08:46:13.646Z"
   },
   {
    "duration": 488,
    "start_time": "2022-02-06T08:46:42.226Z"
   },
   {
    "duration": 10,
    "start_time": "2022-02-06T08:48:43.694Z"
   },
   {
    "duration": 13,
    "start_time": "2022-02-06T08:48:49.962Z"
   },
   {
    "duration": 397,
    "start_time": "2022-02-06T08:53:01.058Z"
   },
   {
    "duration": 480,
    "start_time": "2022-02-06T08:54:11.984Z"
   },
   {
    "duration": 479,
    "start_time": "2022-02-06T08:55:29.636Z"
   },
   {
    "duration": 13,
    "start_time": "2022-02-06T08:55:32.769Z"
   },
   {
    "duration": 438,
    "start_time": "2022-02-06T08:56:08.404Z"
   },
   {
    "duration": 486,
    "start_time": "2022-02-06T08:56:30.779Z"
   },
   {
    "duration": 379,
    "start_time": "2022-02-06T08:56:41.454Z"
   },
   {
    "duration": 424,
    "start_time": "2022-02-06T08:56:48.026Z"
   },
   {
    "duration": 439,
    "start_time": "2022-02-06T08:57:03.432Z"
   },
   {
    "duration": 386,
    "start_time": "2022-02-06T08:58:02.274Z"
   },
   {
    "duration": 430,
    "start_time": "2022-02-06T08:58:14.051Z"
   },
   {
    "duration": 550,
    "start_time": "2022-02-06T09:00:20.696Z"
   },
   {
    "duration": 514,
    "start_time": "2022-02-06T09:03:34.246Z"
   },
   {
    "duration": 232,
    "start_time": "2022-02-06T09:06:21.017Z"
   },
   {
    "duration": 417,
    "start_time": "2022-02-06T09:06:33.815Z"
   },
   {
    "duration": 485,
    "start_time": "2022-02-06T09:06:43.521Z"
   },
   {
    "duration": 442,
    "start_time": "2022-02-06T09:06:50.152Z"
   },
   {
    "duration": 485,
    "start_time": "2022-02-06T09:07:22.746Z"
   },
   {
    "duration": 339,
    "start_time": "2022-02-06T16:09:19.409Z"
   },
   {
    "duration": 1468,
    "start_time": "2022-02-06T16:09:26.379Z"
   },
   {
    "duration": 14,
    "start_time": "2022-02-06T16:09:27.850Z"
   },
   {
    "duration": 12,
    "start_time": "2022-02-06T16:09:27.866Z"
   },
   {
    "duration": 4,
    "start_time": "2022-02-06T16:09:27.881Z"
   },
   {
    "duration": 7,
    "start_time": "2022-02-06T16:09:27.888Z"
   },
   {
    "duration": 54,
    "start_time": "2022-02-06T16:09:27.898Z"
   },
   {
    "duration": 7,
    "start_time": "2022-02-06T16:09:27.954Z"
   },
   {
    "duration": 7,
    "start_time": "2022-02-06T16:09:27.966Z"
   },
   {
    "duration": 29,
    "start_time": "2022-02-06T16:09:27.975Z"
   },
   {
    "duration": 46,
    "start_time": "2022-02-06T16:09:28.006Z"
   },
   {
    "duration": 8,
    "start_time": "2022-02-06T16:09:28.054Z"
   },
   {
    "duration": 16,
    "start_time": "2022-02-06T16:09:28.064Z"
   },
   {
    "duration": 349,
    "start_time": "2022-02-06T16:09:28.082Z"
   },
   {
    "duration": 27,
    "start_time": "2022-02-06T16:09:28.433Z"
   },
   {
    "duration": 26,
    "start_time": "2022-02-06T16:09:28.462Z"
   },
   {
    "duration": 65,
    "start_time": "2022-02-06T16:09:28.490Z"
   },
   {
    "duration": 20,
    "start_time": "2022-02-06T16:09:28.557Z"
   },
   {
    "duration": 650,
    "start_time": "2022-02-06T16:09:28.580Z"
   },
   {
    "duration": 678,
    "start_time": "2022-02-06T16:09:29.233Z"
   },
   {
    "duration": 7766,
    "start_time": "2022-02-06T16:09:29.913Z"
   },
   {
    "duration": 6998,
    "start_time": "2022-02-06T16:10:26.853Z"
   },
   {
    "duration": 25,
    "start_time": "2022-02-06T16:15:25.895Z"
   },
   {
    "duration": 361,
    "start_time": "2022-02-06T16:29:22.594Z"
   },
   {
    "duration": 454,
    "start_time": "2022-02-06T16:30:10.069Z"
   },
   {
    "duration": 242,
    "start_time": "2022-02-06T16:30:15.799Z"
   },
   {
    "duration": 11,
    "start_time": "2022-02-06T16:30:49.626Z"
   },
   {
    "duration": 246,
    "start_time": "2022-02-06T16:31:40.665Z"
   },
   {
    "duration": 506,
    "start_time": "2022-02-06T16:31:48.285Z"
   },
   {
    "duration": 345,
    "start_time": "2022-02-06T16:32:03.287Z"
   },
   {
    "duration": 249,
    "start_time": "2022-02-06T16:32:25.498Z"
   },
   {
    "duration": 228,
    "start_time": "2022-02-06T16:32:52.903Z"
   },
   {
    "duration": 240,
    "start_time": "2022-02-06T16:33:01.681Z"
   },
   {
    "duration": 20877,
    "start_time": "2022-02-06T16:33:31.551Z"
   },
   {
    "duration": 11,
    "start_time": "2022-02-06T16:38:05.145Z"
   },
   {
    "duration": 11,
    "start_time": "2022-02-06T16:38:18.013Z"
   },
   {
    "duration": 10,
    "start_time": "2022-02-06T16:38:24.892Z"
   },
   {
    "duration": 230,
    "start_time": "2022-02-06T16:39:05.633Z"
   },
   {
    "duration": 11,
    "start_time": "2022-02-06T16:39:24.034Z"
   },
   {
    "duration": 242,
    "start_time": "2022-02-06T16:39:47.674Z"
   },
   {
    "duration": 366,
    "start_time": "2022-02-06T16:40:03.595Z"
   },
   {
    "duration": 24,
    "start_time": "2022-02-06T16:40:11.914Z"
   },
   {
    "duration": 16,
    "start_time": "2022-02-06T16:40:25.469Z"
   },
   {
    "duration": 24,
    "start_time": "2022-02-06T16:40:33.653Z"
   },
   {
    "duration": 33,
    "start_time": "2022-02-06T16:40:49.085Z"
   },
   {
    "duration": 25,
    "start_time": "2022-02-06T16:41:08.111Z"
   },
   {
    "duration": 19,
    "start_time": "2022-02-06T16:42:35.574Z"
   },
   {
    "duration": 91,
    "start_time": "2022-02-06T16:48:28.678Z"
   },
   {
    "duration": 80,
    "start_time": "2022-02-06T16:48:47.540Z"
   },
   {
    "duration": 80,
    "start_time": "2022-02-06T16:49:00.980Z"
   },
   {
    "duration": 13,
    "start_time": "2022-02-06T16:49:07.561Z"
   },
   {
    "duration": 9,
    "start_time": "2022-02-06T16:50:38.417Z"
   },
   {
    "duration": 1469,
    "start_time": "2022-02-06T16:50:47.822Z"
   },
   {
    "duration": 17,
    "start_time": "2022-02-06T16:50:49.294Z"
   },
   {
    "duration": 34,
    "start_time": "2022-02-06T16:50:49.315Z"
   },
   {
    "duration": 4,
    "start_time": "2022-02-06T16:50:49.353Z"
   },
   {
    "duration": 10,
    "start_time": "2022-02-06T16:50:49.360Z"
   },
   {
    "duration": 10,
    "start_time": "2022-02-06T16:50:49.372Z"
   },
   {
    "duration": 5,
    "start_time": "2022-02-06T16:50:49.384Z"
   },
   {
    "duration": 6,
    "start_time": "2022-02-06T16:50:49.393Z"
   },
   {
    "duration": 78,
    "start_time": "2022-02-06T16:50:49.402Z"
   },
   {
    "duration": 15,
    "start_time": "2022-02-06T16:50:49.483Z"
   },
   {
    "duration": 12,
    "start_time": "2022-02-06T16:50:49.500Z"
   },
   {
    "duration": 49,
    "start_time": "2022-02-06T16:50:49.514Z"
   },
   {
    "duration": 347,
    "start_time": "2022-02-06T16:50:49.565Z"
   },
   {
    "duration": 36,
    "start_time": "2022-02-06T16:50:49.915Z"
   },
   {
    "duration": 24,
    "start_time": "2022-02-06T16:50:49.954Z"
   },
   {
    "duration": 34,
    "start_time": "2022-02-06T16:50:49.981Z"
   },
   {
    "duration": 46,
    "start_time": "2022-02-06T16:50:50.018Z"
   },
   {
    "duration": 727,
    "start_time": "2022-02-06T16:50:50.067Z"
   },
   {
    "duration": 685,
    "start_time": "2022-02-06T16:50:50.797Z"
   },
   {
    "duration": 7054,
    "start_time": "2022-02-06T16:50:51.486Z"
   },
   {
    "duration": 24,
    "start_time": "2022-02-06T16:50:58.548Z"
   },
   {
    "duration": 13,
    "start_time": "2022-02-06T16:50:58.575Z"
   },
   {
    "duration": 52,
    "start_time": "2022-02-06T16:50:58.595Z"
   },
   {
    "duration": 10,
    "start_time": "2022-02-06T16:50:58.650Z"
   },
   {
    "duration": 22,
    "start_time": "2022-02-06T16:50:58.663Z"
   },
   {
    "duration": 21,
    "start_time": "2022-02-06T16:50:58.687Z"
   },
   {
    "duration": 55,
    "start_time": "2022-02-06T16:50:58.711Z"
   },
   {
    "duration": 17,
    "start_time": "2022-02-06T16:50:58.769Z"
   },
   {
    "duration": 10,
    "start_time": "2022-02-06T16:50:58.788Z"
   },
   {
    "duration": 27,
    "start_time": "2022-02-06T16:52:12.958Z"
   },
   {
    "duration": 23,
    "start_time": "2022-02-06T16:52:17.910Z"
   },
   {
    "duration": 1538,
    "start_time": "2022-02-06T16:52:24.235Z"
   },
   {
    "duration": 15,
    "start_time": "2022-02-06T16:52:25.777Z"
   },
   {
    "duration": 11,
    "start_time": "2022-02-06T16:52:25.795Z"
   },
   {
    "duration": 4,
    "start_time": "2022-02-06T16:52:25.809Z"
   },
   {
    "duration": 37,
    "start_time": "2022-02-06T16:52:25.816Z"
   },
   {
    "duration": 31,
    "start_time": "2022-02-06T16:52:25.855Z"
   },
   {
    "duration": 7,
    "start_time": "2022-02-06T16:52:25.888Z"
   },
   {
    "duration": 13,
    "start_time": "2022-02-06T16:52:25.899Z"
   },
   {
    "duration": 39,
    "start_time": "2022-02-06T16:52:25.915Z"
   },
   {
    "duration": 21,
    "start_time": "2022-02-06T16:52:25.957Z"
   },
   {
    "duration": 14,
    "start_time": "2022-02-06T16:52:25.981Z"
   },
   {
    "duration": 39,
    "start_time": "2022-02-06T16:52:25.997Z"
   },
   {
    "duration": 327,
    "start_time": "2022-02-06T16:52:26.039Z"
   },
   {
    "duration": 23,
    "start_time": "2022-02-06T16:52:26.368Z"
   },
   {
    "duration": 22,
    "start_time": "2022-02-06T16:52:26.393Z"
   },
   {
    "duration": 60,
    "start_time": "2022-02-06T16:52:26.418Z"
   },
   {
    "duration": 22,
    "start_time": "2022-02-06T16:52:26.480Z"
   },
   {
    "duration": 674,
    "start_time": "2022-02-06T16:52:26.505Z"
   },
   {
    "duration": 719,
    "start_time": "2022-02-06T16:52:27.182Z"
   },
   {
    "duration": 7452,
    "start_time": "2022-02-06T16:52:27.904Z"
   },
   {
    "duration": 22,
    "start_time": "2022-02-06T16:52:35.358Z"
   },
   {
    "duration": 13,
    "start_time": "2022-02-06T16:52:35.382Z"
   },
   {
    "duration": 10,
    "start_time": "2022-02-06T16:52:35.399Z"
   },
   {
    "duration": 39,
    "start_time": "2022-02-06T16:52:35.411Z"
   },
   {
    "duration": 23,
    "start_time": "2022-02-06T16:52:35.452Z"
   },
   {
    "duration": 22,
    "start_time": "2022-02-06T16:52:35.478Z"
   },
   {
    "duration": 58,
    "start_time": "2022-02-06T16:52:35.502Z"
   },
   {
    "duration": 16,
    "start_time": "2022-02-06T16:52:35.563Z"
   },
   {
    "duration": 11,
    "start_time": "2022-02-06T16:52:35.582Z"
   },
   {
    "duration": 6,
    "start_time": "2022-02-06T16:53:45.291Z"
   },
   {
    "duration": 10,
    "start_time": "2022-02-06T16:53:54.974Z"
   },
   {
    "duration": 7,
    "start_time": "2022-02-06T16:56:55.160Z"
   },
   {
    "duration": 7,
    "start_time": "2022-02-06T16:57:04.422Z"
   },
   {
    "duration": 24,
    "start_time": "2022-02-06T16:57:20.567Z"
   },
   {
    "duration": 5,
    "start_time": "2022-02-06T16:57:29.915Z"
   },
   {
    "duration": 8,
    "start_time": "2022-02-06T16:57:51.097Z"
   },
   {
    "duration": 38,
    "start_time": "2022-02-06T16:58:04.089Z"
   },
   {
    "duration": 1464,
    "start_time": "2022-02-06T16:58:15.451Z"
   },
   {
    "duration": 15,
    "start_time": "2022-02-06T16:58:16.917Z"
   },
   {
    "duration": 22,
    "start_time": "2022-02-06T16:58:16.935Z"
   },
   {
    "duration": 3,
    "start_time": "2022-02-06T16:58:16.960Z"
   },
   {
    "duration": 7,
    "start_time": "2022-02-06T16:58:16.966Z"
   },
   {
    "duration": 10,
    "start_time": "2022-02-06T16:58:16.975Z"
   },
   {
    "duration": 7,
    "start_time": "2022-02-06T16:58:16.987Z"
   },
   {
    "duration": 5,
    "start_time": "2022-02-06T16:58:16.998Z"
   },
   {
    "duration": 29,
    "start_time": "2022-02-06T16:58:17.051Z"
   },
   {
    "duration": 15,
    "start_time": "2022-02-06T16:58:17.084Z"
   },
   {
    "duration": 17,
    "start_time": "2022-02-06T16:58:17.102Z"
   },
   {
    "duration": 33,
    "start_time": "2022-02-06T16:58:17.121Z"
   },
   {
    "duration": 20,
    "start_time": "2022-02-06T16:58:17.157Z"
   },
   {
    "duration": 359,
    "start_time": "2022-02-06T16:58:17.179Z"
   },
   {
    "duration": 26,
    "start_time": "2022-02-06T16:58:17.540Z"
   },
   {
    "duration": 23,
    "start_time": "2022-02-06T16:58:17.568Z"
   },
   {
    "duration": 61,
    "start_time": "2022-02-06T16:58:17.593Z"
   },
   {
    "duration": 18,
    "start_time": "2022-02-06T16:58:17.657Z"
   },
   {
    "duration": 651,
    "start_time": "2022-02-06T16:58:17.677Z"
   },
   {
    "duration": 761,
    "start_time": "2022-02-06T16:58:18.330Z"
   },
   {
    "duration": 6978,
    "start_time": "2022-02-06T16:58:19.094Z"
   },
   {
    "duration": 25,
    "start_time": "2022-02-06T16:58:26.075Z"
   },
   {
    "duration": 10,
    "start_time": "2022-02-06T16:58:26.106Z"
   },
   {
    "duration": 12,
    "start_time": "2022-02-06T16:58:26.151Z"
   },
   {
    "duration": 11,
    "start_time": "2022-02-06T16:58:26.166Z"
   },
   {
    "duration": 22,
    "start_time": "2022-02-06T16:58:26.180Z"
   },
   {
    "duration": 65,
    "start_time": "2022-02-06T16:58:26.204Z"
   },
   {
    "duration": 22,
    "start_time": "2022-02-06T16:58:26.272Z"
   },
   {
    "duration": 21,
    "start_time": "2022-02-06T16:58:26.297Z"
   },
   {
    "duration": 35,
    "start_time": "2022-02-06T16:58:26.320Z"
   },
   {
    "duration": 371,
    "start_time": "2022-02-06T16:58:43.393Z"
   },
   {
    "duration": 8,
    "start_time": "2022-02-06T16:58:47.524Z"
   },
   {
    "duration": 1506,
    "start_time": "2022-02-06T16:59:36.396Z"
   },
   {
    "duration": 15,
    "start_time": "2022-02-06T16:59:37.905Z"
   },
   {
    "duration": 26,
    "start_time": "2022-02-06T16:59:37.923Z"
   },
   {
    "duration": 4,
    "start_time": "2022-02-06T16:59:37.952Z"
   },
   {
    "duration": 11,
    "start_time": "2022-02-06T16:59:37.958Z"
   },
   {
    "duration": 16,
    "start_time": "2022-02-06T16:59:37.971Z"
   },
   {
    "duration": 16,
    "start_time": "2022-02-06T16:59:37.989Z"
   },
   {
    "duration": 15,
    "start_time": "2022-02-06T16:59:38.008Z"
   },
   {
    "duration": 44,
    "start_time": "2022-02-06T16:59:38.026Z"
   },
   {
    "duration": 6,
    "start_time": "2022-02-06T16:59:38.073Z"
   },
   {
    "duration": 14,
    "start_time": "2022-02-06T16:59:38.082Z"
   },
   {
    "duration": 22,
    "start_time": "2022-02-06T16:59:38.099Z"
   },
   {
    "duration": 348,
    "start_time": "2022-02-06T16:59:38.123Z"
   },
   {
    "duration": 24,
    "start_time": "2022-02-06T16:59:38.474Z"
   },
   {
    "duration": 52,
    "start_time": "2022-02-06T16:59:38.501Z"
   },
   {
    "duration": 33,
    "start_time": "2022-02-06T16:59:38.557Z"
   },
   {
    "duration": 21,
    "start_time": "2022-02-06T16:59:38.593Z"
   },
   {
    "duration": 685,
    "start_time": "2022-02-06T16:59:38.617Z"
   },
   {
    "duration": 692,
    "start_time": "2022-02-06T16:59:39.305Z"
   },
   {
    "duration": 4585,
    "start_time": "2022-02-06T16:59:40.000Z"
   },
   {
    "duration": 23,
    "start_time": "2022-02-06T16:59:44.588Z"
   },
   {
    "duration": 13,
    "start_time": "2022-02-06T16:59:44.613Z"
   },
   {
    "duration": 30,
    "start_time": "2022-02-06T16:59:44.630Z"
   },
   {
    "duration": 12,
    "start_time": "2022-02-06T16:59:44.663Z"
   },
   {
    "duration": 21,
    "start_time": "2022-02-06T16:59:44.679Z"
   },
   {
    "duration": 66,
    "start_time": "2022-02-06T16:59:44.703Z"
   },
   {
    "duration": 25,
    "start_time": "2022-02-06T16:59:44.772Z"
   },
   {
    "duration": 49,
    "start_time": "2022-02-06T16:59:44.799Z"
   },
   {
    "duration": 847,
    "start_time": "2022-02-06T16:59:44.851Z"
   },
   {
    "duration": 536,
    "start_time": "2022-02-06T17:01:00.445Z"
   },
   {
    "duration": 10,
    "start_time": "2022-02-06T17:01:06.733Z"
   },
   {
    "duration": 7,
    "start_time": "2022-02-06T17:01:22.809Z"
   },
   {
    "duration": 8,
    "start_time": "2022-02-06T17:02:35.168Z"
   },
   {
    "duration": 1450,
    "start_time": "2022-02-06T17:02:49.437Z"
   },
   {
    "duration": 13,
    "start_time": "2022-02-06T17:02:50.890Z"
   },
   {
    "duration": 15,
    "start_time": "2022-02-06T17:02:50.906Z"
   },
   {
    "duration": 24,
    "start_time": "2022-02-06T17:02:50.924Z"
   },
   {
    "duration": 5,
    "start_time": "2022-02-06T17:02:50.951Z"
   },
   {
    "duration": 20,
    "start_time": "2022-02-06T17:02:50.958Z"
   },
   {
    "duration": 9,
    "start_time": "2022-02-06T17:02:50.980Z"
   },
   {
    "duration": 7,
    "start_time": "2022-02-06T17:02:50.994Z"
   },
   {
    "duration": 54,
    "start_time": "2022-02-06T17:02:51.004Z"
   },
   {
    "duration": 15,
    "start_time": "2022-02-06T17:02:51.061Z"
   },
   {
    "duration": 9,
    "start_time": "2022-02-06T17:02:51.079Z"
   },
   {
    "duration": 9,
    "start_time": "2022-02-06T17:02:51.092Z"
   },
   {
    "duration": 57,
    "start_time": "2022-02-06T17:02:51.103Z"
   },
   {
    "duration": 334,
    "start_time": "2022-02-06T17:02:51.163Z"
   },
   {
    "duration": 26,
    "start_time": "2022-02-06T17:02:51.500Z"
   },
   {
    "duration": 26,
    "start_time": "2022-02-06T17:02:51.549Z"
   },
   {
    "duration": 36,
    "start_time": "2022-02-06T17:02:51.578Z"
   },
   {
    "duration": 50,
    "start_time": "2022-02-06T17:02:51.617Z"
   },
   {
    "duration": 683,
    "start_time": "2022-02-06T17:02:51.670Z"
   },
   {
    "duration": 698,
    "start_time": "2022-02-06T17:02:52.357Z"
   },
   {
    "duration": 6878,
    "start_time": "2022-02-06T17:02:53.059Z"
   },
   {
    "duration": 27,
    "start_time": "2022-02-06T17:02:59.939Z"
   },
   {
    "duration": 11,
    "start_time": "2022-02-06T17:02:59.972Z"
   },
   {
    "duration": 11,
    "start_time": "2022-02-06T17:02:59.986Z"
   },
   {
    "duration": 50,
    "start_time": "2022-02-06T17:03:00.000Z"
   },
   {
    "duration": 24,
    "start_time": "2022-02-06T17:03:00.053Z"
   },
   {
    "duration": 54,
    "start_time": "2022-02-06T17:03:00.080Z"
   },
   {
    "duration": 32,
    "start_time": "2022-02-06T17:03:00.136Z"
   },
   {
    "duration": 25,
    "start_time": "2022-02-06T17:03:00.171Z"
   },
   {
    "duration": 26,
    "start_time": "2022-02-06T17:03:00.199Z"
   },
   {
    "duration": 14,
    "start_time": "2022-02-06T17:04:01.850Z"
   },
   {
    "duration": 409,
    "start_time": "2022-02-06T17:04:31.878Z"
   },
   {
    "duration": 253,
    "start_time": "2022-02-06T17:04:42.316Z"
   },
   {
    "duration": 394,
    "start_time": "2022-02-06T17:04:48.697Z"
   },
   {
    "duration": 13,
    "start_time": "2022-02-06T17:04:56.888Z"
   },
   {
    "duration": 9,
    "start_time": "2022-02-06T17:05:00.958Z"
   },
   {
    "duration": 13,
    "start_time": "2022-02-06T17:05:14.481Z"
   },
   {
    "duration": 393,
    "start_time": "2022-02-06T17:05:42.908Z"
   },
   {
    "duration": 282,
    "start_time": "2022-02-06T17:05:49.944Z"
   },
   {
    "duration": 11,
    "start_time": "2022-02-06T17:06:16.498Z"
   },
   {
    "duration": 12,
    "start_time": "2022-02-06T17:06:25.538Z"
   },
   {
    "duration": 12,
    "start_time": "2022-02-06T17:06:27.568Z"
   },
   {
    "duration": 1504,
    "start_time": "2022-02-06T17:06:39.061Z"
   },
   {
    "duration": 13,
    "start_time": "2022-02-06T17:06:40.568Z"
   },
   {
    "duration": 10,
    "start_time": "2022-02-06T17:06:40.584Z"
   },
   {
    "duration": 8,
    "start_time": "2022-02-06T17:06:40.597Z"
   },
   {
    "duration": 9,
    "start_time": "2022-02-06T17:06:40.607Z"
   },
   {
    "duration": 36,
    "start_time": "2022-02-06T17:06:40.618Z"
   },
   {
    "duration": 6,
    "start_time": "2022-02-06T17:06:40.656Z"
   },
   {
    "duration": 10,
    "start_time": "2022-02-06T17:06:40.665Z"
   },
   {
    "duration": 33,
    "start_time": "2022-02-06T17:06:40.678Z"
   },
   {
    "duration": 37,
    "start_time": "2022-02-06T17:06:40.714Z"
   },
   {
    "duration": 10,
    "start_time": "2022-02-06T17:06:40.754Z"
   },
   {
    "duration": 20,
    "start_time": "2022-02-06T17:06:40.767Z"
   },
   {
    "duration": 349,
    "start_time": "2022-02-06T17:06:40.789Z"
   },
   {
    "duration": 23,
    "start_time": "2022-02-06T17:06:41.149Z"
   },
   {
    "duration": 25,
    "start_time": "2022-02-06T17:06:41.175Z"
   },
   {
    "duration": 66,
    "start_time": "2022-02-06T17:06:41.203Z"
   },
   {
    "duration": 19,
    "start_time": "2022-02-06T17:06:41.272Z"
   },
   {
    "duration": 689,
    "start_time": "2022-02-06T17:06:41.294Z"
   },
   {
    "duration": 712,
    "start_time": "2022-02-06T17:06:41.986Z"
   },
   {
    "duration": 7180,
    "start_time": "2022-02-06T17:06:42.700Z"
   },
   {
    "duration": 23,
    "start_time": "2022-02-06T17:06:49.883Z"
   },
   {
    "duration": 23,
    "start_time": "2022-02-06T17:06:49.908Z"
   },
   {
    "duration": 11,
    "start_time": "2022-02-06T17:06:49.948Z"
   },
   {
    "duration": 10,
    "start_time": "2022-02-06T17:06:49.962Z"
   },
   {
    "duration": 22,
    "start_time": "2022-02-06T17:06:49.974Z"
   },
   {
    "duration": 62,
    "start_time": "2022-02-06T17:06:49.998Z"
   },
   {
    "duration": 23,
    "start_time": "2022-02-06T17:06:50.063Z"
   },
   {
    "duration": 17,
    "start_time": "2022-02-06T17:06:50.088Z"
   },
   {
    "duration": 43,
    "start_time": "2022-02-06T17:06:50.108Z"
   },
   {
    "duration": 24,
    "start_time": "2022-02-06T17:06:50.154Z"
   },
   {
    "duration": 9,
    "start_time": "2022-02-06T17:07:27.629Z"
   },
   {
    "duration": 12,
    "start_time": "2022-02-06T17:07:30.989Z"
   },
   {
    "duration": 12,
    "start_time": "2022-02-06T17:07:33.352Z"
   },
   {
    "duration": 10,
    "start_time": "2022-02-06T17:07:42.433Z"
   },
   {
    "duration": 13,
    "start_time": "2022-02-06T17:07:45.366Z"
   },
   {
    "duration": 12,
    "start_time": "2022-02-06T17:07:47.871Z"
   },
   {
    "duration": 8,
    "start_time": "2022-02-06T17:08:03.734Z"
   },
   {
    "duration": 87,
    "start_time": "2022-02-06T17:09:31.657Z"
   },
   {
    "duration": 14,
    "start_time": "2022-02-06T17:09:42.829Z"
   },
   {
    "duration": 13,
    "start_time": "2022-02-06T17:09:52.587Z"
   },
   {
    "duration": 17,
    "start_time": "2022-02-06T17:10:46.641Z"
   },
   {
    "duration": 15,
    "start_time": "2022-02-06T17:11:19.132Z"
   },
   {
    "duration": 1481,
    "start_time": "2022-02-06T17:11:38.111Z"
   },
   {
    "duration": 14,
    "start_time": "2022-02-06T17:11:39.595Z"
   },
   {
    "duration": 12,
    "start_time": "2022-02-06T17:11:39.612Z"
   },
   {
    "duration": 4,
    "start_time": "2022-02-06T17:11:39.649Z"
   },
   {
    "duration": 10,
    "start_time": "2022-02-06T17:11:39.656Z"
   },
   {
    "duration": 10,
    "start_time": "2022-02-06T17:11:39.668Z"
   },
   {
    "duration": 6,
    "start_time": "2022-02-06T17:11:39.680Z"
   },
   {
    "duration": 7,
    "start_time": "2022-02-06T17:11:39.690Z"
   },
   {
    "duration": 68,
    "start_time": "2022-02-06T17:11:39.699Z"
   },
   {
    "duration": 14,
    "start_time": "2022-02-06T17:11:39.770Z"
   },
   {
    "duration": 8,
    "start_time": "2022-02-06T17:11:39.787Z"
   },
   {
    "duration": 25,
    "start_time": "2022-02-06T17:11:39.797Z"
   },
   {
    "duration": 362,
    "start_time": "2022-02-06T17:11:39.824Z"
   },
   {
    "duration": 22,
    "start_time": "2022-02-06T17:11:40.189Z"
   },
   {
    "duration": 46,
    "start_time": "2022-02-06T17:11:40.213Z"
   },
   {
    "duration": 33,
    "start_time": "2022-02-06T17:11:40.262Z"
   },
   {
    "duration": 19,
    "start_time": "2022-02-06T17:11:40.297Z"
   },
   {
    "duration": 670,
    "start_time": "2022-02-06T17:11:40.319Z"
   },
   {
    "duration": 699,
    "start_time": "2022-02-06T17:11:40.991Z"
   },
   {
    "duration": 7049,
    "start_time": "2022-02-06T17:11:41.693Z"
   },
   {
    "duration": 25,
    "start_time": "2022-02-06T17:11:48.745Z"
   },
   {
    "duration": 9,
    "start_time": "2022-02-06T17:11:48.772Z"
   },
   {
    "duration": 10,
    "start_time": "2022-02-06T17:11:48.786Z"
   },
   {
    "duration": 52,
    "start_time": "2022-02-06T17:11:48.798Z"
   },
   {
    "duration": 26,
    "start_time": "2022-02-06T17:11:48.853Z"
   },
   {
    "duration": 34,
    "start_time": "2022-02-06T17:11:48.881Z"
   },
   {
    "duration": 49,
    "start_time": "2022-02-06T17:11:48.918Z"
   },
   {
    "duration": 23,
    "start_time": "2022-02-06T17:11:48.970Z"
   },
   {
    "duration": 19,
    "start_time": "2022-02-06T17:11:48.995Z"
   },
   {
    "duration": 42,
    "start_time": "2022-02-06T17:11:49.017Z"
   },
   {
    "duration": 71,
    "start_time": "2022-02-06T17:38:48.726Z"
   },
   {
    "duration": 425,
    "start_time": "2022-02-07T12:16:40.926Z"
   },
   {
    "duration": 1164,
    "start_time": "2022-02-07T12:16:47.700Z"
   },
   {
    "duration": 9,
    "start_time": "2022-02-07T12:16:48.865Z"
   },
   {
    "duration": 11,
    "start_time": "2022-02-07T12:16:48.876Z"
   },
   {
    "duration": 4,
    "start_time": "2022-02-07T12:16:48.889Z"
   },
   {
    "duration": 11,
    "start_time": "2022-02-07T12:16:48.894Z"
   },
   {
    "duration": 9,
    "start_time": "2022-02-07T12:16:48.906Z"
   },
   {
    "duration": 9,
    "start_time": "2022-02-07T12:16:48.917Z"
   },
   {
    "duration": 4,
    "start_time": "2022-02-07T12:16:48.929Z"
   },
   {
    "duration": 24,
    "start_time": "2022-02-07T12:16:48.935Z"
   },
   {
    "duration": 24,
    "start_time": "2022-02-07T12:16:48.960Z"
   },
   {
    "duration": 13,
    "start_time": "2022-02-07T12:16:48.985Z"
   },
   {
    "duration": 5,
    "start_time": "2022-02-07T12:16:49.000Z"
   },
   {
    "duration": 14,
    "start_time": "2022-02-07T12:16:49.007Z"
   },
   {
    "duration": 218,
    "start_time": "2022-02-07T12:16:49.023Z"
   },
   {
    "duration": 22,
    "start_time": "2022-02-07T12:16:49.243Z"
   },
   {
    "duration": 15,
    "start_time": "2022-02-07T12:16:49.267Z"
   },
   {
    "duration": 21,
    "start_time": "2022-02-07T12:16:49.283Z"
   },
   {
    "duration": 13,
    "start_time": "2022-02-07T12:16:49.305Z"
   },
   {
    "duration": 427,
    "start_time": "2022-02-07T12:16:49.320Z"
   },
   {
    "duration": 442,
    "start_time": "2022-02-07T12:16:49.749Z"
   },
   {
    "duration": 4534,
    "start_time": "2022-02-07T12:16:50.192Z"
   },
   {
    "duration": 16,
    "start_time": "2022-02-07T12:16:54.728Z"
   },
   {
    "duration": 6,
    "start_time": "2022-02-07T12:16:54.759Z"
   },
   {
    "duration": 10,
    "start_time": "2022-02-07T12:16:54.767Z"
   },
   {
    "duration": 8,
    "start_time": "2022-02-07T12:16:54.778Z"
   },
   {
    "duration": 20,
    "start_time": "2022-02-07T12:16:54.788Z"
   },
   {
    "duration": 15,
    "start_time": "2022-02-07T12:16:54.809Z"
   },
   {
    "duration": 41,
    "start_time": "2022-02-07T12:16:54.825Z"
   },
   {
    "duration": 13,
    "start_time": "2022-02-07T12:16:54.868Z"
   },
   {
    "duration": 10,
    "start_time": "2022-02-07T12:16:54.882Z"
   },
   {
    "duration": 11,
    "start_time": "2022-02-07T12:16:54.893Z"
   },
   {
    "duration": 6,
    "start_time": "2022-02-07T12:17:12.412Z"
   },
   {
    "duration": 10,
    "start_time": "2022-02-07T12:18:19.590Z"
   },
   {
    "duration": 1124,
    "start_time": "2022-02-07T12:18:25.734Z"
   },
   {
    "duration": 10,
    "start_time": "2022-02-07T12:18:26.860Z"
   },
   {
    "duration": 9,
    "start_time": "2022-02-07T12:18:26.873Z"
   },
   {
    "duration": 7,
    "start_time": "2022-02-07T12:18:26.884Z"
   },
   {
    "duration": 38,
    "start_time": "2022-02-07T12:18:26.892Z"
   },
   {
    "duration": 23,
    "start_time": "2022-02-07T12:18:26.932Z"
   },
   {
    "duration": 25,
    "start_time": "2022-02-07T12:18:26.956Z"
   },
   {
    "duration": 7,
    "start_time": "2022-02-07T12:18:26.984Z"
   },
   {
    "duration": 27,
    "start_time": "2022-02-07T12:18:26.993Z"
   },
   {
    "duration": 62,
    "start_time": "2022-02-07T12:18:27.022Z"
   },
   {
    "duration": 15,
    "start_time": "2022-02-07T12:18:27.086Z"
   },
   {
    "duration": 29,
    "start_time": "2022-02-07T12:18:27.103Z"
   },
   {
    "duration": 29,
    "start_time": "2022-02-07T12:18:27.134Z"
   },
   {
    "duration": 244,
    "start_time": "2022-02-07T12:18:27.165Z"
   },
   {
    "duration": 14,
    "start_time": "2022-02-07T12:18:27.410Z"
   },
   {
    "duration": 27,
    "start_time": "2022-02-07T12:18:27.426Z"
   },
   {
    "duration": 22,
    "start_time": "2022-02-07T12:18:27.454Z"
   },
   {
    "duration": 20,
    "start_time": "2022-02-07T12:18:27.477Z"
   },
   {
    "duration": 401,
    "start_time": "2022-02-07T12:18:27.499Z"
   },
   {
    "duration": 428,
    "start_time": "2022-02-07T12:18:27.901Z"
   },
   {
    "duration": 4504,
    "start_time": "2022-02-07T12:18:28.330Z"
   },
   {
    "duration": 15,
    "start_time": "2022-02-07T12:18:32.835Z"
   },
   {
    "duration": 7,
    "start_time": "2022-02-07T12:18:32.860Z"
   },
   {
    "duration": 8,
    "start_time": "2022-02-07T12:18:32.868Z"
   },
   {
    "duration": 7,
    "start_time": "2022-02-07T12:18:32.878Z"
   },
   {
    "duration": 13,
    "start_time": "2022-02-07T12:18:32.887Z"
   },
   {
    "duration": 16,
    "start_time": "2022-02-07T12:18:32.901Z"
   },
   {
    "duration": 45,
    "start_time": "2022-02-07T12:18:32.919Z"
   },
   {
    "duration": 13,
    "start_time": "2022-02-07T12:18:32.966Z"
   },
   {
    "duration": 10,
    "start_time": "2022-02-07T12:18:32.981Z"
   },
   {
    "duration": 13,
    "start_time": "2022-02-07T12:18:32.993Z"
   },
   {
    "duration": 42,
    "start_time": "2022-02-07T12:26:10.858Z"
   },
   {
    "duration": 212,
    "start_time": "2022-02-07T13:28:52.019Z"
   },
   {
    "duration": 8,
    "start_time": "2022-02-07T13:28:58.429Z"
   },
   {
    "duration": 1168,
    "start_time": "2022-02-07T14:17:18.039Z"
   },
   {
    "duration": 9,
    "start_time": "2022-02-07T14:17:19.209Z"
   },
   {
    "duration": 18,
    "start_time": "2022-02-07T14:17:19.220Z"
   },
   {
    "duration": 19,
    "start_time": "2022-02-07T14:17:19.240Z"
   },
   {
    "duration": 16,
    "start_time": "2022-02-07T14:17:19.260Z"
   },
   {
    "duration": 32,
    "start_time": "2022-02-07T14:17:19.278Z"
   },
   {
    "duration": 27,
    "start_time": "2022-02-07T14:17:19.312Z"
   },
   {
    "duration": 20,
    "start_time": "2022-02-07T14:17:19.342Z"
   },
   {
    "duration": 19,
    "start_time": "2022-02-07T14:17:19.364Z"
   },
   {
    "duration": 34,
    "start_time": "2022-02-07T14:17:19.385Z"
   },
   {
    "duration": 14,
    "start_time": "2022-02-07T14:17:19.420Z"
   },
   {
    "duration": 5,
    "start_time": "2022-02-07T14:17:19.435Z"
   },
   {
    "duration": 25,
    "start_time": "2022-02-07T14:17:19.442Z"
   },
   {
    "duration": 216,
    "start_time": "2022-02-07T14:17:19.469Z"
   },
   {
    "duration": 14,
    "start_time": "2022-02-07T14:17:19.687Z"
   },
   {
    "duration": 15,
    "start_time": "2022-02-07T14:17:19.703Z"
   },
   {
    "duration": 40,
    "start_time": "2022-02-07T14:17:19.720Z"
   },
   {
    "duration": 12,
    "start_time": "2022-02-07T14:17:19.762Z"
   },
   {
    "duration": 421,
    "start_time": "2022-02-07T14:17:19.775Z"
   },
   {
    "duration": 446,
    "start_time": "2022-02-07T14:17:20.198Z"
   },
   {
    "duration": 4615,
    "start_time": "2022-02-07T14:17:20.646Z"
   },
   {
    "duration": 14,
    "start_time": "2022-02-07T14:17:25.263Z"
   },
   {
    "duration": 7,
    "start_time": "2022-02-07T14:17:25.280Z"
   },
   {
    "duration": 6,
    "start_time": "2022-02-07T14:17:25.289Z"
   },
   {
    "duration": 6,
    "start_time": "2022-02-07T14:17:25.296Z"
   },
   {
    "duration": 16,
    "start_time": "2022-02-07T14:17:25.303Z"
   },
   {
    "duration": 45,
    "start_time": "2022-02-07T14:17:25.321Z"
   },
   {
    "duration": 18,
    "start_time": "2022-02-07T14:17:25.368Z"
   },
   {
    "duration": 13,
    "start_time": "2022-02-07T14:17:25.388Z"
   },
   {
    "duration": 10,
    "start_time": "2022-02-07T14:17:25.403Z"
   },
   {
    "duration": 10,
    "start_time": "2022-02-07T14:17:25.415Z"
   },
   {
    "duration": 1194,
    "start_time": "2022-02-13T10:14:46.816Z"
   },
   {
    "duration": 11,
    "start_time": "2022-02-13T10:14:48.011Z"
   },
   {
    "duration": 10,
    "start_time": "2022-02-13T10:14:48.025Z"
   },
   {
    "duration": 5,
    "start_time": "2022-02-13T10:14:48.036Z"
   },
   {
    "duration": 12,
    "start_time": "2022-02-13T10:14:48.042Z"
   },
   {
    "duration": 4,
    "start_time": "2022-02-13T10:14:48.055Z"
   },
   {
    "duration": 7,
    "start_time": "2022-02-13T10:14:48.061Z"
   },
   {
    "duration": 6,
    "start_time": "2022-02-13T10:14:48.070Z"
   },
   {
    "duration": 35,
    "start_time": "2022-02-13T10:14:48.078Z"
   },
   {
    "duration": 18,
    "start_time": "2022-02-13T10:14:48.115Z"
   },
   {
    "duration": 10,
    "start_time": "2022-02-13T10:14:48.135Z"
   },
   {
    "duration": 5,
    "start_time": "2022-02-13T10:14:48.147Z"
   },
   {
    "duration": 14,
    "start_time": "2022-02-13T10:14:48.153Z"
   },
   {
    "duration": 255,
    "start_time": "2022-02-13T10:14:48.168Z"
   },
   {
    "duration": 15,
    "start_time": "2022-02-13T10:14:48.425Z"
   },
   {
    "duration": 16,
    "start_time": "2022-02-13T10:14:48.441Z"
   },
   {
    "duration": 21,
    "start_time": "2022-02-13T10:14:48.459Z"
   },
   {
    "duration": 42,
    "start_time": "2022-02-13T10:14:48.481Z"
   },
   {
    "duration": 444,
    "start_time": "2022-02-13T10:14:48.524Z"
   },
   {
    "duration": 467,
    "start_time": "2022-02-13T10:14:48.969Z"
   },
   {
    "duration": 4807,
    "start_time": "2022-02-13T10:14:49.438Z"
   },
   {
    "duration": 15,
    "start_time": "2022-02-13T10:14:54.247Z"
   },
   {
    "duration": 6,
    "start_time": "2022-02-13T10:14:54.265Z"
   },
   {
    "duration": 7,
    "start_time": "2022-02-13T10:14:54.272Z"
   },
   {
    "duration": 31,
    "start_time": "2022-02-13T10:14:54.281Z"
   },
   {
    "duration": 16,
    "start_time": "2022-02-13T10:14:54.314Z"
   },
   {
    "duration": 17,
    "start_time": "2022-02-13T10:14:54.331Z"
   },
   {
    "duration": 15,
    "start_time": "2022-02-13T10:14:54.350Z"
   },
   {
    "duration": 49,
    "start_time": "2022-02-13T10:14:54.367Z"
   },
   {
    "duration": 9,
    "start_time": "2022-02-13T10:14:54.418Z"
   },
   {
    "duration": 10,
    "start_time": "2022-02-13T10:14:54.429Z"
   },
   {
    "duration": 1195,
    "start_time": "2022-02-13T10:59:16.533Z"
   },
   {
    "duration": 10,
    "start_time": "2022-02-13T10:59:17.730Z"
   },
   {
    "duration": 8,
    "start_time": "2022-02-13T10:59:17.742Z"
   },
   {
    "duration": 2,
    "start_time": "2022-02-13T10:59:17.752Z"
   },
   {
    "duration": 14,
    "start_time": "2022-02-13T10:59:17.756Z"
   },
   {
    "duration": 9,
    "start_time": "2022-02-13T10:59:17.772Z"
   },
   {
    "duration": 11,
    "start_time": "2022-02-13T10:59:17.782Z"
   },
   {
    "duration": 21,
    "start_time": "2022-02-13T10:59:17.794Z"
   },
   {
    "duration": 4,
    "start_time": "2022-02-13T10:59:17.818Z"
   },
   {
    "duration": 20,
    "start_time": "2022-02-13T10:59:17.824Z"
   },
   {
    "duration": 10,
    "start_time": "2022-02-13T10:59:17.846Z"
   },
   {
    "duration": 7,
    "start_time": "2022-02-13T10:59:17.857Z"
   },
   {
    "duration": 13,
    "start_time": "2022-02-13T10:59:17.866Z"
   },
   {
    "duration": 279,
    "start_time": "2022-02-13T10:59:17.881Z"
   },
   {
    "duration": 16,
    "start_time": "2022-02-13T10:59:18.162Z"
   },
   {
    "duration": 33,
    "start_time": "2022-02-13T10:59:18.180Z"
   },
   {
    "duration": 23,
    "start_time": "2022-02-13T10:59:18.215Z"
   },
   {
    "duration": 14,
    "start_time": "2022-02-13T10:59:18.239Z"
   },
   {
    "duration": 461,
    "start_time": "2022-02-13T10:59:18.254Z"
   },
   {
    "duration": 466,
    "start_time": "2022-02-13T10:59:18.717Z"
   },
   {
    "duration": 4815,
    "start_time": "2022-02-13T10:59:19.185Z"
   },
   {
    "duration": 21,
    "start_time": "2022-02-13T10:59:24.003Z"
   },
   {
    "duration": 7,
    "start_time": "2022-02-13T10:59:24.026Z"
   },
   {
    "duration": 6,
    "start_time": "2022-02-13T10:59:24.035Z"
   },
   {
    "duration": 16,
    "start_time": "2022-02-13T10:59:24.042Z"
   },
   {
    "duration": 15,
    "start_time": "2022-02-13T10:59:24.060Z"
   },
   {
    "duration": 46,
    "start_time": "2022-02-13T10:59:24.078Z"
   },
   {
    "duration": 17,
    "start_time": "2022-02-13T10:59:24.125Z"
   },
   {
    "duration": 13,
    "start_time": "2022-02-13T10:59:24.143Z"
   },
   {
    "duration": 10,
    "start_time": "2022-02-13T10:59:24.157Z"
   },
   {
    "duration": 13,
    "start_time": "2022-02-13T10:59:24.169Z"
   },
   {
    "duration": 1143,
    "start_time": "2022-02-13T12:59:14.923Z"
   },
   {
    "duration": 49,
    "start_time": "2022-02-13T12:59:16.777Z"
   },
   {
    "duration": 321,
    "start_time": "2022-02-13T13:01:39.115Z"
   },
   {
    "duration": 1098,
    "start_time": "2022-02-13T13:01:51.205Z"
   },
   {
    "duration": 52,
    "start_time": "2022-02-13T13:01:52.305Z"
   },
   {
    "duration": 10,
    "start_time": "2022-02-13T13:01:52.359Z"
   },
   {
    "duration": 9,
    "start_time": "2022-02-13T13:01:52.371Z"
   },
   {
    "duration": 3,
    "start_time": "2022-02-13T13:01:52.382Z"
   },
   {
    "duration": 27,
    "start_time": "2022-02-13T13:01:52.386Z"
   },
   {
    "duration": 5,
    "start_time": "2022-02-13T13:01:52.415Z"
   },
   {
    "duration": 11,
    "start_time": "2022-02-13T13:01:52.422Z"
   },
   {
    "duration": 6,
    "start_time": "2022-02-13T13:01:52.435Z"
   },
   {
    "duration": 8,
    "start_time": "2022-02-13T13:01:52.442Z"
   },
   {
    "duration": 21,
    "start_time": "2022-02-13T13:01:52.452Z"
   },
   {
    "duration": 9,
    "start_time": "2022-02-13T13:01:52.475Z"
   },
   {
    "duration": 6,
    "start_time": "2022-02-13T13:01:52.513Z"
   },
   {
    "duration": 24,
    "start_time": "2022-02-13T13:01:52.521Z"
   },
   {
    "duration": 235,
    "start_time": "2022-02-13T13:01:52.547Z"
   },
   {
    "duration": 268,
    "start_time": "2022-02-13T13:01:52.784Z"
   },
   {
    "duration": 15,
    "start_time": "2022-02-13T13:01:53.054Z"
   },
   {
    "duration": 675,
    "start_time": "2022-02-13T13:01:53.071Z"
   },
   {
    "duration": 12,
    "start_time": "2022-02-13T13:01:53.747Z"
   },
   {
    "duration": 411,
    "start_time": "2022-02-13T13:01:53.761Z"
   },
   {
    "duration": 504,
    "start_time": "2022-02-13T13:01:54.173Z"
   },
   {
    "duration": 4770,
    "start_time": "2022-02-13T13:01:54.679Z"
   },
   {
    "duration": 16,
    "start_time": "2022-02-13T13:01:59.452Z"
   },
   {
    "duration": 47,
    "start_time": "2022-02-13T13:01:59.469Z"
   },
   {
    "duration": 7,
    "start_time": "2022-02-13T13:01:59.518Z"
   },
   {
    "duration": 7,
    "start_time": "2022-02-13T13:01:59.526Z"
   },
   {
    "duration": 15,
    "start_time": "2022-02-13T13:01:59.535Z"
   },
   {
    "duration": 15,
    "start_time": "2022-02-13T13:01:59.552Z"
   },
   {
    "duration": 54,
    "start_time": "2022-02-13T13:01:59.569Z"
   },
   {
    "duration": 14,
    "start_time": "2022-02-13T13:01:59.625Z"
   },
   {
    "duration": 10,
    "start_time": "2022-02-13T13:01:59.641Z"
   },
   {
    "duration": 11,
    "start_time": "2022-02-13T13:01:59.653Z"
   },
   {
    "duration": 329,
    "start_time": "2022-02-13T13:03:25.930Z"
   },
   {
    "duration": 670,
    "start_time": "2022-02-13T13:03:45.097Z"
   },
   {
    "duration": 246,
    "start_time": "2022-02-13T13:04:16.852Z"
   },
   {
    "duration": 657,
    "start_time": "2022-02-13T13:04:47.766Z"
   },
   {
    "duration": 705,
    "start_time": "2022-02-13T13:05:22.339Z"
   },
   {
    "duration": 230,
    "start_time": "2022-02-13T13:05:40.121Z"
   },
   {
    "duration": 237,
    "start_time": "2022-02-13T13:07:13.261Z"
   },
   {
    "duration": 790,
    "start_time": "2022-02-13T13:07:32.372Z"
   },
   {
    "duration": 1116,
    "start_time": "2022-02-13T13:07:42.670Z"
   },
   {
    "duration": 224,
    "start_time": "2022-02-13T13:11:14.277Z"
   },
   {
    "duration": 249,
    "start_time": "2022-02-13T13:11:37.139Z"
   },
   {
    "duration": 419,
    "start_time": "2022-02-13T13:13:31.760Z"
   },
   {
    "duration": 72,
    "start_time": "2022-02-13T13:15:43.635Z"
   },
   {
    "duration": 73,
    "start_time": "2022-02-13T13:16:01.717Z"
   },
   {
    "duration": 559,
    "start_time": "2022-02-13T13:16:16.738Z"
   },
   {
    "duration": 6208,
    "start_time": "2022-02-13T13:16:34.122Z"
   },
   {
    "duration": 652,
    "start_time": "2022-02-13T13:20:56.214Z"
   },
   {
    "duration": 636,
    "start_time": "2022-02-13T13:21:02.323Z"
   },
   {
    "duration": 420,
    "start_time": "2022-02-13T13:21:06.420Z"
   },
   {
    "duration": 425,
    "start_time": "2022-02-13T13:21:16.345Z"
   },
   {
    "duration": 382,
    "start_time": "2022-02-13T13:21:45.575Z"
   },
   {
    "duration": 500,
    "start_time": "2022-02-13T13:21:52.204Z"
   },
   {
    "duration": 316,
    "start_time": "2022-02-13T13:22:43.077Z"
   },
   {
    "duration": 315,
    "start_time": "2022-02-13T13:23:07.847Z"
   },
   {
    "duration": 323,
    "start_time": "2022-02-13T13:23:18.952Z"
   },
   {
    "duration": 457,
    "start_time": "2022-02-13T13:23:36.846Z"
   },
   {
    "duration": 415,
    "start_time": "2022-02-13T13:23:43.936Z"
   },
   {
    "duration": 394,
    "start_time": "2022-02-13T13:23:51.337Z"
   },
   {
    "duration": 414,
    "start_time": "2022-02-13T13:23:58.136Z"
   },
   {
    "duration": 612,
    "start_time": "2022-02-13T13:25:26.203Z"
   },
   {
    "duration": 723,
    "start_time": "2022-02-13T13:25:50.069Z"
   },
   {
    "duration": 699,
    "start_time": "2022-02-13T13:26:56.769Z"
   },
   {
    "duration": 761,
    "start_time": "2022-02-13T13:27:03.518Z"
   },
   {
    "duration": 770,
    "start_time": "2022-02-13T13:27:10.857Z"
   },
   {
    "duration": 181,
    "start_time": "2022-02-13T16:05:19.653Z"
   },
   {
    "duration": 127,
    "start_time": "2022-02-13T16:05:52.407Z"
   },
   {
    "duration": 201,
    "start_time": "2022-02-13T16:06:27.996Z"
   },
   {
    "duration": 1080,
    "start_time": "2022-02-13T16:06:46.655Z"
   },
   {
    "duration": 46,
    "start_time": "2022-02-13T16:06:47.736Z"
   },
   {
    "duration": 9,
    "start_time": "2022-02-13T16:06:47.784Z"
   },
   {
    "duration": 7,
    "start_time": "2022-02-13T16:06:47.795Z"
   },
   {
    "duration": 3,
    "start_time": "2022-02-13T16:06:47.804Z"
   },
   {
    "duration": 11,
    "start_time": "2022-02-13T16:06:47.809Z"
   },
   {
    "duration": 5,
    "start_time": "2022-02-13T16:06:47.821Z"
   },
   {
    "duration": 37,
    "start_time": "2022-02-13T16:06:47.828Z"
   },
   {
    "duration": 4,
    "start_time": "2022-02-13T16:06:47.867Z"
   },
   {
    "duration": 4,
    "start_time": "2022-02-13T16:06:47.873Z"
   },
   {
    "duration": 20,
    "start_time": "2022-02-13T16:06:47.879Z"
   },
   {
    "duration": 10,
    "start_time": "2022-02-13T16:06:47.901Z"
   },
   {
    "duration": 5,
    "start_time": "2022-02-13T16:06:47.913Z"
   },
   {
    "duration": 49,
    "start_time": "2022-02-13T16:06:47.920Z"
   },
   {
    "duration": 221,
    "start_time": "2022-02-13T16:06:47.971Z"
   },
   {
    "duration": 366,
    "start_time": "2022-02-13T16:06:48.194Z"
   },
   {
    "duration": 15,
    "start_time": "2022-02-13T16:06:48.562Z"
   },
   {
    "duration": 681,
    "start_time": "2022-02-13T16:06:48.579Z"
   },
   {
    "duration": 22,
    "start_time": "2022-02-13T16:06:49.261Z"
   },
   {
    "duration": 12,
    "start_time": "2022-02-13T16:06:49.285Z"
   },
   {
    "duration": 452,
    "start_time": "2022-02-13T16:06:49.299Z"
   },
   {
    "duration": 526,
    "start_time": "2022-02-13T16:06:49.753Z"
   },
   {
    "duration": 4624,
    "start_time": "2022-02-13T16:06:50.282Z"
   },
   {
    "duration": 15,
    "start_time": "2022-02-13T16:06:54.908Z"
   },
   {
    "duration": 11,
    "start_time": "2022-02-13T16:06:54.924Z"
   },
   {
    "duration": 27,
    "start_time": "2022-02-13T16:06:54.937Z"
   },
   {
    "duration": 9,
    "start_time": "2022-02-13T16:06:54.967Z"
   },
   {
    "duration": 17,
    "start_time": "2022-02-13T16:06:54.977Z"
   },
   {
    "duration": 13,
    "start_time": "2022-02-13T16:06:54.995Z"
   },
   {
    "duration": 14,
    "start_time": "2022-02-13T16:06:55.010Z"
   },
   {
    "duration": 42,
    "start_time": "2022-02-13T16:06:55.025Z"
   },
   {
    "duration": 9,
    "start_time": "2022-02-13T16:06:55.069Z"
   },
   {
    "duration": 11,
    "start_time": "2022-02-13T16:06:55.080Z"
   },
   {
    "duration": 1177,
    "start_time": "2022-02-13T16:38:31.454Z"
   },
   {
    "duration": 52,
    "start_time": "2022-02-13T16:38:32.633Z"
   },
   {
    "duration": 10,
    "start_time": "2022-02-13T16:38:32.687Z"
   },
   {
    "duration": 14,
    "start_time": "2022-02-13T16:38:32.699Z"
   },
   {
    "duration": 12,
    "start_time": "2022-02-13T16:38:32.715Z"
   },
   {
    "duration": 15,
    "start_time": "2022-02-13T16:38:32.729Z"
   },
   {
    "duration": 4,
    "start_time": "2022-02-13T16:38:32.760Z"
   },
   {
    "duration": 11,
    "start_time": "2022-02-13T16:38:32.767Z"
   },
   {
    "duration": 6,
    "start_time": "2022-02-13T16:38:32.780Z"
   },
   {
    "duration": 9,
    "start_time": "2022-02-13T16:38:32.788Z"
   },
   {
    "duration": 21,
    "start_time": "2022-02-13T16:38:32.799Z"
   },
   {
    "duration": 11,
    "start_time": "2022-02-13T16:38:32.822Z"
   },
   {
    "duration": 7,
    "start_time": "2022-02-13T16:38:32.860Z"
   },
   {
    "duration": 15,
    "start_time": "2022-02-13T16:38:32.868Z"
   },
   {
    "duration": 242,
    "start_time": "2022-02-13T16:38:32.885Z"
   },
   {
    "duration": 363,
    "start_time": "2022-02-13T16:38:33.128Z"
   },
   {
    "duration": 16,
    "start_time": "2022-02-13T16:38:33.493Z"
   },
   {
    "duration": 711,
    "start_time": "2022-02-13T16:38:33.510Z"
   },
   {
    "duration": 49,
    "start_time": "2022-02-13T16:38:34.223Z"
   },
   {
    "duration": 18,
    "start_time": "2022-02-13T16:38:34.274Z"
   },
   {
    "duration": 409,
    "start_time": "2022-02-13T16:38:34.294Z"
   },
   {
    "duration": 506,
    "start_time": "2022-02-13T16:38:34.704Z"
   },
   {
    "duration": 4300,
    "start_time": "2022-02-13T16:38:35.214Z"
   },
   {
    "duration": 13,
    "start_time": "2022-02-13T16:38:39.516Z"
   },
   {
    "duration": 9,
    "start_time": "2022-02-13T16:38:39.531Z"
   },
   {
    "duration": 22,
    "start_time": "2022-02-13T16:38:39.542Z"
   },
   {
    "duration": 10,
    "start_time": "2022-02-13T16:38:39.566Z"
   },
   {
    "duration": 13,
    "start_time": "2022-02-13T16:38:39.577Z"
   },
   {
    "duration": 14,
    "start_time": "2022-02-13T16:38:39.591Z"
   },
   {
    "duration": 14,
    "start_time": "2022-02-13T16:38:39.606Z"
   },
   {
    "duration": 43,
    "start_time": "2022-02-13T16:38:39.622Z"
   },
   {
    "duration": 9,
    "start_time": "2022-02-13T16:38:39.666Z"
   },
   {
    "duration": 9,
    "start_time": "2022-02-13T16:38:39.676Z"
   },
   {
    "duration": 352,
    "start_time": "2022-02-13T16:40:40.932Z"
   },
   {
    "duration": 234,
    "start_time": "2022-02-13T16:40:46.584Z"
   },
   {
    "duration": 351,
    "start_time": "2022-02-13T16:40:50.707Z"
   },
   {
    "duration": 357,
    "start_time": "2022-02-13T16:41:12.901Z"
   },
   {
    "duration": 530,
    "start_time": "2022-02-13T16:45:58.373Z"
   },
   {
    "duration": 157,
    "start_time": "2022-02-13T16:48:02.971Z"
   },
   {
    "duration": 500,
    "start_time": "2022-02-13T16:48:26.963Z"
   },
   {
    "duration": 108,
    "start_time": "2022-02-13T16:48:43.950Z"
   },
   {
    "duration": 254,
    "start_time": "2022-02-13T16:49:18.668Z"
   },
   {
    "duration": 256,
    "start_time": "2022-02-13T16:49:22.264Z"
   },
   {
    "duration": 107,
    "start_time": "2022-02-13T16:49:54.121Z"
   },
   {
    "duration": 139,
    "start_time": "2022-02-13T16:55:24.343Z"
   },
   {
    "duration": 574,
    "start_time": "2022-02-13T16:55:40.101Z"
   },
   {
    "duration": 488,
    "start_time": "2022-02-13T16:55:53.474Z"
   },
   {
    "duration": 196,
    "start_time": "2022-02-13T17:01:14.991Z"
   },
   {
    "duration": 351,
    "start_time": "2022-02-13T17:01:23.480Z"
   },
   {
    "duration": 345,
    "start_time": "2022-02-13T17:01:38.611Z"
   },
   {
    "duration": 387,
    "start_time": "2022-02-13T17:01:47.773Z"
   },
   {
    "duration": 387,
    "start_time": "2022-02-13T17:02:01.617Z"
   },
   {
    "duration": 170,
    "start_time": "2022-02-13T17:02:49.152Z"
   },
   {
    "duration": 172,
    "start_time": "2022-02-13T17:03:30.964Z"
   },
   {
    "duration": 245,
    "start_time": "2022-02-13T17:04:48.395Z"
   },
   {
    "duration": 155,
    "start_time": "2022-02-13T17:04:56.868Z"
   },
   {
    "duration": 156,
    "start_time": "2022-02-13T17:05:02.775Z"
   },
   {
    "duration": 156,
    "start_time": "2022-02-13T17:05:07.919Z"
   },
   {
    "duration": 152,
    "start_time": "2022-02-13T17:05:18.761Z"
   },
   {
    "duration": 359,
    "start_time": "2022-02-13T17:05:44.095Z"
   },
   {
    "duration": 335,
    "start_time": "2022-02-13T17:06:08.985Z"
   },
   {
    "duration": 277,
    "start_time": "2022-02-13T17:11:17.331Z"
   },
   {
    "duration": 1564,
    "start_time": "2022-02-13T17:11:24.055Z"
   },
   {
    "duration": 78,
    "start_time": "2022-02-13T17:11:25.622Z"
   },
   {
    "duration": 15,
    "start_time": "2022-02-13T17:11:25.703Z"
   },
   {
    "duration": 15,
    "start_time": "2022-02-13T17:11:25.721Z"
   },
   {
    "duration": 4,
    "start_time": "2022-02-13T17:11:25.738Z"
   },
   {
    "duration": 13,
    "start_time": "2022-02-13T17:11:25.744Z"
   },
   {
    "duration": 7,
    "start_time": "2022-02-13T17:11:25.759Z"
   },
   {
    "duration": 41,
    "start_time": "2022-02-13T17:11:25.769Z"
   },
   {
    "duration": 5,
    "start_time": "2022-02-13T17:11:25.812Z"
   },
   {
    "duration": 7,
    "start_time": "2022-02-13T17:11:25.819Z"
   },
   {
    "duration": 24,
    "start_time": "2022-02-13T17:11:25.828Z"
   },
   {
    "duration": 13,
    "start_time": "2022-02-13T17:11:25.854Z"
   },
   {
    "duration": 6,
    "start_time": "2022-02-13T17:11:25.868Z"
   },
   {
    "duration": 52,
    "start_time": "2022-02-13T17:11:25.876Z"
   },
   {
    "duration": 247,
    "start_time": "2022-02-13T17:11:25.930Z"
   },
   {
    "duration": 397,
    "start_time": "2022-02-13T17:11:26.179Z"
   },
   {
    "duration": 30,
    "start_time": "2022-02-13T17:11:26.578Z"
   },
   {
    "duration": 738,
    "start_time": "2022-02-13T17:11:26.610Z"
   },
   {
    "duration": 22,
    "start_time": "2022-02-13T17:11:27.350Z"
   },
   {
    "duration": 35,
    "start_time": "2022-02-13T17:11:27.374Z"
   },
   {
    "duration": 416,
    "start_time": "2022-02-13T17:11:27.411Z"
   },
   {
    "duration": 752,
    "start_time": "2022-02-13T17:11:27.829Z"
   },
   {
    "duration": 6953,
    "start_time": "2022-02-13T17:11:28.586Z"
   },
   {
    "duration": 207,
    "start_time": "2022-02-13T17:11:35.541Z"
   },
   {
    "duration": 8,
    "start_time": "2022-02-13T17:11:35.749Z"
   },
   {
    "duration": 18,
    "start_time": "2022-02-13T17:11:35.758Z"
   },
   {
    "duration": 14,
    "start_time": "2022-02-13T17:11:35.778Z"
   },
   {
    "duration": 34,
    "start_time": "2022-02-13T17:11:35.794Z"
   },
   {
    "duration": 20,
    "start_time": "2022-02-13T17:11:35.830Z"
   },
   {
    "duration": 40,
    "start_time": "2022-02-13T17:11:35.852Z"
   },
   {
    "duration": 18,
    "start_time": "2022-02-13T17:11:35.894Z"
   },
   {
    "duration": 18,
    "start_time": "2022-02-13T17:11:35.914Z"
   },
   {
    "duration": 21,
    "start_time": "2022-02-13T17:11:35.934Z"
   },
   {
    "duration": 212,
    "start_time": "2022-02-13T17:11:46.263Z"
   },
   {
    "duration": 227,
    "start_time": "2022-02-13T17:11:51.103Z"
   },
   {
    "duration": 291,
    "start_time": "2022-02-13T17:12:01.289Z"
   },
   {
    "duration": 361,
    "start_time": "2022-02-13T17:12:26.692Z"
   },
   {
    "duration": 179,
    "start_time": "2022-02-13T17:13:05.103Z"
   },
   {
    "duration": 171,
    "start_time": "2022-02-13T17:13:45.144Z"
   },
   {
    "duration": 179,
    "start_time": "2022-02-13T17:14:04.806Z"
   },
   {
    "duration": 180,
    "start_time": "2022-02-13T17:17:14.793Z"
   },
   {
    "duration": 176,
    "start_time": "2022-02-13T17:17:27.925Z"
   },
   {
    "duration": 207,
    "start_time": "2022-02-13T17:17:41.403Z"
   },
   {
    "duration": 202,
    "start_time": "2022-02-13T17:18:36.638Z"
   },
   {
    "duration": 199,
    "start_time": "2022-02-13T17:18:43.533Z"
   },
   {
    "duration": 297,
    "start_time": "2022-02-13T17:19:44.004Z"
   },
   {
    "duration": 200,
    "start_time": "2022-02-13T17:19:48.377Z"
   },
   {
    "duration": 227,
    "start_time": "2022-02-13T17:20:52.666Z"
   },
   {
    "duration": 23,
    "start_time": "2022-02-13T17:21:02.221Z"
   },
   {
    "duration": 288,
    "start_time": "2022-02-13T17:21:08.069Z"
   },
   {
    "duration": 277,
    "start_time": "2022-02-13T17:21:47.196Z"
   },
   {
    "duration": 205,
    "start_time": "2022-02-13T17:22:02.676Z"
   },
   {
    "duration": 199,
    "start_time": "2022-02-13T17:22:16.911Z"
   },
   {
    "duration": 1344,
    "start_time": "2022-02-13T17:27:57.050Z"
   },
   {
    "duration": 55,
    "start_time": "2022-02-13T17:27:58.396Z"
   },
   {
    "duration": 12,
    "start_time": "2022-02-13T17:27:58.454Z"
   },
   {
    "duration": 21,
    "start_time": "2022-02-13T17:27:58.469Z"
   },
   {
    "duration": 18,
    "start_time": "2022-02-13T17:27:58.493Z"
   },
   {
    "duration": 18,
    "start_time": "2022-02-13T17:27:58.514Z"
   },
   {
    "duration": 7,
    "start_time": "2022-02-13T17:27:58.534Z"
   },
   {
    "duration": 8,
    "start_time": "2022-02-13T17:27:58.544Z"
   },
   {
    "duration": 6,
    "start_time": "2022-02-13T17:27:58.554Z"
   },
   {
    "duration": 11,
    "start_time": "2022-02-13T17:27:58.561Z"
   },
   {
    "duration": 54,
    "start_time": "2022-02-13T17:27:58.574Z"
   },
   {
    "duration": 14,
    "start_time": "2022-02-13T17:27:58.630Z"
   },
   {
    "duration": 7,
    "start_time": "2022-02-13T17:27:58.646Z"
   },
   {
    "duration": 19,
    "start_time": "2022-02-13T17:27:58.655Z"
   },
   {
    "duration": 271,
    "start_time": "2022-02-13T17:27:58.676Z"
   },
   {
    "duration": 402,
    "start_time": "2022-02-13T17:27:58.949Z"
   },
   {
    "duration": 30,
    "start_time": "2022-02-13T17:27:59.353Z"
   },
   {
    "duration": 785,
    "start_time": "2022-02-13T17:27:59.386Z"
   },
   {
    "duration": 43,
    "start_time": "2022-02-13T17:28:00.174Z"
   },
   {
    "duration": 15,
    "start_time": "2022-02-13T17:28:00.219Z"
   },
   {
    "duration": 529,
    "start_time": "2022-02-13T17:28:00.237Z"
   },
   {
    "duration": 787,
    "start_time": "2022-02-13T17:28:00.769Z"
   },
   {
    "duration": 5375,
    "start_time": "2022-02-13T17:28:01.560Z"
   },
   {
    "duration": 217,
    "start_time": "2022-02-13T17:28:06.938Z"
   },
   {
    "duration": 192,
    "start_time": "2022-02-13T17:28:07.157Z"
   },
   {
    "duration": 188,
    "start_time": "2022-02-13T17:28:07.351Z"
   },
   {
    "duration": 190,
    "start_time": "2022-02-13T17:28:07.541Z"
   },
   {
    "duration": 395,
    "start_time": "2022-02-13T17:28:07.733Z"
   },
   {
    "duration": 204,
    "start_time": "2022-02-13T17:28:08.130Z"
   },
   {
    "duration": 210,
    "start_time": "2022-02-13T17:28:08.336Z"
   },
   {
    "duration": 16,
    "start_time": "2022-02-13T17:28:08.548Z"
   },
   {
    "duration": 11,
    "start_time": "2022-02-13T17:28:08.566Z"
   },
   {
    "duration": 36,
    "start_time": "2022-02-13T17:28:08.579Z"
   },
   {
    "duration": 1114,
    "start_time": "2022-02-14T14:43:14.984Z"
   },
   {
    "duration": 54,
    "start_time": "2022-02-14T14:43:16.100Z"
   },
   {
    "duration": 10,
    "start_time": "2022-02-14T14:43:16.158Z"
   },
   {
    "duration": 12,
    "start_time": "2022-02-14T14:43:16.169Z"
   },
   {
    "duration": 2,
    "start_time": "2022-02-14T14:43:16.183Z"
   },
   {
    "duration": 12,
    "start_time": "2022-02-14T14:43:16.187Z"
   },
   {
    "duration": 4,
    "start_time": "2022-02-14T14:43:16.201Z"
   },
   {
    "duration": 11,
    "start_time": "2022-02-14T14:43:16.208Z"
   },
   {
    "duration": 4,
    "start_time": "2022-02-14T14:43:16.222Z"
   },
   {
    "duration": 34,
    "start_time": "2022-02-14T14:43:16.227Z"
   },
   {
    "duration": 20,
    "start_time": "2022-02-14T14:43:16.263Z"
   },
   {
    "duration": 12,
    "start_time": "2022-02-14T14:43:16.284Z"
   },
   {
    "duration": 7,
    "start_time": "2022-02-14T14:43:16.297Z"
   },
   {
    "duration": 12,
    "start_time": "2022-02-14T14:43:16.306Z"
   },
   {
    "duration": 225,
    "start_time": "2022-02-14T14:43:16.320Z"
   },
   {
    "duration": 370,
    "start_time": "2022-02-14T14:43:16.547Z"
   },
   {
    "duration": 18,
    "start_time": "2022-02-14T14:43:16.918Z"
   },
   {
    "duration": 691,
    "start_time": "2022-02-14T14:43:16.938Z"
   },
   {
    "duration": 35,
    "start_time": "2022-02-14T14:43:17.630Z"
   },
   {
    "duration": 13,
    "start_time": "2022-02-14T14:43:17.667Z"
   },
   {
    "duration": 379,
    "start_time": "2022-02-14T14:43:17.682Z"
   },
   {
    "duration": 497,
    "start_time": "2022-02-14T14:43:18.062Z"
   },
   {
    "duration": 4801,
    "start_time": "2022-02-14T14:43:18.560Z"
   },
   {
    "duration": 188,
    "start_time": "2022-02-14T14:43:23.363Z"
   },
   {
    "duration": 177,
    "start_time": "2022-02-14T14:43:23.553Z"
   },
   {
    "duration": 168,
    "start_time": "2022-02-14T14:43:23.733Z"
   },
   {
    "duration": 166,
    "start_time": "2022-02-14T14:43:23.903Z"
   },
   {
    "duration": 332,
    "start_time": "2022-02-14T14:43:24.071Z"
   },
   {
    "duration": 192,
    "start_time": "2022-02-14T14:43:24.404Z"
   },
   {
    "duration": 213,
    "start_time": "2022-02-14T14:43:24.598Z"
   },
   {
    "duration": 19,
    "start_time": "2022-02-14T14:43:24.812Z"
   },
   {
    "duration": 27,
    "start_time": "2022-02-14T14:43:24.832Z"
   },
   {
    "duration": 14,
    "start_time": "2022-02-14T14:43:24.862Z"
   }
  ],
  "kernelspec": {
   "display_name": "Python 3 (ipykernel)",
   "language": "python",
   "name": "python3"
  },
  "language_info": {
   "codemirror_mode": {
    "name": "ipython",
    "version": 3
   },
   "file_extension": ".py",
   "mimetype": "text/x-python",
   "name": "python",
   "nbconvert_exporter": "python",
   "pygments_lexer": "ipython3",
   "version": "3.9.12"
  },
  "toc": {
   "base_numbering": 1,
   "nav_menu": {
    "height": "285px",
    "width": "538px"
   },
   "number_sections": true,
   "sideBar": true,
   "skip_h1_title": true,
   "title_cell": "Table of Contents",
   "title_sidebar": "Contents",
   "toc_cell": false,
   "toc_position": {},
   "toc_section_display": true,
   "toc_window_display": false
  }
 },
 "nbformat": 4,
 "nbformat_minor": 2
}
