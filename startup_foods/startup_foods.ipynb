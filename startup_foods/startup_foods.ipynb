{
 "cells": [
  {
   "cell_type": "markdown",
   "metadata": {},
   "source": [
    "# Анализ стартапа, который продаёт продукты питания\n",
    "\n",
    "Цель: анализировать поведение пользователей мобильного приложения.\n",
    "\n",
    "Задачи: \n",
    "Изучить воронку продаж. Узнать, как пользователи доходят до покупки. Сколько пользователей доходит до покупки, а сколько — «застревает» на предыдущих шагах? На каких именно?\n",
    "Исследовать результаты A/A/B-эксперимента. Дизайнеры захотели поменять шрифты во всём приложении, а менеджеры испугались, что пользователям будет непривычно. Договорились принять решение по результатам A/A/B-теста. Пользователей разбили на 3 группы: 2 контрольные со старыми шрифтами и одну экспериментальную — с новыми.\n",
    "Выяснить, какой шрифт лучше."
   ]
  },
  {
   "cell_type": "markdown",
   "metadata": {},
   "source": [
    "## Подготовка"
   ]
  },
  {
   "cell_type": "code",
   "execution_count": 1,
   "metadata": {},
   "outputs": [],
   "source": [
    "import pandas as pd\n",
    "import datetime as dt\n",
    "from datetime import datetime\n",
    "import numpy as np\n",
    "import math \n",
    "import matplotlib.pyplot as plt\n",
    "from pandas.plotting import register_matplotlib_converters\n",
    "import scipy.stats as stats\n",
    "import warnings\n",
    "from plotly import graph_objects as go "
   ]
  },
  {
   "cell_type": "code",
   "execution_count": 2,
   "metadata": {},
   "outputs": [],
   "source": [
    "data = pd.read_csv('/datasets/logs_exp.csv', sep=\"\\t\")"
   ]
  },
  {
   "cell_type": "code",
   "execution_count": 3,
   "metadata": {},
   "outputs": [
    {
     "data": {
      "text/html": [
       "<div>\n",
       "<style scoped>\n",
       "    .dataframe tbody tr th:only-of-type {\n",
       "        vertical-align: middle;\n",
       "    }\n",
       "\n",
       "    .dataframe tbody tr th {\n",
       "        vertical-align: top;\n",
       "    }\n",
       "\n",
       "    .dataframe thead th {\n",
       "        text-align: right;\n",
       "    }\n",
       "</style>\n",
       "<table border=\"1\" class=\"dataframe\">\n",
       "  <thead>\n",
       "    <tr style=\"text-align: right;\">\n",
       "      <th></th>\n",
       "      <th>EventName</th>\n",
       "      <th>DeviceIDHash</th>\n",
       "      <th>EventTimestamp</th>\n",
       "      <th>ExpId</th>\n",
       "    </tr>\n",
       "  </thead>\n",
       "  <tbody>\n",
       "    <tr>\n",
       "      <th>94026</th>\n",
       "      <td>MainScreenAppear</td>\n",
       "      <td>3766717525526906414</td>\n",
       "      <td>1564840640</td>\n",
       "      <td>248</td>\n",
       "    </tr>\n",
       "  </tbody>\n",
       "</table>\n",
       "</div>"
      ],
      "text/plain": [
       "              EventName         DeviceIDHash  EventTimestamp  ExpId\n",
       "94026  MainScreenAppear  3766717525526906414      1564840640    248"
      ]
     },
     "metadata": {},
     "output_type": "display_data"
    },
    {
     "name": "stdout",
     "output_type": "stream",
     "text": [
      "<class 'pandas.core.frame.DataFrame'>\n",
      "RangeIndex: 244126 entries, 0 to 244125\n",
      "Data columns (total 4 columns):\n",
      " #   Column          Non-Null Count   Dtype \n",
      "---  ------          --------------   ----- \n",
      " 0   EventName       244126 non-null  object\n",
      " 1   DeviceIDHash    244126 non-null  int64 \n",
      " 2   EventTimestamp  244126 non-null  int64 \n",
      " 3   ExpId           244126 non-null  int64 \n",
      "dtypes: int64(3), object(1)\n",
      "memory usage: 7.5+ MB\n"
     ]
    },
    {
     "data": {
      "text/plain": [
       "None"
      ]
     },
     "metadata": {},
     "output_type": "display_data"
    },
    {
     "data": {
      "text/html": [
       "<div>\n",
       "<style scoped>\n",
       "    .dataframe tbody tr th:only-of-type {\n",
       "        vertical-align: middle;\n",
       "    }\n",
       "\n",
       "    .dataframe tbody tr th {\n",
       "        vertical-align: top;\n",
       "    }\n",
       "\n",
       "    .dataframe thead th {\n",
       "        text-align: right;\n",
       "    }\n",
       "</style>\n",
       "<table border=\"1\" class=\"dataframe\">\n",
       "  <thead>\n",
       "    <tr style=\"text-align: right;\">\n",
       "      <th></th>\n",
       "      <th>DeviceIDHash</th>\n",
       "      <th>EventTimestamp</th>\n",
       "      <th>ExpId</th>\n",
       "    </tr>\n",
       "  </thead>\n",
       "  <tbody>\n",
       "    <tr>\n",
       "      <th>count</th>\n",
       "      <td>2.441260e+05</td>\n",
       "      <td>2.441260e+05</td>\n",
       "      <td>244126.000000</td>\n",
       "    </tr>\n",
       "    <tr>\n",
       "      <th>mean</th>\n",
       "      <td>4.627568e+18</td>\n",
       "      <td>1.564914e+09</td>\n",
       "      <td>247.022296</td>\n",
       "    </tr>\n",
       "    <tr>\n",
       "      <th>std</th>\n",
       "      <td>2.642425e+18</td>\n",
       "      <td>1.771343e+05</td>\n",
       "      <td>0.824434</td>\n",
       "    </tr>\n",
       "    <tr>\n",
       "      <th>min</th>\n",
       "      <td>6.888747e+15</td>\n",
       "      <td>1.564030e+09</td>\n",
       "      <td>246.000000</td>\n",
       "    </tr>\n",
       "    <tr>\n",
       "      <th>25%</th>\n",
       "      <td>2.372212e+18</td>\n",
       "      <td>1.564757e+09</td>\n",
       "      <td>246.000000</td>\n",
       "    </tr>\n",
       "    <tr>\n",
       "      <th>50%</th>\n",
       "      <td>4.623192e+18</td>\n",
       "      <td>1.564919e+09</td>\n",
       "      <td>247.000000</td>\n",
       "    </tr>\n",
       "    <tr>\n",
       "      <th>75%</th>\n",
       "      <td>6.932517e+18</td>\n",
       "      <td>1.565075e+09</td>\n",
       "      <td>248.000000</td>\n",
       "    </tr>\n",
       "    <tr>\n",
       "      <th>max</th>\n",
       "      <td>9.222603e+18</td>\n",
       "      <td>1.565213e+09</td>\n",
       "      <td>248.000000</td>\n",
       "    </tr>\n",
       "  </tbody>\n",
       "</table>\n",
       "</div>"
      ],
      "text/plain": [
       "       DeviceIDHash  EventTimestamp          ExpId\n",
       "count  2.441260e+05    2.441260e+05  244126.000000\n",
       "mean   4.627568e+18    1.564914e+09     247.022296\n",
       "std    2.642425e+18    1.771343e+05       0.824434\n",
       "min    6.888747e+15    1.564030e+09     246.000000\n",
       "25%    2.372212e+18    1.564757e+09     246.000000\n",
       "50%    4.623192e+18    1.564919e+09     247.000000\n",
       "75%    6.932517e+18    1.565075e+09     248.000000\n",
       "max    9.222603e+18    1.565213e+09     248.000000"
      ]
     },
     "metadata": {},
     "output_type": "display_data"
    },
    {
     "name": "stdout",
     "output_type": "stream",
     "text": [
      "Пропусков всего:\n"
     ]
    },
    {
     "data": {
      "text/plain": [
       "EventName         0\n",
       "DeviceIDHash      0\n",
       "EventTimestamp    0\n",
       "ExpId             0\n",
       "dtype: int64"
      ]
     },
     "metadata": {},
     "output_type": "display_data"
    },
    {
     "name": "stdout",
     "output_type": "stream",
     "text": [
      "Дубликатов всего:\n"
     ]
    },
    {
     "data": {
      "text/plain": [
       "413"
      ]
     },
     "metadata": {},
     "output_type": "display_data"
    },
    {
     "data": {
      "text/plain": [
       "(None, None, None, None, None, None, None)"
      ]
     },
     "execution_count": 3,
     "metadata": {},
     "output_type": "execute_result"
    }
   ],
   "source": [
    "def initial(data):\n",
    "    return (display(data.sample()),\n",
    "            display(data.info()),\n",
    "            display(data.describe()),\n",
    "            print(\"Пропусков всего:\"),\n",
    "            display(data.isna().sum()),\n",
    "            print(\"Дубликатов всего:\"),\n",
    "            display(data.duplicated().sum())\n",
    "           )\n",
    "\n",
    "initial(data)"
   ]
  },
  {
   "cell_type": "markdown",
   "metadata": {},
   "source": [
    "Что нужно сделать: привести столбец с датой и временем в нужной формат. Создать отдельно колонку с датой. Привести названия к нижнему регистру, переименовать. Посмотреть долю дубликатов. "
   ]
  },
  {
   "cell_type": "code",
   "execution_count": 4,
   "metadata": {},
   "outputs": [],
   "source": [
    "data['EventTimestamp'] = pd.to_datetime(data['EventTimestamp'], unit = 's')"
   ]
  },
  {
   "cell_type": "code",
   "execution_count": 5,
   "metadata": {},
   "outputs": [],
   "source": [
    "data['date'] = pd.to_datetime(data['EventTimestamp']).dt.date"
   ]
  },
  {
   "cell_type": "code",
   "execution_count": 6,
   "metadata": {},
   "outputs": [],
   "source": [
    "data.columns= data.columns.str.lower()"
   ]
  },
  {
   "cell_type": "code",
   "execution_count": 7,
   "metadata": {},
   "outputs": [],
   "source": [
    "data.columns = ['event_name', 'device_id', 'event_time', 'exp_id', 'date']"
   ]
  },
  {
   "cell_type": "code",
   "execution_count": 8,
   "metadata": {},
   "outputs": [
    {
     "data": {
      "text/plain": [
       "99.83082506574475"
      ]
     },
     "execution_count": 8,
     "metadata": {},
     "output_type": "execute_result"
    }
   ],
   "source": [
    "len(data.drop_duplicates()) / len(data) * 100"
   ]
  },
  {
   "cell_type": "code",
   "execution_count": 9,
   "metadata": {},
   "outputs": [],
   "source": [
    "data = data.drop_duplicates()"
   ]
  },
  {
   "cell_type": "markdown",
   "metadata": {},
   "source": [
    "## Изучение данных"
   ]
  },
  {
   "cell_type": "code",
   "execution_count": 10,
   "metadata": {},
   "outputs": [
    {
     "name": "stdout",
     "output_type": "stream",
     "text": [
      "Всего событий в логе: 243713\n",
      "Всего пользователей в логе: 7551\n",
      "Минимальная дата: 2019-07-25\n",
      "Максимальная дата: 2019-08-07\n"
     ]
    }
   ],
   "source": [
    "print('Всего событий в логе:', len(data))\n",
    "print('Всего пользователей в логе:', data['device_id'].nunique())\n",
    "print('Минимальная дата:', data['date'].min())\n",
    "print('Максимальная дата:', data['date'].max())"
   ]
  },
  {
   "cell_type": "code",
   "execution_count": 11,
   "metadata": {},
   "outputs": [
    {
     "data": {
      "text/plain": [
       "event_name    32.0\n",
       "dtype: float64"
      ]
     },
     "execution_count": 11,
     "metadata": {},
     "output_type": "execute_result"
    }
   ],
   "source": [
    "data.groupby('device_id').agg({'event_name': 'count'}).mean().round()\n"
   ]
  },
  {
   "cell_type": "markdown",
   "metadata": {},
   "source": [
    "Итак, в среднем событий приходится на пользователя: 32 события \n",
    "\n",
    "Построим гистограмму по дате, чтобы посмотреть распределение событий "
   ]
  },
  {
   "cell_type": "code",
   "execution_count": 12,
   "metadata": {},
   "outputs": [
    {
     "data": {
      "text/plain": [
       "Text(0.5, 1.0, 'Гистограмма по дате и времени')"
      ]
     },
     "execution_count": 12,
     "metadata": {},
     "output_type": "execute_result"
    },
    {
     "data": {
      "image/png": "[encoded data removed]",
      "text/plain": [
       "<Figure size 1080x648 with 1 Axes>"
      ]
     },
     "metadata": {
      "needs_background": "light"
     },
     "output_type": "display_data"
    }
   ],
   "source": [
    "\n",
    "data['event_time'].hist(bins=30, figsize=(15,9))\n",
    "plt.title('Гистограмма по дате и времени', fontsize=14)\n",
    "\n",
    "\n"
   ]
  },
  {
   "cell_type": "markdown",
   "metadata": {},
   "source": [
    "Мы видим, что до 1 августа у нас нет полных данных. Создадим новый массив с 1 по 7 августа, в этом промежутке у нас имеются данные для анализа. "
   ]
  },
  {
   "cell_type": "code",
   "execution_count": 13,
   "metadata": {},
   "outputs": [
    {
     "data": {
      "text/html": [
       "<div>\n",
       "<style scoped>\n",
       "    .dataframe tbody tr th:only-of-type {\n",
       "        vertical-align: middle;\n",
       "    }\n",
       "\n",
       "    .dataframe tbody tr th {\n",
       "        vertical-align: top;\n",
       "    }\n",
       "\n",
       "    .dataframe thead th {\n",
       "        text-align: right;\n",
       "    }\n",
       "</style>\n",
       "<table border=\"1\" class=\"dataframe\">\n",
       "  <thead>\n",
       "    <tr style=\"text-align: right;\">\n",
       "      <th></th>\n",
       "      <th>event_name</th>\n",
       "      <th>device_id</th>\n",
       "      <th>event_time</th>\n",
       "      <th>exp_id</th>\n",
       "      <th>date</th>\n",
       "    </tr>\n",
       "  </thead>\n",
       "  <tbody>\n",
       "    <tr>\n",
       "      <th>2828</th>\n",
       "      <td>Tutorial</td>\n",
       "      <td>3737462046622621720</td>\n",
       "      <td>2019-08-01 00:07:28</td>\n",
       "      <td>246</td>\n",
       "      <td>2019-08-01</td>\n",
       "    </tr>\n",
       "    <tr>\n",
       "      <th>2829</th>\n",
       "      <td>MainScreenAppear</td>\n",
       "      <td>3737462046622621720</td>\n",
       "      <td>2019-08-01 00:08:00</td>\n",
       "      <td>246</td>\n",
       "      <td>2019-08-01</td>\n",
       "    </tr>\n",
       "    <tr>\n",
       "      <th>2830</th>\n",
       "      <td>MainScreenAppear</td>\n",
       "      <td>3737462046622621720</td>\n",
       "      <td>2019-08-01 00:08:55</td>\n",
       "      <td>246</td>\n",
       "      <td>2019-08-01</td>\n",
       "    </tr>\n",
       "    <tr>\n",
       "      <th>2831</th>\n",
       "      <td>OffersScreenAppear</td>\n",
       "      <td>3737462046622621720</td>\n",
       "      <td>2019-08-01 00:08:58</td>\n",
       "      <td>246</td>\n",
       "      <td>2019-08-01</td>\n",
       "    </tr>\n",
       "    <tr>\n",
       "      <th>2832</th>\n",
       "      <td>MainScreenAppear</td>\n",
       "      <td>1433840883824088890</td>\n",
       "      <td>2019-08-01 00:08:59</td>\n",
       "      <td>247</td>\n",
       "      <td>2019-08-01</td>\n",
       "    </tr>\n",
       "    <tr>\n",
       "      <th>...</th>\n",
       "      <td>...</td>\n",
       "      <td>...</td>\n",
       "      <td>...</td>\n",
       "      <td>...</td>\n",
       "      <td>...</td>\n",
       "    </tr>\n",
       "    <tr>\n",
       "      <th>244121</th>\n",
       "      <td>MainScreenAppear</td>\n",
       "      <td>4599628364049201812</td>\n",
       "      <td>2019-08-07 21:12:25</td>\n",
       "      <td>247</td>\n",
       "      <td>2019-08-07</td>\n",
       "    </tr>\n",
       "    <tr>\n",
       "      <th>244122</th>\n",
       "      <td>MainScreenAppear</td>\n",
       "      <td>5849806612437486590</td>\n",
       "      <td>2019-08-07 21:13:59</td>\n",
       "      <td>246</td>\n",
       "      <td>2019-08-07</td>\n",
       "    </tr>\n",
       "    <tr>\n",
       "      <th>244123</th>\n",
       "      <td>MainScreenAppear</td>\n",
       "      <td>5746969938801999050</td>\n",
       "      <td>2019-08-07 21:14:43</td>\n",
       "      <td>246</td>\n",
       "      <td>2019-08-07</td>\n",
       "    </tr>\n",
       "    <tr>\n",
       "      <th>244124</th>\n",
       "      <td>MainScreenAppear</td>\n",
       "      <td>5746969938801999050</td>\n",
       "      <td>2019-08-07 21:14:58</td>\n",
       "      <td>246</td>\n",
       "      <td>2019-08-07</td>\n",
       "    </tr>\n",
       "    <tr>\n",
       "      <th>244125</th>\n",
       "      <td>OffersScreenAppear</td>\n",
       "      <td>5746969938801999050</td>\n",
       "      <td>2019-08-07 21:15:17</td>\n",
       "      <td>246</td>\n",
       "      <td>2019-08-07</td>\n",
       "    </tr>\n",
       "  </tbody>\n",
       "</table>\n",
       "<p>240887 rows × 5 columns</p>\n",
       "</div>"
      ],
      "text/plain": [
       "                event_name            device_id          event_time  exp_id  \\\n",
       "2828              Tutorial  3737462046622621720 2019-08-01 00:07:28     246   \n",
       "2829      MainScreenAppear  3737462046622621720 2019-08-01 00:08:00     246   \n",
       "2830      MainScreenAppear  3737462046622621720 2019-08-01 00:08:55     246   \n",
       "2831    OffersScreenAppear  3737462046622621720 2019-08-01 00:08:58     246   \n",
       "2832      MainScreenAppear  1433840883824088890 2019-08-01 00:08:59     247   \n",
       "...                    ...                  ...                 ...     ...   \n",
       "244121    MainScreenAppear  4599628364049201812 2019-08-07 21:12:25     247   \n",
       "244122    MainScreenAppear  5849806612437486590 2019-08-07 21:13:59     246   \n",
       "244123    MainScreenAppear  5746969938801999050 2019-08-07 21:14:43     246   \n",
       "244124    MainScreenAppear  5746969938801999050 2019-08-07 21:14:58     246   \n",
       "244125  OffersScreenAppear  5746969938801999050 2019-08-07 21:15:17     246   \n",
       "\n",
       "              date  \n",
       "2828    2019-08-01  \n",
       "2829    2019-08-01  \n",
       "2830    2019-08-01  \n",
       "2831    2019-08-01  \n",
       "2832    2019-08-01  \n",
       "...            ...  \n",
       "244121  2019-08-07  \n",
       "244122  2019-08-07  \n",
       "244123  2019-08-07  \n",
       "244124  2019-08-07  \n",
       "244125  2019-08-07  \n",
       "\n",
       "[240887 rows x 5 columns]"
      ]
     },
     "execution_count": 13,
     "metadata": {},
     "output_type": "execute_result"
    }
   ],
   "source": [
    "new_data = data[data['date'] >= pd.to_datetime('2019-08-01', format = '%Y-%m-%d')]\n",
    "new_data"
   ]
  },
  {
   "cell_type": "code",
   "execution_count": 14,
   "metadata": {},
   "outputs": [
    {
     "name": "stdout",
     "output_type": "stream",
     "text": [
      "Всего удалено событий: 2826\n",
      "Всего удалено пользователей: 17\n"
     ]
    }
   ],
   "source": [
    "\n",
    "print('Всего удалено событий:', len(data) - len(new_data))\n",
    "print('Всего удалено пользователей:', data['device_id'].nunique() - new_data['device_id'].nunique())"
   ]
  },
  {
   "cell_type": "markdown",
   "metadata": {},
   "source": [
    "Без дополнительных расчетов видно, что данных удалено мало. Подверждается гистограмма, что данных там практически не было."
   ]
  },
  {
   "cell_type": "code",
   "execution_count": 15,
   "metadata": {},
   "outputs": [
    {
     "data": {
      "text/html": [
       "<div>\n",
       "<style scoped>\n",
       "    .dataframe tbody tr th:only-of-type {\n",
       "        vertical-align: middle;\n",
       "    }\n",
       "\n",
       "    .dataframe tbody tr th {\n",
       "        vertical-align: top;\n",
       "    }\n",
       "\n",
       "    .dataframe thead th {\n",
       "        text-align: right;\n",
       "    }\n",
       "</style>\n",
       "<table border=\"1\" class=\"dataframe\">\n",
       "  <thead>\n",
       "    <tr style=\"text-align: right;\">\n",
       "      <th></th>\n",
       "      <th>device_id</th>\n",
       "    </tr>\n",
       "    <tr>\n",
       "      <th>exp_id</th>\n",
       "      <th></th>\n",
       "    </tr>\n",
       "  </thead>\n",
       "  <tbody>\n",
       "    <tr>\n",
       "      <th>246</th>\n",
       "      <td>79302</td>\n",
       "    </tr>\n",
       "    <tr>\n",
       "      <th>247</th>\n",
       "      <td>77022</td>\n",
       "    </tr>\n",
       "    <tr>\n",
       "      <th>248</th>\n",
       "      <td>84563</td>\n",
       "    </tr>\n",
       "  </tbody>\n",
       "</table>\n",
       "</div>"
      ],
      "text/plain": [
       "        device_id\n",
       "exp_id           \n",
       "246         79302\n",
       "247         77022\n",
       "248         84563"
      ]
     },
     "execution_count": 15,
     "metadata": {},
     "output_type": "execute_result"
    }
   ],
   "source": [
    "new_data.groupby('exp_id').agg({'device_id': 'count'})"
   ]
  },
  {
   "cell_type": "markdown",
   "metadata": {},
   "source": [
    "Во всех трех группах есть пользователи, распределение относительно ровное."
   ]
  },
  {
   "cell_type": "markdown",
   "metadata": {},
   "source": [
    "Мы оставили данные с 1 по 7 августа. В среднем событий приходится на пользователя: 32 события. "
   ]
  },
  {
   "cell_type": "markdown",
   "metadata": {},
   "source": [
    "## Изучаем воронку событий\n",
    "\n",
    "\n",
    "    В каком порядке происходят события? Все ли они выстраиваются в последовательную цепочку? Что можно убрать?\n"
   ]
  },
  {
   "cell_type": "code",
   "execution_count": 16,
   "metadata": {},
   "outputs": [
    {
     "data": {
      "text/html": [
       "<div>\n",
       "<style scoped>\n",
       "    .dataframe tbody tr th:only-of-type {\n",
       "        vertical-align: middle;\n",
       "    }\n",
       "\n",
       "    .dataframe tbody tr th {\n",
       "        vertical-align: top;\n",
       "    }\n",
       "\n",
       "    .dataframe thead th {\n",
       "        text-align: right;\n",
       "    }\n",
       "</style>\n",
       "<table border=\"1\" class=\"dataframe\">\n",
       "  <thead>\n",
       "    <tr style=\"text-align: right;\">\n",
       "      <th></th>\n",
       "      <th>device_id</th>\n",
       "    </tr>\n",
       "    <tr>\n",
       "      <th>event_name</th>\n",
       "      <th></th>\n",
       "    </tr>\n",
       "  </thead>\n",
       "  <tbody>\n",
       "    <tr>\n",
       "      <th>MainScreenAppear</th>\n",
       "      <td>117328</td>\n",
       "    </tr>\n",
       "    <tr>\n",
       "      <th>OffersScreenAppear</th>\n",
       "      <td>46333</td>\n",
       "    </tr>\n",
       "    <tr>\n",
       "      <th>CartScreenAppear</th>\n",
       "      <td>42303</td>\n",
       "    </tr>\n",
       "    <tr>\n",
       "      <th>PaymentScreenSuccessful</th>\n",
       "      <td>33918</td>\n",
       "    </tr>\n",
       "    <tr>\n",
       "      <th>Tutorial</th>\n",
       "      <td>1005</td>\n",
       "    </tr>\n",
       "  </tbody>\n",
       "</table>\n",
       "</div>"
      ],
      "text/plain": [
       "                         device_id\n",
       "event_name                        \n",
       "MainScreenAppear            117328\n",
       "OffersScreenAppear           46333\n",
       "CartScreenAppear             42303\n",
       "PaymentScreenSuccessful      33918\n",
       "Tutorial                      1005"
      ]
     },
     "execution_count": 16,
     "metadata": {},
     "output_type": "execute_result"
    }
   ],
   "source": [
    "events_count = new_data.groupby('event_name').agg({'device_id': 'count'}).sort_values(by='device_id', ascending=False)\n",
    "events_count"
   ]
  },
  {
   "cell_type": "markdown",
   "metadata": {},
   "source": [
    "Порядок событий: главный экран, экран предложений товаров, корзина, оплата. Туториал можно убрать из анализа, он не является обязательным пунктом, и его частота сильно ниже, чем у других событий."
   ]
  },
  {
   "cell_type": "code",
   "execution_count": 17,
   "metadata": {},
   "outputs": [
    {
     "data": {
      "text/html": [
       "<div>\n",
       "<style scoped>\n",
       "    .dataframe tbody tr th:only-of-type {\n",
       "        vertical-align: middle;\n",
       "    }\n",
       "\n",
       "    .dataframe tbody tr th {\n",
       "        vertical-align: top;\n",
       "    }\n",
       "\n",
       "    .dataframe thead th {\n",
       "        text-align: right;\n",
       "    }\n",
       "</style>\n",
       "<table border=\"1\" class=\"dataframe\">\n",
       "  <thead>\n",
       "    <tr style=\"text-align: right;\">\n",
       "      <th></th>\n",
       "      <th>device_id</th>\n",
       "      <th>percent</th>\n",
       "    </tr>\n",
       "    <tr>\n",
       "      <th>event_name</th>\n",
       "      <th></th>\n",
       "      <th></th>\n",
       "    </tr>\n",
       "  </thead>\n",
       "  <tbody>\n",
       "    <tr>\n",
       "      <th>MainScreenAppear</th>\n",
       "      <td>7419</td>\n",
       "      <td>98%</td>\n",
       "    </tr>\n",
       "    <tr>\n",
       "      <th>OffersScreenAppear</th>\n",
       "      <td>4593</td>\n",
       "      <td>61%</td>\n",
       "    </tr>\n",
       "    <tr>\n",
       "      <th>CartScreenAppear</th>\n",
       "      <td>3734</td>\n",
       "      <td>50%</td>\n",
       "    </tr>\n",
       "    <tr>\n",
       "      <th>PaymentScreenSuccessful</th>\n",
       "      <td>3539</td>\n",
       "      <td>47%</td>\n",
       "    </tr>\n",
       "    <tr>\n",
       "      <th>Tutorial</th>\n",
       "      <td>840</td>\n",
       "      <td>11%</td>\n",
       "    </tr>\n",
       "  </tbody>\n",
       "</table>\n",
       "</div>"
      ],
      "text/plain": [
       "                         device_id percent\n",
       "event_name                                \n",
       "MainScreenAppear              7419     98%\n",
       "OffersScreenAppear            4593     61%\n",
       "CartScreenAppear              3734     50%\n",
       "PaymentScreenSuccessful       3539     47%\n",
       "Tutorial                       840     11%"
      ]
     },
     "execution_count": 17,
     "metadata": {},
     "output_type": "execute_result"
    }
   ],
   "source": [
    "# сортируем по числу пользователей\n",
    "users_count = new_data.groupby('event_name').agg({'device_id': 'nunique'}).sort_values(by='device_id', ascending=False)\n",
    "users_count['percent'] = users_count['device_id'].apply(lambda x: round(x/new_data['device_id'].nunique()*100)).astype('str') + '%'\n",
    "users_count"
   ]
  },
  {
   "cell_type": "code",
   "execution_count": null,
   "metadata": {},
   "outputs": [],
   "source": [
    "# убираем туториал \n",
    "users_new = users_count.query('event_name != \"Tutorial\"')\n",
    "# строим воронку\n",
    "fig = go.Figure(\n",
    "    go.Funnel(\n",
    "        y=[\n",
    "            'MainScreenAppear',\n",
    "            'OffersScreenAppear',\n",
    "            'CartScreenAppear',\n",
    "            'PaymentScreenSuccessful',\n",
    "        ],\n",
    "        x=list(users_new ['device_id']),\n",
    "    )\n",
    ")\n",
    "fig.show() "
   ]
  },
  {
   "cell_type": "markdown",
   "metadata": {},
   "source": [
    "Больше всего пользователей мы теряем на втором шаге. Всего 61.9% переходят с главного экрана до экрана с предложениями. 47.7% от пользователей на первом шаге остаются на шаге оплаты.   "
   ]
  },
  {
   "cell_type": "code",
   "execution_count": 19,
   "metadata": {},
   "outputs": [
    {
     "data": {
      "text/html": [
       "<div>\n",
       "<style scoped>\n",
       "    .dataframe tbody tr th:only-of-type {\n",
       "        vertical-align: middle;\n",
       "    }\n",
       "\n",
       "    .dataframe tbody tr th {\n",
       "        vertical-align: top;\n",
       "    }\n",
       "\n",
       "    .dataframe thead th {\n",
       "        text-align: right;\n",
       "    }\n",
       "</style>\n",
       "<table border=\"1\" class=\"dataframe\">\n",
       "  <thead>\n",
       "    <tr style=\"text-align: right;\">\n",
       "      <th></th>\n",
       "      <th>event_name</th>\n",
       "      <th>device_id</th>\n",
       "      <th>event_time</th>\n",
       "      <th>exp_id</th>\n",
       "      <th>date</th>\n",
       "    </tr>\n",
       "  </thead>\n",
       "  <tbody>\n",
       "    <tr>\n",
       "      <th>2829</th>\n",
       "      <td>MainScreenAppear</td>\n",
       "      <td>3737462046622621720</td>\n",
       "      <td>2019-08-01 00:08:00</td>\n",
       "      <td>246</td>\n",
       "      <td>2019-08-01</td>\n",
       "    </tr>\n",
       "    <tr>\n",
       "      <th>2830</th>\n",
       "      <td>MainScreenAppear</td>\n",
       "      <td>3737462046622621720</td>\n",
       "      <td>2019-08-01 00:08:55</td>\n",
       "      <td>246</td>\n",
       "      <td>2019-08-01</td>\n",
       "    </tr>\n",
       "    <tr>\n",
       "      <th>2831</th>\n",
       "      <td>OffersScreenAppear</td>\n",
       "      <td>3737462046622621720</td>\n",
       "      <td>2019-08-01 00:08:58</td>\n",
       "      <td>246</td>\n",
       "      <td>2019-08-01</td>\n",
       "    </tr>\n",
       "    <tr>\n",
       "      <th>2832</th>\n",
       "      <td>MainScreenAppear</td>\n",
       "      <td>1433840883824088890</td>\n",
       "      <td>2019-08-01 00:08:59</td>\n",
       "      <td>247</td>\n",
       "      <td>2019-08-01</td>\n",
       "    </tr>\n",
       "    <tr>\n",
       "      <th>2833</th>\n",
       "      <td>MainScreenAppear</td>\n",
       "      <td>4899590676214355127</td>\n",
       "      <td>2019-08-01 00:10:15</td>\n",
       "      <td>247</td>\n",
       "      <td>2019-08-01</td>\n",
       "    </tr>\n",
       "    <tr>\n",
       "      <th>...</th>\n",
       "      <td>...</td>\n",
       "      <td>...</td>\n",
       "      <td>...</td>\n",
       "      <td>...</td>\n",
       "      <td>...</td>\n",
       "    </tr>\n",
       "    <tr>\n",
       "      <th>244121</th>\n",
       "      <td>MainScreenAppear</td>\n",
       "      <td>4599628364049201812</td>\n",
       "      <td>2019-08-07 21:12:25</td>\n",
       "      <td>247</td>\n",
       "      <td>2019-08-07</td>\n",
       "    </tr>\n",
       "    <tr>\n",
       "      <th>244122</th>\n",
       "      <td>MainScreenAppear</td>\n",
       "      <td>5849806612437486590</td>\n",
       "      <td>2019-08-07 21:13:59</td>\n",
       "      <td>246</td>\n",
       "      <td>2019-08-07</td>\n",
       "    </tr>\n",
       "    <tr>\n",
       "      <th>244123</th>\n",
       "      <td>MainScreenAppear</td>\n",
       "      <td>5746969938801999050</td>\n",
       "      <td>2019-08-07 21:14:43</td>\n",
       "      <td>246</td>\n",
       "      <td>2019-08-07</td>\n",
       "    </tr>\n",
       "    <tr>\n",
       "      <th>244124</th>\n",
       "      <td>MainScreenAppear</td>\n",
       "      <td>5746969938801999050</td>\n",
       "      <td>2019-08-07 21:14:58</td>\n",
       "      <td>246</td>\n",
       "      <td>2019-08-07</td>\n",
       "    </tr>\n",
       "    <tr>\n",
       "      <th>244125</th>\n",
       "      <td>OffersScreenAppear</td>\n",
       "      <td>5746969938801999050</td>\n",
       "      <td>2019-08-07 21:15:17</td>\n",
       "      <td>246</td>\n",
       "      <td>2019-08-07</td>\n",
       "    </tr>\n",
       "  </tbody>\n",
       "</table>\n",
       "<p>239882 rows × 5 columns</p>\n",
       "</div>"
      ],
      "text/plain": [
       "                event_name            device_id          event_time  exp_id  \\\n",
       "2829      MainScreenAppear  3737462046622621720 2019-08-01 00:08:00     246   \n",
       "2830      MainScreenAppear  3737462046622621720 2019-08-01 00:08:55     246   \n",
       "2831    OffersScreenAppear  3737462046622621720 2019-08-01 00:08:58     246   \n",
       "2832      MainScreenAppear  1433840883824088890 2019-08-01 00:08:59     247   \n",
       "2833      MainScreenAppear  4899590676214355127 2019-08-01 00:10:15     247   \n",
       "...                    ...                  ...                 ...     ...   \n",
       "244121    MainScreenAppear  4599628364049201812 2019-08-07 21:12:25     247   \n",
       "244122    MainScreenAppear  5849806612437486590 2019-08-07 21:13:59     246   \n",
       "244123    MainScreenAppear  5746969938801999050 2019-08-07 21:14:43     246   \n",
       "244124    MainScreenAppear  5746969938801999050 2019-08-07 21:14:58     246   \n",
       "244125  OffersScreenAppear  5746969938801999050 2019-08-07 21:15:17     246   \n",
       "\n",
       "              date  \n",
       "2829    2019-08-01  \n",
       "2830    2019-08-01  \n",
       "2831    2019-08-01  \n",
       "2832    2019-08-01  \n",
       "2833    2019-08-01  \n",
       "...            ...  \n",
       "244121  2019-08-07  \n",
       "244122  2019-08-07  \n",
       "244123  2019-08-07  \n",
       "244124  2019-08-07  \n",
       "244125  2019-08-07  \n",
       "\n",
       "[239882 rows x 5 columns]"
      ]
     },
     "execution_count": 19,
     "metadata": {},
     "output_type": "execute_result"
    }
   ],
   "source": [
    "data_new = new_data.query('event_name != \"Tutorial\"')\n",
    "data_new"
   ]
  },
  {
   "cell_type": "markdown",
   "metadata": {},
   "source": [
    "Порядок событий: главный экран, экран предложений товаров, корзина, оплата. Убрали туториал из массива для анализа. Больше всего пользователей мы теряем на втором шаге. Всего 61.9% переходят с главного экрана до экрана с предложениями. 47.7% от пользователей на первом шаге остаются на шаге оплаты. \n"
   ]
  },
  {
   "cell_type": "markdown",
   "metadata": {},
   "source": [
    "## Результаты эксперимента\n",
    "\n",
    " "
   ]
  },
  {
   "cell_type": "markdown",
   "metadata": {},
   "source": [
    "Посмотрим на распределение пользователей между группами и проведем Z-тест на проверку гипотезы о равенстве долей пользователей на каждом шаге воронки.\n",
    "\n",
    "Зададим гипотезы для тестов:\n",
    "\n",
    "H0: Разница между группами отсутствует  \n",
    "\n",
    "H1: Разница между группами существует  \n",
    "\n",
    "\n",
    "\n",
    "- Между выборками 246 и 247\n",
    "- С группой с изменённым шрифтом\n",
    "- С каждой из контрольных групп в отдельности по каждому событию\n",
    "- С объединненой контрольной группой\n",
    "Всего будет проведено 16 тестов. \n",
    "\n",
    "\n",
    "\n",
    " "
   ]
  },
  {
   "cell_type": "code",
   "execution_count": 20,
   "metadata": {},
   "outputs": [
    {
     "data": {
      "text/html": [
       "<div>\n",
       "<style scoped>\n",
       "    .dataframe tbody tr th:only-of-type {\n",
       "        vertical-align: middle;\n",
       "    }\n",
       "\n",
       "    .dataframe tbody tr th {\n",
       "        vertical-align: top;\n",
       "    }\n",
       "\n",
       "    .dataframe thead th {\n",
       "        text-align: right;\n",
       "    }\n",
       "</style>\n",
       "<table border=\"1\" class=\"dataframe\">\n",
       "  <thead>\n",
       "    <tr style=\"text-align: right;\">\n",
       "      <th></th>\n",
       "      <th>device_id</th>\n",
       "    </tr>\n",
       "    <tr>\n",
       "      <th>exp_id</th>\n",
       "      <th></th>\n",
       "    </tr>\n",
       "  </thead>\n",
       "  <tbody>\n",
       "    <tr>\n",
       "      <th>246</th>\n",
       "      <td>2483</td>\n",
       "    </tr>\n",
       "    <tr>\n",
       "      <th>247</th>\n",
       "      <td>2512</td>\n",
       "    </tr>\n",
       "    <tr>\n",
       "      <th>248</th>\n",
       "      <td>2535</td>\n",
       "    </tr>\n",
       "  </tbody>\n",
       "</table>\n",
       "</div>"
      ],
      "text/plain": [
       "        device_id\n",
       "exp_id           \n",
       "246          2483\n",
       "247          2512\n",
       "248          2535"
      ]
     },
     "metadata": {},
     "output_type": "display_data"
    },
    {
     "data": {
      "text/html": [
       "<div>\n",
       "<style scoped>\n",
       "    .dataframe tbody tr th:only-of-type {\n",
       "        vertical-align: middle;\n",
       "    }\n",
       "\n",
       "    .dataframe tbody tr th {\n",
       "        vertical-align: top;\n",
       "    }\n",
       "\n",
       "    .dataframe thead th {\n",
       "        text-align: right;\n",
       "    }\n",
       "</style>\n",
       "<table border=\"1\" class=\"dataframe\">\n",
       "  <thead>\n",
       "    <tr style=\"text-align: right;\">\n",
       "      <th>exp_id</th>\n",
       "      <th>246</th>\n",
       "      <th>247</th>\n",
       "      <th>248</th>\n",
       "    </tr>\n",
       "    <tr>\n",
       "      <th>event_name</th>\n",
       "      <th></th>\n",
       "      <th></th>\n",
       "      <th></th>\n",
       "    </tr>\n",
       "  </thead>\n",
       "  <tbody>\n",
       "    <tr>\n",
       "      <th>CartScreenAppear</th>\n",
       "      <td>1266</td>\n",
       "      <td>1238</td>\n",
       "      <td>1230</td>\n",
       "    </tr>\n",
       "    <tr>\n",
       "      <th>MainScreenAppear</th>\n",
       "      <td>2450</td>\n",
       "      <td>2476</td>\n",
       "      <td>2493</td>\n",
       "    </tr>\n",
       "    <tr>\n",
       "      <th>OffersScreenAppear</th>\n",
       "      <td>1542</td>\n",
       "      <td>1520</td>\n",
       "      <td>1531</td>\n",
       "    </tr>\n",
       "    <tr>\n",
       "      <th>PaymentScreenSuccessful</th>\n",
       "      <td>1200</td>\n",
       "      <td>1158</td>\n",
       "      <td>1181</td>\n",
       "    </tr>\n",
       "  </tbody>\n",
       "</table>\n",
       "</div>"
      ],
      "text/plain": [
       "exp_id                    246   247   248\n",
       "event_name                               \n",
       "CartScreenAppear         1266  1238  1230\n",
       "MainScreenAppear         2450  2476  2493\n",
       "OffersScreenAppear       1542  1520  1531\n",
       "PaymentScreenSuccessful  1200  1158  1181"
      ]
     },
     "metadata": {},
     "output_type": "display_data"
    },
    {
     "name": "stdout",
     "output_type": "stream",
     "text": [
      "0.22867643757335676\n",
      "0.08067367598823139\n"
     ]
    }
   ],
   "source": [
    "def check_hypothesis (successes1, successes2, trials1, trials2):\n",
    "    p1 = successes1/trials1\n",
    "    p2 = successes2/trials2\n",
    "    p_combined = (successes1 + successes2) / (trials1 + trials2)\n",
    "    difference = p1 - p2\n",
    "    z_value = difference / math.sqrt(p_combined * (1 - p_combined) * (1/trials1 + 1/trials2))\n",
    "    distr = stats.norm(0, 1)\n",
    "    p_value = (1 - distr.cdf(abs(z_value))) * 2\n",
    "    return p_value\n",
    "\n",
    "\n",
    "trials = data_new.groupby('exp_id').agg({'device_id': 'nunique'})\n",
    "display(trials)\n",
    "funnel = data_new.pivot_table(index = 'event_name', columns = 'exp_id', values = 'device_id', aggfunc = 'nunique')\n",
    "display(funnel)\n",
    "\n",
    "print(check_hypothesis(funnel.loc['CartScreenAppear', 246], funnel.loc['CartScreenAppear', 247],\n",
    "                       trials.loc[246].values[0], trials.loc[247].values[0]))\n",
    "print(check_hypothesis(funnel.loc['CartScreenAppear', 246], funnel.loc['CartScreenAppear', 248],\n",
    "                       trials.loc[246].values[0], trials.loc[248].values[0]))\n",
    " "
   ]
  },
  {
   "cell_type": "markdown",
   "metadata": {},
   "source": [
    "Пользователей в каждой экспериментальной группе: 246 - 2483 пользователя, 247 - 2512 пользователя, 248 - 2535 пользователя. Также посмотрели разделение пользователей по событиями, данные по всем трем группам практически не разнятся. \n",
    "Есть 2 контрольные группы для А/А-эксперимента, чтобы проверить корректность всех механизмов и расчётов. "
   ]
  },
  {
   "cell_type": "code",
   "execution_count": 25,
   "metadata": {},
   "outputs": [
    {
     "data": {
      "text/html": [
       "<div>\n",
       "<style scoped>\n",
       "    .dataframe tbody tr th:only-of-type {\n",
       "        vertical-align: middle;\n",
       "    }\n",
       "\n",
       "    .dataframe tbody tr th {\n",
       "        vertical-align: top;\n",
       "    }\n",
       "\n",
       "    .dataframe thead th {\n",
       "        text-align: right;\n",
       "    }\n",
       "</style>\n",
       "<table border=\"1\" class=\"dataframe\">\n",
       "  <thead>\n",
       "    <tr style=\"text-align: right;\">\n",
       "      <th></th>\n",
       "      <th>device_id</th>\n",
       "    </tr>\n",
       "    <tr>\n",
       "      <th>exp_id</th>\n",
       "      <th></th>\n",
       "    </tr>\n",
       "  </thead>\n",
       "  <tbody>\n",
       "    <tr>\n",
       "      <th>246</th>\n",
       "      <td>2483</td>\n",
       "    </tr>\n",
       "    <tr>\n",
       "      <th>247</th>\n",
       "      <td>2512</td>\n",
       "    </tr>\n",
       "    <tr>\n",
       "      <th>248</th>\n",
       "      <td>2535</td>\n",
       "    </tr>\n",
       "    <tr>\n",
       "      <th>246 + 247</th>\n",
       "      <td>4995</td>\n",
       "    </tr>\n",
       "  </tbody>\n",
       "</table>\n",
       "</div>"
      ],
      "text/plain": [
       "           device_id\n",
       "exp_id              \n",
       "246             2483\n",
       "247             2512\n",
       "248             2535\n",
       "246 + 247       4995"
      ]
     },
     "metadata": {},
     "output_type": "display_data"
    },
    {
     "data": {
      "text/html": [
       "<div>\n",
       "<style scoped>\n",
       "    .dataframe tbody tr th:only-of-type {\n",
       "        vertical-align: middle;\n",
       "    }\n",
       "\n",
       "    .dataframe tbody tr th {\n",
       "        vertical-align: top;\n",
       "    }\n",
       "\n",
       "    .dataframe thead th {\n",
       "        text-align: right;\n",
       "    }\n",
       "</style>\n",
       "<table border=\"1\" class=\"dataframe\">\n",
       "  <thead>\n",
       "    <tr style=\"text-align: right;\">\n",
       "      <th>exp_id</th>\n",
       "      <th>246</th>\n",
       "      <th>247</th>\n",
       "      <th>248</th>\n",
       "      <th>246 + 247</th>\n",
       "    </tr>\n",
       "    <tr>\n",
       "      <th>event_name</th>\n",
       "      <th></th>\n",
       "      <th></th>\n",
       "      <th></th>\n",
       "      <th></th>\n",
       "    </tr>\n",
       "  </thead>\n",
       "  <tbody>\n",
       "    <tr>\n",
       "      <th>CartScreenAppear</th>\n",
       "      <td>1266</td>\n",
       "      <td>1238</td>\n",
       "      <td>1230</td>\n",
       "      <td>2504</td>\n",
       "    </tr>\n",
       "    <tr>\n",
       "      <th>MainScreenAppear</th>\n",
       "      <td>2450</td>\n",
       "      <td>2476</td>\n",
       "      <td>2493</td>\n",
       "      <td>4926</td>\n",
       "    </tr>\n",
       "    <tr>\n",
       "      <th>OffersScreenAppear</th>\n",
       "      <td>1542</td>\n",
       "      <td>1520</td>\n",
       "      <td>1531</td>\n",
       "      <td>3062</td>\n",
       "    </tr>\n",
       "    <tr>\n",
       "      <th>PaymentScreenSuccessful</th>\n",
       "      <td>1200</td>\n",
       "      <td>1158</td>\n",
       "      <td>1181</td>\n",
       "      <td>2358</td>\n",
       "    </tr>\n",
       "  </tbody>\n",
       "</table>\n",
       "</div>"
      ],
      "text/plain": [
       "exp_id                    246   247   248  246 + 247\n",
       "event_name                                          \n",
       "CartScreenAppear         1266  1238  1230       2504\n",
       "MainScreenAppear         2450  2476  2493       4926\n",
       "OffersScreenAppear       1542  1520  1531       3062\n",
       "PaymentScreenSuccessful  1200  1158  1181       2358"
      ]
     },
     "metadata": {},
     "output_type": "display_data"
    },
    {
     "name": "stdout",
     "output_type": "stream",
     "text": [
      "0.08067367598823139\n",
      "0.5878284605111943\n",
      "0.18683558686831558\n"
     ]
    }
   ],
   "source": [
    "# создаем объединенный столбец \n",
    "comb_data = data_new.query('exp_id in [246, 247]')\n",
    "comb_data['exp_id'] = '246 + 247'\n",
    "\n",
    "data_new = data_new.append(comb_data)\n",
    "\n",
    "\n",
    "\n",
    "trials = data_new.groupby('exp_id').agg({'device_id': 'nunique'})\n",
    "display(trials)\n",
    "\n",
    "funnel = data_new.pivot_table(index = 'event_name', columns = 'exp_id', values = 'device_id', aggfunc = 'nunique')\n",
    "display(funnel)\n",
    "\n",
    "event = 'CartScreenAppear'\n",
    "\n",
    "print(check_hypothesis(funnel.loc[event, 248], funnel.loc[event, 246],\n",
    "                       trials.loc[248].values[0], trials.loc[246].values[0]))\n",
    "\n",
    "print(check_hypothesis(funnel.loc[event, 248], funnel.loc[event, 247],\n",
    "                       trials.loc[248].values[0], trials.loc[247].values[0]))\n",
    "\n",
    "print(check_hypothesis(funnel.loc[event, 248], funnel.loc[event, '246 + 247'],\n",
    "                       trials.loc[248].values[0], trials.loc['246 + 247'].values[0]))\n",
    "\n",
    "pd.set_option('chained_assignment', None)\n"
   ]
  },
  {
   "cell_type": "markdown",
   "metadata": {},
   "source": [
    "Самое популярное событие - главный экран. Мы вывели на экран таблицу с числом пользователей каждой контрольной группы с разбивкой по событиями. Добавили в результаты объединеную контрольную группу. Был выбран уровень уровень значимости - 0.05. Также проведем проверку с уровенем 0.01. Стоит учесть, что у нас множественный тест, поэтому применими поправку Бонферрони. \n"
   ]
  },
  {
   "cell_type": "code",
   "execution_count": 22,
   "metadata": {},
   "outputs": [
    {
     "data": {
      "text/html": [
       "<div>\n",
       "<style scoped>\n",
       "    .dataframe tbody tr th:only-of-type {\n",
       "        vertical-align: middle;\n",
       "    }\n",
       "\n",
       "    .dataframe tbody tr th {\n",
       "        vertical-align: top;\n",
       "    }\n",
       "\n",
       "    .dataframe thead th {\n",
       "        text-align: right;\n",
       "    }\n",
       "</style>\n",
       "<table border=\"1\" class=\"dataframe\">\n",
       "  <thead>\n",
       "    <tr style=\"text-align: right;\">\n",
       "      <th></th>\n",
       "      <th>A</th>\n",
       "      <th>B</th>\n",
       "      <th>event_name</th>\n",
       "      <th>p-value</th>\n",
       "      <th>reject_h0</th>\n",
       "    </tr>\n",
       "  </thead>\n",
       "  <tbody>\n",
       "    <tr>\n",
       "      <th>0</th>\n",
       "      <td>246</td>\n",
       "      <td>247</td>\n",
       "      <td>MainScreenAppear</td>\n",
       "      <td>0.752670</td>\n",
       "      <td>False</td>\n",
       "    </tr>\n",
       "    <tr>\n",
       "      <th>1</th>\n",
       "      <td>246</td>\n",
       "      <td>247</td>\n",
       "      <td>OffersScreenAppear</td>\n",
       "      <td>0.247861</td>\n",
       "      <td>False</td>\n",
       "    </tr>\n",
       "    <tr>\n",
       "      <th>2</th>\n",
       "      <td>246</td>\n",
       "      <td>247</td>\n",
       "      <td>CartScreenAppear</td>\n",
       "      <td>0.228676</td>\n",
       "      <td>False</td>\n",
       "    </tr>\n",
       "    <tr>\n",
       "      <th>3</th>\n",
       "      <td>246</td>\n",
       "      <td>247</td>\n",
       "      <td>PaymentScreenSuccessful</td>\n",
       "      <td>0.114466</td>\n",
       "      <td>False</td>\n",
       "    </tr>\n",
       "    <tr>\n",
       "      <th>4</th>\n",
       "      <td>246</td>\n",
       "      <td>248</td>\n",
       "      <td>MainScreenAppear</td>\n",
       "      <td>0.338711</td>\n",
       "      <td>False</td>\n",
       "    </tr>\n",
       "    <tr>\n",
       "      <th>5</th>\n",
       "      <td>246</td>\n",
       "      <td>248</td>\n",
       "      <td>OffersScreenAppear</td>\n",
       "      <td>0.214425</td>\n",
       "      <td>False</td>\n",
       "    </tr>\n",
       "    <tr>\n",
       "      <th>6</th>\n",
       "      <td>246</td>\n",
       "      <td>248</td>\n",
       "      <td>CartScreenAppear</td>\n",
       "      <td>0.080674</td>\n",
       "      <td>False</td>\n",
       "    </tr>\n",
       "    <tr>\n",
       "      <th>7</th>\n",
       "      <td>246</td>\n",
       "      <td>248</td>\n",
       "      <td>PaymentScreenSuccessful</td>\n",
       "      <td>0.216930</td>\n",
       "      <td>False</td>\n",
       "    </tr>\n",
       "    <tr>\n",
       "      <th>8</th>\n",
       "      <td>247</td>\n",
       "      <td>248</td>\n",
       "      <td>MainScreenAppear</td>\n",
       "      <td>0.519496</td>\n",
       "      <td>False</td>\n",
       "    </tr>\n",
       "    <tr>\n",
       "      <th>9</th>\n",
       "      <td>247</td>\n",
       "      <td>248</td>\n",
       "      <td>OffersScreenAppear</td>\n",
       "      <td>0.933375</td>\n",
       "      <td>False</td>\n",
       "    </tr>\n",
       "    <tr>\n",
       "      <th>10</th>\n",
       "      <td>247</td>\n",
       "      <td>248</td>\n",
       "      <td>CartScreenAppear</td>\n",
       "      <td>0.587828</td>\n",
       "      <td>False</td>\n",
       "    </tr>\n",
       "    <tr>\n",
       "      <th>11</th>\n",
       "      <td>247</td>\n",
       "      <td>248</td>\n",
       "      <td>PaymentScreenSuccessful</td>\n",
       "      <td>0.727572</td>\n",
       "      <td>False</td>\n",
       "    </tr>\n",
       "    <tr>\n",
       "      <th>12</th>\n",
       "      <td>246 + 247</td>\n",
       "      <td>248</td>\n",
       "      <td>MainScreenAppear</td>\n",
       "      <td>0.348668</td>\n",
       "      <td>False</td>\n",
       "    </tr>\n",
       "    <tr>\n",
       "      <th>13</th>\n",
       "      <td>246 + 247</td>\n",
       "      <td>248</td>\n",
       "      <td>OffersScreenAppear</td>\n",
       "      <td>0.445827</td>\n",
       "      <td>False</td>\n",
       "    </tr>\n",
       "    <tr>\n",
       "      <th>14</th>\n",
       "      <td>246 + 247</td>\n",
       "      <td>248</td>\n",
       "      <td>CartScreenAppear</td>\n",
       "      <td>0.186836</td>\n",
       "      <td>False</td>\n",
       "    </tr>\n",
       "    <tr>\n",
       "      <th>15</th>\n",
       "      <td>246 + 247</td>\n",
       "      <td>248</td>\n",
       "      <td>PaymentScreenSuccessful</td>\n",
       "      <td>0.610792</td>\n",
       "      <td>False</td>\n",
       "    </tr>\n",
       "  </tbody>\n",
       "</table>\n",
       "</div>"
      ],
      "text/plain": [
       "            A    B               event_name   p-value  reject_h0\n",
       "0         246  247         MainScreenAppear  0.752670      False\n",
       "1         246  247       OffersScreenAppear  0.247861      False\n",
       "2         246  247         CartScreenAppear  0.228676      False\n",
       "3         246  247  PaymentScreenSuccessful  0.114466      False\n",
       "4         246  248         MainScreenAppear  0.338711      False\n",
       "5         246  248       OffersScreenAppear  0.214425      False\n",
       "6         246  248         CartScreenAppear  0.080674      False\n",
       "7         246  248  PaymentScreenSuccessful  0.216930      False\n",
       "8         247  248         MainScreenAppear  0.519496      False\n",
       "9         247  248       OffersScreenAppear  0.933375      False\n",
       "10        247  248         CartScreenAppear  0.587828      False\n",
       "11        247  248  PaymentScreenSuccessful  0.727572      False\n",
       "12  246 + 247  248         MainScreenAppear  0.348668      False\n",
       "13  246 + 247  248       OffersScreenAppear  0.445827      False\n",
       "14  246 + 247  248         CartScreenAppear  0.186836      False\n",
       "15  246 + 247  248  PaymentScreenSuccessful  0.610792      False"
      ]
     },
     "execution_count": 22,
     "metadata": {},
     "output_type": "execute_result"
    }
   ],
   "source": [
    "p_values = []\n",
    "for groups in [[246, 247], [246, 248], [247, 248], ['246 + 247', 248]]:\n",
    "    for event_name in data_new['event_name'].unique():\n",
    "        p = check_hypothesis(funnel.loc[event_name, groups[0]], funnel.loc[event_name, groups[1]],\n",
    "                             trials.loc[groups[0]].values[0], trials.loc[groups[1]].values[0])\n",
    "        p_values += [[groups[0], groups[1], event_name, p]]\n",
    "        \n",
    "p_values = pd.DataFrame(p_values, columns = ['A', 'B', 'event_name', 'p-value'])\n",
    "\n",
    "alpha = 0.05\n",
    "\n",
    "alpha = alpha / p_values.shape[0]\n",
    "\n",
    "p_values['reject_h0'] = p_values['p-value'] < alpha \n",
    "p_values \n",
    "\n"
   ]
  },
  {
   "cell_type": "code",
   "execution_count": 23,
   "metadata": {},
   "outputs": [
    {
     "data": {
      "text/html": [
       "<div>\n",
       "<style scoped>\n",
       "    .dataframe tbody tr th:only-of-type {\n",
       "        vertical-align: middle;\n",
       "    }\n",
       "\n",
       "    .dataframe tbody tr th {\n",
       "        vertical-align: top;\n",
       "    }\n",
       "\n",
       "    .dataframe thead th {\n",
       "        text-align: right;\n",
       "    }\n",
       "</style>\n",
       "<table border=\"1\" class=\"dataframe\">\n",
       "  <thead>\n",
       "    <tr style=\"text-align: right;\">\n",
       "      <th></th>\n",
       "      <th>A</th>\n",
       "      <th>B</th>\n",
       "      <th>event_name</th>\n",
       "      <th>p-value</th>\n",
       "      <th>reject_h0</th>\n",
       "    </tr>\n",
       "  </thead>\n",
       "  <tbody>\n",
       "    <tr>\n",
       "      <th>0</th>\n",
       "      <td>246</td>\n",
       "      <td>247</td>\n",
       "      <td>MainScreenAppear</td>\n",
       "      <td>0.752670</td>\n",
       "      <td>False</td>\n",
       "    </tr>\n",
       "    <tr>\n",
       "      <th>1</th>\n",
       "      <td>246</td>\n",
       "      <td>247</td>\n",
       "      <td>OffersScreenAppear</td>\n",
       "      <td>0.247861</td>\n",
       "      <td>False</td>\n",
       "    </tr>\n",
       "    <tr>\n",
       "      <th>2</th>\n",
       "      <td>246</td>\n",
       "      <td>247</td>\n",
       "      <td>CartScreenAppear</td>\n",
       "      <td>0.228676</td>\n",
       "      <td>False</td>\n",
       "    </tr>\n",
       "    <tr>\n",
       "      <th>3</th>\n",
       "      <td>246</td>\n",
       "      <td>247</td>\n",
       "      <td>PaymentScreenSuccessful</td>\n",
       "      <td>0.114466</td>\n",
       "      <td>False</td>\n",
       "    </tr>\n",
       "    <tr>\n",
       "      <th>4</th>\n",
       "      <td>246</td>\n",
       "      <td>248</td>\n",
       "      <td>MainScreenAppear</td>\n",
       "      <td>0.338711</td>\n",
       "      <td>False</td>\n",
       "    </tr>\n",
       "    <tr>\n",
       "      <th>5</th>\n",
       "      <td>246</td>\n",
       "      <td>248</td>\n",
       "      <td>OffersScreenAppear</td>\n",
       "      <td>0.214425</td>\n",
       "      <td>False</td>\n",
       "    </tr>\n",
       "    <tr>\n",
       "      <th>6</th>\n",
       "      <td>246</td>\n",
       "      <td>248</td>\n",
       "      <td>CartScreenAppear</td>\n",
       "      <td>0.080674</td>\n",
       "      <td>False</td>\n",
       "    </tr>\n",
       "    <tr>\n",
       "      <th>7</th>\n",
       "      <td>246</td>\n",
       "      <td>248</td>\n",
       "      <td>PaymentScreenSuccessful</td>\n",
       "      <td>0.216930</td>\n",
       "      <td>False</td>\n",
       "    </tr>\n",
       "    <tr>\n",
       "      <th>8</th>\n",
       "      <td>247</td>\n",
       "      <td>248</td>\n",
       "      <td>MainScreenAppear</td>\n",
       "      <td>0.519496</td>\n",
       "      <td>False</td>\n",
       "    </tr>\n",
       "    <tr>\n",
       "      <th>9</th>\n",
       "      <td>247</td>\n",
       "      <td>248</td>\n",
       "      <td>OffersScreenAppear</td>\n",
       "      <td>0.933375</td>\n",
       "      <td>False</td>\n",
       "    </tr>\n",
       "    <tr>\n",
       "      <th>10</th>\n",
       "      <td>247</td>\n",
       "      <td>248</td>\n",
       "      <td>CartScreenAppear</td>\n",
       "      <td>0.587828</td>\n",
       "      <td>False</td>\n",
       "    </tr>\n",
       "    <tr>\n",
       "      <th>11</th>\n",
       "      <td>247</td>\n",
       "      <td>248</td>\n",
       "      <td>PaymentScreenSuccessful</td>\n",
       "      <td>0.727572</td>\n",
       "      <td>False</td>\n",
       "    </tr>\n",
       "    <tr>\n",
       "      <th>12</th>\n",
       "      <td>246 + 247</td>\n",
       "      <td>248</td>\n",
       "      <td>MainScreenAppear</td>\n",
       "      <td>0.348668</td>\n",
       "      <td>False</td>\n",
       "    </tr>\n",
       "    <tr>\n",
       "      <th>13</th>\n",
       "      <td>246 + 247</td>\n",
       "      <td>248</td>\n",
       "      <td>OffersScreenAppear</td>\n",
       "      <td>0.445827</td>\n",
       "      <td>False</td>\n",
       "    </tr>\n",
       "    <tr>\n",
       "      <th>14</th>\n",
       "      <td>246 + 247</td>\n",
       "      <td>248</td>\n",
       "      <td>CartScreenAppear</td>\n",
       "      <td>0.186836</td>\n",
       "      <td>False</td>\n",
       "    </tr>\n",
       "    <tr>\n",
       "      <th>15</th>\n",
       "      <td>246 + 247</td>\n",
       "      <td>248</td>\n",
       "      <td>PaymentScreenSuccessful</td>\n",
       "      <td>0.610792</td>\n",
       "      <td>False</td>\n",
       "    </tr>\n",
       "  </tbody>\n",
       "</table>\n",
       "</div>"
      ],
      "text/plain": [
       "            A    B               event_name   p-value  reject_h0\n",
       "0         246  247         MainScreenAppear  0.752670      False\n",
       "1         246  247       OffersScreenAppear  0.247861      False\n",
       "2         246  247         CartScreenAppear  0.228676      False\n",
       "3         246  247  PaymentScreenSuccessful  0.114466      False\n",
       "4         246  248         MainScreenAppear  0.338711      False\n",
       "5         246  248       OffersScreenAppear  0.214425      False\n",
       "6         246  248         CartScreenAppear  0.080674      False\n",
       "7         246  248  PaymentScreenSuccessful  0.216930      False\n",
       "8         247  248         MainScreenAppear  0.519496      False\n",
       "9         247  248       OffersScreenAppear  0.933375      False\n",
       "10        247  248         CartScreenAppear  0.587828      False\n",
       "11        247  248  PaymentScreenSuccessful  0.727572      False\n",
       "12  246 + 247  248         MainScreenAppear  0.348668      False\n",
       "13  246 + 247  248       OffersScreenAppear  0.445827      False\n",
       "14  246 + 247  248         CartScreenAppear  0.186836      False\n",
       "15  246 + 247  248  PaymentScreenSuccessful  0.610792      False"
      ]
     },
     "execution_count": 23,
     "metadata": {},
     "output_type": "execute_result"
    }
   ],
   "source": [
    "p_values = []\n",
    "for groups in [[246, 247], [246, 248], [247, 248], ['246 + 247', 248]]:\n",
    "    for event_name in data_new['event_name'].unique():\n",
    "        p = check_hypothesis(funnel.loc[event_name, groups[0]], funnel.loc[event_name, groups[1]],\n",
    "                             trials.loc[groups[0]].values[0], trials.loc[groups[1]].values[0])\n",
    "        p_values += [[groups[0], groups[1], event_name, p]]\n",
    "        \n",
    "p_values = pd.DataFrame(p_values, columns = ['A', 'B', 'event_name', 'p-value'])\n",
    "\n",
    "alpha = 0.01\n",
    "\n",
    "alpha = alpha / p_values.shape[0]\n",
    "\n",
    "p_values['reject_h0'] = p_values['p-value'] < alpha \n",
    "p_values \n"
   ]
  },
  {
   "cell_type": "markdown",
   "metadata": {},
   "source": [
    "С поправкой Бонферрони не получилось отвергнуть нулевую гипотезу, вывод о различии сделать нельзя. Следовательно, можно сделать первоначальные выводы о том, что новый шрифт никак не повлиял на работу приложения."
   ]
  },
  {
   "cell_type": "markdown",
   "metadata": {},
   "source": [
    "Выводы по проекту: \n",
    "\n",
    "- Анализ проводился по данным с 1 августа по 7 августа. Остальные данные были удалены.\n",
    "\n",
    "- В среднем на пользователя приходится 32 события.\n",
    "\n",
    "- В приложении четыре основых события: главный экран, экран предложений товаров, корзина, оплата. \n",
    "\n",
    "- Туториал, как событие, необязательное. Его удалили из данных. \n",
    "\n",
    "- Всего 61.9% переходят с главного экрана до экрана с предложениями.\n",
    "\n",
    "- Самое популярное событие - \"главный экран\".\n",
    "\n",
    "- Было решено провести тесты с поправкой Бонферрони.\n",
    "\n",
    "- Разницу между выборками 246 и 247 не нашли.\n",
    "\n",
    "- Разницу по событиями группы с новом шрифтом с группами со старым шрифтом не нашли. \n",
    "\n",
    "- Сравнение с объединённой контрольной группой дало отрицательный результат. \n",
    "\n",
    "- Были сделаны первоначальные выводы о том, что новый шрифт никак не повлиял на работу приложения.\n"
   ]
  }
 ],
 "metadata": {
  "ExecuteTimeLog": [
   {
    "duration": 1458,
    "start_time": "2022-03-29T13:59:24.800Z"
   },
   {
    "duration": 266,
    "start_time": "2022-03-29T14:00:05.174Z"
   },
   {
    "duration": 22,
    "start_time": "2022-03-29T14:00:10.561Z"
   },
   {
    "duration": 2,
    "start_time": "2022-03-29T14:00:27.660Z"
   },
   {
    "duration": 407,
    "start_time": "2022-03-29T14:00:29.055Z"
   },
   {
    "duration": 19,
    "start_time": "2022-03-29T14:00:29.568Z"
   },
   {
    "duration": 274,
    "start_time": "2022-03-29T14:00:43.443Z"
   },
   {
    "duration": 67,
    "start_time": "2022-03-29T14:11:32.545Z"
   },
   {
    "duration": 1639,
    "start_time": "2022-03-29T14:11:38.299Z"
   },
   {
    "duration": 349,
    "start_time": "2022-03-29T14:11:39.943Z"
   },
   {
    "duration": 27,
    "start_time": "2022-03-29T14:11:40.295Z"
   },
   {
    "duration": 24,
    "start_time": "2022-03-29T14:11:40.325Z"
   },
   {
    "duration": 170,
    "start_time": "2022-03-29T16:24:50.715Z"
   },
   {
    "duration": 113,
    "start_time": "2022-03-29T16:24:59.235Z"
   },
   {
    "duration": 132,
    "start_time": "2022-03-29T16:25:35.971Z"
   },
   {
    "duration": 1370,
    "start_time": "2022-03-29T16:26:26.743Z"
   },
   {
    "duration": 107,
    "start_time": "2022-03-29T16:26:28.116Z"
   },
   {
    "duration": 0,
    "start_time": "2022-03-29T16:26:28.226Z"
   },
   {
    "duration": 0,
    "start_time": "2022-03-29T16:26:28.227Z"
   },
   {
    "duration": 126,
    "start_time": "2022-03-29T16:26:47.732Z"
   },
   {
    "duration": 134,
    "start_time": "2022-03-29T16:27:33.747Z"
   },
   {
    "duration": 138,
    "start_time": "2022-03-29T16:27:37.515Z"
   },
   {
    "duration": 183,
    "start_time": "2022-03-29T16:28:32.074Z"
   },
   {
    "duration": 1313,
    "start_time": "2022-03-29T16:28:39.106Z"
   },
   {
    "duration": 199,
    "start_time": "2022-03-29T16:28:40.421Z"
   },
   {
    "duration": 27,
    "start_time": "2022-03-29T16:28:40.623Z"
   },
   {
    "duration": 38,
    "start_time": "2022-03-29T16:28:40.653Z"
   },
   {
    "duration": 6,
    "start_time": "2022-03-29T16:29:06.779Z"
   },
   {
    "duration": 15,
    "start_time": "2022-03-29T16:29:13.326Z"
   },
   {
    "duration": 7,
    "start_time": "2022-03-29T16:29:22.063Z"
   },
   {
    "duration": 133,
    "start_time": "2022-03-29T16:29:25.691Z"
   },
   {
    "duration": 13,
    "start_time": "2022-03-29T16:29:33.727Z"
   },
   {
    "duration": 1447,
    "start_time": "2022-03-29T16:29:44.375Z"
   },
   {
    "duration": 197,
    "start_time": "2022-03-29T16:29:45.825Z"
   },
   {
    "duration": 28,
    "start_time": "2022-03-29T16:29:46.024Z"
   },
   {
    "duration": 35,
    "start_time": "2022-03-29T16:29:46.055Z"
   },
   {
    "duration": 136,
    "start_time": "2022-03-29T16:30:40.826Z"
   },
   {
    "duration": 5,
    "start_time": "2022-03-29T16:31:27.138Z"
   },
   {
    "duration": 16,
    "start_time": "2022-03-29T16:31:30.588Z"
   },
   {
    "duration": 109,
    "start_time": "2022-03-29T16:33:32.874Z"
   },
   {
    "duration": 107,
    "start_time": "2022-03-29T16:33:40.569Z"
   },
   {
    "duration": 82,
    "start_time": "2022-03-29T16:39:39.969Z"
   },
   {
    "duration": 1249,
    "start_time": "2022-03-29T16:39:53.451Z"
   },
   {
    "duration": 153,
    "start_time": "2022-03-29T16:39:54.703Z"
   },
   {
    "duration": 4,
    "start_time": "2022-03-29T16:39:54.858Z"
   },
   {
    "duration": 87,
    "start_time": "2022-03-29T16:39:54.864Z"
   },
   {
    "duration": 102,
    "start_time": "2022-03-29T16:40:29.566Z"
   },
   {
    "duration": 20,
    "start_time": "2022-03-29T16:40:48.298Z"
   },
   {
    "duration": 21,
    "start_time": "2022-03-29T16:41:22.828Z"
   },
   {
    "duration": 1513,
    "start_time": "2022-03-29T16:42:58.638Z"
   },
   {
    "duration": 1494,
    "start_time": "2022-03-29T16:43:07.097Z"
   },
   {
    "duration": 1147,
    "start_time": "2022-03-29T16:43:13.958Z"
   },
   {
    "duration": 96,
    "start_time": "2022-03-29T16:43:15.107Z"
   },
   {
    "duration": 0,
    "start_time": "2022-03-29T16:43:15.205Z"
   },
   {
    "duration": 0,
    "start_time": "2022-03-29T16:43:15.206Z"
   },
   {
    "duration": 0,
    "start_time": "2022-03-29T16:43:15.207Z"
   },
   {
    "duration": 0,
    "start_time": "2022-03-29T16:43:15.208Z"
   },
   {
    "duration": 1163,
    "start_time": "2022-03-29T16:43:32.409Z"
   },
   {
    "duration": 157,
    "start_time": "2022-03-29T16:43:33.574Z"
   },
   {
    "duration": 22,
    "start_time": "2022-03-29T16:43:33.733Z"
   },
   {
    "duration": 3,
    "start_time": "2022-03-29T16:43:33.758Z"
   },
   {
    "duration": 21,
    "start_time": "2022-03-29T16:43:33.763Z"
   },
   {
    "duration": 1565,
    "start_time": "2022-03-29T16:43:33.786Z"
   },
   {
    "duration": 1511,
    "start_time": "2022-03-29T16:44:25.322Z"
   },
   {
    "duration": 71,
    "start_time": "2022-03-29T18:43:21.334Z"
   },
   {
    "duration": 1765,
    "start_time": "2022-03-29T18:43:32.894Z"
   },
   {
    "duration": 205,
    "start_time": "2022-03-29T18:43:34.662Z"
   },
   {
    "duration": 29,
    "start_time": "2022-03-29T18:43:34.869Z"
   },
   {
    "duration": 5,
    "start_time": "2022-03-29T18:43:34.900Z"
   },
   {
    "duration": 28,
    "start_time": "2022-03-29T18:43:34.907Z"
   },
   {
    "duration": 2338,
    "start_time": "2022-03-29T18:43:34.937Z"
   },
   {
    "duration": 2121,
    "start_time": "2022-03-29T18:43:54.862Z"
   },
   {
    "duration": 20,
    "start_time": "2022-03-29T18:44:15.729Z"
   },
   {
    "duration": 2408,
    "start_time": "2022-03-29T18:44:17.682Z"
   },
   {
    "duration": 2169,
    "start_time": "2022-03-29T18:44:47.491Z"
   },
   {
    "duration": 2318,
    "start_time": "2022-03-29T18:45:38.129Z"
   },
   {
    "duration": 1494,
    "start_time": "2022-03-29T18:45:55.636Z"
   },
   {
    "duration": 206,
    "start_time": "2022-03-29T18:45:57.133Z"
   },
   {
    "duration": 28,
    "start_time": "2022-03-29T18:45:57.341Z"
   },
   {
    "duration": 13,
    "start_time": "2022-03-29T18:45:57.372Z"
   },
   {
    "duration": 2638,
    "start_time": "2022-03-29T18:45:57.388Z"
   },
   {
    "duration": 0,
    "start_time": "2022-03-29T18:46:00.028Z"
   },
   {
    "duration": 5,
    "start_time": "2022-03-29T18:46:16.136Z"
   },
   {
    "duration": 1434,
    "start_time": "2022-03-29T18:46:20.905Z"
   },
   {
    "duration": 209,
    "start_time": "2022-03-29T18:46:22.342Z"
   },
   {
    "duration": 43,
    "start_time": "2022-03-29T18:46:22.553Z"
   },
   {
    "duration": 159,
    "start_time": "2022-03-29T18:46:22.600Z"
   },
   {
    "duration": 0,
    "start_time": "2022-03-29T18:46:22.762Z"
   },
   {
    "duration": 0,
    "start_time": "2022-03-29T18:46:22.763Z"
   },
   {
    "duration": 151,
    "start_time": "2022-03-29T18:46:34.929Z"
   },
   {
    "duration": 4,
    "start_time": "2022-03-29T18:46:43.176Z"
   },
   {
    "duration": 32,
    "start_time": "2022-03-29T18:46:44.007Z"
   },
   {
    "duration": 1418,
    "start_time": "2022-03-29T18:46:58.727Z"
   },
   {
    "duration": 202,
    "start_time": "2022-03-29T18:47:00.147Z"
   },
   {
    "duration": 41,
    "start_time": "2022-03-29T18:47:00.351Z"
   },
   {
    "duration": 157,
    "start_time": "2022-03-29T18:47:00.395Z"
   },
   {
    "duration": 4,
    "start_time": "2022-03-29T18:47:00.555Z"
   },
   {
    "duration": 49,
    "start_time": "2022-03-29T18:47:00.561Z"
   },
   {
    "duration": 2388,
    "start_time": "2022-03-29T18:47:19.011Z"
   },
   {
    "duration": 1412,
    "start_time": "2022-03-29T18:47:28.434Z"
   },
   {
    "duration": 197,
    "start_time": "2022-03-29T18:47:29.849Z"
   },
   {
    "duration": 42,
    "start_time": "2022-03-29T18:47:30.048Z"
   },
   {
    "duration": 49,
    "start_time": "2022-03-29T18:47:30.093Z"
   },
   {
    "duration": 26,
    "start_time": "2022-03-29T18:47:30.145Z"
   },
   {
    "duration": 42,
    "start_time": "2022-03-29T18:47:30.173Z"
   },
   {
    "duration": 3613,
    "start_time": "2022-03-29T18:49:09.560Z"
   },
   {
    "duration": 1701,
    "start_time": "2022-03-29T18:49:16.651Z"
   },
   {
    "duration": 212,
    "start_time": "2022-03-29T18:49:18.354Z"
   },
   {
    "duration": 34,
    "start_time": "2022-03-29T18:49:18.569Z"
   },
   {
    "duration": 165,
    "start_time": "2022-03-29T18:49:18.607Z"
   },
   {
    "duration": 0,
    "start_time": "2022-03-29T18:49:18.775Z"
   },
   {
    "duration": 0,
    "start_time": "2022-03-29T18:49:18.777Z"
   },
   {
    "duration": 48,
    "start_time": "2022-03-30T16:25:20.645Z"
   },
   {
    "duration": 1250,
    "start_time": "2022-03-30T16:25:26.363Z"
   },
   {
    "duration": 148,
    "start_time": "2022-03-30T16:25:27.614Z"
   },
   {
    "duration": 20,
    "start_time": "2022-03-30T16:25:27.764Z"
   },
   {
    "duration": 36,
    "start_time": "2022-03-30T16:25:27.786Z"
   },
   {
    "duration": 3,
    "start_time": "2022-03-30T16:25:27.824Z"
   },
   {
    "duration": 41,
    "start_time": "2022-03-30T16:25:27.828Z"
   },
   {
    "duration": 1852,
    "start_time": "2022-03-30T16:25:52.139Z"
   },
   {
    "duration": 1010,
    "start_time": "2022-03-30T16:25:58.494Z"
   },
   {
    "duration": 136,
    "start_time": "2022-03-30T16:25:59.505Z"
   },
   {
    "duration": 25,
    "start_time": "2022-03-30T16:25:59.642Z"
   },
   {
    "duration": 11,
    "start_time": "2022-03-30T16:25:59.669Z"
   },
   {
    "duration": 3,
    "start_time": "2022-03-30T16:25:59.681Z"
   },
   {
    "duration": 24,
    "start_time": "2022-03-30T16:25:59.686Z"
   },
   {
    "duration": 1978,
    "start_time": "2022-03-30T16:33:49.323Z"
   },
   {
    "duration": 11,
    "start_time": "2022-03-30T16:33:56.117Z"
   },
   {
    "duration": 1060,
    "start_time": "2022-03-30T16:34:06.836Z"
   },
   {
    "duration": 145,
    "start_time": "2022-03-30T16:34:07.898Z"
   },
   {
    "duration": 30,
    "start_time": "2022-03-30T16:34:08.044Z"
   },
   {
    "duration": 13,
    "start_time": "2022-03-30T16:34:08.076Z"
   },
   {
    "duration": 3,
    "start_time": "2022-03-30T16:34:08.091Z"
   },
   {
    "duration": 23,
    "start_time": "2022-03-30T16:34:08.095Z"
   },
   {
    "duration": 1793,
    "start_time": "2022-03-30T16:34:08.119Z"
   },
   {
    "duration": 0,
    "start_time": "2022-03-30T16:34:09.913Z"
   },
   {
    "duration": 1708,
    "start_time": "2022-03-30T16:34:18.437Z"
   },
   {
    "duration": 1052,
    "start_time": "2022-03-30T16:34:33.449Z"
   },
   {
    "duration": 134,
    "start_time": "2022-03-30T16:34:34.503Z"
   },
   {
    "duration": 20,
    "start_time": "2022-03-30T16:34:34.638Z"
   },
   {
    "duration": 11,
    "start_time": "2022-03-30T16:34:34.663Z"
   },
   {
    "duration": 3,
    "start_time": "2022-03-30T16:34:34.676Z"
   },
   {
    "duration": 24,
    "start_time": "2022-03-30T16:34:34.680Z"
   },
   {
    "duration": 1757,
    "start_time": "2022-03-30T16:34:34.705Z"
   },
   {
    "duration": 0,
    "start_time": "2022-03-30T16:34:36.463Z"
   },
   {
    "duration": 1723,
    "start_time": "2022-03-30T16:35:08.348Z"
   },
   {
    "duration": 12,
    "start_time": "2022-03-30T16:35:10.600Z"
   },
   {
    "duration": 3,
    "start_time": "2022-03-30T16:35:16.668Z"
   },
   {
    "duration": 131,
    "start_time": "2022-03-30T16:35:16.675Z"
   },
   {
    "duration": 17,
    "start_time": "2022-03-30T16:35:16.808Z"
   },
   {
    "duration": 7,
    "start_time": "2022-03-30T16:35:16.826Z"
   },
   {
    "duration": 3,
    "start_time": "2022-03-30T16:35:16.834Z"
   },
   {
    "duration": 27,
    "start_time": "2022-03-30T16:35:16.838Z"
   },
   {
    "duration": 1659,
    "start_time": "2022-03-30T16:35:16.866Z"
   },
   {
    "duration": 0,
    "start_time": "2022-03-30T16:35:18.527Z"
   },
   {
    "duration": 1114,
    "start_time": "2022-03-30T16:35:26.781Z"
   },
   {
    "duration": 139,
    "start_time": "2022-03-30T16:35:27.897Z"
   },
   {
    "duration": 25,
    "start_time": "2022-03-30T16:35:28.038Z"
   },
   {
    "duration": 13,
    "start_time": "2022-03-30T16:35:28.065Z"
   },
   {
    "duration": 4,
    "start_time": "2022-03-30T16:35:28.080Z"
   },
   {
    "duration": 22,
    "start_time": "2022-03-30T16:35:28.086Z"
   },
   {
    "duration": 1814,
    "start_time": "2022-03-30T16:35:28.110Z"
   },
   {
    "duration": 0,
    "start_time": "2022-03-30T16:35:29.926Z"
   },
   {
    "duration": 1666,
    "start_time": "2022-03-30T16:35:57.014Z"
   },
   {
    "duration": 1057,
    "start_time": "2022-03-30T16:36:12.937Z"
   },
   {
    "duration": 145,
    "start_time": "2022-03-30T16:36:13.996Z"
   },
   {
    "duration": 20,
    "start_time": "2022-03-30T16:36:14.143Z"
   },
   {
    "duration": 12,
    "start_time": "2022-03-30T16:36:14.166Z"
   },
   {
    "duration": 6,
    "start_time": "2022-03-30T16:36:14.179Z"
   },
   {
    "duration": 32,
    "start_time": "2022-03-30T16:36:14.187Z"
   },
   {
    "duration": 1867,
    "start_time": "2022-03-30T16:36:14.221Z"
   },
   {
    "duration": 0,
    "start_time": "2022-03-30T16:36:16.090Z"
   },
   {
    "duration": 1710,
    "start_time": "2022-03-30T16:36:35.630Z"
   },
   {
    "duration": 1125,
    "start_time": "2022-03-30T16:36:40.172Z"
   },
   {
    "duration": 130,
    "start_time": "2022-03-30T16:36:41.299Z"
   },
   {
    "duration": 20,
    "start_time": "2022-03-30T16:36:41.431Z"
   },
   {
    "duration": 18,
    "start_time": "2022-03-30T16:36:41.453Z"
   },
   {
    "duration": 73,
    "start_time": "2022-03-30T16:36:41.472Z"
   },
   {
    "duration": 17,
    "start_time": "2022-03-30T16:36:41.546Z"
   },
   {
    "duration": 22,
    "start_time": "2022-03-30T16:36:41.565Z"
   },
   {
    "duration": 11,
    "start_time": "2022-03-30T16:36:41.589Z"
   },
   {
    "duration": 39,
    "start_time": "2022-03-30T16:37:33.834Z"
   },
   {
    "duration": 91,
    "start_time": "2022-03-30T16:37:53.244Z"
   },
   {
    "duration": 1714,
    "start_time": "2022-03-30T16:38:02.679Z"
   },
   {
    "duration": 1120,
    "start_time": "2022-03-30T16:38:08.291Z"
   },
   {
    "duration": 138,
    "start_time": "2022-03-30T16:38:09.413Z"
   },
   {
    "duration": 27,
    "start_time": "2022-03-30T16:38:09.553Z"
   },
   {
    "duration": 98,
    "start_time": "2022-03-30T16:38:09.583Z"
   },
   {
    "duration": 0,
    "start_time": "2022-03-30T16:38:09.682Z"
   },
   {
    "duration": 0,
    "start_time": "2022-03-30T16:38:09.683Z"
   },
   {
    "duration": 0,
    "start_time": "2022-03-30T16:38:09.684Z"
   },
   {
    "duration": 0,
    "start_time": "2022-03-30T16:38:09.685Z"
   },
   {
    "duration": 0,
    "start_time": "2022-03-30T16:38:09.686Z"
   },
   {
    "duration": 8,
    "start_time": "2022-03-30T16:49:59.980Z"
   },
   {
    "duration": 8,
    "start_time": "2022-03-30T16:50:09.495Z"
   },
   {
    "duration": 1104,
    "start_time": "2022-03-30T16:50:14.533Z"
   },
   {
    "duration": 136,
    "start_time": "2022-03-30T16:50:15.638Z"
   },
   {
    "duration": 18,
    "start_time": "2022-03-30T16:50:15.776Z"
   },
   {
    "duration": 21,
    "start_time": "2022-03-30T16:50:15.796Z"
   },
   {
    "duration": 83,
    "start_time": "2022-03-30T16:50:15.818Z"
   },
   {
    "duration": 29,
    "start_time": "2022-03-30T16:50:15.903Z"
   },
   {
    "duration": 41,
    "start_time": "2022-03-30T16:50:15.934Z"
   },
   {
    "duration": 92,
    "start_time": "2022-03-30T16:50:15.976Z"
   },
   {
    "duration": 8,
    "start_time": "2022-03-30T16:50:43.917Z"
   },
   {
    "duration": 9,
    "start_time": "2022-03-30T16:51:06.568Z"
   },
   {
    "duration": 1129,
    "start_time": "2022-03-30T16:51:12.561Z"
   },
   {
    "duration": 141,
    "start_time": "2022-03-30T16:51:13.692Z"
   },
   {
    "duration": 29,
    "start_time": "2022-03-30T16:51:13.835Z"
   },
   {
    "duration": 11,
    "start_time": "2022-03-30T16:51:13.866Z"
   },
   {
    "duration": 92,
    "start_time": "2022-03-30T16:51:13.879Z"
   },
   {
    "duration": 8,
    "start_time": "2022-03-30T16:51:13.973Z"
   },
   {
    "duration": 27,
    "start_time": "2022-03-30T16:51:13.983Z"
   },
   {
    "duration": 100,
    "start_time": "2022-03-30T16:51:14.012Z"
   },
   {
    "duration": 16,
    "start_time": "2022-03-30T16:51:22.244Z"
   },
   {
    "duration": 9,
    "start_time": "2022-03-30T16:51:24.270Z"
   },
   {
    "duration": 994,
    "start_time": "2022-03-30T16:51:31.513Z"
   },
   {
    "duration": 132,
    "start_time": "2022-03-30T16:51:32.508Z"
   },
   {
    "duration": 23,
    "start_time": "2022-03-30T16:51:32.642Z"
   },
   {
    "duration": 11,
    "start_time": "2022-03-30T16:51:32.667Z"
   },
   {
    "duration": 86,
    "start_time": "2022-03-30T16:51:32.679Z"
   },
   {
    "duration": 3,
    "start_time": "2022-03-30T16:51:32.766Z"
   },
   {
    "duration": 16,
    "start_time": "2022-03-30T16:51:32.771Z"
   },
   {
    "duration": 97,
    "start_time": "2022-03-30T16:51:32.788Z"
   },
   {
    "duration": 9,
    "start_time": "2022-03-30T16:51:48.433Z"
   },
   {
    "duration": 11,
    "start_time": "2022-03-30T16:51:57.768Z"
   },
   {
    "duration": 16,
    "start_time": "2022-03-30T16:51:58.937Z"
   },
   {
    "duration": 6,
    "start_time": "2022-03-30T16:52:13.798Z"
   },
   {
    "duration": 5,
    "start_time": "2022-03-30T16:52:24.228Z"
   },
   {
    "duration": 15,
    "start_time": "2022-03-30T16:52:42.060Z"
   },
   {
    "duration": 10,
    "start_time": "2022-03-30T16:52:48.572Z"
   },
   {
    "duration": 5,
    "start_time": "2022-03-30T16:52:54.237Z"
   },
   {
    "duration": 5,
    "start_time": "2022-03-30T16:53:38.320Z"
   },
   {
    "duration": 24,
    "start_time": "2022-03-30T16:55:54.294Z"
   },
   {
    "duration": 28,
    "start_time": "2022-03-30T16:56:11.173Z"
   },
   {
    "duration": 1128,
    "start_time": "2022-03-30T16:58:08.178Z"
   },
   {
    "duration": 143,
    "start_time": "2022-03-30T16:58:09.308Z"
   },
   {
    "duration": 27,
    "start_time": "2022-03-30T16:58:09.453Z"
   },
   {
    "duration": 11,
    "start_time": "2022-03-30T16:58:09.482Z"
   },
   {
    "duration": 84,
    "start_time": "2022-03-30T16:58:09.495Z"
   },
   {
    "duration": 3,
    "start_time": "2022-03-30T16:58:09.581Z"
   },
   {
    "duration": 13,
    "start_time": "2022-03-30T16:58:09.585Z"
   },
   {
    "duration": 25,
    "start_time": "2022-03-30T16:58:09.600Z"
   },
   {
    "duration": 52,
    "start_time": "2022-03-30T16:58:09.627Z"
   },
   {
    "duration": 1650,
    "start_time": "2022-04-03T14:55:03.708Z"
   },
   {
    "duration": 204,
    "start_time": "2022-04-03T14:55:05.361Z"
   },
   {
    "duration": 38,
    "start_time": "2022-04-03T14:55:05.567Z"
   },
   {
    "duration": 16,
    "start_time": "2022-04-03T14:55:05.608Z"
   },
   {
    "duration": 155,
    "start_time": "2022-04-03T14:55:05.626Z"
   },
   {
    "duration": 6,
    "start_time": "2022-04-03T14:55:05.784Z"
   },
   {
    "duration": 47,
    "start_time": "2022-04-03T14:55:05.792Z"
   },
   {
    "duration": 36,
    "start_time": "2022-04-03T14:55:05.841Z"
   },
   {
    "duration": 40,
    "start_time": "2022-04-03T14:55:05.880Z"
   },
   {
    "duration": 54,
    "start_time": "2022-04-03T15:31:09.315Z"
   },
   {
    "duration": 1413,
    "start_time": "2022-04-03T15:31:14.323Z"
   },
   {
    "duration": 213,
    "start_time": "2022-04-03T15:31:15.739Z"
   },
   {
    "duration": 42,
    "start_time": "2022-04-03T15:31:15.956Z"
   },
   {
    "duration": 15,
    "start_time": "2022-04-03T15:31:16.001Z"
   },
   {
    "duration": 148,
    "start_time": "2022-04-03T15:31:16.018Z"
   },
   {
    "duration": 6,
    "start_time": "2022-04-03T15:31:16.178Z"
   },
   {
    "duration": 21,
    "start_time": "2022-04-03T15:31:16.187Z"
   },
   {
    "duration": 34,
    "start_time": "2022-04-03T15:31:16.210Z"
   },
   {
    "duration": 63,
    "start_time": "2022-04-03T15:31:16.246Z"
   },
   {
    "duration": 40,
    "start_time": "2022-04-03T15:31:16.312Z"
   },
   {
    "duration": 1474,
    "start_time": "2022-04-03T15:31:30.659Z"
   },
   {
    "duration": 221,
    "start_time": "2022-04-03T15:31:32.136Z"
   },
   {
    "duration": 38,
    "start_time": "2022-04-03T15:31:32.359Z"
   },
   {
    "duration": 16,
    "start_time": "2022-04-03T15:31:32.401Z"
   },
   {
    "duration": 148,
    "start_time": "2022-04-03T15:31:32.419Z"
   },
   {
    "duration": 14,
    "start_time": "2022-04-03T15:31:32.574Z"
   },
   {
    "duration": 31,
    "start_time": "2022-04-03T15:31:32.591Z"
   },
   {
    "duration": 33,
    "start_time": "2022-04-03T15:31:32.624Z"
   },
   {
    "duration": 51,
    "start_time": "2022-04-03T15:31:32.660Z"
   },
   {
    "duration": 59,
    "start_time": "2022-04-03T15:31:32.715Z"
   },
   {
    "duration": 9,
    "start_time": "2022-04-03T15:31:40.312Z"
   },
   {
    "duration": 33,
    "start_time": "2022-04-03T15:31:51.207Z"
   },
   {
    "duration": 44,
    "start_time": "2022-04-03T15:32:00.751Z"
   },
   {
    "duration": 19,
    "start_time": "2022-04-03T15:33:05.136Z"
   },
   {
    "duration": 13,
    "start_time": "2022-04-03T15:33:07.886Z"
   },
   {
    "duration": 19,
    "start_time": "2022-04-03T15:33:11.140Z"
   },
   {
    "duration": 11,
    "start_time": "2022-04-03T15:33:12.652Z"
   },
   {
    "duration": 15,
    "start_time": "2022-04-03T15:33:16.674Z"
   },
   {
    "duration": 201,
    "start_time": "2022-04-03T15:33:16.692Z"
   },
   {
    "duration": 26,
    "start_time": "2022-04-03T15:33:16.895Z"
   },
   {
    "duration": 9,
    "start_time": "2022-04-03T15:33:16.924Z"
   },
   {
    "duration": 153,
    "start_time": "2022-04-03T15:33:16.935Z"
   },
   {
    "duration": 5,
    "start_time": "2022-04-03T15:33:17.091Z"
   },
   {
    "duration": 15,
    "start_time": "2022-04-03T15:33:17.098Z"
   },
   {
    "duration": 33,
    "start_time": "2022-04-03T15:33:17.115Z"
   },
   {
    "duration": 29,
    "start_time": "2022-04-03T15:33:17.183Z"
   },
   {
    "duration": 60,
    "start_time": "2022-04-03T15:33:17.217Z"
   },
   {
    "duration": 1396,
    "start_time": "2022-04-03T15:33:26.823Z"
   },
   {
    "duration": 208,
    "start_time": "2022-04-03T15:33:28.222Z"
   },
   {
    "duration": 50,
    "start_time": "2022-04-03T15:33:28.433Z"
   },
   {
    "duration": 14,
    "start_time": "2022-04-03T15:33:28.487Z"
   },
   {
    "duration": 128,
    "start_time": "2022-04-03T15:33:28.504Z"
   },
   {
    "duration": 8,
    "start_time": "2022-04-03T15:33:28.634Z"
   },
   {
    "duration": 35,
    "start_time": "2022-04-03T15:33:28.644Z"
   },
   {
    "duration": 38,
    "start_time": "2022-04-03T15:33:28.682Z"
   },
   {
    "duration": 53,
    "start_time": "2022-04-03T15:33:28.722Z"
   },
   {
    "duration": 46,
    "start_time": "2022-04-03T15:33:28.779Z"
   },
   {
    "duration": 13,
    "start_time": "2022-04-03T15:33:33.446Z"
   },
   {
    "duration": 30,
    "start_time": "2022-04-03T15:33:34.607Z"
   },
   {
    "duration": 20,
    "start_time": "2022-04-03T15:33:35.664Z"
   },
   {
    "duration": 28,
    "start_time": "2022-04-03T15:33:43.748Z"
   },
   {
    "duration": 31,
    "start_time": "2022-04-03T15:33:46.391Z"
   },
   {
    "duration": 23,
    "start_time": "2022-04-03T15:33:47.075Z"
   },
   {
    "duration": 2178,
    "start_time": "2022-04-03T15:34:28.311Z"
   },
   {
    "duration": 1416,
    "start_time": "2022-04-03T15:34:42.807Z"
   },
   {
    "duration": 212,
    "start_time": "2022-04-03T15:34:44.226Z"
   },
   {
    "duration": 34,
    "start_time": "2022-04-03T15:34:44.441Z"
   },
   {
    "duration": 14,
    "start_time": "2022-04-03T15:34:44.484Z"
   },
   {
    "duration": 134,
    "start_time": "2022-04-03T15:34:44.501Z"
   },
   {
    "duration": 7,
    "start_time": "2022-04-03T15:34:44.638Z"
   },
   {
    "duration": 54,
    "start_time": "2022-04-03T15:34:44.647Z"
   },
   {
    "duration": 152,
    "start_time": "2022-04-03T15:34:44.703Z"
   },
   {
    "duration": 0,
    "start_time": "2022-04-03T15:34:44.857Z"
   },
   {
    "duration": 0,
    "start_time": "2022-04-03T15:34:44.858Z"
   },
   {
    "duration": 19,
    "start_time": "2022-04-03T15:34:53.460Z"
   },
   {
    "duration": 15,
    "start_time": "2022-04-03T15:34:54.669Z"
   },
   {
    "duration": 14,
    "start_time": "2022-04-03T15:34:55.724Z"
   },
   {
    "duration": 1468,
    "start_time": "2022-04-03T15:35:03.891Z"
   },
   {
    "duration": 204,
    "start_time": "2022-04-03T15:35:05.362Z"
   },
   {
    "duration": 37,
    "start_time": "2022-04-03T15:35:05.569Z"
   },
   {
    "duration": 17,
    "start_time": "2022-04-03T15:35:05.609Z"
   },
   {
    "duration": 156,
    "start_time": "2022-04-03T15:35:05.628Z"
   },
   {
    "duration": 42,
    "start_time": "2022-04-03T15:35:05.788Z"
   },
   {
    "duration": 28,
    "start_time": "2022-04-03T15:35:05.833Z"
   },
   {
    "duration": 154,
    "start_time": "2022-04-03T15:35:05.864Z"
   },
   {
    "duration": 0,
    "start_time": "2022-04-03T15:35:06.020Z"
   },
   {
    "duration": 0,
    "start_time": "2022-04-03T15:35:06.022Z"
   },
   {
    "duration": 1513,
    "start_time": "2022-04-03T15:35:31.515Z"
   },
   {
    "duration": 234,
    "start_time": "2022-04-03T15:35:33.030Z"
   },
   {
    "duration": 40,
    "start_time": "2022-04-03T15:35:33.267Z"
   },
   {
    "duration": 14,
    "start_time": "2022-04-03T15:35:33.310Z"
   },
   {
    "duration": 172,
    "start_time": "2022-04-03T15:35:33.326Z"
   },
   {
    "duration": 5,
    "start_time": "2022-04-03T15:35:33.501Z"
   },
   {
    "duration": 177,
    "start_time": "2022-04-03T15:35:33.508Z"
   },
   {
    "duration": 0,
    "start_time": "2022-04-03T15:35:33.687Z"
   },
   {
    "duration": 0,
    "start_time": "2022-04-03T15:35:33.695Z"
   },
   {
    "duration": 13,
    "start_time": "2022-04-03T15:35:45.376Z"
   },
   {
    "duration": 38,
    "start_time": "2022-04-03T15:35:55.246Z"
   },
   {
    "duration": 15,
    "start_time": "2022-04-03T15:36:25.527Z"
   },
   {
    "duration": 9,
    "start_time": "2022-04-03T15:36:34.595Z"
   },
   {
    "duration": 7,
    "start_time": "2022-04-03T15:36:43.130Z"
   },
   {
    "duration": 15,
    "start_time": "2022-04-03T15:36:51.460Z"
   },
   {
    "duration": 15,
    "start_time": "2022-04-03T15:39:41.282Z"
   },
   {
    "duration": 37,
    "start_time": "2022-04-03T15:39:42.274Z"
   },
   {
    "duration": 15,
    "start_time": "2022-04-03T15:40:07.376Z"
   },
   {
    "duration": 86,
    "start_time": "2022-04-03T15:40:18.348Z"
   },
   {
    "duration": 60,
    "start_time": "2022-04-03T15:40:24.243Z"
   },
   {
    "duration": 67,
    "start_time": "2022-04-03T15:40:32.277Z"
   },
   {
    "duration": 45,
    "start_time": "2022-04-03T15:40:53.853Z"
   },
   {
    "duration": 495,
    "start_time": "2022-04-03T15:44:41.137Z"
   },
   {
    "duration": 521,
    "start_time": "2022-04-03T15:44:50.184Z"
   },
   {
    "duration": 4,
    "start_time": "2022-04-03T15:45:45.861Z"
   },
   {
    "duration": 31,
    "start_time": "2022-04-03T15:45:50.487Z"
   },
   {
    "duration": 124,
    "start_time": "2022-04-03T16:10:59.067Z"
   },
   {
    "duration": 12,
    "start_time": "2022-04-03T16:11:13.059Z"
   },
   {
    "duration": 1868,
    "start_time": "2022-04-03T16:11:19.395Z"
   },
   {
    "duration": 10,
    "start_time": "2022-04-03T16:11:28.718Z"
   },
   {
    "duration": 53,
    "start_time": "2022-04-03T16:37:16.658Z"
   },
   {
    "duration": 114,
    "start_time": "2022-04-03T16:41:04.186Z"
   },
   {
    "duration": 21,
    "start_time": "2022-04-03T16:41:11.953Z"
   },
   {
    "duration": 20,
    "start_time": "2022-04-03T16:41:46.695Z"
   },
   {
    "duration": 132,
    "start_time": "2022-04-03T16:42:21.031Z"
   },
   {
    "duration": 9,
    "start_time": "2022-04-03T16:42:30.337Z"
   },
   {
    "duration": 198,
    "start_time": "2022-04-03T16:42:36.372Z"
   },
   {
    "duration": 69,
    "start_time": "2022-04-03T16:42:43.385Z"
   },
   {
    "duration": 5,
    "start_time": "2022-04-03T16:43:11.433Z"
   },
   {
    "duration": 67,
    "start_time": "2022-04-03T16:43:15.087Z"
   },
   {
    "duration": 44,
    "start_time": "2022-04-03T16:43:30.705Z"
   },
   {
    "duration": 29,
    "start_time": "2022-04-03T16:43:54.034Z"
   },
   {
    "duration": 110,
    "start_time": "2022-04-03T16:46:44.085Z"
   },
   {
    "duration": 131,
    "start_time": "2022-04-03T16:46:53.324Z"
   },
   {
    "duration": 937,
    "start_time": "2022-04-03T16:46:58.812Z"
   },
   {
    "duration": 753,
    "start_time": "2022-04-03T16:48:42.462Z"
   },
   {
    "duration": 120,
    "start_time": "2022-04-03T16:48:56.922Z"
   },
   {
    "duration": 764,
    "start_time": "2022-04-03T16:49:10.940Z"
   },
   {
    "duration": 707,
    "start_time": "2022-04-03T16:49:16.908Z"
   },
   {
    "duration": 753,
    "start_time": "2022-04-03T16:49:28.751Z"
   },
   {
    "duration": 736,
    "start_time": "2022-04-03T16:49:55.288Z"
   },
   {
    "duration": 771,
    "start_time": "2022-04-03T16:50:05.069Z"
   },
   {
    "duration": 499,
    "start_time": "2022-04-03T16:50:25.830Z"
   },
   {
    "duration": 388,
    "start_time": "2022-04-03T16:50:33.903Z"
   },
   {
    "duration": 387,
    "start_time": "2022-04-03T16:50:52.929Z"
   },
   {
    "duration": 398,
    "start_time": "2022-04-03T16:51:38.151Z"
   },
   {
    "duration": 596,
    "start_time": "2022-04-03T16:52:20.471Z"
   },
   {
    "duration": 411,
    "start_time": "2022-04-03T16:52:45.752Z"
   },
   {
    "duration": 398,
    "start_time": "2022-04-03T16:52:50.522Z"
   },
   {
    "duration": 1431,
    "start_time": "2022-04-03T16:53:00.996Z"
   },
   {
    "duration": 208,
    "start_time": "2022-04-03T16:53:02.431Z"
   },
   {
    "duration": 41,
    "start_time": "2022-04-03T16:53:02.642Z"
   },
   {
    "duration": 14,
    "start_time": "2022-04-03T16:53:02.688Z"
   },
   {
    "duration": 136,
    "start_time": "2022-04-03T16:53:02.705Z"
   },
   {
    "duration": 4,
    "start_time": "2022-04-03T16:53:02.843Z"
   },
   {
    "duration": 23,
    "start_time": "2022-04-03T16:53:02.850Z"
   },
   {
    "duration": 44,
    "start_time": "2022-04-03T16:53:02.879Z"
   },
   {
    "duration": 59,
    "start_time": "2022-04-03T16:53:02.925Z"
   },
   {
    "duration": 31,
    "start_time": "2022-04-03T16:53:02.988Z"
   },
   {
    "duration": 569,
    "start_time": "2022-04-03T16:53:03.021Z"
   },
   {
    "duration": 109,
    "start_time": "2022-04-03T16:57:04.629Z"
   },
   {
    "duration": 175,
    "start_time": "2022-04-03T16:57:23.950Z"
   },
   {
    "duration": 153,
    "start_time": "2022-04-03T16:57:32.968Z"
   },
   {
    "duration": 11,
    "start_time": "2022-04-03T16:58:21.154Z"
   },
   {
    "duration": 215,
    "start_time": "2022-04-03T16:58:21.168Z"
   },
   {
    "duration": 43,
    "start_time": "2022-04-03T16:58:21.389Z"
   },
   {
    "duration": 13,
    "start_time": "2022-04-03T16:58:21.434Z"
   },
   {
    "duration": 225,
    "start_time": "2022-04-03T16:58:21.451Z"
   },
   {
    "duration": 4,
    "start_time": "2022-04-03T16:58:21.679Z"
   },
   {
    "duration": 16,
    "start_time": "2022-04-03T16:58:21.685Z"
   },
   {
    "duration": 34,
    "start_time": "2022-04-03T16:58:21.704Z"
   },
   {
    "duration": 78,
    "start_time": "2022-04-03T16:58:21.741Z"
   },
   {
    "duration": 31,
    "start_time": "2022-04-03T16:58:21.822Z"
   },
   {
    "duration": 411,
    "start_time": "2022-04-03T16:58:21.879Z"
   },
   {
    "duration": 11,
    "start_time": "2022-04-03T16:58:22.293Z"
   },
   {
    "duration": 570,
    "start_time": "2022-04-03T16:58:28.606Z"
   },
   {
    "duration": 0,
    "start_time": "2022-04-03T16:58:29.180Z"
   },
   {
    "duration": 0,
    "start_time": "2022-04-03T16:58:29.182Z"
   },
   {
    "duration": 0,
    "start_time": "2022-04-03T16:58:29.184Z"
   },
   {
    "duration": 0,
    "start_time": "2022-04-03T16:58:29.186Z"
   },
   {
    "duration": 0,
    "start_time": "2022-04-03T16:58:29.187Z"
   },
   {
    "duration": 0,
    "start_time": "2022-04-03T16:58:29.190Z"
   },
   {
    "duration": 0,
    "start_time": "2022-04-03T16:58:29.191Z"
   },
   {
    "duration": 0,
    "start_time": "2022-04-03T16:58:29.193Z"
   },
   {
    "duration": 0,
    "start_time": "2022-04-03T16:58:29.195Z"
   },
   {
    "duration": 0,
    "start_time": "2022-04-03T16:58:29.197Z"
   },
   {
    "duration": 0,
    "start_time": "2022-04-03T16:58:29.199Z"
   },
   {
    "duration": 585,
    "start_time": "2022-04-03T16:58:37.508Z"
   },
   {
    "duration": 0,
    "start_time": "2022-04-03T16:58:38.096Z"
   },
   {
    "duration": 0,
    "start_time": "2022-04-03T16:58:38.098Z"
   },
   {
    "duration": 0,
    "start_time": "2022-04-03T16:58:38.100Z"
   },
   {
    "duration": 0,
    "start_time": "2022-04-03T16:58:38.102Z"
   },
   {
    "duration": 0,
    "start_time": "2022-04-03T16:58:38.104Z"
   },
   {
    "duration": 0,
    "start_time": "2022-04-03T16:58:38.106Z"
   },
   {
    "duration": 0,
    "start_time": "2022-04-03T16:58:38.108Z"
   },
   {
    "duration": 0,
    "start_time": "2022-04-03T16:58:38.110Z"
   },
   {
    "duration": 0,
    "start_time": "2022-04-03T16:58:38.113Z"
   },
   {
    "duration": 0,
    "start_time": "2022-04-03T16:58:38.114Z"
   },
   {
    "duration": 0,
    "start_time": "2022-04-03T16:58:38.117Z"
   },
   {
    "duration": 1502,
    "start_time": "2022-04-03T16:58:50.037Z"
   },
   {
    "duration": 212,
    "start_time": "2022-04-03T16:58:51.541Z"
   },
   {
    "duration": 36,
    "start_time": "2022-04-03T16:58:51.756Z"
   },
   {
    "duration": 15,
    "start_time": "2022-04-03T16:58:51.796Z"
   },
   {
    "duration": 152,
    "start_time": "2022-04-03T16:58:51.813Z"
   },
   {
    "duration": 12,
    "start_time": "2022-04-03T16:58:51.967Z"
   },
   {
    "duration": 10,
    "start_time": "2022-04-03T16:58:51.985Z"
   },
   {
    "duration": 45,
    "start_time": "2022-04-03T16:58:51.997Z"
   },
   {
    "duration": 64,
    "start_time": "2022-04-03T16:58:52.045Z"
   },
   {
    "duration": 28,
    "start_time": "2022-04-03T16:58:52.113Z"
   },
   {
    "duration": 565,
    "start_time": "2022-04-03T16:58:52.143Z"
   },
   {
    "duration": 175,
    "start_time": "2022-04-03T16:58:52.710Z"
   },
   {
    "duration": 137,
    "start_time": "2022-04-03T16:59:10.662Z"
   },
   {
    "duration": 136,
    "start_time": "2022-04-03T16:59:42.562Z"
   },
   {
    "duration": 119,
    "start_time": "2022-04-03T16:59:48.356Z"
   },
   {
    "duration": 128,
    "start_time": "2022-04-03T16:59:54.900Z"
   },
   {
    "duration": 125,
    "start_time": "2022-04-03T16:59:58.670Z"
   },
   {
    "duration": 11,
    "start_time": "2022-04-03T17:00:03.733Z"
   },
   {
    "duration": 12,
    "start_time": "2022-04-03T17:00:41.803Z"
   },
   {
    "duration": 12,
    "start_time": "2022-04-03T17:01:08.560Z"
   },
   {
    "duration": 12,
    "start_time": "2022-04-03T17:01:48.896Z"
   },
   {
    "duration": 1400,
    "start_time": "2022-04-03T17:02:12.734Z"
   },
   {
    "duration": 210,
    "start_time": "2022-04-03T17:02:14.137Z"
   },
   {
    "duration": 41,
    "start_time": "2022-04-03T17:02:14.350Z"
   },
   {
    "duration": 14,
    "start_time": "2022-04-03T17:02:14.394Z"
   },
   {
    "duration": 149,
    "start_time": "2022-04-03T17:02:14.410Z"
   },
   {
    "duration": 4,
    "start_time": "2022-04-03T17:02:14.561Z"
   },
   {
    "duration": 17,
    "start_time": "2022-04-03T17:02:14.573Z"
   },
   {
    "duration": 36,
    "start_time": "2022-04-03T17:02:14.592Z"
   },
   {
    "duration": 66,
    "start_time": "2022-04-03T17:02:14.630Z"
   },
   {
    "duration": 30,
    "start_time": "2022-04-03T17:02:14.699Z"
   },
   {
    "duration": 561,
    "start_time": "2022-04-03T17:02:14.731Z"
   },
   {
    "duration": 163,
    "start_time": "2022-04-03T17:02:15.294Z"
   },
   {
    "duration": 1399,
    "start_time": "2022-04-03T17:02:25.950Z"
   },
   {
    "duration": 224,
    "start_time": "2022-04-03T17:02:27.351Z"
   },
   {
    "duration": 34,
    "start_time": "2022-04-03T17:02:27.578Z"
   },
   {
    "duration": 17,
    "start_time": "2022-04-03T17:02:27.615Z"
   },
   {
    "duration": 156,
    "start_time": "2022-04-03T17:02:27.635Z"
   },
   {
    "duration": 4,
    "start_time": "2022-04-03T17:02:27.793Z"
   },
   {
    "duration": 6,
    "start_time": "2022-04-03T17:02:27.799Z"
   },
   {
    "duration": 35,
    "start_time": "2022-04-03T17:02:27.807Z"
   },
   {
    "duration": 84,
    "start_time": "2022-04-03T17:02:27.844Z"
   },
   {
    "duration": 46,
    "start_time": "2022-04-03T17:02:27.933Z"
   },
   {
    "duration": 545,
    "start_time": "2022-04-03T17:02:27.982Z"
   },
   {
    "duration": 159,
    "start_time": "2022-04-03T17:02:28.529Z"
   },
   {
    "duration": 514,
    "start_time": "2022-04-03T17:02:53.535Z"
   },
   {
    "duration": 488,
    "start_time": "2022-04-03T17:02:57.877Z"
   },
   {
    "duration": 39,
    "start_time": "2022-04-03T17:54:19.894Z"
   },
   {
    "duration": 1492,
    "start_time": "2022-04-03T17:54:28.970Z"
   },
   {
    "duration": 220,
    "start_time": "2022-04-03T17:54:30.465Z"
   },
   {
    "duration": 38,
    "start_time": "2022-04-03T17:54:30.688Z"
   },
   {
    "duration": 15,
    "start_time": "2022-04-03T17:54:30.729Z"
   },
   {
    "duration": 198,
    "start_time": "2022-04-03T17:54:30.747Z"
   },
   {
    "duration": 6,
    "start_time": "2022-04-03T17:54:30.947Z"
   },
   {
    "duration": 21,
    "start_time": "2022-04-03T17:54:30.955Z"
   },
   {
    "duration": 46,
    "start_time": "2022-04-03T17:54:30.981Z"
   },
   {
    "duration": 85,
    "start_time": "2022-04-03T17:54:31.029Z"
   },
   {
    "duration": 31,
    "start_time": "2022-04-03T17:54:31.117Z"
   },
   {
    "duration": 599,
    "start_time": "2022-04-03T17:54:31.150Z"
   },
   {
    "duration": 197,
    "start_time": "2022-04-03T17:54:31.751Z"
   },
   {
    "duration": 6,
    "start_time": "2022-04-03T17:55:27.404Z"
   },
   {
    "duration": 1605,
    "start_time": "2022-04-03T17:55:33.793Z"
   },
   {
    "duration": 240,
    "start_time": "2022-04-03T17:55:35.401Z"
   },
   {
    "duration": 45,
    "start_time": "2022-04-03T17:55:35.644Z"
   },
   {
    "duration": 17,
    "start_time": "2022-04-03T17:55:35.695Z"
   },
   {
    "duration": 148,
    "start_time": "2022-04-03T17:55:35.716Z"
   },
   {
    "duration": 8,
    "start_time": "2022-04-03T17:55:35.866Z"
   },
   {
    "duration": 30,
    "start_time": "2022-04-03T17:55:35.876Z"
   },
   {
    "duration": 38,
    "start_time": "2022-04-03T17:55:35.910Z"
   },
   {
    "duration": 69,
    "start_time": "2022-04-03T17:55:35.951Z"
   },
   {
    "duration": 30,
    "start_time": "2022-04-03T17:55:36.024Z"
   },
   {
    "duration": 603,
    "start_time": "2022-04-03T17:55:36.056Z"
   },
   {
    "duration": 727,
    "start_time": "2022-04-03T17:55:36.661Z"
   },
   {
    "duration": 28,
    "start_time": "2022-04-03T17:56:17.338Z"
   },
   {
    "duration": 551,
    "start_time": "2022-04-03T17:56:36.126Z"
   },
   {
    "duration": 31,
    "start_time": "2022-04-03T17:57:05.972Z"
   },
   {
    "duration": 33,
    "start_time": "2022-04-03T17:57:28.765Z"
   },
   {
    "duration": 107,
    "start_time": "2022-04-03T17:57:43.574Z"
   },
   {
    "duration": 100,
    "start_time": "2022-04-03T17:57:52.392Z"
   },
   {
    "duration": 89,
    "start_time": "2022-04-03T17:58:12.199Z"
   },
   {
    "duration": 73,
    "start_time": "2022-04-03T17:58:26.646Z"
   },
   {
    "duration": 51,
    "start_time": "2022-04-03T17:58:40.509Z"
   },
   {
    "duration": 445,
    "start_time": "2022-04-03T17:58:57.744Z"
   },
   {
    "duration": 64,
    "start_time": "2022-04-03T17:59:08.257Z"
   },
   {
    "duration": 14,
    "start_time": "2022-04-03T18:01:14.578Z"
   },
   {
    "duration": 18,
    "start_time": "2022-04-03T18:01:27.610Z"
   },
   {
    "duration": 22,
    "start_time": "2022-04-03T18:01:36.261Z"
   },
   {
    "duration": 15,
    "start_time": "2022-04-03T18:02:35.504Z"
   },
   {
    "duration": 15,
    "start_time": "2022-04-03T18:03:16.709Z"
   },
   {
    "duration": 15,
    "start_time": "2022-04-03T18:03:27.398Z"
   },
   {
    "duration": 12,
    "start_time": "2022-04-03T18:14:13.494Z"
   },
   {
    "duration": 14,
    "start_time": "2022-04-03T18:14:16.975Z"
   },
   {
    "duration": 149,
    "start_time": "2022-04-03T18:14:41.115Z"
   },
   {
    "duration": 316,
    "start_time": "2022-04-03T18:15:12.566Z"
   },
   {
    "duration": 133,
    "start_time": "2022-04-03T18:15:41.205Z"
   },
   {
    "duration": 1450,
    "start_time": "2022-04-03T18:16:02.992Z"
   },
   {
    "duration": 208,
    "start_time": "2022-04-03T18:16:04.444Z"
   },
   {
    "duration": 34,
    "start_time": "2022-04-03T18:16:04.655Z"
   },
   {
    "duration": 16,
    "start_time": "2022-04-03T18:16:04.692Z"
   },
   {
    "duration": 150,
    "start_time": "2022-04-03T18:16:04.710Z"
   },
   {
    "duration": 14,
    "start_time": "2022-04-03T18:16:04.862Z"
   },
   {
    "duration": 15,
    "start_time": "2022-04-03T18:16:04.879Z"
   },
   {
    "duration": 41,
    "start_time": "2022-04-03T18:16:04.896Z"
   },
   {
    "duration": 179,
    "start_time": "2022-04-03T18:16:04.939Z"
   },
   {
    "duration": 68,
    "start_time": "2022-04-03T18:16:05.123Z"
   },
   {
    "duration": 31,
    "start_time": "2022-04-03T18:16:05.193Z"
   },
   {
    "duration": 567,
    "start_time": "2022-04-03T18:16:05.226Z"
   },
   {
    "duration": 55,
    "start_time": "2022-04-03T18:16:05.796Z"
   },
   {
    "duration": 40,
    "start_time": "2022-04-03T18:16:05.853Z"
   },
   {
    "duration": 153,
    "start_time": "2022-04-03T18:16:28.927Z"
   },
   {
    "duration": 1414,
    "start_time": "2022-04-03T18:16:36.591Z"
   },
   {
    "duration": 206,
    "start_time": "2022-04-03T18:16:38.008Z"
   },
   {
    "duration": 28,
    "start_time": "2022-04-03T18:16:38.217Z"
   },
   {
    "duration": 32,
    "start_time": "2022-04-03T18:16:38.248Z"
   },
   {
    "duration": 141,
    "start_time": "2022-04-03T18:16:38.283Z"
   },
   {
    "duration": 21,
    "start_time": "2022-04-03T18:16:38.426Z"
   },
   {
    "duration": 17,
    "start_time": "2022-04-03T18:16:38.450Z"
   },
   {
    "duration": 66,
    "start_time": "2022-04-03T18:16:38.469Z"
   },
   {
    "duration": 158,
    "start_time": "2022-04-03T18:16:38.537Z"
   },
   {
    "duration": 156,
    "start_time": "2022-04-03T18:16:38.698Z"
   },
   {
    "duration": 61,
    "start_time": "2022-04-03T18:16:38.856Z"
   },
   {
    "duration": 30,
    "start_time": "2022-04-03T18:16:38.920Z"
   },
   {
    "duration": 574,
    "start_time": "2022-04-03T18:16:38.952Z"
   },
   {
    "duration": 71,
    "start_time": "2022-04-03T18:16:39.528Z"
   },
   {
    "duration": 18,
    "start_time": "2022-04-03T18:16:39.602Z"
   },
   {
    "duration": 137,
    "start_time": "2022-04-03T18:16:48.627Z"
   },
   {
    "duration": 44,
    "start_time": "2022-04-03T18:16:51.606Z"
   },
   {
    "duration": 35,
    "start_time": "2022-04-03T18:16:52.766Z"
   },
   {
    "duration": 392,
    "start_time": "2022-04-03T18:16:53.528Z"
   },
   {
    "duration": 55,
    "start_time": "2022-04-03T18:16:54.435Z"
   },
   {
    "duration": 18,
    "start_time": "2022-04-03T18:16:55.697Z"
   },
   {
    "duration": 1434,
    "start_time": "2022-04-03T18:17:03.798Z"
   },
   {
    "duration": 208,
    "start_time": "2022-04-03T18:17:05.235Z"
   },
   {
    "duration": 38,
    "start_time": "2022-04-03T18:17:05.445Z"
   },
   {
    "duration": 15,
    "start_time": "2022-04-03T18:17:05.486Z"
   },
   {
    "duration": 137,
    "start_time": "2022-04-03T18:17:05.503Z"
   },
   {
    "duration": 6,
    "start_time": "2022-04-03T18:17:05.643Z"
   },
   {
    "duration": 25,
    "start_time": "2022-04-03T18:17:05.651Z"
   },
   {
    "duration": 45,
    "start_time": "2022-04-03T18:17:05.681Z"
   },
   {
    "duration": 155,
    "start_time": "2022-04-03T18:17:05.728Z"
   },
   {
    "duration": 131,
    "start_time": "2022-04-03T18:17:05.887Z"
   },
   {
    "duration": 61,
    "start_time": "2022-04-03T18:17:06.020Z"
   },
   {
    "duration": 34,
    "start_time": "2022-04-03T18:17:06.084Z"
   },
   {
    "duration": 561,
    "start_time": "2022-04-03T18:17:06.120Z"
   },
   {
    "duration": 56,
    "start_time": "2022-04-03T18:17:06.689Z"
   },
   {
    "duration": 40,
    "start_time": "2022-04-03T18:17:06.747Z"
   },
   {
    "duration": 127,
    "start_time": "2022-04-03T18:17:23.806Z"
   },
   {
    "duration": 122,
    "start_time": "2022-04-03T18:17:48.534Z"
   },
   {
    "duration": 123,
    "start_time": "2022-04-03T18:17:54.318Z"
   },
   {
    "duration": 127,
    "start_time": "2022-04-03T18:18:03.885Z"
   },
   {
    "duration": 1442,
    "start_time": "2022-04-03T18:18:08.895Z"
   },
   {
    "duration": 207,
    "start_time": "2022-04-03T18:18:10.339Z"
   },
   {
    "duration": 46,
    "start_time": "2022-04-03T18:18:10.548Z"
   },
   {
    "duration": 19,
    "start_time": "2022-04-03T18:18:10.597Z"
   },
   {
    "duration": 137,
    "start_time": "2022-04-03T18:18:10.618Z"
   },
   {
    "duration": 9,
    "start_time": "2022-04-03T18:18:10.758Z"
   },
   {
    "duration": 45,
    "start_time": "2022-04-03T18:18:10.769Z"
   },
   {
    "duration": 71,
    "start_time": "2022-04-03T18:18:10.816Z"
   },
   {
    "duration": 156,
    "start_time": "2022-04-03T18:18:10.889Z"
   },
   {
    "duration": 133,
    "start_time": "2022-04-03T18:18:11.048Z"
   },
   {
    "duration": 45,
    "start_time": "2022-04-03T18:18:11.184Z"
   },
   {
    "duration": 29,
    "start_time": "2022-04-03T18:18:11.231Z"
   },
   {
    "duration": 536,
    "start_time": "2022-04-03T18:18:11.278Z"
   },
   {
    "duration": 62,
    "start_time": "2022-04-03T18:18:11.816Z"
   },
   {
    "duration": 18,
    "start_time": "2022-04-03T18:18:11.880Z"
   },
   {
    "duration": 124,
    "start_time": "2022-04-03T18:18:20.683Z"
   },
   {
    "duration": 1479,
    "start_time": "2022-04-03T18:18:25.647Z"
   },
   {
    "duration": 210,
    "start_time": "2022-04-03T18:18:27.129Z"
   },
   {
    "duration": 38,
    "start_time": "2022-04-03T18:18:27.341Z"
   },
   {
    "duration": 18,
    "start_time": "2022-04-03T18:18:27.383Z"
   },
   {
    "duration": 140,
    "start_time": "2022-04-03T18:18:27.403Z"
   },
   {
    "duration": 6,
    "start_time": "2022-04-03T18:18:27.546Z"
   },
   {
    "duration": 25,
    "start_time": "2022-04-03T18:18:27.554Z"
   },
   {
    "duration": 40,
    "start_time": "2022-04-03T18:18:27.581Z"
   },
   {
    "duration": 181,
    "start_time": "2022-04-03T18:18:27.624Z"
   },
   {
    "duration": 140,
    "start_time": "2022-04-03T18:18:27.808Z"
   },
   {
    "duration": 62,
    "start_time": "2022-04-03T18:18:27.951Z"
   },
   {
    "duration": 29,
    "start_time": "2022-04-03T18:18:28.015Z"
   },
   {
    "duration": 571,
    "start_time": "2022-04-03T18:18:28.046Z"
   },
   {
    "duration": 71,
    "start_time": "2022-04-03T18:18:28.620Z"
   },
   {
    "duration": 17,
    "start_time": "2022-04-03T18:18:28.694Z"
   },
   {
    "duration": 1474,
    "start_time": "2022-04-03T18:21:14.341Z"
   },
   {
    "duration": 210,
    "start_time": "2022-04-03T18:21:15.818Z"
   },
   {
    "duration": 44,
    "start_time": "2022-04-03T18:21:16.030Z"
   },
   {
    "duration": 19,
    "start_time": "2022-04-03T18:21:16.078Z"
   },
   {
    "duration": 138,
    "start_time": "2022-04-03T18:21:16.100Z"
   },
   {
    "duration": 16,
    "start_time": "2022-04-03T18:21:16.241Z"
   },
   {
    "duration": 25,
    "start_time": "2022-04-03T18:21:16.259Z"
   },
   {
    "duration": 45,
    "start_time": "2022-04-03T18:21:16.287Z"
   },
   {
    "duration": 160,
    "start_time": "2022-04-03T18:21:16.335Z"
   },
   {
    "duration": 133,
    "start_time": "2022-04-03T18:21:16.499Z"
   },
   {
    "duration": 61,
    "start_time": "2022-04-03T18:21:16.635Z"
   },
   {
    "duration": 30,
    "start_time": "2022-04-03T18:21:16.699Z"
   },
   {
    "duration": 554,
    "start_time": "2022-04-03T18:21:16.732Z"
   },
   {
    "duration": 58,
    "start_time": "2022-04-03T18:21:17.288Z"
   },
   {
    "duration": 41,
    "start_time": "2022-04-03T18:21:17.349Z"
   },
   {
    "duration": 132,
    "start_time": "2022-04-03T18:27:13.612Z"
   },
   {
    "duration": 189,
    "start_time": "2022-04-03T18:27:26.233Z"
   },
   {
    "duration": 15,
    "start_time": "2022-04-03T18:27:52.458Z"
   },
   {
    "duration": 35,
    "start_time": "2022-04-03T18:32:43.018Z"
   },
   {
    "duration": 37,
    "start_time": "2022-04-03T18:32:49.391Z"
   },
   {
    "duration": 44,
    "start_time": "2022-04-03T18:33:16.958Z"
   },
   {
    "duration": 41,
    "start_time": "2022-04-03T18:33:30.831Z"
   },
   {
    "duration": 86,
    "start_time": "2022-04-03T18:35:44.558Z"
   },
   {
    "duration": 102,
    "start_time": "2022-04-03T18:35:54.546Z"
   },
   {
    "duration": 67,
    "start_time": "2022-04-03T18:40:29.888Z"
   },
   {
    "duration": 72,
    "start_time": "2022-04-03T18:40:35.492Z"
   },
   {
    "duration": 98,
    "start_time": "2022-04-03T18:40:55.846Z"
   },
   {
    "duration": 80,
    "start_time": "2022-04-03T18:41:13.263Z"
   },
   {
    "duration": 9,
    "start_time": "2022-04-03T19:07:22.796Z"
   },
   {
    "duration": 100,
    "start_time": "2022-04-03T19:09:14.131Z"
   },
   {
    "duration": 210,
    "start_time": "2022-04-03T19:11:18.952Z"
   },
   {
    "duration": 61,
    "start_time": "2022-04-03T19:12:49.954Z"
   },
   {
    "duration": 7,
    "start_time": "2022-04-03T19:13:14.421Z"
   },
   {
    "duration": 14,
    "start_time": "2022-04-03T19:13:19.744Z"
   },
   {
    "duration": 14,
    "start_time": "2022-04-03T19:13:27.115Z"
   },
   {
    "duration": 70,
    "start_time": "2022-04-04T18:26:45.488Z"
   },
   {
    "duration": 15,
    "start_time": "2022-04-04T18:26:52.423Z"
   },
   {
    "duration": 1728,
    "start_time": "2022-04-04T18:26:57.848Z"
   },
   {
    "duration": 189,
    "start_time": "2022-04-04T18:26:59.582Z"
   },
   {
    "duration": 35,
    "start_time": "2022-04-04T18:26:59.773Z"
   },
   {
    "duration": 16,
    "start_time": "2022-04-04T18:26:59.813Z"
   },
   {
    "duration": 150,
    "start_time": "2022-04-04T18:26:59.832Z"
   },
   {
    "duration": 6,
    "start_time": "2022-04-04T18:26:59.985Z"
   },
   {
    "duration": 9,
    "start_time": "2022-04-04T18:26:59.993Z"
   },
   {
    "duration": 37,
    "start_time": "2022-04-04T18:27:00.004Z"
   },
   {
    "duration": 172,
    "start_time": "2022-04-04T18:27:00.043Z"
   },
   {
    "duration": 172,
    "start_time": "2022-04-04T18:27:00.220Z"
   },
   {
    "duration": 73,
    "start_time": "2022-04-04T18:27:00.395Z"
   },
   {
    "duration": 46,
    "start_time": "2022-04-04T18:27:00.483Z"
   },
   {
    "duration": 585,
    "start_time": "2022-04-04T18:27:00.532Z"
   },
   {
    "duration": 67,
    "start_time": "2022-04-04T18:27:01.120Z"
   },
   {
    "duration": 16,
    "start_time": "2022-04-04T18:27:01.190Z"
   },
   {
    "duration": 22,
    "start_time": "2022-04-04T18:27:01.209Z"
   },
   {
    "duration": 73,
    "start_time": "2022-04-04T18:27:01.233Z"
   },
   {
    "duration": 115,
    "start_time": "2022-04-04T18:27:01.308Z"
   },
   {
    "duration": 57,
    "start_time": "2022-04-04T18:27:01.425Z"
   },
   {
    "duration": 161,
    "start_time": "2022-04-04T18:27:01.485Z"
   },
   {
    "duration": 0,
    "start_time": "2022-04-04T18:27:01.649Z"
   },
   {
    "duration": 14,
    "start_time": "2022-04-04T18:27:31.947Z"
   },
   {
    "duration": 12,
    "start_time": "2022-04-04T18:27:34.354Z"
   },
   {
    "duration": 13,
    "start_time": "2022-04-04T18:27:47.704Z"
   },
   {
    "duration": 208,
    "start_time": "2022-04-04T18:27:53.164Z"
   },
   {
    "duration": 13,
    "start_time": "2022-04-04T18:28:08.224Z"
   },
   {
    "duration": 13,
    "start_time": "2022-04-04T18:28:15.266Z"
   },
   {
    "duration": 13,
    "start_time": "2022-04-04T18:28:18.723Z"
   },
   {
    "duration": 1455,
    "start_time": "2022-04-04T18:28:25.876Z"
   },
   {
    "duration": 294,
    "start_time": "2022-04-04T18:28:27.334Z"
   },
   {
    "duration": 29,
    "start_time": "2022-04-04T18:28:27.631Z"
   },
   {
    "duration": 33,
    "start_time": "2022-04-04T18:28:27.663Z"
   },
   {
    "duration": 148,
    "start_time": "2022-04-04T18:28:27.699Z"
   },
   {
    "duration": 4,
    "start_time": "2022-04-04T18:28:27.849Z"
   },
   {
    "duration": 26,
    "start_time": "2022-04-04T18:28:27.856Z"
   },
   {
    "duration": 38,
    "start_time": "2022-04-04T18:28:27.885Z"
   },
   {
    "duration": 163,
    "start_time": "2022-04-04T18:28:27.925Z"
   },
   {
    "duration": 132,
    "start_time": "2022-04-04T18:28:28.093Z"
   },
   {
    "duration": 86,
    "start_time": "2022-04-04T18:28:28.228Z"
   },
   {
    "duration": 45,
    "start_time": "2022-04-04T18:28:28.317Z"
   },
   {
    "duration": 791,
    "start_time": "2022-04-04T18:28:28.365Z"
   },
   {
    "duration": 65,
    "start_time": "2022-04-04T18:28:29.159Z"
   },
   {
    "duration": 26,
    "start_time": "2022-04-04T18:28:29.227Z"
   },
   {
    "duration": 44,
    "start_time": "2022-04-04T18:28:29.256Z"
   },
   {
    "duration": 52,
    "start_time": "2022-04-04T18:28:29.302Z"
   },
   {
    "duration": 175,
    "start_time": "2022-04-04T18:28:29.357Z"
   },
   {
    "duration": 18,
    "start_time": "2022-04-04T18:28:29.535Z"
   },
   {
    "duration": 246,
    "start_time": "2022-04-04T18:28:29.557Z"
   },
   {
    "duration": 244,
    "start_time": "2022-04-04T18:28:29.806Z"
   },
   {
    "duration": 0,
    "start_time": "2022-04-04T18:28:30.053Z"
   },
   {
    "duration": 47,
    "start_time": "2022-04-04T18:28:45.790Z"
   },
   {
    "duration": 76,
    "start_time": "2022-04-04T18:31:32.024Z"
   },
   {
    "duration": 138,
    "start_time": "2022-04-04T18:31:40.258Z"
   },
   {
    "duration": 240,
    "start_time": "2022-04-04T18:34:50.116Z"
   },
   {
    "duration": 253,
    "start_time": "2022-04-04T18:35:00.844Z"
   },
   {
    "duration": 5,
    "start_time": "2022-04-04T18:35:23.789Z"
   },
   {
    "duration": 165,
    "start_time": "2022-04-04T18:35:29.408Z"
   },
   {
    "duration": 251,
    "start_time": "2022-04-04T18:35:54.816Z"
   },
   {
    "duration": 1401,
    "start_time": "2022-04-04T18:36:11.770Z"
   },
   {
    "duration": 194,
    "start_time": "2022-04-04T18:36:13.173Z"
   },
   {
    "duration": 31,
    "start_time": "2022-04-04T18:36:13.369Z"
   },
   {
    "duration": 15,
    "start_time": "2022-04-04T18:36:13.404Z"
   },
   {
    "duration": 144,
    "start_time": "2022-04-04T18:36:13.421Z"
   },
   {
    "duration": 5,
    "start_time": "2022-04-04T18:36:13.567Z"
   },
   {
    "duration": 5,
    "start_time": "2022-04-04T18:36:13.582Z"
   },
   {
    "duration": 35,
    "start_time": "2022-04-04T18:36:13.589Z"
   },
   {
    "duration": 174,
    "start_time": "2022-04-04T18:36:13.627Z"
   },
   {
    "duration": 137,
    "start_time": "2022-04-04T18:36:13.805Z"
   },
   {
    "duration": 55,
    "start_time": "2022-04-04T18:36:13.944Z"
   },
   {
    "duration": 31,
    "start_time": "2022-04-04T18:36:14.002Z"
   },
   {
    "duration": 815,
    "start_time": "2022-04-04T18:36:14.035Z"
   },
   {
    "duration": 93,
    "start_time": "2022-04-04T18:36:14.853Z"
   },
   {
    "duration": 36,
    "start_time": "2022-04-04T18:36:14.948Z"
   },
   {
    "duration": 33,
    "start_time": "2022-04-04T18:36:14.986Z"
   },
   {
    "duration": 41,
    "start_time": "2022-04-04T18:36:15.022Z"
   },
   {
    "duration": 159,
    "start_time": "2022-04-04T18:36:15.083Z"
   },
   {
    "duration": 18,
    "start_time": "2022-04-04T18:36:15.245Z"
   },
   {
    "duration": 214,
    "start_time": "2022-04-04T18:36:15.281Z"
   },
   {
    "duration": 89,
    "start_time": "2022-04-04T18:36:15.499Z"
   },
   {
    "duration": 375,
    "start_time": "2022-04-04T18:36:15.591Z"
   },
   {
    "duration": 156,
    "start_time": "2022-04-04T18:36:48.583Z"
   },
   {
    "duration": 1899,
    "start_time": "2022-04-04T18:51:27.338Z"
   },
   {
    "duration": 36,
    "start_time": "2022-04-04T18:52:10.994Z"
   },
   {
    "duration": 37,
    "start_time": "2022-04-04T18:52:39.340Z"
   },
   {
    "duration": 1340,
    "start_time": "2022-04-04T18:52:53.678Z"
   },
   {
    "duration": 174,
    "start_time": "2022-04-04T18:52:55.021Z"
   },
   {
    "duration": 28,
    "start_time": "2022-04-04T18:52:55.197Z"
   },
   {
    "duration": 13,
    "start_time": "2022-04-04T18:52:55.229Z"
   },
   {
    "duration": 144,
    "start_time": "2022-04-04T18:52:55.244Z"
   },
   {
    "duration": 4,
    "start_time": "2022-04-04T18:52:55.390Z"
   },
   {
    "duration": 8,
    "start_time": "2022-04-04T18:52:55.396Z"
   },
   {
    "duration": 36,
    "start_time": "2022-04-04T18:52:55.406Z"
   },
   {
    "duration": 167,
    "start_time": "2022-04-04T18:52:55.444Z"
   },
   {
    "duration": 119,
    "start_time": "2022-04-04T18:52:55.614Z"
   },
   {
    "duration": 54,
    "start_time": "2022-04-04T18:52:55.735Z"
   },
   {
    "duration": 29,
    "start_time": "2022-04-04T18:52:55.791Z"
   },
   {
    "duration": 516,
    "start_time": "2022-04-04T18:52:55.822Z"
   },
   {
    "duration": 71,
    "start_time": "2022-04-04T18:52:56.340Z"
   },
   {
    "duration": 17,
    "start_time": "2022-04-04T18:52:56.413Z"
   },
   {
    "duration": 14,
    "start_time": "2022-04-04T18:52:56.433Z"
   },
   {
    "duration": 66,
    "start_time": "2022-04-04T18:52:56.450Z"
   },
   {
    "duration": 110,
    "start_time": "2022-04-04T18:52:56.518Z"
   },
   {
    "duration": 12,
    "start_time": "2022-04-04T18:52:56.630Z"
   },
   {
    "duration": 221,
    "start_time": "2022-04-04T18:52:56.644Z"
   },
   {
    "duration": 61,
    "start_time": "2022-04-04T18:52:56.868Z"
   },
   {
    "duration": 260,
    "start_time": "2022-04-04T18:52:56.982Z"
   },
   {
    "duration": 205,
    "start_time": "2022-04-04T18:52:57.244Z"
   },
   {
    "duration": 36,
    "start_time": "2022-04-04T18:53:22.750Z"
   },
   {
    "duration": 1795,
    "start_time": "2022-04-04T18:54:22.358Z"
   },
   {
    "duration": 285,
    "start_time": "2022-04-04T18:54:24.156Z"
   },
   {
    "duration": 49,
    "start_time": "2022-04-04T18:54:24.444Z"
   },
   {
    "duration": 17,
    "start_time": "2022-04-04T18:54:24.497Z"
   },
   {
    "duration": 213,
    "start_time": "2022-04-04T18:54:24.516Z"
   },
   {
    "duration": 5,
    "start_time": "2022-04-04T18:54:24.731Z"
   },
   {
    "duration": 6,
    "start_time": "2022-04-04T18:54:24.739Z"
   },
   {
    "duration": 57,
    "start_time": "2022-04-04T18:54:24.747Z"
   },
   {
    "duration": 137,
    "start_time": "2022-04-04T18:54:24.806Z"
   },
   {
    "duration": 131,
    "start_time": "2022-04-04T18:54:24.947Z"
   },
   {
    "duration": 43,
    "start_time": "2022-04-04T18:54:25.080Z"
   },
   {
    "duration": 28,
    "start_time": "2022-04-04T18:54:25.125Z"
   },
   {
    "duration": 484,
    "start_time": "2022-04-04T18:54:25.183Z"
   },
   {
    "duration": 57,
    "start_time": "2022-04-04T18:54:25.669Z"
   },
   {
    "duration": 15,
    "start_time": "2022-04-04T18:54:25.728Z"
   },
   {
    "duration": 44,
    "start_time": "2022-04-04T18:54:25.745Z"
   },
   {
    "duration": 38,
    "start_time": "2022-04-04T18:54:25.792Z"
   },
   {
    "duration": 117,
    "start_time": "2022-04-04T18:54:25.832Z"
   },
   {
    "duration": 12,
    "start_time": "2022-04-04T18:54:25.952Z"
   },
   {
    "duration": 206,
    "start_time": "2022-04-04T18:54:25.966Z"
   },
   {
    "duration": 45,
    "start_time": "2022-04-04T18:54:26.174Z"
   },
   {
    "duration": 246,
    "start_time": "2022-04-04T18:54:26.221Z"
   },
   {
    "duration": 293,
    "start_time": "2022-04-04T18:54:26.470Z"
   },
   {
    "duration": 1415,
    "start_time": "2022-04-04T18:56:21.745Z"
   },
   {
    "duration": 44,
    "start_time": "2022-04-07T17:36:14.423Z"
   },
   {
    "duration": 1274,
    "start_time": "2022-04-07T17:36:27.637Z"
   },
   {
    "duration": 142,
    "start_time": "2022-04-07T17:36:28.913Z"
   },
   {
    "duration": 24,
    "start_time": "2022-04-07T17:36:29.057Z"
   },
   {
    "duration": 11,
    "start_time": "2022-04-07T17:36:29.083Z"
   },
   {
    "duration": 72,
    "start_time": "2022-04-07T17:36:29.095Z"
   },
   {
    "duration": 13,
    "start_time": "2022-04-07T17:36:29.169Z"
   },
   {
    "duration": 7,
    "start_time": "2022-04-07T17:36:29.184Z"
   },
   {
    "duration": 28,
    "start_time": "2022-04-07T17:36:29.193Z"
   },
   {
    "duration": 99,
    "start_time": "2022-04-07T17:36:29.223Z"
   },
   {
    "duration": 74,
    "start_time": "2022-04-07T17:36:29.324Z"
   },
   {
    "duration": 30,
    "start_time": "2022-04-07T17:36:29.400Z"
   },
   {
    "duration": 19,
    "start_time": "2022-04-07T17:36:29.432Z"
   },
   {
    "duration": 296,
    "start_time": "2022-04-07T17:36:29.453Z"
   },
   {
    "duration": 39,
    "start_time": "2022-04-07T17:36:29.751Z"
   },
   {
    "duration": 11,
    "start_time": "2022-04-07T17:36:29.791Z"
   },
   {
    "duration": 9,
    "start_time": "2022-04-07T17:36:29.804Z"
   },
   {
    "duration": 22,
    "start_time": "2022-04-07T17:36:29.814Z"
   },
   {
    "duration": 94,
    "start_time": "2022-04-07T17:36:29.838Z"
   },
   {
    "duration": 8,
    "start_time": "2022-04-07T17:36:29.933Z"
   },
   {
    "duration": 225,
    "start_time": "2022-04-07T17:36:29.943Z"
   },
   {
    "duration": 27,
    "start_time": "2022-04-07T17:36:30.170Z"
   },
   {
    "duration": 157,
    "start_time": "2022-04-07T17:36:30.198Z"
   },
   {
    "duration": 174,
    "start_time": "2022-04-07T17:36:30.358Z"
   },
   {
    "duration": 0,
    "start_time": "2022-04-07T17:36:30.534Z"
   },
   {
    "duration": 188,
    "start_time": "2022-04-07T17:37:29.681Z"
   },
   {
    "duration": 492,
    "start_time": "2022-04-07T17:37:41.209Z"
   },
   {
    "duration": 178,
    "start_time": "2022-04-07T17:37:48.890Z"
   },
   {
    "duration": 170,
    "start_time": "2022-04-07T17:39:34.043Z"
   },
   {
    "duration": 8,
    "start_time": "2022-04-07T17:41:51.217Z"
   },
   {
    "duration": 26,
    "start_time": "2022-04-07T17:50:45.102Z"
   },
   {
    "duration": 3,
    "start_time": "2022-04-07T17:51:35.784Z"
   },
   {
    "duration": 3,
    "start_time": "2022-04-07T17:52:06.667Z"
   },
   {
    "duration": 129,
    "start_time": "2022-04-07T17:52:32.526Z"
   },
   {
    "duration": 132,
    "start_time": "2022-04-07T17:53:30.086Z"
   },
   {
    "duration": 4,
    "start_time": "2022-04-07T17:53:38.721Z"
   },
   {
    "duration": 134,
    "start_time": "2022-04-07T17:53:48.665Z"
   },
   {
    "duration": 124,
    "start_time": "2022-04-07T17:53:57.413Z"
   },
   {
    "duration": 252,
    "start_time": "2022-04-07T17:54:08.593Z"
   },
   {
    "duration": 200,
    "start_time": "2022-04-07T17:54:13.493Z"
   },
   {
    "duration": 131,
    "start_time": "2022-04-07T17:54:19.421Z"
   },
   {
    "duration": 1054,
    "start_time": "2022-04-07T17:54:36.520Z"
   },
   {
    "duration": 139,
    "start_time": "2022-04-07T17:54:37.576Z"
   },
   {
    "duration": 134,
    "start_time": "2022-04-07T17:54:37.717Z"
   },
   {
    "duration": 7,
    "start_time": "2022-04-07T17:54:37.853Z"
   },
   {
    "duration": 82,
    "start_time": "2022-04-07T17:54:37.862Z"
   },
   {
    "duration": 5,
    "start_time": "2022-04-07T17:54:37.946Z"
   },
   {
    "duration": 5,
    "start_time": "2022-04-07T17:54:37.952Z"
   },
   {
    "duration": 36,
    "start_time": "2022-04-07T17:54:37.958Z"
   },
   {
    "duration": 93,
    "start_time": "2022-04-07T17:54:37.996Z"
   },
   {
    "duration": 67,
    "start_time": "2022-04-07T17:54:38.092Z"
   },
   {
    "duration": 47,
    "start_time": "2022-04-07T17:54:38.160Z"
   },
   {
    "duration": 19,
    "start_time": "2022-04-07T17:54:38.209Z"
   },
   {
    "duration": 277,
    "start_time": "2022-04-07T17:54:38.229Z"
   },
   {
    "duration": 31,
    "start_time": "2022-04-07T17:54:38.507Z"
   },
   {
    "duration": 10,
    "start_time": "2022-04-07T17:54:38.539Z"
   },
   {
    "duration": 9,
    "start_time": "2022-04-07T17:54:38.550Z"
   },
   {
    "duration": 23,
    "start_time": "2022-04-07T17:54:38.581Z"
   },
   {
    "duration": 63,
    "start_time": "2022-04-07T17:54:38.605Z"
   },
   {
    "duration": 7,
    "start_time": "2022-04-07T17:54:38.681Z"
   },
   {
    "duration": 170,
    "start_time": "2022-04-07T17:54:38.690Z"
   },
   {
    "duration": 27,
    "start_time": "2022-04-07T17:54:38.862Z"
   },
   {
    "duration": 160,
    "start_time": "2022-04-07T17:54:38.891Z"
   },
   {
    "duration": 292,
    "start_time": "2022-04-07T17:54:39.053Z"
   },
   {
    "duration": 120,
    "start_time": "2022-04-07T17:54:39.346Z"
   },
   {
    "duration": 135,
    "start_time": "2022-04-07T17:55:43.558Z"
   },
   {
    "duration": 217,
    "start_time": "2022-04-07T17:56:22.798Z"
   },
   {
    "duration": 142,
    "start_time": "2022-04-07T17:56:30.706Z"
   },
   {
    "duration": 202,
    "start_time": "2022-04-07T17:56:51.545Z"
   },
   {
    "duration": 144,
    "start_time": "2022-04-07T17:57:21.793Z"
   },
   {
    "duration": 1169,
    "start_time": "2022-04-07T17:57:40.936Z"
   },
   {
    "duration": 147,
    "start_time": "2022-04-07T17:57:42.106Z"
   },
   {
    "duration": 145,
    "start_time": "2022-04-07T17:57:42.255Z"
   },
   {
    "duration": 7,
    "start_time": "2022-04-07T17:57:42.402Z"
   },
   {
    "duration": 80,
    "start_time": "2022-04-07T17:57:42.411Z"
   },
   {
    "duration": 4,
    "start_time": "2022-04-07T17:57:42.492Z"
   },
   {
    "duration": 5,
    "start_time": "2022-04-07T17:57:42.498Z"
   },
   {
    "duration": 26,
    "start_time": "2022-04-07T17:57:42.505Z"
   },
   {
    "duration": 105,
    "start_time": "2022-04-07T17:57:42.533Z"
   },
   {
    "duration": 77,
    "start_time": "2022-04-07T17:57:42.641Z"
   },
   {
    "duration": 32,
    "start_time": "2022-04-07T17:57:42.719Z"
   },
   {
    "duration": 33,
    "start_time": "2022-04-07T17:57:42.753Z"
   },
   {
    "duration": 274,
    "start_time": "2022-04-07T17:57:42.787Z"
   },
   {
    "duration": 37,
    "start_time": "2022-04-07T17:57:43.062Z"
   },
   {
    "duration": 10,
    "start_time": "2022-04-07T17:57:43.100Z"
   },
   {
    "duration": 9,
    "start_time": "2022-04-07T17:57:43.112Z"
   },
   {
    "duration": 27,
    "start_time": "2022-04-07T17:57:43.122Z"
   },
   {
    "duration": 86,
    "start_time": "2022-04-07T17:57:43.151Z"
   },
   {
    "duration": 8,
    "start_time": "2022-04-07T17:57:43.238Z"
   },
   {
    "duration": 177,
    "start_time": "2022-04-07T17:57:43.247Z"
   },
   {
    "duration": 29,
    "start_time": "2022-04-07T17:57:43.427Z"
   },
   {
    "duration": 143,
    "start_time": "2022-04-07T17:57:43.481Z"
   },
   {
    "duration": 298,
    "start_time": "2022-04-07T17:57:43.625Z"
   },
   {
    "duration": 127,
    "start_time": "2022-04-07T17:57:43.925Z"
   },
   {
    "duration": 3,
    "start_time": "2022-04-07T18:08:18.348Z"
   },
   {
    "duration": 3,
    "start_time": "2022-04-07T18:08:26.186Z"
   },
   {
    "duration": 175,
    "start_time": "2022-04-07T18:10:43.516Z"
   },
   {
    "duration": 166,
    "start_time": "2022-04-07T18:10:56.638Z"
   },
   {
    "duration": 2722,
    "start_time": "2022-04-07T18:11:15.192Z"
   },
   {
    "duration": 2704,
    "start_time": "2022-04-07T18:14:11.178Z"
   },
   {
    "duration": 5,
    "start_time": "2022-04-07T18:14:36.067Z"
   },
   {
    "duration": 5,
    "start_time": "2022-04-07T18:14:52.941Z"
   },
   {
    "duration": 51,
    "start_time": "2022-04-08T17:58:58.457Z"
   },
   {
    "duration": 6,
    "start_time": "2022-04-08T17:59:18.377Z"
   },
   {
    "duration": 8,
    "start_time": "2022-04-08T17:59:32.717Z"
   },
   {
    "duration": 1399,
    "start_time": "2022-04-08T17:59:36.977Z"
   },
   {
    "duration": 181,
    "start_time": "2022-04-08T17:59:38.379Z"
   },
   {
    "duration": 193,
    "start_time": "2022-04-08T17:59:38.561Z"
   },
   {
    "duration": 8,
    "start_time": "2022-04-08T17:59:38.756Z"
   },
   {
    "duration": 99,
    "start_time": "2022-04-08T17:59:38.766Z"
   },
   {
    "duration": 8,
    "start_time": "2022-04-08T17:59:38.867Z"
   },
   {
    "duration": 8,
    "start_time": "2022-04-08T17:59:38.877Z"
   },
   {
    "duration": 173,
    "start_time": "2022-04-08T17:59:38.887Z"
   },
   {
    "duration": 144,
    "start_time": "2022-04-08T17:59:39.062Z"
   },
   {
    "duration": 67,
    "start_time": "2022-04-08T17:59:39.210Z"
   },
   {
    "duration": 35,
    "start_time": "2022-04-08T17:59:39.280Z"
   },
   {
    "duration": 498,
    "start_time": "2022-04-08T17:59:39.317Z"
   },
   {
    "duration": 71,
    "start_time": "2022-04-08T17:59:39.817Z"
   },
   {
    "duration": 17,
    "start_time": "2022-04-08T17:59:39.890Z"
   },
   {
    "duration": 41,
    "start_time": "2022-04-08T17:59:39.909Z"
   },
   {
    "duration": 36,
    "start_time": "2022-04-08T17:59:39.952Z"
   },
   {
    "duration": 109,
    "start_time": "2022-04-08T17:59:39.991Z"
   },
   {
    "duration": 10,
    "start_time": "2022-04-08T17:59:40.102Z"
   },
   {
    "duration": 218,
    "start_time": "2022-04-08T17:59:40.114Z"
   },
   {
    "duration": 106,
    "start_time": "2022-04-08T17:59:40.334Z"
   },
   {
    "duration": 281,
    "start_time": "2022-04-08T17:59:40.443Z"
   },
   {
    "duration": 560,
    "start_time": "2022-04-08T17:59:40.726Z"
   },
   {
    "duration": 234,
    "start_time": "2022-04-08T17:59:41.289Z"
   },
   {
    "duration": 6,
    "start_time": "2022-04-08T17:59:41.525Z"
   },
   {
    "duration": 18,
    "start_time": "2022-04-08T18:02:28.846Z"
   },
   {
    "duration": 123,
    "start_time": "2022-04-08T18:12:41.263Z"
   },
   {
    "duration": 1454,
    "start_time": "2022-04-08T18:12:56.141Z"
   },
   {
    "duration": 232,
    "start_time": "2022-04-08T18:12:57.597Z"
   },
   {
    "duration": 250,
    "start_time": "2022-04-08T18:12:57.831Z"
   },
   {
    "duration": 8,
    "start_time": "2022-04-08T18:12:58.084Z"
   },
   {
    "duration": 106,
    "start_time": "2022-04-08T18:12:58.094Z"
   },
   {
    "duration": 4,
    "start_time": "2022-04-08T18:12:58.202Z"
   },
   {
    "duration": 18,
    "start_time": "2022-04-08T18:12:58.208Z"
   },
   {
    "duration": 116,
    "start_time": "2022-04-08T18:12:58.228Z"
   },
   {
    "duration": 94,
    "start_time": "2022-04-08T18:12:58.346Z"
   },
   {
    "duration": 38,
    "start_time": "2022-04-08T18:12:58.444Z"
   },
   {
    "duration": 25,
    "start_time": "2022-04-08T18:12:58.483Z"
   },
   {
    "duration": 510,
    "start_time": "2022-04-08T18:12:58.511Z"
   },
   {
    "duration": 69,
    "start_time": "2022-04-08T18:12:59.023Z"
   },
   {
    "duration": 17,
    "start_time": "2022-04-08T18:12:59.094Z"
   },
   {
    "duration": 33,
    "start_time": "2022-04-08T18:12:59.113Z"
   },
   {
    "duration": 34,
    "start_time": "2022-04-08T18:12:59.147Z"
   },
   {
    "duration": 104,
    "start_time": "2022-04-08T18:12:59.183Z"
   },
   {
    "duration": 188,
    "start_time": "2022-04-08T18:12:59.289Z"
   },
   {
    "duration": 60,
    "start_time": "2022-04-08T18:12:59.479Z"
   },
   {
    "duration": 217,
    "start_time": "2022-04-08T18:12:59.541Z"
   },
   {
    "duration": 0,
    "start_time": "2022-04-08T18:12:59.761Z"
   },
   {
    "duration": 0,
    "start_time": "2022-04-08T18:12:59.762Z"
   },
   {
    "duration": 0,
    "start_time": "2022-04-08T18:12:59.763Z"
   },
   {
    "duration": 136,
    "start_time": "2022-04-08T18:13:18.373Z"
   },
   {
    "duration": 129,
    "start_time": "2022-04-08T18:13:51.352Z"
   },
   {
    "duration": 134,
    "start_time": "2022-04-08T18:14:02.618Z"
   },
   {
    "duration": 150,
    "start_time": "2022-04-08T18:15:05.859Z"
   },
   {
    "duration": 128,
    "start_time": "2022-04-08T18:16:18.448Z"
   },
   {
    "duration": 156,
    "start_time": "2022-04-08T18:16:28.411Z"
   },
   {
    "duration": 14,
    "start_time": "2022-04-08T18:16:38.939Z"
   },
   {
    "duration": 14,
    "start_time": "2022-04-08T18:16:55.132Z"
   },
   {
    "duration": 124,
    "start_time": "2022-04-08T18:17:13.389Z"
   },
   {
    "duration": 11,
    "start_time": "2022-04-08T18:21:42.885Z"
   },
   {
    "duration": 355,
    "start_time": "2022-04-08T18:24:44.656Z"
   },
   {
    "duration": 452,
    "start_time": "2022-04-08T18:26:04.396Z"
   },
   {
    "duration": 169,
    "start_time": "2022-04-08T18:26:29.038Z"
   },
   {
    "duration": 169,
    "start_time": "2022-04-08T18:33:52.954Z"
   },
   {
    "duration": 172,
    "start_time": "2022-04-08T18:40:14.942Z"
   },
   {
    "duration": 167,
    "start_time": "2022-04-08T18:40:21.767Z"
   },
   {
    "duration": 187,
    "start_time": "2022-04-08T18:40:30.059Z"
   },
   {
    "duration": 1478,
    "start_time": "2022-04-08T18:43:29.239Z"
   },
   {
    "duration": 163,
    "start_time": "2022-04-08T18:43:30.720Z"
   },
   {
    "duration": 199,
    "start_time": "2022-04-08T18:43:30.884Z"
   },
   {
    "duration": 8,
    "start_time": "2022-04-08T18:43:31.087Z"
   },
   {
    "duration": 114,
    "start_time": "2022-04-08T18:43:31.097Z"
   },
   {
    "duration": 19,
    "start_time": "2022-04-08T18:43:31.213Z"
   },
   {
    "duration": 23,
    "start_time": "2022-04-08T18:43:31.234Z"
   },
   {
    "duration": 119,
    "start_time": "2022-04-08T18:43:31.259Z"
   },
   {
    "duration": 131,
    "start_time": "2022-04-08T18:43:31.381Z"
   },
   {
    "duration": 69,
    "start_time": "2022-04-08T18:43:31.516Z"
   },
   {
    "duration": 37,
    "start_time": "2022-04-08T18:43:31.587Z"
   },
   {
    "duration": 487,
    "start_time": "2022-04-08T18:43:31.640Z"
   },
   {
    "duration": 44,
    "start_time": "2022-04-08T18:43:32.130Z"
   },
   {
    "duration": 17,
    "start_time": "2022-04-08T18:43:32.176Z"
   },
   {
    "duration": 44,
    "start_time": "2022-04-08T18:43:32.196Z"
   },
   {
    "duration": 46,
    "start_time": "2022-04-08T18:43:32.242Z"
   },
   {
    "duration": 139,
    "start_time": "2022-04-08T18:43:32.290Z"
   },
   {
    "duration": 226,
    "start_time": "2022-04-08T18:43:32.431Z"
   },
   {
    "duration": 34,
    "start_time": "2022-04-08T18:43:32.659Z"
   },
   {
    "duration": 272,
    "start_time": "2022-04-08T18:43:32.696Z"
   },
   {
    "duration": 396,
    "start_time": "2022-04-08T18:43:32.971Z"
   },
   {
    "duration": 158,
    "start_time": "2022-04-08T18:43:33.369Z"
   },
   {
    "duration": 158,
    "start_time": "2022-04-08T18:43:33.529Z"
   },
   {
    "duration": 1363,
    "start_time": "2022-04-09T10:01:36.662Z"
   },
   {
    "duration": 137,
    "start_time": "2022-04-09T10:01:38.027Z"
   },
   {
    "duration": 169,
    "start_time": "2022-04-09T10:01:38.166Z"
   },
   {
    "duration": 7,
    "start_time": "2022-04-09T10:01:38.337Z"
   },
   {
    "duration": 88,
    "start_time": "2022-04-09T10:01:38.346Z"
   },
   {
    "duration": 4,
    "start_time": "2022-04-09T10:01:38.435Z"
   },
   {
    "duration": 5,
    "start_time": "2022-04-09T10:01:38.440Z"
   },
   {
    "duration": 108,
    "start_time": "2022-04-09T10:01:38.447Z"
   },
   {
    "duration": 84,
    "start_time": "2022-04-09T10:01:38.557Z"
   },
   {
    "duration": 46,
    "start_time": "2022-04-09T10:01:38.644Z"
   },
   {
    "duration": 22,
    "start_time": "2022-04-09T10:01:38.692Z"
   },
   {
    "duration": 376,
    "start_time": "2022-04-09T10:01:38.716Z"
   },
   {
    "duration": 36,
    "start_time": "2022-04-09T10:01:39.094Z"
   },
   {
    "duration": 11,
    "start_time": "2022-04-09T10:01:39.132Z"
   },
   {
    "duration": 35,
    "start_time": "2022-04-09T10:01:39.145Z"
   },
   {
    "duration": 26,
    "start_time": "2022-04-09T10:01:39.181Z"
   },
   {
    "duration": 89,
    "start_time": "2022-04-09T10:01:39.209Z"
   },
   {
    "duration": 158,
    "start_time": "2022-04-09T10:01:39.300Z"
   },
   {
    "duration": 29,
    "start_time": "2022-04-09T10:01:39.459Z"
   },
   {
    "duration": 163,
    "start_time": "2022-04-09T10:01:39.490Z"
   },
   {
    "duration": 317,
    "start_time": "2022-04-09T10:01:39.678Z"
   },
   {
    "duration": 135,
    "start_time": "2022-04-09T10:01:39.997Z"
   },
   {
    "duration": 129,
    "start_time": "2022-04-09T10:01:40.134Z"
   },
   {
    "duration": 51,
    "start_time": "2022-04-09T14:05:09.841Z"
   },
   {
    "duration": 1355,
    "start_time": "2022-04-09T14:05:15.607Z"
   },
   {
    "duration": 159,
    "start_time": "2022-04-09T14:05:16.964Z"
   },
   {
    "duration": 177,
    "start_time": "2022-04-09T14:05:17.125Z"
   },
   {
    "duration": 8,
    "start_time": "2022-04-09T14:05:17.304Z"
   },
   {
    "duration": 96,
    "start_time": "2022-04-09T14:05:17.313Z"
   },
   {
    "duration": 3,
    "start_time": "2022-04-09T14:05:17.411Z"
   },
   {
    "duration": 19,
    "start_time": "2022-04-09T14:05:17.415Z"
   },
   {
    "duration": 108,
    "start_time": "2022-04-09T14:05:17.436Z"
   },
   {
    "duration": 77,
    "start_time": "2022-04-09T14:05:17.546Z"
   },
   {
    "duration": 34,
    "start_time": "2022-04-09T14:05:17.626Z"
   },
   {
    "duration": 21,
    "start_time": "2022-04-09T14:05:17.662Z"
   },
   {
    "duration": 311,
    "start_time": "2022-04-09T14:05:17.702Z"
   },
   {
    "duration": 35,
    "start_time": "2022-04-09T14:05:18.015Z"
   },
   {
    "duration": 13,
    "start_time": "2022-04-09T14:05:18.052Z"
   },
   {
    "duration": 19,
    "start_time": "2022-04-09T14:05:18.066Z"
   },
   {
    "duration": 26,
    "start_time": "2022-04-09T14:05:18.102Z"
   },
   {
    "duration": 89,
    "start_time": "2022-04-09T14:05:18.129Z"
   },
   {
    "duration": 187,
    "start_time": "2022-04-09T14:05:18.220Z"
   },
   {
    "duration": 30,
    "start_time": "2022-04-09T14:05:18.409Z"
   },
   {
    "duration": 218,
    "start_time": "2022-04-09T14:05:18.440Z"
   },
   {
    "duration": 331,
    "start_time": "2022-04-09T14:05:18.660Z"
   },
   {
    "duration": 130,
    "start_time": "2022-04-09T14:05:18.993Z"
   },
   {
    "duration": 129,
    "start_time": "2022-04-09T14:05:19.125Z"
   },
   {
    "duration": 407,
    "start_time": "2022-04-09T14:19:31.390Z"
   },
   {
    "duration": 520,
    "start_time": "2022-04-09T14:19:37.182Z"
   }
  ],
  "kernelspec": {
   "display_name": "Python 3 (ipykernel)",
   "language": "python",
   "name": "python3"
  },
  "language_info": {
   "codemirror_mode": {
    "name": "ipython",
    "version": 3
   },
   "file_extension": ".py",
   "mimetype": "text/x-python",
   "name": "python",
   "nbconvert_exporter": "python",
   "pygments_lexer": "ipython3",
   "version": "3.9.12"
  },
  "toc": {
   "base_numbering": 1,
   "nav_menu": {},
   "number_sections": true,
   "sideBar": true,
   "skip_h1_title": true,
   "title_cell": "Table of Contents",
   "title_sidebar": "Contents",
   "toc_cell": false,
   "toc_position": {},
   "toc_section_display": true,
   "toc_window_display": false
  }
 },
 "nbformat": 4,
 "nbformat_minor": 2
}
