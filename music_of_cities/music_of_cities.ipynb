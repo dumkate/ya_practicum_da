{
 "cells": [
  {
   "cell_type": "markdown",
   "metadata": {
    "id": "VUC88oWjTJw2"
   },
   "source": [
    "Cравнение поведения пользователей двух столиц.\n",
    "\n",
    "**Цель исследования** — проверьте три гипотезы:\n",
    "1. Активность пользователей зависит от дня недели. Причём в Москве и Петербурге это проявляется по-разному.\n",
    "2. В понедельник утром в Москве преобладают одни жанры, а в Петербурге — другие. Так же и вечером пятницы преобладают разные жанры — в зависимости от города. \n",
    "3. Москва и Петербург предпочитают разные жанры музыки. В Москве чаще слушают поп-музыку, в Петербурге — русский рэп.\n",
    "\n"
   ]
  },
  {
   "cell_type": "code",
   "execution_count": 3,
   "metadata": {
    "id": "AXN7PHPN_Zcs"
   },
   "outputs": [],
   "source": [
    "import pandas"
   ]
  },
  {
   "cell_type": "markdown",
   "metadata": {
    "id": "SG23P8tt_Zcs"
   },
   "source": [
    "Прочитайте файл `yandex_music_project.csv` из папки `/datasets` и сохраните его в переменной `df`:"
   ]
  },
  {
   "cell_type": "code",
   "execution_count": 4,
   "metadata": {
    "id": "fFVu7vqh_Zct"
   },
   "outputs": [],
   "source": [
    "df = pandas.read_csv('/datasets/yandex_music_project.csv')"
   ]
  },
  {
   "cell_type": "markdown",
   "metadata": {
    "id": "rDoOMd3uTqnZ"
   },
   "source": [
    "Выведите на экран первые десять строк таблицы:"
   ]
  },
  {
   "cell_type": "code",
   "execution_count": 5,
   "metadata": {
    "id": "oWTVX3gW_Zct"
   },
   "outputs": [
    {
     "name": "stdout",
     "output_type": "stream",
     "text": [
      "     userID                        Track            artist   genre  \\\n",
      "0  FFB692EC            Kamigata To Boots  The Mass Missile    rock   \n",
      "1  55204538  Delayed Because of Accident  Andreas Rönnberg    rock   \n",
      "2    20EC38            Funiculì funiculà       Mario Lanza     pop   \n",
      "3  A3DD03C9        Dragons in the Sunset        Fire + Ice    folk   \n",
      "4  E2DC1FAE                  Soul People        Space Echo   dance   \n",
      "5  842029A1                    Преданная         IMPERVTOR  rusrap   \n",
      "6  4CB90AA5                         True      Roman Messer   dance   \n",
      "7  F03E1C1F             Feeling This Way   Polina Griffith   dance   \n",
      "8  8FA1D3BE     И вновь продолжается бой               NaN  ruspop   \n",
      "9  E772D5C0                    Pessimist               NaN   dance   \n",
      "\n",
      "             City        time        Day  \n",
      "0  Saint-Petersburg  20:28:33  Wednesday  \n",
      "1            Moscow  14:07:09     Friday  \n",
      "2  Saint-Petersburg  20:58:07  Wednesday  \n",
      "3  Saint-Petersburg  08:37:09     Monday  \n",
      "4            Moscow  08:34:34     Monday  \n",
      "5  Saint-Petersburg  13:09:41     Friday  \n",
      "6            Moscow  13:00:07  Wednesday  \n",
      "7            Moscow  20:47:49  Wednesday  \n",
      "8            Moscow  09:17:40     Friday  \n",
      "9  Saint-Petersburg  21:20:49  Wednesday  \n"
     ]
    }
   ],
   "source": [
    "print(df.head(10))"
   ]
  },
  {
   "cell_type": "markdown",
   "metadata": {
    "id": "EO73Kwic_Zct"
   },
   "source": [
    "Одной командой получить общую информацию о таблице:"
   ]
  },
  {
   "cell_type": "code",
   "execution_count": 6,
   "metadata": {
    "id": "DSf2kIb-_Zct"
   },
   "outputs": [
    {
     "name": "stdout",
     "output_type": "stream",
     "text": [
      "<class 'pandas.core.frame.DataFrame'>\n",
      "RangeIndex: 65079 entries, 0 to 65078\n",
      "Data columns (total 7 columns):\n",
      "  userID    65079 non-null object\n",
      "Track       63848 non-null object\n",
      "artist      57876 non-null object\n",
      "genre       63881 non-null object\n",
      "  City      65079 non-null object\n",
      "time        65079 non-null object\n",
      "Day         65079 non-null object\n",
      "dtypes: object(7)\n",
      "memory usage: 3.5+ MB\n"
     ]
    }
   ],
   "source": [
    "df.info()"
   ]
  },
  {
   "cell_type": "markdown",
   "metadata": {
    "id": "TaQ2Iwbr_Zct"
   },
   "source": [
    "Итак, в таблице семь столбцов. Тип данных во всех столбцах — `object`.\n",
    "\n",
    "Согласно документации к данным:\n",
    "* `userID` — идентификатор пользователя;\n",
    "* `Track` — название трека;  \n",
    "* `artist` — имя исполнителя;\n",
    "* `genre` — название жанра;\n",
    "* `City` — город пользователя;\n",
    "* `time` — время начала прослушивания;\n",
    "* `Day` — день недели.\n",
    "\n",
    "В названиях колонок видны три нарушения стиля:\n",
    "1. Строчные буквы сочетаются с прописными.\n",
    "2. Встречаются пробелы.\n",
    "3. Найдите ещё одну проблему в названии колонок и опишите её в этом пункте (Для userID не использовали змеиный регистр)\n",
    "\n",
    "Количество значений в столбцах различается. Значит, в данных есть пропущенные значения.\n"
   ]
  },
  {
   "cell_type": "markdown",
   "metadata": {
    "id": "MCB6-dXG_Zct"
   },
   "source": [
    "**Выводы**\n",
    "\n",
    "В каждой строке таблицы — данные о прослушанном треке. Часть колонок описывает саму композицию: название, исполнителя и жанр. Остальные данные рассказывают о пользователе: из какого он города, когда он слушал музыку. \n",
    "\n",
    "Предварительно можно утверждать, что, данных достаточно для проверки гипотез. Но встречаются пропуски в данных, а в названиях колонок — расхождения с хорошим стилем.\n",
    "\n",
    "Чтобы двигаться дальше, нужно устранить проблемы в данных."
   ]
  },
  {
   "cell_type": "code",
   "execution_count": 7,
   "metadata": {
    "id": "oKOTdF_Q_Zct"
   },
   "outputs": [
    {
     "data": {
      "text/plain": [
       "Index(['  userID', 'Track', 'artist', 'genre', '  City  ', 'time', 'Day'], dtype='object')"
      ]
     },
     "execution_count": 7,
     "metadata": {},
     "output_type": "execute_result"
    }
   ],
   "source": [
    "(df.columns)"
   ]
  },
  {
   "cell_type": "code",
   "execution_count": 8,
   "metadata": {
    "id": "ISlFqs5y_Zct"
   },
   "outputs": [],
   "source": [
    "df = df.rename(columns={'  userID': 'user_id', 'Track': 'track', '  City  ': 'city', 'Day': 'day'})# переименование столбцов"
   ]
  },
  {
   "cell_type": "code",
   "execution_count": 9,
   "metadata": {
    "id": "d4NOAmTW_Zct"
   },
   "outputs": [
    {
     "name": "stdout",
     "output_type": "stream",
     "text": [
      "Index(['user_id', 'track', 'artist', 'genre', 'city', 'time', 'day'], dtype='object')\n"
     ]
    }
   ],
   "source": [
    "print(df.columns) # проверка результатов - перечень названий столбцов"
   ]
  },
  {
   "cell_type": "code",
   "execution_count": 10,
   "metadata": {
    "id": "RskX29qr_Zct",
    "scrolled": true
   },
   "outputs": [
    {
     "data": {
      "text/plain": [
       "user_id       0\n",
       "track      1231\n",
       "artist     7203\n",
       "genre      1198\n",
       "city          0\n",
       "time          0\n",
       "day           0\n",
       "dtype: int64"
      ]
     },
     "execution_count": 10,
     "metadata": {},
     "output_type": "execute_result"
    }
   ],
   "source": [
    "df.isna().sum() # подсчёт пропусков"
   ]
  },
  {
   "cell_type": "code",
   "execution_count": 11,
   "metadata": {
    "id": "KplB5qWs_Zct"
   },
   "outputs": [],
   "source": [
    "columns_to_replace = ['track', 'artist', 'genre'] \n",
    "for column in columns_to_replace:\n",
    "    df[column] = df[column].fillna('unknown') # перебор названий столбцов в цикле и замена пропущенных значений на 'unknown'"
   ]
  },
  {
   "cell_type": "code",
   "execution_count": 12,
   "metadata": {
    "id": "Tq4nYRX4_Zct"
   },
   "outputs": [
    {
     "data": {
      "text/plain": [
       "user_id    0\n",
       "track      0\n",
       "artist     0\n",
       "genre      0\n",
       "city       0\n",
       "time       0\n",
       "day        0\n",
       "dtype: int64"
      ]
     },
     "execution_count": 12,
     "metadata": {},
     "output_type": "execute_result"
    }
   ],
   "source": [
    "df.isna().sum() # подсчёт пропусков"
   ]
  },
  {
   "cell_type": "code",
   "execution_count": 13,
   "metadata": {
    "id": "36eES_S0_Zct"
   },
   "outputs": [
    {
     "data": {
      "text/plain": [
       "3826"
      ]
     },
     "execution_count": 13,
     "metadata": {},
     "output_type": "execute_result"
    }
   ],
   "source": [
    "df.duplicated().sum() # подсчёт явных дубликатов"
   ]
  },
  {
   "cell_type": "code",
   "execution_count": 14,
   "metadata": {
    "id": "exFHq6tt_Zct",
    "scrolled": true
   },
   "outputs": [],
   "source": [
    "df = df.drop_duplicates().reset_index(drop = True) # удаление явных дубликатов (с удалением старых индексов и формированием новых)"
   ]
  },
  {
   "cell_type": "code",
   "execution_count": 15,
   "metadata": {
    "id": "-8PuNWQ0_Zct",
    "scrolled": false
   },
   "outputs": [
    {
     "data": {
      "text/plain": [
       "0"
      ]
     },
     "execution_count": 15,
     "metadata": {},
     "output_type": "execute_result"
    }
   ],
   "source": [
    "df.duplicated().sum() # проверка на отсутствие дубликатов"
   ]
  },
  {
   "cell_type": "code",
   "execution_count": 41,
   "metadata": {
    "id": "JIUcqzZN_Zct",
    "scrolled": false
   },
   "outputs": [
    {
     "data": {
      "text/plain": [
       "['acid',\n",
       " 'acoustic',\n",
       " 'action',\n",
       " 'adult',\n",
       " 'africa',\n",
       " 'afrikaans',\n",
       " 'alternative',\n",
       " 'alternativepunk',\n",
       " 'ambient',\n",
       " 'americana',\n",
       " 'animated',\n",
       " 'anime',\n",
       " 'arabesk',\n",
       " 'arabic',\n",
       " 'arena',\n",
       " 'argentinetango',\n",
       " 'art',\n",
       " 'audiobook',\n",
       " 'author',\n",
       " 'avantgarde',\n",
       " 'axé',\n",
       " 'baile',\n",
       " 'balkan',\n",
       " 'beats',\n",
       " 'bigroom',\n",
       " 'black',\n",
       " 'bluegrass',\n",
       " 'blues',\n",
       " 'bollywood',\n",
       " 'bossa',\n",
       " 'brazilian',\n",
       " 'breakbeat',\n",
       " 'breaks',\n",
       " 'broadway',\n",
       " 'cantautori',\n",
       " 'cantopop',\n",
       " 'canzone',\n",
       " 'caribbean',\n",
       " 'caucasian',\n",
       " 'celtic',\n",
       " 'chamber',\n",
       " 'chanson',\n",
       " 'children',\n",
       " 'chill',\n",
       " 'chinese',\n",
       " 'choral',\n",
       " 'christian',\n",
       " 'christmas',\n",
       " 'classical',\n",
       " 'classicmetal',\n",
       " 'club',\n",
       " 'colombian',\n",
       " 'comedy',\n",
       " 'conjazz',\n",
       " 'contemporary',\n",
       " 'country',\n",
       " 'cuban',\n",
       " 'dance',\n",
       " 'dancehall',\n",
       " 'dancepop',\n",
       " 'dark',\n",
       " 'death',\n",
       " 'deep',\n",
       " 'deutschrock',\n",
       " 'deutschspr',\n",
       " 'dirty',\n",
       " 'disco',\n",
       " 'dnb',\n",
       " 'documentary',\n",
       " 'downbeat',\n",
       " 'downtempo',\n",
       " 'drum',\n",
       " 'dub',\n",
       " 'dubstep',\n",
       " 'eastern',\n",
       " 'easy',\n",
       " 'electronic',\n",
       " 'electropop',\n",
       " 'emo',\n",
       " 'entehno',\n",
       " 'epicmetal',\n",
       " 'estrada',\n",
       " 'ethnic',\n",
       " 'eurofolk',\n",
       " 'european',\n",
       " 'experimental',\n",
       " 'extrememetal',\n",
       " 'fado',\n",
       " 'fairytail',\n",
       " 'film',\n",
       " 'fitness',\n",
       " 'flamenco',\n",
       " 'folk',\n",
       " 'folklore',\n",
       " 'folkmetal',\n",
       " 'folkrock',\n",
       " 'folktronica',\n",
       " 'forró',\n",
       " 'frankreich',\n",
       " 'französisch',\n",
       " 'french',\n",
       " 'funk',\n",
       " 'future',\n",
       " 'gangsta',\n",
       " 'garage',\n",
       " 'german',\n",
       " 'ghazal',\n",
       " 'gitarre',\n",
       " 'glitch',\n",
       " 'gospel',\n",
       " 'gothic',\n",
       " 'grime',\n",
       " 'grunge',\n",
       " 'gypsy',\n",
       " 'handsup',\n",
       " \"hard'n'heavy\",\n",
       " 'hardcore',\n",
       " 'hardstyle',\n",
       " 'hardtechno',\n",
       " 'hiphop',\n",
       " 'historisch',\n",
       " 'holiday',\n",
       " 'horror',\n",
       " 'house',\n",
       " 'hymn',\n",
       " 'idm',\n",
       " 'independent',\n",
       " 'indian',\n",
       " 'indie',\n",
       " 'indipop',\n",
       " 'industrial',\n",
       " 'inspirational',\n",
       " 'instrumental',\n",
       " 'international',\n",
       " 'irish',\n",
       " 'jam',\n",
       " 'japanese',\n",
       " 'jazz',\n",
       " 'jewish',\n",
       " 'jpop',\n",
       " 'jungle',\n",
       " 'k-pop',\n",
       " 'karadeniz',\n",
       " 'karaoke',\n",
       " 'kayokyoku',\n",
       " 'korean',\n",
       " 'laiko',\n",
       " 'latin',\n",
       " 'latino',\n",
       " 'leftfield',\n",
       " 'local',\n",
       " 'lounge',\n",
       " 'loungeelectronic',\n",
       " 'lovers',\n",
       " 'malaysian',\n",
       " 'mandopop',\n",
       " 'marschmusik',\n",
       " 'meditative',\n",
       " 'mediterranean',\n",
       " 'melodic',\n",
       " 'metal',\n",
       " 'metalcore',\n",
       " 'mexican',\n",
       " 'middle',\n",
       " 'minimal',\n",
       " 'miscellaneous',\n",
       " 'modern',\n",
       " 'mood',\n",
       " 'mpb',\n",
       " 'muslim',\n",
       " 'native',\n",
       " 'neoklassik',\n",
       " 'neue',\n",
       " 'new',\n",
       " 'newage',\n",
       " 'newwave',\n",
       " 'nu',\n",
       " 'nujazz',\n",
       " 'numetal',\n",
       " 'oceania',\n",
       " 'old',\n",
       " 'opera',\n",
       " 'orchestral',\n",
       " 'other',\n",
       " 'piano',\n",
       " 'podcasts',\n",
       " 'pop',\n",
       " 'popdance',\n",
       " 'popelectronic',\n",
       " 'popeurodance',\n",
       " 'poprussian',\n",
       " 'post',\n",
       " 'posthardcore',\n",
       " 'postrock',\n",
       " 'power',\n",
       " 'progmetal',\n",
       " 'progressive',\n",
       " 'psychedelic',\n",
       " 'punjabi',\n",
       " 'punk',\n",
       " 'quebecois',\n",
       " 'ragga',\n",
       " 'ram',\n",
       " 'rancheras',\n",
       " 'rap',\n",
       " 'rave',\n",
       " 'reggae',\n",
       " 'reggaeton',\n",
       " 'regional',\n",
       " 'relax',\n",
       " 'religious',\n",
       " 'retro',\n",
       " 'rhythm',\n",
       " 'rnb',\n",
       " 'rnr',\n",
       " 'rock',\n",
       " 'rockabilly',\n",
       " 'rockalternative',\n",
       " 'rockindie',\n",
       " 'rockother',\n",
       " 'romance',\n",
       " 'roots',\n",
       " 'ruspop',\n",
       " 'rusrap',\n",
       " 'rusrock',\n",
       " 'russian',\n",
       " 'salsa',\n",
       " 'samba',\n",
       " 'scenic',\n",
       " 'schlager',\n",
       " 'self',\n",
       " 'sertanejo',\n",
       " 'shanson',\n",
       " 'shoegazing',\n",
       " 'showtunes',\n",
       " 'singer',\n",
       " 'ska',\n",
       " 'skarock',\n",
       " 'slow',\n",
       " 'smooth',\n",
       " 'soft',\n",
       " 'soul',\n",
       " 'soulful',\n",
       " 'sound',\n",
       " 'soundtrack',\n",
       " 'southern',\n",
       " 'specialty',\n",
       " 'speech',\n",
       " 'spiritual',\n",
       " 'sport',\n",
       " 'stonerrock',\n",
       " 'surf',\n",
       " 'swing',\n",
       " 'synthpop',\n",
       " 'synthrock',\n",
       " 'sängerportrait',\n",
       " 'tango',\n",
       " 'tanzorchester',\n",
       " 'taraftar',\n",
       " 'tatar',\n",
       " 'tech',\n",
       " 'techno',\n",
       " 'teen',\n",
       " 'thrash',\n",
       " 'top',\n",
       " 'traditional',\n",
       " 'tradjazz',\n",
       " 'trance',\n",
       " 'tribal',\n",
       " 'trip',\n",
       " 'triphop',\n",
       " 'tropical',\n",
       " 'türk',\n",
       " 'türkçe',\n",
       " 'ukrrock',\n",
       " 'unknown',\n",
       " 'urban',\n",
       " 'uzbek',\n",
       " 'variété',\n",
       " 'vi',\n",
       " 'videogame',\n",
       " 'vocal',\n",
       " 'western',\n",
       " 'world',\n",
       " 'worldbeat',\n",
       " 'ïîï',\n",
       " 'электроника']"
      ]
     },
     "execution_count": 41,
     "metadata": {},
     "output_type": "execute_result"
    }
   ],
   "source": [
    "sorted(df['genre'].unique())\n"
   ]
  },
  {
   "cell_type": "code",
   "execution_count": 17,
   "metadata": {
    "id": "ErNDkmns_Zct"
   },
   "outputs": [],
   "source": [
    "\n",
    "def replace_wrong_genres(wrong_genres, correct_genre):\n",
    "    for wrong_genre in wrong_genres:\n",
    "        df['genre'] = df['genre'].replace(wrong_genre, correct_genre)\n",
    "wrong_genres = ['hip', 'hop', 'hip-hop']\n",
    "correct_genre = 'hiphop'\n",
    "replace_wrong_genres(wrong_genres, correct_genre)"
   ]
  },
  {
   "cell_type": "code",
   "execution_count": 18,
   "metadata": {
    "id": "YN5i2hpmSo09"
   },
   "outputs": [
    {
     "data": {
      "text/plain": [
       "['acid',\n",
       " 'acoustic',\n",
       " 'action',\n",
       " 'adult',\n",
       " 'africa',\n",
       " 'afrikaans',\n",
       " 'alternative',\n",
       " 'alternativepunk',\n",
       " 'ambient',\n",
       " 'americana',\n",
       " 'animated',\n",
       " 'anime',\n",
       " 'arabesk',\n",
       " 'arabic',\n",
       " 'arena',\n",
       " 'argentinetango',\n",
       " 'art',\n",
       " 'audiobook',\n",
       " 'author',\n",
       " 'avantgarde',\n",
       " 'axé',\n",
       " 'baile',\n",
       " 'balkan',\n",
       " 'beats',\n",
       " 'bigroom',\n",
       " 'black',\n",
       " 'bluegrass',\n",
       " 'blues',\n",
       " 'bollywood',\n",
       " 'bossa',\n",
       " 'brazilian',\n",
       " 'breakbeat',\n",
       " 'breaks',\n",
       " 'broadway',\n",
       " 'cantautori',\n",
       " 'cantopop',\n",
       " 'canzone',\n",
       " 'caribbean',\n",
       " 'caucasian',\n",
       " 'celtic',\n",
       " 'chamber',\n",
       " 'chanson',\n",
       " 'children',\n",
       " 'chill',\n",
       " 'chinese',\n",
       " 'choral',\n",
       " 'christian',\n",
       " 'christmas',\n",
       " 'classical',\n",
       " 'classicmetal',\n",
       " 'club',\n",
       " 'colombian',\n",
       " 'comedy',\n",
       " 'conjazz',\n",
       " 'contemporary',\n",
       " 'country',\n",
       " 'cuban',\n",
       " 'dance',\n",
       " 'dancehall',\n",
       " 'dancepop',\n",
       " 'dark',\n",
       " 'death',\n",
       " 'deep',\n",
       " 'deutschrock',\n",
       " 'deutschspr',\n",
       " 'dirty',\n",
       " 'disco',\n",
       " 'dnb',\n",
       " 'documentary',\n",
       " 'downbeat',\n",
       " 'downtempo',\n",
       " 'drum',\n",
       " 'dub',\n",
       " 'dubstep',\n",
       " 'eastern',\n",
       " 'easy',\n",
       " 'electronic',\n",
       " 'electropop',\n",
       " 'emo',\n",
       " 'entehno',\n",
       " 'epicmetal',\n",
       " 'estrada',\n",
       " 'ethnic',\n",
       " 'eurofolk',\n",
       " 'european',\n",
       " 'experimental',\n",
       " 'extrememetal',\n",
       " 'fado',\n",
       " 'fairytail',\n",
       " 'film',\n",
       " 'fitness',\n",
       " 'flamenco',\n",
       " 'folk',\n",
       " 'folklore',\n",
       " 'folkmetal',\n",
       " 'folkrock',\n",
       " 'folktronica',\n",
       " 'forró',\n",
       " 'frankreich',\n",
       " 'französisch',\n",
       " 'french',\n",
       " 'funk',\n",
       " 'future',\n",
       " 'gangsta',\n",
       " 'garage',\n",
       " 'german',\n",
       " 'ghazal',\n",
       " 'gitarre',\n",
       " 'glitch',\n",
       " 'gospel',\n",
       " 'gothic',\n",
       " 'grime',\n",
       " 'grunge',\n",
       " 'gypsy',\n",
       " 'handsup',\n",
       " \"hard'n'heavy\",\n",
       " 'hardcore',\n",
       " 'hardstyle',\n",
       " 'hardtechno',\n",
       " 'hiphop',\n",
       " 'historisch',\n",
       " 'holiday',\n",
       " 'horror',\n",
       " 'house',\n",
       " 'hymn',\n",
       " 'idm',\n",
       " 'independent',\n",
       " 'indian',\n",
       " 'indie',\n",
       " 'indipop',\n",
       " 'industrial',\n",
       " 'inspirational',\n",
       " 'instrumental',\n",
       " 'international',\n",
       " 'irish',\n",
       " 'jam',\n",
       " 'japanese',\n",
       " 'jazz',\n",
       " 'jewish',\n",
       " 'jpop',\n",
       " 'jungle',\n",
       " 'k-pop',\n",
       " 'karadeniz',\n",
       " 'karaoke',\n",
       " 'kayokyoku',\n",
       " 'korean',\n",
       " 'laiko',\n",
       " 'latin',\n",
       " 'latino',\n",
       " 'leftfield',\n",
       " 'local',\n",
       " 'lounge',\n",
       " 'loungeelectronic',\n",
       " 'lovers',\n",
       " 'malaysian',\n",
       " 'mandopop',\n",
       " 'marschmusik',\n",
       " 'meditative',\n",
       " 'mediterranean',\n",
       " 'melodic',\n",
       " 'metal',\n",
       " 'metalcore',\n",
       " 'mexican',\n",
       " 'middle',\n",
       " 'minimal',\n",
       " 'miscellaneous',\n",
       " 'modern',\n",
       " 'mood',\n",
       " 'mpb',\n",
       " 'muslim',\n",
       " 'native',\n",
       " 'neoklassik',\n",
       " 'neue',\n",
       " 'new',\n",
       " 'newage',\n",
       " 'newwave',\n",
       " 'nu',\n",
       " 'nujazz',\n",
       " 'numetal',\n",
       " 'oceania',\n",
       " 'old',\n",
       " 'opera',\n",
       " 'orchestral',\n",
       " 'other',\n",
       " 'piano',\n",
       " 'podcasts',\n",
       " 'pop',\n",
       " 'popdance',\n",
       " 'popelectronic',\n",
       " 'popeurodance',\n",
       " 'poprussian',\n",
       " 'post',\n",
       " 'posthardcore',\n",
       " 'postrock',\n",
       " 'power',\n",
       " 'progmetal',\n",
       " 'progressive',\n",
       " 'psychedelic',\n",
       " 'punjabi',\n",
       " 'punk',\n",
       " 'quebecois',\n",
       " 'ragga',\n",
       " 'ram',\n",
       " 'rancheras',\n",
       " 'rap',\n",
       " 'rave',\n",
       " 'reggae',\n",
       " 'reggaeton',\n",
       " 'regional',\n",
       " 'relax',\n",
       " 'religious',\n",
       " 'retro',\n",
       " 'rhythm',\n",
       " 'rnb',\n",
       " 'rnr',\n",
       " 'rock',\n",
       " 'rockabilly',\n",
       " 'rockalternative',\n",
       " 'rockindie',\n",
       " 'rockother',\n",
       " 'romance',\n",
       " 'roots',\n",
       " 'ruspop',\n",
       " 'rusrap',\n",
       " 'rusrock',\n",
       " 'russian',\n",
       " 'salsa',\n",
       " 'samba',\n",
       " 'scenic',\n",
       " 'schlager',\n",
       " 'self',\n",
       " 'sertanejo',\n",
       " 'shanson',\n",
       " 'shoegazing',\n",
       " 'showtunes',\n",
       " 'singer',\n",
       " 'ska',\n",
       " 'skarock',\n",
       " 'slow',\n",
       " 'smooth',\n",
       " 'soft',\n",
       " 'soul',\n",
       " 'soulful',\n",
       " 'sound',\n",
       " 'soundtrack',\n",
       " 'southern',\n",
       " 'specialty',\n",
       " 'speech',\n",
       " 'spiritual',\n",
       " 'sport',\n",
       " 'stonerrock',\n",
       " 'surf',\n",
       " 'swing',\n",
       " 'synthpop',\n",
       " 'synthrock',\n",
       " 'sängerportrait',\n",
       " 'tango',\n",
       " 'tanzorchester',\n",
       " 'taraftar',\n",
       " 'tatar',\n",
       " 'tech',\n",
       " 'techno',\n",
       " 'teen',\n",
       " 'thrash',\n",
       " 'top',\n",
       " 'traditional',\n",
       " 'tradjazz',\n",
       " 'trance',\n",
       " 'tribal',\n",
       " 'trip',\n",
       " 'triphop',\n",
       " 'tropical',\n",
       " 'türk',\n",
       " 'türkçe',\n",
       " 'ukrrock',\n",
       " 'unknown',\n",
       " 'urban',\n",
       " 'uzbek',\n",
       " 'variété',\n",
       " 'vi',\n",
       " 'videogame',\n",
       " 'vocal',\n",
       " 'western',\n",
       " 'world',\n",
       " 'worldbeat',\n",
       " 'ïîï',\n",
       " 'электроника']"
      ]
     },
     "execution_count": 18,
     "metadata": {},
     "output_type": "execute_result"
    }
   ],
   "source": [
    "sorted(df['genre'].unique())# Устранение неявных дубликатов"
   ]
  },
  {
   "cell_type": "code",
   "execution_count": 19,
   "metadata": {
    "id": "wvixALnFG15m"
   },
   "outputs": [
    {
     "name": "stdout",
     "output_type": "stream",
     "text": [
      "['acid', 'acoustic', 'action', 'adult', 'africa', 'afrikaans', 'alternative', 'alternativepunk', 'ambient', 'americana', 'animated', 'anime', 'arabesk', 'arabic', 'arena', 'argentinetango', 'art', 'audiobook', 'author', 'avantgarde', 'axé', 'baile', 'balkan', 'beats', 'bigroom', 'black', 'bluegrass', 'blues', 'bollywood', 'bossa', 'brazilian', 'breakbeat', 'breaks', 'broadway', 'cantautori', 'cantopop', 'canzone', 'caribbean', 'caucasian', 'celtic', 'chamber', 'chanson', 'children', 'chill', 'chinese', 'choral', 'christian', 'christmas', 'classical', 'classicmetal', 'club', 'colombian', 'comedy', 'conjazz', 'contemporary', 'country', 'cuban', 'dance', 'dancehall', 'dancepop', 'dark', 'death', 'deep', 'deutschrock', 'deutschspr', 'dirty', 'disco', 'dnb', 'documentary', 'downbeat', 'downtempo', 'drum', 'dub', 'dubstep', 'eastern', 'easy', 'electronic', 'electropop', 'emo', 'entehno', 'epicmetal', 'estrada', 'ethnic', 'eurofolk', 'european', 'experimental', 'extrememetal', 'fado', 'fairytail', 'film', 'fitness', 'flamenco', 'folk', 'folklore', 'folkmetal', 'folkrock', 'folktronica', 'forró', 'frankreich', 'französisch', 'french', 'funk', 'future', 'gangsta', 'garage', 'german', 'ghazal', 'gitarre', 'glitch', 'gospel', 'gothic', 'grime', 'grunge', 'gypsy', 'handsup', \"hard'n'heavy\", 'hardcore', 'hardstyle', 'hardtechno', 'hiphop', 'historisch', 'holiday', 'horror', 'house', 'hymn', 'idm', 'independent', 'indian', 'indie', 'indipop', 'industrial', 'inspirational', 'instrumental', 'international', 'irish', 'jam', 'japanese', 'jazz', 'jewish', 'jpop', 'jungle', 'k-pop', 'karadeniz', 'karaoke', 'kayokyoku', 'korean', 'laiko', 'latin', 'latino', 'leftfield', 'local', 'lounge', 'loungeelectronic', 'lovers', 'malaysian', 'mandopop', 'marschmusik', 'meditative', 'mediterranean', 'melodic', 'metal', 'metalcore', 'mexican', 'middle', 'minimal', 'miscellaneous', 'modern', 'mood', 'mpb', 'muslim', 'native', 'neoklassik', 'neue', 'new', 'newage', 'newwave', 'nu', 'nujazz', 'numetal', 'oceania', 'old', 'opera', 'orchestral', 'other', 'piano', 'podcasts', 'pop', 'popdance', 'popelectronic', 'popeurodance', 'poprussian', 'post', 'posthardcore', 'postrock', 'power', 'progmetal', 'progressive', 'psychedelic', 'punjabi', 'punk', 'quebecois', 'ragga', 'ram', 'rancheras', 'rap', 'rave', 'reggae', 'reggaeton', 'regional', 'relax', 'religious', 'retro', 'rhythm', 'rnb', 'rnr', 'rock', 'rockabilly', 'rockalternative', 'rockindie', 'rockother', 'romance', 'roots', 'ruspop', 'rusrap', 'rusrock', 'russian', 'salsa', 'samba', 'scenic', 'schlager', 'self', 'sertanejo', 'shanson', 'shoegazing', 'showtunes', 'singer', 'ska', 'skarock', 'slow', 'smooth', 'soft', 'soul', 'soulful', 'sound', 'soundtrack', 'southern', 'specialty', 'speech', 'spiritual', 'sport', 'stonerrock', 'surf', 'swing', 'synthpop', 'synthrock', 'sängerportrait', 'tango', 'tanzorchester', 'taraftar', 'tatar', 'tech', 'techno', 'teen', 'thrash', 'top', 'traditional', 'tradjazz', 'trance', 'tribal', 'trip', 'triphop', 'tropical', 'türk', 'türkçe', 'ukrrock', 'unknown', 'urban', 'uzbek', 'variété', 'vi', 'videogame', 'vocal', 'western', 'world', 'worldbeat', 'ïîï', 'электроника']\n"
     ]
    }
   ],
   "source": [
    "print(sorted(df['genre'].unique())) # Проверка на неявные дубликаты"
   ]
  },
  {
   "cell_type": "markdown",
   "metadata": {
    "id": "jz6a9-7HQUDd"
   },
   "source": [
    "**Выводы**\n",
    "\n",
    "Предобработка обнаружила три проблемы в данных:\n",
    "\n",
    "- нарушения в стиле заголовков,\n",
    "- пропущенные значения,\n",
    "- дубликаты — явные и неявные.\n",
    "\n",
    "Вы исправили заголовки, чтобы упростить работу с таблицей. Без дубликатов исследование станет более точным.\n",
    "\n",
    "Пропущенные значения вы заменили на `'unknown'`. Ещё предстоит увидеть, не повредят ли исследованию пропуски в колонке `genre`.\n",
    "\n",
    "Теперь можно перейти к проверке гипотез. "
   ]
  },
  {
   "cell_type": "markdown",
   "metadata": {
    "id": "WttZHXH0SqKk"
   },
   "source": [
    "## Проверка гипотез"
   ]
  },
  {
   "cell_type": "markdown",
   "metadata": {
    "id": "Im936VVi_Zcu"
   },
   "source": [
    "### Сравнение поведения пользователей двух столиц"
   ]
  },
  {
   "cell_type": "markdown",
   "metadata": {
    "id": "nwt_MuaL_Zcu"
   },
   "source": [
    "Первая гипотеза утверждает, что пользователи по-разному слушают музыку в Москве и Санкт-Петербурге. Проверьте это предположение по данным о трёх днях недели — понедельнике, среде и пятнице. Для этого:\n",
    "\n",
    "* Разделите пользователей Москвы и Санкт-Петербурга\n",
    "* Сравните, сколько треков послушала каждая группа пользователей в понедельник, среду и пятницу.\n"
   ]
  },
  {
   "cell_type": "code",
   "execution_count": 20,
   "metadata": {
    "id": "0_Qs96oh_Zcu",
    "scrolled": true
   },
   "outputs": [
    {
     "data": {
      "text/html": [
       "<div>\n",
       "<style scoped>\n",
       "    .dataframe tbody tr th:only-of-type {\n",
       "        vertical-align: middle;\n",
       "    }\n",
       "\n",
       "    .dataframe tbody tr th {\n",
       "        vertical-align: top;\n",
       "    }\n",
       "\n",
       "    .dataframe thead th {\n",
       "        text-align: right;\n",
       "    }\n",
       "</style>\n",
       "<table border=\"1\" class=\"dataframe\">\n",
       "  <thead>\n",
       "    <tr style=\"text-align: right;\">\n",
       "      <th></th>\n",
       "      <th>user_id</th>\n",
       "      <th>track</th>\n",
       "      <th>artist</th>\n",
       "      <th>genre</th>\n",
       "      <th>time</th>\n",
       "      <th>day</th>\n",
       "    </tr>\n",
       "    <tr>\n",
       "      <th>city</th>\n",
       "      <th></th>\n",
       "      <th></th>\n",
       "      <th></th>\n",
       "      <th></th>\n",
       "      <th></th>\n",
       "      <th></th>\n",
       "    </tr>\n",
       "  </thead>\n",
       "  <tbody>\n",
       "    <tr>\n",
       "      <td>Moscow</td>\n",
       "      <td>42741</td>\n",
       "      <td>42741</td>\n",
       "      <td>42741</td>\n",
       "      <td>42741</td>\n",
       "      <td>42741</td>\n",
       "      <td>42741</td>\n",
       "    </tr>\n",
       "    <tr>\n",
       "      <td>Saint-Petersburg</td>\n",
       "      <td>18512</td>\n",
       "      <td>18512</td>\n",
       "      <td>18512</td>\n",
       "      <td>18512</td>\n",
       "      <td>18512</td>\n",
       "      <td>18512</td>\n",
       "    </tr>\n",
       "  </tbody>\n",
       "</table>\n",
       "</div>"
      ],
      "text/plain": [
       "                  user_id  track  artist  genre   time    day\n",
       "city                                                         \n",
       "Moscow              42741  42741   42741  42741  42741  42741\n",
       "Saint-Petersburg    18512  18512   18512  18512  18512  18512"
      ]
     },
     "execution_count": 20,
     "metadata": {},
     "output_type": "execute_result"
    }
   ],
   "source": [
    "df.groupby('city').count()"
   ]
  },
  {
   "cell_type": "markdown",
   "metadata": {
    "id": "dzli3w8o_Zcu"
   },
   "source": [
    "В Москве прослушиваний больше, чем в Петербурге. Из этого не следует, что московские пользователи чаще слушают музыку. Просто самих пользователей в Москве больше.\n",
    "\n",
    "Теперь сгруппируйте данные по дню недели и подсчитайте прослушивания в понедельник, среду и пятницу. Учтите, что в данных есть информация только о прослушиваниях только за эти дни.\n"
   ]
  },
  {
   "cell_type": "code",
   "execution_count": 42,
   "metadata": {
    "id": "uZMKjiJz_Zcu"
   },
   "outputs": [
    {
     "data": {
      "text/plain": [
       "day\n",
       "Friday       21840\n",
       "Monday       21354\n",
       "Wednesday    18059\n",
       "Name: day, dtype: int64"
      ]
     },
     "execution_count": 42,
     "metadata": {},
     "output_type": "execute_result"
    }
   ],
   "source": [
    "df.groupby('day')['day'].count()# Подсчёт прослушиваний в каждый из трёх дней"
   ]
  },
  {
   "cell_type": "markdown",
   "metadata": {
    "id": "cC2tNrlL_Zcu"
   },
   "source": [
    "В среднем пользователи из двух городов менее активны по средам. Но картина может измениться, если рассмотреть каждый город в отдельности."
   ]
  },
  {
   "cell_type": "code",
   "execution_count": 22,
   "metadata": {
    "id": "Nz3GdQB1_Zcu"
   },
   "outputs": [],
   "source": [
    "def number_tracks(day, city):\n",
    "    track_list = df[df['day'] == day]\n",
    "    track_list = track_list[track_list['city'] == city]\n",
    "    track_list_count = track_list['user_id'].count()\n",
    "    return track_list_count\n",
    "   "
   ]
  },
  {
   "cell_type": "code",
   "execution_count": 23,
   "metadata": {
    "id": "rJcRATNQ_Zcu"
   },
   "outputs": [
    {
     "data": {
      "text/plain": [
       "15740"
      ]
     },
     "execution_count": 23,
     "metadata": {},
     "output_type": "execute_result"
    }
   ],
   "source": [
    "number_tracks('Monday','Moscow')\n",
    "# количество прослушиваний в Москве по понедельникам"
   ]
  },
  {
   "cell_type": "code",
   "execution_count": 24,
   "metadata": {
    "id": "hq_ncZ5T_Zcu"
   },
   "outputs": [
    {
     "data": {
      "text/plain": [
       "5614"
      ]
     },
     "execution_count": 24,
     "metadata": {},
     "output_type": "execute_result"
    }
   ],
   "source": [
    "number_tracks('Monday','Saint-Petersburg') # количество прослушиваний в Санкт-Петербурге по понедельникам"
   ]
  },
  {
   "cell_type": "code",
   "execution_count": 25,
   "metadata": {
    "id": "_NTy2VPU_Zcu"
   },
   "outputs": [
    {
     "data": {
      "text/plain": [
       "11056"
      ]
     },
     "execution_count": 25,
     "metadata": {},
     "output_type": "execute_result"
    }
   ],
   "source": [
    "number_tracks('Wednesday','Moscow')# количество прослушиваний в Москве по средам"
   ]
  },
  {
   "cell_type": "code",
   "execution_count": 26,
   "metadata": {
    "id": "j2y3TAwo_Zcu"
   },
   "outputs": [
    {
     "data": {
      "text/plain": [
       "7003"
      ]
     },
     "execution_count": 26,
     "metadata": {},
     "output_type": "execute_result"
    }
   ],
   "source": [
    "number_tracks('Wednesday','Saint-Petersburg')"
   ]
  },
  {
   "cell_type": "code",
   "execution_count": 27,
   "metadata": {
    "id": "vYDw5u_K_Zcu"
   },
   "outputs": [
    {
     "data": {
      "text/plain": [
       "15945"
      ]
     },
     "execution_count": 27,
     "metadata": {},
     "output_type": "execute_result"
    }
   ],
   "source": [
    "number_tracks('Friday','Moscow')# количество прослушиваний в Москве по пятницам"
   ]
  },
  {
   "cell_type": "code",
   "execution_count": 28,
   "metadata": {
    "id": "8_yzFtW3_Zcu"
   },
   "outputs": [
    {
     "data": {
      "text/plain": [
       "5895"
      ]
     },
     "execution_count": 28,
     "metadata": {},
     "output_type": "execute_result"
    }
   ],
   "source": [
    "number_tracks('Friday','Saint-Petersburg')# количество прослушиваний в Санкт-Петербурге по пятницам"
   ]
  },
  {
   "cell_type": "code",
   "execution_count": 29,
   "metadata": {
    "id": "APAcLpOr_Zcu"
   },
   "outputs": [
    {
     "data": {
      "text/html": [
       "<div>\n",
       "<style scoped>\n",
       "    .dataframe tbody tr th:only-of-type {\n",
       "        vertical-align: middle;\n",
       "    }\n",
       "\n",
       "    .dataframe tbody tr th {\n",
       "        vertical-align: top;\n",
       "    }\n",
       "\n",
       "    .dataframe thead th {\n",
       "        text-align: right;\n",
       "    }\n",
       "</style>\n",
       "<table border=\"1\" class=\"dataframe\">\n",
       "  <thead>\n",
       "    <tr style=\"text-align: right;\">\n",
       "      <th></th>\n",
       "      <th>city</th>\n",
       "      <th>monday</th>\n",
       "      <th>wednesday</th>\n",
       "      <th>friday</th>\n",
       "    </tr>\n",
       "  </thead>\n",
       "  <tbody>\n",
       "    <tr>\n",
       "      <td>0</td>\n",
       "      <td>Moscow</td>\n",
       "      <td>15740</td>\n",
       "      <td>11056</td>\n",
       "      <td>15945</td>\n",
       "    </tr>\n",
       "    <tr>\n",
       "      <td>1</td>\n",
       "      <td>Saint-Petersburg</td>\n",
       "      <td>5614</td>\n",
       "      <td>7003</td>\n",
       "      <td>5895</td>\n",
       "    </tr>\n",
       "  </tbody>\n",
       "</table>\n",
       "</div>"
      ],
      "text/plain": [
       "               city  monday  wednesday  friday\n",
       "0            Moscow   15740      11056   15945\n",
       "1  Saint-Petersburg    5614       7003    5895"
      ]
     },
     "execution_count": 29,
     "metadata": {},
     "output_type": "execute_result"
    }
   ],
   "source": [
    "data=[['Moscow', 15740, 11056, 15945], ['Saint-Petersburg', 5614, 7003, 5895]]\n",
    "columns = ['city', 'monday', 'wednesday', 'friday']\n",
    "pandas.DataFrame(data=data, columns=columns) # Таблица с результатами"
   ]
  },
  {
   "cell_type": "markdown",
   "metadata": {
    "id": "-EgPIHYu_Zcu"
   },
   "source": [
    "**Выводы**\n",
    "\n",
    "Данные показывают разницу поведения пользователей:\n",
    "\n",
    "- В Москве пик прослушиваний приходится на понедельник и пятницу, а в среду заметен спад.\n",
    "- В Петербурге, наоборот, больше слушают музыку по средам. Активность в понедельник и пятницу здесь почти в равной мере уступает среде.\n",
    "\n",
    "Значит, данные говорят в пользу первой гипотезы."
   ]
  },
  {
   "cell_type": "markdown",
   "metadata": {
    "id": "atZAxtq4_Zcu"
   },
   "source": [
    "### Музыка в начале и в конце недели"
   ]
  },
  {
   "cell_type": "markdown",
   "metadata": {
    "id": "eXrQqXFH_Zcu"
   },
   "source": [
    "Согласно второй гипотезе, утром в понедельник в Москве преобладают одни жанры, а в Петербурге — другие. Так же и вечером пятницы преобладают разные жанры — в зависимости от города."
   ]
  },
  {
   "cell_type": "code",
   "execution_count": 30,
   "metadata": {
    "id": "qeaFfM_P_Zcu"
   },
   "outputs": [
    {
     "data": {
      "text/html": [
       "<div>\n",
       "<style scoped>\n",
       "    .dataframe tbody tr th:only-of-type {\n",
       "        vertical-align: middle;\n",
       "    }\n",
       "\n",
       "    .dataframe tbody tr th {\n",
       "        vertical-align: top;\n",
       "    }\n",
       "\n",
       "    .dataframe thead th {\n",
       "        text-align: right;\n",
       "    }\n",
       "</style>\n",
       "<table border=\"1\" class=\"dataframe\">\n",
       "  <thead>\n",
       "    <tr style=\"text-align: right;\">\n",
       "      <th></th>\n",
       "      <th>user_id</th>\n",
       "      <th>track</th>\n",
       "      <th>artist</th>\n",
       "      <th>genre</th>\n",
       "      <th>city</th>\n",
       "      <th>time</th>\n",
       "      <th>day</th>\n",
       "    </tr>\n",
       "  </thead>\n",
       "  <tbody>\n",
       "    <tr>\n",
       "      <td>1</td>\n",
       "      <td>55204538</td>\n",
       "      <td>Delayed Because of Accident</td>\n",
       "      <td>Andreas Rönnberg</td>\n",
       "      <td>rock</td>\n",
       "      <td>Moscow</td>\n",
       "      <td>14:07:09</td>\n",
       "      <td>Friday</td>\n",
       "    </tr>\n",
       "    <tr>\n",
       "      <td>4</td>\n",
       "      <td>E2DC1FAE</td>\n",
       "      <td>Soul People</td>\n",
       "      <td>Space Echo</td>\n",
       "      <td>dance</td>\n",
       "      <td>Moscow</td>\n",
       "      <td>08:34:34</td>\n",
       "      <td>Monday</td>\n",
       "    </tr>\n",
       "    <tr>\n",
       "      <td>6</td>\n",
       "      <td>4CB90AA5</td>\n",
       "      <td>True</td>\n",
       "      <td>Roman Messer</td>\n",
       "      <td>dance</td>\n",
       "      <td>Moscow</td>\n",
       "      <td>13:00:07</td>\n",
       "      <td>Wednesday</td>\n",
       "    </tr>\n",
       "    <tr>\n",
       "      <td>7</td>\n",
       "      <td>F03E1C1F</td>\n",
       "      <td>Feeling This Way</td>\n",
       "      <td>Polina Griffith</td>\n",
       "      <td>dance</td>\n",
       "      <td>Moscow</td>\n",
       "      <td>20:47:49</td>\n",
       "      <td>Wednesday</td>\n",
       "    </tr>\n",
       "    <tr>\n",
       "      <td>8</td>\n",
       "      <td>8FA1D3BE</td>\n",
       "      <td>И вновь продолжается бой</td>\n",
       "      <td>unknown</td>\n",
       "      <td>ruspop</td>\n",
       "      <td>Moscow</td>\n",
       "      <td>09:17:40</td>\n",
       "      <td>Friday</td>\n",
       "    </tr>\n",
       "    <tr>\n",
       "      <td>...</td>\n",
       "      <td>...</td>\n",
       "      <td>...</td>\n",
       "      <td>...</td>\n",
       "      <td>...</td>\n",
       "      <td>...</td>\n",
       "      <td>...</td>\n",
       "      <td>...</td>\n",
       "    </tr>\n",
       "    <tr>\n",
       "      <td>61247</td>\n",
       "      <td>83A474E7</td>\n",
       "      <td>I Worship Only What You Bleed</td>\n",
       "      <td>The Black Dahlia Murder</td>\n",
       "      <td>extrememetal</td>\n",
       "      <td>Moscow</td>\n",
       "      <td>21:07:12</td>\n",
       "      <td>Monday</td>\n",
       "    </tr>\n",
       "    <tr>\n",
       "      <td>61248</td>\n",
       "      <td>729CBB09</td>\n",
       "      <td>My Name</td>\n",
       "      <td>McLean</td>\n",
       "      <td>rnb</td>\n",
       "      <td>Moscow</td>\n",
       "      <td>13:32:28</td>\n",
       "      <td>Wednesday</td>\n",
       "    </tr>\n",
       "    <tr>\n",
       "      <td>61250</td>\n",
       "      <td>C5E3A0D5</td>\n",
       "      <td>Jalopiina</td>\n",
       "      <td>unknown</td>\n",
       "      <td>industrial</td>\n",
       "      <td>Moscow</td>\n",
       "      <td>20:09:26</td>\n",
       "      <td>Friday</td>\n",
       "    </tr>\n",
       "    <tr>\n",
       "      <td>61251</td>\n",
       "      <td>321D0506</td>\n",
       "      <td>Freight Train</td>\n",
       "      <td>Chas McDevitt</td>\n",
       "      <td>rock</td>\n",
       "      <td>Moscow</td>\n",
       "      <td>21:43:59</td>\n",
       "      <td>Friday</td>\n",
       "    </tr>\n",
       "    <tr>\n",
       "      <td>61252</td>\n",
       "      <td>3A64EF84</td>\n",
       "      <td>Tell Me Sweet Little Lies</td>\n",
       "      <td>Monica Lopez</td>\n",
       "      <td>country</td>\n",
       "      <td>Moscow</td>\n",
       "      <td>21:59:46</td>\n",
       "      <td>Friday</td>\n",
       "    </tr>\n",
       "  </tbody>\n",
       "</table>\n",
       "<p>42741 rows × 7 columns</p>\n",
       "</div>"
      ],
      "text/plain": [
       "        user_id                          track                   artist  \\\n",
       "1      55204538    Delayed Because of Accident         Andreas Rönnberg   \n",
       "4      E2DC1FAE                    Soul People               Space Echo   \n",
       "6      4CB90AA5                           True             Roman Messer   \n",
       "7      F03E1C1F               Feeling This Way          Polina Griffith   \n",
       "8      8FA1D3BE       И вновь продолжается бой                  unknown   \n",
       "...         ...                            ...                      ...   \n",
       "61247  83A474E7  I Worship Only What You Bleed  The Black Dahlia Murder   \n",
       "61248  729CBB09                        My Name                   McLean   \n",
       "61250  C5E3A0D5                      Jalopiina                  unknown   \n",
       "61251  321D0506                  Freight Train            Chas McDevitt   \n",
       "61252  3A64EF84      Tell Me Sweet Little Lies             Monica Lopez   \n",
       "\n",
       "              genre    city      time        day  \n",
       "1              rock  Moscow  14:07:09     Friday  \n",
       "4             dance  Moscow  08:34:34     Monday  \n",
       "6             dance  Moscow  13:00:07  Wednesday  \n",
       "7             dance  Moscow  20:47:49  Wednesday  \n",
       "8            ruspop  Moscow  09:17:40     Friday  \n",
       "...             ...     ...       ...        ...  \n",
       "61247  extrememetal  Moscow  21:07:12     Monday  \n",
       "61248           rnb  Moscow  13:32:28  Wednesday  \n",
       "61250    industrial  Moscow  20:09:26     Friday  \n",
       "61251          rock  Moscow  21:43:59     Friday  \n",
       "61252       country  Moscow  21:59:46     Friday  \n",
       "\n",
       "[42741 rows x 7 columns]"
      ]
     },
     "metadata": {},
     "output_type": "display_data"
    }
   ],
   "source": [
    "moscow_general = df[df['city'] == 'Moscow']\n",
    "display(moscow_general)\n",
    "# для которых значение в столбце 'city' равно 'Moscow'\n"
   ]
  },
  {
   "cell_type": "code",
   "execution_count": 31,
   "metadata": {
    "id": "ORaVRKto_Zcu"
   },
   "outputs": [
    {
     "data": {
      "text/html": [
       "<div>\n",
       "<style scoped>\n",
       "    .dataframe tbody tr th:only-of-type {\n",
       "        vertical-align: middle;\n",
       "    }\n",
       "\n",
       "    .dataframe tbody tr th {\n",
       "        vertical-align: top;\n",
       "    }\n",
       "\n",
       "    .dataframe thead th {\n",
       "        text-align: right;\n",
       "    }\n",
       "</style>\n",
       "<table border=\"1\" class=\"dataframe\">\n",
       "  <thead>\n",
       "    <tr style=\"text-align: right;\">\n",
       "      <th></th>\n",
       "      <th>user_id</th>\n",
       "      <th>track</th>\n",
       "      <th>artist</th>\n",
       "      <th>genre</th>\n",
       "      <th>city</th>\n",
       "      <th>time</th>\n",
       "      <th>day</th>\n",
       "    </tr>\n",
       "  </thead>\n",
       "  <tbody>\n",
       "    <tr>\n",
       "      <td>0</td>\n",
       "      <td>FFB692EC</td>\n",
       "      <td>Kamigata To Boots</td>\n",
       "      <td>The Mass Missile</td>\n",
       "      <td>rock</td>\n",
       "      <td>Saint-Petersburg</td>\n",
       "      <td>20:28:33</td>\n",
       "      <td>Wednesday</td>\n",
       "    </tr>\n",
       "    <tr>\n",
       "      <td>2</td>\n",
       "      <td>20EC38</td>\n",
       "      <td>Funiculì funiculà</td>\n",
       "      <td>Mario Lanza</td>\n",
       "      <td>pop</td>\n",
       "      <td>Saint-Petersburg</td>\n",
       "      <td>20:58:07</td>\n",
       "      <td>Wednesday</td>\n",
       "    </tr>\n",
       "    <tr>\n",
       "      <td>3</td>\n",
       "      <td>A3DD03C9</td>\n",
       "      <td>Dragons in the Sunset</td>\n",
       "      <td>Fire + Ice</td>\n",
       "      <td>folk</td>\n",
       "      <td>Saint-Petersburg</td>\n",
       "      <td>08:37:09</td>\n",
       "      <td>Monday</td>\n",
       "    </tr>\n",
       "    <tr>\n",
       "      <td>5</td>\n",
       "      <td>842029A1</td>\n",
       "      <td>Преданная</td>\n",
       "      <td>IMPERVTOR</td>\n",
       "      <td>rusrap</td>\n",
       "      <td>Saint-Petersburg</td>\n",
       "      <td>13:09:41</td>\n",
       "      <td>Friday</td>\n",
       "    </tr>\n",
       "    <tr>\n",
       "      <td>9</td>\n",
       "      <td>E772D5C0</td>\n",
       "      <td>Pessimist</td>\n",
       "      <td>unknown</td>\n",
       "      <td>dance</td>\n",
       "      <td>Saint-Petersburg</td>\n",
       "      <td>21:20:49</td>\n",
       "      <td>Wednesday</td>\n",
       "    </tr>\n",
       "    <tr>\n",
       "      <td>...</td>\n",
       "      <td>...</td>\n",
       "      <td>...</td>\n",
       "      <td>...</td>\n",
       "      <td>...</td>\n",
       "      <td>...</td>\n",
       "      <td>...</td>\n",
       "      <td>...</td>\n",
       "    </tr>\n",
       "    <tr>\n",
       "      <td>61239</td>\n",
       "      <td>D94F810B</td>\n",
       "      <td>Theme from the Walking Dead</td>\n",
       "      <td>Proyecto Halloween</td>\n",
       "      <td>film</td>\n",
       "      <td>Saint-Petersburg</td>\n",
       "      <td>21:14:40</td>\n",
       "      <td>Monday</td>\n",
       "    </tr>\n",
       "    <tr>\n",
       "      <td>61240</td>\n",
       "      <td>BC8EC5CF</td>\n",
       "      <td>Red Lips: Gta (Rover Rework)</td>\n",
       "      <td>Rover</td>\n",
       "      <td>electronic</td>\n",
       "      <td>Saint-Petersburg</td>\n",
       "      <td>21:06:50</td>\n",
       "      <td>Monday</td>\n",
       "    </tr>\n",
       "    <tr>\n",
       "      <td>61241</td>\n",
       "      <td>29E04611</td>\n",
       "      <td>Bre Petrunko</td>\n",
       "      <td>Perunika Trio</td>\n",
       "      <td>world</td>\n",
       "      <td>Saint-Petersburg</td>\n",
       "      <td>13:56:00</td>\n",
       "      <td>Monday</td>\n",
       "    </tr>\n",
       "    <tr>\n",
       "      <td>61242</td>\n",
       "      <td>1B91C621</td>\n",
       "      <td>(Hello) Cloud Mountain</td>\n",
       "      <td>sleepmakeswaves</td>\n",
       "      <td>postrock</td>\n",
       "      <td>Saint-Petersburg</td>\n",
       "      <td>09:22:13</td>\n",
       "      <td>Monday</td>\n",
       "    </tr>\n",
       "    <tr>\n",
       "      <td>61249</td>\n",
       "      <td>D08D4A55</td>\n",
       "      <td>Maybe One Day (feat. Black Spade)</td>\n",
       "      <td>Blu &amp; Exile</td>\n",
       "      <td>hiphop</td>\n",
       "      <td>Saint-Petersburg</td>\n",
       "      <td>10:00:00</td>\n",
       "      <td>Monday</td>\n",
       "    </tr>\n",
       "  </tbody>\n",
       "</table>\n",
       "<p>18512 rows × 7 columns</p>\n",
       "</div>"
      ],
      "text/plain": [
       "        user_id                              track              artist  \\\n",
       "0      FFB692EC                  Kamigata To Boots    The Mass Missile   \n",
       "2        20EC38                  Funiculì funiculà         Mario Lanza   \n",
       "3      A3DD03C9              Dragons in the Sunset          Fire + Ice   \n",
       "5      842029A1                          Преданная           IMPERVTOR   \n",
       "9      E772D5C0                          Pessimist             unknown   \n",
       "...         ...                                ...                 ...   \n",
       "61239  D94F810B        Theme from the Walking Dead  Proyecto Halloween   \n",
       "61240  BC8EC5CF       Red Lips: Gta (Rover Rework)               Rover   \n",
       "61241  29E04611                       Bre Petrunko       Perunika Trio   \n",
       "61242  1B91C621             (Hello) Cloud Mountain     sleepmakeswaves   \n",
       "61249  D08D4A55  Maybe One Day (feat. Black Spade)         Blu & Exile   \n",
       "\n",
       "            genre              city      time        day  \n",
       "0            rock  Saint-Petersburg  20:28:33  Wednesday  \n",
       "2             pop  Saint-Petersburg  20:58:07  Wednesday  \n",
       "3            folk  Saint-Petersburg  08:37:09     Monday  \n",
       "5          rusrap  Saint-Petersburg  13:09:41     Friday  \n",
       "9           dance  Saint-Petersburg  21:20:49  Wednesday  \n",
       "...           ...               ...       ...        ...  \n",
       "61239        film  Saint-Petersburg  21:14:40     Monday  \n",
       "61240  electronic  Saint-Petersburg  21:06:50     Monday  \n",
       "61241       world  Saint-Petersburg  13:56:00     Monday  \n",
       "61242    postrock  Saint-Petersburg  09:22:13     Monday  \n",
       "61249      hiphop  Saint-Petersburg  10:00:00     Monday  \n",
       "\n",
       "[18512 rows x 7 columns]"
      ]
     },
     "metadata": {},
     "output_type": "display_data"
    }
   ],
   "source": [
    "spb_general = df[df['city'] == 'Saint-Petersburg']\n",
    "display(spb_general)# получение таблицы spb_general из тех строк таблицы df,\n",
    "# для которых значение в столбце 'city' равно 'Saint-Petersburg'\n"
   ]
  },
  {
   "cell_type": "code",
   "execution_count": 32,
   "metadata": {
    "id": "laJT9BYl_Zcu"
   },
   "outputs": [],
   "source": [
    "def genre_weekday(table, day, time1, time2):\n",
    "    genre_df = table[(table['day'] == day)&(table['time'] > time1)&(table['time'] < time2)]\n",
    "    genre_df_count = genre_df.groupby('genre')['genre'].count()\n",
    "    genre_df_sorted = genre_df_count.sort_values(ascending=False).head(10)\n",
    "    return genre_df_sorted\n",
    "    # Объявление функции genre_weekday() с параметрами table, day, time1, time2,\n",
    "# которая возвращает информацию о самых популярных жанрах в указанный день в\n",
    "# заданное время:\n",
    "# 1) в переменную genre_df сохраняются те строки переданного датафрейма table, для\n",
    "#    которых одновременно:\n",
    "#    - значение в столбце day равно значению аргумента day\n",
    "#    - значение в столбце time больше значения аргумента time1\n",
    "#    - значение в столбце time меньше значения аргумента time2\n",
    "#    Используйте последовательную фильтрацию с помощью логической индексации.\n",
    "# 2) сгруппировать датафрейм genre_df по столбцу genre, взять один из его\n",
    "#    столбцов и посчитать методом count() количество записей для каждого из\n",
    "#    присутствующих жанров, получившийся Series записать в переменную\n",
    "#    genre_df_count\n",
    "# 3) отсортировать genre_df_count по убыванию встречаемости и сохранить\n",
    "#    в переменную genre_df_sorted\n",
    "# 4) вернуть Series из 10 первых значений genre_df_sorted, это будут топ-10\n",
    "#    популярных жанров (в указанный день, в заданное время)"
   ]
  },
  {
   "cell_type": "code",
   "execution_count": 33,
   "metadata": {
    "id": "yz7itPUQ_Zcu"
   },
   "outputs": [
    {
     "data": {
      "text/plain": [
       "genre\n",
       "pop            781\n",
       "dance          549\n",
       "electronic     480\n",
       "rock           474\n",
       "hiphop         286\n",
       "ruspop         186\n",
       "world          181\n",
       "rusrap         175\n",
       "alternative    164\n",
       "unknown        161\n",
       "Name: genre, dtype: int64"
      ]
     },
     "execution_count": 33,
     "metadata": {},
     "output_type": "execute_result"
    }
   ],
   "source": [
    "genre_weekday(moscow_general, 'Monday', '07:00', '11:00')"
   ]
  },
  {
   "cell_type": "code",
   "execution_count": 34,
   "metadata": {
    "id": "kwUcHPdy_Zcu"
   },
   "outputs": [
    {
     "data": {
      "text/plain": [
       "genre\n",
       "pop            218\n",
       "dance          182\n",
       "rock           162\n",
       "electronic     147\n",
       "hiphop          80\n",
       "ruspop          64\n",
       "alternative     58\n",
       "rusrap          55\n",
       "jazz            44\n",
       "classical       40\n",
       "Name: genre, dtype: int64"
      ]
     },
     "execution_count": 34,
     "metadata": {},
     "output_type": "execute_result"
    }
   ],
   "source": [
    "genre_weekday(spb_general, 'Monday', '07:00', '11:00') # вызов функции для утра понедельника в Петербурге (вместо df — таблица spb_general)"
   ]
  },
  {
   "cell_type": "code",
   "execution_count": 35,
   "metadata": {
    "id": "EzXVRE1o_Zcu"
   },
   "outputs": [
    {
     "data": {
      "text/plain": [
       "genre\n",
       "pop            713\n",
       "rock           517\n",
       "dance          495\n",
       "electronic     482\n",
       "hiphop         273\n",
       "world          208\n",
       "ruspop         170\n",
       "alternative    163\n",
       "classical      163\n",
       "rusrap         142\n",
       "Name: genre, dtype: int64"
      ]
     },
     "execution_count": 35,
     "metadata": {},
     "output_type": "execute_result"
    }
   ],
   "source": [
    "genre_weekday(moscow_general, 'Friday', '17:00', '23:00') # вызов функции для вечера пятницы в Москве"
   ]
  },
  {
   "cell_type": "code",
   "execution_count": 36,
   "metadata": {
    "id": "JZaEKu5v_Zcu"
   },
   "outputs": [
    {
     "data": {
      "text/plain": [
       "genre\n",
       "pop            256\n",
       "rock           216\n",
       "electronic     216\n",
       "dance          210\n",
       "hiphop          97\n",
       "alternative     63\n",
       "jazz            61\n",
       "classical       60\n",
       "rusrap          59\n",
       "world           54\n",
       "Name: genre, dtype: int64"
      ]
     },
     "execution_count": 36,
     "metadata": {},
     "output_type": "execute_result"
    }
   ],
   "source": [
    "genre_weekday(spb_general, 'Friday', '17:00', '23:00') # вызов функции для вечера пятницы в Петербурге"
   ]
  },
  {
   "cell_type": "markdown",
   "metadata": {
    "id": "wrCe4MNX_Zcu"
   },
   "source": [
    "**Выводы**\n",
    "\n",
    "Если сравнить топ-10 жанров в понедельник утром, можно сделать такие выводы:\n",
    "\n",
    "1. В Москве и Петербурге слушают похожую музыку. Единственное отличие — в московский рейтинг вошёл жанр “world”, а в петербургский — джаз и классика.\n",
    "\n",
    "2. В Москве пропущенных значений оказалось так много, что значение `'unknown'` заняло десятое место среди самых популярных жанров. Значит, пропущенные значения занимают существенную долю в данных и угрожают достоверности исследования.\n",
    "\n",
    "Вечер пятницы не меняет эту картину. Некоторые жанры поднимаются немного выше, другие спускаются, но в целом топ-10 остаётся тем же самым.\n",
    "\n",
    "Таким образом, вторая гипотеза подтвердилась лишь частично:\n",
    "* Пользователи слушают похожую музыку в начале недели и в конце.\n",
    "* Разница между Москвой и Петербургом не слишком выражена. В Москве чаще слушают русскую популярную музыку, в Петербурге — джаз.\n",
    "\n",
    "Однако пропуски в данных ставят под сомнение этот результат. В Москве их так много, что рейтинг топ-10 мог бы выглядеть иначе, если бы не утерянные  данные о жанрах."
   ]
  },
  {
   "cell_type": "markdown",
   "metadata": {
    "id": "JolODAqr_Zcu"
   },
   "source": [
    "### Жанровые предпочтения в Москве и Петербурге\n",
    "\n",
    "Гипотеза: Петербург — столица рэпа, музыку этого жанра там слушают чаще, чем в Москве.  А Москва — город контрастов, в котором, тем не менее, преобладает поп-музыка."
   ]
  },
  {
   "cell_type": "code",
   "execution_count": 37,
   "metadata": {
    "id": "r19lIPke_Zcu"
   },
   "outputs": [],
   "source": [
    "moscow_genres = moscow_general.groupby('genre')['genre'].count().sort_values(ascending = False)\n",
    "\n",
    "\n"
   ]
  },
  {
   "cell_type": "code",
   "execution_count": 38,
   "metadata": {
    "id": "WhCSooF8_Zcv"
   },
   "outputs": [
    {
     "data": {
      "text/plain": [
       "genre\n",
       "pop            5892\n",
       "dance          4435\n",
       "rock           3965\n",
       "electronic     3786\n",
       "hiphop         2096\n",
       "classical      1616\n",
       "world          1432\n",
       "alternative    1379\n",
       "ruspop         1372\n",
       "rusrap         1161\n",
       "Name: genre, dtype: int64"
      ]
     },
     "metadata": {},
     "output_type": "display_data"
    }
   ],
   "source": [
    "display(moscow_genres.head(10))# просмотр первых 10 строк moscow_genres"
   ]
  },
  {
   "cell_type": "code",
   "execution_count": 39,
   "metadata": {
    "id": "gluLIpE7_Zcv"
   },
   "outputs": [],
   "source": [
    "spb_genres = spb_general.groupby('genre')['genre'].count().sort_values(ascending = False) \n",
    " # одной строкой: группировка таблицы spb_general по столбцу 'genre', \n",
    "# подсчёт числа значений 'genre' в этой группировке методом count(), \n",
    "# сортировка получившегося Series в порядке убывания и сохранение в spb_genres"
   ]
  },
  {
   "cell_type": "code",
   "execution_count": 40,
   "metadata": {
    "id": "uaGJHjVU_Zcv"
   },
   "outputs": [
    {
     "data": {
      "text/plain": [
       "genre\n",
       "pop            2431\n",
       "dance          1932\n",
       "rock           1879\n",
       "electronic     1736\n",
       "hiphop          960\n",
       "alternative     649\n",
       "classical       646\n",
       "rusrap          564\n",
       "ruspop          538\n",
       "world           515\n",
       "Name: genre, dtype: int64"
      ]
     },
     "metadata": {},
     "output_type": "display_data"
    }
   ],
   "source": [
    "display(spb_genres.head(10))  # просмотр первых 10 строк spb_genres"
   ]
  },
  {
   "cell_type": "markdown",
   "metadata": {
    "id": "RY51YJYu_Zcv"
   },
   "source": [
    "**Выводы**"
   ]
  },
  {
   "cell_type": "markdown",
   "metadata": {
    "id": "nVhnJEm__Zcv"
   },
   "source": [
    "Гипотеза частично подтвердилась:\n",
    "* Поп-музыка — самый популярный жанр в Москве, как и предполагала гипотеза. Более того, в топ-10 жанров встречается близкий жанр — русская популярная музыка.\n",
    "* Вопреки ожиданиям, рэп одинаково популярен в Москве и Петербурге. \n"
   ]
  },
  {
   "cell_type": "markdown",
   "metadata": {
    "id": "ykKQ0N65_Zcv"
   },
   "source": [
    "## Итоги исследования"
   ]
  },
  {
   "cell_type": "markdown",
   "metadata": {
    "id": "tjUwbHb3_Zcv"
   },
   "source": [
    "Вы проверили три гипотезы и установили:\n",
    "\n",
    "1. День недели по-разному влияет на активность пользователей в Москве и Петербурге. \n",
    "\n",
    "Первая гипотеза полностью подтвердилась.\n",
    "\n",
    "2. Музыкальные предпочтения не сильно меняются в течение недели — будь то Москва или Петербург. Небольшие различия заметны в начале недели, по понедельникам:\n",
    "* в Москве слушают музыку жанра “world”,\n",
    "* в Петербурге — джаз и классику.\n",
    "\n",
    "Таким образом, вторая гипотеза подтвердилась лишь отчасти. Этот результат мог оказаться иным, если бы не пропуски в данных.\n",
    "\n",
    "3. Во вкусах пользователей Москвы и Петербурга больше общего чем различий. Вопреки ожиданиям, предпочтения жанров в Петербурге напоминают московские.\n",
    "\n",
    "Третья гипотеза не подтвердилась. Если различия в предпочтениях и существуют, на основной массе пользователей они незаметны.\n",
    "\n"
   ]
  },
  {
   "cell_type": "code",
   "execution_count": null,
   "metadata": {},
   "outputs": [],
   "source": []
  }
 ],
 "metadata": {
  "ExecuteTimeLog": [
   {
    "duration": 529,
    "start_time": "2021-11-23T06:11:36.327Z"
   },
   {
    "duration": 3,
    "start_time": "2021-11-23T06:12:02.720Z"
   },
   {
    "duration": 118,
    "start_time": "2021-11-23T06:13:05.201Z"
   },
   {
    "duration": 331,
    "start_time": "2021-11-23T06:13:33.969Z"
   },
   {
    "duration": 7,
    "start_time": "2021-11-23T06:13:47.651Z"
   },
   {
    "duration": 21,
    "start_time": "2021-11-23T06:16:59.007Z"
   },
   {
    "duration": 255,
    "start_time": "2021-11-23T06:36:51.803Z"
   },
   {
    "duration": 8,
    "start_time": "2021-11-23T06:37:02.336Z"
   },
   {
    "duration": 3,
    "start_time": "2021-11-23T06:39:03.236Z"
   },
   {
    "duration": 2,
    "start_time": "2021-11-23T06:39:17.620Z"
   },
   {
    "duration": 3,
    "start_time": "2021-11-23T07:00:58.767Z"
   },
   {
    "duration": 18,
    "start_time": "2021-11-23T07:09:10.340Z"
   },
   {
    "duration": 3,
    "start_time": "2021-11-23T07:09:23.587Z"
   },
   {
    "duration": 23,
    "start_time": "2021-11-23T07:15:47.882Z"
   },
   {
    "duration": 28,
    "start_time": "2021-11-23T07:16:19.200Z"
   },
   {
    "duration": 22,
    "start_time": "2021-11-23T07:16:30.011Z"
   },
   {
    "duration": 5766,
    "start_time": "2021-11-23T07:19:24.607Z"
   },
   {
    "duration": 82,
    "start_time": "2021-11-23T07:21:32.693Z"
   },
   {
    "duration": 6055,
    "start_time": "2021-11-23T07:21:41.281Z"
   },
   {
    "duration": -29,
    "start_time": "2021-11-23T07:21:47.367Z"
   },
   {
    "duration": 16,
    "start_time": "2021-11-23T07:22:04.058Z"
   },
   {
    "duration": 22,
    "start_time": "2021-11-23T07:22:07.711Z"
   },
   {
    "duration": 53,
    "start_time": "2021-11-23T07:22:58.697Z"
   },
   {
    "duration": 65,
    "start_time": "2021-11-23T07:23:37.914Z"
   },
   {
    "duration": 49,
    "start_time": "2021-11-23T07:24:31.829Z"
   },
   {
    "duration": 7,
    "start_time": "2021-11-23T07:25:41.147Z"
   },
   {
    "duration": 55,
    "start_time": "2021-11-23T07:27:57.328Z"
   },
   {
    "duration": 46,
    "start_time": "2021-11-23T07:28:02.580Z"
   },
   {
    "duration": 7,
    "start_time": "2021-11-23T07:28:14.996Z"
   },
   {
    "duration": 7,
    "start_time": "2021-11-23T07:28:19.297Z"
   },
   {
    "duration": 2,
    "start_time": "2021-11-23T07:28:23.895Z"
   },
   {
    "duration": 228,
    "start_time": "2021-11-23T07:28:54.413Z"
   },
   {
    "duration": 289,
    "start_time": "2021-11-23T07:29:07.480Z"
   },
   {
    "duration": 244,
    "start_time": "2021-11-23T07:29:11.983Z"
   },
   {
    "duration": 251,
    "start_time": "2021-11-23T07:29:19.051Z"
   },
   {
    "duration": 260,
    "start_time": "2021-11-23T07:30:00.997Z"
   },
   {
    "duration": 384,
    "start_time": "2021-11-23T07:30:47.896Z"
   },
   {
    "duration": 76,
    "start_time": "2021-11-23T07:31:16.274Z"
   },
   {
    "duration": 220,
    "start_time": "2021-11-23T07:33:58.529Z"
   },
   {
    "duration": 226,
    "start_time": "2021-11-23T07:34:05.356Z"
   },
   {
    "duration": 224,
    "start_time": "2021-11-23T07:35:58.363Z"
   },
   {
    "duration": 914,
    "start_time": "2021-11-23T07:44:34.890Z"
   },
   {
    "duration": 222,
    "start_time": "2021-11-23T07:44:47.355Z"
   },
   {
    "duration": 223,
    "start_time": "2021-11-23T07:45:11.839Z"
   },
   {
    "duration": 220,
    "start_time": "2021-11-23T07:45:37.618Z"
   },
   {
    "duration": 76,
    "start_time": "2021-11-23T07:49:42.963Z"
   },
   {
    "duration": 311,
    "start_time": "2021-11-23T07:49:46.654Z"
   },
   {
    "duration": 274,
    "start_time": "2021-11-23T07:49:57.273Z"
   },
   {
    "duration": 282,
    "start_time": "2021-11-23T07:50:54.780Z"
   },
   {
    "duration": 257,
    "start_time": "2021-11-23T07:51:39.855Z"
   },
   {
    "duration": 258,
    "start_time": "2021-11-23T07:52:47.420Z"
   },
   {
    "duration": 230,
    "start_time": "2021-11-23T07:53:25.104Z"
   },
   {
    "duration": 226,
    "start_time": "2021-11-23T07:53:35.528Z"
   },
   {
    "duration": 228,
    "start_time": "2021-11-23T07:53:41.662Z"
   },
   {
    "duration": 221,
    "start_time": "2021-11-23T07:53:46.088Z"
   },
   {
    "duration": 3,
    "start_time": "2021-11-23T07:53:46.668Z"
   },
   {
    "duration": 2,
    "start_time": "2021-11-23T07:53:47.088Z"
   },
   {
    "duration": 345,
    "start_time": "2021-11-23T07:53:58.197Z"
   },
   {
    "duration": 343,
    "start_time": "2021-11-23T07:54:00.320Z"
   },
   {
    "duration": 235,
    "start_time": "2021-11-23T07:54:02.287Z"
   },
   {
    "duration": 294,
    "start_time": "2021-11-23T07:54:04.139Z"
   },
   {
    "duration": 221,
    "start_time": "2021-11-23T07:54:05.855Z"
   },
   {
    "duration": 314,
    "start_time": "2021-11-23T07:54:07.655Z"
   },
   {
    "duration": 219,
    "start_time": "2021-11-23T07:54:09.537Z"
   },
   {
    "duration": 221,
    "start_time": "2021-11-23T07:54:23.884Z"
   },
   {
    "duration": 354,
    "start_time": "2021-11-23T07:54:25.880Z"
   },
   {
    "duration": 219,
    "start_time": "2021-11-23T07:54:28.029Z"
   },
   {
    "duration": 233,
    "start_time": "2021-11-23T07:54:29.973Z"
   },
   {
    "duration": 250,
    "start_time": "2021-11-23T07:54:32.187Z"
   },
   {
    "duration": 219,
    "start_time": "2021-11-23T07:54:34.103Z"
   },
   {
    "duration": 220,
    "start_time": "2021-11-23T07:54:35.988Z"
   },
   {
    "duration": 221,
    "start_time": "2021-11-23T07:54:37.846Z"
   },
   {
    "duration": 223,
    "start_time": "2021-11-23T07:54:40.020Z"
   },
   {
    "duration": 239,
    "start_time": "2021-11-23T07:54:41.903Z"
   },
   {
    "duration": 217,
    "start_time": "2021-11-23T07:54:43.903Z"
   },
   {
    "duration": 217,
    "start_time": "2021-11-23T07:54:45.869Z"
   },
   {
    "duration": 222,
    "start_time": "2021-11-23T07:54:47.787Z"
   },
   {
    "duration": 346,
    "start_time": "2021-11-23T07:54:51.967Z"
   },
   {
    "duration": 564,
    "start_time": "2021-11-23T07:55:38.758Z"
   },
   {
    "duration": 537,
    "start_time": "2021-11-23T07:56:10.809Z"
   },
   {
    "duration": 140,
    "start_time": "2021-11-23T07:56:19.264Z"
   },
   {
    "duration": 7,
    "start_time": "2021-11-23T07:56:24.172Z"
   },
   {
    "duration": 7,
    "start_time": "2021-11-23T07:56:33.144Z"
   },
   {
    "duration": 22,
    "start_time": "2021-11-23T07:56:39.557Z"
   },
   {
    "duration": 83,
    "start_time": "2021-11-23T07:56:48.440Z"
   },
   {
    "duration": 63,
    "start_time": "2021-11-23T07:57:05.159Z"
   },
   {
    "duration": 48,
    "start_time": "2021-11-23T07:57:08.057Z"
   },
   {
    "duration": 9,
    "start_time": "2021-11-23T07:57:11.377Z"
   },
   {
    "duration": 281,
    "start_time": "2021-11-23T10:17:16.185Z"
   },
   {
    "duration": 2,
    "start_time": "2021-11-23T10:19:55.308Z"
   },
   {
    "duration": 144,
    "start_time": "2021-11-23T10:19:55.312Z"
   },
   {
    "duration": 7,
    "start_time": "2021-11-23T10:19:55.458Z"
   },
   {
    "duration": 47,
    "start_time": "2021-11-23T10:19:55.467Z"
   },
   {
    "duration": 3,
    "start_time": "2021-11-23T10:19:55.516Z"
   },
   {
    "duration": 20,
    "start_time": "2021-11-23T10:19:55.521Z"
   },
   {
    "duration": 3,
    "start_time": "2021-11-23T10:19:55.543Z"
   },
   {
    "duration": 52,
    "start_time": "2021-11-23T10:19:55.549Z"
   },
   {
    "duration": 17,
    "start_time": "2021-11-23T10:19:55.604Z"
   },
   {
    "duration": 22,
    "start_time": "2021-11-23T10:19:55.622Z"
   },
   {
    "duration": 75,
    "start_time": "2021-11-23T10:19:55.646Z"
   },
   {
    "duration": 53,
    "start_time": "2021-11-23T10:19:55.723Z"
   },
   {
    "duration": 55,
    "start_time": "2021-11-23T10:19:55.777Z"
   },
   {
    "duration": 6,
    "start_time": "2021-11-23T10:19:55.833Z"
   },
   {
    "duration": 79,
    "start_time": "2021-11-23T10:19:55.840Z"
   },
   {
    "duration": 77,
    "start_time": "2021-11-23T10:19:55.844Z"
   },
   {
    "duration": 77,
    "start_time": "2021-11-23T10:19:55.845Z"
   },
   {
    "duration": 77,
    "start_time": "2021-11-23T10:19:55.846Z"
   },
   {
    "duration": 61,
    "start_time": "2021-11-23T10:19:55.863Z"
   },
   {
    "duration": 61,
    "start_time": "2021-11-23T10:19:55.864Z"
   },
   {
    "duration": 61,
    "start_time": "2021-11-23T10:19:55.865Z"
   },
   {
    "duration": 61,
    "start_time": "2021-11-23T10:19:55.866Z"
   },
   {
    "duration": 61,
    "start_time": "2021-11-23T10:19:55.867Z"
   },
   {
    "duration": 61,
    "start_time": "2021-11-23T10:19:55.868Z"
   },
   {
    "duration": 62,
    "start_time": "2021-11-23T10:19:55.868Z"
   },
   {
    "duration": 62,
    "start_time": "2021-11-23T10:19:55.869Z"
   },
   {
    "duration": 61,
    "start_time": "2021-11-23T10:19:55.870Z"
   },
   {
    "duration": 61,
    "start_time": "2021-11-23T10:19:55.871Z"
   },
   {
    "duration": 42,
    "start_time": "2021-11-23T10:19:55.891Z"
   },
   {
    "duration": 42,
    "start_time": "2021-11-23T10:19:55.892Z"
   },
   {
    "duration": 42,
    "start_time": "2021-11-23T10:19:55.893Z"
   },
   {
    "duration": 42,
    "start_time": "2021-11-23T10:19:55.894Z"
   },
   {
    "duration": 40,
    "start_time": "2021-11-23T10:19:55.897Z"
   },
   {
    "duration": 40,
    "start_time": "2021-11-23T10:19:55.898Z"
   },
   {
    "duration": 40,
    "start_time": "2021-11-23T10:19:55.899Z"
   },
   {
    "duration": 40,
    "start_time": "2021-11-23T10:19:55.900Z"
   },
   {
    "duration": 40,
    "start_time": "2021-11-23T10:19:55.901Z"
   },
   {
    "duration": 40,
    "start_time": "2021-11-23T10:19:55.901Z"
   },
   {
    "duration": 3,
    "start_time": "2021-11-23T10:35:25.532Z"
   },
   {
    "duration": 4,
    "start_time": "2021-11-23T10:35:40.461Z"
   },
   {
    "duration": 9,
    "start_time": "2021-11-23T10:36:33.639Z"
   },
   {
    "duration": 2,
    "start_time": "2021-11-23T10:38:25.910Z"
   },
   {
    "duration": 12,
    "start_time": "2021-11-23T10:38:29.560Z"
   },
   {
    "duration": 6091,
    "start_time": "2021-11-23T10:38:41.643Z"
   },
   {
    "duration": 9,
    "start_time": "2021-11-23T10:38:47.768Z"
   },
   {
    "duration": 3,
    "start_time": "2021-11-23T10:40:17.793Z"
   },
   {
    "duration": 9,
    "start_time": "2021-11-23T10:40:21.888Z"
   },
   {
    "duration": 374,
    "start_time": "2021-11-23T10:42:50.911Z"
   },
   {
    "duration": 9,
    "start_time": "2021-11-23T10:43:15.376Z"
   },
   {
    "duration": 8,
    "start_time": "2021-11-23T10:43:18.984Z"
   },
   {
    "duration": 75,
    "start_time": "2021-11-23T10:45:19.201Z"
   },
   {
    "duration": 78,
    "start_time": "2021-11-23T10:45:34.458Z"
   },
   {
    "duration": 6,
    "start_time": "2021-11-23T10:45:42.276Z"
   },
   {
    "duration": 242,
    "start_time": "2021-11-23T10:54:37.375Z"
   },
   {
    "duration": 251,
    "start_time": "2021-11-23T10:54:54.275Z"
   },
   {
    "duration": 316,
    "start_time": "2021-11-23T11:58:19.253Z"
   },
   {
    "duration": 237,
    "start_time": "2021-11-23T12:09:17.833Z"
   },
   {
    "duration": 271,
    "start_time": "2021-11-23T12:09:32.325Z"
   },
   {
    "duration": 290,
    "start_time": "2021-11-23T12:09:58.016Z"
   },
   {
    "duration": 268,
    "start_time": "2021-11-23T12:10:14.963Z"
   },
   {
    "duration": 235,
    "start_time": "2021-11-23T12:10:23.674Z"
   },
   {
    "duration": 243,
    "start_time": "2021-11-23T12:13:50.678Z"
   },
   {
    "duration": 235,
    "start_time": "2021-11-23T12:14:18.184Z"
   },
   {
    "duration": 231,
    "start_time": "2021-11-23T12:14:27.832Z"
   },
   {
    "duration": 262,
    "start_time": "2021-11-23T12:14:33.947Z"
   },
   {
    "duration": 245,
    "start_time": "2021-11-23T12:14:45.715Z"
   },
   {
    "duration": 82,
    "start_time": "2021-11-23T12:14:58.074Z"
   },
   {
    "duration": 296,
    "start_time": "2021-11-23T12:15:07.422Z"
   },
   {
    "duration": 253,
    "start_time": "2021-11-23T12:17:02.891Z"
   },
   {
    "duration": 249,
    "start_time": "2021-11-23T12:20:00.600Z"
   },
   {
    "duration": 288,
    "start_time": "2021-11-23T12:20:13.514Z"
   },
   {
    "duration": 275,
    "start_time": "2021-11-23T12:21:24.928Z"
   },
   {
    "duration": 115,
    "start_time": "2021-11-23T12:22:30.799Z"
   },
   {
    "duration": 233,
    "start_time": "2021-11-23T12:22:36.016Z"
   },
   {
    "duration": 300,
    "start_time": "2021-11-23T12:23:07.060Z"
   },
   {
    "duration": 3,
    "start_time": "2021-11-23T12:24:43.188Z"
   },
   {
    "duration": 131,
    "start_time": "2021-11-23T12:24:43.193Z"
   },
   {
    "duration": 6,
    "start_time": "2021-11-23T12:24:43.326Z"
   },
   {
    "duration": 23,
    "start_time": "2021-11-23T12:24:43.334Z"
   },
   {
    "duration": 5,
    "start_time": "2021-11-23T12:24:43.359Z"
   },
   {
    "duration": 28,
    "start_time": "2021-11-23T12:24:43.366Z"
   },
   {
    "duration": 3,
    "start_time": "2021-11-23T12:24:43.396Z"
   },
   {
    "duration": 26,
    "start_time": "2021-11-23T12:24:43.400Z"
   },
   {
    "duration": 16,
    "start_time": "2021-11-23T12:24:43.428Z"
   },
   {
    "duration": 39,
    "start_time": "2021-11-23T12:24:43.446Z"
   },
   {
    "duration": 57,
    "start_time": "2021-11-23T12:24:43.487Z"
   },
   {
    "duration": 51,
    "start_time": "2021-11-23T12:24:43.546Z"
   },
   {
    "duration": 42,
    "start_time": "2021-11-23T12:24:43.599Z"
   },
   {
    "duration": 6,
    "start_time": "2021-11-23T12:24:43.642Z"
   },
   {
    "duration": 23,
    "start_time": "2021-11-23T12:24:43.650Z"
   },
   {
    "duration": 13,
    "start_time": "2021-11-23T12:24:43.675Z"
   },
   {
    "duration": 10,
    "start_time": "2021-11-23T12:24:43.690Z"
   },
   {
    "duration": 246,
    "start_time": "2021-11-23T12:24:43.701Z"
   },
   {
    "duration": 1,
    "start_time": "2021-11-23T12:24:43.948Z"
   },
   {
    "duration": 0,
    "start_time": "2021-11-23T12:24:43.950Z"
   },
   {
    "duration": -1,
    "start_time": "2021-11-23T12:24:43.952Z"
   },
   {
    "duration": -1,
    "start_time": "2021-11-23T12:24:43.953Z"
   },
   {
    "duration": -2,
    "start_time": "2021-11-23T12:24:43.955Z"
   },
   {
    "duration": -3,
    "start_time": "2021-11-23T12:24:43.956Z"
   },
   {
    "duration": -4,
    "start_time": "2021-11-23T12:24:43.958Z"
   },
   {
    "duration": -4,
    "start_time": "2021-11-23T12:24:43.959Z"
   },
   {
    "duration": -4,
    "start_time": "2021-11-23T12:24:43.960Z"
   },
   {
    "duration": -5,
    "start_time": "2021-11-23T12:24:43.962Z"
   },
   {
    "duration": -5,
    "start_time": "2021-11-23T12:24:43.963Z"
   },
   {
    "duration": -9,
    "start_time": "2021-11-23T12:24:43.968Z"
   },
   {
    "duration": -10,
    "start_time": "2021-11-23T12:24:43.970Z"
   },
   {
    "duration": -10,
    "start_time": "2021-11-23T12:24:43.971Z"
   },
   {
    "duration": -11,
    "start_time": "2021-11-23T12:24:43.973Z"
   },
   {
    "duration": -11,
    "start_time": "2021-11-23T12:24:43.974Z"
   },
   {
    "duration": -11,
    "start_time": "2021-11-23T12:24:43.975Z"
   },
   {
    "duration": -12,
    "start_time": "2021-11-23T12:24:43.976Z"
   },
   {
    "duration": -12,
    "start_time": "2021-11-23T12:24:43.977Z"
   },
   {
    "duration": -12,
    "start_time": "2021-11-23T12:24:43.978Z"
   },
   {
    "duration": 249,
    "start_time": "2021-11-23T12:24:49.798Z"
   },
   {
    "duration": 244,
    "start_time": "2021-11-23T12:25:17.013Z"
   },
   {
    "duration": 10,
    "start_time": "2021-11-23T12:25:42.215Z"
   },
   {
    "duration": 3,
    "start_time": "2021-11-23T12:25:45.490Z"
   },
   {
    "duration": 11,
    "start_time": "2021-11-23T12:26:05.925Z"
   },
   {
    "duration": 3,
    "start_time": "2021-11-23T12:26:10.131Z"
   },
   {
    "duration": 299,
    "start_time": "2021-11-23T12:26:21.667Z"
   },
   {
    "duration": 2,
    "start_time": "2021-11-23T12:26:27.388Z"
   },
   {
    "duration": 136,
    "start_time": "2021-11-23T12:26:27.392Z"
   },
   {
    "duration": 6,
    "start_time": "2021-11-23T12:26:27.529Z"
   },
   {
    "duration": 50,
    "start_time": "2021-11-23T12:26:27.537Z"
   },
   {
    "duration": 11,
    "start_time": "2021-11-23T12:26:27.588Z"
   },
   {
    "duration": 27,
    "start_time": "2021-11-23T12:26:27.600Z"
   },
   {
    "duration": 15,
    "start_time": "2021-11-23T12:26:27.629Z"
   },
   {
    "duration": 38,
    "start_time": "2021-11-23T12:26:27.645Z"
   },
   {
    "duration": 30,
    "start_time": "2021-11-23T12:26:27.686Z"
   },
   {
    "duration": 34,
    "start_time": "2021-11-23T12:26:27.718Z"
   },
   {
    "duration": 56,
    "start_time": "2021-11-23T12:26:27.754Z"
   },
   {
    "duration": 52,
    "start_time": "2021-11-23T12:26:27.812Z"
   },
   {
    "duration": 48,
    "start_time": "2021-11-23T12:26:27.865Z"
   },
   {
    "duration": 6,
    "start_time": "2021-11-23T12:26:27.914Z"
   },
   {
    "duration": 32,
    "start_time": "2021-11-23T12:26:27.922Z"
   },
   {
    "duration": 31,
    "start_time": "2021-11-23T12:26:27.955Z"
   },
   {
    "duration": 36,
    "start_time": "2021-11-23T12:26:27.987Z"
   },
   {
    "duration": 284,
    "start_time": "2021-11-23T12:26:28.025Z"
   },
   {
    "duration": -87,
    "start_time": "2021-11-23T12:26:28.398Z"
   },
   {
    "duration": -88,
    "start_time": "2021-11-23T12:26:28.400Z"
   },
   {
    "duration": -88,
    "start_time": "2021-11-23T12:26:28.401Z"
   },
   {
    "duration": -89,
    "start_time": "2021-11-23T12:26:28.403Z"
   },
   {
    "duration": -89,
    "start_time": "2021-11-23T12:26:28.404Z"
   },
   {
    "duration": -90,
    "start_time": "2021-11-23T12:26:28.406Z"
   },
   {
    "duration": -91,
    "start_time": "2021-11-23T12:26:28.407Z"
   },
   {
    "duration": -92,
    "start_time": "2021-11-23T12:26:28.409Z"
   },
   {
    "duration": -92,
    "start_time": "2021-11-23T12:26:28.410Z"
   },
   {
    "duration": -93,
    "start_time": "2021-11-23T12:26:28.411Z"
   },
   {
    "duration": -93,
    "start_time": "2021-11-23T12:26:28.412Z"
   },
   {
    "duration": -94,
    "start_time": "2021-11-23T12:26:28.414Z"
   },
   {
    "duration": -99,
    "start_time": "2021-11-23T12:26:28.420Z"
   },
   {
    "duration": -100,
    "start_time": "2021-11-23T12:26:28.421Z"
   },
   {
    "duration": -100,
    "start_time": "2021-11-23T12:26:28.422Z"
   },
   {
    "duration": -100,
    "start_time": "2021-11-23T12:26:28.423Z"
   },
   {
    "duration": -100,
    "start_time": "2021-11-23T12:26:28.424Z"
   },
   {
    "duration": -102,
    "start_time": "2021-11-23T12:26:28.426Z"
   },
   {
    "duration": -102,
    "start_time": "2021-11-23T12:26:28.427Z"
   },
   {
    "duration": -102,
    "start_time": "2021-11-23T12:26:28.428Z"
   },
   {
    "duration": 294,
    "start_time": "2021-11-23T12:26:32.166Z"
   },
   {
    "duration": 259,
    "start_time": "2021-11-23T12:27:19.881Z"
   },
   {
    "duration": 228,
    "start_time": "2021-11-23T12:27:24.317Z"
   },
   {
    "duration": 30,
    "start_time": "2021-11-23T12:27:39.532Z"
   },
   {
    "duration": 27,
    "start_time": "2021-11-23T12:28:11.456Z"
   },
   {
    "duration": 3,
    "start_time": "2021-11-23T12:42:43.423Z"
   },
   {
    "duration": 6711,
    "start_time": "2021-11-23T12:45:39.000Z"
   },
   {
    "duration": 6823,
    "start_time": "2021-11-23T12:45:54.242Z"
   },
   {
    "duration": 6277,
    "start_time": "2021-11-23T12:47:27.847Z"
   },
   {
    "duration": 7931,
    "start_time": "2021-11-23T12:47:41.065Z"
   },
   {
    "duration": 7540,
    "start_time": "2021-11-23T12:47:49.397Z"
   },
   {
    "duration": 85,
    "start_time": "2021-11-23T12:51:59.179Z"
   },
   {
    "duration": 3,
    "start_time": "2021-11-23T12:52:06.380Z"
   },
   {
    "duration": 6061,
    "start_time": "2021-11-23T12:52:11.296Z"
   },
   {
    "duration": 9,
    "start_time": "2021-11-23T12:52:29.700Z"
   },
   {
    "duration": 6633,
    "start_time": "2021-11-23T12:53:49.680Z"
   },
   {
    "duration": 6638,
    "start_time": "2021-11-23T12:54:10.962Z"
   },
   {
    "duration": 14,
    "start_time": "2021-11-23T12:54:59.471Z"
   },
   {
    "duration": 3,
    "start_time": "2021-11-23T12:55:02.696Z"
   },
   {
    "duration": 3,
    "start_time": "2021-11-23T12:55:23.665Z"
   },
   {
    "duration": 15,
    "start_time": "2021-11-23T12:55:27.545Z"
   },
   {
    "duration": 14,
    "start_time": "2021-11-23T12:55:35.996Z"
   },
   {
    "duration": 14,
    "start_time": "2021-11-23T12:56:46.876Z"
   },
   {
    "duration": 12,
    "start_time": "2021-11-23T13:01:03.771Z"
   },
   {
    "duration": 15,
    "start_time": "2021-11-23T13:01:17.445Z"
   },
   {
    "duration": 17,
    "start_time": "2021-11-23T13:01:30.428Z"
   },
   {
    "duration": 232,
    "start_time": "2021-11-23T13:11:55.599Z"
   },
   {
    "duration": 228,
    "start_time": "2021-11-23T13:12:07.443Z"
   },
   {
    "duration": 223,
    "start_time": "2021-11-23T13:14:46.262Z"
   },
   {
    "duration": 243,
    "start_time": "2021-11-23T13:16:36.472Z"
   },
   {
    "duration": 8,
    "start_time": "2021-11-23T13:19:23.419Z"
   },
   {
    "duration": 11,
    "start_time": "2021-11-23T13:22:28.762Z"
   },
   {
    "duration": 13,
    "start_time": "2021-11-23T13:22:47.093Z"
   },
   {
    "duration": 14,
    "start_time": "2021-11-23T13:23:10.027Z"
   },
   {
    "duration": 347,
    "start_time": "2021-11-23T13:23:47.715Z"
   },
   {
    "duration": 1262,
    "start_time": "2021-11-24T07:24:21.211Z"
   },
   {
    "duration": 133,
    "start_time": "2021-11-24T07:24:22.475Z"
   },
   {
    "duration": 7,
    "start_time": "2021-11-24T07:24:22.610Z"
   },
   {
    "duration": 38,
    "start_time": "2021-11-24T07:24:22.619Z"
   },
   {
    "duration": 11,
    "start_time": "2021-11-24T07:24:22.659Z"
   },
   {
    "duration": 28,
    "start_time": "2021-11-24T07:24:22.672Z"
   },
   {
    "duration": 15,
    "start_time": "2021-11-24T07:24:22.702Z"
   },
   {
    "duration": 32,
    "start_time": "2021-11-24T07:24:22.719Z"
   },
   {
    "duration": 25,
    "start_time": "2021-11-24T07:24:22.754Z"
   },
   {
    "duration": 27,
    "start_time": "2021-11-24T07:24:22.782Z"
   },
   {
    "duration": 64,
    "start_time": "2021-11-24T07:24:22.811Z"
   },
   {
    "duration": 59,
    "start_time": "2021-11-24T07:24:22.877Z"
   },
   {
    "duration": 52,
    "start_time": "2021-11-24T07:24:22.938Z"
   },
   {
    "duration": 8,
    "start_time": "2021-11-24T07:24:22.992Z"
   },
   {
    "duration": 14,
    "start_time": "2021-11-24T07:24:23.002Z"
   },
   {
    "duration": 31,
    "start_time": "2021-11-24T07:24:23.018Z"
   },
   {
    "duration": 14,
    "start_time": "2021-11-24T07:24:23.051Z"
   },
   {
    "duration": 44,
    "start_time": "2021-11-24T07:24:23.067Z"
   },
   {
    "duration": 28,
    "start_time": "2021-11-24T07:24:23.113Z"
   },
   {
    "duration": 3,
    "start_time": "2021-11-24T07:24:23.145Z"
   },
   {
    "duration": 24,
    "start_time": "2021-11-24T07:24:23.149Z"
   },
   {
    "duration": 27,
    "start_time": "2021-11-24T07:24:23.175Z"
   },
   {
    "duration": 23,
    "start_time": "2021-11-24T07:24:23.204Z"
   },
   {
    "duration": 15,
    "start_time": "2021-11-24T07:24:23.229Z"
   },
   {
    "duration": 16,
    "start_time": "2021-11-24T07:24:23.245Z"
   },
   {
    "duration": 23,
    "start_time": "2021-11-24T07:24:23.263Z"
   },
   {
    "duration": 8,
    "start_time": "2021-11-24T07:24:23.289Z"
   },
   {
    "duration": 423,
    "start_time": "2021-11-24T07:24:44.083Z"
   },
   {
    "duration": 97,
    "start_time": "2021-11-24T07:25:48.182Z"
   },
   {
    "duration": 506,
    "start_time": "2021-11-24T07:25:55.915Z"
   },
   {
    "duration": 363,
    "start_time": "2021-11-24T07:26:09.764Z"
   },
   {
    "duration": 329,
    "start_time": "2021-11-24T07:26:23.116Z"
   },
   {
    "duration": 342,
    "start_time": "2021-11-24T07:26:35.281Z"
   },
   {
    "duration": 321,
    "start_time": "2021-11-24T07:32:11.200Z"
   },
   {
    "duration": 301,
    "start_time": "2021-11-24T07:32:31.517Z"
   },
   {
    "duration": 588,
    "start_time": "2021-11-24T07:33:10.977Z"
   },
   {
    "duration": 130,
    "start_time": "2021-11-24T07:33:11.566Z"
   },
   {
    "duration": 6,
    "start_time": "2021-11-24T07:33:11.698Z"
   },
   {
    "duration": 42,
    "start_time": "2021-11-24T07:33:11.706Z"
   },
   {
    "duration": 17,
    "start_time": "2021-11-24T07:33:11.749Z"
   },
   {
    "duration": 39,
    "start_time": "2021-11-24T07:33:11.767Z"
   },
   {
    "duration": 5,
    "start_time": "2021-11-24T07:33:11.808Z"
   },
   {
    "duration": 54,
    "start_time": "2021-11-24T07:33:11.815Z"
   },
   {
    "duration": 16,
    "start_time": "2021-11-24T07:33:11.871Z"
   },
   {
    "duration": 48,
    "start_time": "2021-11-24T07:33:11.889Z"
   },
   {
    "duration": 66,
    "start_time": "2021-11-24T07:33:11.938Z"
   },
   {
    "duration": 65,
    "start_time": "2021-11-24T07:33:12.006Z"
   },
   {
    "duration": 47,
    "start_time": "2021-11-24T07:33:12.073Z"
   },
   {
    "duration": 7,
    "start_time": "2021-11-24T07:33:12.121Z"
   },
   {
    "duration": 25,
    "start_time": "2021-11-24T07:33:12.129Z"
   },
   {
    "duration": 20,
    "start_time": "2021-11-24T07:33:12.155Z"
   },
   {
    "duration": 13,
    "start_time": "2021-11-24T07:33:12.177Z"
   },
   {
    "duration": 35,
    "start_time": "2021-11-24T07:33:12.192Z"
   },
   {
    "duration": 33,
    "start_time": "2021-11-24T07:33:12.229Z"
   },
   {
    "duration": 2,
    "start_time": "2021-11-24T07:33:12.264Z"
   },
   {
    "duration": 31,
    "start_time": "2021-11-24T07:33:12.268Z"
   },
   {
    "duration": 30,
    "start_time": "2021-11-24T07:33:12.300Z"
   },
   {
    "duration": 20,
    "start_time": "2021-11-24T07:33:12.331Z"
   },
   {
    "duration": 30,
    "start_time": "2021-11-24T07:33:12.353Z"
   },
   {
    "duration": 44,
    "start_time": "2021-11-24T07:33:12.384Z"
   },
   {
    "duration": 20,
    "start_time": "2021-11-24T07:33:12.429Z"
   },
   {
    "duration": 19,
    "start_time": "2021-11-24T07:33:12.452Z"
   },
   {
    "duration": 43,
    "start_time": "2021-11-24T07:33:12.473Z"
   },
   {
    "duration": 26,
    "start_time": "2021-11-24T07:33:12.518Z"
   },
   {
    "duration": 33,
    "start_time": "2021-11-24T07:33:12.545Z"
   },
   {
    "duration": 36,
    "start_time": "2021-11-24T07:33:12.579Z"
   },
   {
    "duration": 14,
    "start_time": "2021-11-24T07:33:12.617Z"
   },
   {
    "duration": 30,
    "start_time": "2021-11-24T07:33:12.633Z"
   },
   {
    "duration": 15,
    "start_time": "2021-11-24T07:33:12.665Z"
   },
   {
    "duration": 21,
    "start_time": "2021-11-24T07:33:12.681Z"
   },
   {
    "duration": 21,
    "start_time": "2021-11-24T07:33:12.703Z"
   },
   {
    "duration": 26,
    "start_time": "2021-11-24T07:33:12.726Z"
   },
   {
    "duration": 26,
    "start_time": "2021-11-24T07:33:12.753Z"
   },
   {
    "duration": 19,
    "start_time": "2021-11-24T07:33:43.039Z"
   },
   {
    "duration": 4,
    "start_time": "2021-11-24T07:49:30.779Z"
   },
   {
    "duration": 4,
    "start_time": "2021-11-24T07:49:39.634Z"
   },
   {
    "duration": 4,
    "start_time": "2021-11-24T07:49:51.115Z"
   },
   {
    "duration": 545,
    "start_time": "2021-11-24T07:50:52.549Z"
   },
   {
    "duration": 4,
    "start_time": "2021-11-24T07:51:13.500Z"
   },
   {
    "duration": 518,
    "start_time": "2021-11-24T07:51:21.549Z"
   },
   {
    "duration": 4,
    "start_time": "2021-11-24T07:53:32.451Z"
   },
   {
    "duration": 562,
    "start_time": "2021-11-24T07:53:44.093Z"
   },
   {
    "duration": 4,
    "start_time": "2021-11-24T07:53:59.265Z"
   },
   {
    "duration": 26,
    "start_time": "2021-11-24T07:54:04.009Z"
   },
   {
    "duration": 17,
    "start_time": "2021-11-24T07:55:11.434Z"
   },
   {
    "duration": 24,
    "start_time": "2021-11-24T08:04:49.508Z"
   },
   {
    "duration": 17,
    "start_time": "2021-11-24T08:04:53.651Z"
   },
   {
    "duration": 23,
    "start_time": "2021-11-24T08:08:43.036Z"
   },
   {
    "duration": 8,
    "start_time": "2021-11-24T08:09:07.990Z"
   },
   {
    "duration": 276,
    "start_time": "2021-11-24T08:10:41.395Z"
   },
   {
    "duration": 22,
    "start_time": "2021-11-24T08:11:35.036Z"
   },
   {
    "duration": 9,
    "start_time": "2021-11-24T08:11:36.728Z"
   },
   {
    "duration": 49,
    "start_time": "2021-11-24T08:17:00.661Z"
   },
   {
    "duration": 5,
    "start_time": "2021-11-24T08:17:03.241Z"
   },
   {
    "duration": 310,
    "start_time": "2021-11-24T08:23:33.698Z"
   },
   {
    "duration": 262,
    "start_time": "2021-11-24T08:23:55.431Z"
   },
   {
    "duration": 396,
    "start_time": "2021-11-24T08:24:17.130Z"
   },
   {
    "duration": 22,
    "start_time": "2021-11-24T08:24:24.147Z"
   },
   {
    "duration": 7,
    "start_time": "2021-11-24T08:24:29.713Z"
   },
   {
    "duration": 287,
    "start_time": "2021-11-24T08:25:09.346Z"
   },
   {
    "duration": 263,
    "start_time": "2021-11-24T08:25:22.641Z"
   },
   {
    "duration": 308,
    "start_time": "2021-11-24T08:25:46.409Z"
   },
   {
    "duration": 272,
    "start_time": "2021-11-24T08:26:00.563Z"
   },
   {
    "duration": 365,
    "start_time": "2021-11-24T08:26:49.855Z"
   },
   {
    "duration": 51,
    "start_time": "2021-11-24T08:27:19.097Z"
   },
   {
    "duration": 5,
    "start_time": "2021-11-24T08:27:23.398Z"
   },
   {
    "duration": 263,
    "start_time": "2021-11-24T08:28:36.829Z"
   },
   {
    "duration": 316,
    "start_time": "2021-11-24T08:28:56.947Z"
   },
   {
    "duration": 347,
    "start_time": "2021-11-24T08:30:07.623Z"
   },
   {
    "duration": 119,
    "start_time": "2021-11-24T08:31:25.212Z"
   },
   {
    "duration": 263,
    "start_time": "2021-11-24T08:31:33.532Z"
   },
   {
    "duration": 84,
    "start_time": "2021-11-24T08:31:37.578Z"
   },
   {
    "duration": 92,
    "start_time": "2021-11-24T08:31:48.512Z"
   },
   {
    "duration": 231,
    "start_time": "2021-11-24T08:37:03.273Z"
   },
   {
    "duration": 2046,
    "start_time": "2021-11-24T08:37:11.645Z"
   },
   {
    "duration": 4,
    "start_time": "2021-11-24T08:37:14.653Z"
   },
   {
    "duration": 25,
    "start_time": "2021-11-24T08:37:34.221Z"
   },
   {
    "duration": 9,
    "start_time": "2021-11-24T08:37:37.870Z"
   },
   {
    "duration": 311,
    "start_time": "2021-11-24T08:38:26.512Z"
   },
   {
    "duration": 259,
    "start_time": "2021-11-24T08:39:35.332Z"
   },
   {
    "duration": 262,
    "start_time": "2021-11-24T08:39:54.172Z"
   },
   {
    "duration": 25,
    "start_time": "2021-11-24T08:40:37.154Z"
   },
   {
    "duration": 12,
    "start_time": "2021-11-24T08:41:16.593Z"
   },
   {
    "duration": 24,
    "start_time": "2021-11-24T08:41:23.796Z"
   },
   {
    "duration": 8,
    "start_time": "2021-11-24T08:41:26.563Z"
   },
   {
    "duration": 22,
    "start_time": "2021-11-24T08:42:17.060Z"
   },
   {
    "duration": 9,
    "start_time": "2021-11-24T08:42:19.130Z"
   },
   {
    "duration": 22,
    "start_time": "2021-11-24T08:42:27.007Z"
   },
   {
    "duration": 8,
    "start_time": "2021-11-24T08:42:28.563Z"
   },
   {
    "duration": 281,
    "start_time": "2021-11-24T08:42:37.429Z"
   },
   {
    "duration": 282,
    "start_time": "2021-11-24T08:42:59.854Z"
   },
   {
    "duration": 111,
    "start_time": "2021-11-24T08:43:15.712Z"
   },
   {
    "duration": 547,
    "start_time": "2021-11-24T08:43:47.638Z"
   },
   {
    "duration": 134,
    "start_time": "2021-11-24T08:45:01.946Z"
   },
   {
    "duration": 82,
    "start_time": "2021-11-24T08:45:58.561Z"
   },
   {
    "duration": 312,
    "start_time": "2021-11-24T08:46:53.505Z"
   },
   {
    "duration": 374,
    "start_time": "2021-11-24T08:47:27.528Z"
   },
   {
    "duration": 401,
    "start_time": "2021-11-24T08:47:50.328Z"
   },
   {
    "duration": 348,
    "start_time": "2021-11-24T08:47:56.411Z"
   },
   {
    "duration": 425,
    "start_time": "2021-11-24T08:48:14.943Z"
   },
   {
    "duration": 10,
    "start_time": "2021-11-24T08:49:39.745Z"
   },
   {
    "duration": 6,
    "start_time": "2021-11-24T08:49:46.226Z"
   },
   {
    "duration": 9,
    "start_time": "2021-11-24T08:50:08.877Z"
   },
   {
    "duration": 6,
    "start_time": "2021-11-24T08:50:12.977Z"
   },
   {
    "duration": 19,
    "start_time": "2021-11-24T08:51:11.179Z"
   },
   {
    "duration": 4,
    "start_time": "2021-11-24T08:51:13.244Z"
   },
   {
    "duration": 17,
    "start_time": "2021-11-24T08:51:14.311Z"
   },
   {
    "duration": 14,
    "start_time": "2021-11-24T08:51:14.762Z"
   },
   {
    "duration": 16,
    "start_time": "2021-11-24T08:51:15.379Z"
   },
   {
    "duration": 14,
    "start_time": "2021-11-24T08:51:15.745Z"
   },
   {
    "duration": 8,
    "start_time": "2021-11-24T08:51:18.445Z"
   },
   {
    "duration": 5,
    "start_time": "2021-11-24T08:51:19.553Z"
   },
   {
    "duration": 6,
    "start_time": "2021-11-24T08:51:20.696Z"
   },
   {
    "duration": 5,
    "start_time": "2021-11-24T08:51:21.910Z"
   },
   {
    "duration": 2,
    "start_time": "2021-11-24T08:52:45.926Z"
   },
   {
    "duration": 150,
    "start_time": "2021-11-24T08:52:45.930Z"
   },
   {
    "duration": 6,
    "start_time": "2021-11-24T08:52:46.082Z"
   },
   {
    "duration": 26,
    "start_time": "2021-11-24T08:52:46.090Z"
   },
   {
    "duration": 3,
    "start_time": "2021-11-24T08:52:46.118Z"
   },
   {
    "duration": 36,
    "start_time": "2021-11-24T08:52:46.123Z"
   },
   {
    "duration": 3,
    "start_time": "2021-11-24T08:52:46.162Z"
   },
   {
    "duration": 24,
    "start_time": "2021-11-24T08:52:46.167Z"
   },
   {
    "duration": 16,
    "start_time": "2021-11-24T08:52:46.193Z"
   },
   {
    "duration": 45,
    "start_time": "2021-11-24T08:52:46.211Z"
   },
   {
    "duration": 54,
    "start_time": "2021-11-24T08:52:46.258Z"
   },
   {
    "duration": 74,
    "start_time": "2021-11-24T08:52:46.314Z"
   },
   {
    "duration": 56,
    "start_time": "2021-11-24T08:52:46.390Z"
   },
   {
    "duration": 7,
    "start_time": "2021-11-24T08:52:46.447Z"
   },
   {
    "duration": 10,
    "start_time": "2021-11-24T08:52:46.456Z"
   },
   {
    "duration": 10,
    "start_time": "2021-11-24T08:52:46.468Z"
   },
   {
    "duration": 6,
    "start_time": "2021-11-24T08:52:46.479Z"
   },
   {
    "duration": 65,
    "start_time": "2021-11-24T08:52:46.486Z"
   },
   {
    "duration": 30,
    "start_time": "2021-11-24T08:52:46.554Z"
   },
   {
    "duration": 3,
    "start_time": "2021-11-24T08:52:46.585Z"
   },
   {
    "duration": 20,
    "start_time": "2021-11-24T08:52:46.590Z"
   },
   {
    "duration": 34,
    "start_time": "2021-11-24T08:52:46.612Z"
   },
   {
    "duration": 14,
    "start_time": "2021-11-24T08:52:46.648Z"
   },
   {
    "duration": 19,
    "start_time": "2021-11-24T08:52:46.663Z"
   },
   {
    "duration": 28,
    "start_time": "2021-11-24T08:52:46.684Z"
   },
   {
    "duration": 15,
    "start_time": "2021-11-24T08:52:46.713Z"
   },
   {
    "duration": 21,
    "start_time": "2021-11-24T08:52:46.729Z"
   },
   {
    "duration": 32,
    "start_time": "2021-11-24T08:52:46.752Z"
   },
   {
    "duration": 26,
    "start_time": "2021-11-24T08:52:46.785Z"
   },
   {
    "duration": 12,
    "start_time": "2021-11-24T08:52:46.813Z"
   },
   {
    "duration": 41,
    "start_time": "2021-11-24T08:52:46.826Z"
   },
   {
    "duration": 28,
    "start_time": "2021-11-24T08:52:46.869Z"
   },
   {
    "duration": 25,
    "start_time": "2021-11-24T08:52:46.899Z"
   },
   {
    "duration": 17,
    "start_time": "2021-11-24T08:52:46.926Z"
   },
   {
    "duration": 20,
    "start_time": "2021-11-24T08:52:46.944Z"
   },
   {
    "duration": 8,
    "start_time": "2021-11-24T08:52:46.965Z"
   },
   {
    "duration": 29,
    "start_time": "2021-11-24T08:52:46.975Z"
   },
   {
    "duration": 11,
    "start_time": "2021-11-24T08:52:47.006Z"
   },
   {
    "duration": 366,
    "start_time": "2021-11-24T11:00:38.802Z"
   },
   {
    "duration": 334,
    "start_time": "2021-11-24T11:00:54.372Z"
   },
   {
    "duration": 815,
    "start_time": "2021-11-24T11:01:00.731Z"
   },
   {
    "duration": 197,
    "start_time": "2021-11-24T11:01:01.549Z"
   },
   {
    "duration": 12,
    "start_time": "2021-11-24T11:01:01.750Z"
   },
   {
    "duration": 55,
    "start_time": "2021-11-24T11:01:01.765Z"
   },
   {
    "duration": 14,
    "start_time": "2021-11-24T11:01:01.822Z"
   },
   {
    "duration": 48,
    "start_time": "2021-11-24T11:01:01.839Z"
   },
   {
    "duration": 5,
    "start_time": "2021-11-24T11:01:01.889Z"
   },
   {
    "duration": 63,
    "start_time": "2021-11-24T11:01:01.897Z"
   },
   {
    "duration": 37,
    "start_time": "2021-11-24T11:01:01.971Z"
   },
   {
    "duration": 51,
    "start_time": "2021-11-24T11:01:02.013Z"
   },
   {
    "duration": 139,
    "start_time": "2021-11-24T11:01:02.083Z"
   },
   {
    "duration": 128,
    "start_time": "2021-11-24T11:01:02.225Z"
   },
   {
    "duration": 98,
    "start_time": "2021-11-24T11:01:02.355Z"
   },
   {
    "duration": 26,
    "start_time": "2021-11-24T11:01:02.456Z"
   },
   {
    "duration": 22,
    "start_time": "2021-11-24T11:01:02.485Z"
   },
   {
    "duration": 21,
    "start_time": "2021-11-24T11:01:02.510Z"
   },
   {
    "duration": 14,
    "start_time": "2021-11-24T11:01:02.534Z"
   },
   {
    "duration": 116,
    "start_time": "2021-11-24T11:01:02.551Z"
   },
   {
    "duration": 56,
    "start_time": "2021-11-24T11:01:02.670Z"
   },
   {
    "duration": 5,
    "start_time": "2021-11-24T11:01:02.729Z"
   },
   {
    "duration": 56,
    "start_time": "2021-11-24T11:01:02.737Z"
   },
   {
    "duration": 20,
    "start_time": "2021-11-24T11:01:02.796Z"
   },
   {
    "duration": 29,
    "start_time": "2021-11-24T11:01:02.819Z"
   },
   {
    "duration": 56,
    "start_time": "2021-11-24T11:01:02.851Z"
   },
   {
    "duration": 32,
    "start_time": "2021-11-24T11:01:02.910Z"
   },
   {
    "duration": 56,
    "start_time": "2021-11-24T11:01:02.945Z"
   },
   {
    "duration": 20,
    "start_time": "2021-11-24T11:01:03.007Z"
   },
   {
    "duration": 65,
    "start_time": "2021-11-24T11:01:03.030Z"
   },
   {
    "duration": 30,
    "start_time": "2021-11-24T11:01:03.097Z"
   },
   {
    "duration": 6,
    "start_time": "2021-11-24T11:01:03.130Z"
   },
   {
    "duration": 62,
    "start_time": "2021-11-24T11:01:03.139Z"
   },
   {
    "duration": 24,
    "start_time": "2021-11-24T11:01:03.205Z"
   },
   {
    "duration": 54,
    "start_time": "2021-11-24T11:01:03.233Z"
   },
   {
    "duration": 23,
    "start_time": "2021-11-24T11:01:03.290Z"
   },
   {
    "duration": 13,
    "start_time": "2021-11-24T11:01:03.316Z"
   },
   {
    "duration": 7,
    "start_time": "2021-11-24T11:01:03.332Z"
   },
   {
    "duration": 10,
    "start_time": "2021-11-24T11:01:03.384Z"
   },
   {
    "duration": 9,
    "start_time": "2021-11-24T11:01:03.397Z"
   },
   {
    "duration": 17,
    "start_time": "2021-11-24T11:05:00.072Z"
   },
   {
    "duration": 16,
    "start_time": "2021-11-24T11:05:33.256Z"
   }
  ],
  "colab": {
   "collapsed_sections": [
    "E0vqbgi9ay0H",
    "VUC88oWjTJw2"
   ],
   "name": "yandex_music_project_2021.2.ipynb",
   "provenance": []
  },
  "kernelspec": {
   "display_name": "Python 3 (ipykernel)",
   "language": "python",
   "name": "python3"
  },
  "language_info": {
   "codemirror_mode": {
    "name": "ipython",
    "version": 3
   },
   "file_extension": ".py",
   "mimetype": "text/x-python",
   "name": "python",
   "nbconvert_exporter": "python",
   "pygments_lexer": "ipython3",
   "version": "3.9.12"
  },
  "toc": {
   "base_numbering": 1,
   "nav_menu": {},
   "number_sections": true,
   "sideBar": true,
   "skip_h1_title": true,
   "title_cell": "Table of Contents",
   "title_sidebar": "Contents",
   "toc_cell": false,
   "toc_position": {
    "height": "calc(100% - 180px)",
    "left": "10px",
    "top": "150px",
    "width": "165px"
   },
   "toc_section_display": true,
   "toc_window_display": true
  }
 },
 "nbformat": 4,
 "nbformat_minor": 1
}
