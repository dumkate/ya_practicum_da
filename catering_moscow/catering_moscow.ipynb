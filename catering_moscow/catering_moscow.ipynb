{
 "cells": [
  {
   "cell_type": "markdown",
   "metadata": {},
   "source": [
    "# Рынок заведений общественного питания Москвы\n",
    "\n",
    "Для инвесторов требуется анализ небольшого кафе в Москве. Оно оригинальное — гостей должны обслуживать роботы. Проект многообещающий, но дорогой. \n"
   ]
  },
  {
   "cell_type": "markdown",
   "metadata": {},
   "source": [
    "## Подготовка данных"
   ]
  },
  {
   "cell_type": "code",
   "execution_count": 1,
   "metadata": {},
   "outputs": [],
   "source": [
    "import pandas as pd\n",
    "import datetime as dt\n",
    "import numpy as np\n",
    "import matplotlib.pyplot as plt\n",
    "import seaborn as sns\n",
    "from pandas.plotting import register_matplotlib_converters\n",
    "import scipy.stats as stats\n",
    "import warnings\n",
    "pd.set_option(\"max_colwidth\", 150)"
   ]
  },
  {
   "cell_type": "code",
   "execution_count": 2,
   "metadata": {},
   "outputs": [],
   "source": [
    "rest_data = pd.read_csv('/datasets/rest_data.csv', sep=',')"
   ]
  },
  {
   "cell_type": "code",
   "execution_count": 3,
   "metadata": {},
   "outputs": [
    {
     "name": "stdout",
     "output_type": "stream",
     "text": [
      "<class 'pandas.core.frame.DataFrame'>\n",
      "RangeIndex: 15366 entries, 0 to 15365\n",
      "Data columns (total 6 columns):\n",
      " #   Column       Non-Null Count  Dtype \n",
      "---  ------       --------------  ----- \n",
      " 0   id           15366 non-null  int64 \n",
      " 1   object_name  15366 non-null  object\n",
      " 2   chain        15366 non-null  object\n",
      " 3   object_type  15366 non-null  object\n",
      " 4   address      15366 non-null  object\n",
      " 5   number       15366 non-null  int64 \n",
      "dtypes: int64(2), object(4)\n",
      "memory usage: 720.4+ KB\n"
     ]
    }
   ],
   "source": [
    "rest_data.info()"
   ]
  },
  {
   "cell_type": "markdown",
   "metadata": {},
   "source": [
    "Пропусков нет. Названия столбцов в порядке. Изменять тип данных нет необходимости."
   ]
  },
  {
   "cell_type": "code",
   "execution_count": 4,
   "metadata": {},
   "outputs": [
    {
     "data": {
      "text/plain": [
       "0"
      ]
     },
     "execution_count": 4,
     "metadata": {},
     "output_type": "execute_result"
    }
   ],
   "source": [
    "rest_data.duplicated().sum()"
   ]
  },
  {
   "cell_type": "code",
   "execution_count": 5,
   "metadata": {},
   "outputs": [
    {
     "data": {
      "text/plain": [
       "array(['кафе', 'столовая', 'закусочная',\n",
       "       'предприятие быстрого обслуживания', 'ресторан', 'кафетерий',\n",
       "       'буфет', 'бар', 'магазин (отдел кулинарии)'], dtype=object)"
      ]
     },
     "execution_count": 5,
     "metadata": {},
     "output_type": "execute_result"
    }
   ],
   "source": [
    "rest_data['object_type'].unique()"
   ]
  },
  {
   "cell_type": "code",
   "execution_count": 6,
   "metadata": {},
   "outputs": [],
   "source": [
    "rest_data['address']=rest_data['address'].str.lower()"
   ]
  },
  {
   "cell_type": "code",
   "execution_count": 7,
   "metadata": {},
   "outputs": [],
   "source": [
    "rest_data['object_name']=rest_data['object_name'].str.lower()"
   ]
  },
  {
   "cell_type": "code",
   "execution_count": 8,
   "metadata": {},
   "outputs": [
    {
     "data": {
      "text/plain": [
       "0"
      ]
     },
     "execution_count": 8,
     "metadata": {},
     "output_type": "execute_result"
    }
   ],
   "source": [
    "rest_data['id'].duplicated().sum()"
   ]
  },
  {
   "cell_type": "code",
   "execution_count": 9,
   "metadata": {},
   "outputs": [
    {
     "data": {
      "text/plain": [
       "array([  48,   35,   95,   40,   50,  240,   10,   90,  150,  120,    5,\n",
       "         24,  140,   32,  270,  320,    7,    2,  160,   20,   30,  110,\n",
       "          6,  192,   65,   45,    4,  125,  100,   49,   63,   70,   22,\n",
       "         56,   38,  220,   78,    3,   80,   46,   15,   96,   60,   47,\n",
       "        180,  250,  200,   25,   12,   14,   16,  420,   98,   75,   34,\n",
       "        216,   43,   54,  580,  159,    0,   28,   64,   67,   42,  124,\n",
       "         82,   36,  114,    8,   71,   18,  158,   55,  196,   44,   76,\n",
       "        144,   41,   26,   68,  143,  198,   79,    1,   86,  148,  190,\n",
       "        202,  131,   52,   92,  300,   85,  102,   88,   84,  246,   81,\n",
       "         94,   23,   37,   39,   99,   61,   11,  130,   74,  128,  106,\n",
       "         58,  260,   27,   19,   29,   13,    9,  168,  350,   93,   33,\n",
       "        105,  239,  104,   17,   62,  230,  132,   87,   89,  170,   83,\n",
       "         21,  108,  210,   51,   53,  115,   66,  280,  126,   97,  356,\n",
       "        156,  428,  380,  138,   72,  118,  139,  236,  450,  194,  330,\n",
       "        225,  500,  112,  109,  146,  306,  272,  290,  176,  175,  252,\n",
       "        122,  400,  542,  424, 1040,  660,  282,  145,  395,  188,  149,\n",
       "        157,  103,   69,  184,  185,  121,  187,  247,  217,  313,  155,\n",
       "        310,  328,  101,  226,  398,  430,  166,  301,  245,  238,  283,\n",
       "        133,  142,   73,   77,  650,   57,   59,  154,  222,  174, 1200,\n",
       "        204,  127,  360,  178,  680,  244,  134,  213,  214,  152,  206,\n",
       "        248,  324,  224,  165,   31,  277,  337,  259,  167,  266,  481,\n",
       "        273,  136,  229,  242,  533,  218,  173,  228,  760,  585,  195,\n",
       "        284,  305,  215,  162,  135,  116,   91,  644,  600,  177,  338,\n",
       "        181,  302,  237,  288,  362,  141,  111,  153,  123,  495,  186,\n",
       "        275,  232,  480,  164,  255,  147,  189,  286,  625,  207,  520,\n",
       "        675,  292,  340,  205,  278,  151,  343, 1500, 1400,  308,  161,\n",
       "        483,  107,  243,  371,  276,  257,  271,  456, 1288,  172,  478,\n",
       "        113,  199,  920,  287,  326,  208,  472,  234,  455,  307, 1700,\n",
       "        490,  491,  700,  295,  268,  212,  119])"
      ]
     },
     "execution_count": 9,
     "metadata": {},
     "output_type": "execute_result"
    }
   ],
   "source": [
    "rest_data['number'].unique()"
   ]
  },
  {
   "cell_type": "code",
   "execution_count": 10,
   "metadata": {},
   "outputs": [
    {
     "data": {
      "text/html": [
       "<div>\n",
       "<style scoped>\n",
       "    .dataframe tbody tr th:only-of-type {\n",
       "        vertical-align: middle;\n",
       "    }\n",
       "\n",
       "    .dataframe tbody tr th {\n",
       "        vertical-align: top;\n",
       "    }\n",
       "\n",
       "    .dataframe thead th {\n",
       "        text-align: right;\n",
       "    }\n",
       "</style>\n",
       "<table border=\"1\" class=\"dataframe\">\n",
       "  <thead>\n",
       "    <tr style=\"text-align: right;\">\n",
       "      <th></th>\n",
       "      <th>id</th>\n",
       "      <th>object_name</th>\n",
       "      <th>chain</th>\n",
       "      <th>object_type</th>\n",
       "      <th>address</th>\n",
       "      <th>number</th>\n",
       "    </tr>\n",
       "  </thead>\n",
       "  <tbody>\n",
       "    <tr>\n",
       "      <th>9317</th>\n",
       "      <td>167227</td>\n",
       "      <td>tokyo-japan</td>\n",
       "      <td>нет</td>\n",
       "      <td>ресторан</td>\n",
       "      <td>город москва, проспект мира, дом 12, строение 1</td>\n",
       "      <td>70</td>\n",
       "    </tr>\n",
       "  </tbody>\n",
       "</table>\n",
       "</div>"
      ],
      "text/plain": [
       "          id  object_name chain object_type  \\\n",
       "9317  167227  tokyo-japan   нет    ресторан   \n",
       "\n",
       "                                              address  number  \n",
       "9317  город москва, проспект мира, дом 12, строение 1      70  "
      ]
     },
     "execution_count": 10,
     "metadata": {},
     "output_type": "execute_result"
    }
   ],
   "source": [
    "rest_data.sample()"
   ]
  },
  {
   "cell_type": "markdown",
   "metadata": {},
   "source": [
    "Явных дубликатов нет. Типы объектов в порядке. В колонке с числом посадочных мест ничего подозрительно не выявлено. Данные колонок приведены к нижнему регистру. Названия объектов нет необходимости приводить к единому стилю и находить разные версии одного и того же. На анализ не повлияет."
   ]
  },
  {
   "cell_type": "markdown",
   "metadata": {},
   "source": [
    "## Анализ данных "
   ]
  },
  {
   "cell_type": "markdown",
   "metadata": {},
   "source": [
    "### График соотношения видов объектов общественного питания по количеству"
   ]
  },
  {
   "cell_type": "code",
   "execution_count": 11,
   "metadata": {},
   "outputs": [
    {
     "data": {
      "image/png": "[encoded data removed]",
      "text/plain": [
       "<Figure size 1008x576 with 1 Axes>"
      ]
     },
     "metadata": {},
     "output_type": "display_data"
    }
   ],
   "source": [
    "# создаем массив, группируя по типу объекта и считая количество объектов \n",
    "types = rest_data.groupby('object_type', as_index=False).agg({'id':'count'}).sort_values(by='id', ascending=True)\n",
    "# добавляем проценты для наглядности\n",
    "types['per'] = (types['id']/types['id'].sum()*100).round(1)\n",
    "plt.style.use('ggplot')\n",
    "types.plot.barh(rot=25, x='object_type', y='per', figsize=(14,8), grid=True, label='Процент заведений', alpha=0.75)\n",
    "plt.title('Соотношение видов объектов общественного питания по количеству')\n",
    "plt.ylabel('Вид объекта')\n",
    "plt.tight_layout()\n",
    "plt.show()\n"
   ]
  },
  {
   "cell_type": "markdown",
   "metadata": {},
   "source": [
    "Подавляющее большинство(около 40%) объектов относятся к типу \"кафе\". На втором месте столовые, далее идут рестораны и предприятия быстрого обслуживания. Меньше всего заведений типа \"магазин(отдел кулинарии\").\n"
   ]
  },
  {
   "cell_type": "markdown",
   "metadata": {},
   "source": [
    "### График соотношения сетевых и несетевых заведений по количеству\n",
    "    "
   ]
  },
  {
   "cell_type": "code",
   "execution_count": 12,
   "metadata": {},
   "outputs": [
    {
     "data": {
      "image/png": "[encoded data removed]",
      "text/plain": [
       "<Figure size 1080x504 with 1 Axes>"
      ]
     },
     "metadata": {},
     "output_type": "display_data"
    }
   ],
   "source": [
    "x=rest_data.groupby(\"chain\")['id'].sum()\n",
    "chains = x.index\n",
    "with plt.style.context('ggplot'):\n",
    "    plt.figure(figsize=(15,7))\n",
    "    plt.pie(x=x, labels=chains, autopct='%1.1f%%')\n",
    "    plt.title('Соотношение сетевых и несетевых заведений по количеству')\n",
    "    plt.show()\n",
    "\n",
    "\n",
    "\n"
   ]
  },
  {
   "cell_type": "markdown",
   "metadata": {},
   "source": [
    "График показал, что 80.9% всех объектов являются несетевыми. "
   ]
  },
  {
   "cell_type": "markdown",
   "metadata": {},
   "source": [
    "### Для какого вида объекта общественного питания характерно сетевое распространение?\n",
    "    "
   ]
  },
  {
   "cell_type": "code",
   "execution_count": 13,
   "metadata": {},
   "outputs": [
    {
     "data": {
      "image/png": "[encoded data removed]",
      "text/plain": [
       "<Figure size 864x576 with 1 Axes>"
      ]
     },
     "metadata": {},
     "output_type": "display_data"
    }
   ],
   "source": [
    "# создаем массив, где отбираем только сетевые заведения \n",
    "chain_yes = rest_data.pivot_table(index= 'object_type', columns = 'chain', values = 'id', aggfunc= 'count')\n",
    "chain_yes['ratio'] = round(\n",
    "    chain_yes ['да'] / (chain_yes ['да'] + chain_yes ['нет']) * 100\n",
    ")\n",
    "\n",
    "plots = chain_yes.plot.bar(y='ratio', figsize=(12,8), grid=True, legend=False, alpha=0.75)\n",
    "plt.xticks(rotation=65, horizontalalignment=\"right\")\n",
    "for bar in plots.patches:\n",
    "    plots.annotate(format(bar.get_height()),\n",
    "                   (bar.get_x() + bar.get_width() / 2,\n",
    "                    bar.get_height()), ha='center', va='center',\n",
    "                   size=12, xytext=(0, 8),\n",
    "                   textcoords='offset points')\n",
    "plt.xlabel('Вид объекта'), plt.ylabel('Число заведений')\n",
    "plt.tight_layout()"
   ]
  },
  {
   "cell_type": "markdown",
   "metadata": {},
   "source": [
    "На первом месте стоит тип \"предприятие быстрого обслуживания\", 41% заведений данного типа сетевые. На втором месте отделы кулинарии(29% - сетевые) и затем идут рестораны(24% из них сетевые). "
   ]
  },
  {
   "cell_type": "markdown",
   "metadata": {},
   "source": [
    "### Что характерно для сетевых заведений: много заведений с небольшим числом посадочных мест в каждом или мало заведений с большим количеством посадочных мест?\n",
    "    "
   ]
  },
  {
   "cell_type": "code",
   "execution_count": 14,
   "metadata": {},
   "outputs": [
    {
     "data": {
      "text/plain": [
       "(Text(0.5, 0, 'Число заведений'),\n",
       " Text(0, 0.5, 'Среднее число посадочных мест'))"
      ]
     },
     "execution_count": 14,
     "metadata": {},
     "output_type": "execute_result"
    },
    {
     "data": {
      "image/png": "[encoded data removed]",
      "text/plain": [
       "<Figure size 720x504 with 1 Axes>"
      ]
     },
     "metadata": {},
     "output_type": "display_data"
    }
   ],
   "source": [
    "chains = rest_data.query('chain == \"да\"')\n",
    "chains = rest_data.groupby('object_name').agg({'id' : 'count', 'number' : 'mean'})\n",
    "chains['rest_num'] = 'Мало заведений'\n",
    "chains.loc[chains['id'] > 5, 'rest_num'] = 'Много заведений'\n",
    "\n",
    "chains['seat_num'] = 'Мало мест'\n",
    "chains.loc[chains['number'] > 20, 'seat_num'] = 'Много мест'\n",
    "\n",
    "chains['Группа'] = chains['rest_num'].astype(str) + ' - ' + chains['seat_num'].astype(str)\n",
    "plt.figure(figsize=(10, 7))\n",
    "sns.scatterplot(palette='hls', data = chains, x = 'id', y = 'number', hue = 'Группа')\n",
    "plt.xlabel('Число заведений'), plt.ylabel('Среднее число посадочных мест')\n",
    "\n"
   ]
  },
  {
   "cell_type": "code",
   "execution_count": 15,
   "metadata": {},
   "outputs": [
    {
     "data": {
      "text/html": [
       "<div>\n",
       "<style scoped>\n",
       "    .dataframe tbody tr th:only-of-type {\n",
       "        vertical-align: middle;\n",
       "    }\n",
       "\n",
       "    .dataframe tbody tr th {\n",
       "        vertical-align: top;\n",
       "    }\n",
       "\n",
       "    .dataframe thead th {\n",
       "        text-align: right;\n",
       "    }\n",
       "</style>\n",
       "<table border=\"1\" class=\"dataframe\">\n",
       "  <thead>\n",
       "    <tr style=\"text-align: right;\">\n",
       "      <th></th>\n",
       "      <th>Число сетей</th>\n",
       "      <th>Медианное число заведений</th>\n",
       "      <th>Медианное число посадочных мест</th>\n",
       "    </tr>\n",
       "    <tr>\n",
       "      <th>Группа</th>\n",
       "      <th></th>\n",
       "      <th></th>\n",
       "      <th></th>\n",
       "    </tr>\n",
       "  </thead>\n",
       "  <tbody>\n",
       "    <tr>\n",
       "      <th>Мало заведений - Мало мест</th>\n",
       "      <td>2821</td>\n",
       "      <td>1.0</td>\n",
       "      <td>10.000000</td>\n",
       "    </tr>\n",
       "    <tr>\n",
       "      <th>Мало заведений - Много мест</th>\n",
       "      <td>6925</td>\n",
       "      <td>1.0</td>\n",
       "      <td>60.000000</td>\n",
       "    </tr>\n",
       "    <tr>\n",
       "      <th>Много заведений - Мало мест</th>\n",
       "      <td>72</td>\n",
       "      <td>9.5</td>\n",
       "      <td>6.782738</td>\n",
       "    </tr>\n",
       "    <tr>\n",
       "      <th>Много заведений - Много мест</th>\n",
       "      <td>106</td>\n",
       "      <td>10.0</td>\n",
       "      <td>56.896624</td>\n",
       "    </tr>\n",
       "  </tbody>\n",
       "</table>\n",
       "</div>"
      ],
      "text/plain": [
       "                              Число сетей  Медианное число заведений  \\\n",
       "Группа                                                                 \n",
       "Мало заведений - Мало мест           2821                        1.0   \n",
       "Мало заведений - Много мест          6925                        1.0   \n",
       "Много заведений - Мало мест            72                        9.5   \n",
       "Много заведений - Много мест          106                       10.0   \n",
       "\n",
       "                              Медианное число посадочных мест  \n",
       "Группа                                                         \n",
       "Мало заведений - Мало мест                          10.000000  \n",
       "Мало заведений - Много мест                         60.000000  \n",
       "Много заведений - Мало мест                          6.782738  \n",
       "Много заведений - Много мест                        56.896624  "
      ]
     },
     "execution_count": 15,
     "metadata": {},
     "output_type": "execute_result"
    }
   ],
   "source": [
    "chains.reset_index().groupby('Группа').agg({'object_name': 'nunique', 'id' : 'median', 'number' : 'median'})\\\n",
    "                                      .rename(columns = {'object_name': 'Число сетей', 'id' : 'Медианное число заведений', 'number' : 'Медианное число посадочных мест'})  \n"
   ]
  },
  {
   "cell_type": "markdown",
   "metadata": {},
   "source": [
    "Для сетевых заведений характерно мало зведений с большим количеством мест. "
   ]
  },
  {
   "cell_type": "markdown",
   "metadata": {},
   "source": [
    "### График видов объектов общественного питания и среднего количество посадочных мест. Какой вид предоставляет в среднем самое большое количество посадочных мест\n",
    "    "
   ]
  },
  {
   "cell_type": "code",
   "execution_count": 16,
   "metadata": {},
   "outputs": [
    {
     "data": {
      "image/png": "[encoded data removed]",
      "text/plain": [
       "<Figure size 864x576 with 1 Axes>"
      ]
     },
     "metadata": {},
     "output_type": "display_data"
    }
   ],
   "source": [
    "number_yes = rest_data.groupby('object_type', as_index=False).agg({'id':'count', 'number' : 'median'}).sort_values(by='number', ascending=False)\n",
    "\n",
    "plots = number_yes.plot.bar(x='object_type', y='number', figsize=(12,8), grid=True, legend=False, alpha=0.75)\n",
    "plt.xticks(rotation=65, horizontalalignment=\"right\")\n",
    "for bar in plots.patches:\n",
    "    plots.annotate(format(bar.get_height()),\n",
    "                   (bar.get_x() + bar.get_width() / 2,\n",
    "                    bar.get_height()), ha='center', va='center',\n",
    "                   size=12, xytext=(0, 8),\n",
    "                   textcoords='offset points')\n",
    "plt.xlabel('Вид объекта'), plt.ylabel('Среднее количество посадочных мест')\n",
    "plt.tight_layout()"
   ]
  },
  {
   "cell_type": "markdown",
   "metadata": {},
   "source": [
    "Самое большое среднее количество посадочных мест в столовых. Также большое количество посадочных мест наблюдается в ресторанах. По нулям в закусочных и отделах кулинарии."
   ]
  },
  {
   "cell_type": "markdown",
   "metadata": {},
   "source": [
    "Для дальнейшего анализа выделим в отдельный столбец информацию об улице из столбца address.\n",
    "   "
   ]
  },
  {
   "cell_type": "code",
   "execution_count": 17,
   "metadata": {},
   "outputs": [
    {
     "data": {
      "text/html": [
       "<div>\n",
       "<style scoped>\n",
       "    .dataframe tbody tr th:only-of-type {\n",
       "        vertical-align: middle;\n",
       "    }\n",
       "\n",
       "    .dataframe tbody tr th {\n",
       "        vertical-align: top;\n",
       "    }\n",
       "\n",
       "    .dataframe thead th {\n",
       "        text-align: right;\n",
       "    }\n",
       "</style>\n",
       "<table border=\"1\" class=\"dataframe\">\n",
       "  <thead>\n",
       "    <tr style=\"text-align: right;\">\n",
       "      <th></th>\n",
       "      <th>id</th>\n",
       "      <th>object_name</th>\n",
       "      <th>chain</th>\n",
       "      <th>object_type</th>\n",
       "      <th>address</th>\n",
       "      <th>number</th>\n",
       "      <th>street</th>\n",
       "    </tr>\n",
       "  </thead>\n",
       "  <tbody>\n",
       "    <tr>\n",
       "      <th>0</th>\n",
       "      <td>151635</td>\n",
       "      <td>сметана</td>\n",
       "      <td>нет</td>\n",
       "      <td>кафе</td>\n",
       "      <td>город москва, улица егора абакумова, дом 9</td>\n",
       "      <td>48</td>\n",
       "      <td>улица егора абакумова</td>\n",
       "    </tr>\n",
       "    <tr>\n",
       "      <th>1</th>\n",
       "      <td>77874</td>\n",
       "      <td>родник</td>\n",
       "      <td>нет</td>\n",
       "      <td>кафе</td>\n",
       "      <td>город москва, улица талалихина, дом 2/1, корпус 1</td>\n",
       "      <td>35</td>\n",
       "      <td>улица талалихина</td>\n",
       "    </tr>\n",
       "    <tr>\n",
       "      <th>2</th>\n",
       "      <td>24309</td>\n",
       "      <td>кафе «академия»</td>\n",
       "      <td>нет</td>\n",
       "      <td>кафе</td>\n",
       "      <td>город москва, абельмановская улица, дом 6</td>\n",
       "      <td>95</td>\n",
       "      <td>абельмановская улица</td>\n",
       "    </tr>\n",
       "    <tr>\n",
       "      <th>3</th>\n",
       "      <td>21894</td>\n",
       "      <td>пиццетория</td>\n",
       "      <td>да</td>\n",
       "      <td>кафе</td>\n",
       "      <td>город москва, абрамцевская улица, дом 1</td>\n",
       "      <td>40</td>\n",
       "      <td>абрамцевская улица</td>\n",
       "    </tr>\n",
       "    <tr>\n",
       "      <th>4</th>\n",
       "      <td>119365</td>\n",
       "      <td>кафе «вишневая метель»</td>\n",
       "      <td>нет</td>\n",
       "      <td>кафе</td>\n",
       "      <td>город москва, абрамцевская улица, дом 9, корпус 1</td>\n",
       "      <td>50</td>\n",
       "      <td>абрамцевская улица</td>\n",
       "    </tr>\n",
       "  </tbody>\n",
       "</table>\n",
       "</div>"
      ],
      "text/plain": [
       "       id             object_name chain object_type  \\\n",
       "0  151635                 сметана   нет        кафе   \n",
       "1   77874                  родник   нет        кафе   \n",
       "2   24309         кафе «академия»   нет        кафе   \n",
       "3   21894              пиццетория    да        кафе   \n",
       "4  119365  кафе «вишневая метель»   нет        кафе   \n",
       "\n",
       "                                             address  number  \\\n",
       "0         город москва, улица егора абакумова, дом 9      48   \n",
       "1  город москва, улица талалихина, дом 2/1, корпус 1      35   \n",
       "2          город москва, абельмановская улица, дом 6      95   \n",
       "3            город москва, абрамцевская улица, дом 1      40   \n",
       "4  город москва, абрамцевская улица, дом 9, корпус 1      50   \n",
       "\n",
       "                  street  \n",
       "0  улица егора абакумова  \n",
       "1       улица талалихина  \n",
       "2   абельмановская улица  \n",
       "3     абрамцевская улица  \n",
       "4     абрамцевская улица  "
      ]
     },
     "execution_count": 17,
     "metadata": {},
     "output_type": "execute_result"
    }
   ],
   "source": [
    "rest_data['street'] = rest_data['address'].apply(lambda x: x.split(', ')[1])\n",
    "rest_data['street']  = rest_data['street'].str.strip()\n",
    "rest_data.head(5)\n"
   ]
  },
  {
   "cell_type": "markdown",
   "metadata": {},
   "source": [
    "### График топ-10 улиц по количеству объектов общественного питания. Воспользуйтесь внешней информацией и ответьте на вопрос — в каких районах Москвы находятся эти улицы?\n",
    "   "
   ]
  },
  {
   "cell_type": "code",
   "execution_count": 18,
   "metadata": {},
   "outputs": [
    {
     "data": {
      "text/html": [
       "<div>\n",
       "<style scoped>\n",
       "    .dataframe tbody tr th:only-of-type {\n",
       "        vertical-align: middle;\n",
       "    }\n",
       "\n",
       "    .dataframe tbody tr th {\n",
       "        vertical-align: top;\n",
       "    }\n",
       "\n",
       "    .dataframe thead th {\n",
       "        text-align: right;\n",
       "    }\n",
       "</style>\n",
       "<table border=\"1\" class=\"dataframe\">\n",
       "  <thead>\n",
       "    <tr style=\"text-align: right;\">\n",
       "      <th></th>\n",
       "      <th>id</th>\n",
       "    </tr>\n",
       "    <tr>\n",
       "      <th>street</th>\n",
       "      <th></th>\n",
       "    </tr>\n",
       "  </thead>\n",
       "  <tbody>\n",
       "    <tr>\n",
       "      <th>город зеленоград</th>\n",
       "      <td>232</td>\n",
       "    </tr>\n",
       "    <tr>\n",
       "      <th>проспект мира</th>\n",
       "      <td>204</td>\n",
       "    </tr>\n",
       "    <tr>\n",
       "      <th>профсоюзная улица</th>\n",
       "      <td>182</td>\n",
       "    </tr>\n",
       "    <tr>\n",
       "      <th>ленинградский проспект</th>\n",
       "      <td>171</td>\n",
       "    </tr>\n",
       "    <tr>\n",
       "      <th>пресненская набережная</th>\n",
       "      <td>167</td>\n",
       "    </tr>\n",
       "    <tr>\n",
       "      <th>варшавское шоссе</th>\n",
       "      <td>161</td>\n",
       "    </tr>\n",
       "    <tr>\n",
       "      <th>ленинский проспект</th>\n",
       "      <td>147</td>\n",
       "    </tr>\n",
       "    <tr>\n",
       "      <th>поселение сосенское</th>\n",
       "      <td>138</td>\n",
       "    </tr>\n",
       "    <tr>\n",
       "      <th>проспект вернадского</th>\n",
       "      <td>132</td>\n",
       "    </tr>\n",
       "    <tr>\n",
       "      <th>кутузовский проспект</th>\n",
       "      <td>114</td>\n",
       "    </tr>\n",
       "  </tbody>\n",
       "</table>\n",
       "</div>"
      ],
      "text/plain": [
       "                         id\n",
       "street                     \n",
       "город зеленоград        232\n",
       "проспект мира           204\n",
       "профсоюзная улица       182\n",
       "ленинградский проспект  171\n",
       "пресненская набережная  167\n",
       "варшавское шоссе        161\n",
       "ленинский проспект      147\n",
       "поселение сосенское     138\n",
       "проспект вернадского    132\n",
       "кутузовский проспект    114"
      ]
     },
     "execution_count": 18,
     "metadata": {},
     "output_type": "execute_result"
    }
   ],
   "source": [
    "top_10 = rest_data.groupby('street').agg({'id' : 'count'}).sort_values(by='id', ascending=False)\n",
    "top_10 = top_10.head(10)\n",
    "top_10"
   ]
  },
  {
   "cell_type": "code",
   "execution_count": 19,
   "metadata": {},
   "outputs": [
    {
     "data": {
      "image/png": "[encoded data removed]",
      "text/plain": [
       "<Figure size 792x504 with 1 Axes>"
      ]
     },
     "metadata": {},
     "output_type": "display_data"
    }
   ],
   "source": [
    "top_10.plot.bar(legend=False, alpha=0.75, figsize=(11,7))\n",
    "plt.xticks(rotation=65, horizontalalignment=\"right\")\n",
    "xlabel='street'\n",
    "plt.xlabel('Местонахождение'), plt.ylabel('Число заведений')\n",
    "plt.tight_layout()"
   ]
  },
  {
   "cell_type": "markdown",
   "metadata": {},
   "source": [
    "Выигрывает Зеленоград, однако у Зеленограда статус административного округа. Что несет в себе отдельные причины. На втором месте проспект Мира, далее Профсоюзная улица."
   ]
  },
  {
   "cell_type": "code",
   "execution_count": 20,
   "metadata": {},
   "outputs": [
    {
     "data": {
      "text/html": [
       "<div>\n",
       "<style scoped>\n",
       "    .dataframe tbody tr th:only-of-type {\n",
       "        vertical-align: middle;\n",
       "    }\n",
       "\n",
       "    .dataframe tbody tr th {\n",
       "        vertical-align: top;\n",
       "    }\n",
       "\n",
       "    .dataframe thead th {\n",
       "        text-align: right;\n",
       "    }\n",
       "</style>\n",
       "<table border=\"1\" class=\"dataframe\">\n",
       "  <thead>\n",
       "    <tr style=\"text-align: right;\">\n",
       "      <th></th>\n",
       "      <th>streetname</th>\n",
       "      <th>areaid</th>\n",
       "      <th>okrug</th>\n",
       "      <th>area</th>\n",
       "    </tr>\n",
       "  </thead>\n",
       "  <tbody>\n",
       "    <tr>\n",
       "      <th>0</th>\n",
       "      <td>выставочный переулок</td>\n",
       "      <td>17</td>\n",
       "      <td>ЦАО</td>\n",
       "      <td>Пресненский район</td>\n",
       "    </tr>\n",
       "    <tr>\n",
       "      <th>1</th>\n",
       "      <td>улица гашека</td>\n",
       "      <td>17</td>\n",
       "      <td>ЦАО</td>\n",
       "      <td>Пресненский район</td>\n",
       "    </tr>\n",
       "    <tr>\n",
       "      <th>2</th>\n",
       "      <td>большая никитская улица</td>\n",
       "      <td>17</td>\n",
       "      <td>ЦАО</td>\n",
       "      <td>Пресненский район</td>\n",
       "    </tr>\n",
       "    <tr>\n",
       "      <th>3</th>\n",
       "      <td>глубокий переулок</td>\n",
       "      <td>17</td>\n",
       "      <td>ЦАО</td>\n",
       "      <td>Пресненский район</td>\n",
       "    </tr>\n",
       "    <tr>\n",
       "      <th>4</th>\n",
       "      <td>большой гнездниковский переулок</td>\n",
       "      <td>17</td>\n",
       "      <td>ЦАО</td>\n",
       "      <td>Пресненский район</td>\n",
       "    </tr>\n",
       "    <tr>\n",
       "      <th>...</th>\n",
       "      <td>...</td>\n",
       "      <td>...</td>\n",
       "      <td>...</td>\n",
       "      <td>...</td>\n",
       "    </tr>\n",
       "    <tr>\n",
       "      <th>4393</th>\n",
       "      <td>вознесенский проезд</td>\n",
       "      <td>17</td>\n",
       "      <td>ЦАО</td>\n",
       "      <td>Пресненский район</td>\n",
       "    </tr>\n",
       "    <tr>\n",
       "      <th>4394</th>\n",
       "      <td>волков переулок</td>\n",
       "      <td>17</td>\n",
       "      <td>ЦАО</td>\n",
       "      <td>Пресненский район</td>\n",
       "    </tr>\n",
       "    <tr>\n",
       "      <th>4395</th>\n",
       "      <td>поварская улица</td>\n",
       "      <td>17</td>\n",
       "      <td>ЦАО</td>\n",
       "      <td>Пресненский район</td>\n",
       "    </tr>\n",
       "    <tr>\n",
       "      <th>4396</th>\n",
       "      <td>кудринская площадь</td>\n",
       "      <td>17</td>\n",
       "      <td>ЦАО</td>\n",
       "      <td>Пресненский район</td>\n",
       "    </tr>\n",
       "    <tr>\n",
       "      <th>4397</th>\n",
       "      <td>вспольный переулок</td>\n",
       "      <td>17</td>\n",
       "      <td>ЦАО</td>\n",
       "      <td>Пресненский район</td>\n",
       "    </tr>\n",
       "  </tbody>\n",
       "</table>\n",
       "<p>4398 rows × 4 columns</p>\n",
       "</div>"
      ],
      "text/plain": [
       "                           streetname  areaid okrug               area\n",
       "0                выставочный переулок      17   ЦАО  Пресненский район\n",
       "1                        улица гашека      17   ЦАО  Пресненский район\n",
       "2             большая никитская улица      17   ЦАО  Пресненский район\n",
       "3                   глубокий переулок      17   ЦАО  Пресненский район\n",
       "4     большой гнездниковский переулок      17   ЦАО  Пресненский район\n",
       "...                               ...     ...   ...                ...\n",
       "4393              вознесенский проезд      17   ЦАО  Пресненский район\n",
       "4394                  волков переулок      17   ЦАО  Пресненский район\n",
       "4395                  поварская улица      17   ЦАО  Пресненский район\n",
       "4396               кудринская площадь      17   ЦАО  Пресненский район\n",
       "4397               вспольный переулок      17   ЦАО  Пресненский район\n",
       "\n",
       "[4398 rows x 4 columns]"
      ]
     },
     "execution_count": 20,
     "metadata": {},
     "output_type": "execute_result"
    }
   ],
   "source": [
    "from io import BytesIO\n",
    "import requests\n",
    "spreadsheet_id = '1CPDYDGjKCb6jGoQt9KR5WOvTspK-dHS3NUrVeqsyqJs'\n",
    "file_name = 'https://docs.google.com/spreadsheets/d/{}/export?format=csv'.format(spreadsheet_id)\n",
    "r = requests.get(file_name)\n",
    "df = pd.read_csv(BytesIO(r.content))\n",
    "df['streetname'] = df['streetname'].str.lower()\n",
    "df"
   ]
  },
  {
   "cell_type": "code",
   "execution_count": 21,
   "metadata": {},
   "outputs": [
    {
     "data": {
      "text/html": [
       "<div>\n",
       "<style scoped>\n",
       "    .dataframe tbody tr th:only-of-type {\n",
       "        vertical-align: middle;\n",
       "    }\n",
       "\n",
       "    .dataframe tbody tr th {\n",
       "        vertical-align: top;\n",
       "    }\n",
       "\n",
       "    .dataframe thead th {\n",
       "        text-align: right;\n",
       "    }\n",
       "</style>\n",
       "<table border=\"1\" class=\"dataframe\">\n",
       "  <thead>\n",
       "    <tr style=\"text-align: right;\">\n",
       "      <th></th>\n",
       "      <th>streetname</th>\n",
       "    </tr>\n",
       "    <tr>\n",
       "      <th>area</th>\n",
       "      <th></th>\n",
       "    </tr>\n",
       "  </thead>\n",
       "  <tbody>\n",
       "    <tr>\n",
       "      <th>Район Гагаринский</th>\n",
       "      <td>2</td>\n",
       "    </tr>\n",
       "    <tr>\n",
       "      <th>Донской район</th>\n",
       "      <td>2</td>\n",
       "    </tr>\n",
       "    <tr>\n",
       "      <th>Ломоносовский район</th>\n",
       "      <td>2</td>\n",
       "    </tr>\n",
       "    <tr>\n",
       "      <th>Район Проспект Вернадского</th>\n",
       "      <td>2</td>\n",
       "    </tr>\n",
       "    <tr>\n",
       "      <th>Обручевский район</th>\n",
       "      <td>2</td>\n",
       "    </tr>\n",
       "    <tr>\n",
       "      <th>Район Теплый Стан</th>\n",
       "      <td>2</td>\n",
       "    </tr>\n",
       "    <tr>\n",
       "      <th>Район Тропарево-Никулино</th>\n",
       "      <td>2</td>\n",
       "    </tr>\n",
       "    <tr>\n",
       "      <th>Академический район</th>\n",
       "      <td>1</td>\n",
       "    </tr>\n",
       "    <tr>\n",
       "      <th>Район Северное Бутово</th>\n",
       "      <td>1</td>\n",
       "    </tr>\n",
       "    <tr>\n",
       "      <th>Район Сокол</th>\n",
       "      <td>1</td>\n",
       "    </tr>\n",
       "    <tr>\n",
       "      <th>Район Фили-Давыдково</th>\n",
       "      <td>1</td>\n",
       "    </tr>\n",
       "    <tr>\n",
       "      <th>Район Черемушки</th>\n",
       "      <td>1</td>\n",
       "    </tr>\n",
       "    <tr>\n",
       "      <th>Район Чертаново Центральное</th>\n",
       "      <td>1</td>\n",
       "    </tr>\n",
       "    <tr>\n",
       "      <th>Район Чертаново Северное</th>\n",
       "      <td>1</td>\n",
       "    </tr>\n",
       "    <tr>\n",
       "      <th>Район Ростокино</th>\n",
       "      <td>1</td>\n",
       "    </tr>\n",
       "    <tr>\n",
       "      <th>Район Чертаново Южное</th>\n",
       "      <td>1</td>\n",
       "    </tr>\n",
       "    <tr>\n",
       "      <th>Район Южное Бутово</th>\n",
       "      <td>1</td>\n",
       "    </tr>\n",
       "    <tr>\n",
       "      <th>Район Якиманка</th>\n",
       "      <td>1</td>\n",
       "    </tr>\n",
       "    <tr>\n",
       "      <th>Район Ясенево</th>\n",
       "      <td>1</td>\n",
       "    </tr>\n",
       "    <tr>\n",
       "      <th>Хорошевский район</th>\n",
       "      <td>1</td>\n",
       "    </tr>\n",
       "    <tr>\n",
       "      <th>Район Свиблово</th>\n",
       "      <td>1</td>\n",
       "    </tr>\n",
       "    <tr>\n",
       "      <th>Район Нагатино-Садовники</th>\n",
       "      <td>1</td>\n",
       "    </tr>\n",
       "    <tr>\n",
       "      <th>Район Раменки</th>\n",
       "      <td>1</td>\n",
       "    </tr>\n",
       "    <tr>\n",
       "      <th>Алексеевский район</th>\n",
       "      <td>1</td>\n",
       "    </tr>\n",
       "    <tr>\n",
       "      <th>Район Матушкино-Савелки</th>\n",
       "      <td>1</td>\n",
       "    </tr>\n",
       "    <tr>\n",
       "      <th>Район Марьина роща</th>\n",
       "      <td>1</td>\n",
       "    </tr>\n",
       "    <tr>\n",
       "      <th>Район Крюково</th>\n",
       "      <td>1</td>\n",
       "    </tr>\n",
       "    <tr>\n",
       "      <th>Район Коньково</th>\n",
       "      <td>1</td>\n",
       "    </tr>\n",
       "    <tr>\n",
       "      <th>Район Дорогомилово</th>\n",
       "      <td>1</td>\n",
       "    </tr>\n",
       "    <tr>\n",
       "      <th>Район Беговой</th>\n",
       "      <td>1</td>\n",
       "    </tr>\n",
       "    <tr>\n",
       "      <th>Район Аэропорт</th>\n",
       "      <td>1</td>\n",
       "    </tr>\n",
       "    <tr>\n",
       "      <th>Пресненский район</th>\n",
       "      <td>1</td>\n",
       "    </tr>\n",
       "    <tr>\n",
       "      <th>Панфиловский район</th>\n",
       "      <td>1</td>\n",
       "    </tr>\n",
       "    <tr>\n",
       "      <th>Останкинский район</th>\n",
       "      <td>1</td>\n",
       "    </tr>\n",
       "    <tr>\n",
       "      <th>Нагорный район</th>\n",
       "      <td>1</td>\n",
       "    </tr>\n",
       "    <tr>\n",
       "      <th>Мещанский район</th>\n",
       "      <td>1</td>\n",
       "    </tr>\n",
       "    <tr>\n",
       "      <th>Ярославский Район</th>\n",
       "      <td>1</td>\n",
       "    </tr>\n",
       "  </tbody>\n",
       "</table>\n",
       "</div>"
      ],
      "text/plain": [
       "                             streetname\n",
       "area                                   \n",
       "Район Гагаринский                     2\n",
       "Донской район                         2\n",
       "Ломоносовский район                   2\n",
       "Район Проспект Вернадского            2\n",
       "Обручевский район                     2\n",
       "Район Теплый Стан                     2\n",
       "Район Тропарево-Никулино              2\n",
       "Академический район                   1\n",
       "Район Северное Бутово                 1\n",
       "Район Сокол                           1\n",
       "Район Фили-Давыдково                  1\n",
       "Район Черемушки                       1\n",
       "Район Чертаново Центральное           1\n",
       "Район Чертаново Северное              1\n",
       "Район Ростокино                       1\n",
       "Район Чертаново Южное                 1\n",
       "Район Южное Бутово                    1\n",
       "Район Якиманка                        1\n",
       "Район Ясенево                         1\n",
       "Хорошевский район                     1\n",
       "Район Свиблово                        1\n",
       "Район Нагатино-Садовники              1\n",
       "Район Раменки                         1\n",
       "Алексеевский район                    1\n",
       "Район Матушкино-Савелки               1\n",
       "Район Марьина роща                    1\n",
       "Район Крюково                         1\n",
       "Район Коньково                        1\n",
       "Район Дорогомилово                    1\n",
       "Район Беговой                         1\n",
       "Район Аэропорт                        1\n",
       "Пресненский район                     1\n",
       "Панфиловский район                    1\n",
       "Останкинский район                    1\n",
       "Нагорный район                        1\n",
       "Мещанский район                       1\n",
       "Ярославский Район                     1"
      ]
     },
     "execution_count": 21,
     "metadata": {},
     "output_type": "execute_result"
    }
   ],
   "source": [
    "streets_area = top_10.merge(df[['streetname', 'area']], left_on='street', right_on='streetname')\n",
    "\n",
    "streets_area = streets_area.groupby('area').agg({'streetname' : 'nunique'}).sort_values(by='streetname', ascending=False)\n",
    "streets_area"
   ]
  },
  {
   "cell_type": "markdown",
   "metadata": {},
   "source": [
    "Мы получили список районов, в которых располагаются вышеуказанные улицы. Большинство улиц пролегают сквозь несколько районов. "
   ]
  },
  {
   "cell_type": "markdown",
   "metadata": {},
   "source": [
    "### Найдите число улиц с одним объектом общественного питания. Воспользуйтесь внешней информацией и ответьте на вопрос — в каких районах Москвы находятся эти улицы?"
   ]
  },
  {
   "cell_type": "code",
   "execution_count": 22,
   "metadata": {},
   "outputs": [
    {
     "name": "stdout",
     "output_type": "stream",
     "text": [
      "Число улиц с одним объектом общественного питания: 579\n"
     ]
    }
   ],
   "source": [
    "one_object = rest_data.groupby('street').agg({'id' : 'count'})\n",
    "one_object = one_object.query('id == 1')\n",
    "print('Число улиц с одним объектом общественного питания:', len(one_object))"
   ]
  },
  {
   "cell_type": "code",
   "execution_count": 23,
   "metadata": {},
   "outputs": [
    {
     "data": {
      "image/png": "[encoded data removed]",
      "text/plain": [
       "<Figure size 792x504 with 1 Axes>"
      ]
     },
     "metadata": {},
     "output_type": "display_data"
    }
   ],
   "source": [
    "one_object_area = one_object.merge(df[['streetname', 'area']], left_on='street', right_on='streetname')\n",
    "one_object_area = one_object_area.groupby('area').agg({'streetname' : 'count'}).sort_values(by='streetname', ascending=False).head(10)\n",
    "one_object_area.plot.bar(legend=False, alpha=0.75, figsize=(11,7))\n",
    "plt.xticks(rotation=65, horizontalalignment=\"right\")\n",
    "plt.xlabel('Район')\n",
    "plt.title('Топ районов с одним объектом')\n",
    "plt.tight_layout()"
   ]
  },
  {
   "cell_type": "markdown",
   "metadata": {},
   "source": [
    "Из графика видим, что в тройку лидеров районов со одним объектом входят Таганский район, Хамовники и Басманный район."
   ]
  },
  {
   "cell_type": "markdown",
   "metadata": {},
   "source": [
    "### График распределения количества посадочных мест для улиц с большим количеством объектов общественного питания "
   ]
  },
  {
   "cell_type": "code",
   "execution_count": 24,
   "metadata": {},
   "outputs": [
    {
     "name": "stdout",
     "output_type": "stream",
     "text": [
      "Медианное количество посадочных мест на топовых улицах: 38.0\n",
      "Медианное количество посадочных мест всех заведений: 40.0\n"
     ]
    },
    {
     "data": {
      "image/png": "[encoded data removed]",
      "text/plain": [
       "<Figure size 864x648 with 1 Axes>"
      ]
     },
     "metadata": {},
     "output_type": "display_data"
    }
   ],
   "source": [
    "top_num = pd.merge(top_10, rest_data, on=\"street\", how=\"left\")\n",
    "plt.figure(figsize=(12, 9))\n",
    "plt.title(\"График распределения количества посадочных мест\")\n",
    "sns.boxplot(x='number', y='street', data=top_num, palette=\"Set2\") \n",
    "plt.xlim([0, 500])\n",
    "plt.ylabel('Название улицы')\n",
    "plt.xlabel('Посадочные места')\n",
    "print('Медианное количество посадочных мест на топовых улицах:', top_num['number'].median())\n",
    "print('Медианное количество посадочных мест всех заведений:',rest_data['number'].median())\n",
    "\n"
   ]
  },
  {
   "cell_type": "markdown",
   "metadata": {},
   "source": [
    "Посадочные места распределены довольно однородно. \n",
    "Разницы между медианным количеством мест на топовых улицах и по общему датасету практически нет. На всех улицах пределы \"ящика\" лежат до 100 посадочных мест, можем наблюдать, что в части улиц медиана смещена к первому квартилю. Верхняя граница в большинстве случаев лежит в диапазоне от 150 до 200 посадочных мест. Медианное количество мест - 40, и оно сохраняется в по улицам. Поселение сосенское отличается малым количеством, но стоит уточнить, брать ли во внимание его далее. "
   ]
  },
  {
   "cell_type": "markdown",
   "metadata": {},
   "source": [
    "## Выводы"
   ]
  },
  {
   "cell_type": "markdown",
   "metadata": {},
   "source": [
    "Из проведенного анализа можно сделать следующие выводы: \n",
    "\n",
    "- Самый распространенный тип объекта  - кафе(39.7%), за ним идут столовые(16.8%) и рестораны(14.9%)\n",
    "- Меньше всего объектов типа \"магазин (отдел кулинарии)\"\n",
    "- Сетевое распространение характерно для типа объекта \"предприятие быстрого обслуживания\", 41% заведений данного типа сетевые. На втором месте отделы кулинарии(29% - сетевые) и затем идут рестораны(24% из них сетевые). \n",
    "- Меньше всего сетевых столовых  и буфетов.\n",
    "- Для сетевых заведений характерно мало зведений с большим количеством мест. \n",
    "- Самое большое среднее количество посадочных мест в столовых(103 места) и ресторанах(80 мест). \n",
    "- В закусочных и отделах кулинарии посадочных мест нет.\n",
    "- Топ-10 улиц с наибольшим количеством объектов общественного питания:\n",
    "    \n",
    "    город Зеленоград\n",
    "    проспект Мира\n",
    "    Профсоюзная улица\n",
    "    Ленинградский проспект \t\n",
    "    Пресненская набережная \t\n",
    "    Варшавское шоссе \t\n",
    "    Ленинский проспект \t\n",
    "    поселение Сосенское \t\n",
    "    проспект Вернадского \t\n",
    "    Кутузовский проспект \t\n",
    "\n",
    "- Число улиц с одним объектом общественного питания: 579\n",
    "- Тройка лидеров районов со одним объектом  - Таганский район, Хамовники и Басманный район.\n",
    "- Посадочные места распределены довольно однородно. \n",
    "- Разницы между медианным количеством мест на топовых улицах и по общему датасету практически нет. На всех улицах пределы \"ящика\" лежат до 100 посадочных мест, можем наблюдать, что в части улиц медиана смещена к первому квартилю. Верхняя граница в большинстве случаев лежит в диапазоне от 150 до 200 посадочных мест. Медианное количество мест - 40, и оно сохраняется в по улицам. Поселение сосенское отличается малым количеством, но стоит уточнить, брать ли во внимание его далее. .\n",
    "\n",
    "Делать прогнозы о популярности оригинального кафе только на основе полученных данных сложно. Однако можно сделать ставку на оригинальности и поместить кафе на одну из улиц из топа районов по количеству заведений, так мы обеспечим проходимость и переманим клиентов других заведений, однако, чтобы удержаться надо, как минимум, исследовать ценовую политику и тематику кухни. Так как планируемое кафе небольшое и несетевое, возможно стоит рассмотреть более тихие места, с малым количеством конкурентов вокруг. Стоит также проанализировать районы на  социальные группы, на каких посителей рассчитано, в первую очередь, наше кафе. Выбрать место среди офисных зданий или в популярном месте отдыха молодежи и так далее. "
   ]
  }
 ],
 "metadata": {
  "ExecuteTimeLog": [
   {
    "duration": 4,
    "start_time": "2022-03-22T21:06:34.768Z"
   },
   {
    "duration": 1397,
    "start_time": "2022-03-22T21:08:44.210Z"
   },
   {
    "duration": 64,
    "start_time": "2022-03-22T21:09:26.307Z"
   },
   {
    "duration": 18,
    "start_time": "2022-03-22T21:09:32.310Z"
   },
   {
    "duration": 14,
    "start_time": "2022-03-22T21:09:51.709Z"
   },
   {
    "duration": 22,
    "start_time": "2022-03-22T21:10:31.176Z"
   },
   {
    "duration": 17,
    "start_time": "2022-03-22T21:10:38.376Z"
   },
   {
    "duration": 18,
    "start_time": "2022-03-22T21:10:45.094Z"
   },
   {
    "duration": 18,
    "start_time": "2022-03-22T21:11:44.294Z"
   },
   {
    "duration": 23608,
    "start_time": "2022-03-22T21:15:59.952Z"
   },
   {
    "duration": 63,
    "start_time": "2022-03-22T21:19:24.764Z"
   },
   {
    "duration": 589,
    "start_time": "2022-03-22T21:20:24.054Z"
   },
   {
    "duration": 506,
    "start_time": "2022-03-22T21:21:35.159Z"
   },
   {
    "duration": 600,
    "start_time": "2022-03-22T21:22:56.009Z"
   },
   {
    "duration": 2798,
    "start_time": "2022-03-22T21:26:43.535Z"
   },
   {
    "duration": 538,
    "start_time": "2022-03-22T21:27:28.333Z"
   },
   {
    "duration": 547,
    "start_time": "2022-03-22T21:28:14.473Z"
   },
   {
    "duration": 539,
    "start_time": "2022-03-22T21:28:51.065Z"
   },
   {
    "duration": 583,
    "start_time": "2022-03-22T21:28:56.542Z"
   },
   {
    "duration": 556,
    "start_time": "2022-03-22T21:29:26.093Z"
   },
   {
    "duration": 551,
    "start_time": "2022-03-22T21:29:46.384Z"
   },
   {
    "duration": 523,
    "start_time": "2022-03-22T21:30:34.593Z"
   },
   {
    "duration": 526,
    "start_time": "2022-03-22T21:30:43.401Z"
   },
   {
    "duration": 482,
    "start_time": "2022-03-22T21:32:19.402Z"
   },
   {
    "duration": 540,
    "start_time": "2022-03-22T21:32:30.236Z"
   },
   {
    "duration": 596,
    "start_time": "2022-03-22T21:34:00.312Z"
   },
   {
    "duration": 544,
    "start_time": "2022-03-22T21:34:10.124Z"
   },
   {
    "duration": 76,
    "start_time": "2022-03-24T05:11:35.220Z"
   },
   {
    "duration": 1709,
    "start_time": "2022-03-24T05:11:42.158Z"
   },
   {
    "duration": 80,
    "start_time": "2022-03-24T05:11:43.870Z"
   },
   {
    "duration": 22,
    "start_time": "2022-03-24T05:11:43.952Z"
   },
   {
    "duration": 31,
    "start_time": "2022-03-24T05:11:43.977Z"
   },
   {
    "duration": 783,
    "start_time": "2022-03-24T05:11:44.010Z"
   },
   {
    "duration": 390,
    "start_time": "2022-03-24T05:11:44.796Z"
   },
   {
    "duration": 385,
    "start_time": "2022-03-24T05:12:00.360Z"
   },
   {
    "duration": 154,
    "start_time": "2022-03-24T05:17:40.277Z"
   },
   {
    "duration": 30,
    "start_time": "2022-03-24T05:18:45.620Z"
   },
   {
    "duration": 28,
    "start_time": "2022-03-24T05:18:54.173Z"
   },
   {
    "duration": 32,
    "start_time": "2022-03-24T05:21:08.745Z"
   },
   {
    "duration": 28,
    "start_time": "2022-03-24T05:21:19.315Z"
   },
   {
    "duration": 27,
    "start_time": "2022-03-24T05:21:29.275Z"
   },
   {
    "duration": 27,
    "start_time": "2022-03-24T05:22:00.361Z"
   },
   {
    "duration": 28,
    "start_time": "2022-03-24T05:22:34.348Z"
   },
   {
    "duration": 29,
    "start_time": "2022-03-24T05:22:39.807Z"
   },
   {
    "duration": 29,
    "start_time": "2022-03-24T05:22:44.456Z"
   },
   {
    "duration": 40,
    "start_time": "2022-03-24T05:25:26.912Z"
   },
   {
    "duration": 9,
    "start_time": "2022-03-24T05:32:25.015Z"
   },
   {
    "duration": 6,
    "start_time": "2022-03-24T05:32:29.836Z"
   },
   {
    "duration": 34,
    "start_time": "2022-03-24T05:32:46.416Z"
   },
   {
    "duration": 771,
    "start_time": "2022-03-24T05:33:32.485Z"
   },
   {
    "duration": 739,
    "start_time": "2022-03-24T05:33:48.476Z"
   },
   {
    "duration": 293,
    "start_time": "2022-03-24T05:33:54.937Z"
   },
   {
    "duration": 319,
    "start_time": "2022-03-24T05:34:07.577Z"
   },
   {
    "duration": 300,
    "start_time": "2022-03-24T05:35:01.413Z"
   },
   {
    "duration": 30,
    "start_time": "2022-03-24T05:35:31.226Z"
   },
   {
    "duration": 385,
    "start_time": "2022-03-24T05:35:47.883Z"
   },
   {
    "duration": 230,
    "start_time": "2022-03-24T05:43:24.976Z"
   },
   {
    "duration": 231,
    "start_time": "2022-03-24T05:43:30.559Z"
   },
   {
    "duration": 236,
    "start_time": "2022-03-24T05:43:43.727Z"
   },
   {
    "duration": 1761,
    "start_time": "2022-03-24T13:22:20.433Z"
   },
   {
    "duration": 70,
    "start_time": "2022-03-24T13:22:22.197Z"
   },
   {
    "duration": 22,
    "start_time": "2022-03-24T13:22:22.270Z"
   },
   {
    "duration": 33,
    "start_time": "2022-03-24T13:22:22.295Z"
   },
   {
    "duration": 162,
    "start_time": "2022-03-24T13:22:22.330Z"
   },
   {
    "duration": 217,
    "start_time": "2022-03-24T13:22:33.816Z"
   },
   {
    "duration": 275,
    "start_time": "2022-03-24T13:23:21.079Z"
   },
   {
    "duration": 17,
    "start_time": "2022-03-24T13:23:56.704Z"
   },
   {
    "duration": 28,
    "start_time": "2022-03-24T13:24:17.957Z"
   },
   {
    "duration": 13,
    "start_time": "2022-03-24T13:24:33.504Z"
   },
   {
    "duration": 24,
    "start_time": "2022-03-24T13:24:38.681Z"
   },
   {
    "duration": 20,
    "start_time": "2022-03-24T13:25:17.079Z"
   },
   {
    "duration": 31,
    "start_time": "2022-03-24T13:25:41.235Z"
   },
   {
    "duration": 254,
    "start_time": "2022-03-24T13:26:36.171Z"
   },
   {
    "duration": 275,
    "start_time": "2022-03-24T13:27:06.910Z"
   },
   {
    "duration": 230,
    "start_time": "2022-03-24T13:27:42.923Z"
   },
   {
    "duration": 264,
    "start_time": "2022-03-24T13:27:55.398Z"
   },
   {
    "duration": 267,
    "start_time": "2022-03-24T13:28:11.351Z"
   },
   {
    "duration": 272,
    "start_time": "2022-03-24T13:28:26.677Z"
   },
   {
    "duration": 300,
    "start_time": "2022-03-24T13:34:49.074Z"
   },
   {
    "duration": 110,
    "start_time": "2022-03-24T13:35:53.207Z"
   },
   {
    "duration": 229,
    "start_time": "2022-03-24T13:35:57.288Z"
   },
   {
    "duration": 268,
    "start_time": "2022-03-24T13:36:35.724Z"
   },
   {
    "duration": 313,
    "start_time": "2022-03-24T13:37:00.973Z"
   },
   {
    "duration": 350,
    "start_time": "2022-03-24T13:37:15.455Z"
   },
   {
    "duration": 346,
    "start_time": "2022-03-24T13:37:24.388Z"
   },
   {
    "duration": 339,
    "start_time": "2022-03-24T13:37:46.806Z"
   },
   {
    "duration": 30,
    "start_time": "2022-03-24T13:38:23.058Z"
   },
   {
    "duration": 359,
    "start_time": "2022-03-24T13:38:41.833Z"
   },
   {
    "duration": 361,
    "start_time": "2022-03-24T13:38:52.336Z"
   },
   {
    "duration": 360,
    "start_time": "2022-03-24T13:40:45.364Z"
   },
   {
    "duration": 355,
    "start_time": "2022-03-24T13:41:12.355Z"
   },
   {
    "duration": 21,
    "start_time": "2022-03-24T13:42:07.691Z"
   },
   {
    "duration": 453,
    "start_time": "2022-03-24T13:42:23.796Z"
   },
   {
    "duration": 348,
    "start_time": "2022-03-24T13:43:42.587Z"
   },
   {
    "duration": 266,
    "start_time": "2022-03-24T13:47:01.805Z"
   },
   {
    "duration": 351,
    "start_time": "2022-03-24T13:47:13.925Z"
   },
   {
    "duration": 1955,
    "start_time": "2022-03-24T13:48:25.991Z"
   },
   {
    "duration": 1930,
    "start_time": "2022-03-24T13:49:08.891Z"
   },
   {
    "duration": 2557,
    "start_time": "2022-03-24T13:49:34.035Z"
   },
   {
    "duration": 2286,
    "start_time": "2022-03-24T13:49:55.456Z"
   },
   {
    "duration": 35,
    "start_time": "2022-03-24T13:50:17.968Z"
   },
   {
    "duration": 2115,
    "start_time": "2022-03-24T13:50:57.452Z"
   },
   {
    "duration": 353,
    "start_time": "2022-03-24T13:51:33.766Z"
   },
   {
    "duration": 335,
    "start_time": "2022-03-24T13:57:32.659Z"
   },
   {
    "duration": 29,
    "start_time": "2022-03-24T14:01:05.544Z"
   },
   {
    "duration": 333,
    "start_time": "2022-03-24T14:01:26.110Z"
   },
   {
    "duration": 357,
    "start_time": "2022-03-24T14:02:29.962Z"
   },
   {
    "duration": 359,
    "start_time": "2022-03-24T14:02:39.761Z"
   },
   {
    "duration": 332,
    "start_time": "2022-03-24T14:02:45.338Z"
   },
   {
    "duration": 346,
    "start_time": "2022-03-24T14:03:51.206Z"
   },
   {
    "duration": 471,
    "start_time": "2022-03-24T14:04:02.391Z"
   },
   {
    "duration": 335,
    "start_time": "2022-03-24T14:04:09.123Z"
   },
   {
    "duration": 335,
    "start_time": "2022-03-24T14:04:14.815Z"
   },
   {
    "duration": 21,
    "start_time": "2022-03-24T14:04:54.320Z"
   },
   {
    "duration": 21,
    "start_time": "2022-03-24T14:05:22.488Z"
   },
   {
    "duration": 142,
    "start_time": "2022-03-24T14:06:41.627Z"
   },
   {
    "duration": 134,
    "start_time": "2022-03-24T14:06:52.058Z"
   },
   {
    "duration": 380,
    "start_time": "2022-03-24T14:07:49.180Z"
   },
   {
    "duration": 350,
    "start_time": "2022-03-24T14:09:51.159Z"
   },
   {
    "duration": 354,
    "start_time": "2022-03-24T14:09:54.921Z"
   },
   {
    "duration": 434,
    "start_time": "2022-03-24T14:10:11.883Z"
   },
   {
    "duration": 448,
    "start_time": "2022-03-24T14:10:53.295Z"
   },
   {
    "duration": 412,
    "start_time": "2022-03-24T14:11:05.240Z"
   },
   {
    "duration": 392,
    "start_time": "2022-03-24T14:11:18.918Z"
   },
   {
    "duration": 91,
    "start_time": "2022-03-24T14:11:28.777Z"
   },
   {
    "duration": 420,
    "start_time": "2022-03-24T14:11:50.043Z"
   },
   {
    "duration": 1658,
    "start_time": "2022-03-24T14:11:59.793Z"
   },
   {
    "duration": 70,
    "start_time": "2022-03-24T14:12:01.454Z"
   },
   {
    "duration": 20,
    "start_time": "2022-03-24T14:12:01.527Z"
   },
   {
    "duration": 46,
    "start_time": "2022-03-24T14:12:01.550Z"
   },
   {
    "duration": 395,
    "start_time": "2022-03-24T14:12:01.598Z"
   },
   {
    "duration": 496,
    "start_time": "2022-03-24T14:12:47.401Z"
   },
   {
    "duration": 357,
    "start_time": "2022-03-24T14:12:57.051Z"
   },
   {
    "duration": 22,
    "start_time": "2022-03-24T14:14:02.894Z"
   },
   {
    "duration": 141,
    "start_time": "2022-03-24T14:14:19.004Z"
   },
   {
    "duration": 150,
    "start_time": "2022-03-24T14:15:08.158Z"
   },
   {
    "duration": 153,
    "start_time": "2022-03-24T14:15:32.026Z"
   },
   {
    "duration": 372,
    "start_time": "2022-03-24T14:16:00.464Z"
   },
   {
    "duration": 214,
    "start_time": "2022-03-24T14:16:14.292Z"
   },
   {
    "duration": 185,
    "start_time": "2022-03-24T14:16:48.488Z"
   },
   {
    "duration": 86,
    "start_time": "2022-03-24T14:17:06.012Z"
   },
   {
    "duration": 186,
    "start_time": "2022-03-24T14:17:14.181Z"
   },
   {
    "duration": 191,
    "start_time": "2022-03-24T14:17:24.458Z"
   },
   {
    "duration": 158,
    "start_time": "2022-03-24T14:17:34.204Z"
   },
   {
    "duration": 199,
    "start_time": "2022-03-24T14:17:42.603Z"
   },
   {
    "duration": 186,
    "start_time": "2022-03-24T14:18:21.523Z"
   },
   {
    "duration": 133,
    "start_time": "2022-03-24T14:18:46.128Z"
   },
   {
    "duration": 28,
    "start_time": "2022-03-24T14:19:17.000Z"
   },
   {
    "duration": 193,
    "start_time": "2022-03-24T14:19:24.636Z"
   },
   {
    "duration": 5,
    "start_time": "2022-03-24T18:48:53.443Z"
   },
   {
    "duration": 110,
    "start_time": "2022-03-24T18:48:53.450Z"
   },
   {
    "duration": 24,
    "start_time": "2022-03-24T18:48:53.565Z"
   },
   {
    "duration": 41,
    "start_time": "2022-03-24T18:48:53.592Z"
   },
   {
    "duration": 16,
    "start_time": "2022-03-24T18:48:53.636Z"
   },
   {
    "duration": 580,
    "start_time": "2022-03-24T18:48:53.655Z"
   },
   {
    "duration": 263,
    "start_time": "2022-03-24T18:48:54.237Z"
   },
   {
    "duration": 10,
    "start_time": "2022-03-24T18:49:17.534Z"
   },
   {
    "duration": 10,
    "start_time": "2022-03-24T18:49:35.613Z"
   },
   {
    "duration": 16,
    "start_time": "2022-03-24T18:49:47.880Z"
   },
   {
    "duration": 8,
    "start_time": "2022-03-24T18:50:02.689Z"
   },
   {
    "duration": 19,
    "start_time": "2022-03-24T18:50:18.452Z"
   },
   {
    "duration": 10,
    "start_time": "2022-03-24T18:53:30.835Z"
   },
   {
    "duration": 32,
    "start_time": "2022-03-24T18:53:50.193Z"
   },
   {
    "duration": 315,
    "start_time": "2022-03-24T18:56:26.755Z"
   },
   {
    "duration": 169,
    "start_time": "2022-03-24T18:56:33.305Z"
   },
   {
    "duration": 20,
    "start_time": "2022-03-24T18:56:38.344Z"
   },
   {
    "duration": 23,
    "start_time": "2022-03-24T18:56:41.522Z"
   },
   {
    "duration": 38,
    "start_time": "2022-03-24T18:57:12.111Z"
   },
   {
    "duration": 2074,
    "start_time": "2022-03-24T18:59:31.965Z"
   },
   {
    "duration": 101,
    "start_time": "2022-03-24T18:59:34.042Z"
   },
   {
    "duration": 40,
    "start_time": "2022-03-24T18:59:34.145Z"
   },
   {
    "duration": 48,
    "start_time": "2022-03-24T18:59:34.190Z"
   },
   {
    "duration": 10,
    "start_time": "2022-03-24T18:59:34.241Z"
   },
   {
    "duration": 52,
    "start_time": "2022-03-24T18:59:34.255Z"
   },
   {
    "duration": 438,
    "start_time": "2022-03-24T18:59:34.310Z"
   },
   {
    "duration": 275,
    "start_time": "2022-03-24T18:59:34.750Z"
   },
   {
    "duration": 81997,
    "start_time": "2022-03-24T18:59:35.028Z"
   },
   {
    "duration": 20,
    "start_time": "2022-03-24T19:04:36.950Z"
   },
   {
    "duration": 159,
    "start_time": "2022-03-24T19:04:58.729Z"
   },
   {
    "duration": 23,
    "start_time": "2022-03-24T19:05:18.091Z"
   },
   {
    "duration": 151,
    "start_time": "2022-03-24T19:05:25.102Z"
   },
   {
    "duration": 151,
    "start_time": "2022-03-24T19:05:29.437Z"
   },
   {
    "duration": 152,
    "start_time": "2022-03-24T19:05:40.361Z"
   },
   {
    "duration": 22,
    "start_time": "2022-03-24T19:05:44.742Z"
   },
   {
    "duration": 845,
    "start_time": "2022-03-24T19:06:29.049Z"
   },
   {
    "duration": 639,
    "start_time": "2022-03-24T19:07:29.929Z"
   },
   {
    "duration": 511,
    "start_time": "2022-03-24T19:07:50.447Z"
   },
   {
    "duration": 508,
    "start_time": "2022-03-24T19:08:05.426Z"
   },
   {
    "duration": 499,
    "start_time": "2022-03-24T19:08:10.366Z"
   },
   {
    "duration": 355,
    "start_time": "2022-03-24T19:09:41.278Z"
   },
   {
    "duration": 126,
    "start_time": "2022-03-24T19:10:31.473Z"
   },
   {
    "duration": 263,
    "start_time": "2022-03-24T19:10:44.149Z"
   },
   {
    "duration": 355,
    "start_time": "2022-03-24T19:11:06.604Z"
   },
   {
    "duration": 31,
    "start_time": "2022-03-24T19:12:10.071Z"
   },
   {
    "duration": 462,
    "start_time": "2022-03-24T19:12:21.455Z"
   },
   {
    "duration": 470,
    "start_time": "2022-03-24T19:12:48.535Z"
   },
   {
    "duration": 21,
    "start_time": "2022-03-24T19:13:00.064Z"
   },
   {
    "duration": 270,
    "start_time": "2022-03-24T19:13:06.260Z"
   },
   {
    "duration": 382,
    "start_time": "2022-03-24T19:13:11.757Z"
   },
   {
    "duration": 483,
    "start_time": "2022-03-24T19:13:49.331Z"
   },
   {
    "duration": 576,
    "start_time": "2022-03-24T19:13:59.472Z"
   },
   {
    "duration": 276,
    "start_time": "2022-03-24T19:14:52.089Z"
   },
   {
    "duration": 265,
    "start_time": "2022-03-24T19:15:34.399Z"
   },
   {
    "duration": 276,
    "start_time": "2022-03-24T19:16:26.085Z"
   },
   {
    "duration": 265,
    "start_time": "2022-03-24T19:17:09.951Z"
   },
   {
    "duration": 375,
    "start_time": "2022-03-24T19:18:27.388Z"
   },
   {
    "duration": 38,
    "start_time": "2022-03-24T19:18:31.540Z"
   },
   {
    "duration": 380,
    "start_time": "2022-03-24T19:18:35.388Z"
   },
   {
    "duration": 625,
    "start_time": "2022-03-24T19:18:53.252Z"
   },
   {
    "duration": 132,
    "start_time": "2022-03-24T19:21:22.971Z"
   },
   {
    "duration": 132,
    "start_time": "2022-03-24T19:21:40.959Z"
   },
   {
    "duration": 149,
    "start_time": "2022-03-24T19:22:39.923Z"
   },
   {
    "duration": 525,
    "start_time": "2022-03-24T19:22:44.965Z"
   },
   {
    "duration": 478,
    "start_time": "2022-03-24T19:22:55.148Z"
   },
   {
    "duration": 498,
    "start_time": "2022-03-24T19:23:00.945Z"
   },
   {
    "duration": 628,
    "start_time": "2022-03-24T19:23:18.087Z"
   },
   {
    "duration": 524,
    "start_time": "2022-03-24T19:23:26.036Z"
   },
   {
    "duration": 273,
    "start_time": "2022-03-24T19:24:47.115Z"
   },
   {
    "duration": 370,
    "start_time": "2022-03-24T19:26:16.805Z"
   },
   {
    "duration": 484,
    "start_time": "2022-03-24T19:26:28.021Z"
   },
   {
    "duration": 391,
    "start_time": "2022-03-24T19:26:57.632Z"
   },
   {
    "duration": 292,
    "start_time": "2022-03-24T19:30:58.387Z"
   },
   {
    "duration": 496,
    "start_time": "2022-03-24T19:31:07.453Z"
   },
   {
    "duration": 396,
    "start_time": "2022-03-24T19:35:07.649Z"
   },
   {
    "duration": 1605,
    "start_time": "2022-03-24T19:36:03.739Z"
   },
   {
    "duration": 74,
    "start_time": "2022-03-24T19:36:05.346Z"
   },
   {
    "duration": 22,
    "start_time": "2022-03-24T19:36:05.423Z"
   },
   {
    "duration": 52,
    "start_time": "2022-03-24T19:36:05.449Z"
   },
   {
    "duration": 7,
    "start_time": "2022-03-24T19:36:05.504Z"
   },
   {
    "duration": 21,
    "start_time": "2022-03-24T19:36:05.514Z"
   },
   {
    "duration": 622,
    "start_time": "2022-03-24T19:36:05.537Z"
   },
   {
    "duration": 199,
    "start_time": "2022-03-24T19:36:06.162Z"
   },
   {
    "duration": 514,
    "start_time": "2022-03-24T19:36:06.364Z"
   },
   {
    "duration": 361,
    "start_time": "2022-03-24T19:36:23.761Z"
   },
   {
    "duration": 366,
    "start_time": "2022-03-24T19:36:37.459Z"
   },
   {
    "duration": 367,
    "start_time": "2022-03-24T19:36:43.092Z"
   },
   {
    "duration": 414,
    "start_time": "2022-03-24T19:41:05.945Z"
   },
   {
    "duration": 371,
    "start_time": "2022-03-24T19:41:19.399Z"
   },
   {
    "duration": 293,
    "start_time": "2022-03-24T19:41:55.313Z"
   },
   {
    "duration": 481,
    "start_time": "2022-03-24T19:42:02.448Z"
   },
   {
    "duration": 320,
    "start_time": "2022-03-24T19:42:13.510Z"
   },
   {
    "duration": 542,
    "start_time": "2022-03-24T19:42:17.923Z"
   },
   {
    "duration": 538,
    "start_time": "2022-03-24T19:42:32.615Z"
   },
   {
    "duration": 616,
    "start_time": "2022-03-24T19:42:41.228Z"
   },
   {
    "duration": 532,
    "start_time": "2022-03-24T20:13:57.694Z"
   },
   {
    "duration": 19,
    "start_time": "2022-03-24T20:16:59.431Z"
   },
   {
    "duration": 13,
    "start_time": "2022-03-24T20:17:19.651Z"
   },
   {
    "duration": 39,
    "start_time": "2022-03-24T20:17:24.132Z"
   },
   {
    "duration": 173,
    "start_time": "2022-03-24T20:27:23.886Z"
   },
   {
    "duration": 792,
    "start_time": "2022-03-24T20:27:56.608Z"
   },
   {
    "duration": 322,
    "start_time": "2022-03-24T20:28:37.482Z"
   },
   {
    "duration": 776,
    "start_time": "2022-03-24T20:28:47.134Z"
   },
   {
    "duration": 724,
    "start_time": "2022-03-24T20:29:45.015Z"
   },
   {
    "duration": 27,
    "start_time": "2022-03-24T20:29:53.510Z"
   },
   {
    "duration": 718,
    "start_time": "2022-03-24T20:31:44.149Z"
   },
   {
    "duration": 773,
    "start_time": "2022-03-24T20:33:09.825Z"
   },
   {
    "duration": 866,
    "start_time": "2022-03-24T20:33:16.248Z"
   },
   {
    "duration": 3976,
    "start_time": "2022-03-24T20:34:47.208Z"
   },
   {
    "duration": 518,
    "start_time": "2022-03-24T20:35:02.904Z"
   },
   {
    "duration": 512,
    "start_time": "2022-03-24T20:35:17.734Z"
   },
   {
    "duration": 595,
    "start_time": "2022-03-24T20:35:47.528Z"
   },
   {
    "duration": 519,
    "start_time": "2022-03-24T20:35:58.301Z"
   },
   {
    "duration": 596,
    "start_time": "2022-03-24T20:37:03.188Z"
   },
   {
    "duration": 11,
    "start_time": "2022-03-24T20:38:28.433Z"
   },
   {
    "duration": 15,
    "start_time": "2022-03-24T20:38:53.958Z"
   },
   {
    "duration": 17,
    "start_time": "2022-03-24T20:39:12.637Z"
   },
   {
    "duration": 39,
    "start_time": "2022-03-24T20:45:09.054Z"
   },
   {
    "duration": 35,
    "start_time": "2022-03-24T20:46:20.175Z"
   },
   {
    "duration": 31,
    "start_time": "2022-03-24T20:46:44.145Z"
   },
   {
    "duration": 43,
    "start_time": "2022-03-24T20:46:54.667Z"
   },
   {
    "duration": 38,
    "start_time": "2022-03-24T20:47:17.381Z"
   },
   {
    "duration": 21,
    "start_time": "2022-03-24T20:50:09.899Z"
   },
   {
    "duration": 20,
    "start_time": "2022-03-24T20:50:52.350Z"
   },
   {
    "duration": 18,
    "start_time": "2022-03-24T20:52:40.570Z"
   },
   {
    "duration": 13,
    "start_time": "2022-03-24T20:53:04.514Z"
   },
   {
    "duration": 2358,
    "start_time": "2022-03-24T20:54:18.936Z"
   },
   {
    "duration": 2351,
    "start_time": "2022-03-24T20:54:39.889Z"
   },
   {
    "duration": 2290,
    "start_time": "2022-03-24T20:54:53.976Z"
   },
   {
    "duration": 2109,
    "start_time": "2022-03-24T20:55:15.387Z"
   },
   {
    "duration": 14,
    "start_time": "2022-03-24T20:55:30.607Z"
   },
   {
    "duration": 25,
    "start_time": "2022-03-24T20:55:40.864Z"
   },
   {
    "duration": 19,
    "start_time": "2022-03-24T20:55:49.901Z"
   },
   {
    "duration": 2074,
    "start_time": "2022-03-24T20:56:08.301Z"
   },
   {
    "duration": 2136,
    "start_time": "2022-03-24T20:56:45.806Z"
   },
   {
    "duration": 2454,
    "start_time": "2022-03-24T20:57:03.359Z"
   },
   {
    "duration": 1702,
    "start_time": "2022-03-24T20:57:15.731Z"
   },
   {
    "duration": 74,
    "start_time": "2022-03-24T20:57:17.436Z"
   },
   {
    "duration": 21,
    "start_time": "2022-03-24T20:57:17.512Z"
   },
   {
    "duration": 48,
    "start_time": "2022-03-24T20:57:17.536Z"
   },
   {
    "duration": 7,
    "start_time": "2022-03-24T20:57:17.586Z"
   },
   {
    "duration": 20,
    "start_time": "2022-03-24T20:57:17.595Z"
   },
   {
    "duration": 626,
    "start_time": "2022-03-24T20:57:17.618Z"
   },
   {
    "duration": 209,
    "start_time": "2022-03-24T20:57:18.247Z"
   },
   {
    "duration": 558,
    "start_time": "2022-03-24T20:57:18.459Z"
   },
   {
    "duration": 895,
    "start_time": "2022-03-24T20:57:19.021Z"
   },
   {
    "duration": 29,
    "start_time": "2022-03-24T20:57:19.919Z"
   },
   {
    "duration": 545,
    "start_time": "2022-03-24T20:57:19.950Z"
   },
   {
    "duration": 37,
    "start_time": "2022-03-24T20:57:20.498Z"
   },
   {
    "duration": 2772,
    "start_time": "2022-03-24T20:57:20.538Z"
   },
   {
    "duration": 18,
    "start_time": "2022-03-24T20:58:00.655Z"
   },
   {
    "duration": 278,
    "start_time": "2022-03-24T20:58:10.540Z"
   },
   {
    "duration": 274,
    "start_time": "2022-03-24T20:58:24.915Z"
   },
   {
    "duration": 247,
    "start_time": "2022-03-24T20:59:06.437Z"
   },
   {
    "duration": 346,
    "start_time": "2022-03-24T20:59:17.505Z"
   },
   {
    "duration": 253,
    "start_time": "2022-03-24T20:59:22.706Z"
   },
   {
    "duration": 255,
    "start_time": "2022-03-24T20:59:42.745Z"
   },
   {
    "duration": 265,
    "start_time": "2022-03-24T21:00:10.769Z"
   },
   {
    "duration": 261,
    "start_time": "2022-03-24T21:00:18.163Z"
   },
   {
    "duration": 505,
    "start_time": "2022-03-24T21:00:28.037Z"
   },
   {
    "duration": 261,
    "start_time": "2022-03-24T21:00:35.912Z"
   },
   {
    "duration": 350,
    "start_time": "2022-03-24T21:00:50.912Z"
   },
   {
    "duration": 319,
    "start_time": "2022-03-24T21:01:00.264Z"
   },
   {
    "duration": 341,
    "start_time": "2022-03-24T21:02:07.088Z"
   },
   {
    "duration": 343,
    "start_time": "2022-03-24T21:02:16.278Z"
   },
   {
    "duration": 607,
    "start_time": "2022-03-24T21:02:34.774Z"
   },
   {
    "duration": 526,
    "start_time": "2022-03-24T21:03:24.477Z"
   },
   {
    "duration": 529,
    "start_time": "2022-03-24T21:03:54.097Z"
   },
   {
    "duration": 541,
    "start_time": "2022-03-24T21:04:27.099Z"
   },
   {
    "duration": 538,
    "start_time": "2022-03-24T21:04:35.794Z"
   },
   {
    "duration": 476,
    "start_time": "2022-03-24T21:04:47.527Z"
   },
   {
    "duration": 469,
    "start_time": "2022-03-24T21:04:56.517Z"
   },
   {
    "duration": 510,
    "start_time": "2022-03-24T21:05:15.273Z"
   },
   {
    "duration": 158,
    "start_time": "2022-03-24T21:07:59.859Z"
   },
   {
    "duration": 530,
    "start_time": "2022-03-24T21:08:14.501Z"
   },
   {
    "duration": 822,
    "start_time": "2022-03-25T18:39:47.126Z"
   },
   {
    "duration": 1305,
    "start_time": "2022-03-25T18:40:00.172Z"
   },
   {
    "duration": 69,
    "start_time": "2022-03-25T18:40:01.479Z"
   },
   {
    "duration": 15,
    "start_time": "2022-03-25T18:40:01.550Z"
   },
   {
    "duration": 36,
    "start_time": "2022-03-25T18:40:01.567Z"
   },
   {
    "duration": 5,
    "start_time": "2022-03-25T18:40:01.605Z"
   },
   {
    "duration": 14,
    "start_time": "2022-03-25T18:40:01.611Z"
   },
   {
    "duration": 401,
    "start_time": "2022-03-25T18:40:01.627Z"
   },
   {
    "duration": 84,
    "start_time": "2022-03-25T18:40:02.030Z"
   },
   {
    "duration": 367,
    "start_time": "2022-03-25T18:40:02.116Z"
   },
   {
    "duration": 426,
    "start_time": "2022-03-25T18:40:02.486Z"
   },
   {
    "duration": 17,
    "start_time": "2022-03-25T18:40:02.913Z"
   },
   {
    "duration": 324,
    "start_time": "2022-03-25T18:40:02.932Z"
   },
   {
    "duration": 31,
    "start_time": "2022-03-25T18:40:03.258Z"
   },
   {
    "duration": 262,
    "start_time": "2022-03-25T18:40:03.291Z"
   },
   {
    "duration": 783,
    "start_time": "2022-03-25T18:40:03.554Z"
   },
   {
    "duration": 13,
    "start_time": "2022-03-25T18:45:58.220Z"
   },
   {
    "duration": 266,
    "start_time": "2022-03-25T18:46:02.585Z"
   },
   {
    "duration": 17,
    "start_time": "2022-03-25T18:47:38.511Z"
   },
   {
    "duration": 16,
    "start_time": "2022-03-25T18:48:06.528Z"
   },
   {
    "duration": 377,
    "start_time": "2022-03-25T18:48:14.007Z"
   },
   {
    "duration": 102,
    "start_time": "2022-03-25T18:51:59.687Z"
   },
   {
    "duration": 13,
    "start_time": "2022-03-25T18:52:17.536Z"
   },
   {
    "duration": 13,
    "start_time": "2022-03-25T18:52:24.971Z"
   },
   {
    "duration": 13,
    "start_time": "2022-03-25T18:52:30.839Z"
   },
   {
    "duration": 13,
    "start_time": "2022-03-25T18:54:19.445Z"
   },
   {
    "duration": 2576,
    "start_time": "2022-03-25T18:55:30.829Z"
   },
   {
    "duration": 2427,
    "start_time": "2022-03-25T18:55:35.576Z"
   },
   {
    "duration": 10,
    "start_time": "2022-03-25T18:55:48.606Z"
   },
   {
    "duration": 15,
    "start_time": "2022-03-25T18:56:00.497Z"
   },
   {
    "duration": 16,
    "start_time": "2022-03-25T18:57:32.101Z"
   },
   {
    "duration": 163,
    "start_time": "2022-03-25T18:58:02.037Z"
   },
   {
    "duration": 12,
    "start_time": "2022-03-25T18:58:17.909Z"
   },
   {
    "duration": 16,
    "start_time": "2022-03-25T18:58:37.957Z"
   },
   {
    "duration": 13,
    "start_time": "2022-03-25T18:59:10.519Z"
   },
   {
    "duration": 14,
    "start_time": "2022-03-25T18:59:20.690Z"
   },
   {
    "duration": 14,
    "start_time": "2022-03-25T18:59:48.849Z"
   },
   {
    "duration": 12,
    "start_time": "2022-03-25T18:59:57.518Z"
   },
   {
    "duration": 11,
    "start_time": "2022-03-25T19:00:41.143Z"
   },
   {
    "duration": 11,
    "start_time": "2022-03-25T19:00:45.254Z"
   },
   {
    "duration": 9,
    "start_time": "2022-03-25T19:00:57.671Z"
   },
   {
    "duration": 8,
    "start_time": "2022-03-25T19:01:34.081Z"
   },
   {
    "duration": 9,
    "start_time": "2022-03-25T19:01:44.658Z"
   },
   {
    "duration": 7,
    "start_time": "2022-03-25T19:01:49.779Z"
   },
   {
    "duration": 11,
    "start_time": "2022-03-25T19:02:10.272Z"
   },
   {
    "duration": 15,
    "start_time": "2022-03-25T19:03:36.725Z"
   },
   {
    "duration": 8,
    "start_time": "2022-03-25T19:03:44.637Z"
   },
   {
    "duration": 9,
    "start_time": "2022-03-25T19:03:49.832Z"
   },
   {
    "duration": 11,
    "start_time": "2022-03-25T19:03:54.427Z"
   },
   {
    "duration": 12,
    "start_time": "2022-03-25T19:04:14.485Z"
   },
   {
    "duration": 2445,
    "start_time": "2022-03-25T19:05:30.300Z"
   },
   {
    "duration": 2529,
    "start_time": "2022-03-25T19:05:45.928Z"
   },
   {
    "duration": 12,
    "start_time": "2022-03-25T19:05:55.845Z"
   },
   {
    "duration": 2915,
    "start_time": "2022-03-25T19:07:27.974Z"
   },
   {
    "duration": 8,
    "start_time": "2022-03-25T19:08:33.380Z"
   },
   {
    "duration": 13,
    "start_time": "2022-03-25T19:09:49.173Z"
   },
   {
    "duration": 14,
    "start_time": "2022-03-25T19:11:14.943Z"
   },
   {
    "duration": 13,
    "start_time": "2022-03-25T19:11:33.477Z"
   },
   {
    "duration": 9,
    "start_time": "2022-03-25T19:12:35.338Z"
   },
   {
    "duration": 19,
    "start_time": "2022-03-25T19:13:05.761Z"
   },
   {
    "duration": 24,
    "start_time": "2022-03-25T19:13:15.385Z"
   },
   {
    "duration": 13,
    "start_time": "2022-03-25T19:13:29.364Z"
   },
   {
    "duration": 18,
    "start_time": "2022-03-25T19:14:45.976Z"
   },
   {
    "duration": 2745,
    "start_time": "2022-03-25T19:15:29.128Z"
   },
   {
    "duration": 2621,
    "start_time": "2022-03-25T19:15:47.892Z"
   },
   {
    "duration": 2472,
    "start_time": "2022-03-25T19:16:11.659Z"
   },
   {
    "duration": 14,
    "start_time": "2022-03-25T19:16:19.652Z"
   },
   {
    "duration": 166,
    "start_time": "2022-03-25T19:16:52.019Z"
   },
   {
    "duration": 10,
    "start_time": "2022-03-25T19:16:57.736Z"
   },
   {
    "duration": 148,
    "start_time": "2022-03-25T19:17:31.354Z"
   },
   {
    "duration": 164,
    "start_time": "2022-03-25T19:18:00.583Z"
   },
   {
    "duration": 265,
    "start_time": "2022-03-25T19:18:40.972Z"
   },
   {
    "duration": 291,
    "start_time": "2022-03-25T19:19:16.738Z"
   },
   {
    "duration": 2486,
    "start_time": "2022-03-25T19:29:58.127Z"
   },
   {
    "duration": 2748,
    "start_time": "2022-03-25T19:31:12.828Z"
   },
   {
    "duration": 12,
    "start_time": "2022-03-25T19:31:18.294Z"
   },
   {
    "duration": 27,
    "start_time": "2022-03-25T19:37:38.976Z"
   },
   {
    "duration": 20,
    "start_time": "2022-03-25T19:38:19.612Z"
   },
   {
    "duration": 23,
    "start_time": "2022-03-25T19:39:05.524Z"
   },
   {
    "duration": 26,
    "start_time": "2022-03-25T19:39:13.081Z"
   },
   {
    "duration": 15,
    "start_time": "2022-03-25T19:41:23.710Z"
   },
   {
    "duration": 233,
    "start_time": "2022-03-25T19:41:32.546Z"
   },
   {
    "duration": 234,
    "start_time": "2022-03-25T19:43:22.468Z"
   },
   {
    "duration": 318,
    "start_time": "2022-03-25T19:43:29.904Z"
   },
   {
    "duration": 171,
    "start_time": "2022-03-25T19:44:46.345Z"
   },
   {
    "duration": 181,
    "start_time": "2022-03-25T19:44:58.972Z"
   },
   {
    "duration": 344,
    "start_time": "2022-03-25T19:46:22.374Z"
   },
   {
    "duration": 229,
    "start_time": "2022-03-25T19:46:41.017Z"
   },
   {
    "duration": 251,
    "start_time": "2022-03-25T19:48:59.036Z"
   },
   {
    "duration": 266,
    "start_time": "2022-03-25T19:50:08.307Z"
   },
   {
    "duration": 403,
    "start_time": "2022-03-25T19:50:19.681Z"
   },
   {
    "duration": 383,
    "start_time": "2022-03-25T19:51:16.176Z"
   },
   {
    "duration": 277,
    "start_time": "2022-03-25T19:51:24.056Z"
   },
   {
    "duration": 258,
    "start_time": "2022-03-25T19:52:56.194Z"
   },
   {
    "duration": 1157,
    "start_time": "2022-03-25T19:56:45.010Z"
   },
   {
    "duration": 60,
    "start_time": "2022-03-25T19:56:46.169Z"
   },
   {
    "duration": 13,
    "start_time": "2022-03-25T19:56:46.231Z"
   },
   {
    "duration": 21,
    "start_time": "2022-03-25T19:56:46.245Z"
   },
   {
    "duration": 4,
    "start_time": "2022-03-25T19:56:46.268Z"
   },
   {
    "duration": 15,
    "start_time": "2022-03-25T19:56:46.273Z"
   },
   {
    "duration": 353,
    "start_time": "2022-03-25T19:56:46.291Z"
   },
   {
    "duration": 93,
    "start_time": "2022-03-25T19:56:46.646Z"
   },
   {
    "duration": 324,
    "start_time": "2022-03-25T19:56:46.740Z"
   },
   {
    "duration": 463,
    "start_time": "2022-03-25T19:56:47.067Z"
   },
   {
    "duration": 17,
    "start_time": "2022-03-25T19:56:47.531Z"
   },
   {
    "duration": 325,
    "start_time": "2022-03-25T19:56:47.549Z"
   },
   {
    "duration": 32,
    "start_time": "2022-03-25T19:56:47.875Z"
   },
   {
    "duration": 13,
    "start_time": "2022-03-25T19:56:47.908Z"
   },
   {
    "duration": 17,
    "start_time": "2022-03-25T19:56:47.922Z"
   },
   {
    "duration": 329,
    "start_time": "2022-03-25T19:56:47.940Z"
   },
   {
    "duration": 896,
    "start_time": "2022-03-25T19:56:48.271Z"
   },
   {
    "duration": 13,
    "start_time": "2022-03-25T19:56:49.169Z"
   },
   {
    "duration": 22,
    "start_time": "2022-03-25T19:56:49.183Z"
   },
   {
    "duration": 306,
    "start_time": "2022-03-25T19:56:49.206Z"
   },
   {
    "duration": 318,
    "start_time": "2022-03-25T19:56:49.514Z"
   },
   {
    "duration": 250,
    "start_time": "2022-03-25T19:57:36.615Z"
   },
   {
    "duration": 257,
    "start_time": "2022-03-25T19:57:44.918Z"
   },
   {
    "duration": 332,
    "start_time": "2022-03-25T20:06:15.094Z"
   },
   {
    "duration": 330,
    "start_time": "2022-03-25T20:07:03.194Z"
   },
   {
    "duration": 341,
    "start_time": "2022-03-25T20:11:10.896Z"
   },
   {
    "duration": 182,
    "start_time": "2022-03-25T20:12:52.232Z"
   },
   {
    "duration": 303,
    "start_time": "2022-03-25T20:48:09.955Z"
   },
   {
    "duration": 12,
    "start_time": "2022-03-25T20:48:17.394Z"
   },
   {
    "duration": 271,
    "start_time": "2022-03-25T20:48:23.597Z"
   },
   {
    "duration": 9,
    "start_time": "2022-03-25T20:56:24.690Z"
   },
   {
    "duration": 17,
    "start_time": "2022-03-25T20:59:37.410Z"
   },
   {
    "duration": 20,
    "start_time": "2022-03-25T21:00:32.680Z"
   },
   {
    "duration": 13,
    "start_time": "2022-03-25T21:01:56.330Z"
   },
   {
    "duration": 111,
    "start_time": "2022-03-25T21:02:20.372Z"
   },
   {
    "duration": 13,
    "start_time": "2022-03-25T21:02:24.824Z"
   },
   {
    "duration": 637,
    "start_time": "2022-03-25T21:24:52.410Z"
   },
   {
    "duration": 331,
    "start_time": "2022-03-25T21:25:05.803Z"
   },
   {
    "duration": 1025,
    "start_time": "2022-03-25T22:24:05.420Z"
   },
   {
    "duration": 53,
    "start_time": "2022-03-25T22:24:06.447Z"
   },
   {
    "duration": 14,
    "start_time": "2022-03-25T22:24:06.501Z"
   },
   {
    "duration": 23,
    "start_time": "2022-03-25T22:24:06.517Z"
   },
   {
    "duration": 5,
    "start_time": "2022-03-25T22:24:06.541Z"
   },
   {
    "duration": 15,
    "start_time": "2022-03-25T22:24:06.548Z"
   },
   {
    "duration": 361,
    "start_time": "2022-03-25T22:24:06.565Z"
   },
   {
    "duration": 98,
    "start_time": "2022-03-25T22:24:06.928Z"
   },
   {
    "duration": 360,
    "start_time": "2022-03-25T22:24:07.028Z"
   },
   {
    "duration": 434,
    "start_time": "2022-03-25T22:24:07.391Z"
   },
   {
    "duration": 17,
    "start_time": "2022-03-25T22:24:07.826Z"
   },
   {
    "duration": 343,
    "start_time": "2022-03-25T22:24:07.844Z"
   },
   {
    "duration": 25,
    "start_time": "2022-03-25T22:24:08.188Z"
   },
   {
    "duration": 22,
    "start_time": "2022-03-25T22:24:08.215Z"
   },
   {
    "duration": 296,
    "start_time": "2022-03-25T22:24:08.239Z"
   },
   {
    "duration": 1166,
    "start_time": "2022-03-25T22:24:08.536Z"
   },
   {
    "duration": 13,
    "start_time": "2022-03-25T22:24:09.704Z"
   },
   {
    "duration": 10,
    "start_time": "2022-03-25T22:24:09.718Z"
   },
   {
    "duration": 313,
    "start_time": "2022-03-25T22:24:09.730Z"
   },
   {
    "duration": 323,
    "start_time": "2022-03-25T22:24:10.044Z"
   },
   {
    "duration": 1175,
    "start_time": "2022-03-26T04:07:38.084Z"
   },
   {
    "duration": 54,
    "start_time": "2022-03-26T04:07:39.261Z"
   },
   {
    "duration": 14,
    "start_time": "2022-03-26T04:07:39.316Z"
   },
   {
    "duration": 19,
    "start_time": "2022-03-26T04:07:39.333Z"
   },
   {
    "duration": 4,
    "start_time": "2022-03-26T04:07:39.354Z"
   },
   {
    "duration": 17,
    "start_time": "2022-03-26T04:07:39.360Z"
   },
   {
    "duration": 342,
    "start_time": "2022-03-26T04:07:39.378Z"
   },
   {
    "duration": 89,
    "start_time": "2022-03-26T04:07:39.722Z"
   },
   {
    "duration": 326,
    "start_time": "2022-03-26T04:07:39.813Z"
   },
   {
    "duration": 427,
    "start_time": "2022-03-26T04:07:40.141Z"
   },
   {
    "duration": 15,
    "start_time": "2022-03-26T04:07:40.569Z"
   },
   {
    "duration": 304,
    "start_time": "2022-03-26T04:07:40.586Z"
   },
   {
    "duration": 25,
    "start_time": "2022-03-26T04:07:40.891Z"
   },
   {
    "duration": 26,
    "start_time": "2022-03-26T04:07:40.917Z"
   },
   {
    "duration": 302,
    "start_time": "2022-03-26T04:07:40.944Z"
   },
   {
    "duration": 1159,
    "start_time": "2022-03-26T04:07:41.247Z"
   },
   {
    "duration": 13,
    "start_time": "2022-03-26T04:07:42.407Z"
   },
   {
    "duration": 10,
    "start_time": "2022-03-26T04:07:42.421Z"
   },
   {
    "duration": 326,
    "start_time": "2022-03-26T04:07:42.432Z"
   },
   {
    "duration": 327,
    "start_time": "2022-03-26T04:07:42.759Z"
   },
   {
    "duration": 52,
    "start_time": "2022-03-26T17:26:31.137Z"
   },
   {
    "duration": 1443,
    "start_time": "2022-03-26T17:26:37.608Z"
   },
   {
    "duration": 70,
    "start_time": "2022-03-26T17:26:39.053Z"
   },
   {
    "duration": 15,
    "start_time": "2022-03-26T17:26:39.125Z"
   },
   {
    "duration": 21,
    "start_time": "2022-03-26T17:26:39.142Z"
   },
   {
    "duration": 4,
    "start_time": "2022-03-26T17:26:39.165Z"
   },
   {
    "duration": 13,
    "start_time": "2022-03-26T17:26:39.171Z"
   },
   {
    "duration": 479,
    "start_time": "2022-03-26T17:26:39.186Z"
   },
   {
    "duration": 121,
    "start_time": "2022-03-26T17:26:39.667Z"
   },
   {
    "duration": 389,
    "start_time": "2022-03-26T17:26:39.790Z"
   },
   {
    "duration": 525,
    "start_time": "2022-03-26T17:26:40.182Z"
   },
   {
    "duration": 25,
    "start_time": "2022-03-26T17:26:40.709Z"
   },
   {
    "duration": 374,
    "start_time": "2022-03-26T17:26:40.735Z"
   },
   {
    "duration": 34,
    "start_time": "2022-03-26T17:26:41.111Z"
   },
   {
    "duration": 15,
    "start_time": "2022-03-26T17:26:41.146Z"
   },
   {
    "duration": 351,
    "start_time": "2022-03-26T17:26:41.163Z"
   },
   {
    "duration": 1147,
    "start_time": "2022-03-26T17:26:41.517Z"
   },
   {
    "duration": 16,
    "start_time": "2022-03-26T17:26:42.666Z"
   },
   {
    "duration": 11,
    "start_time": "2022-03-26T17:26:42.684Z"
   },
   {
    "duration": 337,
    "start_time": "2022-03-26T17:26:42.697Z"
   },
   {
    "duration": 428,
    "start_time": "2022-03-26T17:26:43.035Z"
   },
   {
    "duration": 18,
    "start_time": "2022-03-26T17:29:19.120Z"
   },
   {
    "duration": 2418,
    "start_time": "2022-03-26T17:29:39.055Z"
   },
   {
    "duration": 1171,
    "start_time": "2022-03-26T17:30:04.234Z"
   },
   {
    "duration": 12,
    "start_time": "2022-03-26T17:31:57.532Z"
   },
   {
    "duration": 10,
    "start_time": "2022-03-26T17:32:02.496Z"
   },
   {
    "duration": 10,
    "start_time": "2022-03-26T17:37:32.104Z"
   },
   {
    "duration": 10,
    "start_time": "2022-03-26T17:39:19.578Z"
   },
   {
    "duration": 15,
    "start_time": "2022-03-26T17:39:31.529Z"
   },
   {
    "duration": 12,
    "start_time": "2022-03-26T17:39:47.205Z"
   },
   {
    "duration": 13,
    "start_time": "2022-03-26T17:39:48.629Z"
   },
   {
    "duration": 10,
    "start_time": "2022-03-26T17:39:56.908Z"
   },
   {
    "duration": 1507,
    "start_time": "2022-03-26T17:40:21.445Z"
   },
   {
    "duration": 61,
    "start_time": "2022-03-26T17:40:22.954Z"
   },
   {
    "duration": 15,
    "start_time": "2022-03-26T17:40:23.018Z"
   },
   {
    "duration": 33,
    "start_time": "2022-03-26T17:40:23.035Z"
   },
   {
    "duration": 6,
    "start_time": "2022-03-26T17:40:23.069Z"
   },
   {
    "duration": 36,
    "start_time": "2022-03-26T17:40:23.076Z"
   },
   {
    "duration": 21,
    "start_time": "2022-03-26T17:40:23.114Z"
   },
   {
    "duration": 24,
    "start_time": "2022-03-26T17:40:23.137Z"
   },
   {
    "duration": 405,
    "start_time": "2022-03-26T17:40:23.163Z"
   },
   {
    "duration": 111,
    "start_time": "2022-03-26T17:40:23.571Z"
   },
   {
    "duration": 375,
    "start_time": "2022-03-26T17:40:23.684Z"
   },
   {
    "duration": 518,
    "start_time": "2022-03-26T17:40:24.061Z"
   },
   {
    "duration": 20,
    "start_time": "2022-03-26T17:40:24.580Z"
   },
   {
    "duration": 376,
    "start_time": "2022-03-26T17:40:24.602Z"
   },
   {
    "duration": 27,
    "start_time": "2022-03-26T17:40:24.979Z"
   },
   {
    "duration": 33,
    "start_time": "2022-03-26T17:40:25.008Z"
   },
   {
    "duration": 322,
    "start_time": "2022-03-26T17:40:25.043Z"
   },
   {
    "duration": 1070,
    "start_time": "2022-03-26T17:40:25.367Z"
   },
   {
    "duration": 13,
    "start_time": "2022-03-26T17:40:26.439Z"
   },
   {
    "duration": 12,
    "start_time": "2022-03-26T17:40:26.453Z"
   },
   {
    "duration": 283,
    "start_time": "2022-03-26T17:40:26.467Z"
   },
   {
    "duration": 0,
    "start_time": "2022-03-26T17:40:26.753Z"
   },
   {
    "duration": 7,
    "start_time": "2022-03-26T17:41:07.087Z"
   },
   {
    "duration": 6,
    "start_time": "2022-03-26T17:41:27.902Z"
   },
   {
    "duration": 11,
    "start_time": "2022-03-26T17:41:33.767Z"
   },
   {
    "duration": 5,
    "start_time": "2022-03-26T17:41:37.835Z"
   },
   {
    "duration": 7,
    "start_time": "2022-03-26T17:41:49.994Z"
   },
   {
    "duration": 5,
    "start_time": "2022-03-26T17:41:57.480Z"
   },
   {
    "duration": 5,
    "start_time": "2022-03-26T17:42:24.808Z"
   },
   {
    "duration": 454,
    "start_time": "2022-03-26T17:47:35.605Z"
   },
   {
    "duration": 377,
    "start_time": "2022-03-26T17:48:13.887Z"
   },
   {
    "duration": 354,
    "start_time": "2022-03-26T17:48:21.637Z"
   },
   {
    "duration": 12,
    "start_time": "2022-03-26T17:50:54.196Z"
   },
   {
    "duration": 2215,
    "start_time": "2022-03-26T17:51:12.859Z"
   },
   {
    "duration": 19,
    "start_time": "2022-03-26T17:51:46.799Z"
   },
   {
    "duration": 2305,
    "start_time": "2022-03-26T17:53:41.911Z"
   },
   {
    "duration": 21,
    "start_time": "2022-03-26T17:54:11.068Z"
   },
   {
    "duration": 2152,
    "start_time": "2022-03-26T17:55:36.152Z"
   },
   {
    "duration": 2211,
    "start_time": "2022-03-26T17:55:46.740Z"
   },
   {
    "duration": 2168,
    "start_time": "2022-03-26T18:03:22.764Z"
   },
   {
    "duration": 1199,
    "start_time": "2022-03-26T18:03:29.372Z"
   },
   {
    "duration": 61,
    "start_time": "2022-03-26T18:03:30.573Z"
   },
   {
    "duration": 15,
    "start_time": "2022-03-26T18:03:30.635Z"
   },
   {
    "duration": 24,
    "start_time": "2022-03-26T18:03:30.652Z"
   },
   {
    "duration": 5,
    "start_time": "2022-03-26T18:03:30.678Z"
   },
   {
    "duration": 25,
    "start_time": "2022-03-26T18:03:30.685Z"
   },
   {
    "duration": 28,
    "start_time": "2022-03-26T18:03:30.711Z"
   },
   {
    "duration": 5,
    "start_time": "2022-03-26T18:03:30.741Z"
   },
   {
    "duration": 6,
    "start_time": "2022-03-26T18:03:30.748Z"
   },
   {
    "duration": 17,
    "start_time": "2022-03-26T18:03:30.757Z"
   },
   {
    "duration": 402,
    "start_time": "2022-03-26T18:03:30.776Z"
   },
   {
    "duration": 113,
    "start_time": "2022-03-26T18:03:31.179Z"
   },
   {
    "duration": 2337,
    "start_time": "2022-03-26T18:03:31.293Z"
   },
   {
    "duration": 0,
    "start_time": "2022-03-26T18:03:33.632Z"
   },
   {
    "duration": 0,
    "start_time": "2022-03-26T18:03:33.633Z"
   },
   {
    "duration": 0,
    "start_time": "2022-03-26T18:03:33.634Z"
   },
   {
    "duration": 0,
    "start_time": "2022-03-26T18:03:33.636Z"
   },
   {
    "duration": 0,
    "start_time": "2022-03-26T18:03:33.637Z"
   },
   {
    "duration": 0,
    "start_time": "2022-03-26T18:03:33.638Z"
   },
   {
    "duration": 0,
    "start_time": "2022-03-26T18:03:33.639Z"
   },
   {
    "duration": 0,
    "start_time": "2022-03-26T18:03:33.640Z"
   },
   {
    "duration": 0,
    "start_time": "2022-03-26T18:03:33.642Z"
   },
   {
    "duration": 0,
    "start_time": "2022-03-26T18:03:33.643Z"
   },
   {
    "duration": 0,
    "start_time": "2022-03-26T18:03:33.644Z"
   },
   {
    "duration": 2297,
    "start_time": "2022-03-26T18:04:59.269Z"
   },
   {
    "duration": 2162,
    "start_time": "2022-03-26T18:05:09.248Z"
   },
   {
    "duration": 17,
    "start_time": "2022-03-26T18:07:48.765Z"
   },
   {
    "duration": 2138,
    "start_time": "2022-03-26T18:08:18.732Z"
   },
   {
    "duration": 2219,
    "start_time": "2022-03-26T18:08:59.706Z"
   },
   {
    "duration": 2286,
    "start_time": "2022-03-26T18:09:13.837Z"
   },
   {
    "duration": 21,
    "start_time": "2022-03-26T18:10:09.346Z"
   },
   {
    "duration": 20,
    "start_time": "2022-03-26T18:11:35.928Z"
   },
   {
    "duration": 18,
    "start_time": "2022-03-26T18:11:43.205Z"
   },
   {
    "duration": 20,
    "start_time": "2022-03-26T18:11:59.883Z"
   },
   {
    "duration": 2160,
    "start_time": "2022-03-26T18:12:19.480Z"
   },
   {
    "duration": 3929,
    "start_time": "2022-03-26T18:17:58.593Z"
   },
   {
    "duration": 2223,
    "start_time": "2022-03-26T18:18:02.699Z"
   },
   {
    "duration": 15,
    "start_time": "2022-03-26T18:18:25.608Z"
   },
   {
    "duration": 2226,
    "start_time": "2022-03-26T18:18:44.157Z"
   },
   {
    "duration": 11,
    "start_time": "2022-03-26T18:26:56.690Z"
   },
   {
    "duration": 574,
    "start_time": "2022-03-26T18:27:05.359Z"
   },
   {
    "duration": 18,
    "start_time": "2022-03-26T18:27:50.091Z"
   },
   {
    "duration": 20,
    "start_time": "2022-03-26T18:27:56.354Z"
   },
   {
    "duration": 25,
    "start_time": "2022-03-26T18:29:26.837Z"
   },
   {
    "duration": 1178,
    "start_time": "2022-03-26T18:34:54.670Z"
   },
   {
    "duration": 68,
    "start_time": "2022-03-26T18:34:55.850Z"
   },
   {
    "duration": 15,
    "start_time": "2022-03-26T18:34:55.920Z"
   },
   {
    "duration": 20,
    "start_time": "2022-03-26T18:34:55.937Z"
   },
   {
    "duration": 5,
    "start_time": "2022-03-26T18:34:55.959Z"
   },
   {
    "duration": 19,
    "start_time": "2022-03-26T18:34:55.966Z"
   },
   {
    "duration": 13,
    "start_time": "2022-03-26T18:34:55.987Z"
   },
   {
    "duration": 29,
    "start_time": "2022-03-26T18:34:56.003Z"
   },
   {
    "duration": 6,
    "start_time": "2022-03-26T18:34:56.034Z"
   },
   {
    "duration": 14,
    "start_time": "2022-03-26T18:34:56.042Z"
   },
   {
    "duration": 412,
    "start_time": "2022-03-26T18:34:56.057Z"
   },
   {
    "duration": 115,
    "start_time": "2022-03-26T18:34:56.471Z"
   },
   {
    "duration": 2407,
    "start_time": "2022-03-26T18:34:56.588Z"
   },
   {
    "duration": 0,
    "start_time": "2022-03-26T18:34:58.996Z"
   },
   {
    "duration": 0,
    "start_time": "2022-03-26T18:34:58.997Z"
   },
   {
    "duration": 0,
    "start_time": "2022-03-26T18:34:58.998Z"
   },
   {
    "duration": 0,
    "start_time": "2022-03-26T18:34:58.999Z"
   },
   {
    "duration": 0,
    "start_time": "2022-03-26T18:34:59.001Z"
   },
   {
    "duration": 0,
    "start_time": "2022-03-26T18:34:59.002Z"
   },
   {
    "duration": 0,
    "start_time": "2022-03-26T18:34:59.003Z"
   },
   {
    "duration": 0,
    "start_time": "2022-03-26T18:34:59.004Z"
   },
   {
    "duration": 0,
    "start_time": "2022-03-26T18:34:59.005Z"
   },
   {
    "duration": 0,
    "start_time": "2022-03-26T18:34:59.006Z"
   },
   {
    "duration": 0,
    "start_time": "2022-03-26T18:34:59.008Z"
   },
   {
    "duration": 28,
    "start_time": "2022-03-26T18:36:21.818Z"
   },
   {
    "duration": 141,
    "start_time": "2022-03-26T18:36:51.814Z"
   },
   {
    "duration": 2480,
    "start_time": "2022-03-26T18:36:59.708Z"
   },
   {
    "duration": 26,
    "start_time": "2022-03-26T18:37:09.685Z"
   },
   {
    "duration": 31,
    "start_time": "2022-03-26T18:37:29.762Z"
   },
   {
    "duration": 383,
    "start_time": "2022-03-26T18:37:52.723Z"
   },
   {
    "duration": 407,
    "start_time": "2022-03-26T18:38:38.242Z"
   },
   {
    "duration": 384,
    "start_time": "2022-03-26T18:40:51.677Z"
   },
   {
    "duration": 11,
    "start_time": "2022-03-26T18:56:11.878Z"
   },
   {
    "duration": 1220,
    "start_time": "2022-03-26T18:56:19.926Z"
   },
   {
    "duration": 60,
    "start_time": "2022-03-26T18:56:21.148Z"
   },
   {
    "duration": 15,
    "start_time": "2022-03-26T18:56:21.209Z"
   },
   {
    "duration": 22,
    "start_time": "2022-03-26T18:56:21.227Z"
   },
   {
    "duration": 5,
    "start_time": "2022-03-26T18:56:21.251Z"
   },
   {
    "duration": 19,
    "start_time": "2022-03-26T18:56:21.258Z"
   },
   {
    "duration": 14,
    "start_time": "2022-03-26T18:56:21.279Z"
   },
   {
    "duration": 9,
    "start_time": "2022-03-26T18:56:21.295Z"
   },
   {
    "duration": 31,
    "start_time": "2022-03-26T18:56:21.305Z"
   },
   {
    "duration": 12,
    "start_time": "2022-03-26T18:56:21.339Z"
   },
   {
    "duration": 415,
    "start_time": "2022-03-26T18:56:21.353Z"
   },
   {
    "duration": 108,
    "start_time": "2022-03-26T18:56:21.770Z"
   },
   {
    "duration": 379,
    "start_time": "2022-03-26T18:56:21.880Z"
   },
   {
    "duration": 518,
    "start_time": "2022-03-26T18:56:22.261Z"
   },
   {
    "duration": 19,
    "start_time": "2022-03-26T18:56:22.781Z"
   },
   {
    "duration": 363,
    "start_time": "2022-03-26T18:56:22.802Z"
   },
   {
    "duration": 26,
    "start_time": "2022-03-26T18:56:23.166Z"
   },
   {
    "duration": 19,
    "start_time": "2022-03-26T18:56:23.193Z"
   },
   {
    "duration": 328,
    "start_time": "2022-03-26T18:56:23.214Z"
   },
   {
    "duration": 967,
    "start_time": "2022-03-26T18:56:23.544Z"
   },
   {
    "duration": 11,
    "start_time": "2022-03-26T18:56:24.513Z"
   },
   {
    "duration": 13,
    "start_time": "2022-03-26T18:56:24.526Z"
   },
   {
    "duration": 257,
    "start_time": "2022-03-26T18:56:24.541Z"
   },
   {
    "duration": 0,
    "start_time": "2022-03-26T18:56:24.800Z"
   },
   {
    "duration": 14,
    "start_time": "2022-03-26T18:57:01.447Z"
   },
   {
    "duration": 790,
    "start_time": "2022-03-26T18:57:05.490Z"
   },
   {
    "duration": 13,
    "start_time": "2022-03-26T19:01:29.166Z"
   },
   {
    "duration": 1256,
    "start_time": "2022-03-26T19:02:09.604Z"
   },
   {
    "duration": 64,
    "start_time": "2022-03-26T19:02:10.863Z"
   },
   {
    "duration": 16,
    "start_time": "2022-03-26T19:02:10.929Z"
   },
   {
    "duration": 25,
    "start_time": "2022-03-26T19:02:10.948Z"
   },
   {
    "duration": 6,
    "start_time": "2022-03-26T19:02:10.975Z"
   },
   {
    "duration": 21,
    "start_time": "2022-03-26T19:02:10.983Z"
   },
   {
    "duration": 35,
    "start_time": "2022-03-26T19:02:11.006Z"
   },
   {
    "duration": 8,
    "start_time": "2022-03-26T19:02:11.043Z"
   },
   {
    "duration": 8,
    "start_time": "2022-03-26T19:02:11.053Z"
   },
   {
    "duration": 18,
    "start_time": "2022-03-26T19:02:11.063Z"
   },
   {
    "duration": 412,
    "start_time": "2022-03-26T19:02:11.082Z"
   },
   {
    "duration": 112,
    "start_time": "2022-03-26T19:02:11.496Z"
   },
   {
    "duration": 392,
    "start_time": "2022-03-26T19:02:11.610Z"
   },
   {
    "duration": 537,
    "start_time": "2022-03-26T19:02:12.004Z"
   },
   {
    "duration": 21,
    "start_time": "2022-03-26T19:02:12.543Z"
   },
   {
    "duration": 388,
    "start_time": "2022-03-26T19:02:12.566Z"
   },
   {
    "duration": 28,
    "start_time": "2022-03-26T19:02:12.955Z"
   },
   {
    "duration": 21,
    "start_time": "2022-03-26T19:02:12.985Z"
   },
   {
    "duration": 340,
    "start_time": "2022-03-26T19:02:13.008Z"
   },
   {
    "duration": 1382,
    "start_time": "2022-03-26T19:02:13.350Z"
   },
   {
    "duration": 14,
    "start_time": "2022-03-26T19:02:14.734Z"
   },
   {
    "duration": 26,
    "start_time": "2022-03-26T19:02:14.749Z"
   },
   {
    "duration": 263,
    "start_time": "2022-03-26T19:02:14.777Z"
   },
   {
    "duration": 0,
    "start_time": "2022-03-26T19:02:15.043Z"
   },
   {
    "duration": 737,
    "start_time": "2022-03-26T19:02:58.939Z"
   },
   {
    "duration": 16,
    "start_time": "2022-03-26T19:03:05.797Z"
   },
   {
    "duration": 1237,
    "start_time": "2022-03-26T19:03:13.832Z"
   },
   {
    "duration": 65,
    "start_time": "2022-03-26T19:03:15.071Z"
   },
   {
    "duration": 15,
    "start_time": "2022-03-26T19:03:15.138Z"
   },
   {
    "duration": 26,
    "start_time": "2022-03-26T19:03:15.156Z"
   },
   {
    "duration": 5,
    "start_time": "2022-03-26T19:03:15.183Z"
   },
   {
    "duration": 26,
    "start_time": "2022-03-26T19:03:15.190Z"
   },
   {
    "duration": 24,
    "start_time": "2022-03-26T19:03:15.217Z"
   },
   {
    "duration": 15,
    "start_time": "2022-03-26T19:03:15.243Z"
   },
   {
    "duration": 6,
    "start_time": "2022-03-26T19:03:15.260Z"
   },
   {
    "duration": 15,
    "start_time": "2022-03-26T19:03:15.269Z"
   },
   {
    "duration": 395,
    "start_time": "2022-03-26T19:03:15.286Z"
   },
   {
    "duration": 107,
    "start_time": "2022-03-26T19:03:15.683Z"
   },
   {
    "duration": 393,
    "start_time": "2022-03-26T19:03:15.791Z"
   },
   {
    "duration": 551,
    "start_time": "2022-03-26T19:03:16.186Z"
   },
   {
    "duration": 21,
    "start_time": "2022-03-26T19:03:16.739Z"
   },
   {
    "duration": 395,
    "start_time": "2022-03-26T19:03:16.761Z"
   },
   {
    "duration": 28,
    "start_time": "2022-03-26T19:03:17.158Z"
   },
   {
    "duration": 14,
    "start_time": "2022-03-26T19:03:17.188Z"
   },
   {
    "duration": 355,
    "start_time": "2022-03-26T19:03:17.204Z"
   },
   {
    "duration": 771,
    "start_time": "2022-03-26T19:03:17.561Z"
   },
   {
    "duration": 15,
    "start_time": "2022-03-26T19:03:18.334Z"
   },
   {
    "duration": 16,
    "start_time": "2022-03-26T19:03:18.350Z"
   },
   {
    "duration": 376,
    "start_time": "2022-03-26T19:03:18.368Z"
   },
   {
    "duration": 402,
    "start_time": "2022-03-26T19:03:18.746Z"
   },
   {
    "duration": 2278,
    "start_time": "2022-03-26T19:05:55.943Z"
   },
   {
    "duration": 6,
    "start_time": "2022-03-26T19:06:03.889Z"
   },
   {
    "duration": 4,
    "start_time": "2022-03-26T19:06:39.224Z"
   },
   {
    "duration": 313,
    "start_time": "2022-03-26T19:06:59.119Z"
   },
   {
    "duration": 10,
    "start_time": "2022-03-26T19:07:07.975Z"
   },
   {
    "duration": 21,
    "start_time": "2022-03-26T19:08:37.946Z"
   },
   {
    "duration": 20,
    "start_time": "2022-03-26T19:09:06.656Z"
   },
   {
    "duration": 14,
    "start_time": "2022-03-26T19:09:42.354Z"
   },
   {
    "duration": 315,
    "start_time": "2022-03-26T19:10:25.518Z"
   },
   {
    "duration": 327,
    "start_time": "2022-03-26T19:13:30.602Z"
   },
   {
    "duration": 177,
    "start_time": "2022-03-26T19:15:08.673Z"
   },
   {
    "duration": 152,
    "start_time": "2022-03-26T19:15:17.897Z"
   },
   {
    "duration": 310,
    "start_time": "2022-03-26T19:15:37.266Z"
   },
   {
    "duration": 1211,
    "start_time": "2022-03-26T19:26:59.960Z"
   },
   {
    "duration": 66,
    "start_time": "2022-03-26T19:27:01.173Z"
   },
   {
    "duration": 18,
    "start_time": "2022-03-26T19:27:01.241Z"
   },
   {
    "duration": 24,
    "start_time": "2022-03-26T19:27:01.262Z"
   },
   {
    "duration": 7,
    "start_time": "2022-03-26T19:27:01.289Z"
   },
   {
    "duration": 40,
    "start_time": "2022-03-26T19:27:01.298Z"
   },
   {
    "duration": 25,
    "start_time": "2022-03-26T19:27:01.340Z"
   },
   {
    "duration": 31,
    "start_time": "2022-03-26T19:27:01.367Z"
   },
   {
    "duration": 23,
    "start_time": "2022-03-26T19:27:01.400Z"
   },
   {
    "duration": 23,
    "start_time": "2022-03-26T19:27:01.425Z"
   },
   {
    "duration": 442,
    "start_time": "2022-03-26T19:27:01.450Z"
   },
   {
    "duration": 116,
    "start_time": "2022-03-26T19:27:01.894Z"
   },
   {
    "duration": 427,
    "start_time": "2022-03-26T19:27:02.012Z"
   },
   {
    "duration": 564,
    "start_time": "2022-03-26T19:27:02.440Z"
   },
   {
    "duration": 29,
    "start_time": "2022-03-26T19:27:03.006Z"
   },
   {
    "duration": 383,
    "start_time": "2022-03-26T19:27:03.037Z"
   },
   {
    "duration": 33,
    "start_time": "2022-03-26T19:27:03.422Z"
   },
   {
    "duration": 19,
    "start_time": "2022-03-26T19:27:03.457Z"
   },
   {
    "duration": 344,
    "start_time": "2022-03-26T19:27:03.478Z"
   },
   {
    "duration": 1183,
    "start_time": "2022-03-26T19:27:03.824Z"
   },
   {
    "duration": 16,
    "start_time": "2022-03-26T19:27:05.009Z"
   },
   {
    "duration": 31,
    "start_time": "2022-03-26T19:27:05.026Z"
   },
   {
    "duration": 353,
    "start_time": "2022-03-26T19:27:05.059Z"
   },
   {
    "duration": 385,
    "start_time": "2022-03-26T19:27:05.414Z"
   }
  ],
  "kernelspec": {
   "display_name": "Python 3 (ipykernel)",
   "language": "python",
   "name": "python3"
  },
  "language_info": {
   "codemirror_mode": {
    "name": "ipython",
    "version": 3
   },
   "file_extension": ".py",
   "mimetype": "text/x-python",
   "name": "python",
   "nbconvert_exporter": "python",
   "pygments_lexer": "ipython3",
   "version": "3.9.12"
  },
  "toc": {
   "base_numbering": 1,
   "nav_menu": {},
   "number_sections": true,
   "sideBar": true,
   "skip_h1_title": true,
   "title_cell": "Table of Contents",
   "title_sidebar": "Contents",
   "toc_cell": false,
   "toc_position": {
    "height": "calc(100% - 180px)",
    "left": "10px",
    "top": "150px",
    "width": "366.4px"
   },
   "toc_section_display": true,
   "toc_window_display": false
  }
 },
 "nbformat": 4,
 "nbformat_minor": 2
}
