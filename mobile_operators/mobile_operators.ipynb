{
 "cells": [
  {
   "cell_type": "markdown",
   "metadata": {},
   "source": [
    "Цель проекта: изучить выборку пользователей  \n",
    "\n",
    "Тариф «Смарт»\n",
    "\n",
    "    Ежемесячная плата: 550 рублей\n",
    "    Включено 500 минут разговора, 50 сообщений и 15 Гб интернет-трафика\n",
    "    Стоимость услуг сверх тарифного пакета: 1. минута разговора: 3 рубля («Мегалайн» всегда округляет вверх значения минут и мегабайтов. Если пользователь проговорил всего 1 секунду, в тарифе засчитывается целая минута); 2. сообщение: 3 рубля; 3. 1 Гб интернет-трафика: 200 рублей.\n",
    "\n",
    "Тариф «Ультра»\n",
    "\n",
    "    Ежемесячная плата: 1950 рублей\n",
    "    Включено 3000 минут разговора, 1000 сообщений и 30 Гб интернет-трафика\n",
    "    Стоимость услуг сверх тарифного пакета: 1. минута разговора: 1 рубль; 2. сообщение: 1 рубль; 3. 1 Гб интернет-трафика: 150 рублей."
   ]
  },
  {
   "cell_type": "code",
   "execution_count": 25,
   "metadata": {},
   "outputs": [],
   "source": [
    "import pandas as pd\n",
    "import matplotlib.pyplot as plt\n",
    "import math\n",
    "import numpy as np\n",
    "from scipy import stats as st\n",
    "\n",
    "calls = pd.read_csv('/datasets/calls.csv')\n",
    "internet = pd.read_csv('/datasets/internet.csv')\n",
    "messages = pd.read_csv('/datasets/messages.csv')\n",
    "tariffs = pd.read_csv('/datasets/tariffs.csv')\n",
    "users = pd.read_csv('/datasets/users.csv')"
   ]
  },
  {
   "cell_type": "code",
   "execution_count": 26,
   "metadata": {},
   "outputs": [
    {
     "name": "stdout",
     "output_type": "stream",
     "text": [
      "<class 'pandas.core.frame.DataFrame'>\n",
      "RangeIndex: 202607 entries, 0 to 202606\n",
      "Data columns (total 4 columns):\n",
      "id           202607 non-null object\n",
      "call_date    202607 non-null object\n",
      "duration     202607 non-null float64\n",
      "user_id      202607 non-null int64\n",
      "dtypes: float64(1), int64(1), object(2)\n",
      "memory usage: 6.2+ MB\n"
     ]
    }
   ],
   "source": [
    "calls.info()"
   ]
  },
  {
   "cell_type": "markdown",
   "metadata": {},
   "source": [
    "Пропусков нет, колонку с датой надо привести к нужному формату. "
   ]
  },
  {
   "cell_type": "code",
   "execution_count": 27,
   "metadata": {},
   "outputs": [
    {
     "name": "stdout",
     "output_type": "stream",
     "text": [
      "<class 'pandas.core.frame.DataFrame'>\n",
      "RangeIndex: 149396 entries, 0 to 149395\n",
      "Data columns (total 5 columns):\n",
      "Unnamed: 0      149396 non-null int64\n",
      "id              149396 non-null object\n",
      "mb_used         149396 non-null float64\n",
      "session_date    149396 non-null object\n",
      "user_id         149396 non-null int64\n",
      "dtypes: float64(1), int64(2), object(2)\n",
      "memory usage: 5.7+ MB\n"
     ]
    }
   ],
   "source": [
    "internet.info()"
   ]
  },
  {
   "cell_type": "markdown",
   "metadata": {},
   "source": [
    "Пропусков нет, дату надо привести к нужному формату."
   ]
  },
  {
   "cell_type": "code",
   "execution_count": 28,
   "metadata": {},
   "outputs": [
    {
     "name": "stdout",
     "output_type": "stream",
     "text": [
      "<class 'pandas.core.frame.DataFrame'>\n",
      "RangeIndex: 123036 entries, 0 to 123035\n",
      "Data columns (total 3 columns):\n",
      "id              123036 non-null object\n",
      "message_date    123036 non-null object\n",
      "user_id         123036 non-null int64\n",
      "dtypes: int64(1), object(2)\n",
      "memory usage: 2.8+ MB\n"
     ]
    }
   ],
   "source": [
    "messages.info()"
   ]
  },
  {
   "cell_type": "markdown",
   "metadata": {},
   "source": [
    "Колонку с датами сообщений надо привести к нужному формату."
   ]
  },
  {
   "cell_type": "code",
   "execution_count": 29,
   "metadata": {},
   "outputs": [
    {
     "name": "stdout",
     "output_type": "stream",
     "text": [
      "<class 'pandas.core.frame.DataFrame'>\n",
      "RangeIndex: 2 entries, 0 to 1\n",
      "Data columns (total 8 columns):\n",
      "messages_included        2 non-null int64\n",
      "mb_per_month_included    2 non-null int64\n",
      "minutes_included         2 non-null int64\n",
      "rub_monthly_fee          2 non-null int64\n",
      "rub_per_gb               2 non-null int64\n",
      "rub_per_message          2 non-null int64\n",
      "rub_per_minute           2 non-null int64\n",
      "tariff_name              2 non-null object\n",
      "dtypes: int64(7), object(1)\n",
      "memory usage: 256.0+ bytes\n"
     ]
    }
   ],
   "source": [
    "tariffs.info()"
   ]
  },
  {
   "cell_type": "markdown",
   "metadata": {},
   "source": [
    "По информации таблица не требует никаких действий."
   ]
  },
  {
   "cell_type": "code",
   "execution_count": 30,
   "metadata": {},
   "outputs": [
    {
     "name": "stdout",
     "output_type": "stream",
     "text": [
      "<class 'pandas.core.frame.DataFrame'>\n",
      "RangeIndex: 500 entries, 0 to 499\n",
      "Data columns (total 8 columns):\n",
      "user_id       500 non-null int64\n",
      "age           500 non-null int64\n",
      "churn_date    38 non-null object\n",
      "city          500 non-null object\n",
      "first_name    500 non-null object\n",
      "last_name     500 non-null object\n",
      "reg_date      500 non-null object\n",
      "tariff        500 non-null object\n",
      "dtypes: int64(2), object(6)\n",
      "memory usage: 31.4+ KB\n"
     ]
    }
   ],
   "source": [
    "users.info()"
   ]
  },
  {
   "cell_type": "markdown",
   "metadata": {},
   "source": [
    "Колонки с датами надо приветси к нужному формату. Пропуски в churn_date по условию значат, что тариф еще действовал на момент выгрузки. Оставим пока их так."
   ]
  },
  {
   "cell_type": "markdown",
   "metadata": {},
   "source": [
    "В данных есть звонки с нулевой продолжительностью. Это не ошибка: нулями обозначены пропущенные звонки, поэтому их не нужно удалять.\n",
    "\n",
    "По проекту у нас поставлены следующие задачи для предобработки данных:\n",
    "\n",
    "    просчитать количество сделанных звонков и израсходованных минут разговора по месяцам;\n",
    "    просчитать количество отправленных сообщений по месяцам;\n",
    "    просчитать объем израсходованного интернет-трафика по месяцам;\n",
    "    узнать помесячную выручку с каждого пользователя (вычтите бесплатный лимит из суммарного количества звонков, сообщений и интернет-трафика; остаток умножьте на значение из тарифного плана; прибавьте абонентскую плату, соответствующую тарифному плану)."
   ]
  },
  {
   "cell_type": "code",
   "execution_count": 31,
   "metadata": {},
   "outputs": [
    {
     "data": {
      "text/html": [
       "<div>\n",
       "<style scoped>\n",
       "    .dataframe tbody tr th:only-of-type {\n",
       "        vertical-align: middle;\n",
       "    }\n",
       "\n",
       "    .dataframe tbody tr th {\n",
       "        vertical-align: top;\n",
       "    }\n",
       "\n",
       "    .dataframe thead th {\n",
       "        text-align: right;\n",
       "    }\n",
       "</style>\n",
       "<table border=\"1\" class=\"dataframe\">\n",
       "  <thead>\n",
       "    <tr style=\"text-align: right;\">\n",
       "      <th></th>\n",
       "      <th>id</th>\n",
       "      <th>call_date</th>\n",
       "      <th>duration</th>\n",
       "      <th>user_id</th>\n",
       "    </tr>\n",
       "  </thead>\n",
       "  <tbody>\n",
       "    <tr>\n",
       "      <td>0</td>\n",
       "      <td>1000_0</td>\n",
       "      <td>2018-07-25</td>\n",
       "      <td>0.00</td>\n",
       "      <td>1000</td>\n",
       "    </tr>\n",
       "    <tr>\n",
       "      <td>1</td>\n",
       "      <td>1000_1</td>\n",
       "      <td>2018-08-17</td>\n",
       "      <td>0.00</td>\n",
       "      <td>1000</td>\n",
       "    </tr>\n",
       "    <tr>\n",
       "      <td>2</td>\n",
       "      <td>1000_2</td>\n",
       "      <td>2018-06-11</td>\n",
       "      <td>2.85</td>\n",
       "      <td>1000</td>\n",
       "    </tr>\n",
       "    <tr>\n",
       "      <td>3</td>\n",
       "      <td>1000_3</td>\n",
       "      <td>2018-09-21</td>\n",
       "      <td>13.80</td>\n",
       "      <td>1000</td>\n",
       "    </tr>\n",
       "    <tr>\n",
       "      <td>4</td>\n",
       "      <td>1000_4</td>\n",
       "      <td>2018-12-15</td>\n",
       "      <td>5.18</td>\n",
       "      <td>1000</td>\n",
       "    </tr>\n",
       "  </tbody>\n",
       "</table>\n",
       "</div>"
      ],
      "text/plain": [
       "       id   call_date  duration  user_id\n",
       "0  1000_0  2018-07-25      0.00     1000\n",
       "1  1000_1  2018-08-17      0.00     1000\n",
       "2  1000_2  2018-06-11      2.85     1000\n",
       "3  1000_3  2018-09-21     13.80     1000\n",
       "4  1000_4  2018-12-15      5.18     1000"
      ]
     },
     "execution_count": 31,
     "metadata": {},
     "output_type": "execute_result"
    }
   ],
   "source": [
    "calls.head(5)"
   ]
  },
  {
   "cell_type": "code",
   "execution_count": 32,
   "metadata": {},
   "outputs": [],
   "source": [
    "calls['call_date']=pd.to_datetime(calls['call_date'],format='%Y-%m-%d')"
   ]
  },
  {
   "cell_type": "markdown",
   "metadata": {},
   "source": [
    "После перевода в дату добавим к таблице колонку с месяцем. Также округлим продолжительность звонков в большую сторону, это также прописано в условиях проекта. И изменим тип данных."
   ]
  },
  {
   "cell_type": "code",
   "execution_count": 33,
   "metadata": {},
   "outputs": [],
   "source": [
    "calls['month'] = pd.DatetimeIndex(calls['call_date']).month"
   ]
  },
  {
   "cell_type": "code",
   "execution_count": 34,
   "metadata": {},
   "outputs": [],
   "source": [
    "calls['duration'] = calls['duration'].apply(np.ceil).astype('int') "
   ]
  },
  {
   "cell_type": "code",
   "execution_count": 35,
   "metadata": {},
   "outputs": [
    {
     "data": {
      "text/html": [
       "<div>\n",
       "<style scoped>\n",
       "    .dataframe tbody tr th:only-of-type {\n",
       "        vertical-align: middle;\n",
       "    }\n",
       "\n",
       "    .dataframe tbody tr th {\n",
       "        vertical-align: top;\n",
       "    }\n",
       "\n",
       "    .dataframe thead th {\n",
       "        text-align: right;\n",
       "    }\n",
       "</style>\n",
       "<table border=\"1\" class=\"dataframe\">\n",
       "  <thead>\n",
       "    <tr style=\"text-align: right;\">\n",
       "      <th></th>\n",
       "      <th>id</th>\n",
       "      <th>call_date</th>\n",
       "      <th>duration</th>\n",
       "      <th>user_id</th>\n",
       "      <th>month</th>\n",
       "    </tr>\n",
       "  </thead>\n",
       "  <tbody>\n",
       "    <tr>\n",
       "      <td>0</td>\n",
       "      <td>1000_0</td>\n",
       "      <td>2018-07-25</td>\n",
       "      <td>0</td>\n",
       "      <td>1000</td>\n",
       "      <td>7</td>\n",
       "    </tr>\n",
       "    <tr>\n",
       "      <td>1</td>\n",
       "      <td>1000_1</td>\n",
       "      <td>2018-08-17</td>\n",
       "      <td>0</td>\n",
       "      <td>1000</td>\n",
       "      <td>8</td>\n",
       "    </tr>\n",
       "    <tr>\n",
       "      <td>2</td>\n",
       "      <td>1000_2</td>\n",
       "      <td>2018-06-11</td>\n",
       "      <td>3</td>\n",
       "      <td>1000</td>\n",
       "      <td>6</td>\n",
       "    </tr>\n",
       "    <tr>\n",
       "      <td>3</td>\n",
       "      <td>1000_3</td>\n",
       "      <td>2018-09-21</td>\n",
       "      <td>14</td>\n",
       "      <td>1000</td>\n",
       "      <td>9</td>\n",
       "    </tr>\n",
       "    <tr>\n",
       "      <td>4</td>\n",
       "      <td>1000_4</td>\n",
       "      <td>2018-12-15</td>\n",
       "      <td>6</td>\n",
       "      <td>1000</td>\n",
       "      <td>12</td>\n",
       "    </tr>\n",
       "  </tbody>\n",
       "</table>\n",
       "</div>"
      ],
      "text/plain": [
       "       id  call_date  duration  user_id  month\n",
       "0  1000_0 2018-07-25         0     1000      7\n",
       "1  1000_1 2018-08-17         0     1000      8\n",
       "2  1000_2 2018-06-11         3     1000      6\n",
       "3  1000_3 2018-09-21        14     1000      9\n",
       "4  1000_4 2018-12-15         6     1000     12"
      ]
     },
     "execution_count": 35,
     "metadata": {},
     "output_type": "execute_result"
    }
   ],
   "source": [
    "calls.head(5)"
   ]
  },
  {
   "cell_type": "markdown",
   "metadata": {},
   "source": [
    "В таблице с данными по использованию интернета колонку с датой переведем в формат даты. Добавим в таблицу колонку с месяцем. Также переведем мегабайты в гигабайты и округлим в большую сторону."
   ]
  },
  {
   "cell_type": "code",
   "execution_count": 36,
   "metadata": {},
   "outputs": [],
   "source": [
    "internet['session_date']=pd.to_datetime(internet['session_date'],format='%Y-%m-%d')"
   ]
  },
  {
   "cell_type": "code",
   "execution_count": 37,
   "metadata": {},
   "outputs": [],
   "source": [
    "internet['month'] = pd.DatetimeIndex(internet['session_date']).month"
   ]
  },
  {
   "cell_type": "code",
   "execution_count": 38,
   "metadata": {},
   "outputs": [
    {
     "data": {
      "text/html": [
       "<div>\n",
       "<style scoped>\n",
       "    .dataframe tbody tr th:only-of-type {\n",
       "        vertical-align: middle;\n",
       "    }\n",
       "\n",
       "    .dataframe tbody tr th {\n",
       "        vertical-align: top;\n",
       "    }\n",
       "\n",
       "    .dataframe thead th {\n",
       "        text-align: right;\n",
       "    }\n",
       "</style>\n",
       "<table border=\"1\" class=\"dataframe\">\n",
       "  <thead>\n",
       "    <tr style=\"text-align: right;\">\n",
       "      <th></th>\n",
       "      <th>Unnamed: 0</th>\n",
       "      <th>id</th>\n",
       "      <th>mb_used</th>\n",
       "      <th>session_date</th>\n",
       "      <th>user_id</th>\n",
       "      <th>month</th>\n",
       "    </tr>\n",
       "  </thead>\n",
       "  <tbody>\n",
       "    <tr>\n",
       "      <td>0</td>\n",
       "      <td>0</td>\n",
       "      <td>1000_0</td>\n",
       "      <td>112.95</td>\n",
       "      <td>2018-11-25</td>\n",
       "      <td>1000</td>\n",
       "      <td>11</td>\n",
       "    </tr>\n",
       "    <tr>\n",
       "      <td>1</td>\n",
       "      <td>1</td>\n",
       "      <td>1000_1</td>\n",
       "      <td>1052.81</td>\n",
       "      <td>2018-09-07</td>\n",
       "      <td>1000</td>\n",
       "      <td>9</td>\n",
       "    </tr>\n",
       "    <tr>\n",
       "      <td>2</td>\n",
       "      <td>2</td>\n",
       "      <td>1000_2</td>\n",
       "      <td>1197.26</td>\n",
       "      <td>2018-06-25</td>\n",
       "      <td>1000</td>\n",
       "      <td>6</td>\n",
       "    </tr>\n",
       "    <tr>\n",
       "      <td>3</td>\n",
       "      <td>3</td>\n",
       "      <td>1000_3</td>\n",
       "      <td>550.27</td>\n",
       "      <td>2018-08-22</td>\n",
       "      <td>1000</td>\n",
       "      <td>8</td>\n",
       "    </tr>\n",
       "    <tr>\n",
       "      <td>4</td>\n",
       "      <td>4</td>\n",
       "      <td>1000_4</td>\n",
       "      <td>302.56</td>\n",
       "      <td>2018-09-24</td>\n",
       "      <td>1000</td>\n",
       "      <td>9</td>\n",
       "    </tr>\n",
       "  </tbody>\n",
       "</table>\n",
       "</div>"
      ],
      "text/plain": [
       "   Unnamed: 0      id  mb_used session_date  user_id  month\n",
       "0           0  1000_0   112.95   2018-11-25     1000     11\n",
       "1           1  1000_1  1052.81   2018-09-07     1000      9\n",
       "2           2  1000_2  1197.26   2018-06-25     1000      6\n",
       "3           3  1000_3   550.27   2018-08-22     1000      8\n",
       "4           4  1000_4   302.56   2018-09-24     1000      9"
      ]
     },
     "execution_count": 38,
     "metadata": {},
     "output_type": "execute_result"
    }
   ],
   "source": [
    "internet.head(5)"
   ]
  },
  {
   "cell_type": "code",
   "execution_count": 39,
   "metadata": {},
   "outputs": [],
   "source": [
    "internet['gb_used'] = (internet['mb_used'] / 1024).apply(np.ceil)"
   ]
  },
  {
   "cell_type": "code",
   "execution_count": 40,
   "metadata": {},
   "outputs": [],
   "source": [
    "del internet['Unnamed: 0']"
   ]
  },
  {
   "cell_type": "code",
   "execution_count": 41,
   "metadata": {},
   "outputs": [
    {
     "data": {
      "text/html": [
       "<div>\n",
       "<style scoped>\n",
       "    .dataframe tbody tr th:only-of-type {\n",
       "        vertical-align: middle;\n",
       "    }\n",
       "\n",
       "    .dataframe tbody tr th {\n",
       "        vertical-align: top;\n",
       "    }\n",
       "\n",
       "    .dataframe thead th {\n",
       "        text-align: right;\n",
       "    }\n",
       "</style>\n",
       "<table border=\"1\" class=\"dataframe\">\n",
       "  <thead>\n",
       "    <tr style=\"text-align: right;\">\n",
       "      <th></th>\n",
       "      <th>id</th>\n",
       "      <th>mb_used</th>\n",
       "      <th>session_date</th>\n",
       "      <th>user_id</th>\n",
       "      <th>month</th>\n",
       "      <th>gb_used</th>\n",
       "    </tr>\n",
       "  </thead>\n",
       "  <tbody>\n",
       "    <tr>\n",
       "      <td>0</td>\n",
       "      <td>1000_0</td>\n",
       "      <td>112.95</td>\n",
       "      <td>2018-11-25</td>\n",
       "      <td>1000</td>\n",
       "      <td>11</td>\n",
       "      <td>1.0</td>\n",
       "    </tr>\n",
       "    <tr>\n",
       "      <td>1</td>\n",
       "      <td>1000_1</td>\n",
       "      <td>1052.81</td>\n",
       "      <td>2018-09-07</td>\n",
       "      <td>1000</td>\n",
       "      <td>9</td>\n",
       "      <td>2.0</td>\n",
       "    </tr>\n",
       "    <tr>\n",
       "      <td>2</td>\n",
       "      <td>1000_2</td>\n",
       "      <td>1197.26</td>\n",
       "      <td>2018-06-25</td>\n",
       "      <td>1000</td>\n",
       "      <td>6</td>\n",
       "      <td>2.0</td>\n",
       "    </tr>\n",
       "    <tr>\n",
       "      <td>3</td>\n",
       "      <td>1000_3</td>\n",
       "      <td>550.27</td>\n",
       "      <td>2018-08-22</td>\n",
       "      <td>1000</td>\n",
       "      <td>8</td>\n",
       "      <td>1.0</td>\n",
       "    </tr>\n",
       "    <tr>\n",
       "      <td>4</td>\n",
       "      <td>1000_4</td>\n",
       "      <td>302.56</td>\n",
       "      <td>2018-09-24</td>\n",
       "      <td>1000</td>\n",
       "      <td>9</td>\n",
       "      <td>1.0</td>\n",
       "    </tr>\n",
       "  </tbody>\n",
       "</table>\n",
       "</div>"
      ],
      "text/plain": [
       "       id  mb_used session_date  user_id  month  gb_used\n",
       "0  1000_0   112.95   2018-11-25     1000     11      1.0\n",
       "1  1000_1  1052.81   2018-09-07     1000      9      2.0\n",
       "2  1000_2  1197.26   2018-06-25     1000      6      2.0\n",
       "3  1000_3   550.27   2018-08-22     1000      8      1.0\n",
       "4  1000_4   302.56   2018-09-24     1000      9      1.0"
      ]
     },
     "execution_count": 41,
     "metadata": {},
     "output_type": "execute_result"
    }
   ],
   "source": [
    "internet.head(5)"
   ]
  },
  {
   "cell_type": "markdown",
   "metadata": {},
   "source": [
    "В таблицах с информацией о сообщениях и пользователях приведем нужные колонки к формату даты. В таблицу к сообщениям надо добавить колонку с месяцем."
   ]
  },
  {
   "cell_type": "code",
   "execution_count": 42,
   "metadata": {},
   "outputs": [],
   "source": [
    "messages['message_date']=pd.to_datetime(messages['message_date'],format='%Y-%m-%d')"
   ]
  },
  {
   "cell_type": "code",
   "execution_count": 43,
   "metadata": {},
   "outputs": [],
   "source": [
    "messages['month'] = pd.DatetimeIndex(messages['message_date']).month"
   ]
  },
  {
   "cell_type": "code",
   "execution_count": 44,
   "metadata": {},
   "outputs": [],
   "source": [
    "users['churn_date']=pd.to_datetime(users['churn_date'],format='%Y-%m-%d')"
   ]
  },
  {
   "cell_type": "code",
   "execution_count": 45,
   "metadata": {},
   "outputs": [],
   "source": [
    "users['reg_date']=pd.to_datetime(users['reg_date'],format='%Y-%m-%d')"
   ]
  },
  {
   "cell_type": "code",
   "execution_count": 46,
   "metadata": {},
   "outputs": [
    {
     "data": {
      "text/html": [
       "<div>\n",
       "<style scoped>\n",
       "    .dataframe tbody tr th:only-of-type {\n",
       "        vertical-align: middle;\n",
       "    }\n",
       "\n",
       "    .dataframe tbody tr th {\n",
       "        vertical-align: top;\n",
       "    }\n",
       "\n",
       "    .dataframe thead th {\n",
       "        text-align: right;\n",
       "    }\n",
       "</style>\n",
       "<table border=\"1\" class=\"dataframe\">\n",
       "  <thead>\n",
       "    <tr style=\"text-align: right;\">\n",
       "      <th></th>\n",
       "      <th>user_id</th>\n",
       "      <th>age</th>\n",
       "      <th>churn_date</th>\n",
       "      <th>city</th>\n",
       "      <th>first_name</th>\n",
       "      <th>last_name</th>\n",
       "      <th>reg_date</th>\n",
       "      <th>tariff</th>\n",
       "    </tr>\n",
       "  </thead>\n",
       "  <tbody>\n",
       "    <tr>\n",
       "      <td>0</td>\n",
       "      <td>1000</td>\n",
       "      <td>52</td>\n",
       "      <td>NaT</td>\n",
       "      <td>Краснодар</td>\n",
       "      <td>Рафаил</td>\n",
       "      <td>Верещагин</td>\n",
       "      <td>2018-05-25</td>\n",
       "      <td>ultra</td>\n",
       "    </tr>\n",
       "    <tr>\n",
       "      <td>1</td>\n",
       "      <td>1001</td>\n",
       "      <td>41</td>\n",
       "      <td>NaT</td>\n",
       "      <td>Москва</td>\n",
       "      <td>Иван</td>\n",
       "      <td>Ежов</td>\n",
       "      <td>2018-11-01</td>\n",
       "      <td>smart</td>\n",
       "    </tr>\n",
       "    <tr>\n",
       "      <td>2</td>\n",
       "      <td>1002</td>\n",
       "      <td>59</td>\n",
       "      <td>NaT</td>\n",
       "      <td>Стерлитамак</td>\n",
       "      <td>Евгений</td>\n",
       "      <td>Абрамович</td>\n",
       "      <td>2018-06-17</td>\n",
       "      <td>smart</td>\n",
       "    </tr>\n",
       "    <tr>\n",
       "      <td>3</td>\n",
       "      <td>1003</td>\n",
       "      <td>23</td>\n",
       "      <td>NaT</td>\n",
       "      <td>Москва</td>\n",
       "      <td>Белла</td>\n",
       "      <td>Белякова</td>\n",
       "      <td>2018-08-17</td>\n",
       "      <td>ultra</td>\n",
       "    </tr>\n",
       "    <tr>\n",
       "      <td>4</td>\n",
       "      <td>1004</td>\n",
       "      <td>68</td>\n",
       "      <td>NaT</td>\n",
       "      <td>Новокузнецк</td>\n",
       "      <td>Татьяна</td>\n",
       "      <td>Авдеенко</td>\n",
       "      <td>2018-05-14</td>\n",
       "      <td>ultra</td>\n",
       "    </tr>\n",
       "  </tbody>\n",
       "</table>\n",
       "</div>"
      ],
      "text/plain": [
       "   user_id  age churn_date         city first_name  last_name   reg_date  \\\n",
       "0     1000   52        NaT    Краснодар     Рафаил  Верещагин 2018-05-25   \n",
       "1     1001   41        NaT       Москва       Иван       Ежов 2018-11-01   \n",
       "2     1002   59        NaT  Стерлитамак    Евгений  Абрамович 2018-06-17   \n",
       "3     1003   23        NaT       Москва      Белла   Белякова 2018-08-17   \n",
       "4     1004   68        NaT  Новокузнецк    Татьяна   Авдеенко 2018-05-14   \n",
       "\n",
       "  tariff  \n",
       "0  ultra  \n",
       "1  smart  \n",
       "2  smart  \n",
       "3  ultra  \n",
       "4  ultra  "
      ]
     },
     "execution_count": 46,
     "metadata": {},
     "output_type": "execute_result"
    }
   ],
   "source": [
    "users.head(5)"
   ]
  },
  {
   "cell_type": "markdown",
   "metadata": {},
   "source": [
    "Добавив колонки и изменив типы данных, приступим к сборке общей таблицы. Сгруппируем данные по пользователям помесячно, суммируем звонки и потраченный интернет, подсчитаем количество сообщений. Объеденим таблицы.   "
   ]
  },
  {
   "cell_type": "code",
   "execution_count": 47,
   "metadata": {},
   "outputs": [
    {
     "data": {
      "text/html": [
       "<div>\n",
       "<style scoped>\n",
       "    .dataframe tbody tr th:only-of-type {\n",
       "        vertical-align: middle;\n",
       "    }\n",
       "\n",
       "    .dataframe tbody tr th {\n",
       "        vertical-align: top;\n",
       "    }\n",
       "\n",
       "    .dataframe thead th {\n",
       "        text-align: right;\n",
       "    }\n",
       "</style>\n",
       "<table border=\"1\" class=\"dataframe\">\n",
       "  <thead>\n",
       "    <tr style=\"text-align: right;\">\n",
       "      <th></th>\n",
       "      <th>user_id</th>\n",
       "      <th>month</th>\n",
       "      <th>total_calls</th>\n",
       "      <th>duration</th>\n",
       "      <th>mb_used</th>\n",
       "      <th>messages</th>\n",
       "      <th>age</th>\n",
       "      <th>churn_date</th>\n",
       "      <th>city</th>\n",
       "      <th>first_name</th>\n",
       "      <th>...</th>\n",
       "      <th>reg_date</th>\n",
       "      <th>tariff</th>\n",
       "      <th>messages_included</th>\n",
       "      <th>mb_per_month_included</th>\n",
       "      <th>minutes_included</th>\n",
       "      <th>rub_monthly_fee</th>\n",
       "      <th>rub_per_gb</th>\n",
       "      <th>rub_per_message</th>\n",
       "      <th>rub_per_minute</th>\n",
       "      <th>tariff_name</th>\n",
       "    </tr>\n",
       "  </thead>\n",
       "  <tbody>\n",
       "    <tr>\n",
       "      <td>0</td>\n",
       "      <td>1000</td>\n",
       "      <td>5</td>\n",
       "      <td>22.0</td>\n",
       "      <td>159.0</td>\n",
       "      <td>2253.49</td>\n",
       "      <td>22.0</td>\n",
       "      <td>52</td>\n",
       "      <td>NaT</td>\n",
       "      <td>Краснодар</td>\n",
       "      <td>Рафаил</td>\n",
       "      <td>...</td>\n",
       "      <td>2018-05-25</td>\n",
       "      <td>ultra</td>\n",
       "      <td>1000</td>\n",
       "      <td>30720</td>\n",
       "      <td>3000</td>\n",
       "      <td>1950</td>\n",
       "      <td>150</td>\n",
       "      <td>1</td>\n",
       "      <td>1</td>\n",
       "      <td>ultra</td>\n",
       "    </tr>\n",
       "    <tr>\n",
       "      <td>1</td>\n",
       "      <td>1000</td>\n",
       "      <td>6</td>\n",
       "      <td>43.0</td>\n",
       "      <td>172.0</td>\n",
       "      <td>23233.77</td>\n",
       "      <td>60.0</td>\n",
       "      <td>52</td>\n",
       "      <td>NaT</td>\n",
       "      <td>Краснодар</td>\n",
       "      <td>Рафаил</td>\n",
       "      <td>...</td>\n",
       "      <td>2018-05-25</td>\n",
       "      <td>ultra</td>\n",
       "      <td>1000</td>\n",
       "      <td>30720</td>\n",
       "      <td>3000</td>\n",
       "      <td>1950</td>\n",
       "      <td>150</td>\n",
       "      <td>1</td>\n",
       "      <td>1</td>\n",
       "      <td>ultra</td>\n",
       "    </tr>\n",
       "    <tr>\n",
       "      <td>2</td>\n",
       "      <td>1000</td>\n",
       "      <td>7</td>\n",
       "      <td>47.0</td>\n",
       "      <td>340.0</td>\n",
       "      <td>14003.64</td>\n",
       "      <td>75.0</td>\n",
       "      <td>52</td>\n",
       "      <td>NaT</td>\n",
       "      <td>Краснодар</td>\n",
       "      <td>Рафаил</td>\n",
       "      <td>...</td>\n",
       "      <td>2018-05-25</td>\n",
       "      <td>ultra</td>\n",
       "      <td>1000</td>\n",
       "      <td>30720</td>\n",
       "      <td>3000</td>\n",
       "      <td>1950</td>\n",
       "      <td>150</td>\n",
       "      <td>1</td>\n",
       "      <td>1</td>\n",
       "      <td>ultra</td>\n",
       "    </tr>\n",
       "    <tr>\n",
       "      <td>3</td>\n",
       "      <td>1000</td>\n",
       "      <td>8</td>\n",
       "      <td>52.0</td>\n",
       "      <td>408.0</td>\n",
       "      <td>14055.93</td>\n",
       "      <td>81.0</td>\n",
       "      <td>52</td>\n",
       "      <td>NaT</td>\n",
       "      <td>Краснодар</td>\n",
       "      <td>Рафаил</td>\n",
       "      <td>...</td>\n",
       "      <td>2018-05-25</td>\n",
       "      <td>ultra</td>\n",
       "      <td>1000</td>\n",
       "      <td>30720</td>\n",
       "      <td>3000</td>\n",
       "      <td>1950</td>\n",
       "      <td>150</td>\n",
       "      <td>1</td>\n",
       "      <td>1</td>\n",
       "      <td>ultra</td>\n",
       "    </tr>\n",
       "    <tr>\n",
       "      <td>4</td>\n",
       "      <td>1000</td>\n",
       "      <td>9</td>\n",
       "      <td>58.0</td>\n",
       "      <td>466.0</td>\n",
       "      <td>14568.91</td>\n",
       "      <td>57.0</td>\n",
       "      <td>52</td>\n",
       "      <td>NaT</td>\n",
       "      <td>Краснодар</td>\n",
       "      <td>Рафаил</td>\n",
       "      <td>...</td>\n",
       "      <td>2018-05-25</td>\n",
       "      <td>ultra</td>\n",
       "      <td>1000</td>\n",
       "      <td>30720</td>\n",
       "      <td>3000</td>\n",
       "      <td>1950</td>\n",
       "      <td>150</td>\n",
       "      <td>1</td>\n",
       "      <td>1</td>\n",
       "      <td>ultra</td>\n",
       "    </tr>\n",
       "    <tr>\n",
       "      <td>...</td>\n",
       "      <td>...</td>\n",
       "      <td>...</td>\n",
       "      <td>...</td>\n",
       "      <td>...</td>\n",
       "      <td>...</td>\n",
       "      <td>...</td>\n",
       "      <td>...</td>\n",
       "      <td>...</td>\n",
       "      <td>...</td>\n",
       "      <td>...</td>\n",
       "      <td>...</td>\n",
       "      <td>...</td>\n",
       "      <td>...</td>\n",
       "      <td>...</td>\n",
       "      <td>...</td>\n",
       "      <td>...</td>\n",
       "      <td>...</td>\n",
       "      <td>...</td>\n",
       "      <td>...</td>\n",
       "      <td>...</td>\n",
       "      <td>...</td>\n",
       "    </tr>\n",
       "    <tr>\n",
       "      <td>3209</td>\n",
       "      <td>1489</td>\n",
       "      <td>8</td>\n",
       "      <td>0.0</td>\n",
       "      <td>0.0</td>\n",
       "      <td>11050.56</td>\n",
       "      <td>17.0</td>\n",
       "      <td>35</td>\n",
       "      <td>NaT</td>\n",
       "      <td>Санкт-Петербург</td>\n",
       "      <td>Павел</td>\n",
       "      <td>...</td>\n",
       "      <td>2018-08-15</td>\n",
       "      <td>smart</td>\n",
       "      <td>50</td>\n",
       "      <td>15360</td>\n",
       "      <td>500</td>\n",
       "      <td>550</td>\n",
       "      <td>200</td>\n",
       "      <td>3</td>\n",
       "      <td>3</td>\n",
       "      <td>smart</td>\n",
       "    </tr>\n",
       "    <tr>\n",
       "      <td>3210</td>\n",
       "      <td>1489</td>\n",
       "      <td>9</td>\n",
       "      <td>0.0</td>\n",
       "      <td>0.0</td>\n",
       "      <td>17206.30</td>\n",
       "      <td>32.0</td>\n",
       "      <td>35</td>\n",
       "      <td>NaT</td>\n",
       "      <td>Санкт-Петербург</td>\n",
       "      <td>Павел</td>\n",
       "      <td>...</td>\n",
       "      <td>2018-08-15</td>\n",
       "      <td>smart</td>\n",
       "      <td>50</td>\n",
       "      <td>15360</td>\n",
       "      <td>500</td>\n",
       "      <td>550</td>\n",
       "      <td>200</td>\n",
       "      <td>3</td>\n",
       "      <td>3</td>\n",
       "      <td>smart</td>\n",
       "    </tr>\n",
       "    <tr>\n",
       "      <td>3211</td>\n",
       "      <td>1489</td>\n",
       "      <td>10</td>\n",
       "      <td>0.0</td>\n",
       "      <td>0.0</td>\n",
       "      <td>19559.44</td>\n",
       "      <td>21.0</td>\n",
       "      <td>35</td>\n",
       "      <td>NaT</td>\n",
       "      <td>Санкт-Петербург</td>\n",
       "      <td>Павел</td>\n",
       "      <td>...</td>\n",
       "      <td>2018-08-15</td>\n",
       "      <td>smart</td>\n",
       "      <td>50</td>\n",
       "      <td>15360</td>\n",
       "      <td>500</td>\n",
       "      <td>550</td>\n",
       "      <td>200</td>\n",
       "      <td>3</td>\n",
       "      <td>3</td>\n",
       "      <td>smart</td>\n",
       "    </tr>\n",
       "    <tr>\n",
       "      <td>3212</td>\n",
       "      <td>1489</td>\n",
       "      <td>11</td>\n",
       "      <td>0.0</td>\n",
       "      <td>0.0</td>\n",
       "      <td>17491.56</td>\n",
       "      <td>20.0</td>\n",
       "      <td>35</td>\n",
       "      <td>NaT</td>\n",
       "      <td>Санкт-Петербург</td>\n",
       "      <td>Павел</td>\n",
       "      <td>...</td>\n",
       "      <td>2018-08-15</td>\n",
       "      <td>smart</td>\n",
       "      <td>50</td>\n",
       "      <td>15360</td>\n",
       "      <td>500</td>\n",
       "      <td>550</td>\n",
       "      <td>200</td>\n",
       "      <td>3</td>\n",
       "      <td>3</td>\n",
       "      <td>smart</td>\n",
       "    </tr>\n",
       "    <tr>\n",
       "      <td>3213</td>\n",
       "      <td>1489</td>\n",
       "      <td>12</td>\n",
       "      <td>0.0</td>\n",
       "      <td>0.0</td>\n",
       "      <td>17322.51</td>\n",
       "      <td>35.0</td>\n",
       "      <td>35</td>\n",
       "      <td>NaT</td>\n",
       "      <td>Санкт-Петербург</td>\n",
       "      <td>Павел</td>\n",
       "      <td>...</td>\n",
       "      <td>2018-08-15</td>\n",
       "      <td>smart</td>\n",
       "      <td>50</td>\n",
       "      <td>15360</td>\n",
       "      <td>500</td>\n",
       "      <td>550</td>\n",
       "      <td>200</td>\n",
       "      <td>3</td>\n",
       "      <td>3</td>\n",
       "      <td>smart</td>\n",
       "    </tr>\n",
       "  </tbody>\n",
       "</table>\n",
       "<p>3214 rows × 21 columns</p>\n",
       "</div>"
      ],
      "text/plain": [
       "      user_id  month  total_calls  duration   mb_used  messages  age  \\\n",
       "0        1000      5         22.0     159.0   2253.49      22.0   52   \n",
       "1        1000      6         43.0     172.0  23233.77      60.0   52   \n",
       "2        1000      7         47.0     340.0  14003.64      75.0   52   \n",
       "3        1000      8         52.0     408.0  14055.93      81.0   52   \n",
       "4        1000      9         58.0     466.0  14568.91      57.0   52   \n",
       "...       ...    ...          ...       ...       ...       ...  ...   \n",
       "3209     1489      8          0.0       0.0  11050.56      17.0   35   \n",
       "3210     1489      9          0.0       0.0  17206.30      32.0   35   \n",
       "3211     1489     10          0.0       0.0  19559.44      21.0   35   \n",
       "3212     1489     11          0.0       0.0  17491.56      20.0   35   \n",
       "3213     1489     12          0.0       0.0  17322.51      35.0   35   \n",
       "\n",
       "     churn_date             city first_name  ...   reg_date tariff  \\\n",
       "0           NaT        Краснодар     Рафаил  ... 2018-05-25  ultra   \n",
       "1           NaT        Краснодар     Рафаил  ... 2018-05-25  ultra   \n",
       "2           NaT        Краснодар     Рафаил  ... 2018-05-25  ultra   \n",
       "3           NaT        Краснодар     Рафаил  ... 2018-05-25  ultra   \n",
       "4           NaT        Краснодар     Рафаил  ... 2018-05-25  ultra   \n",
       "...         ...              ...        ...  ...        ...    ...   \n",
       "3209        NaT  Санкт-Петербург      Павел  ... 2018-08-15  smart   \n",
       "3210        NaT  Санкт-Петербург      Павел  ... 2018-08-15  smart   \n",
       "3211        NaT  Санкт-Петербург      Павел  ... 2018-08-15  smart   \n",
       "3212        NaT  Санкт-Петербург      Павел  ... 2018-08-15  smart   \n",
       "3213        NaT  Санкт-Петербург      Павел  ... 2018-08-15  smart   \n",
       "\n",
       "     messages_included  mb_per_month_included  minutes_included  \\\n",
       "0                 1000                  30720              3000   \n",
       "1                 1000                  30720              3000   \n",
       "2                 1000                  30720              3000   \n",
       "3                 1000                  30720              3000   \n",
       "4                 1000                  30720              3000   \n",
       "...                ...                    ...               ...   \n",
       "3209                50                  15360               500   \n",
       "3210                50                  15360               500   \n",
       "3211                50                  15360               500   \n",
       "3212                50                  15360               500   \n",
       "3213                50                  15360               500   \n",
       "\n",
       "      rub_monthly_fee  rub_per_gb  rub_per_message  rub_per_minute  \\\n",
       "0                1950         150                1               1   \n",
       "1                1950         150                1               1   \n",
       "2                1950         150                1               1   \n",
       "3                1950         150                1               1   \n",
       "4                1950         150                1               1   \n",
       "...               ...         ...              ...             ...   \n",
       "3209              550         200                3               3   \n",
       "3210              550         200                3               3   \n",
       "3211              550         200                3               3   \n",
       "3212              550         200                3               3   \n",
       "3213              550         200                3               3   \n",
       "\n",
       "      tariff_name  \n",
       "0           ultra  \n",
       "1           ultra  \n",
       "2           ultra  \n",
       "3           ultra  \n",
       "4           ultra  \n",
       "...           ...  \n",
       "3209        smart  \n",
       "3210        smart  \n",
       "3211        smart  \n",
       "3212        smart  \n",
       "3213        smart  \n",
       "\n",
       "[3214 rows x 21 columns]"
      ]
     },
     "execution_count": 47,
     "metadata": {},
     "output_type": "execute_result"
    }
   ],
   "source": [
    "calls = calls.groupby(['user_id', 'month']).agg({'id': 'count', \"duration\": \"sum\"}).rename(columns={'id':'total_calls'}).reset_index()\n",
    "internet = internet.groupby(['user_id', 'month']).agg({'mb_used': 'sum'}).reset_index()\n",
    "messages = messages.groupby(['user_id', 'month']).agg({'id': 'count'}).rename(columns = {'id': 'messages'}).reset_index()\n",
    "\n",
    "report = calls.merge(internet, on = ['user_id', 'month'], how = 'outer')\\\n",
    ".merge(messages, on = ['user_id', 'month'], how = 'outer').fillna(0)\n",
    "report = report.merge(users, on = 'user_id', how = 'left').merge(tariffs, left_on = 'tariff',\n",
    "right_on = 'tariff_name', how = 'left')\n",
    "report"
   ]
  },
  {
   "cell_type": "code",
   "execution_count": 48,
   "metadata": {},
   "outputs": [
    {
     "data": {
      "text/plain": [
       "user_id                     0\n",
       "month                       0\n",
       "total_calls                 0\n",
       "duration                    0\n",
       "mb_used                     0\n",
       "messages                    0\n",
       "age                         0\n",
       "churn_date               3027\n",
       "city                        0\n",
       "first_name                  0\n",
       "last_name                   0\n",
       "reg_date                    0\n",
       "tariff                      0\n",
       "messages_included           0\n",
       "mb_per_month_included       0\n",
       "minutes_included            0\n",
       "rub_monthly_fee             0\n",
       "rub_per_gb                  0\n",
       "rub_per_message             0\n",
       "rub_per_minute              0\n",
       "tariff_name                 0\n",
       "dtype: int64"
      ]
     },
     "execution_count": 48,
     "metadata": {},
     "output_type": "execute_result"
    }
   ],
   "source": [
    "report.isna().sum()"
   ]
  },
  {
   "cell_type": "markdown",
   "metadata": {},
   "source": [
    "Посчитаем выручку для каждого тарифа, алгоритм уже есть в условиях: \"вычтите бесплатный лимит из суммарного количества звонков, сообщений и интернет-трафика; остаток умножьте на значение из тарифного плана; прибавьте абонентскую плату, соответствующую тарифному плану\". Добавим в общую таблицу колонку с выручкой."
   ]
  },
  {
   "cell_type": "code",
   "execution_count": 49,
   "metadata": {},
   "outputs": [
    {
     "data": {
      "text/html": [
       "<div>\n",
       "<style scoped>\n",
       "    .dataframe tbody tr th:only-of-type {\n",
       "        vertical-align: middle;\n",
       "    }\n",
       "\n",
       "    .dataframe tbody tr th {\n",
       "        vertical-align: top;\n",
       "    }\n",
       "\n",
       "    .dataframe thead th {\n",
       "        text-align: right;\n",
       "    }\n",
       "</style>\n",
       "<table border=\"1\" class=\"dataframe\">\n",
       "  <thead>\n",
       "    <tr style=\"text-align: right;\">\n",
       "      <th></th>\n",
       "      <th>user_id</th>\n",
       "      <th>month</th>\n",
       "      <th>total_calls</th>\n",
       "      <th>duration</th>\n",
       "      <th>mb_used</th>\n",
       "      <th>messages</th>\n",
       "      <th>age</th>\n",
       "      <th>churn_date</th>\n",
       "      <th>city</th>\n",
       "      <th>first_name</th>\n",
       "      <th>...</th>\n",
       "      <th>tariff</th>\n",
       "      <th>messages_included</th>\n",
       "      <th>mb_per_month_included</th>\n",
       "      <th>minutes_included</th>\n",
       "      <th>rub_monthly_fee</th>\n",
       "      <th>rub_per_gb</th>\n",
       "      <th>rub_per_message</th>\n",
       "      <th>rub_per_minute</th>\n",
       "      <th>tariff_name</th>\n",
       "      <th>revenue</th>\n",
       "    </tr>\n",
       "  </thead>\n",
       "  <tbody>\n",
       "    <tr>\n",
       "      <td>0</td>\n",
       "      <td>1000</td>\n",
       "      <td>5</td>\n",
       "      <td>22.0</td>\n",
       "      <td>159.0</td>\n",
       "      <td>2253.49</td>\n",
       "      <td>22.0</td>\n",
       "      <td>52</td>\n",
       "      <td>NaT</td>\n",
       "      <td>Краснодар</td>\n",
       "      <td>Рафаил</td>\n",
       "      <td>...</td>\n",
       "      <td>ultra</td>\n",
       "      <td>1000</td>\n",
       "      <td>30720</td>\n",
       "      <td>3000</td>\n",
       "      <td>1950</td>\n",
       "      <td>150</td>\n",
       "      <td>1</td>\n",
       "      <td>1</td>\n",
       "      <td>ultra</td>\n",
       "      <td>1950.00</td>\n",
       "    </tr>\n",
       "    <tr>\n",
       "      <td>1</td>\n",
       "      <td>1000</td>\n",
       "      <td>6</td>\n",
       "      <td>43.0</td>\n",
       "      <td>172.0</td>\n",
       "      <td>23233.77</td>\n",
       "      <td>60.0</td>\n",
       "      <td>52</td>\n",
       "      <td>NaT</td>\n",
       "      <td>Краснодар</td>\n",
       "      <td>Рафаил</td>\n",
       "      <td>...</td>\n",
       "      <td>ultra</td>\n",
       "      <td>1000</td>\n",
       "      <td>30720</td>\n",
       "      <td>3000</td>\n",
       "      <td>1950</td>\n",
       "      <td>150</td>\n",
       "      <td>1</td>\n",
       "      <td>1</td>\n",
       "      <td>ultra</td>\n",
       "      <td>1950.00</td>\n",
       "    </tr>\n",
       "    <tr>\n",
       "      <td>2</td>\n",
       "      <td>1000</td>\n",
       "      <td>7</td>\n",
       "      <td>47.0</td>\n",
       "      <td>340.0</td>\n",
       "      <td>14003.64</td>\n",
       "      <td>75.0</td>\n",
       "      <td>52</td>\n",
       "      <td>NaT</td>\n",
       "      <td>Краснодар</td>\n",
       "      <td>Рафаил</td>\n",
       "      <td>...</td>\n",
       "      <td>ultra</td>\n",
       "      <td>1000</td>\n",
       "      <td>30720</td>\n",
       "      <td>3000</td>\n",
       "      <td>1950</td>\n",
       "      <td>150</td>\n",
       "      <td>1</td>\n",
       "      <td>1</td>\n",
       "      <td>ultra</td>\n",
       "      <td>1950.00</td>\n",
       "    </tr>\n",
       "    <tr>\n",
       "      <td>3</td>\n",
       "      <td>1000</td>\n",
       "      <td>8</td>\n",
       "      <td>52.0</td>\n",
       "      <td>408.0</td>\n",
       "      <td>14055.93</td>\n",
       "      <td>81.0</td>\n",
       "      <td>52</td>\n",
       "      <td>NaT</td>\n",
       "      <td>Краснодар</td>\n",
       "      <td>Рафаил</td>\n",
       "      <td>...</td>\n",
       "      <td>ultra</td>\n",
       "      <td>1000</td>\n",
       "      <td>30720</td>\n",
       "      <td>3000</td>\n",
       "      <td>1950</td>\n",
       "      <td>150</td>\n",
       "      <td>1</td>\n",
       "      <td>1</td>\n",
       "      <td>ultra</td>\n",
       "      <td>1950.00</td>\n",
       "    </tr>\n",
       "    <tr>\n",
       "      <td>4</td>\n",
       "      <td>1000</td>\n",
       "      <td>9</td>\n",
       "      <td>58.0</td>\n",
       "      <td>466.0</td>\n",
       "      <td>14568.91</td>\n",
       "      <td>57.0</td>\n",
       "      <td>52</td>\n",
       "      <td>NaT</td>\n",
       "      <td>Краснодар</td>\n",
       "      <td>Рафаил</td>\n",
       "      <td>...</td>\n",
       "      <td>ultra</td>\n",
       "      <td>1000</td>\n",
       "      <td>30720</td>\n",
       "      <td>3000</td>\n",
       "      <td>1950</td>\n",
       "      <td>150</td>\n",
       "      <td>1</td>\n",
       "      <td>1</td>\n",
       "      <td>ultra</td>\n",
       "      <td>1950.00</td>\n",
       "    </tr>\n",
       "    <tr>\n",
       "      <td>5</td>\n",
       "      <td>1000</td>\n",
       "      <td>10</td>\n",
       "      <td>57.0</td>\n",
       "      <td>350.0</td>\n",
       "      <td>14702.49</td>\n",
       "      <td>73.0</td>\n",
       "      <td>52</td>\n",
       "      <td>NaT</td>\n",
       "      <td>Краснодар</td>\n",
       "      <td>Рафаил</td>\n",
       "      <td>...</td>\n",
       "      <td>ultra</td>\n",
       "      <td>1000</td>\n",
       "      <td>30720</td>\n",
       "      <td>3000</td>\n",
       "      <td>1950</td>\n",
       "      <td>150</td>\n",
       "      <td>1</td>\n",
       "      <td>1</td>\n",
       "      <td>ultra</td>\n",
       "      <td>1950.00</td>\n",
       "    </tr>\n",
       "    <tr>\n",
       "      <td>6</td>\n",
       "      <td>1000</td>\n",
       "      <td>11</td>\n",
       "      <td>43.0</td>\n",
       "      <td>338.0</td>\n",
       "      <td>14756.47</td>\n",
       "      <td>58.0</td>\n",
       "      <td>52</td>\n",
       "      <td>NaT</td>\n",
       "      <td>Краснодар</td>\n",
       "      <td>Рафаил</td>\n",
       "      <td>...</td>\n",
       "      <td>ultra</td>\n",
       "      <td>1000</td>\n",
       "      <td>30720</td>\n",
       "      <td>3000</td>\n",
       "      <td>1950</td>\n",
       "      <td>150</td>\n",
       "      <td>1</td>\n",
       "      <td>1</td>\n",
       "      <td>ultra</td>\n",
       "      <td>1950.00</td>\n",
       "    </tr>\n",
       "    <tr>\n",
       "      <td>7</td>\n",
       "      <td>1000</td>\n",
       "      <td>12</td>\n",
       "      <td>46.0</td>\n",
       "      <td>333.0</td>\n",
       "      <td>9817.61</td>\n",
       "      <td>70.0</td>\n",
       "      <td>52</td>\n",
       "      <td>NaT</td>\n",
       "      <td>Краснодар</td>\n",
       "      <td>Рафаил</td>\n",
       "      <td>...</td>\n",
       "      <td>ultra</td>\n",
       "      <td>1000</td>\n",
       "      <td>30720</td>\n",
       "      <td>3000</td>\n",
       "      <td>1950</td>\n",
       "      <td>150</td>\n",
       "      <td>1</td>\n",
       "      <td>1</td>\n",
       "      <td>ultra</td>\n",
       "      <td>1950.00</td>\n",
       "    </tr>\n",
       "    <tr>\n",
       "      <td>8</td>\n",
       "      <td>1001</td>\n",
       "      <td>11</td>\n",
       "      <td>59.0</td>\n",
       "      <td>430.0</td>\n",
       "      <td>18429.34</td>\n",
       "      <td>0.0</td>\n",
       "      <td>41</td>\n",
       "      <td>NaT</td>\n",
       "      <td>Москва</td>\n",
       "      <td>Иван</td>\n",
       "      <td>...</td>\n",
       "      <td>smart</td>\n",
       "      <td>50</td>\n",
       "      <td>15360</td>\n",
       "      <td>500</td>\n",
       "      <td>550</td>\n",
       "      <td>200</td>\n",
       "      <td>3</td>\n",
       "      <td>3</td>\n",
       "      <td>smart</td>\n",
       "      <td>1149.48</td>\n",
       "    </tr>\n",
       "    <tr>\n",
       "      <td>9</td>\n",
       "      <td>1001</td>\n",
       "      <td>12</td>\n",
       "      <td>63.0</td>\n",
       "      <td>414.0</td>\n",
       "      <td>14036.66</td>\n",
       "      <td>0.0</td>\n",
       "      <td>41</td>\n",
       "      <td>NaT</td>\n",
       "      <td>Москва</td>\n",
       "      <td>Иван</td>\n",
       "      <td>...</td>\n",
       "      <td>smart</td>\n",
       "      <td>50</td>\n",
       "      <td>15360</td>\n",
       "      <td>500</td>\n",
       "      <td>550</td>\n",
       "      <td>200</td>\n",
       "      <td>3</td>\n",
       "      <td>3</td>\n",
       "      <td>smart</td>\n",
       "      <td>550.00</td>\n",
       "    </tr>\n",
       "  </tbody>\n",
       "</table>\n",
       "<p>10 rows × 22 columns</p>\n",
       "</div>"
      ],
      "text/plain": [
       "   user_id  month  total_calls  duration   mb_used  messages  age churn_date  \\\n",
       "0     1000      5         22.0     159.0   2253.49      22.0   52        NaT   \n",
       "1     1000      6         43.0     172.0  23233.77      60.0   52        NaT   \n",
       "2     1000      7         47.0     340.0  14003.64      75.0   52        NaT   \n",
       "3     1000      8         52.0     408.0  14055.93      81.0   52        NaT   \n",
       "4     1000      9         58.0     466.0  14568.91      57.0   52        NaT   \n",
       "5     1000     10         57.0     350.0  14702.49      73.0   52        NaT   \n",
       "6     1000     11         43.0     338.0  14756.47      58.0   52        NaT   \n",
       "7     1000     12         46.0     333.0   9817.61      70.0   52        NaT   \n",
       "8     1001     11         59.0     430.0  18429.34       0.0   41        NaT   \n",
       "9     1001     12         63.0     414.0  14036.66       0.0   41        NaT   \n",
       "\n",
       "        city first_name  ... tariff messages_included mb_per_month_included  \\\n",
       "0  Краснодар     Рафаил  ...  ultra              1000                 30720   \n",
       "1  Краснодар     Рафаил  ...  ultra              1000                 30720   \n",
       "2  Краснодар     Рафаил  ...  ultra              1000                 30720   \n",
       "3  Краснодар     Рафаил  ...  ultra              1000                 30720   \n",
       "4  Краснодар     Рафаил  ...  ultra              1000                 30720   \n",
       "5  Краснодар     Рафаил  ...  ultra              1000                 30720   \n",
       "6  Краснодар     Рафаил  ...  ultra              1000                 30720   \n",
       "7  Краснодар     Рафаил  ...  ultra              1000                 30720   \n",
       "8     Москва       Иван  ...  smart                50                 15360   \n",
       "9     Москва       Иван  ...  smart                50                 15360   \n",
       "\n",
       "   minutes_included  rub_monthly_fee  rub_per_gb  rub_per_message  \\\n",
       "0              3000             1950         150                1   \n",
       "1              3000             1950         150                1   \n",
       "2              3000             1950         150                1   \n",
       "3              3000             1950         150                1   \n",
       "4              3000             1950         150                1   \n",
       "5              3000             1950         150                1   \n",
       "6              3000             1950         150                1   \n",
       "7              3000             1950         150                1   \n",
       "8               500              550         200                3   \n",
       "9               500              550         200                3   \n",
       "\n",
       "   rub_per_minute  tariff_name  revenue  \n",
       "0               1        ultra  1950.00  \n",
       "1               1        ultra  1950.00  \n",
       "2               1        ultra  1950.00  \n",
       "3               1        ultra  1950.00  \n",
       "4               1        ultra  1950.00  \n",
       "5               1        ultra  1950.00  \n",
       "6               1        ultra  1950.00  \n",
       "7               1        ultra  1950.00  \n",
       "8               3        smart  1149.48  \n",
       "9               3        smart   550.00  \n",
       "\n",
       "[10 rows x 22 columns]"
      ]
     },
     "execution_count": 49,
     "metadata": {},
     "output_type": "execute_result"
    }
   ],
   "source": [
    "def get_revenue(row):\n",
    "    if row['tariff'] == 'smart': # добавляем условие по тарифу \n",
    "        minutes_over = (row['duration'] - row['minutes_included']) *  row['rub_per_minute']\n",
    "        sms_over = (row['messages'] - row['messages_included']) *  row['rub_per_message']\n",
    "        traffic_over = (row['mb_used'] - row['mb_per_month_included']) *  (row['rub_per_gb'] / 1024) # считаем в гигабайтах \n",
    "        if minutes_over < 0:\n",
    "            minutes_over = 0\n",
    "        if sms_over < 0:\n",
    "            sms_over = 0\n",
    "        if traffic_over < 0:\n",
    "            traffic_over = 0\n",
    "        total =  minutes_over + sms_over + traffic_over + 550 # прибавляем базовую стоимость тарифа \n",
    "    \n",
    "    if row['tariff'] == 'ultra':\n",
    "        minutes_over = (row['duration'] - row['minutes_included']) *  row['rub_per_minute']\n",
    "        sms_over = (row['messages'] - row['messages_included']) *  row['rub_per_message']\n",
    "        traffic_over = (row['mb_used'] - row['mb_per_month_included']) *  (row['rub_per_gb'] / 1024)\n",
    "        if minutes_over < 0:\n",
    "            minutes_over = 0\n",
    "        if sms_over < 0:\n",
    "            sms_over = 0\n",
    "        if traffic_over < 0:\n",
    "            traffic_over = 0\n",
    "        total =  minutes_over + sms_over + traffic_over + 1950\n",
    "    return total     \n",
    "report['revenue'] = report.apply(get_revenue, axis = 1)\n",
    "report['revenue'] = report['revenue'].round(2)\n",
    "report.head(10)\n",
    "\n",
    "\n",
    "   "
   ]
  },
  {
   "cell_type": "markdown",
   "metadata": {},
   "source": [
    "Приступим к анализу данных. \n",
    "Поставленная задача: \n",
    "Опишите поведение клиентов оператора, исходя из выборки. Сколько минут разговора, сколько сообщений и какой объём интернет-трафика требуется пользователям каждого тарифа в месяц? Посчитайте среднее количество, дисперсию и стандартное отклонение. Постройте гистограммы. Опишите распределения."
   ]
  },
  {
   "cell_type": "markdown",
   "metadata": {},
   "source": [
    "Из общей таблицы создаем две, рассортировав данные согласно тарифу. "
   ]
  },
  {
   "cell_type": "code",
   "execution_count": 50,
   "metadata": {},
   "outputs": [
    {
     "data": {
      "text/html": [
       "<div>\n",
       "<style scoped>\n",
       "    .dataframe tbody tr th:only-of-type {\n",
       "        vertical-align: middle;\n",
       "    }\n",
       "\n",
       "    .dataframe tbody tr th {\n",
       "        vertical-align: top;\n",
       "    }\n",
       "\n",
       "    .dataframe thead th {\n",
       "        text-align: right;\n",
       "    }\n",
       "</style>\n",
       "<table border=\"1\" class=\"dataframe\">\n",
       "  <thead>\n",
       "    <tr style=\"text-align: right;\">\n",
       "      <th></th>\n",
       "      <th>user_id</th>\n",
       "      <th>month</th>\n",
       "      <th>total_calls</th>\n",
       "      <th>duration</th>\n",
       "      <th>mb_used</th>\n",
       "      <th>messages</th>\n",
       "      <th>age</th>\n",
       "      <th>churn_date</th>\n",
       "      <th>city</th>\n",
       "      <th>first_name</th>\n",
       "      <th>...</th>\n",
       "      <th>tariff</th>\n",
       "      <th>messages_included</th>\n",
       "      <th>mb_per_month_included</th>\n",
       "      <th>minutes_included</th>\n",
       "      <th>rub_monthly_fee</th>\n",
       "      <th>rub_per_gb</th>\n",
       "      <th>rub_per_message</th>\n",
       "      <th>rub_per_minute</th>\n",
       "      <th>tariff_name</th>\n",
       "      <th>revenue</th>\n",
       "    </tr>\n",
       "  </thead>\n",
       "  <tbody>\n",
       "    <tr>\n",
       "      <td>0</td>\n",
       "      <td>1000</td>\n",
       "      <td>5</td>\n",
       "      <td>22.0</td>\n",
       "      <td>159.0</td>\n",
       "      <td>2253.49</td>\n",
       "      <td>22.0</td>\n",
       "      <td>52</td>\n",
       "      <td>NaT</td>\n",
       "      <td>Краснодар</td>\n",
       "      <td>Рафаил</td>\n",
       "      <td>...</td>\n",
       "      <td>ultra</td>\n",
       "      <td>1000</td>\n",
       "      <td>30720</td>\n",
       "      <td>3000</td>\n",
       "      <td>1950</td>\n",
       "      <td>150</td>\n",
       "      <td>1</td>\n",
       "      <td>1</td>\n",
       "      <td>ultra</td>\n",
       "      <td>1950.0</td>\n",
       "    </tr>\n",
       "    <tr>\n",
       "      <td>1</td>\n",
       "      <td>1000</td>\n",
       "      <td>6</td>\n",
       "      <td>43.0</td>\n",
       "      <td>172.0</td>\n",
       "      <td>23233.77</td>\n",
       "      <td>60.0</td>\n",
       "      <td>52</td>\n",
       "      <td>NaT</td>\n",
       "      <td>Краснодар</td>\n",
       "      <td>Рафаил</td>\n",
       "      <td>...</td>\n",
       "      <td>ultra</td>\n",
       "      <td>1000</td>\n",
       "      <td>30720</td>\n",
       "      <td>3000</td>\n",
       "      <td>1950</td>\n",
       "      <td>150</td>\n",
       "      <td>1</td>\n",
       "      <td>1</td>\n",
       "      <td>ultra</td>\n",
       "      <td>1950.0</td>\n",
       "    </tr>\n",
       "    <tr>\n",
       "      <td>2</td>\n",
       "      <td>1000</td>\n",
       "      <td>7</td>\n",
       "      <td>47.0</td>\n",
       "      <td>340.0</td>\n",
       "      <td>14003.64</td>\n",
       "      <td>75.0</td>\n",
       "      <td>52</td>\n",
       "      <td>NaT</td>\n",
       "      <td>Краснодар</td>\n",
       "      <td>Рафаил</td>\n",
       "      <td>...</td>\n",
       "      <td>ultra</td>\n",
       "      <td>1000</td>\n",
       "      <td>30720</td>\n",
       "      <td>3000</td>\n",
       "      <td>1950</td>\n",
       "      <td>150</td>\n",
       "      <td>1</td>\n",
       "      <td>1</td>\n",
       "      <td>ultra</td>\n",
       "      <td>1950.0</td>\n",
       "    </tr>\n",
       "    <tr>\n",
       "      <td>3</td>\n",
       "      <td>1000</td>\n",
       "      <td>8</td>\n",
       "      <td>52.0</td>\n",
       "      <td>408.0</td>\n",
       "      <td>14055.93</td>\n",
       "      <td>81.0</td>\n",
       "      <td>52</td>\n",
       "      <td>NaT</td>\n",
       "      <td>Краснодар</td>\n",
       "      <td>Рафаил</td>\n",
       "      <td>...</td>\n",
       "      <td>ultra</td>\n",
       "      <td>1000</td>\n",
       "      <td>30720</td>\n",
       "      <td>3000</td>\n",
       "      <td>1950</td>\n",
       "      <td>150</td>\n",
       "      <td>1</td>\n",
       "      <td>1</td>\n",
       "      <td>ultra</td>\n",
       "      <td>1950.0</td>\n",
       "    </tr>\n",
       "    <tr>\n",
       "      <td>4</td>\n",
       "      <td>1000</td>\n",
       "      <td>9</td>\n",
       "      <td>58.0</td>\n",
       "      <td>466.0</td>\n",
       "      <td>14568.91</td>\n",
       "      <td>57.0</td>\n",
       "      <td>52</td>\n",
       "      <td>NaT</td>\n",
       "      <td>Краснодар</td>\n",
       "      <td>Рафаил</td>\n",
       "      <td>...</td>\n",
       "      <td>ultra</td>\n",
       "      <td>1000</td>\n",
       "      <td>30720</td>\n",
       "      <td>3000</td>\n",
       "      <td>1950</td>\n",
       "      <td>150</td>\n",
       "      <td>1</td>\n",
       "      <td>1</td>\n",
       "      <td>ultra</td>\n",
       "      <td>1950.0</td>\n",
       "    </tr>\n",
       "    <tr>\n",
       "      <td>...</td>\n",
       "      <td>...</td>\n",
       "      <td>...</td>\n",
       "      <td>...</td>\n",
       "      <td>...</td>\n",
       "      <td>...</td>\n",
       "      <td>...</td>\n",
       "      <td>...</td>\n",
       "      <td>...</td>\n",
       "      <td>...</td>\n",
       "      <td>...</td>\n",
       "      <td>...</td>\n",
       "      <td>...</td>\n",
       "      <td>...</td>\n",
       "      <td>...</td>\n",
       "      <td>...</td>\n",
       "      <td>...</td>\n",
       "      <td>...</td>\n",
       "      <td>...</td>\n",
       "      <td>...</td>\n",
       "      <td>...</td>\n",
       "      <td>...</td>\n",
       "    </tr>\n",
       "    <tr>\n",
       "      <td>3204</td>\n",
       "      <td>1473</td>\n",
       "      <td>9</td>\n",
       "      <td>0.0</td>\n",
       "      <td>0.0</td>\n",
       "      <td>17289.85</td>\n",
       "      <td>19.0</td>\n",
       "      <td>18</td>\n",
       "      <td>NaT</td>\n",
       "      <td>Красноярск</td>\n",
       "      <td>Николай</td>\n",
       "      <td>...</td>\n",
       "      <td>ultra</td>\n",
       "      <td>1000</td>\n",
       "      <td>30720</td>\n",
       "      <td>3000</td>\n",
       "      <td>1950</td>\n",
       "      <td>150</td>\n",
       "      <td>1</td>\n",
       "      <td>1</td>\n",
       "      <td>ultra</td>\n",
       "      <td>1950.0</td>\n",
       "    </tr>\n",
       "    <tr>\n",
       "      <td>3205</td>\n",
       "      <td>1473</td>\n",
       "      <td>10</td>\n",
       "      <td>0.0</td>\n",
       "      <td>0.0</td>\n",
       "      <td>13688.65</td>\n",
       "      <td>20.0</td>\n",
       "      <td>18</td>\n",
       "      <td>NaT</td>\n",
       "      <td>Красноярск</td>\n",
       "      <td>Николай</td>\n",
       "      <td>...</td>\n",
       "      <td>ultra</td>\n",
       "      <td>1000</td>\n",
       "      <td>30720</td>\n",
       "      <td>3000</td>\n",
       "      <td>1950</td>\n",
       "      <td>150</td>\n",
       "      <td>1</td>\n",
       "      <td>1</td>\n",
       "      <td>ultra</td>\n",
       "      <td>1950.0</td>\n",
       "    </tr>\n",
       "    <tr>\n",
       "      <td>3206</td>\n",
       "      <td>1473</td>\n",
       "      <td>11</td>\n",
       "      <td>0.0</td>\n",
       "      <td>0.0</td>\n",
       "      <td>21673.80</td>\n",
       "      <td>14.0</td>\n",
       "      <td>18</td>\n",
       "      <td>NaT</td>\n",
       "      <td>Красноярск</td>\n",
       "      <td>Николай</td>\n",
       "      <td>...</td>\n",
       "      <td>ultra</td>\n",
       "      <td>1000</td>\n",
       "      <td>30720</td>\n",
       "      <td>3000</td>\n",
       "      <td>1950</td>\n",
       "      <td>150</td>\n",
       "      <td>1</td>\n",
       "      <td>1</td>\n",
       "      <td>ultra</td>\n",
       "      <td>1950.0</td>\n",
       "    </tr>\n",
       "    <tr>\n",
       "      <td>3207</td>\n",
       "      <td>1473</td>\n",
       "      <td>12</td>\n",
       "      <td>0.0</td>\n",
       "      <td>0.0</td>\n",
       "      <td>18418.26</td>\n",
       "      <td>20.0</td>\n",
       "      <td>18</td>\n",
       "      <td>NaT</td>\n",
       "      <td>Красноярск</td>\n",
       "      <td>Николай</td>\n",
       "      <td>...</td>\n",
       "      <td>ultra</td>\n",
       "      <td>1000</td>\n",
       "      <td>30720</td>\n",
       "      <td>3000</td>\n",
       "      <td>1950</td>\n",
       "      <td>150</td>\n",
       "      <td>1</td>\n",
       "      <td>1</td>\n",
       "      <td>ultra</td>\n",
       "      <td>1950.0</td>\n",
       "    </tr>\n",
       "    <tr>\n",
       "      <td>3208</td>\n",
       "      <td>1476</td>\n",
       "      <td>4</td>\n",
       "      <td>0.0</td>\n",
       "      <td>0.0</td>\n",
       "      <td>530.78</td>\n",
       "      <td>0.0</td>\n",
       "      <td>50</td>\n",
       "      <td>NaT</td>\n",
       "      <td>Москва</td>\n",
       "      <td>Валентина</td>\n",
       "      <td>...</td>\n",
       "      <td>ultra</td>\n",
       "      <td>1000</td>\n",
       "      <td>30720</td>\n",
       "      <td>3000</td>\n",
       "      <td>1950</td>\n",
       "      <td>150</td>\n",
       "      <td>1</td>\n",
       "      <td>1</td>\n",
       "      <td>ultra</td>\n",
       "      <td>1950.0</td>\n",
       "    </tr>\n",
       "  </tbody>\n",
       "</table>\n",
       "<p>985 rows × 22 columns</p>\n",
       "</div>"
      ],
      "text/plain": [
       "      user_id  month  total_calls  duration   mb_used  messages  age  \\\n",
       "0        1000      5         22.0     159.0   2253.49      22.0   52   \n",
       "1        1000      6         43.0     172.0  23233.77      60.0   52   \n",
       "2        1000      7         47.0     340.0  14003.64      75.0   52   \n",
       "3        1000      8         52.0     408.0  14055.93      81.0   52   \n",
       "4        1000      9         58.0     466.0  14568.91      57.0   52   \n",
       "...       ...    ...          ...       ...       ...       ...  ...   \n",
       "3204     1473      9          0.0       0.0  17289.85      19.0   18   \n",
       "3205     1473     10          0.0       0.0  13688.65      20.0   18   \n",
       "3206     1473     11          0.0       0.0  21673.80      14.0   18   \n",
       "3207     1473     12          0.0       0.0  18418.26      20.0   18   \n",
       "3208     1476      4          0.0       0.0    530.78       0.0   50   \n",
       "\n",
       "     churn_date        city first_name  ... tariff messages_included  \\\n",
       "0           NaT   Краснодар     Рафаил  ...  ultra              1000   \n",
       "1           NaT   Краснодар     Рафаил  ...  ultra              1000   \n",
       "2           NaT   Краснодар     Рафаил  ...  ultra              1000   \n",
       "3           NaT   Краснодар     Рафаил  ...  ultra              1000   \n",
       "4           NaT   Краснодар     Рафаил  ...  ultra              1000   \n",
       "...         ...         ...        ...  ...    ...               ...   \n",
       "3204        NaT  Красноярск    Николай  ...  ultra              1000   \n",
       "3205        NaT  Красноярск    Николай  ...  ultra              1000   \n",
       "3206        NaT  Красноярск    Николай  ...  ultra              1000   \n",
       "3207        NaT  Красноярск    Николай  ...  ultra              1000   \n",
       "3208        NaT      Москва  Валентина  ...  ultra              1000   \n",
       "\n",
       "     mb_per_month_included  minutes_included  rub_monthly_fee  rub_per_gb  \\\n",
       "0                    30720              3000             1950         150   \n",
       "1                    30720              3000             1950         150   \n",
       "2                    30720              3000             1950         150   \n",
       "3                    30720              3000             1950         150   \n",
       "4                    30720              3000             1950         150   \n",
       "...                    ...               ...              ...         ...   \n",
       "3204                 30720              3000             1950         150   \n",
       "3205                 30720              3000             1950         150   \n",
       "3206                 30720              3000             1950         150   \n",
       "3207                 30720              3000             1950         150   \n",
       "3208                 30720              3000             1950         150   \n",
       "\n",
       "      rub_per_message  rub_per_minute  tariff_name  revenue  \n",
       "0                   1               1        ultra   1950.0  \n",
       "1                   1               1        ultra   1950.0  \n",
       "2                   1               1        ultra   1950.0  \n",
       "3                   1               1        ultra   1950.0  \n",
       "4                   1               1        ultra   1950.0  \n",
       "...               ...             ...          ...      ...  \n",
       "3204                1               1        ultra   1950.0  \n",
       "3205                1               1        ultra   1950.0  \n",
       "3206                1               1        ultra   1950.0  \n",
       "3207                1               1        ultra   1950.0  \n",
       "3208                1               1        ultra   1950.0  \n",
       "\n",
       "[985 rows x 22 columns]"
      ]
     },
     "execution_count": 50,
     "metadata": {},
     "output_type": "execute_result"
    }
   ],
   "source": [
    "ultra = report[(report['tariff'] == 'ultra')]\n",
    "ultra"
   ]
  },
  {
   "cell_type": "code",
   "execution_count": 51,
   "metadata": {},
   "outputs": [
    {
     "data": {
      "text/html": [
       "<div>\n",
       "<style scoped>\n",
       "    .dataframe tbody tr th:only-of-type {\n",
       "        vertical-align: middle;\n",
       "    }\n",
       "\n",
       "    .dataframe tbody tr th {\n",
       "        vertical-align: top;\n",
       "    }\n",
       "\n",
       "    .dataframe thead th {\n",
       "        text-align: right;\n",
       "    }\n",
       "</style>\n",
       "<table border=\"1\" class=\"dataframe\">\n",
       "  <thead>\n",
       "    <tr style=\"text-align: right;\">\n",
       "      <th></th>\n",
       "      <th>user_id</th>\n",
       "      <th>month</th>\n",
       "      <th>total_calls</th>\n",
       "      <th>duration</th>\n",
       "      <th>mb_used</th>\n",
       "      <th>messages</th>\n",
       "      <th>age</th>\n",
       "      <th>churn_date</th>\n",
       "      <th>city</th>\n",
       "      <th>first_name</th>\n",
       "      <th>...</th>\n",
       "      <th>tariff</th>\n",
       "      <th>messages_included</th>\n",
       "      <th>mb_per_month_included</th>\n",
       "      <th>minutes_included</th>\n",
       "      <th>rub_monthly_fee</th>\n",
       "      <th>rub_per_gb</th>\n",
       "      <th>rub_per_message</th>\n",
       "      <th>rub_per_minute</th>\n",
       "      <th>tariff_name</th>\n",
       "      <th>revenue</th>\n",
       "    </tr>\n",
       "  </thead>\n",
       "  <tbody>\n",
       "    <tr>\n",
       "      <td>8</td>\n",
       "      <td>1001</td>\n",
       "      <td>11</td>\n",
       "      <td>59.0</td>\n",
       "      <td>430.0</td>\n",
       "      <td>18429.34</td>\n",
       "      <td>0.0</td>\n",
       "      <td>41</td>\n",
       "      <td>NaT</td>\n",
       "      <td>Москва</td>\n",
       "      <td>Иван</td>\n",
       "      <td>...</td>\n",
       "      <td>smart</td>\n",
       "      <td>50</td>\n",
       "      <td>15360</td>\n",
       "      <td>500</td>\n",
       "      <td>550</td>\n",
       "      <td>200</td>\n",
       "      <td>3</td>\n",
       "      <td>3</td>\n",
       "      <td>smart</td>\n",
       "      <td>1149.48</td>\n",
       "    </tr>\n",
       "    <tr>\n",
       "      <td>9</td>\n",
       "      <td>1001</td>\n",
       "      <td>12</td>\n",
       "      <td>63.0</td>\n",
       "      <td>414.0</td>\n",
       "      <td>14036.66</td>\n",
       "      <td>0.0</td>\n",
       "      <td>41</td>\n",
       "      <td>NaT</td>\n",
       "      <td>Москва</td>\n",
       "      <td>Иван</td>\n",
       "      <td>...</td>\n",
       "      <td>smart</td>\n",
       "      <td>50</td>\n",
       "      <td>15360</td>\n",
       "      <td>500</td>\n",
       "      <td>550</td>\n",
       "      <td>200</td>\n",
       "      <td>3</td>\n",
       "      <td>3</td>\n",
       "      <td>smart</td>\n",
       "      <td>550.00</td>\n",
       "    </tr>\n",
       "    <tr>\n",
       "      <td>10</td>\n",
       "      <td>1002</td>\n",
       "      <td>6</td>\n",
       "      <td>15.0</td>\n",
       "      <td>117.0</td>\n",
       "      <td>10856.82</td>\n",
       "      <td>4.0</td>\n",
       "      <td>59</td>\n",
       "      <td>NaT</td>\n",
       "      <td>Стерлитамак</td>\n",
       "      <td>Евгений</td>\n",
       "      <td>...</td>\n",
       "      <td>smart</td>\n",
       "      <td>50</td>\n",
       "      <td>15360</td>\n",
       "      <td>500</td>\n",
       "      <td>550</td>\n",
       "      <td>200</td>\n",
       "      <td>3</td>\n",
       "      <td>3</td>\n",
       "      <td>smart</td>\n",
       "      <td>550.00</td>\n",
       "    </tr>\n",
       "    <tr>\n",
       "      <td>11</td>\n",
       "      <td>1002</td>\n",
       "      <td>7</td>\n",
       "      <td>26.0</td>\n",
       "      <td>214.0</td>\n",
       "      <td>17580.10</td>\n",
       "      <td>11.0</td>\n",
       "      <td>59</td>\n",
       "      <td>NaT</td>\n",
       "      <td>Стерлитамак</td>\n",
       "      <td>Евгений</td>\n",
       "      <td>...</td>\n",
       "      <td>smart</td>\n",
       "      <td>50</td>\n",
       "      <td>15360</td>\n",
       "      <td>500</td>\n",
       "      <td>550</td>\n",
       "      <td>200</td>\n",
       "      <td>3</td>\n",
       "      <td>3</td>\n",
       "      <td>smart</td>\n",
       "      <td>983.61</td>\n",
       "    </tr>\n",
       "    <tr>\n",
       "      <td>12</td>\n",
       "      <td>1002</td>\n",
       "      <td>8</td>\n",
       "      <td>42.0</td>\n",
       "      <td>289.0</td>\n",
       "      <td>20319.26</td>\n",
       "      <td>13.0</td>\n",
       "      <td>59</td>\n",
       "      <td>NaT</td>\n",
       "      <td>Стерлитамак</td>\n",
       "      <td>Евгений</td>\n",
       "      <td>...</td>\n",
       "      <td>smart</td>\n",
       "      <td>50</td>\n",
       "      <td>15360</td>\n",
       "      <td>500</td>\n",
       "      <td>550</td>\n",
       "      <td>200</td>\n",
       "      <td>3</td>\n",
       "      <td>3</td>\n",
       "      <td>smart</td>\n",
       "      <td>1518.61</td>\n",
       "    </tr>\n",
       "    <tr>\n",
       "      <td>...</td>\n",
       "      <td>...</td>\n",
       "      <td>...</td>\n",
       "      <td>...</td>\n",
       "      <td>...</td>\n",
       "      <td>...</td>\n",
       "      <td>...</td>\n",
       "      <td>...</td>\n",
       "      <td>...</td>\n",
       "      <td>...</td>\n",
       "      <td>...</td>\n",
       "      <td>...</td>\n",
       "      <td>...</td>\n",
       "      <td>...</td>\n",
       "      <td>...</td>\n",
       "      <td>...</td>\n",
       "      <td>...</td>\n",
       "      <td>...</td>\n",
       "      <td>...</td>\n",
       "      <td>...</td>\n",
       "      <td>...</td>\n",
       "      <td>...</td>\n",
       "    </tr>\n",
       "    <tr>\n",
       "      <td>3209</td>\n",
       "      <td>1489</td>\n",
       "      <td>8</td>\n",
       "      <td>0.0</td>\n",
       "      <td>0.0</td>\n",
       "      <td>11050.56</td>\n",
       "      <td>17.0</td>\n",
       "      <td>35</td>\n",
       "      <td>NaT</td>\n",
       "      <td>Санкт-Петербург</td>\n",
       "      <td>Павел</td>\n",
       "      <td>...</td>\n",
       "      <td>smart</td>\n",
       "      <td>50</td>\n",
       "      <td>15360</td>\n",
       "      <td>500</td>\n",
       "      <td>550</td>\n",
       "      <td>200</td>\n",
       "      <td>3</td>\n",
       "      <td>3</td>\n",
       "      <td>smart</td>\n",
       "      <td>550.00</td>\n",
       "    </tr>\n",
       "    <tr>\n",
       "      <td>3210</td>\n",
       "      <td>1489</td>\n",
       "      <td>9</td>\n",
       "      <td>0.0</td>\n",
       "      <td>0.0</td>\n",
       "      <td>17206.30</td>\n",
       "      <td>32.0</td>\n",
       "      <td>35</td>\n",
       "      <td>NaT</td>\n",
       "      <td>Санкт-Петербург</td>\n",
       "      <td>Павел</td>\n",
       "      <td>...</td>\n",
       "      <td>smart</td>\n",
       "      <td>50</td>\n",
       "      <td>15360</td>\n",
       "      <td>500</td>\n",
       "      <td>550</td>\n",
       "      <td>200</td>\n",
       "      <td>3</td>\n",
       "      <td>3</td>\n",
       "      <td>smart</td>\n",
       "      <td>910.61</td>\n",
       "    </tr>\n",
       "    <tr>\n",
       "      <td>3211</td>\n",
       "      <td>1489</td>\n",
       "      <td>10</td>\n",
       "      <td>0.0</td>\n",
       "      <td>0.0</td>\n",
       "      <td>19559.44</td>\n",
       "      <td>21.0</td>\n",
       "      <td>35</td>\n",
       "      <td>NaT</td>\n",
       "      <td>Санкт-Петербург</td>\n",
       "      <td>Павел</td>\n",
       "      <td>...</td>\n",
       "      <td>smart</td>\n",
       "      <td>50</td>\n",
       "      <td>15360</td>\n",
       "      <td>500</td>\n",
       "      <td>550</td>\n",
       "      <td>200</td>\n",
       "      <td>3</td>\n",
       "      <td>3</td>\n",
       "      <td>smart</td>\n",
       "      <td>1370.20</td>\n",
       "    </tr>\n",
       "    <tr>\n",
       "      <td>3212</td>\n",
       "      <td>1489</td>\n",
       "      <td>11</td>\n",
       "      <td>0.0</td>\n",
       "      <td>0.0</td>\n",
       "      <td>17491.56</td>\n",
       "      <td>20.0</td>\n",
       "      <td>35</td>\n",
       "      <td>NaT</td>\n",
       "      <td>Санкт-Петербург</td>\n",
       "      <td>Павел</td>\n",
       "      <td>...</td>\n",
       "      <td>smart</td>\n",
       "      <td>50</td>\n",
       "      <td>15360</td>\n",
       "      <td>500</td>\n",
       "      <td>550</td>\n",
       "      <td>200</td>\n",
       "      <td>3</td>\n",
       "      <td>3</td>\n",
       "      <td>smart</td>\n",
       "      <td>966.32</td>\n",
       "    </tr>\n",
       "    <tr>\n",
       "      <td>3213</td>\n",
       "      <td>1489</td>\n",
       "      <td>12</td>\n",
       "      <td>0.0</td>\n",
       "      <td>0.0</td>\n",
       "      <td>17322.51</td>\n",
       "      <td>35.0</td>\n",
       "      <td>35</td>\n",
       "      <td>NaT</td>\n",
       "      <td>Санкт-Петербург</td>\n",
       "      <td>Павел</td>\n",
       "      <td>...</td>\n",
       "      <td>smart</td>\n",
       "      <td>50</td>\n",
       "      <td>15360</td>\n",
       "      <td>500</td>\n",
       "      <td>550</td>\n",
       "      <td>200</td>\n",
       "      <td>3</td>\n",
       "      <td>3</td>\n",
       "      <td>smart</td>\n",
       "      <td>933.30</td>\n",
       "    </tr>\n",
       "  </tbody>\n",
       "</table>\n",
       "<p>2229 rows × 22 columns</p>\n",
       "</div>"
      ],
      "text/plain": [
       "      user_id  month  total_calls  duration   mb_used  messages  age  \\\n",
       "8        1001     11         59.0     430.0  18429.34       0.0   41   \n",
       "9        1001     12         63.0     414.0  14036.66       0.0   41   \n",
       "10       1002      6         15.0     117.0  10856.82       4.0   59   \n",
       "11       1002      7         26.0     214.0  17580.10      11.0   59   \n",
       "12       1002      8         42.0     289.0  20319.26      13.0   59   \n",
       "...       ...    ...          ...       ...       ...       ...  ...   \n",
       "3209     1489      8          0.0       0.0  11050.56      17.0   35   \n",
       "3210     1489      9          0.0       0.0  17206.30      32.0   35   \n",
       "3211     1489     10          0.0       0.0  19559.44      21.0   35   \n",
       "3212     1489     11          0.0       0.0  17491.56      20.0   35   \n",
       "3213     1489     12          0.0       0.0  17322.51      35.0   35   \n",
       "\n",
       "     churn_date             city first_name  ... tariff messages_included  \\\n",
       "8           NaT           Москва       Иван  ...  smart                50   \n",
       "9           NaT           Москва       Иван  ...  smart                50   \n",
       "10          NaT      Стерлитамак    Евгений  ...  smart                50   \n",
       "11          NaT      Стерлитамак    Евгений  ...  smart                50   \n",
       "12          NaT      Стерлитамак    Евгений  ...  smart                50   \n",
       "...         ...              ...        ...  ...    ...               ...   \n",
       "3209        NaT  Санкт-Петербург      Павел  ...  smart                50   \n",
       "3210        NaT  Санкт-Петербург      Павел  ...  smart                50   \n",
       "3211        NaT  Санкт-Петербург      Павел  ...  smart                50   \n",
       "3212        NaT  Санкт-Петербург      Павел  ...  smart                50   \n",
       "3213        NaT  Санкт-Петербург      Павел  ...  smart                50   \n",
       "\n",
       "     mb_per_month_included  minutes_included  rub_monthly_fee  rub_per_gb  \\\n",
       "8                    15360               500              550         200   \n",
       "9                    15360               500              550         200   \n",
       "10                   15360               500              550         200   \n",
       "11                   15360               500              550         200   \n",
       "12                   15360               500              550         200   \n",
       "...                    ...               ...              ...         ...   \n",
       "3209                 15360               500              550         200   \n",
       "3210                 15360               500              550         200   \n",
       "3211                 15360               500              550         200   \n",
       "3212                 15360               500              550         200   \n",
       "3213                 15360               500              550         200   \n",
       "\n",
       "      rub_per_message  rub_per_minute  tariff_name  revenue  \n",
       "8                   3               3        smart  1149.48  \n",
       "9                   3               3        smart   550.00  \n",
       "10                  3               3        smart   550.00  \n",
       "11                  3               3        smart   983.61  \n",
       "12                  3               3        smart  1518.61  \n",
       "...               ...             ...          ...      ...  \n",
       "3209                3               3        smart   550.00  \n",
       "3210                3               3        smart   910.61  \n",
       "3211                3               3        smart  1370.20  \n",
       "3212                3               3        smart   966.32  \n",
       "3213                3               3        smart   933.30  \n",
       "\n",
       "[2229 rows x 22 columns]"
      ]
     },
     "execution_count": 51,
     "metadata": {},
     "output_type": "execute_result"
    }
   ],
   "source": [
    "smart = report[(report['tariff'] == 'smart')]\n",
    "smart"
   ]
  },
  {
   "cell_type": "code",
   "execution_count": 52,
   "metadata": {},
   "outputs": [
    {
     "data": {
      "text/html": [
       "<div>\n",
       "<style scoped>\n",
       "    .dataframe tbody tr th:only-of-type {\n",
       "        vertical-align: middle;\n",
       "    }\n",
       "\n",
       "    .dataframe tbody tr th {\n",
       "        vertical-align: top;\n",
       "    }\n",
       "\n",
       "    .dataframe thead th {\n",
       "        text-align: right;\n",
       "    }\n",
       "</style>\n",
       "<table border=\"1\" class=\"dataframe\">\n",
       "  <thead>\n",
       "    <tr style=\"text-align: right;\">\n",
       "      <th></th>\n",
       "      <th>duration</th>\n",
       "      <th>messages</th>\n",
       "      <th>mb_used</th>\n",
       "    </tr>\n",
       "  </thead>\n",
       "  <tbody>\n",
       "    <tr>\n",
       "      <td>count</td>\n",
       "      <td>2229.000000</td>\n",
       "      <td>2229.000000</td>\n",
       "      <td>2229.000000</td>\n",
       "    </tr>\n",
       "    <tr>\n",
       "      <td>mean</td>\n",
       "      <td>417.934948</td>\n",
       "      <td>33.384029</td>\n",
       "      <td>16208.386990</td>\n",
       "    </tr>\n",
       "    <tr>\n",
       "      <td>std</td>\n",
       "      <td>190.313730</td>\n",
       "      <td>28.227876</td>\n",
       "      <td>5870.476681</td>\n",
       "    </tr>\n",
       "    <tr>\n",
       "      <td>min</td>\n",
       "      <td>0.000000</td>\n",
       "      <td>0.000000</td>\n",
       "      <td>0.000000</td>\n",
       "    </tr>\n",
       "    <tr>\n",
       "      <td>25%</td>\n",
       "      <td>282.000000</td>\n",
       "      <td>10.000000</td>\n",
       "      <td>12643.010000</td>\n",
       "    </tr>\n",
       "    <tr>\n",
       "      <td>50%</td>\n",
       "      <td>422.000000</td>\n",
       "      <td>28.000000</td>\n",
       "      <td>16506.840000</td>\n",
       "    </tr>\n",
       "    <tr>\n",
       "      <td>75%</td>\n",
       "      <td>545.000000</td>\n",
       "      <td>51.000000</td>\n",
       "      <td>20042.930000</td>\n",
       "    </tr>\n",
       "    <tr>\n",
       "      <td>max</td>\n",
       "      <td>1435.000000</td>\n",
       "      <td>143.000000</td>\n",
       "      <td>38552.450000</td>\n",
       "    </tr>\n",
       "  </tbody>\n",
       "</table>\n",
       "</div>"
      ],
      "text/plain": [
       "          duration     messages       mb_used\n",
       "count  2229.000000  2229.000000   2229.000000\n",
       "mean    417.934948    33.384029  16208.386990\n",
       "std     190.313730    28.227876   5870.476681\n",
       "min       0.000000     0.000000      0.000000\n",
       "25%     282.000000    10.000000  12643.010000\n",
       "50%     422.000000    28.000000  16506.840000\n",
       "75%     545.000000    51.000000  20042.930000\n",
       "max    1435.000000   143.000000  38552.450000"
      ]
     },
     "execution_count": 52,
     "metadata": {},
     "output_type": "execute_result"
    }
   ],
   "source": [
    "smart_stat = smart[['duration', 'messages', 'mb_used']]\n",
    "smart_stat.describe()\n"
   ]
  },
  {
   "cell_type": "code",
   "execution_count": 53,
   "metadata": {},
   "outputs": [
    {
     "data": {
      "text/html": [
       "<div>\n",
       "<style scoped>\n",
       "    .dataframe tbody tr th:only-of-type {\n",
       "        vertical-align: middle;\n",
       "    }\n",
       "\n",
       "    .dataframe tbody tr th {\n",
       "        vertical-align: top;\n",
       "    }\n",
       "\n",
       "    .dataframe thead th {\n",
       "        text-align: right;\n",
       "    }\n",
       "</style>\n",
       "<table border=\"1\" class=\"dataframe\">\n",
       "  <thead>\n",
       "    <tr style=\"text-align: right;\">\n",
       "      <th></th>\n",
       "      <th>duration</th>\n",
       "      <th>messages</th>\n",
       "      <th>mb_used</th>\n",
       "    </tr>\n",
       "  </thead>\n",
       "  <tbody>\n",
       "    <tr>\n",
       "      <td>count</td>\n",
       "      <td>985.000000</td>\n",
       "      <td>985.000000</td>\n",
       "      <td>985.000000</td>\n",
       "    </tr>\n",
       "    <tr>\n",
       "      <td>mean</td>\n",
       "      <td>526.623350</td>\n",
       "      <td>49.363452</td>\n",
       "      <td>19468.805208</td>\n",
       "    </tr>\n",
       "    <tr>\n",
       "      <td>std</td>\n",
       "      <td>317.606098</td>\n",
       "      <td>47.804457</td>\n",
       "      <td>10087.170752</td>\n",
       "    </tr>\n",
       "    <tr>\n",
       "      <td>min</td>\n",
       "      <td>0.000000</td>\n",
       "      <td>0.000000</td>\n",
       "      <td>0.000000</td>\n",
       "    </tr>\n",
       "    <tr>\n",
       "      <td>25%</td>\n",
       "      <td>284.000000</td>\n",
       "      <td>6.000000</td>\n",
       "      <td>11770.260000</td>\n",
       "    </tr>\n",
       "    <tr>\n",
       "      <td>50%</td>\n",
       "      <td>518.000000</td>\n",
       "      <td>38.000000</td>\n",
       "      <td>19308.010000</td>\n",
       "    </tr>\n",
       "    <tr>\n",
       "      <td>75%</td>\n",
       "      <td>752.000000</td>\n",
       "      <td>79.000000</td>\n",
       "      <td>26837.690000</td>\n",
       "    </tr>\n",
       "    <tr>\n",
       "      <td>max</td>\n",
       "      <td>1673.000000</td>\n",
       "      <td>224.000000</td>\n",
       "      <td>49745.690000</td>\n",
       "    </tr>\n",
       "  </tbody>\n",
       "</table>\n",
       "</div>"
      ],
      "text/plain": [
       "          duration    messages       mb_used\n",
       "count   985.000000  985.000000    985.000000\n",
       "mean    526.623350   49.363452  19468.805208\n",
       "std     317.606098   47.804457  10087.170752\n",
       "min       0.000000    0.000000      0.000000\n",
       "25%     284.000000    6.000000  11770.260000\n",
       "50%     518.000000   38.000000  19308.010000\n",
       "75%     752.000000   79.000000  26837.690000\n",
       "max    1673.000000  224.000000  49745.690000"
      ]
     },
     "execution_count": 53,
     "metadata": {},
     "output_type": "execute_result"
    }
   ],
   "source": [
    "ultra_stat = ultra[['duration', 'messages', 'mb_used']]\n",
    "ultra_stat.describe()"
   ]
  },
  {
   "cell_type": "code",
   "execution_count": 54,
   "metadata": {},
   "outputs": [
    {
     "data": {
      "text/html": [
       "<div>\n",
       "<style scoped>\n",
       "    .dataframe tbody tr th:only-of-type {\n",
       "        vertical-align: middle;\n",
       "    }\n",
       "\n",
       "    .dataframe tbody tr th {\n",
       "        vertical-align: top;\n",
       "    }\n",
       "\n",
       "    .dataframe thead tr th {\n",
       "        text-align: left;\n",
       "    }\n",
       "\n",
       "    .dataframe thead tr:last-of-type th {\n",
       "        text-align: right;\n",
       "    }\n",
       "</style>\n",
       "<table border=\"1\" class=\"dataframe\">\n",
       "  <thead>\n",
       "    <tr>\n",
       "      <th></th>\n",
       "      <th colspan=\"3\" halign=\"left\">duration</th>\n",
       "      <th colspan=\"3\" halign=\"left\">mb_used</th>\n",
       "      <th colspan=\"3\" halign=\"left\">messages</th>\n",
       "    </tr>\n",
       "    <tr>\n",
       "      <th></th>\n",
       "      <th>mean</th>\n",
       "      <th>std</th>\n",
       "      <th>var</th>\n",
       "      <th>mean</th>\n",
       "      <th>std</th>\n",
       "      <th>var</th>\n",
       "      <th>mean</th>\n",
       "      <th>std</th>\n",
       "      <th>var</th>\n",
       "    </tr>\n",
       "    <tr>\n",
       "      <th>tariff</th>\n",
       "      <th></th>\n",
       "      <th></th>\n",
       "      <th></th>\n",
       "      <th></th>\n",
       "      <th></th>\n",
       "      <th></th>\n",
       "      <th></th>\n",
       "      <th></th>\n",
       "      <th></th>\n",
       "    </tr>\n",
       "  </thead>\n",
       "  <tbody>\n",
       "    <tr>\n",
       "      <td>smart</td>\n",
       "      <td>417.934948</td>\n",
       "      <td>190.313730</td>\n",
       "      <td>36219.315784</td>\n",
       "      <td>16208.386990</td>\n",
       "      <td>5870.476681</td>\n",
       "      <td>3.446250e+07</td>\n",
       "      <td>33.384029</td>\n",
       "      <td>28.227876</td>\n",
       "      <td>796.812958</td>\n",
       "    </tr>\n",
       "    <tr>\n",
       "      <td>ultra</td>\n",
       "      <td>526.623350</td>\n",
       "      <td>317.606098</td>\n",
       "      <td>100873.633397</td>\n",
       "      <td>19468.805208</td>\n",
       "      <td>10087.170752</td>\n",
       "      <td>1.017510e+08</td>\n",
       "      <td>49.363452</td>\n",
       "      <td>47.804457</td>\n",
       "      <td>2285.266143</td>\n",
       "    </tr>\n",
       "  </tbody>\n",
       "</table>\n",
       "</div>"
      ],
      "text/plain": [
       "          duration                                  mb_used                \\\n",
       "              mean         std            var          mean           std   \n",
       "tariff                                                                      \n",
       "smart   417.934948  190.313730   36219.315784  16208.386990   5870.476681   \n",
       "ultra   526.623350  317.606098  100873.633397  19468.805208  10087.170752   \n",
       "\n",
       "                       messages                          \n",
       "                 var       mean        std          var  \n",
       "tariff                                                   \n",
       "smart   3.446250e+07  33.384029  28.227876   796.812958  \n",
       "ultra   1.017510e+08  49.363452  47.804457  2285.266143  "
      ]
     },
     "execution_count": 54,
     "metadata": {},
     "output_type": "execute_result"
    }
   ],
   "source": [
    "report_stat = report.pivot_table(index=['tariff'], values=['duration', 'mb_used', 'messages'], aggfunc={'duration': [np.mean, np.var, np.std], 'mb_used': [np.mean, np.var, np.std], 'messages': [np.mean, np.var, np.std]})\n",
    "report_stat"
   ]
  },
  {
   "cell_type": "markdown",
   "metadata": {},
   "source": [
    "Для клиентов тарифа SMART：\n",
    "средняя продожительность звонков - 417.934948, стандартное отклонение продожительности звонков - 190.313730, дисперсия продожительности звонков - 36219.315784. \n",
    "\n",
    "Для клиентов тарифа ULTRA：\n",
    "средняя продожительность звонков - 526.623350, стандартное отклонение продожительности звонков - 317.606098, дисперсия продожительности звонков - 100873.633397. \n",
    "\n",
    "Для клиентов тарифа SMART：\n",
    "среднее количество использованного трафика - 16208.386990, стандартное отклонение трафика - 5870.476681, дисперсия трафика - 3.446250e+07. \n",
    "\n",
    "Для клиентов тарифа ULTRA：\n",
    "среднее количество использованного трафика - 19468.805208, стандартное отклонение трафика - 10087.170752, дисперсия трафика - 1.017510e+08. \n",
    "\n",
    "Для клиентов тарифа SMART：\n",
    "среднее количество сообщений - 33.384029, стандартное отклонение количества сообщений - 28.227876, дисперсия количества сообщений - 796.812958. \n",
    "\n",
    "Для клиентов тарифа ULTRA：\n",
    "среднее количество сообщений - 49.363452, стандартное отклонение количества сообщений - 47.804457, дисперсия количества сообщений - 2285.266143. "
   ]
  },
  {
   "cell_type": "code",
   "execution_count": 55,
   "metadata": {},
   "outputs": [
    {
     "data": {
      "text/plain": [
       "<matplotlib.axes._subplots.AxesSubplot at 0x7f984f188050>"
      ]
     },
     "execution_count": 55,
     "metadata": {},
     "output_type": "execute_result"
    },
    {
     "data": {
      "image/png": "[encoded data removed]",
      "text/plain": [
       "<Figure size 432x288 with 1 Axes>"
      ]
     },
     "metadata": {
      "needs_background": "light"
     },
     "output_type": "display_data"
    }
   ],
   "source": [
    "report.query('tariff == \"smart\"')['duration'].plot(kind='hist', bins=30, range=(0,1500), grid=True, density=True, alpha=0.5)\n",
    "report.query('tariff == \"ultra\"')['duration'].plot(kind='hist', bins=30, range=(0,1500), grid=True, density=True, alpha=0.5)"
   ]
  },
  {
   "cell_type": "markdown",
   "metadata": {},
   "source": [
    "Распределение продождительности звонков у клиентов тарифа Смарт нормальное. Наглядно видно, что дисперсия и стандартное отклонениу тарифа Ультра больше, чем у Смарта, больше выбросов. Средняя продожительность звонков по тарифу Смарт примерно 417, эта цифра близка к пакету минут в рамках их тарифа. Возможно, их поведение обсуловлено выбором тарифа. У тарифа Ультра в пакете 3000 минут, возможно, их средняя продожительность приближена больше к реальным потребностям человека. Однако в колонке выручки по тарифу Смарт мы видим, что клиенты часто выходят за рамки абонентской платы."
   ]
  },
  {
   "cell_type": "code",
   "execution_count": 56,
   "metadata": {},
   "outputs": [
    {
     "data": {
      "text/plain": [
       "<matplotlib.axes._subplots.AxesSubplot at 0x7f984e9aaa50>"
      ]
     },
     "execution_count": 56,
     "metadata": {},
     "output_type": "execute_result"
    },
    {
     "data": {
      "image/png": "[encoded data removed]",
      "text/plain": [
       "<Figure size 432x288 with 1 Axes>"
      ]
     },
     "metadata": {
      "needs_background": "light"
     },
     "output_type": "display_data"
    }
   ],
   "source": [
    "report.query('tariff == \"smart\"')['messages'].plot(kind='hist', bins=30, grid=True, density=True, alpha=0.5)\n",
    "report.query('tariff == \"ultra\"')['messages'].plot(kind='hist', bins=30, grid=True, density=True, alpha=0.5)"
   ]
  },
  {
   "cell_type": "markdown",
   "metadata": {},
   "source": [
    "Отправка сообщений не пользуется большим спросом. Однако среднее количество сообщений клиентов тарифа Ультра выше. "
   ]
  },
  {
   "cell_type": "code",
   "execution_count": 57,
   "metadata": {},
   "outputs": [
    {
     "data": {
      "text/plain": [
       "<matplotlib.axes._subplots.AxesSubplot at 0x7f984e86a810>"
      ]
     },
     "execution_count": 57,
     "metadata": {},
     "output_type": "execute_result"
    },
    {
     "data": {
      "image/png": "[encoded data removed]",
      "text/plain": [
       "<Figure size 432x288 with 1 Axes>"
      ]
     },
     "metadata": {
      "needs_background": "light"
     },
     "output_type": "display_data"
    }
   ],
   "source": [
    "report.query('tariff == \"smart\"')['mb_used'].plot(kind='hist', bins=40, grid=True, density=True, alpha=0.5)\n",
    "report.query('tariff == \"ultra\"')['mb_used'].plot(kind='hist', bins=40, grid=True, density=True, alpha=0.5)"
   ]
  },
  {
   "cell_type": "markdown",
   "metadata": {},
   "source": [
    "Распределение тарифа Смарт нормальное. Стандартное отклонение и дисперсия меньше, чем у клиентов тарифа Ультра. В среднем клиента тарифа Смарт тратят 16 Гб интернет-трафика, что превышает количество трафика в пакете тарифа. Среднее потраченное количество трафика клиентов Ультра равно 19 Гб, что находится в рамках тарифа. Ситуация похожая со звонками, но касательно интернета, можно сделать вывод, что клиенты Смарта, скорее всего докупают интернет-трафик. "
   ]
  },
  {
   "cell_type": "markdown",
   "metadata": {},
   "source": [
    "Обобщив данные, можно сделать выводы: \n",
    "\n",
    "- Клиенты тарифа СМАРТ докупают в течение месяца услуги, так как им не хватает пакетов в рамках тарифа \n",
    "- Клиенты тарифа Ультра полностью укладываются в свои лимиты \n",
    "- Данные тарифа СМАРТ , в том числе среднее по продолжительности звонков, количеству сообщений и интернет-трафику, а также стандартное отклонение и дисперсия превышает цифры по тарифу УЛЬТРА."
   ]
  },
  {
   "cell_type": "markdown",
   "metadata": {},
   "source": [
    "В рамках проекта нам предложены две гипотезы. \n",
    "1) Средняя выручка пользователей тарифов «Ультра» и «Смарт» различаются;\n",
    "2) Средняя выручка пользователей из Москвы отличается от выручки пользователей из других регионов."
   ]
  },
  {
   "cell_type": "markdown",
   "metadata": {},
   "source": [
    "Нам дана нулевая гипотеза, пропишем альтернативную. Нам надо проверить гипотезу о равенстве двух генеральных совокупностей. \n",
    "- H₀ - Средняя выручка пользователей тарифов «Ультра» и «Смарт» равны\n",
    "- H₁ - Средняя выручка пользователей тарифов «Ультра» и «Смарт» различаются"
   ]
  },
  {
   "cell_type": "code",
   "execution_count": 58,
   "metadata": {},
   "outputs": [
    {
     "name": "stdout",
     "output_type": "stream",
     "text": [
      "p-значение: 1.6266511203134947e-298\n",
      "Отвергаем нулевую гипотезу\n"
     ]
    }
   ],
   "source": [
    "smart_re = smart['revenue']\n",
    "ultra_re = ultra['revenue']\n",
    "\n",
    "alpha = .05 \n",
    "\n",
    "results = st.ttest_ind(\n",
    "    smart_re, \n",
    "    ultra_re, \n",
    "    equal_var=False) # дисперсии не равны \n",
    "\n",
    "print('p-значение:', results.pvalue) \n",
    "\n",
    "if results.pvalue < alpha:\n",
    "    print(\"Отвергаем нулевую гипотезу\")\n",
    "else:\n",
    "    print(\"Не получилось отвергнуть нулевую гипотезу\")"
   ]
  },
  {
   "cell_type": "markdown",
   "metadata": {},
   "source": [
    "По средним данным выручки с тарифов, мы можем видеть в какую сторону сработала гипотеза. Выручки не равны, а выручка от тарифа Ультра намного больше выручки с тарифа Смарт."
   ]
  },
  {
   "cell_type": "markdown",
   "metadata": {},
   "source": [
    "Вторая гипотеза и альтернативная ней:\n",
    "\n",
    "- H₀ - Средняя выручка пользователей из Москвы равна выручке пользователей из других регионов\n",
    "- H₁ - Средняя выручка пользователей из Москвы отличается от выручки пользователей из других регионов\n"
   ]
  },
  {
   "cell_type": "code",
   "execution_count": 59,
   "metadata": {},
   "outputs": [],
   "source": [
    "moscow = report[(report['city'] == 'Москва')] # выбираем город Москва\n"
   ]
  },
  {
   "cell_type": "code",
   "execution_count": 60,
   "metadata": {},
   "outputs": [
    {
     "data": {
      "text/html": [
       "<div>\n",
       "<style scoped>\n",
       "    .dataframe tbody tr th:only-of-type {\n",
       "        vertical-align: middle;\n",
       "    }\n",
       "\n",
       "    .dataframe tbody tr th {\n",
       "        vertical-align: top;\n",
       "    }\n",
       "\n",
       "    .dataframe thead th {\n",
       "        text-align: right;\n",
       "    }\n",
       "</style>\n",
       "<table border=\"1\" class=\"dataframe\">\n",
       "  <thead>\n",
       "    <tr style=\"text-align: right;\">\n",
       "      <th></th>\n",
       "      <th>user_id</th>\n",
       "      <th>month</th>\n",
       "      <th>total_calls</th>\n",
       "      <th>duration</th>\n",
       "      <th>mb_used</th>\n",
       "      <th>messages</th>\n",
       "      <th>age</th>\n",
       "      <th>churn_date</th>\n",
       "      <th>city</th>\n",
       "      <th>first_name</th>\n",
       "      <th>...</th>\n",
       "      <th>tariff</th>\n",
       "      <th>messages_included</th>\n",
       "      <th>mb_per_month_included</th>\n",
       "      <th>minutes_included</th>\n",
       "      <th>rub_monthly_fee</th>\n",
       "      <th>rub_per_gb</th>\n",
       "      <th>rub_per_message</th>\n",
       "      <th>rub_per_minute</th>\n",
       "      <th>tariff_name</th>\n",
       "      <th>revenue</th>\n",
       "    </tr>\n",
       "  </thead>\n",
       "  <tbody>\n",
       "    <tr>\n",
       "      <td>0</td>\n",
       "      <td>1000</td>\n",
       "      <td>5</td>\n",
       "      <td>22.0</td>\n",
       "      <td>159.0</td>\n",
       "      <td>2253.49</td>\n",
       "      <td>22.0</td>\n",
       "      <td>52</td>\n",
       "      <td>NaT</td>\n",
       "      <td>Краснодар</td>\n",
       "      <td>Рафаил</td>\n",
       "      <td>...</td>\n",
       "      <td>ultra</td>\n",
       "      <td>1000</td>\n",
       "      <td>30720</td>\n",
       "      <td>3000</td>\n",
       "      <td>1950</td>\n",
       "      <td>150</td>\n",
       "      <td>1</td>\n",
       "      <td>1</td>\n",
       "      <td>ultra</td>\n",
       "      <td>1950.00</td>\n",
       "    </tr>\n",
       "    <tr>\n",
       "      <td>1</td>\n",
       "      <td>1000</td>\n",
       "      <td>6</td>\n",
       "      <td>43.0</td>\n",
       "      <td>172.0</td>\n",
       "      <td>23233.77</td>\n",
       "      <td>60.0</td>\n",
       "      <td>52</td>\n",
       "      <td>NaT</td>\n",
       "      <td>Краснодар</td>\n",
       "      <td>Рафаил</td>\n",
       "      <td>...</td>\n",
       "      <td>ultra</td>\n",
       "      <td>1000</td>\n",
       "      <td>30720</td>\n",
       "      <td>3000</td>\n",
       "      <td>1950</td>\n",
       "      <td>150</td>\n",
       "      <td>1</td>\n",
       "      <td>1</td>\n",
       "      <td>ultra</td>\n",
       "      <td>1950.00</td>\n",
       "    </tr>\n",
       "    <tr>\n",
       "      <td>2</td>\n",
       "      <td>1000</td>\n",
       "      <td>7</td>\n",
       "      <td>47.0</td>\n",
       "      <td>340.0</td>\n",
       "      <td>14003.64</td>\n",
       "      <td>75.0</td>\n",
       "      <td>52</td>\n",
       "      <td>NaT</td>\n",
       "      <td>Краснодар</td>\n",
       "      <td>Рафаил</td>\n",
       "      <td>...</td>\n",
       "      <td>ultra</td>\n",
       "      <td>1000</td>\n",
       "      <td>30720</td>\n",
       "      <td>3000</td>\n",
       "      <td>1950</td>\n",
       "      <td>150</td>\n",
       "      <td>1</td>\n",
       "      <td>1</td>\n",
       "      <td>ultra</td>\n",
       "      <td>1950.00</td>\n",
       "    </tr>\n",
       "    <tr>\n",
       "      <td>3</td>\n",
       "      <td>1000</td>\n",
       "      <td>8</td>\n",
       "      <td>52.0</td>\n",
       "      <td>408.0</td>\n",
       "      <td>14055.93</td>\n",
       "      <td>81.0</td>\n",
       "      <td>52</td>\n",
       "      <td>NaT</td>\n",
       "      <td>Краснодар</td>\n",
       "      <td>Рафаил</td>\n",
       "      <td>...</td>\n",
       "      <td>ultra</td>\n",
       "      <td>1000</td>\n",
       "      <td>30720</td>\n",
       "      <td>3000</td>\n",
       "      <td>1950</td>\n",
       "      <td>150</td>\n",
       "      <td>1</td>\n",
       "      <td>1</td>\n",
       "      <td>ultra</td>\n",
       "      <td>1950.00</td>\n",
       "    </tr>\n",
       "    <tr>\n",
       "      <td>4</td>\n",
       "      <td>1000</td>\n",
       "      <td>9</td>\n",
       "      <td>58.0</td>\n",
       "      <td>466.0</td>\n",
       "      <td>14568.91</td>\n",
       "      <td>57.0</td>\n",
       "      <td>52</td>\n",
       "      <td>NaT</td>\n",
       "      <td>Краснодар</td>\n",
       "      <td>Рафаил</td>\n",
       "      <td>...</td>\n",
       "      <td>ultra</td>\n",
       "      <td>1000</td>\n",
       "      <td>30720</td>\n",
       "      <td>3000</td>\n",
       "      <td>1950</td>\n",
       "      <td>150</td>\n",
       "      <td>1</td>\n",
       "      <td>1</td>\n",
       "      <td>ultra</td>\n",
       "      <td>1950.00</td>\n",
       "    </tr>\n",
       "    <tr>\n",
       "      <td>...</td>\n",
       "      <td>...</td>\n",
       "      <td>...</td>\n",
       "      <td>...</td>\n",
       "      <td>...</td>\n",
       "      <td>...</td>\n",
       "      <td>...</td>\n",
       "      <td>...</td>\n",
       "      <td>...</td>\n",
       "      <td>...</td>\n",
       "      <td>...</td>\n",
       "      <td>...</td>\n",
       "      <td>...</td>\n",
       "      <td>...</td>\n",
       "      <td>...</td>\n",
       "      <td>...</td>\n",
       "      <td>...</td>\n",
       "      <td>...</td>\n",
       "      <td>...</td>\n",
       "      <td>...</td>\n",
       "      <td>...</td>\n",
       "      <td>...</td>\n",
       "    </tr>\n",
       "    <tr>\n",
       "      <td>3209</td>\n",
       "      <td>1489</td>\n",
       "      <td>8</td>\n",
       "      <td>0.0</td>\n",
       "      <td>0.0</td>\n",
       "      <td>11050.56</td>\n",
       "      <td>17.0</td>\n",
       "      <td>35</td>\n",
       "      <td>NaT</td>\n",
       "      <td>Санкт-Петербург</td>\n",
       "      <td>Павел</td>\n",
       "      <td>...</td>\n",
       "      <td>smart</td>\n",
       "      <td>50</td>\n",
       "      <td>15360</td>\n",
       "      <td>500</td>\n",
       "      <td>550</td>\n",
       "      <td>200</td>\n",
       "      <td>3</td>\n",
       "      <td>3</td>\n",
       "      <td>smart</td>\n",
       "      <td>550.00</td>\n",
       "    </tr>\n",
       "    <tr>\n",
       "      <td>3210</td>\n",
       "      <td>1489</td>\n",
       "      <td>9</td>\n",
       "      <td>0.0</td>\n",
       "      <td>0.0</td>\n",
       "      <td>17206.30</td>\n",
       "      <td>32.0</td>\n",
       "      <td>35</td>\n",
       "      <td>NaT</td>\n",
       "      <td>Санкт-Петербург</td>\n",
       "      <td>Павел</td>\n",
       "      <td>...</td>\n",
       "      <td>smart</td>\n",
       "      <td>50</td>\n",
       "      <td>15360</td>\n",
       "      <td>500</td>\n",
       "      <td>550</td>\n",
       "      <td>200</td>\n",
       "      <td>3</td>\n",
       "      <td>3</td>\n",
       "      <td>smart</td>\n",
       "      <td>910.61</td>\n",
       "    </tr>\n",
       "    <tr>\n",
       "      <td>3211</td>\n",
       "      <td>1489</td>\n",
       "      <td>10</td>\n",
       "      <td>0.0</td>\n",
       "      <td>0.0</td>\n",
       "      <td>19559.44</td>\n",
       "      <td>21.0</td>\n",
       "      <td>35</td>\n",
       "      <td>NaT</td>\n",
       "      <td>Санкт-Петербург</td>\n",
       "      <td>Павел</td>\n",
       "      <td>...</td>\n",
       "      <td>smart</td>\n",
       "      <td>50</td>\n",
       "      <td>15360</td>\n",
       "      <td>500</td>\n",
       "      <td>550</td>\n",
       "      <td>200</td>\n",
       "      <td>3</td>\n",
       "      <td>3</td>\n",
       "      <td>smart</td>\n",
       "      <td>1370.20</td>\n",
       "    </tr>\n",
       "    <tr>\n",
       "      <td>3212</td>\n",
       "      <td>1489</td>\n",
       "      <td>11</td>\n",
       "      <td>0.0</td>\n",
       "      <td>0.0</td>\n",
       "      <td>17491.56</td>\n",
       "      <td>20.0</td>\n",
       "      <td>35</td>\n",
       "      <td>NaT</td>\n",
       "      <td>Санкт-Петербург</td>\n",
       "      <td>Павел</td>\n",
       "      <td>...</td>\n",
       "      <td>smart</td>\n",
       "      <td>50</td>\n",
       "      <td>15360</td>\n",
       "      <td>500</td>\n",
       "      <td>550</td>\n",
       "      <td>200</td>\n",
       "      <td>3</td>\n",
       "      <td>3</td>\n",
       "      <td>smart</td>\n",
       "      <td>966.32</td>\n",
       "    </tr>\n",
       "    <tr>\n",
       "      <td>3213</td>\n",
       "      <td>1489</td>\n",
       "      <td>12</td>\n",
       "      <td>0.0</td>\n",
       "      <td>0.0</td>\n",
       "      <td>17322.51</td>\n",
       "      <td>35.0</td>\n",
       "      <td>35</td>\n",
       "      <td>NaT</td>\n",
       "      <td>Санкт-Петербург</td>\n",
       "      <td>Павел</td>\n",
       "      <td>...</td>\n",
       "      <td>smart</td>\n",
       "      <td>50</td>\n",
       "      <td>15360</td>\n",
       "      <td>500</td>\n",
       "      <td>550</td>\n",
       "      <td>200</td>\n",
       "      <td>3</td>\n",
       "      <td>3</td>\n",
       "      <td>smart</td>\n",
       "      <td>933.30</td>\n",
       "    </tr>\n",
       "  </tbody>\n",
       "</table>\n",
       "<p>2603 rows × 22 columns</p>\n",
       "</div>"
      ],
      "text/plain": [
       "      user_id  month  total_calls  duration   mb_used  messages  age  \\\n",
       "0        1000      5         22.0     159.0   2253.49      22.0   52   \n",
       "1        1000      6         43.0     172.0  23233.77      60.0   52   \n",
       "2        1000      7         47.0     340.0  14003.64      75.0   52   \n",
       "3        1000      8         52.0     408.0  14055.93      81.0   52   \n",
       "4        1000      9         58.0     466.0  14568.91      57.0   52   \n",
       "...       ...    ...          ...       ...       ...       ...  ...   \n",
       "3209     1489      8          0.0       0.0  11050.56      17.0   35   \n",
       "3210     1489      9          0.0       0.0  17206.30      32.0   35   \n",
       "3211     1489     10          0.0       0.0  19559.44      21.0   35   \n",
       "3212     1489     11          0.0       0.0  17491.56      20.0   35   \n",
       "3213     1489     12          0.0       0.0  17322.51      35.0   35   \n",
       "\n",
       "     churn_date             city first_name  ... tariff messages_included  \\\n",
       "0           NaT        Краснодар     Рафаил  ...  ultra              1000   \n",
       "1           NaT        Краснодар     Рафаил  ...  ultra              1000   \n",
       "2           NaT        Краснодар     Рафаил  ...  ultra              1000   \n",
       "3           NaT        Краснодар     Рафаил  ...  ultra              1000   \n",
       "4           NaT        Краснодар     Рафаил  ...  ultra              1000   \n",
       "...         ...              ...        ...  ...    ...               ...   \n",
       "3209        NaT  Санкт-Петербург      Павел  ...  smart                50   \n",
       "3210        NaT  Санкт-Петербург      Павел  ...  smart                50   \n",
       "3211        NaT  Санкт-Петербург      Павел  ...  smart                50   \n",
       "3212        NaT  Санкт-Петербург      Павел  ...  smart                50   \n",
       "3213        NaT  Санкт-Петербург      Павел  ...  smart                50   \n",
       "\n",
       "     mb_per_month_included  minutes_included  rub_monthly_fee  rub_per_gb  \\\n",
       "0                    30720              3000             1950         150   \n",
       "1                    30720              3000             1950         150   \n",
       "2                    30720              3000             1950         150   \n",
       "3                    30720              3000             1950         150   \n",
       "4                    30720              3000             1950         150   \n",
       "...                    ...               ...              ...         ...   \n",
       "3209                 15360               500              550         200   \n",
       "3210                 15360               500              550         200   \n",
       "3211                 15360               500              550         200   \n",
       "3212                 15360               500              550         200   \n",
       "3213                 15360               500              550         200   \n",
       "\n",
       "      rub_per_message  rub_per_minute  tariff_name  revenue  \n",
       "0                   1               1        ultra  1950.00  \n",
       "1                   1               1        ultra  1950.00  \n",
       "2                   1               1        ultra  1950.00  \n",
       "3                   1               1        ultra  1950.00  \n",
       "4                   1               1        ultra  1950.00  \n",
       "...               ...             ...          ...      ...  \n",
       "3209                3               3        smart   550.00  \n",
       "3210                3               3        smart   910.61  \n",
       "3211                3               3        smart  1370.20  \n",
       "3212                3               3        smart   966.32  \n",
       "3213                3               3        smart   933.30  \n",
       "\n",
       "[2603 rows x 22 columns]"
      ]
     },
     "execution_count": 60,
     "metadata": {},
     "output_type": "execute_result"
    }
   ],
   "source": [
    "regions = report[(report['city'] != 'Москва')]\n",
    "regions"
   ]
  },
  {
   "cell_type": "code",
   "execution_count": 61,
   "metadata": {},
   "outputs": [
    {
     "name": "stdout",
     "output_type": "stream",
     "text": [
      "p-значение: 0.4698451945226827\n",
      "Не получилось отвергнуть нулевую гипотезу\n"
     ]
    }
   ],
   "source": [
    "moscow_re = moscow['revenue']\n",
    "regions_re = regions['revenue']\n",
    "\n",
    "alpha = 0.05\n",
    "\n",
    "results = st.ttest_ind(\n",
    "    moscow_re, \n",
    "    regions_re) \n",
    "\n",
    "print('p-значение:', results.pvalue)\n",
    "\n",
    "if (results.pvalue < alpha):\n",
    "    print(\"Отвергаем нулевую гипотезу\")\n",
    "else:\n",
    "    print(\"Не получилось отвергнуть нулевую гипотезу\")\n"
   ]
  },
  {
   "cell_type": "markdown",
   "metadata": {},
   "source": [
    "Исходя из данных по средней выручке Москвы и регионов, не получилось отвергнуть нулевую гипотезу. Средняя выручка пользователей из Москвы практически равна выручке пользователей из других регионов. "
   ]
  },
  {
   "cell_type": "markdown",
   "metadata": {},
   "source": [
    "Проведя анализ двух тарифов, мы можем сделать следующие выводы: \n",
    "\n",
    "- Клиенты тарифа SMART часто выходят за рамки пакетов своего тарифа и покупают дополнительные минуты и интернет-трафик. средняя выручка по тарифу выше базовой стоимости практически в два раза. \n",
    "- Клиенты тарифа ULTRA в подавляющем большинстве случаев не превышают лимиты своего тарифа. \n",
    "- Cредняя выручка с тарифа ULTRA выше выручки с тарифа SMART\n",
    "- Средняя выручка по Москве не отличается от выручки других регионов \n",
    "\n",
    "Можно предположить, что клиенты, которым не хватает пакетов в рамках SMART перейдут со временем на ULTRA. На данный момент выручка больше у тарифа ULTRA. Проанализировав поведение клиентов, мы увидели, что на ULTRA практически никогда не выхождят за рамки пакетов, возможно, стоит изменить условия тарифа на \"Безлимит\", что привлечет внимание и привлечет внимание клиентов без убытков по тарифу. "
   ]
  },
  {
   "cell_type": "code",
   "execution_count": null,
   "metadata": {},
   "outputs": [],
   "source": []
  }
 ],
 "metadata": {
  "ExecuteTimeLog": [
   {
    "duration": 1800,
    "start_time": "2022-01-23T01:05:28.484Z"
   },
   {
    "duration": 27,
    "start_time": "2022-01-23T01:06:11.085Z"
   },
   {
    "duration": 22,
    "start_time": "2022-01-23T01:06:30.111Z"
   },
   {
    "duration": 18,
    "start_time": "2022-01-23T01:06:41.036Z"
   },
   {
    "duration": 9,
    "start_time": "2022-01-23T01:07:00.040Z"
   },
   {
    "duration": 11,
    "start_time": "2022-01-23T01:07:23.179Z"
   },
   {
    "duration": 17,
    "start_time": "2022-01-23T01:09:59.869Z"
   },
   {
    "duration": 43,
    "start_time": "2022-01-23T01:10:27.880Z"
   },
   {
    "duration": 31,
    "start_time": "2022-01-23T01:11:30.754Z"
   },
   {
    "duration": 289,
    "start_time": "2022-01-23T15:38:54.509Z"
   },
   {
    "duration": 2083,
    "start_time": "2022-01-23T15:39:08.441Z"
   },
   {
    "duration": 45,
    "start_time": "2022-01-23T15:39:10.529Z"
   },
   {
    "duration": 24,
    "start_time": "2022-01-23T15:39:10.578Z"
   },
   {
    "duration": 453,
    "start_time": "2022-01-23T15:39:10.605Z"
   },
   {
    "duration": 21,
    "start_time": "2022-01-23T15:39:11.061Z"
   },
   {
    "duration": 41,
    "start_time": "2022-01-23T15:39:11.084Z"
   },
   {
    "duration": 45,
    "start_time": "2022-01-23T15:39:11.128Z"
   },
   {
    "duration": 56,
    "start_time": "2022-01-23T15:39:11.178Z"
   },
   {
    "duration": 53,
    "start_time": "2022-01-23T15:39:11.237Z"
   },
   {
    "duration": 10,
    "start_time": "2022-01-23T15:39:11.293Z"
   },
   {
    "duration": 12,
    "start_time": "2022-01-23T15:39:21.287Z"
   },
   {
    "duration": 51,
    "start_time": "2022-01-23T15:39:43.384Z"
   },
   {
    "duration": 20,
    "start_time": "2022-01-23T15:39:59.767Z"
   },
   {
    "duration": 12,
    "start_time": "2022-01-23T15:40:17.992Z"
   },
   {
    "duration": 31,
    "start_time": "2022-01-23T15:41:58.236Z"
   },
   {
    "duration": 24,
    "start_time": "2022-01-23T15:42:19.804Z"
   },
   {
    "duration": 15,
    "start_time": "2022-01-23T15:42:42.892Z"
   },
   {
    "duration": 13,
    "start_time": "2022-01-23T15:43:46.585Z"
   },
   {
    "duration": 13,
    "start_time": "2022-01-23T15:43:59.386Z"
   },
   {
    "duration": 6,
    "start_time": "2022-01-23T15:44:15.148Z"
   },
   {
    "duration": 16,
    "start_time": "2022-01-23T15:44:16.661Z"
   },
   {
    "duration": 8986,
    "start_time": "2022-01-23T15:44:59.696Z"
   },
   {
    "duration": 38,
    "start_time": "2022-01-23T15:45:45.078Z"
   },
   {
    "duration": 21,
    "start_time": "2022-01-23T15:45:47.839Z"
   },
   {
    "duration": 7,
    "start_time": "2022-01-23T15:52:08.148Z"
   },
   {
    "duration": 7,
    "start_time": "2022-01-23T15:52:21.177Z"
   },
   {
    "duration": 21,
    "start_time": "2022-01-23T15:52:38.362Z"
   },
   {
    "duration": 243,
    "start_time": "2022-01-23T15:54:06.614Z"
   },
   {
    "duration": 38,
    "start_time": "2022-01-23T15:54:15.457Z"
   },
   {
    "duration": 20,
    "start_time": "2022-01-23T15:54:33.531Z"
   },
   {
    "duration": 16,
    "start_time": "2022-01-23T15:55:00.930Z"
   },
   {
    "duration": 28,
    "start_time": "2022-01-23T15:56:41.273Z"
   },
   {
    "duration": 29,
    "start_time": "2022-01-23T15:56:50.227Z"
   },
   {
    "duration": 34,
    "start_time": "2022-01-23T15:57:48.516Z"
   },
   {
    "duration": 30,
    "start_time": "2022-01-23T16:05:08.987Z"
   },
   {
    "duration": 6,
    "start_time": "2022-01-23T16:07:43.700Z"
   },
   {
    "duration": 15,
    "start_time": "2022-01-23T16:07:45.791Z"
   },
   {
    "duration": 410,
    "start_time": "2022-01-23T16:09:22.760Z"
   },
   {
    "duration": 22,
    "start_time": "2022-01-23T16:09:24.883Z"
   },
   {
    "duration": 29,
    "start_time": "2022-01-23T16:09:25.328Z"
   },
   {
    "duration": 376,
    "start_time": "2022-01-23T16:09:25.835Z"
   },
   {
    "duration": 248,
    "start_time": "2022-01-23T16:09:35.287Z"
   },
   {
    "duration": 202,
    "start_time": "2022-01-23T16:09:42.300Z"
   },
   {
    "duration": 26,
    "start_time": "2022-01-23T16:09:45.122Z"
   },
   {
    "duration": 859,
    "start_time": "2022-01-23T16:09:45.524Z"
   },
   {
    "duration": 30,
    "start_time": "2022-01-23T16:10:07.401Z"
   },
   {
    "duration": 22,
    "start_time": "2022-01-23T16:10:08.251Z"
   },
   {
    "duration": 26,
    "start_time": "2022-01-23T16:10:08.796Z"
   },
   {
    "duration": 29,
    "start_time": "2022-01-23T16:19:33.907Z"
   },
   {
    "duration": 5,
    "start_time": "2022-01-23T16:22:00.452Z"
   },
   {
    "duration": 251,
    "start_time": "2022-01-23T16:33:22.171Z"
   },
   {
    "duration": 233,
    "start_time": "2022-01-23T16:34:02.885Z"
   },
   {
    "duration": 340,
    "start_time": "2022-01-23T16:34:12.653Z"
   },
   {
    "duration": 241,
    "start_time": "2022-01-23T16:34:17.874Z"
   },
   {
    "duration": 250,
    "start_time": "2022-01-23T16:34:22.230Z"
   },
   {
    "duration": 246,
    "start_time": "2022-01-23T16:34:46.223Z"
   },
   {
    "duration": 281,
    "start_time": "2022-01-23T16:36:24.829Z"
   },
   {
    "duration": 229,
    "start_time": "2022-01-23T16:36:35.985Z"
   },
   {
    "duration": 774,
    "start_time": "2022-01-23T16:37:27.029Z"
   },
   {
    "duration": 8189,
    "start_time": "2022-01-23T16:37:37.833Z"
   },
   {
    "duration": 191,
    "start_time": "2022-01-23T16:39:43.106Z"
   },
   {
    "duration": 11815,
    "start_time": "2022-01-23T16:39:51.723Z"
   },
   {
    "duration": 1941,
    "start_time": "2022-01-23T16:40:23.356Z"
   },
   {
    "duration": 43,
    "start_time": "2022-01-23T16:40:25.301Z"
   },
   {
    "duration": 34,
    "start_time": "2022-01-23T16:40:25.348Z"
   },
   {
    "duration": 29,
    "start_time": "2022-01-23T16:40:25.386Z"
   },
   {
    "duration": 13,
    "start_time": "2022-01-23T16:40:25.418Z"
   },
   {
    "duration": 12,
    "start_time": "2022-01-23T16:40:25.465Z"
   },
   {
    "duration": 26,
    "start_time": "2022-01-23T16:40:25.480Z"
   },
   {
    "duration": 73,
    "start_time": "2022-01-23T16:40:25.510Z"
   },
   {
    "duration": 33,
    "start_time": "2022-01-23T16:40:25.587Z"
   },
   {
    "duration": 7,
    "start_time": "2022-01-23T16:40:25.623Z"
   },
   {
    "duration": 37,
    "start_time": "2022-01-23T16:40:25.633Z"
   },
   {
    "duration": 36,
    "start_time": "2022-01-23T16:40:25.673Z"
   },
   {
    "duration": 26,
    "start_time": "2022-01-23T16:40:25.711Z"
   },
   {
    "duration": 35,
    "start_time": "2022-01-23T16:40:25.740Z"
   },
   {
    "duration": 19,
    "start_time": "2022-01-23T16:40:25.778Z"
   },
   {
    "duration": 27,
    "start_time": "2022-01-23T16:40:25.800Z"
   },
   {
    "duration": 49,
    "start_time": "2022-01-23T16:40:25.830Z"
   },
   {
    "duration": 23,
    "start_time": "2022-01-23T16:40:25.882Z"
   },
   {
    "duration": 10,
    "start_time": "2022-01-23T16:40:25.908Z"
   },
   {
    "duration": 9,
    "start_time": "2022-01-23T16:40:25.921Z"
   },
   {
    "duration": 25,
    "start_time": "2022-01-23T16:40:25.965Z"
   },
   {
    "duration": 160,
    "start_time": "2022-01-23T16:40:25.993Z"
   },
   {
    "duration": 1352,
    "start_time": "2022-01-23T16:40:26.157Z"
   },
   {
    "duration": 7268,
    "start_time": "2022-01-23T16:40:50.352Z"
   },
   {
    "duration": 287,
    "start_time": "2022-01-23T16:42:31.196Z"
   },
   {
    "duration": 269,
    "start_time": "2022-01-23T16:42:51.722Z"
   },
   {
    "duration": 9291,
    "start_time": "2022-01-23T16:43:13.646Z"
   },
   {
    "duration": 8139,
    "start_time": "2022-01-23T16:43:33.546Z"
   },
   {
    "duration": 11956,
    "start_time": "2022-01-23T16:44:20.144Z"
   },
   {
    "duration": 7749,
    "start_time": "2022-01-23T16:45:30.469Z"
   },
   {
    "duration": 426,
    "start_time": "2022-01-23T16:46:08.791Z"
   },
   {
    "duration": 11296,
    "start_time": "2022-01-23T16:46:42.663Z"
   },
   {
    "duration": 521,
    "start_time": "2022-01-23T16:48:56.554Z"
   },
   {
    "duration": 475,
    "start_time": "2022-01-23T16:50:15.857Z"
   },
   {
    "duration": 499,
    "start_time": "2022-01-23T16:50:41.363Z"
   },
   {
    "duration": 418,
    "start_time": "2022-01-23T16:53:08.454Z"
   },
   {
    "duration": 612,
    "start_time": "2022-01-23T16:53:20.704Z"
   },
   {
    "duration": 6,
    "start_time": "2022-01-23T16:53:31.357Z"
   },
   {
    "duration": 6,
    "start_time": "2022-01-23T16:54:07.455Z"
   },
   {
    "duration": 8,
    "start_time": "2022-01-23T16:55:54.407Z"
   },
   {
    "duration": 1104,
    "start_time": "2022-01-23T16:56:18.554Z"
   },
   {
    "duration": 1080,
    "start_time": "2022-01-23T16:56:30.818Z"
   },
   {
    "duration": 750,
    "start_time": "2022-01-23T16:56:39.931Z"
   },
   {
    "duration": 519,
    "start_time": "2022-01-23T16:57:53.226Z"
   },
   {
    "duration": 7254,
    "start_time": "2022-01-23T16:59:42.215Z"
   },
   {
    "duration": 7397,
    "start_time": "2022-01-23T16:59:59.167Z"
   },
   {
    "duration": 1889,
    "start_time": "2022-01-23T17:00:11.860Z"
   },
   {
    "duration": 28,
    "start_time": "2022-01-23T17:00:13.752Z"
   },
   {
    "duration": 28,
    "start_time": "2022-01-23T17:00:13.783Z"
   },
   {
    "duration": 18,
    "start_time": "2022-01-23T17:00:13.814Z"
   },
   {
    "duration": 33,
    "start_time": "2022-01-23T17:00:13.835Z"
   },
   {
    "duration": 19,
    "start_time": "2022-01-23T17:00:13.871Z"
   },
   {
    "duration": 17,
    "start_time": "2022-01-23T17:00:13.893Z"
   },
   {
    "duration": 60,
    "start_time": "2022-01-23T17:00:13.913Z"
   },
   {
    "duration": 31,
    "start_time": "2022-01-23T17:00:13.976Z"
   },
   {
    "duration": 8,
    "start_time": "2022-01-23T17:00:14.010Z"
   },
   {
    "duration": 14,
    "start_time": "2022-01-23T17:00:14.020Z"
   },
   {
    "duration": 54,
    "start_time": "2022-01-23T17:00:14.036Z"
   },
   {
    "duration": 24,
    "start_time": "2022-01-23T17:00:14.092Z"
   },
   {
    "duration": 13,
    "start_time": "2022-01-23T17:00:14.118Z"
   },
   {
    "duration": 42,
    "start_time": "2022-01-23T17:00:14.133Z"
   },
   {
    "duration": 15,
    "start_time": "2022-01-23T17:00:14.177Z"
   },
   {
    "duration": 33,
    "start_time": "2022-01-23T17:00:14.194Z"
   },
   {
    "duration": 42,
    "start_time": "2022-01-23T17:00:14.229Z"
   },
   {
    "duration": 7,
    "start_time": "2022-01-23T17:00:14.273Z"
   },
   {
    "duration": 10,
    "start_time": "2022-01-23T17:00:14.283Z"
   },
   {
    "duration": 19,
    "start_time": "2022-01-23T17:00:14.295Z"
   },
   {
    "duration": 162,
    "start_time": "2022-01-23T17:00:14.316Z"
   },
   {
    "duration": 9050,
    "start_time": "2022-01-23T17:00:14.483Z"
   },
   {
    "duration": 582,
    "start_time": "2022-01-23T17:00:47.397Z"
   },
   {
    "duration": 353,
    "start_time": "2022-01-23T17:00:56.783Z"
   },
   {
    "duration": 635,
    "start_time": "2022-01-23T17:03:39.061Z"
   },
   {
    "duration": 510,
    "start_time": "2022-01-23T17:03:48.801Z"
   },
   {
    "duration": 537,
    "start_time": "2022-01-23T17:03:59.852Z"
   },
   {
    "duration": 487,
    "start_time": "2022-01-23T17:04:10.498Z"
   },
   {
    "duration": 433,
    "start_time": "2022-01-23T17:04:39.336Z"
   },
   {
    "duration": 14,
    "start_time": "2022-01-23T17:06:17.546Z"
   },
   {
    "duration": 257,
    "start_time": "2022-01-24T10:41:07.660Z"
   },
   {
    "duration": 1705,
    "start_time": "2022-01-24T10:41:21.714Z"
   },
   {
    "duration": 22,
    "start_time": "2022-01-24T10:41:23.421Z"
   },
   {
    "duration": 40,
    "start_time": "2022-01-24T10:41:23.445Z"
   },
   {
    "duration": 26,
    "start_time": "2022-01-24T10:41:23.487Z"
   },
   {
    "duration": 34,
    "start_time": "2022-01-24T10:41:23.515Z"
   },
   {
    "duration": 42,
    "start_time": "2022-01-24T10:41:23.551Z"
   },
   {
    "duration": 46,
    "start_time": "2022-01-24T10:41:23.594Z"
   },
   {
    "duration": 58,
    "start_time": "2022-01-24T10:41:23.643Z"
   },
   {
    "duration": 35,
    "start_time": "2022-01-24T10:41:23.703Z"
   },
   {
    "duration": 17,
    "start_time": "2022-01-24T10:41:23.740Z"
   },
   {
    "duration": 44,
    "start_time": "2022-01-24T10:41:23.759Z"
   },
   {
    "duration": 57,
    "start_time": "2022-01-24T10:41:23.805Z"
   },
   {
    "duration": 28,
    "start_time": "2022-01-24T10:41:23.864Z"
   },
   {
    "duration": 33,
    "start_time": "2022-01-24T10:41:23.894Z"
   },
   {
    "duration": 48,
    "start_time": "2022-01-24T10:41:23.929Z"
   },
   {
    "duration": 27,
    "start_time": "2022-01-24T10:41:23.979Z"
   },
   {
    "duration": 54,
    "start_time": "2022-01-24T10:41:24.008Z"
   },
   {
    "duration": 35,
    "start_time": "2022-01-24T10:41:24.064Z"
   },
   {
    "duration": 31,
    "start_time": "2022-01-24T10:41:24.101Z"
   },
   {
    "duration": 50,
    "start_time": "2022-01-24T10:41:24.134Z"
   },
   {
    "duration": 55,
    "start_time": "2022-01-24T10:41:24.186Z"
   },
   {
    "duration": 130,
    "start_time": "2022-01-24T10:41:24.243Z"
   },
   {
    "duration": 271,
    "start_time": "2022-01-24T10:41:24.376Z"
   },
   {
    "duration": 13,
    "start_time": "2022-01-24T10:41:24.649Z"
   },
   {
    "duration": 40,
    "start_time": "2022-01-24T10:41:24.664Z"
   },
   {
    "duration": 7,
    "start_time": "2022-01-24T10:44:17.956Z"
   },
   {
    "duration": 18,
    "start_time": "2022-01-24T10:44:26.620Z"
   },
   {
    "duration": 10,
    "start_time": "2022-01-24T10:44:33.447Z"
   },
   {
    "duration": 20,
    "start_time": "2022-01-24T10:45:43.534Z"
   },
   {
    "duration": 20,
    "start_time": "2022-01-24T10:45:55.929Z"
   },
   {
    "duration": 9,
    "start_time": "2022-01-24T10:51:28.721Z"
   },
   {
    "duration": 32,
    "start_time": "2022-01-24T10:51:34.705Z"
   },
   {
    "duration": 73,
    "start_time": "2022-01-24T10:59:25.724Z"
   },
   {
    "duration": 96,
    "start_time": "2022-01-24T10:59:43.210Z"
   },
   {
    "duration": 78,
    "start_time": "2022-01-24T11:00:04.901Z"
   },
   {
    "duration": 21,
    "start_time": "2022-01-24T11:00:16.864Z"
   },
   {
    "duration": 25,
    "start_time": "2022-01-24T11:04:11.174Z"
   },
   {
    "duration": 51668,
    "start_time": "2022-01-24T11:05:32.305Z"
   },
   {
    "duration": 14,
    "start_time": "2022-01-24T11:08:30.444Z"
   },
   {
    "duration": 19,
    "start_time": "2022-01-24T11:08:57.662Z"
   },
   {
    "duration": 21,
    "start_time": "2022-01-24T11:13:31.325Z"
   },
   {
    "duration": 29,
    "start_time": "2022-01-24T11:14:04.497Z"
   },
   {
    "duration": 83,
    "start_time": "2022-01-24T11:15:19.794Z"
   },
   {
    "duration": 69,
    "start_time": "2022-01-24T11:15:25.374Z"
   },
   {
    "duration": 85,
    "start_time": "2022-01-24T11:15:31.952Z"
   },
   {
    "duration": 70,
    "start_time": "2022-01-24T11:15:39.631Z"
   },
   {
    "duration": 5,
    "start_time": "2022-01-24T11:15:49.412Z"
   },
   {
    "duration": 31,
    "start_time": "2022-01-24T11:16:04.084Z"
   },
   {
    "duration": 26,
    "start_time": "2022-01-24T11:16:15.130Z"
   },
   {
    "duration": 5,
    "start_time": "2022-01-24T11:19:16.095Z"
   },
   {
    "duration": 6344,
    "start_time": "2022-01-24T11:19:40.870Z"
   },
   {
    "duration": 76,
    "start_time": "2022-01-24T11:20:06.994Z"
   },
   {
    "duration": 25,
    "start_time": "2022-01-24T11:24:51.910Z"
   },
   {
    "duration": 41,
    "start_time": "2022-01-24T11:24:57.904Z"
   },
   {
    "duration": 5,
    "start_time": "2022-01-24T11:25:26.997Z"
   },
   {
    "duration": 5,
    "start_time": "2022-01-24T11:25:46.133Z"
   },
   {
    "duration": 7,
    "start_time": "2022-01-24T11:26:22.499Z"
   },
   {
    "duration": 6,
    "start_time": "2022-01-24T11:26:40.489Z"
   },
   {
    "duration": 64,
    "start_time": "2022-01-24T11:27:07.763Z"
   },
   {
    "duration": 5,
    "start_time": "2022-01-24T11:27:11.295Z"
   },
   {
    "duration": 5,
    "start_time": "2022-01-24T11:27:51.811Z"
   },
   {
    "duration": 8,
    "start_time": "2022-01-24T11:28:22.994Z"
   },
   {
    "duration": 8,
    "start_time": "2022-01-24T11:28:35.512Z"
   },
   {
    "duration": 28,
    "start_time": "2022-01-24T11:30:45.968Z"
   },
   {
    "duration": 16,
    "start_time": "2022-01-24T11:30:59.257Z"
   },
   {
    "duration": 17,
    "start_time": "2022-01-24T11:31:57.161Z"
   },
   {
    "duration": 5,
    "start_time": "2022-01-24T11:32:31.614Z"
   },
   {
    "duration": 6,
    "start_time": "2022-01-24T11:32:48.471Z"
   },
   {
    "duration": 217,
    "start_time": "2022-01-24T11:43:33.893Z"
   },
   {
    "duration": 333,
    "start_time": "2022-01-24T11:44:05.989Z"
   },
   {
    "duration": 521,
    "start_time": "2022-01-24T11:44:40.964Z"
   },
   {
    "duration": 30,
    "start_time": "2022-01-24T11:52:25.008Z"
   },
   {
    "duration": 32,
    "start_time": "2022-01-24T11:52:55.026Z"
   },
   {
    "duration": 37,
    "start_time": "2022-01-24T11:53:08.977Z"
   },
   {
    "duration": 220,
    "start_time": "2022-01-24T11:56:59.908Z"
   },
   {
    "duration": 413,
    "start_time": "2022-01-24T11:57:24.507Z"
   },
   {
    "duration": 400,
    "start_time": "2022-01-24T11:57:49.431Z"
   },
   {
    "duration": 343,
    "start_time": "2022-01-24T11:58:01.091Z"
   },
   {
    "duration": 28,
    "start_time": "2022-01-24T12:10:13.525Z"
   },
   {
    "duration": 1527,
    "start_time": "2022-01-24T12:13:55.343Z"
   },
   {
    "duration": 22,
    "start_time": "2022-01-24T12:13:56.873Z"
   },
   {
    "duration": 56,
    "start_time": "2022-01-24T12:13:56.897Z"
   },
   {
    "duration": 46,
    "start_time": "2022-01-24T12:13:56.955Z"
   },
   {
    "duration": 35,
    "start_time": "2022-01-24T12:13:57.003Z"
   },
   {
    "duration": 24,
    "start_time": "2022-01-24T12:13:57.040Z"
   },
   {
    "duration": 58,
    "start_time": "2022-01-24T12:13:57.066Z"
   },
   {
    "duration": 75,
    "start_time": "2022-01-24T12:13:57.126Z"
   },
   {
    "duration": 53,
    "start_time": "2022-01-24T12:13:57.204Z"
   },
   {
    "duration": 24,
    "start_time": "2022-01-24T12:13:57.259Z"
   },
   {
    "duration": 38,
    "start_time": "2022-01-24T12:13:57.285Z"
   },
   {
    "duration": 70,
    "start_time": "2022-01-24T12:13:57.325Z"
   },
   {
    "duration": 28,
    "start_time": "2022-01-24T12:13:57.397Z"
   },
   {
    "duration": 24,
    "start_time": "2022-01-24T12:13:57.426Z"
   },
   {
    "duration": 34,
    "start_time": "2022-01-24T12:13:57.452Z"
   },
   {
    "duration": 42,
    "start_time": "2022-01-24T12:13:57.488Z"
   },
   {
    "duration": 67,
    "start_time": "2022-01-24T12:13:57.531Z"
   },
   {
    "duration": 39,
    "start_time": "2022-01-24T12:13:57.600Z"
   },
   {
    "duration": 41,
    "start_time": "2022-01-24T12:13:57.641Z"
   },
   {
    "duration": 33,
    "start_time": "2022-01-24T12:13:57.683Z"
   },
   {
    "duration": 36,
    "start_time": "2022-01-24T12:13:57.718Z"
   },
   {
    "duration": 116,
    "start_time": "2022-01-24T12:13:57.756Z"
   },
   {
    "duration": 280,
    "start_time": "2022-01-24T12:13:57.874Z"
   },
   {
    "duration": 10,
    "start_time": "2022-01-24T12:13:58.156Z"
   },
   {
    "duration": 58,
    "start_time": "2022-01-24T12:13:58.168Z"
   },
   {
    "duration": 51,
    "start_time": "2022-01-24T12:13:58.229Z"
   },
   {
    "duration": 43,
    "start_time": "2022-01-24T12:13:58.282Z"
   },
   {
    "duration": 50,
    "start_time": "2022-01-24T12:13:58.327Z"
   },
   {
    "duration": 67,
    "start_time": "2022-01-24T12:13:58.379Z"
   },
   {
    "duration": 347,
    "start_time": "2022-01-24T12:31:58.736Z"
   },
   {
    "duration": 256,
    "start_time": "2022-01-24T12:32:27.366Z"
   },
   {
    "duration": 193,
    "start_time": "2022-01-24T12:32:40.110Z"
   },
   {
    "duration": 204,
    "start_time": "2022-01-24T12:32:47.092Z"
   },
   {
    "duration": 198,
    "start_time": "2022-01-24T12:33:14.797Z"
   },
   {
    "duration": 213,
    "start_time": "2022-01-24T12:33:24.156Z"
   },
   {
    "duration": 229,
    "start_time": "2022-01-24T12:33:33.327Z"
   },
   {
    "duration": 416,
    "start_time": "2022-01-24T12:35:35.657Z"
   },
   {
    "duration": 610,
    "start_time": "2022-01-24T12:35:39.936Z"
   },
   {
    "duration": 484,
    "start_time": "2022-01-24T12:35:55.883Z"
   },
   {
    "duration": 1957,
    "start_time": "2022-01-24T12:36:10.674Z"
   },
   {
    "duration": 496,
    "start_time": "2022-01-24T12:36:28.985Z"
   },
   {
    "duration": 335,
    "start_time": "2022-01-24T12:36:56.580Z"
   },
   {
    "duration": 479,
    "start_time": "2022-01-24T12:37:09.488Z"
   },
   {
    "duration": 306,
    "start_time": "2022-01-24T12:37:48.824Z"
   },
   {
    "duration": 314,
    "start_time": "2022-01-24T12:38:08.407Z"
   },
   {
    "duration": 344,
    "start_time": "2022-01-24T12:38:14.671Z"
   },
   {
    "duration": 330,
    "start_time": "2022-01-24T12:38:28.107Z"
   },
   {
    "duration": 280,
    "start_time": "2022-01-24T12:38:34.671Z"
   },
   {
    "duration": 292,
    "start_time": "2022-01-24T12:48:34.622Z"
   },
   {
    "duration": 205,
    "start_time": "2022-01-24T12:48:43.420Z"
   },
   {
    "duration": 276,
    "start_time": "2022-01-24T12:48:55.942Z"
   },
   {
    "duration": 206,
    "start_time": "2022-01-24T12:50:24.477Z"
   },
   {
    "duration": 218,
    "start_time": "2022-01-24T12:51:13.656Z"
   },
   {
    "duration": 10,
    "start_time": "2022-01-24T12:51:52.420Z"
   },
   {
    "duration": 10,
    "start_time": "2022-01-24T12:51:56.077Z"
   },
   {
    "duration": 11,
    "start_time": "2022-01-24T12:52:11.083Z"
   },
   {
    "duration": 8,
    "start_time": "2022-01-24T12:52:14.200Z"
   },
   {
    "duration": 5,
    "start_time": "2022-01-24T12:53:37.249Z"
   },
   {
    "duration": 6,
    "start_time": "2022-01-24T12:54:48.841Z"
   },
   {
    "duration": 5,
    "start_time": "2022-01-24T12:55:18.105Z"
   },
   {
    "duration": 30,
    "start_time": "2022-01-24T12:55:23.743Z"
   },
   {
    "duration": 32,
    "start_time": "2022-01-24T12:55:31.044Z"
   },
   {
    "duration": 226,
    "start_time": "2022-01-24T12:55:41.224Z"
   },
   {
    "duration": 211,
    "start_time": "2022-01-24T12:56:08.593Z"
   },
   {
    "duration": 5,
    "start_time": "2022-01-24T13:00:43.509Z"
   },
   {
    "duration": 5,
    "start_time": "2022-01-24T13:00:50.268Z"
   },
   {
    "duration": 7,
    "start_time": "2022-01-24T13:00:59.380Z"
   },
   {
    "duration": 6,
    "start_time": "2022-01-24T13:01:11.872Z"
   },
   {
    "duration": 1436,
    "start_time": "2022-01-24T13:02:40.912Z"
   },
   {
    "duration": 20,
    "start_time": "2022-01-24T13:02:42.350Z"
   },
   {
    "duration": 34,
    "start_time": "2022-01-24T13:02:42.374Z"
   },
   {
    "duration": 27,
    "start_time": "2022-01-24T13:02:42.410Z"
   },
   {
    "duration": 23,
    "start_time": "2022-01-24T13:02:42.439Z"
   },
   {
    "duration": 26,
    "start_time": "2022-01-24T13:02:42.464Z"
   },
   {
    "duration": 28,
    "start_time": "2022-01-24T13:02:42.493Z"
   },
   {
    "duration": 55,
    "start_time": "2022-01-24T13:02:42.523Z"
   },
   {
    "duration": 23,
    "start_time": "2022-01-24T13:02:42.580Z"
   },
   {
    "duration": 5,
    "start_time": "2022-01-24T13:02:42.605Z"
   },
   {
    "duration": 17,
    "start_time": "2022-01-24T13:02:42.612Z"
   },
   {
    "duration": 50,
    "start_time": "2022-01-24T13:02:42.630Z"
   },
   {
    "duration": 18,
    "start_time": "2022-01-24T13:02:42.682Z"
   },
   {
    "duration": 34,
    "start_time": "2022-01-24T13:02:42.701Z"
   },
   {
    "duration": 32,
    "start_time": "2022-01-24T13:02:42.737Z"
   },
   {
    "duration": 22,
    "start_time": "2022-01-24T13:02:42.771Z"
   },
   {
    "duration": 41,
    "start_time": "2022-01-24T13:02:42.795Z"
   },
   {
    "duration": 21,
    "start_time": "2022-01-24T13:02:42.838Z"
   },
   {
    "duration": 5,
    "start_time": "2022-01-24T13:02:42.861Z"
   },
   {
    "duration": 33,
    "start_time": "2022-01-24T13:02:42.867Z"
   },
   {
    "duration": 23,
    "start_time": "2022-01-24T13:02:42.902Z"
   },
   {
    "duration": 115,
    "start_time": "2022-01-24T13:02:42.927Z"
   },
   {
    "duration": 269,
    "start_time": "2022-01-24T13:02:43.044Z"
   },
   {
    "duration": 9,
    "start_time": "2022-01-24T13:02:43.314Z"
   },
   {
    "duration": 34,
    "start_time": "2022-01-24T13:02:43.326Z"
   },
   {
    "duration": 42,
    "start_time": "2022-01-24T13:02:43.362Z"
   },
   {
    "duration": 31,
    "start_time": "2022-01-24T13:02:43.406Z"
   },
   {
    "duration": 22,
    "start_time": "2022-01-24T13:02:43.439Z"
   },
   {
    "duration": 36,
    "start_time": "2022-01-24T13:02:43.463Z"
   },
   {
    "duration": 28,
    "start_time": "2022-01-24T13:02:43.501Z"
   },
   {
    "duration": 355,
    "start_time": "2022-01-24T13:02:43.531Z"
   },
   {
    "duration": 293,
    "start_time": "2022-01-24T13:02:43.888Z"
   },
   {
    "duration": 310,
    "start_time": "2022-01-24T13:02:44.182Z"
   },
   {
    "duration": 298,
    "start_time": "2022-01-24T13:02:44.494Z"
   },
   {
    "duration": 218,
    "start_time": "2022-01-24T13:04:20.101Z"
   },
   {
    "duration": 218,
    "start_time": "2022-01-24T13:04:45.307Z"
   },
   {
    "duration": 240,
    "start_time": "2022-01-24T13:04:52.373Z"
   },
   {
    "duration": 8,
    "start_time": "2022-01-24T13:05:48.377Z"
   },
   {
    "duration": 31,
    "start_time": "2022-01-24T13:10:35.490Z"
   },
   {
    "duration": 6,
    "start_time": "2022-01-24T13:10:58.850Z"
   },
   {
    "duration": 33,
    "start_time": "2022-01-24T13:11:09.066Z"
   },
   {
    "duration": 8,
    "start_time": "2022-01-24T13:12:07.982Z"
   },
   {
    "duration": 71,
    "start_time": "2022-01-24T18:23:06.106Z"
   },
   {
    "duration": 71,
    "start_time": "2022-01-24T18:23:56.165Z"
   },
   {
    "duration": 268,
    "start_time": "2022-01-24T18:39:33.503Z"
   },
   {
    "duration": 1450,
    "start_time": "2022-01-24T18:39:40.701Z"
   },
   {
    "duration": 19,
    "start_time": "2022-01-24T18:39:42.153Z"
   },
   {
    "duration": 17,
    "start_time": "2022-01-24T18:39:42.174Z"
   },
   {
    "duration": 13,
    "start_time": "2022-01-24T18:39:42.192Z"
   },
   {
    "duration": 6,
    "start_time": "2022-01-24T18:39:42.206Z"
   },
   {
    "duration": 7,
    "start_time": "2022-01-24T18:39:42.213Z"
   },
   {
    "duration": 10,
    "start_time": "2022-01-24T18:39:42.222Z"
   },
   {
    "duration": 29,
    "start_time": "2022-01-24T18:39:42.234Z"
   },
   {
    "duration": 22,
    "start_time": "2022-01-24T18:39:42.265Z"
   },
   {
    "duration": 27,
    "start_time": "2022-01-24T18:39:42.288Z"
   },
   {
    "duration": 7,
    "start_time": "2022-01-24T18:39:42.317Z"
   },
   {
    "duration": 22,
    "start_time": "2022-01-24T18:39:42.326Z"
   },
   {
    "duration": 15,
    "start_time": "2022-01-24T18:39:42.350Z"
   },
   {
    "duration": 8,
    "start_time": "2022-01-24T18:39:42.367Z"
   },
   {
    "duration": 35,
    "start_time": "2022-01-24T18:39:42.377Z"
   },
   {
    "duration": 9,
    "start_time": "2022-01-24T18:39:42.414Z"
   },
   {
    "duration": 20,
    "start_time": "2022-01-24T18:39:42.424Z"
   },
   {
    "duration": 14,
    "start_time": "2022-01-24T18:39:42.446Z"
   },
   {
    "duration": 5,
    "start_time": "2022-01-24T18:39:42.461Z"
   },
   {
    "duration": 10,
    "start_time": "2022-01-24T18:39:42.467Z"
   },
   {
    "duration": 34,
    "start_time": "2022-01-24T18:39:42.478Z"
   },
   {
    "duration": 79,
    "start_time": "2022-01-24T18:39:42.513Z"
   },
   {
    "duration": 252,
    "start_time": "2022-01-24T18:39:42.595Z"
   },
   {
    "duration": 8,
    "start_time": "2022-01-24T18:39:42.849Z"
   },
   {
    "duration": 28,
    "start_time": "2022-01-24T18:39:42.858Z"
   },
   {
    "duration": 48,
    "start_time": "2022-01-24T18:39:42.888Z"
   },
   {
    "duration": 17,
    "start_time": "2022-01-24T18:39:42.938Z"
   },
   {
    "duration": 17,
    "start_time": "2022-01-24T18:39:42.957Z"
   },
   {
    "duration": 49,
    "start_time": "2022-01-24T18:39:42.976Z"
   },
   {
    "duration": 374,
    "start_time": "2022-01-24T18:39:43.026Z"
   },
   {
    "duration": 294,
    "start_time": "2022-01-24T18:39:43.402Z"
   },
   {
    "duration": 349,
    "start_time": "2022-01-24T18:39:43.698Z"
   },
   {
    "duration": 7,
    "start_time": "2022-01-24T18:39:44.049Z"
   },
   {
    "duration": 4,
    "start_time": "2022-01-24T18:39:44.058Z"
   },
   {
    "duration": 48,
    "start_time": "2022-01-24T18:39:44.064Z"
   },
   {
    "duration": 6,
    "start_time": "2022-01-24T18:39:44.114Z"
   },
   {
    "duration": 381,
    "start_time": "2022-01-24T19:07:50.319Z"
   },
   {
    "duration": 416,
    "start_time": "2022-01-24T19:07:58.039Z"
   },
   {
    "duration": 371,
    "start_time": "2022-01-24T19:08:06.383Z"
   },
   {
    "duration": 290,
    "start_time": "2022-01-24T19:09:27.782Z"
   },
   {
    "duration": 236,
    "start_time": "2022-01-24T19:10:25.754Z"
   },
   {
    "duration": 298,
    "start_time": "2022-01-24T19:10:31.419Z"
   },
   {
    "duration": 297,
    "start_time": "2022-01-24T19:19:39.711Z"
   },
   {
    "duration": 440,
    "start_time": "2022-01-24T19:25:04.992Z"
   },
   {
    "duration": 5,
    "start_time": "2022-01-24T19:53:03.259Z"
   },
   {
    "duration": 1435,
    "start_time": "2022-01-24T20:07:31.769Z"
   },
   {
    "duration": 21,
    "start_time": "2022-01-24T20:07:33.205Z"
   },
   {
    "duration": 16,
    "start_time": "2022-01-24T20:07:33.228Z"
   },
   {
    "duration": 13,
    "start_time": "2022-01-24T20:07:33.246Z"
   },
   {
    "duration": 6,
    "start_time": "2022-01-24T20:07:33.261Z"
   },
   {
    "duration": 8,
    "start_time": "2022-01-24T20:07:33.269Z"
   },
   {
    "duration": 39,
    "start_time": "2022-01-24T20:07:33.279Z"
   },
   {
    "duration": 30,
    "start_time": "2022-01-24T20:07:33.321Z"
   },
   {
    "duration": 22,
    "start_time": "2022-01-24T20:07:33.354Z"
   },
   {
    "duration": 5,
    "start_time": "2022-01-24T20:07:33.378Z"
   },
   {
    "duration": 33,
    "start_time": "2022-01-24T20:07:33.385Z"
   },
   {
    "duration": 23,
    "start_time": "2022-01-24T20:07:33.421Z"
   },
   {
    "duration": 19,
    "start_time": "2022-01-24T20:07:33.446Z"
   },
   {
    "duration": 10,
    "start_time": "2022-01-24T20:07:33.467Z"
   },
   {
    "duration": 37,
    "start_time": "2022-01-24T20:07:33.479Z"
   },
   {
    "duration": 12,
    "start_time": "2022-01-24T20:07:33.518Z"
   },
   {
    "duration": 20,
    "start_time": "2022-01-24T20:07:33.532Z"
   },
   {
    "duration": 15,
    "start_time": "2022-01-24T20:07:33.554Z"
   },
   {
    "duration": 5,
    "start_time": "2022-01-24T20:07:33.571Z"
   },
   {
    "duration": 41,
    "start_time": "2022-01-24T20:07:33.578Z"
   },
   {
    "duration": 11,
    "start_time": "2022-01-24T20:07:33.621Z"
   },
   {
    "duration": 98,
    "start_time": "2022-01-24T20:07:33.634Z"
   },
   {
    "duration": 278,
    "start_time": "2022-01-24T20:07:33.735Z"
   },
   {
    "duration": 27,
    "start_time": "2022-01-24T20:07:34.015Z"
   },
   {
    "duration": 27,
    "start_time": "2022-01-24T20:07:34.044Z"
   },
   {
    "duration": 41,
    "start_time": "2022-01-24T20:07:34.073Z"
   },
   {
    "duration": 21,
    "start_time": "2022-01-24T20:07:34.115Z"
   },
   {
    "duration": 26,
    "start_time": "2022-01-24T20:07:34.138Z"
   },
   {
    "duration": 317,
    "start_time": "2022-01-24T20:07:34.166Z"
   },
   {
    "duration": 293,
    "start_time": "2022-01-24T20:07:34.485Z"
   },
   {
    "duration": 348,
    "start_time": "2022-01-24T20:07:34.780Z"
   },
   {
    "duration": 7,
    "start_time": "2022-01-24T20:07:35.130Z"
   },
   {
    "duration": 7,
    "start_time": "2022-01-24T20:07:35.139Z"
   },
   {
    "duration": 31,
    "start_time": "2022-01-24T20:07:35.147Z"
   },
   {
    "duration": 7,
    "start_time": "2022-01-24T20:07:35.180Z"
   },
   {
    "duration": 262,
    "start_time": "2022-02-01T09:54:23.477Z"
   },
   {
    "duration": 1631,
    "start_time": "2022-02-01T09:54:27.384Z"
   },
   {
    "duration": 23,
    "start_time": "2022-02-01T09:54:29.016Z"
   },
   {
    "duration": 18,
    "start_time": "2022-02-01T09:54:29.041Z"
   },
   {
    "duration": 15,
    "start_time": "2022-02-01T09:54:29.062Z"
   },
   {
    "duration": 20,
    "start_time": "2022-02-01T09:54:29.078Z"
   },
   {
    "duration": 7,
    "start_time": "2022-02-01T09:54:29.100Z"
   },
   {
    "duration": 16,
    "start_time": "2022-02-01T09:54:29.109Z"
   },
   {
    "duration": 51,
    "start_time": "2022-02-01T09:54:29.128Z"
   },
   {
    "duration": 30,
    "start_time": "2022-02-01T09:54:29.181Z"
   },
   {
    "duration": 6,
    "start_time": "2022-02-01T09:54:29.212Z"
   },
   {
    "duration": 17,
    "start_time": "2022-02-01T09:54:29.220Z"
   },
   {
    "duration": 40,
    "start_time": "2022-02-01T09:54:29.239Z"
   },
   {
    "duration": 38,
    "start_time": "2022-02-01T09:54:29.281Z"
   },
   {
    "duration": 9,
    "start_time": "2022-02-01T09:54:29.321Z"
   },
   {
    "duration": 20,
    "start_time": "2022-02-01T09:54:29.332Z"
   },
   {
    "duration": 24,
    "start_time": "2022-02-01T09:54:29.354Z"
   },
   {
    "duration": 33,
    "start_time": "2022-02-01T09:54:29.379Z"
   },
   {
    "duration": 21,
    "start_time": "2022-02-01T09:54:29.414Z"
   },
   {
    "duration": 5,
    "start_time": "2022-02-01T09:54:29.437Z"
   },
   {
    "duration": 30,
    "start_time": "2022-02-01T09:54:29.444Z"
   },
   {
    "duration": 18,
    "start_time": "2022-02-01T09:54:29.476Z"
   },
   {
    "duration": 115,
    "start_time": "2022-02-01T09:54:29.496Z"
   },
   {
    "duration": 6771,
    "start_time": "2022-02-01T09:54:30.765Z"
   },
   {
    "duration": -142,
    "start_time": "2022-02-01T09:54:37.680Z"
   },
   {
    "duration": 5637,
    "start_time": "2022-02-01T09:54:55.792Z"
   },
   {
    "duration": 10,
    "start_time": "2022-02-01T09:55:28.543Z"
   },
   {
    "duration": 276,
    "start_time": "2022-02-01T09:55:38.816Z"
   },
   {
    "duration": 58,
    "start_time": "2022-02-01T09:55:53.172Z"
   },
   {
    "duration": 5529,
    "start_time": "2022-02-01T09:56:03.431Z"
   },
   {
    "duration": 327,
    "start_time": "2022-02-01T12:30:17.738Z"
   },
   {
    "duration": 1839,
    "start_time": "2022-02-01T12:30:32.519Z"
   },
   {
    "duration": 28,
    "start_time": "2022-02-01T12:30:34.362Z"
   },
   {
    "duration": 24,
    "start_time": "2022-02-01T12:30:34.395Z"
   },
   {
    "duration": 25,
    "start_time": "2022-02-01T12:30:34.422Z"
   },
   {
    "duration": 11,
    "start_time": "2022-02-01T12:30:34.450Z"
   },
   {
    "duration": 10,
    "start_time": "2022-02-01T12:30:34.463Z"
   },
   {
    "duration": 62,
    "start_time": "2022-02-01T12:30:34.476Z"
   },
   {
    "duration": 44,
    "start_time": "2022-02-01T12:30:34.540Z"
   },
   {
    "duration": 49,
    "start_time": "2022-02-01T12:30:34.589Z"
   },
   {
    "duration": 8,
    "start_time": "2022-02-01T12:30:34.641Z"
   },
   {
    "duration": 17,
    "start_time": "2022-02-01T12:30:34.652Z"
   },
   {
    "duration": 60,
    "start_time": "2022-02-01T12:30:34.672Z"
   },
   {
    "duration": 25,
    "start_time": "2022-02-01T12:30:34.735Z"
   },
   {
    "duration": 15,
    "start_time": "2022-02-01T12:30:34.762Z"
   },
   {
    "duration": 14,
    "start_time": "2022-02-01T12:30:34.779Z"
   },
   {
    "duration": 39,
    "start_time": "2022-02-01T12:30:34.795Z"
   },
   {
    "duration": 28,
    "start_time": "2022-02-01T12:30:34.836Z"
   },
   {
    "duration": 20,
    "start_time": "2022-02-01T12:30:34.866Z"
   },
   {
    "duration": 6,
    "start_time": "2022-02-01T12:30:34.889Z"
   },
   {
    "duration": 5,
    "start_time": "2022-02-01T12:30:34.932Z"
   },
   {
    "duration": 19,
    "start_time": "2022-02-01T12:30:34.940Z"
   },
   {
    "duration": 401,
    "start_time": "2022-02-01T12:30:34.961Z"
   },
   {
    "duration": -45585,
    "start_time": "2022-02-01T12:31:20.950Z"
   },
   {
    "duration": -45622,
    "start_time": "2022-02-01T12:31:20.988Z"
   },
   {
    "duration": -45624,
    "start_time": "2022-02-01T12:31:20.991Z"
   },
   {
    "duration": -45624,
    "start_time": "2022-02-01T12:31:20.993Z"
   },
   {
    "duration": -45624,
    "start_time": "2022-02-01T12:31:20.994Z"
   },
   {
    "duration": -45625,
    "start_time": "2022-02-01T12:31:20.996Z"
   },
   {
    "duration": -45625,
    "start_time": "2022-02-01T12:31:20.998Z"
   },
   {
    "duration": -45626,
    "start_time": "2022-02-01T12:31:21.000Z"
   },
   {
    "duration": -45627,
    "start_time": "2022-02-01T12:31:21.002Z"
   },
   {
    "duration": -45627,
    "start_time": "2022-02-01T12:31:21.004Z"
   },
   {
    "duration": -45629,
    "start_time": "2022-02-01T12:31:21.007Z"
   },
   {
    "duration": -45650,
    "start_time": "2022-02-01T12:31:21.030Z"
   },
   {
    "duration": -45651,
    "start_time": "2022-02-01T12:31:21.032Z"
   },
   {
    "duration": 1739,
    "start_time": "2022-02-01T12:31:03.360Z"
   },
   {
    "duration": 28,
    "start_time": "2022-02-01T12:31:05.102Z"
   },
   {
    "duration": 23,
    "start_time": "2022-02-01T12:31:05.133Z"
   },
   {
    "duration": 18,
    "start_time": "2022-02-01T12:31:05.159Z"
   },
   {
    "duration": 8,
    "start_time": "2022-02-01T12:31:05.180Z"
   },
   {
    "duration": 42,
    "start_time": "2022-02-01T12:31:05.190Z"
   },
   {
    "duration": 15,
    "start_time": "2022-02-01T12:31:05.235Z"
   },
   {
    "duration": 43,
    "start_time": "2022-02-01T12:31:05.254Z"
   },
   {
    "duration": 61,
    "start_time": "2022-02-01T12:31:05.300Z"
   },
   {
    "duration": 7,
    "start_time": "2022-02-01T12:31:05.363Z"
   },
   {
    "duration": 17,
    "start_time": "2022-02-01T12:31:05.372Z"
   },
   {
    "duration": 54,
    "start_time": "2022-02-01T12:31:05.391Z"
   },
   {
    "duration": 23,
    "start_time": "2022-02-01T12:31:05.448Z"
   },
   {
    "duration": 13,
    "start_time": "2022-02-01T12:31:05.473Z"
   },
   {
    "duration": 15,
    "start_time": "2022-02-01T12:31:05.489Z"
   },
   {
    "duration": 37,
    "start_time": "2022-02-01T12:31:05.506Z"
   },
   {
    "duration": 39,
    "start_time": "2022-02-01T12:31:05.545Z"
   },
   {
    "duration": 22,
    "start_time": "2022-02-01T12:31:05.586Z"
   },
   {
    "duration": 25,
    "start_time": "2022-02-01T12:31:05.611Z"
   },
   {
    "duration": 15,
    "start_time": "2022-02-01T12:31:05.639Z"
   },
   {
    "duration": 26,
    "start_time": "2022-02-01T12:31:05.656Z"
   },
   {
    "duration": 113,
    "start_time": "2022-02-01T12:31:05.685Z"
   },
   {
    "duration": -45561,
    "start_time": "2022-02-01T12:31:51.363Z"
   },
   {
    "duration": -45565,
    "start_time": "2022-02-01T12:31:51.369Z"
   },
   {
    "duration": -45571,
    "start_time": "2022-02-01T12:31:51.378Z"
   },
   {
    "duration": -45571,
    "start_time": "2022-02-01T12:31:51.380Z"
   },
   {
    "duration": -45576,
    "start_time": "2022-02-01T12:31:51.387Z"
   },
   {
    "duration": -45582,
    "start_time": "2022-02-01T12:31:51.395Z"
   },
   {
    "duration": -45581,
    "start_time": "2022-02-01T12:31:51.397Z"
   },
   {
    "duration": -45581,
    "start_time": "2022-02-01T12:31:51.399Z"
   },
   {
    "duration": -45580,
    "start_time": "2022-02-01T12:31:51.400Z"
   },
   {
    "duration": -45580,
    "start_time": "2022-02-01T12:31:51.402Z"
   },
   {
    "duration": -45587,
    "start_time": "2022-02-01T12:31:51.411Z"
   },
   {
    "duration": -45586,
    "start_time": "2022-02-01T12:31:51.413Z"
   },
   {
    "duration": -45586,
    "start_time": "2022-02-01T12:31:51.415Z"
   },
   {
    "duration": 1730,
    "start_time": "2022-02-01T12:32:17.852Z"
   },
   {
    "duration": 27,
    "start_time": "2022-02-01T12:32:19.585Z"
   },
   {
    "duration": 22,
    "start_time": "2022-02-01T12:32:19.616Z"
   },
   {
    "duration": 17,
    "start_time": "2022-02-01T12:32:19.640Z"
   },
   {
    "duration": 8,
    "start_time": "2022-02-01T12:32:19.660Z"
   },
   {
    "duration": 14,
    "start_time": "2022-02-01T12:32:19.671Z"
   },
   {
    "duration": 46,
    "start_time": "2022-02-01T12:32:19.688Z"
   },
   {
    "duration": 41,
    "start_time": "2022-02-01T12:32:19.737Z"
   },
   {
    "duration": 51,
    "start_time": "2022-02-01T12:32:19.781Z"
   },
   {
    "duration": 6,
    "start_time": "2022-02-01T12:32:19.835Z"
   },
   {
    "duration": 13,
    "start_time": "2022-02-01T12:32:19.844Z"
   },
   {
    "duration": 34,
    "start_time": "2022-02-01T12:32:19.860Z"
   },
   {
    "duration": 48,
    "start_time": "2022-02-01T12:32:19.897Z"
   },
   {
    "duration": 14,
    "start_time": "2022-02-01T12:32:19.947Z"
   },
   {
    "duration": 11,
    "start_time": "2022-02-01T12:32:19.964Z"
   },
   {
    "duration": 15,
    "start_time": "2022-02-01T12:32:19.977Z"
   },
   {
    "duration": 58,
    "start_time": "2022-02-01T12:32:19.994Z"
   },
   {
    "duration": 21,
    "start_time": "2022-02-01T12:32:20.054Z"
   },
   {
    "duration": 6,
    "start_time": "2022-02-01T12:32:20.077Z"
   },
   {
    "duration": 8,
    "start_time": "2022-02-01T12:32:20.085Z"
   },
   {
    "duration": 49,
    "start_time": "2022-02-01T12:32:20.095Z"
   },
   {
    "duration": 142,
    "start_time": "2022-02-01T12:32:20.147Z"
   },
   {
    "duration": 460,
    "start_time": "2022-02-01T12:32:20.296Z"
   },
   {
    "duration": 46,
    "start_time": "2022-02-01T12:32:20.760Z"
   },
   {
    "duration": 66,
    "start_time": "2022-02-01T12:32:20.809Z"
   },
   {
    "duration": 27,
    "start_time": "2022-02-01T12:32:20.877Z"
   },
   {
    "duration": 48,
    "start_time": "2022-02-01T12:32:20.906Z"
   },
   {
    "duration": 40,
    "start_time": "2022-02-01T12:32:20.956Z"
   },
   {
    "duration": 491,
    "start_time": "2022-02-01T12:32:20.999Z"
   },
   {
    "duration": 473,
    "start_time": "2022-02-01T12:32:21.492Z"
   },
   {
    "duration": 550,
    "start_time": "2022-02-01T12:32:21.967Z"
   },
   {
    "duration": 18,
    "start_time": "2022-02-01T12:32:22.520Z"
   },
   {
    "duration": 8,
    "start_time": "2022-02-01T12:32:22.540Z"
   },
   {
    "duration": 55,
    "start_time": "2022-02-01T12:32:22.550Z"
   },
   {
    "duration": 29,
    "start_time": "2022-02-01T12:32:22.607Z"
   },
   {
    "duration": 8243,
    "start_time": "2022-02-01T12:36:42.501Z"
   },
   {
    "duration": 9208,
    "start_time": "2022-02-01T12:37:25.231Z"
   },
   {
    "duration": 1832,
    "start_time": "2022-02-01T12:37:52.184Z"
   },
   {
    "duration": 25,
    "start_time": "2022-02-01T12:37:54.020Z"
   },
   {
    "duration": 23,
    "start_time": "2022-02-01T12:37:54.048Z"
   },
   {
    "duration": 18,
    "start_time": "2022-02-01T12:37:54.074Z"
   },
   {
    "duration": 9,
    "start_time": "2022-02-01T12:37:54.095Z"
   },
   {
    "duration": 9,
    "start_time": "2022-02-01T12:37:54.133Z"
   },
   {
    "duration": 20,
    "start_time": "2022-02-01T12:37:54.145Z"
   },
   {
    "duration": 71,
    "start_time": "2022-02-01T12:37:54.167Z"
   },
   {
    "duration": 32,
    "start_time": "2022-02-01T12:37:54.241Z"
   },
   {
    "duration": 7,
    "start_time": "2022-02-01T12:37:54.275Z"
   },
   {
    "duration": 13,
    "start_time": "2022-02-01T12:37:54.284Z"
   },
   {
    "duration": 58,
    "start_time": "2022-02-01T12:37:54.300Z"
   },
   {
    "duration": 23,
    "start_time": "2022-02-01T12:37:54.361Z"
   },
   {
    "duration": 13,
    "start_time": "2022-02-01T12:37:54.387Z"
   },
   {
    "duration": 40,
    "start_time": "2022-02-01T12:37:54.402Z"
   },
   {
    "duration": 15,
    "start_time": "2022-02-01T12:37:54.444Z"
   },
   {
    "duration": 28,
    "start_time": "2022-02-01T12:37:54.462Z"
   },
   {
    "duration": 49,
    "start_time": "2022-02-01T12:37:54.494Z"
   },
   {
    "duration": 6,
    "start_time": "2022-02-01T12:37:54.546Z"
   },
   {
    "duration": 10,
    "start_time": "2022-02-01T12:37:54.554Z"
   },
   {
    "duration": 21,
    "start_time": "2022-02-01T12:37:54.566Z"
   },
   {
    "duration": 172,
    "start_time": "2022-02-01T12:37:54.589Z"
   },
   {
    "duration": 8031,
    "start_time": "2022-02-01T12:37:54.763Z"
   },
   {
    "duration": -45610,
    "start_time": "2022-02-01T12:38:48.406Z"
   },
   {
    "duration": -45610,
    "start_time": "2022-02-01T12:38:48.408Z"
   },
   {
    "duration": -45610,
    "start_time": "2022-02-01T12:38:48.409Z"
   },
   {
    "duration": -45611,
    "start_time": "2022-02-01T12:38:48.411Z"
   },
   {
    "duration": -45612,
    "start_time": "2022-02-01T12:38:48.413Z"
   },
   {
    "duration": -45611,
    "start_time": "2022-02-01T12:38:48.414Z"
   },
   {
    "duration": -45612,
    "start_time": "2022-02-01T12:38:48.416Z"
   },
   {
    "duration": -45623,
    "start_time": "2022-02-01T12:38:48.428Z"
   },
   {
    "duration": -45623,
    "start_time": "2022-02-01T12:38:48.430Z"
   },
   {
    "duration": -45624,
    "start_time": "2022-02-01T12:38:48.432Z"
   },
   {
    "duration": -45625,
    "start_time": "2022-02-01T12:38:48.434Z"
   },
   {
    "duration": -45625,
    "start_time": "2022-02-01T12:38:48.435Z"
   },
   {
    "duration": 10,
    "start_time": "2022-02-01T12:38:59.021Z"
   },
   {
    "duration": 1815,
    "start_time": "2022-02-01T12:39:27.158Z"
   },
   {
    "duration": 27,
    "start_time": "2022-02-01T12:39:28.976Z"
   },
   {
    "duration": 25,
    "start_time": "2022-02-01T12:39:29.006Z"
   },
   {
    "duration": 18,
    "start_time": "2022-02-01T12:39:29.034Z"
   },
   {
    "duration": 15,
    "start_time": "2022-02-01T12:39:29.055Z"
   },
   {
    "duration": 16,
    "start_time": "2022-02-01T12:39:29.072Z"
   },
   {
    "duration": 20,
    "start_time": "2022-02-01T12:39:29.091Z"
   },
   {
    "duration": 59,
    "start_time": "2022-02-01T12:39:29.113Z"
   },
   {
    "duration": 32,
    "start_time": "2022-02-01T12:39:29.175Z"
   },
   {
    "duration": 25,
    "start_time": "2022-02-01T12:39:29.210Z"
   },
   {
    "duration": 11,
    "start_time": "2022-02-01T12:39:29.238Z"
   },
   {
    "duration": 29,
    "start_time": "2022-02-01T12:39:29.252Z"
   },
   {
    "duration": 52,
    "start_time": "2022-02-01T12:39:29.284Z"
   },
   {
    "duration": 14,
    "start_time": "2022-02-01T12:39:29.338Z"
   },
   {
    "duration": 16,
    "start_time": "2022-02-01T12:39:29.354Z"
   },
   {
    "duration": 19,
    "start_time": "2022-02-01T12:39:29.372Z"
   },
   {
    "duration": 53,
    "start_time": "2022-02-01T12:39:29.393Z"
   },
   {
    "duration": 21,
    "start_time": "2022-02-01T12:39:29.449Z"
   },
   {
    "duration": 7,
    "start_time": "2022-02-01T12:39:29.472Z"
   },
   {
    "duration": 8,
    "start_time": "2022-02-01T12:39:29.481Z"
   },
   {
    "duration": 42,
    "start_time": "2022-02-01T12:39:29.491Z"
   },
   {
    "duration": 156,
    "start_time": "2022-02-01T12:39:29.536Z"
   },
   {
    "duration": 11,
    "start_time": "2022-02-01T12:39:29.695Z"
   },
   {
    "duration": 8798,
    "start_time": "2022-02-01T12:39:29.708Z"
   },
   {
    "duration": -45673,
    "start_time": "2022-02-01T12:40:24.184Z"
   },
   {
    "duration": -45673,
    "start_time": "2022-02-01T12:40:24.186Z"
   },
   {
    "duration": -45672,
    "start_time": "2022-02-01T12:40:24.187Z"
   },
   {
    "duration": -45672,
    "start_time": "2022-02-01T12:40:24.189Z"
   },
   {
    "duration": -45672,
    "start_time": "2022-02-01T12:40:24.191Z"
   },
   {
    "duration": -45672,
    "start_time": "2022-02-01T12:40:24.193Z"
   },
   {
    "duration": -45671,
    "start_time": "2022-02-01T12:40:24.194Z"
   },
   {
    "duration": -45671,
    "start_time": "2022-02-01T12:40:24.196Z"
   },
   {
    "duration": -45673,
    "start_time": "2022-02-01T12:40:24.199Z"
   },
   {
    "duration": -45674,
    "start_time": "2022-02-01T12:40:24.201Z"
   },
   {
    "duration": -45674,
    "start_time": "2022-02-01T12:40:24.203Z"
   },
   {
    "duration": -45675,
    "start_time": "2022-02-01T12:40:24.205Z"
   },
   {
    "duration": 8344,
    "start_time": "2022-02-01T12:40:47.872Z"
   },
   {
    "duration": -46464,
    "start_time": "2022-02-01T12:41:55.395Z"
   },
   {
    "duration": 1788,
    "start_time": "2022-02-01T12:41:12.379Z"
   },
   {
    "duration": 27,
    "start_time": "2022-02-01T12:41:14.170Z"
   },
   {
    "duration": 21,
    "start_time": "2022-02-01T12:41:14.200Z"
   },
   {
    "duration": 18,
    "start_time": "2022-02-01T12:41:14.224Z"
   },
   {
    "duration": 8,
    "start_time": "2022-02-01T12:41:14.244Z"
   },
   {
    "duration": 9,
    "start_time": "2022-02-01T12:41:14.254Z"
   },
   {
    "duration": 15,
    "start_time": "2022-02-01T12:41:14.266Z"
   },
   {
    "duration": 87,
    "start_time": "2022-02-01T12:41:14.285Z"
   },
   {
    "duration": 32,
    "start_time": "2022-02-01T12:41:14.374Z"
   },
   {
    "duration": 7,
    "start_time": "2022-02-01T12:41:14.408Z"
   },
   {
    "duration": 11,
    "start_time": "2022-02-01T12:41:14.432Z"
   },
   {
    "duration": 35,
    "start_time": "2022-02-01T12:41:14.445Z"
   },
   {
    "duration": 25,
    "start_time": "2022-02-01T12:41:14.482Z"
   },
   {
    "duration": 13,
    "start_time": "2022-02-01T12:41:14.532Z"
   },
   {
    "duration": 12,
    "start_time": "2022-02-01T12:41:14.548Z"
   },
   {
    "duration": 15,
    "start_time": "2022-02-01T12:41:14.562Z"
   },
   {
    "duration": 59,
    "start_time": "2022-02-01T12:41:14.579Z"
   },
   {
    "duration": 20,
    "start_time": "2022-02-01T12:41:14.640Z"
   },
   {
    "duration": 6,
    "start_time": "2022-02-01T12:41:14.662Z"
   },
   {
    "duration": 9,
    "start_time": "2022-02-01T12:41:14.670Z"
   },
   {
    "duration": 19,
    "start_time": "2022-02-01T12:41:14.682Z"
   },
   {
    "duration": 168,
    "start_time": "2022-02-01T12:41:14.703Z"
   },
   {
    "duration": 10,
    "start_time": "2022-02-01T12:41:14.875Z"
   },
   {
    "duration": 456,
    "start_time": "2022-02-01T12:41:14.888Z"
   },
   {
    "duration": 44,
    "start_time": "2022-02-01T12:41:15.347Z"
   },
   {
    "duration": 71,
    "start_time": "2022-02-01T12:41:15.394Z"
   },
   {
    "duration": 28,
    "start_time": "2022-02-01T12:41:15.468Z"
   },
   {
    "duration": 56,
    "start_time": "2022-02-01T12:41:15.499Z"
   },
   {
    "duration": 41,
    "start_time": "2022-02-01T12:41:15.558Z"
   },
   {
    "duration": 497,
    "start_time": "2022-02-01T12:41:15.602Z"
   },
   {
    "duration": 494,
    "start_time": "2022-02-01T12:41:16.102Z"
   },
   {
    "duration": 559,
    "start_time": "2022-02-01T12:41:16.598Z"
   },
   {
    "duration": 10,
    "start_time": "2022-02-01T12:41:17.160Z"
   },
   {
    "duration": 7,
    "start_time": "2022-02-01T12:41:17.173Z"
   },
   {
    "duration": 74,
    "start_time": "2022-02-01T12:41:17.183Z"
   },
   {
    "duration": 8,
    "start_time": "2022-02-01T12:41:17.260Z"
   },
   {
    "duration": 7172,
    "start_time": "2022-02-01T12:42:30.583Z"
   },
   {
    "duration": 6958,
    "start_time": "2022-02-01T12:43:01.452Z"
   },
   {
    "duration": 7495,
    "start_time": "2022-02-01T12:43:30.381Z"
   },
   {
    "duration": 8967,
    "start_time": "2022-02-01T12:44:12.516Z"
   },
   {
    "duration": 1742,
    "start_time": "2022-02-01T12:44:31.803Z"
   },
   {
    "duration": 28,
    "start_time": "2022-02-01T12:44:33.548Z"
   },
   {
    "duration": 23,
    "start_time": "2022-02-01T12:44:33.581Z"
   },
   {
    "duration": 31,
    "start_time": "2022-02-01T12:44:33.607Z"
   },
   {
    "duration": 9,
    "start_time": "2022-02-01T12:44:33.640Z"
   },
   {
    "duration": 11,
    "start_time": "2022-02-01T12:44:33.651Z"
   },
   {
    "duration": 16,
    "start_time": "2022-02-01T12:44:33.664Z"
   },
   {
    "duration": 81,
    "start_time": "2022-02-01T12:44:33.683Z"
   },
   {
    "duration": 31,
    "start_time": "2022-02-01T12:44:33.768Z"
   },
   {
    "duration": 30,
    "start_time": "2022-02-01T12:44:33.802Z"
   },
   {
    "duration": 12,
    "start_time": "2022-02-01T12:44:33.834Z"
   },
   {
    "duration": 36,
    "start_time": "2022-02-01T12:44:33.849Z"
   },
   {
    "duration": 45,
    "start_time": "2022-02-01T12:44:33.887Z"
   },
   {
    "duration": 14,
    "start_time": "2022-02-01T12:44:33.934Z"
   },
   {
    "duration": 16,
    "start_time": "2022-02-01T12:44:33.951Z"
   },
   {
    "duration": 13,
    "start_time": "2022-02-01T12:44:33.969Z"
   },
   {
    "duration": 56,
    "start_time": "2022-02-01T12:44:33.984Z"
   },
   {
    "duration": 20,
    "start_time": "2022-02-01T12:44:34.043Z"
   },
   {
    "duration": 6,
    "start_time": "2022-02-01T12:44:34.065Z"
   },
   {
    "duration": 9,
    "start_time": "2022-02-01T12:44:34.073Z"
   },
   {
    "duration": 20,
    "start_time": "2022-02-01T12:44:34.084Z"
   },
   {
    "duration": 495,
    "start_time": "2022-02-01T12:44:34.107Z"
   },
   {
    "duration": -45637,
    "start_time": "2022-02-01T12:45:20.242Z"
   },
   {
    "duration": -45705,
    "start_time": "2022-02-01T12:45:20.311Z"
   },
   {
    "duration": -45705,
    "start_time": "2022-02-01T12:45:20.313Z"
   },
   {
    "duration": -45705,
    "start_time": "2022-02-01T12:45:20.314Z"
   },
   {
    "duration": -45706,
    "start_time": "2022-02-01T12:45:20.316Z"
   },
   {
    "duration": -45705,
    "start_time": "2022-02-01T12:45:20.317Z"
   },
   {
    "duration": -45706,
    "start_time": "2022-02-01T12:45:20.319Z"
   },
   {
    "duration": -45707,
    "start_time": "2022-02-01T12:45:20.321Z"
   },
   {
    "duration": -45710,
    "start_time": "2022-02-01T12:45:20.326Z"
   },
   {
    "duration": -45712,
    "start_time": "2022-02-01T12:45:20.329Z"
   },
   {
    "duration": -45712,
    "start_time": "2022-02-01T12:45:20.330Z"
   },
   {
    "duration": -45712,
    "start_time": "2022-02-01T12:45:20.332Z"
   },
   {
    "duration": -45713,
    "start_time": "2022-02-01T12:45:20.334Z"
   },
   {
    "duration": -45713,
    "start_time": "2022-02-01T12:45:20.336Z"
   },
   {
    "duration": 1889,
    "start_time": "2022-02-01T12:45:42.638Z"
   },
   {
    "duration": 27,
    "start_time": "2022-02-01T12:45:44.531Z"
   },
   {
    "duration": 22,
    "start_time": "2022-02-01T12:45:44.561Z"
   },
   {
    "duration": 18,
    "start_time": "2022-02-01T12:45:44.586Z"
   },
   {
    "duration": 29,
    "start_time": "2022-02-01T12:45:44.607Z"
   },
   {
    "duration": 14,
    "start_time": "2022-02-01T12:45:44.638Z"
   },
   {
    "duration": 17,
    "start_time": "2022-02-01T12:45:44.654Z"
   },
   {
    "duration": 71,
    "start_time": "2022-02-01T12:45:44.676Z"
   },
   {
    "duration": 32,
    "start_time": "2022-02-01T12:45:44.750Z"
   },
   {
    "duration": 6,
    "start_time": "2022-02-01T12:45:44.785Z"
   },
   {
    "duration": 14,
    "start_time": "2022-02-01T12:45:44.794Z"
   },
   {
    "duration": 33,
    "start_time": "2022-02-01T12:45:44.833Z"
   },
   {
    "duration": 25,
    "start_time": "2022-02-01T12:45:44.869Z"
   },
   {
    "duration": 39,
    "start_time": "2022-02-01T12:45:44.896Z"
   },
   {
    "duration": 11,
    "start_time": "2022-02-01T12:45:44.938Z"
   },
   {
    "duration": 18,
    "start_time": "2022-02-01T12:45:44.951Z"
   },
   {
    "duration": 30,
    "start_time": "2022-02-01T12:45:44.972Z"
   },
   {
    "duration": 45,
    "start_time": "2022-02-01T12:45:45.004Z"
   },
   {
    "duration": 7,
    "start_time": "2022-02-01T12:45:45.051Z"
   },
   {
    "duration": 18,
    "start_time": "2022-02-01T12:45:45.060Z"
   },
   {
    "duration": 23,
    "start_time": "2022-02-01T12:45:45.080Z"
   },
   {
    "duration": 167,
    "start_time": "2022-02-01T12:45:45.106Z"
   },
   {
    "duration": 11,
    "start_time": "2022-02-01T12:45:45.278Z"
   },
   {
    "duration": 8318,
    "start_time": "2022-02-01T12:45:45.292Z"
   },
   {
    "duration": -45617,
    "start_time": "2022-02-01T12:46:39.230Z"
   },
   {
    "duration": -45619,
    "start_time": "2022-02-01T12:46:39.233Z"
   },
   {
    "duration": -45619,
    "start_time": "2022-02-01T12:46:39.235Z"
   },
   {
    "duration": -45619,
    "start_time": "2022-02-01T12:46:39.237Z"
   },
   {
    "duration": -45627,
    "start_time": "2022-02-01T12:46:39.247Z"
   },
   {
    "duration": -45629,
    "start_time": "2022-02-01T12:46:39.250Z"
   },
   {
    "duration": -45628,
    "start_time": "2022-02-01T12:46:39.251Z"
   },
   {
    "duration": -45629,
    "start_time": "2022-02-01T12:46:39.253Z"
   },
   {
    "duration": -45629,
    "start_time": "2022-02-01T12:46:39.255Z"
   },
   {
    "duration": -45631,
    "start_time": "2022-02-01T12:46:39.258Z"
   },
   {
    "duration": -45632,
    "start_time": "2022-02-01T12:46:39.260Z"
   },
   {
    "duration": -45632,
    "start_time": "2022-02-01T12:46:39.262Z"
   },
   {
    "duration": 8416,
    "start_time": "2022-02-01T12:46:39.883Z"
   },
   {
    "duration": 1860,
    "start_time": "2022-02-01T12:46:59.930Z"
   },
   {
    "duration": 27,
    "start_time": "2022-02-01T12:47:01.793Z"
   },
   {
    "duration": 32,
    "start_time": "2022-02-01T12:47:01.823Z"
   },
   {
    "duration": 18,
    "start_time": "2022-02-01T12:47:01.858Z"
   },
   {
    "duration": 21,
    "start_time": "2022-02-01T12:47:01.878Z"
   },
   {
    "duration": 19,
    "start_time": "2022-02-01T12:47:01.901Z"
   },
   {
    "duration": 25,
    "start_time": "2022-02-01T12:47:01.922Z"
   },
   {
    "duration": 44,
    "start_time": "2022-02-01T12:47:01.951Z"
   },
   {
    "duration": 53,
    "start_time": "2022-02-01T12:47:01.999Z"
   },
   {
    "duration": 8,
    "start_time": "2022-02-01T12:47:02.055Z"
   },
   {
    "duration": 12,
    "start_time": "2022-02-01T12:47:02.065Z"
   },
   {
    "duration": 63,
    "start_time": "2022-02-01T12:47:02.080Z"
   },
   {
    "duration": 26,
    "start_time": "2022-02-01T12:47:02.146Z"
   },
   {
    "duration": 13,
    "start_time": "2022-02-01T12:47:02.174Z"
   },
   {
    "duration": 12,
    "start_time": "2022-02-01T12:47:02.190Z"
   },
   {
    "duration": 38,
    "start_time": "2022-02-01T12:47:02.204Z"
   },
   {
    "duration": 40,
    "start_time": "2022-02-01T12:47:02.244Z"
   },
   {
    "duration": 21,
    "start_time": "2022-02-01T12:47:02.286Z"
   },
   {
    "duration": 22,
    "start_time": "2022-02-01T12:47:02.310Z"
   },
   {
    "duration": 9,
    "start_time": "2022-02-01T12:47:02.335Z"
   },
   {
    "duration": 20,
    "start_time": "2022-02-01T12:47:02.347Z"
   },
   {
    "duration": 172,
    "start_time": "2022-02-01T12:47:02.370Z"
   },
   {
    "duration": 12,
    "start_time": "2022-02-01T12:47:02.549Z"
   },
   {
    "duration": 8391,
    "start_time": "2022-02-01T12:47:02.565Z"
   },
   {
    "duration": -45637,
    "start_time": "2022-02-01T12:47:56.596Z"
   },
   {
    "duration": -45666,
    "start_time": "2022-02-01T12:47:56.627Z"
   },
   {
    "duration": -45672,
    "start_time": "2022-02-01T12:47:56.634Z"
   },
   {
    "duration": -45675,
    "start_time": "2022-02-01T12:47:56.639Z"
   },
   {
    "duration": -45678,
    "start_time": "2022-02-01T12:47:56.643Z"
   },
   {
    "duration": -45680,
    "start_time": "2022-02-01T12:47:56.646Z"
   },
   {
    "duration": -45681,
    "start_time": "2022-02-01T12:47:56.649Z"
   },
   {
    "duration": -45683,
    "start_time": "2022-02-01T12:47:56.652Z"
   },
   {
    "duration": -45683,
    "start_time": "2022-02-01T12:47:56.654Z"
   },
   {
    "duration": -45688,
    "start_time": "2022-02-01T12:47:56.661Z"
   },
   {
    "duration": -45689,
    "start_time": "2022-02-01T12:47:56.663Z"
   },
   {
    "duration": -45690,
    "start_time": "2022-02-01T12:47:56.665Z"
   },
   {
    "duration": 8523,
    "start_time": "2022-02-01T12:47:36.120Z"
   },
   {
    "duration": 8828,
    "start_time": "2022-02-01T12:49:28.195Z"
   },
   {
    "duration": 1780,
    "start_time": "2022-02-01T12:49:48.346Z"
   },
   {
    "duration": 28,
    "start_time": "2022-02-01T12:49:50.129Z"
   },
   {
    "duration": 25,
    "start_time": "2022-02-01T12:49:50.163Z"
   },
   {
    "duration": 47,
    "start_time": "2022-02-01T12:49:50.190Z"
   },
   {
    "duration": 9,
    "start_time": "2022-02-01T12:49:50.239Z"
   },
   {
    "duration": 11,
    "start_time": "2022-02-01T12:49:50.250Z"
   },
   {
    "duration": 17,
    "start_time": "2022-02-01T12:49:50.264Z"
   },
   {
    "duration": 79,
    "start_time": "2022-02-01T12:49:50.285Z"
   },
   {
    "duration": 33,
    "start_time": "2022-02-01T12:49:50.367Z"
   },
   {
    "duration": 7,
    "start_time": "2022-02-01T12:49:50.402Z"
   },
   {
    "duration": 31,
    "start_time": "2022-02-01T12:49:50.411Z"
   },
   {
    "duration": 32,
    "start_time": "2022-02-01T12:49:50.445Z"
   },
   {
    "duration": 22,
    "start_time": "2022-02-01T12:49:50.479Z"
   },
   {
    "duration": 38,
    "start_time": "2022-02-01T12:49:50.504Z"
   },
   {
    "duration": 9,
    "start_time": "2022-02-01T12:49:50.545Z"
   },
   {
    "duration": 14,
    "start_time": "2022-02-01T12:49:50.556Z"
   },
   {
    "duration": 29,
    "start_time": "2022-02-01T12:49:50.572Z"
   },
   {
    "duration": 45,
    "start_time": "2022-02-01T12:49:50.603Z"
   },
   {
    "duration": 7,
    "start_time": "2022-02-01T12:49:50.650Z"
   },
   {
    "duration": 7,
    "start_time": "2022-02-01T12:49:50.659Z"
   },
   {
    "duration": 17,
    "start_time": "2022-02-01T12:49:50.668Z"
   },
   {
    "duration": 171,
    "start_time": "2022-02-01T12:49:50.688Z"
   },
   {
    "duration": 12,
    "start_time": "2022-02-01T12:49:50.862Z"
   },
   {
    "duration": 484,
    "start_time": "2022-02-01T12:49:50.877Z"
   },
   {
    "duration": 68,
    "start_time": "2022-02-01T12:49:51.364Z"
   },
   {
    "duration": 47,
    "start_time": "2022-02-01T12:49:51.438Z"
   },
   {
    "duration": 52,
    "start_time": "2022-02-01T12:49:51.489Z"
   },
   {
    "duration": 26,
    "start_time": "2022-02-01T12:49:51.544Z"
   },
   {
    "duration": 66,
    "start_time": "2022-02-01T12:49:51.572Z"
   },
   {
    "duration": 480,
    "start_time": "2022-02-01T12:49:51.641Z"
   },
   {
    "duration": 496,
    "start_time": "2022-02-01T12:49:52.124Z"
   },
   {
    "duration": 550,
    "start_time": "2022-02-01T12:49:52.622Z"
   },
   {
    "duration": 11,
    "start_time": "2022-02-01T12:49:53.174Z"
   },
   {
    "duration": 11,
    "start_time": "2022-02-01T12:49:53.187Z"
   },
   {
    "duration": 73,
    "start_time": "2022-02-01T12:49:53.201Z"
   },
   {
    "duration": 11,
    "start_time": "2022-02-01T12:49:53.276Z"
   },
   {
    "duration": 8272,
    "start_time": "2022-02-01T12:53:15.548Z"
   },
   {
    "duration": 6792,
    "start_time": "2022-02-01T12:54:09.892Z"
   },
   {
    "duration": 7103,
    "start_time": "2022-02-01T12:56:00.663Z"
   },
   {
    "duration": 1867,
    "start_time": "2022-02-01T12:56:21.639Z"
   },
   {
    "duration": 28,
    "start_time": "2022-02-01T12:56:23.510Z"
   },
   {
    "duration": 23,
    "start_time": "2022-02-01T12:56:23.541Z"
   },
   {
    "duration": 18,
    "start_time": "2022-02-01T12:56:23.567Z"
   },
   {
    "duration": 15,
    "start_time": "2022-02-01T12:56:23.588Z"
   },
   {
    "duration": 34,
    "start_time": "2022-02-01T12:56:23.606Z"
   },
   {
    "duration": 19,
    "start_time": "2022-02-01T12:56:23.642Z"
   },
   {
    "duration": 44,
    "start_time": "2022-02-01T12:56:23.663Z"
   },
   {
    "duration": 32,
    "start_time": "2022-02-01T12:56:23.733Z"
   },
   {
    "duration": 6,
    "start_time": "2022-02-01T12:56:23.768Z"
   },
   {
    "duration": 12,
    "start_time": "2022-02-01T12:56:23.777Z"
   },
   {
    "duration": 61,
    "start_time": "2022-02-01T12:56:23.791Z"
   },
   {
    "duration": 24,
    "start_time": "2022-02-01T12:56:23.854Z"
   },
   {
    "duration": 13,
    "start_time": "2022-02-01T12:56:23.881Z"
   },
   {
    "duration": 36,
    "start_time": "2022-02-01T12:56:23.896Z"
   },
   {
    "duration": 14,
    "start_time": "2022-02-01T12:56:23.934Z"
   },
   {
    "duration": 32,
    "start_time": "2022-02-01T12:56:23.950Z"
   },
   {
    "duration": 20,
    "start_time": "2022-02-01T12:56:23.984Z"
   },
   {
    "duration": 31,
    "start_time": "2022-02-01T12:56:24.006Z"
   },
   {
    "duration": 9,
    "start_time": "2022-02-01T12:56:24.039Z"
   },
   {
    "duration": 18,
    "start_time": "2022-02-01T12:56:24.050Z"
   },
   {
    "duration": 479,
    "start_time": "2022-02-01T12:56:24.070Z"
   },
   {
    "duration": -45577,
    "start_time": "2022-02-01T12:57:10.129Z"
   },
   {
    "duration": -45605,
    "start_time": "2022-02-01T12:57:10.158Z"
   },
   {
    "duration": -45606,
    "start_time": "2022-02-01T12:57:10.161Z"
   },
   {
    "duration": -45607,
    "start_time": "2022-02-01T12:57:10.163Z"
   },
   {
    "duration": -45607,
    "start_time": "2022-02-01T12:57:10.165Z"
   },
   {
    "duration": -45607,
    "start_time": "2022-02-01T12:57:10.166Z"
   },
   {
    "duration": -45607,
    "start_time": "2022-02-01T12:57:10.168Z"
   },
   {
    "duration": -45613,
    "start_time": "2022-02-01T12:57:10.176Z"
   },
   {
    "duration": -45615,
    "start_time": "2022-02-01T12:57:10.179Z"
   },
   {
    "duration": -45615,
    "start_time": "2022-02-01T12:57:10.181Z"
   },
   {
    "duration": -45616,
    "start_time": "2022-02-01T12:57:10.183Z"
   },
   {
    "duration": -45616,
    "start_time": "2022-02-01T12:57:10.185Z"
   },
   {
    "duration": -45622,
    "start_time": "2022-02-01T12:57:10.192Z"
   },
   {
    "duration": -45624,
    "start_time": "2022-02-01T12:57:10.195Z"
   },
   {
    "duration": 158,
    "start_time": "2022-02-01T12:57:13.301Z"
   },
   {
    "duration": 6916,
    "start_time": "2022-02-01T12:57:41.838Z"
   },
   {
    "duration": 1847,
    "start_time": "2022-02-01T12:57:57.441Z"
   },
   {
    "duration": 30,
    "start_time": "2022-02-01T12:57:59.291Z"
   },
   {
    "duration": 23,
    "start_time": "2022-02-01T12:57:59.324Z"
   },
   {
    "duration": 18,
    "start_time": "2022-02-01T12:57:59.350Z"
   },
   {
    "duration": 8,
    "start_time": "2022-02-01T12:57:59.371Z"
   },
   {
    "duration": 12,
    "start_time": "2022-02-01T12:57:59.382Z"
   },
   {
    "duration": 54,
    "start_time": "2022-02-01T12:57:59.396Z"
   },
   {
    "duration": 47,
    "start_time": "2022-02-01T12:57:59.453Z"
   },
   {
    "duration": 56,
    "start_time": "2022-02-01T12:57:59.504Z"
   },
   {
    "duration": 7,
    "start_time": "2022-02-01T12:57:59.563Z"
   },
   {
    "duration": 13,
    "start_time": "2022-02-01T12:57:59.572Z"
   },
   {
    "duration": 61,
    "start_time": "2022-02-01T12:57:59.587Z"
   },
   {
    "duration": 24,
    "start_time": "2022-02-01T12:57:59.650Z"
   },
   {
    "duration": 15,
    "start_time": "2022-02-01T12:57:59.677Z"
   },
   {
    "duration": 51,
    "start_time": "2022-02-01T12:57:59.695Z"
   },
   {
    "duration": 18,
    "start_time": "2022-02-01T12:57:59.748Z"
   },
   {
    "duration": 31,
    "start_time": "2022-02-01T12:57:59.768Z"
   },
   {
    "duration": 42,
    "start_time": "2022-02-01T12:57:59.802Z"
   },
   {
    "duration": 7,
    "start_time": "2022-02-01T12:57:59.847Z"
   },
   {
    "duration": 11,
    "start_time": "2022-02-01T12:57:59.858Z"
   },
   {
    "duration": 23,
    "start_time": "2022-02-01T12:57:59.871Z"
   },
   {
    "duration": 187,
    "start_time": "2022-02-01T12:57:59.897Z"
   },
   {
    "duration": 11,
    "start_time": "2022-02-01T12:58:00.086Z"
   },
   {
    "duration": 454,
    "start_time": "2022-02-01T12:58:00.100Z"
   },
   {
    "duration": 48,
    "start_time": "2022-02-01T12:58:00.557Z"
   },
   {
    "duration": 69,
    "start_time": "2022-02-01T12:58:00.608Z"
   },
   {
    "duration": 50,
    "start_time": "2022-02-01T12:58:00.684Z"
   },
   {
    "duration": 28,
    "start_time": "2022-02-01T12:58:00.737Z"
   },
   {
    "duration": 67,
    "start_time": "2022-02-01T12:58:00.768Z"
   },
   {
    "duration": 517,
    "start_time": "2022-02-01T12:58:00.838Z"
   },
   {
    "duration": 502,
    "start_time": "2022-02-01T12:58:01.358Z"
   },
   {
    "duration": 553,
    "start_time": "2022-02-01T12:58:01.863Z"
   },
   {
    "duration": 21,
    "start_time": "2022-02-01T12:58:02.419Z"
   },
   {
    "duration": 9,
    "start_time": "2022-02-01T12:58:02.442Z"
   },
   {
    "duration": 47,
    "start_time": "2022-02-01T12:58:02.453Z"
   },
   {
    "duration": 34,
    "start_time": "2022-02-01T12:58:02.502Z"
   },
   {
    "duration": 7,
    "start_time": "2022-02-01T12:59:11.723Z"
   },
   {
    "duration": 11,
    "start_time": "2022-02-01T13:00:41.999Z"
   },
   {
    "duration": 7,
    "start_time": "2022-02-01T13:00:49.256Z"
   },
   {
    "duration": 9,
    "start_time": "2022-02-01T13:00:54.366Z"
   },
   {
    "duration": 7,
    "start_time": "2022-02-01T13:01:42.914Z"
   },
   {
    "duration": 1885,
    "start_time": "2022-02-01T13:03:47.605Z"
   },
   {
    "duration": 31,
    "start_time": "2022-02-01T13:03:49.497Z"
   },
   {
    "duration": 23,
    "start_time": "2022-02-01T13:03:49.532Z"
   },
   {
    "duration": 20,
    "start_time": "2022-02-01T13:03:49.558Z"
   },
   {
    "duration": 9,
    "start_time": "2022-02-01T13:03:49.580Z"
   },
   {
    "duration": 50,
    "start_time": "2022-02-01T13:03:49.591Z"
   },
   {
    "duration": 25,
    "start_time": "2022-02-01T13:03:49.644Z"
   },
   {
    "duration": 64,
    "start_time": "2022-02-01T13:03:49.675Z"
   },
   {
    "duration": 32,
    "start_time": "2022-02-01T13:03:49.742Z"
   },
   {
    "duration": 6,
    "start_time": "2022-02-01T13:03:49.777Z"
   },
   {
    "duration": 18,
    "start_time": "2022-02-01T13:03:49.785Z"
   },
   {
    "duration": 56,
    "start_time": "2022-02-01T13:03:49.805Z"
   },
   {
    "duration": 25,
    "start_time": "2022-02-01T13:03:49.864Z"
   },
   {
    "duration": 13,
    "start_time": "2022-02-01T13:03:49.892Z"
   },
   {
    "duration": 32,
    "start_time": "2022-02-01T13:03:49.908Z"
   },
   {
    "duration": 15,
    "start_time": "2022-02-01T13:03:49.942Z"
   },
   {
    "duration": 29,
    "start_time": "2022-02-01T13:03:49.960Z"
   },
   {
    "duration": 49,
    "start_time": "2022-02-01T13:03:49.991Z"
   },
   {
    "duration": 8,
    "start_time": "2022-02-01T13:03:50.042Z"
   },
   {
    "duration": 10,
    "start_time": "2022-02-01T13:03:50.053Z"
   },
   {
    "duration": 18,
    "start_time": "2022-02-01T13:03:50.066Z"
   },
   {
    "duration": 187,
    "start_time": "2022-02-01T13:03:50.087Z"
   },
   {
    "duration": 11,
    "start_time": "2022-02-01T13:03:50.281Z"
   },
   {
    "duration": 463,
    "start_time": "2022-02-01T13:03:50.295Z"
   },
   {
    "duration": 48,
    "start_time": "2022-02-01T13:03:50.761Z"
   },
   {
    "duration": 62,
    "start_time": "2022-02-01T13:03:50.812Z"
   },
   {
    "duration": 27,
    "start_time": "2022-02-01T13:03:50.876Z"
   },
   {
    "duration": 27,
    "start_time": "2022-02-01T13:03:50.932Z"
   },
   {
    "duration": 71,
    "start_time": "2022-02-01T13:03:50.961Z"
   },
   {
    "duration": 472,
    "start_time": "2022-02-01T13:03:51.034Z"
   },
   {
    "duration": 471,
    "start_time": "2022-02-01T13:03:51.509Z"
   },
   {
    "duration": 557,
    "start_time": "2022-02-01T13:03:51.983Z"
   },
   {
    "duration": 11,
    "start_time": "2022-02-01T13:03:52.543Z"
   },
   {
    "duration": 7,
    "start_time": "2022-02-01T13:03:52.557Z"
   },
   {
    "duration": 74,
    "start_time": "2022-02-01T13:03:52.567Z"
   },
   {
    "duration": 7,
    "start_time": "2022-02-01T13:03:52.643Z"
   },
   {
    "duration": 7273,
    "start_time": "2022-02-01T13:08:25.264Z"
   },
   {
    "duration": 7202,
    "start_time": "2022-02-01T13:09:04.400Z"
   },
   {
    "duration": 1984,
    "start_time": "2022-02-01T13:09:30.657Z"
   },
   {
    "duration": 30,
    "start_time": "2022-02-01T13:09:32.643Z"
   },
   {
    "duration": 26,
    "start_time": "2022-02-01T13:09:32.677Z"
   },
   {
    "duration": 41,
    "start_time": "2022-02-01T13:09:32.707Z"
   },
   {
    "duration": 11,
    "start_time": "2022-02-01T13:09:32.751Z"
   },
   {
    "duration": 22,
    "start_time": "2022-02-01T13:09:32.765Z"
   },
   {
    "duration": 53,
    "start_time": "2022-02-01T13:09:32.790Z"
   },
   {
    "duration": 63,
    "start_time": "2022-02-01T13:09:32.846Z"
   },
   {
    "duration": 56,
    "start_time": "2022-02-01T13:09:32.915Z"
   },
   {
    "duration": 7,
    "start_time": "2022-02-01T13:09:32.975Z"
   },
   {
    "duration": 13,
    "start_time": "2022-02-01T13:09:32.984Z"
   },
   {
    "duration": 59,
    "start_time": "2022-02-01T13:09:33.000Z"
   },
   {
    "duration": 25,
    "start_time": "2022-02-01T13:09:33.062Z"
   },
   {
    "duration": 13,
    "start_time": "2022-02-01T13:09:33.089Z"
   },
   {
    "duration": 15,
    "start_time": "2022-02-01T13:09:33.132Z"
   },
   {
    "duration": 4,
    "start_time": "2022-02-01T13:09:33.150Z"
   },
   {
    "duration": 21,
    "start_time": "2022-02-01T13:09:33.156Z"
   },
   {
    "duration": 62,
    "start_time": "2022-02-01T13:09:33.180Z"
   },
   {
    "duration": 21,
    "start_time": "2022-02-01T13:09:33.244Z"
   },
   {
    "duration": 6,
    "start_time": "2022-02-01T13:09:33.268Z"
   },
   {
    "duration": 10,
    "start_time": "2022-02-01T13:09:33.278Z"
   },
   {
    "duration": 45,
    "start_time": "2022-02-01T13:09:33.291Z"
   },
   {
    "duration": 275,
    "start_time": "2022-02-01T13:09:33.339Z"
   },
   {
    "duration": 18,
    "start_time": "2022-02-01T13:09:33.617Z"
   },
   {
    "duration": 447,
    "start_time": "2022-02-01T13:09:33.638Z"
   },
   {
    "duration": 59,
    "start_time": "2022-02-01T13:09:34.088Z"
   },
   {
    "duration": 49,
    "start_time": "2022-02-01T13:09:34.152Z"
   },
   {
    "duration": 49,
    "start_time": "2022-02-01T13:09:34.204Z"
   },
   {
    "duration": 30,
    "start_time": "2022-02-01T13:09:34.255Z"
   },
   {
    "duration": 79,
    "start_time": "2022-02-01T13:09:34.287Z"
   },
   {
    "duration": 495,
    "start_time": "2022-02-01T13:09:34.369Z"
   },
   {
    "duration": 502,
    "start_time": "2022-02-01T13:09:34.867Z"
   },
   {
    "duration": 550,
    "start_time": "2022-02-01T13:09:35.371Z"
   },
   {
    "duration": 12,
    "start_time": "2022-02-01T13:09:35.923Z"
   },
   {
    "duration": 9,
    "start_time": "2022-02-01T13:09:35.937Z"
   },
   {
    "duration": 51,
    "start_time": "2022-02-01T13:09:35.948Z"
   },
   {
    "duration": 32,
    "start_time": "2022-02-01T13:09:36.001Z"
   },
   {
    "duration": 1936,
    "start_time": "2022-02-01T13:10:19.740Z"
   },
   {
    "duration": 28,
    "start_time": "2022-02-01T13:10:21.680Z"
   },
   {
    "duration": 23,
    "start_time": "2022-02-01T13:10:21.711Z"
   },
   {
    "duration": 18,
    "start_time": "2022-02-01T13:10:21.737Z"
   },
   {
    "duration": 9,
    "start_time": "2022-02-01T13:10:21.757Z"
   },
   {
    "duration": 11,
    "start_time": "2022-02-01T13:10:21.768Z"
   },
   {
    "duration": 51,
    "start_time": "2022-02-01T13:10:21.781Z"
   },
   {
    "duration": 45,
    "start_time": "2022-02-01T13:10:21.836Z"
   },
   {
    "duration": 49,
    "start_time": "2022-02-01T13:10:21.884Z"
   },
   {
    "duration": 8,
    "start_time": "2022-02-01T13:10:21.936Z"
   },
   {
    "duration": 14,
    "start_time": "2022-02-01T13:10:21.946Z"
   },
   {
    "duration": 34,
    "start_time": "2022-02-01T13:10:21.962Z"
   },
   {
    "duration": 63,
    "start_time": "2022-02-01T13:10:21.998Z"
   },
   {
    "duration": 16,
    "start_time": "2022-02-01T13:10:22.064Z"
   },
   {
    "duration": 14,
    "start_time": "2022-02-01T13:10:22.083Z"
   },
   {
    "duration": 4,
    "start_time": "2022-02-01T13:10:22.099Z"
   },
   {
    "duration": 39,
    "start_time": "2022-02-01T13:10:22.105Z"
   },
   {
    "duration": 27,
    "start_time": "2022-02-01T13:10:22.147Z"
   },
   {
    "duration": 21,
    "start_time": "2022-02-01T13:10:22.176Z"
   },
   {
    "duration": 34,
    "start_time": "2022-02-01T13:10:22.200Z"
   },
   {
    "duration": 10,
    "start_time": "2022-02-01T13:10:22.236Z"
   },
   {
    "duration": 20,
    "start_time": "2022-02-01T13:10:22.248Z"
   },
   {
    "duration": 175,
    "start_time": "2022-02-01T13:10:22.273Z"
   },
   {
    "duration": 9,
    "start_time": "2022-02-01T13:10:22.451Z"
   },
   {
    "duration": 471,
    "start_time": "2022-02-01T13:10:22.462Z"
   },
   {
    "duration": 46,
    "start_time": "2022-02-01T13:10:22.935Z"
   },
   {
    "duration": 75,
    "start_time": "2022-02-01T13:10:22.983Z"
   },
   {
    "duration": 27,
    "start_time": "2022-02-01T13:10:23.061Z"
   },
   {
    "duration": 54,
    "start_time": "2022-02-01T13:10:23.090Z"
   },
   {
    "duration": 44,
    "start_time": "2022-02-01T13:10:23.146Z"
   },
   {
    "duration": 560,
    "start_time": "2022-02-01T13:10:23.192Z"
   },
   {
    "duration": 481,
    "start_time": "2022-02-01T13:10:23.754Z"
   },
   {
    "duration": 666,
    "start_time": "2022-02-01T13:10:24.237Z"
   },
   {
    "duration": 10,
    "start_time": "2022-02-01T13:10:24.907Z"
   },
   {
    "duration": 17,
    "start_time": "2022-02-01T13:10:24.919Z"
   },
   {
    "duration": 51,
    "start_time": "2022-02-01T13:10:24.939Z"
   },
   {
    "duration": 9,
    "start_time": "2022-02-01T13:10:24.993Z"
   },
   {
    "duration": 1436,
    "start_time": "2022-02-01T19:55:08.013Z"
   },
   {
    "duration": 21,
    "start_time": "2022-02-01T19:55:09.450Z"
   },
   {
    "duration": 17,
    "start_time": "2022-02-01T19:55:09.473Z"
   },
   {
    "duration": 15,
    "start_time": "2022-02-01T19:55:09.492Z"
   },
   {
    "duration": 7,
    "start_time": "2022-02-01T19:55:09.509Z"
   },
   {
    "duration": 7,
    "start_time": "2022-02-01T19:55:09.518Z"
   },
   {
    "duration": 12,
    "start_time": "2022-02-01T19:55:09.526Z"
   },
   {
    "duration": 31,
    "start_time": "2022-02-01T19:55:09.540Z"
   },
   {
    "duration": 47,
    "start_time": "2022-02-01T19:55:09.574Z"
   },
   {
    "duration": 6,
    "start_time": "2022-02-01T19:55:09.623Z"
   },
   {
    "duration": 9,
    "start_time": "2022-02-01T19:55:09.631Z"
   },
   {
    "duration": 23,
    "start_time": "2022-02-01T19:55:09.642Z"
   },
   {
    "duration": 46,
    "start_time": "2022-02-01T19:55:09.666Z"
   },
   {
    "duration": 10,
    "start_time": "2022-02-01T19:55:09.714Z"
   },
   {
    "duration": 17,
    "start_time": "2022-02-01T19:55:09.726Z"
   },
   {
    "duration": 3,
    "start_time": "2022-02-01T19:55:09.744Z"
   },
   {
    "duration": 17,
    "start_time": "2022-02-01T19:55:09.749Z"
   },
   {
    "duration": 30,
    "start_time": "2022-02-01T19:55:09.767Z"
   },
   {
    "duration": 19,
    "start_time": "2022-02-01T19:55:09.798Z"
   },
   {
    "duration": 4,
    "start_time": "2022-02-01T19:55:09.819Z"
   },
   {
    "duration": 7,
    "start_time": "2022-02-01T19:55:09.824Z"
   },
   {
    "duration": 13,
    "start_time": "2022-02-01T19:55:09.832Z"
   },
   {
    "duration": 124,
    "start_time": "2022-02-01T19:55:09.846Z"
   },
   {
    "duration": 6,
    "start_time": "2022-02-01T19:55:09.971Z"
   },
   {
    "duration": 378,
    "start_time": "2022-02-01T20:01:33.348Z"
   },
   {
    "duration": 20,
    "start_time": "2022-02-01T20:01:33.728Z"
   },
   {
    "duration": 16,
    "start_time": "2022-02-01T20:01:33.750Z"
   },
   {
    "duration": 14,
    "start_time": "2022-02-01T20:01:33.768Z"
   },
   {
    "duration": 5,
    "start_time": "2022-02-01T20:01:33.784Z"
   },
   {
    "duration": 22,
    "start_time": "2022-02-01T20:01:33.790Z"
   },
   {
    "duration": 8,
    "start_time": "2022-02-01T20:01:33.813Z"
   },
   {
    "duration": 27,
    "start_time": "2022-02-01T20:01:33.822Z"
   },
   {
    "duration": 21,
    "start_time": "2022-02-01T20:01:33.852Z"
   },
   {
    "duration": 5,
    "start_time": "2022-02-01T20:01:33.875Z"
   },
   {
    "duration": 32,
    "start_time": "2022-02-01T20:01:33.882Z"
   },
   {
    "duration": 23,
    "start_time": "2022-02-01T20:01:33.916Z"
   },
   {
    "duration": 18,
    "start_time": "2022-02-01T20:01:33.941Z"
   },
   {
    "duration": 10,
    "start_time": "2022-02-01T20:01:33.960Z"
   },
   {
    "duration": 5,
    "start_time": "2022-02-01T20:01:33.971Z"
   },
   {
    "duration": 3,
    "start_time": "2022-02-01T20:01:33.978Z"
   },
   {
    "duration": 34,
    "start_time": "2022-02-01T20:01:33.982Z"
   },
   {
    "duration": 17,
    "start_time": "2022-02-01T20:01:34.018Z"
   },
   {
    "duration": 14,
    "start_time": "2022-02-01T20:01:34.036Z"
   },
   {
    "duration": 4,
    "start_time": "2022-02-01T20:01:34.052Z"
   },
   {
    "duration": 6,
    "start_time": "2022-02-01T20:01:34.058Z"
   },
   {
    "duration": 13,
    "start_time": "2022-02-01T20:01:34.065Z"
   },
   {
    "duration": 135,
    "start_time": "2022-02-01T20:01:34.079Z"
   },
   {
    "duration": 6,
    "start_time": "2022-02-01T20:01:34.216Z"
   },
   {
    "duration": 267,
    "start_time": "2022-02-01T20:01:34.224Z"
   },
   {
    "duration": 36,
    "start_time": "2022-02-01T20:01:34.492Z"
   },
   {
    "duration": 30,
    "start_time": "2022-02-01T20:01:34.531Z"
   },
   {
    "duration": 18,
    "start_time": "2022-02-01T20:01:34.562Z"
   },
   {
    "duration": 40,
    "start_time": "2022-02-01T20:01:34.582Z"
   },
   {
    "duration": 27,
    "start_time": "2022-02-01T20:01:34.624Z"
   },
   {
    "duration": 321,
    "start_time": "2022-02-01T20:01:34.653Z"
   },
   {
    "duration": 306,
    "start_time": "2022-02-01T20:01:34.975Z"
   },
   {
    "duration": 361,
    "start_time": "2022-02-01T20:01:35.282Z"
   },
   {
    "duration": 5,
    "start_time": "2022-02-01T20:01:35.644Z"
   },
   {
    "duration": 7,
    "start_time": "2022-02-01T20:01:35.651Z"
   },
   {
    "duration": 32,
    "start_time": "2022-02-01T20:01:35.659Z"
   },
   {
    "duration": 21,
    "start_time": "2022-02-01T20:01:35.693Z"
   }
  ],
  "kernelspec": {
   "display_name": "Python 3 (ipykernel)",
   "language": "python",
   "name": "python3"
  },
  "language_info": {
   "codemirror_mode": {
    "name": "ipython",
    "version": 3
   },
   "file_extension": ".py",
   "mimetype": "text/x-python",
   "name": "python",
   "nbconvert_exporter": "python",
   "pygments_lexer": "ipython3",
   "version": "3.9.12"
  },
  "toc": {
   "base_numbering": 1,
   "nav_menu": {},
   "number_sections": true,
   "sideBar": false,
   "skip_h1_title": true,
   "title_cell": "Анализ тарифов",
   "title_sidebar": "",
   "toc_cell": false,
   "toc_position": {
    "height": "calc(100% - 180px)",
    "left": "10px",
    "top": "150px",
    "width": "366.4px"
   },
   "toc_section_display": true,
   "toc_window_display": false
  }
 },
 "nbformat": 4,
 "nbformat_minor": 2
}
